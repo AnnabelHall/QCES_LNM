{
  "cells": [
    {
      "cell_type": "markdown",
      "metadata": {
        "id": "view-in-github",
        "colab_type": "text"
      },
      "source": [
        "<a href=\"https://colab.research.google.com/github/AnnabelHall/QCES_LNM/blob/main/Project2_transport.ipynb\" target=\"_parent\"><img src=\"https://colab.research.google.com/assets/colab-badge.svg\" alt=\"Open In Colab\"/></a>"
      ]
    },
    {
      "cell_type": "markdown",
      "metadata": {
        "id": "_fU5q48lGj7c"
      },
      "source": [
        "<a href=\"https://colab.research.google.com/github/johnryantaylor/QCES/blob/main/Project2_transport.ipynb\" target=\"_parent\"><img src=\"https://colab.research.google.com/assets/colab-badge.svg\" alt=\"Open In Colab\"/></a>"
      ]
    },
    {
      "cell_type": "markdown",
      "metadata": {
        "id": "EUMxwajjGj7f"
      },
      "source": [
        "# Project 2: Tracer transport\n",
        "\n",
        "A critical aspect of understanding climate and environmental systems is describing the movement of substances. This could include pollution or water vapor in the atmosphere, salt in an estuary, or chemicals in a river. We often model the transport of these substances using an advection/diffusion equation for the concentration of the substance. In this context, we sometimes refer to the concentration field as a `tracer' since it helps us track the movement of individual molecules. We can also use this framework to describe the transport of heat, although in this case the tracer field (temperature or heat content) tracks the movement of thermal energy.\n",
        "\n",
        "In this project we will use Dedalus to solve advection diffusion equations to describe the vertical distribution of heat in the ocean and the concentration of pollution in a river.\n",
        "\n",
        "Student tasks are in [Section 1.4](#section1pt4), [Section 1.6](#section1pt6), and [Section 2.3](#section2pt3)"
      ]
    },
    {
      "cell_type": "markdown",
      "metadata": {
        "id": "8kzZ4veFGj7g"
      },
      "source": [
        "## Setup\n",
        "If you are using Google colab, run the script below to install Dedalus"
      ]
    },
    {
      "cell_type": "code",
      "execution_count": null,
      "metadata": {
        "id": "zboWKCnqGj7g",
        "outputId": "7a2eec20-a22b-4a2f-bf0d-b35f29abaff2",
        "colab": {
          "base_uri": "https://localhost:8080/"
        }
      },
      "outputs": [
        {
          "output_type": "stream",
          "name": "stdout",
          "text": [
            "env: OMP_NUM_THREADS=1\n",
            "env: NUMEXPR_MAX_THREADS=1\n",
            "Dedalus not installed yet.\n",
            "Installing for Google Colab.\n",
            "\n",
            "Reading package lists... Done\n",
            "Building dependency tree... Done\n",
            "Reading state information... Done\n",
            "The following additional packages will be installed:\n",
            "  libfftw3-bin libfftw3-double3 libfftw3-long3 libfftw3-quad3 libfftw3-single3\n",
            "Suggested packages:\n",
            "  libfftw3-doc\n",
            "The following NEW packages will be installed:\n",
            "  libfftw3-bin libfftw3-dev libfftw3-double3 libfftw3-long3 libfftw3-quad3 libfftw3-single3\n",
            "0 upgraded, 6 newly installed, 0 to remove and 49 not upgraded.\n",
            "Need to get 4,654 kB of archives.\n",
            "After this operation, 24.7 MB of additional disk space will be used.\n",
            "Get:1 http://archive.ubuntu.com/ubuntu jammy/main amd64 libfftw3-double3 amd64 3.3.8-2ubuntu8 [770 kB]\n",
            "Get:2 http://archive.ubuntu.com/ubuntu jammy/main amd64 libfftw3-long3 amd64 3.3.8-2ubuntu8 [335 kB]\n",
            "Get:3 http://archive.ubuntu.com/ubuntu jammy/main amd64 libfftw3-quad3 amd64 3.3.8-2ubuntu8 [614 kB]\n",
            "Get:4 http://archive.ubuntu.com/ubuntu jammy/main amd64 libfftw3-single3 amd64 3.3.8-2ubuntu8 [800 kB]\n",
            "Get:5 http://archive.ubuntu.com/ubuntu jammy/main amd64 libfftw3-bin amd64 3.3.8-2ubuntu8 [35.5 kB]\n",
            "Get:6 http://archive.ubuntu.com/ubuntu jammy/main amd64 libfftw3-dev amd64 3.3.8-2ubuntu8 [2,101 kB]\n",
            "Fetched 4,654 kB in 3s (1,702 kB/s)\n",
            "Selecting previously unselected package libfftw3-double3:amd64.\n",
            "(Reading database ... 123623 files and directories currently installed.)\n",
            "Preparing to unpack .../0-libfftw3-double3_3.3.8-2ubuntu8_amd64.deb ...\n",
            "Unpacking libfftw3-double3:amd64 (3.3.8-2ubuntu8) ...\n",
            "Selecting previously unselected package libfftw3-long3:amd64.\n",
            "Preparing to unpack .../1-libfftw3-long3_3.3.8-2ubuntu8_amd64.deb ...\n",
            "Unpacking libfftw3-long3:amd64 (3.3.8-2ubuntu8) ...\n",
            "Selecting previously unselected package libfftw3-quad3:amd64.\n",
            "Preparing to unpack .../2-libfftw3-quad3_3.3.8-2ubuntu8_amd64.deb ...\n",
            "Unpacking libfftw3-quad3:amd64 (3.3.8-2ubuntu8) ...\n",
            "Selecting previously unselected package libfftw3-single3:amd64.\n",
            "Preparing to unpack .../3-libfftw3-single3_3.3.8-2ubuntu8_amd64.deb ...\n",
            "Unpacking libfftw3-single3:amd64 (3.3.8-2ubuntu8) ...\n",
            "Selecting previously unselected package libfftw3-bin.\n",
            "Preparing to unpack .../4-libfftw3-bin_3.3.8-2ubuntu8_amd64.deb ...\n",
            "Unpacking libfftw3-bin (3.3.8-2ubuntu8) ...\n",
            "Selecting previously unselected package libfftw3-dev:amd64.\n",
            "Preparing to unpack .../5-libfftw3-dev_3.3.8-2ubuntu8_amd64.deb ...\n",
            "Unpacking libfftw3-dev:amd64 (3.3.8-2ubuntu8) ...\n",
            "Setting up libfftw3-single3:amd64 (3.3.8-2ubuntu8) ...\n",
            "Setting up libfftw3-long3:amd64 (3.3.8-2ubuntu8) ...\n",
            "Setting up libfftw3-quad3:amd64 (3.3.8-2ubuntu8) ...\n",
            "Setting up libfftw3-double3:amd64 (3.3.8-2ubuntu8) ...\n",
            "Setting up libfftw3-bin (3.3.8-2ubuntu8) ...\n",
            "Setting up libfftw3-dev:amd64 (3.3.8-2ubuntu8) ...\n",
            "Processing triggers for man-db (2.10.2-1) ...\n",
            "Processing triggers for libc-bin (2.35-0ubuntu3.4) ...\n",
            "/sbin/ldconfig.real: /usr/local/lib/libtbbbind_2_0.so.3 is not a symbolic link\n",
            "\n",
            "/sbin/ldconfig.real: /usr/local/lib/libur_adapter_level_zero.so.0 is not a symbolic link\n",
            "\n",
            "/sbin/ldconfig.real: /usr/local/lib/libur_loader.so.0 is not a symbolic link\n",
            "\n",
            "/sbin/ldconfig.real: /usr/local/lib/libtbbbind_2_5.so.3 is not a symbolic link\n",
            "\n",
            "/sbin/ldconfig.real: /usr/local/lib/libur_adapter_opencl.so.0 is not a symbolic link\n",
            "\n",
            "/sbin/ldconfig.real: /usr/local/lib/libtbb.so.12 is not a symbolic link\n",
            "\n",
            "/sbin/ldconfig.real: /usr/local/lib/libhwloc.so.15 is not a symbolic link\n",
            "\n",
            "/sbin/ldconfig.real: /usr/local/lib/libtcm.so.1 is not a symbolic link\n",
            "\n",
            "/sbin/ldconfig.real: /usr/local/lib/libtbbmalloc_proxy.so.2 is not a symbolic link\n",
            "\n",
            "/sbin/ldconfig.real: /usr/local/lib/libtbbbind.so.3 is not a symbolic link\n",
            "\n",
            "/sbin/ldconfig.real: /usr/local/lib/libumf.so.0 is not a symbolic link\n",
            "\n",
            "/sbin/ldconfig.real: /usr/local/lib/libtbbmalloc.so.2 is not a symbolic link\n",
            "\n",
            "/sbin/ldconfig.real: /usr/local/lib/libtcm_debug.so.1 is not a symbolic link\n",
            "\n",
            "Reading package lists... Done\n",
            "Building dependency tree... Done\n",
            "Reading state information... Done\n",
            "The following additional packages will be installed:\n",
            "  libfftw3-mpi3\n",
            "Suggested packages:\n",
            "  libfftw3-doc\n",
            "The following NEW packages will be installed:\n",
            "  libfftw3-mpi-dev libfftw3-mpi3\n",
            "0 upgraded, 2 newly installed, 0 to remove and 49 not upgraded.\n",
            "Need to get 102 kB of archives.\n",
            "After this operation, 1,052 kB of additional disk space will be used.\n",
            "Get:1 http://archive.ubuntu.com/ubuntu jammy/universe amd64 libfftw3-mpi3 amd64 3.3.8-2ubuntu8 [48.9 kB]\n",
            "Get:2 http://archive.ubuntu.com/ubuntu jammy/universe amd64 libfftw3-mpi-dev amd64 3.3.8-2ubuntu8 [53.3 kB]\n",
            "Fetched 102 kB in 1s (78.9 kB/s)\n",
            "Selecting previously unselected package libfftw3-mpi3:amd64.\n",
            "(Reading database ... 123726 files and directories currently installed.)\n",
            "Preparing to unpack .../libfftw3-mpi3_3.3.8-2ubuntu8_amd64.deb ...\n",
            "Unpacking libfftw3-mpi3:amd64 (3.3.8-2ubuntu8) ...\n",
            "Selecting previously unselected package libfftw3-mpi-dev:amd64.\n",
            "Preparing to unpack .../libfftw3-mpi-dev_3.3.8-2ubuntu8_amd64.deb ...\n",
            "Unpacking libfftw3-mpi-dev:amd64 (3.3.8-2ubuntu8) ...\n",
            "Setting up libfftw3-mpi3:amd64 (3.3.8-2ubuntu8) ...\n",
            "Setting up libfftw3-mpi-dev:amd64 (3.3.8-2ubuntu8) ...\n",
            "Processing triggers for libc-bin (2.35-0ubuntu3.4) ...\n",
            "/sbin/ldconfig.real: /usr/local/lib/libtbbbind_2_0.so.3 is not a symbolic link\n",
            "\n",
            "/sbin/ldconfig.real: /usr/local/lib/libur_adapter_level_zero.so.0 is not a symbolic link\n",
            "\n",
            "/sbin/ldconfig.real: /usr/local/lib/libur_loader.so.0 is not a symbolic link\n",
            "\n",
            "/sbin/ldconfig.real: /usr/local/lib/libtbbbind_2_5.so.3 is not a symbolic link\n",
            "\n",
            "/sbin/ldconfig.real: /usr/local/lib/libur_adapter_opencl.so.0 is not a symbolic link\n",
            "\n",
            "/sbin/ldconfig.real: /usr/local/lib/libtbb.so.12 is not a symbolic link\n",
            "\n",
            "/sbin/ldconfig.real: /usr/local/lib/libhwloc.so.15 is not a symbolic link\n",
            "\n",
            "/sbin/ldconfig.real: /usr/local/lib/libtcm.so.1 is not a symbolic link\n",
            "\n",
            "/sbin/ldconfig.real: /usr/local/lib/libtbbmalloc_proxy.so.2 is not a symbolic link\n",
            "\n",
            "/sbin/ldconfig.real: /usr/local/lib/libtbbbind.so.3 is not a symbolic link\n",
            "\n",
            "/sbin/ldconfig.real: /usr/local/lib/libumf.so.0 is not a symbolic link\n",
            "\n",
            "/sbin/ldconfig.real: /usr/local/lib/libtbbmalloc.so.2 is not a symbolic link\n",
            "\n",
            "/sbin/ldconfig.real: /usr/local/lib/libtcm_debug.so.1 is not a symbolic link\n",
            "\n",
            "Requirement already satisfied: cython in /usr/local/lib/python3.10/dist-packages (3.0.11)\n",
            "Collecting mpi4py<4.0\n",
            "  Downloading mpi4py-3.1.6.tar.gz (2.4 MB)\n",
            "\u001b[2K     \u001b[90m━━━━━━━━━━━━━━━━━━━━━━━━━━━━━━━━━━━━━━━━\u001b[0m \u001b[32m2.4/2.4 MB\u001b[0m \u001b[31m7.3 MB/s\u001b[0m eta \u001b[36m0:00:00\u001b[0m\n",
            "\u001b[?25h  Installing build dependencies ... \u001b[?25l\u001b[?25hdone\n",
            "  Getting requirements to build wheel ... \u001b[?25l\u001b[?25hdone\n",
            "  Preparing metadata (pyproject.toml) ... \u001b[?25l\u001b[?25hdone\n",
            "Requirement already satisfied: numpy in /usr/local/lib/python3.10/dist-packages (1.26.4)\n",
            "Requirement already satisfied: setuptools in /usr/local/lib/python3.10/dist-packages (75.1.0)\n",
            "Requirement already satisfied: wheel in /usr/local/lib/python3.10/dist-packages (0.44.0)\n",
            "Building wheels for collected packages: mpi4py\n",
            "  Building wheel for mpi4py (pyproject.toml) ... \u001b[?25l\u001b[?25hdone\n",
            "  Created wheel for mpi4py: filename=mpi4py-3.1.6-cp310-cp310-linux_x86_64.whl size=2746312 sha256=0c91bd5920effa1daaac9f455edd4fab39b6f1e66104d1ecf1e38e5be750c122\n",
            "  Stored in directory: /root/.cache/pip/wheels/4c/ca/89/8fc1fb1c620afca13bb41c630b1f948bbf446e0aaa4b762e10\n",
            "Successfully built mpi4py\n",
            "Installing collected packages: mpi4py\n",
            "Successfully installed mpi4py-3.1.6\n",
            "Collecting http://github.com/dedalusproject/dedalus/zipball/master/\n",
            "  Downloading http://github.com/dedalusproject/dedalus/zipball/master/\n",
            "\u001b[2K     \u001b[32m|\u001b[0m \u001b[32m24.5 MB\u001b[0m \u001b[31m21.0 MB/s\u001b[0m \u001b[33m0:00:01\u001b[0m\n",
            "\u001b[?25h  Preparing metadata (pyproject.toml) ... \u001b[?25l\u001b[?25hdone\n",
            "Collecting docopt (from dedalus==3.0.3)\n",
            "  Downloading docopt-0.6.2.tar.gz (25 kB)\n",
            "  Preparing metadata (setup.py) ... \u001b[?25l\u001b[?25hdone\n",
            "Requirement already satisfied: h5py>=3.0.0 in /usr/local/lib/python3.10/dist-packages (from dedalus==3.0.3) (3.12.1)\n",
            "Requirement already satisfied: matplotlib in /usr/local/lib/python3.10/dist-packages (from dedalus==3.0.3) (3.8.0)\n",
            "Requirement already satisfied: mpi4py>=2.0.0 in /usr/local/lib/python3.10/dist-packages (from dedalus==3.0.3) (3.1.6)\n",
            "Requirement already satisfied: numexpr in /usr/local/lib/python3.10/dist-packages (from dedalus==3.0.3) (2.10.1)\n",
            "Requirement already satisfied: numpy>=1.20.0 in /usr/local/lib/python3.10/dist-packages (from dedalus==3.0.3) (1.26.4)\n",
            "Collecting py (from dedalus==3.0.3)\n",
            "  Downloading py-1.11.0-py2.py3-none-any.whl.metadata (2.8 kB)\n",
            "Requirement already satisfied: pytest in /usr/local/lib/python3.10/dist-packages (from dedalus==3.0.3) (7.4.4)\n",
            "Collecting pytest-benchmark (from dedalus==3.0.3)\n",
            "  Downloading pytest_benchmark-5.1.0-py3-none-any.whl.metadata (25 kB)\n",
            "Collecting pytest-cov (from dedalus==3.0.3)\n",
            "  Downloading pytest_cov-6.0.0-py3-none-any.whl.metadata (27 kB)\n",
            "Collecting pytest-parallel (from dedalus==3.0.3)\n",
            "  Downloading pytest_parallel-0.1.1-py3-none-any.whl.metadata (3.0 kB)\n",
            "Requirement already satisfied: scipy>=1.4.0 in /usr/local/lib/python3.10/dist-packages (from dedalus==3.0.3) (1.13.1)\n",
            "Requirement already satisfied: xarray in /usr/local/lib/python3.10/dist-packages (from dedalus==3.0.3) (2024.10.0)\n",
            "Requirement already satisfied: contourpy>=1.0.1 in /usr/local/lib/python3.10/dist-packages (from matplotlib->dedalus==3.0.3) (1.3.0)\n",
            "Requirement already satisfied: cycler>=0.10 in /usr/local/lib/python3.10/dist-packages (from matplotlib->dedalus==3.0.3) (0.12.1)\n",
            "Requirement already satisfied: fonttools>=4.22.0 in /usr/local/lib/python3.10/dist-packages (from matplotlib->dedalus==3.0.3) (4.54.1)\n",
            "Requirement already satisfied: kiwisolver>=1.0.1 in /usr/local/lib/python3.10/dist-packages (from matplotlib->dedalus==3.0.3) (1.4.7)\n",
            "Requirement already satisfied: packaging>=20.0 in /usr/local/lib/python3.10/dist-packages (from matplotlib->dedalus==3.0.3) (24.1)\n",
            "Requirement already satisfied: pillow>=6.2.0 in /usr/local/lib/python3.10/dist-packages (from matplotlib->dedalus==3.0.3) (10.4.0)\n",
            "Requirement already satisfied: pyparsing>=2.3.1 in /usr/local/lib/python3.10/dist-packages (from matplotlib->dedalus==3.0.3) (3.2.0)\n",
            "Requirement already satisfied: python-dateutil>=2.7 in /usr/local/lib/python3.10/dist-packages (from matplotlib->dedalus==3.0.3) (2.8.2)\n",
            "Requirement already satisfied: iniconfig in /usr/local/lib/python3.10/dist-packages (from pytest->dedalus==3.0.3) (2.0.0)\n",
            "Requirement already satisfied: pluggy<2.0,>=0.12 in /usr/local/lib/python3.10/dist-packages (from pytest->dedalus==3.0.3) (1.5.0)\n",
            "Requirement already satisfied: exceptiongroup>=1.0.0rc8 in /usr/local/lib/python3.10/dist-packages (from pytest->dedalus==3.0.3) (1.2.2)\n",
            "Requirement already satisfied: tomli>=1.0.0 in /usr/local/lib/python3.10/dist-packages (from pytest->dedalus==3.0.3) (2.0.2)\n",
            "Collecting pytest (from dedalus==3.0.3)\n",
            "  Downloading pytest-8.3.3-py3-none-any.whl.metadata (7.5 kB)\n",
            "Requirement already satisfied: py-cpuinfo in /usr/local/lib/python3.10/dist-packages (from pytest-benchmark->dedalus==3.0.3) (9.0.0)\n",
            "Collecting coverage>=7.5 (from coverage[toml]>=7.5->pytest-cov->dedalus==3.0.3)\n",
            "  Downloading coverage-7.6.4-cp310-cp310-manylinux_2_5_x86_64.manylinux1_x86_64.manylinux_2_17_x86_64.manylinux2014_x86_64.whl.metadata (8.2 kB)\n",
            "Collecting tblib (from pytest-parallel->dedalus==3.0.3)\n",
            "  Downloading tblib-3.0.0-py3-none-any.whl.metadata (25 kB)\n",
            "Requirement already satisfied: pandas>=2.1 in /usr/local/lib/python3.10/dist-packages (from xarray->dedalus==3.0.3) (2.2.2)\n",
            "Requirement already satisfied: pytz>=2020.1 in /usr/local/lib/python3.10/dist-packages (from pandas>=2.1->xarray->dedalus==3.0.3) (2024.2)\n",
            "Requirement already satisfied: tzdata>=2022.7 in /usr/local/lib/python3.10/dist-packages (from pandas>=2.1->xarray->dedalus==3.0.3) (2024.2)\n",
            "Requirement already satisfied: six>=1.5 in /usr/local/lib/python3.10/dist-packages (from python-dateutil>=2.7->matplotlib->dedalus==3.0.3) (1.16.0)\n",
            "Downloading py-1.11.0-py2.py3-none-any.whl (98 kB)\n",
            "\u001b[2K   \u001b[90m━━━━━━━━━━━━━━━━━━━━━━━━━━━━━━━━━━━━━━━━\u001b[0m \u001b[32m98.7/98.7 kB\u001b[0m \u001b[31m7.8 MB/s\u001b[0m eta \u001b[36m0:00:00\u001b[0m\n",
            "\u001b[?25hDownloading pytest_benchmark-5.1.0-py3-none-any.whl (44 kB)\n",
            "\u001b[2K   \u001b[90m━━━━━━━━━━━━━━━━━━━━━━━━━━━━━━━━━━━━━━━━\u001b[0m \u001b[32m44.3/44.3 kB\u001b[0m \u001b[31m178.2 MB/s\u001b[0m eta \u001b[36m0:00:00\u001b[0m\n",
            "\u001b[?25hDownloading pytest-8.3.3-py3-none-any.whl (342 kB)\n",
            "\u001b[2K   \u001b[90m━━━━━━━━━━━━━━━━━━━━━━━━━━━━━━━━━━━━━━━━\u001b[0m \u001b[32m342.3/342.3 kB\u001b[0m \u001b[31m20.2 MB/s\u001b[0m eta \u001b[36m0:00:00\u001b[0m\n",
            "\u001b[?25hDownloading pytest_cov-6.0.0-py3-none-any.whl (22 kB)\n",
            "Downloading pytest_parallel-0.1.1-py3-none-any.whl (7.0 kB)\n",
            "Downloading coverage-7.6.4-cp310-cp310-manylinux_2_5_x86_64.manylinux1_x86_64.manylinux_2_17_x86_64.manylinux2014_x86_64.whl (234 kB)\n",
            "\u001b[2K   \u001b[90m━━━━━━━━━━━━━━━━━━━━━━━━━━━━━━━━━━━━━━━━\u001b[0m \u001b[32m234.6/234.6 kB\u001b[0m \u001b[31m261.6 MB/s\u001b[0m eta \u001b[36m0:00:00\u001b[0m\n",
            "\u001b[?25hDownloading tblib-3.0.0-py3-none-any.whl (12 kB)\n",
            "Building wheels for collected packages: dedalus, docopt\n",
            "  Building wheel for dedalus (pyproject.toml) ... \u001b[?25l\u001b[?25hdone\n",
            "  Created wheel for dedalus: filename=dedalus-3.0.3-cp310-cp310-linux_x86_64.whl size=3261497 sha256=2f6e64b01dfbb6ea7b179193270b1195884fc4a4602733182661c687a5dbf44e\n",
            "  Stored in directory: /tmp/pip-ephem-wheel-cache-5lgef781/wheels/2c/16/80/8c5f40fc4de8dc37ba4cdd4e05d7639677a5f0659c3bbd79a7\n",
            "  Building wheel for docopt (setup.py) ... \u001b[?25l\u001b[?25hdone\n",
            "  Created wheel for docopt: filename=docopt-0.6.2-py2.py3-none-any.whl size=13706 sha256=f904a79741a8b038838822baeff61f46ddeb74e556048956781ab9357b68b6cc\n",
            "  Stored in directory: /tmp/pip-ephem-wheel-cache-5lgef781/wheels/fc/ab/d4/5da2067ac95b36618c629a5f93f809425700506f72c9732fac\n",
            "Successfully built dedalus docopt\n",
            "Installing collected packages: docopt, tblib, pytest, py, coverage, pytest-parallel, pytest-benchmark, pytest-cov, dedalus\n",
            "  Attempting uninstall: pytest\n",
            "    Found existing installation: pytest 7.4.4\n",
            "    Uninstalling pytest-7.4.4:\n",
            "      Successfully uninstalled pytest-7.4.4\n",
            "Successfully installed coverage-7.6.4 dedalus-3.0.3 docopt-0.6.2 py-1.11.0 pytest-8.3.3 pytest-benchmark-5.1.0 pytest-cov-6.0.0 pytest-parallel-0.1.1 tblib-3.0.0\n",
            "\u001b[2K   \u001b[90m━━━━━━━━━━━━━━━━━━━━━━━━━━━━━━━━━━━━━━━━\u001b[0m \u001b[32m516.3/516.3 kB\u001b[0m \u001b[31m8.9 MB/s\u001b[0m eta \u001b[36m0:00:00\u001b[0m\n",
            "\u001b[2K   \u001b[90m━━━━━━━━━━━━━━━━━━━━━━━━━━━━━━━━━━━━━━━━\u001b[0m \u001b[32m1.6/1.6 MB\u001b[0m \u001b[31m39.8 MB/s\u001b[0m eta \u001b[36m0:00:00\u001b[0m\n",
            "\u001b[?25h\n",
            "Dedalus successfully installed :)\n"
          ]
        }
      ],
      "source": [
        "# Set environment variables for best performance\n",
        "%env OMP_NUM_THREADS=1\n",
        "%env NUMEXPR_MAX_THREADS=1\n",
        "\n",
        "# Minimize logging output\n",
        "import logging\n",
        "logging.disable(logging.DEBUG)\n",
        "\n",
        "# Check if running on google colab\n",
        "import os\n",
        "using_google_colab = bool(os.getenv(\"COLAB_RELEASE_TAG\"))\n",
        "\n",
        "# Check for Dedalus\n",
        "try:\n",
        "    import dedalus.public as de\n",
        "    print(\"Dedalus already installed :)\")\n",
        "except:\n",
        "    print(\"Dedalus not installed yet.\")\n",
        "    if using_google_colab:\n",
        "        print(\"Installing for Google Colab.\")\n",
        "        print()\n",
        "        # Step 1: Install FFTW\n",
        "        !apt-get install libfftw3-dev\n",
        "        !apt-get install libfftw3-mpi-dev\n",
        "        # Step 2: Set paths for Dedalus installation\n",
        "        import os\n",
        "        os.environ['MPI_INCLUDE_PATH'] = \"/usr/lib/x86_64-linux-gnu/openmpi/include\"\n",
        "        os.environ['MPI_LIBRARY_PATH'] = \"/usr/lib/x86_64-linux-gnu\"\n",
        "        os.environ['FFTW_INCLUDE_PATH'] = \"/usr/include\"\n",
        "        os.environ['FFTW_LIBRARY_PATH'] = \"/usr/lib/x86_64-linux-gnu\"\n",
        "        # Step 3: Install Dedalus using pip\n",
        "        !pip3 install cython \"mpi4py<4.0\" numpy setuptools wheel\n",
        "        !CC=mpicc pip3 install --no-cache --no-build-isolation http://github.com/dedalusproject/dedalus/zipball/master/\n",
        "        !pip3 install -q ipympl\n",
        "        # Step 4: Check installation\n",
        "        print()\n",
        "        try:\n",
        "            import dedalus.public as de\n",
        "            print(\"Dedalus successfully installed :)\")\n",
        "        except:\n",
        "            print(\"Error installing Dedalus :(\")\n",
        "            raise\n",
        "    else:\n",
        "        print(\"See website for installation instructions:\")\n",
        "        print(\"https://dedalus-project.readthedocs.io/en/latest/pages/installation.html\")\n",
        "\n",
        "# Setup interactive matplotlib\n",
        "if using_google_colab:\n",
        "    from google.colab import output\n",
        "    output.enable_custom_widget_manager()"
      ]
    },
    {
      "cell_type": "markdown",
      "metadata": {
        "id": "gyWmOQ2_Gj7h"
      },
      "source": [
        "## 1. Thermal structure in the ocean\n",
        "\n",
        "Most of the ocean has a stable thermal stratification with warm water at the surface and cold water in the abyss (exceptions occur in salt-stratified waters like the Arctic Ocean). Since the ocean is a massive thermal reservoir, understanding the distribution of this heat is important to quantifying the ocean's role in a changing climate. The structure of the temperature field can also inform us about the circulation in the ocean interior.\n"
      ]
    },
    {
      "cell_type": "markdown",
      "metadata": {
        "id": "V3hu2ZoYGj7h"
      },
      "source": [
        "### 1.1 Measured temperature profile\n",
        "\n",
        "The code below plots a sample temperature profile obtained off the coast of California. The data was obtained by digitizing Figure 3 in Munk, 1966."
      ]
    },
    {
      "cell_type": "code",
      "execution_count": null,
      "metadata": {
        "id": "uc31b3VvGj7i",
        "outputId": "868cff3e-72b6-4bd6-e939-e077a52720ba",
        "colab": {
          "base_uri": "https://localhost:8080/",
          "height": 467
        }
      },
      "outputs": [
        {
          "output_type": "execute_result",
          "data": {
            "text/plain": [
              "Text(0, 0.5, 'Depth (m)')"
            ]
          },
          "metadata": {},
          "execution_count": 6
        },
        {
          "output_type": "display_data",
          "data": {
            "text/plain": [
              "<Figure size 640x480 with 1 Axes>"
            ],
            "image/png": "[encoded data removed]"
          },
          "metadata": {}
        }
      ],
      "source": [
        "import matplotlib.pyplot as plt\n",
        "\n",
        "# Temperature measurements extracted from Figure 3 in Munk, 1966\n",
        "CTD_T = [1.1296296296296295, 1.122004357298475, 1.1143790849673203, 1.1067538126361656, 1.1143790849673203, 1.1143790849673203, 1.1372549019607843, 1.122004357298475, 1.1372549019607843, 1.1525054466230937, 1.2287581699346406, 1.2745098039215685, 1.343137254901961, 1.4041394335511983, 1.526143790849673, 1.6405228758169934, 1.8997821350762527, 2.242919389978214, 2.69281045751634, 3.104575163398693, 3.104575163398693, 3.218954248366013, 3.4324618736383443, 3.8289760348583877, 4.042483660130719, 4.438997821350762]\n",
        "CTD_z = [-4976.958525345623, -4869.431643625192, -4677.419354838709, -4470.046082949309, -4270.353302611367, -4070.6605222734256, -3932.411674347158, -3786.4823348694317, -3586.78955453149, -3394.7772657450078, -3195.084485407066, -2995.3917050691243, -2803.379416282642, -2580.6451612903224, -2350.230414746544, -2112.1351766513058, -1843.3179723502303, -1597.5422427035332, -1344.0860215053763, -1144.3932411674346, -1144.3932411674346, -1121.351766513057, -990.7834101382491, -821.8125960061443, -698.9247311827958, -583.7173579109067]\n",
        "\n",
        "plt.scatter(CTD_T,CTD_z,s=10)\n",
        "plt.xlabel('T (ºC)')\n",
        "plt.ylabel('Depth (m)')\n"
      ]
    },
    {
      "cell_type": "markdown",
      "metadata": {
        "id": "IGPkCay4Gj7i"
      },
      "source": [
        "### 1.2 Abyssal recipes\n",
        "\n",
        "Munk (1966) proposed that the thermal structure of the ocean interior is set by a balance between upwelling and diffusion. In this view, cold waters sink near the poles and spread across the seafloor before slowly rising through the ocean interior. If we assume, as Munk did, that the water upwells uniformly across the globe, the upwelling speed is approximately $10^{-7}$ m/s. This is far too small to directly measure, but it is large enough to have a major impact on the distribution of tracers. Since light can only penetrate through the top ~100m of ocean, we can ignore solar heating, except in that it sets the temperature near the ocean surface."
      ]
    },
    {
      "cell_type": "markdown",
      "metadata": {
        "id": "KzbyBjBAGj7i"
      },
      "source": [
        "### 1.3 Steady advection/diffusion equation\n",
        "\n",
        "Dedalus can solve differential equations in various forms. In addition to time-dependent initial value problems (IVPs), Dedalus can solve linear and nonlinear boundary value problems. The code below uses Dedalus to solve a linear boundary value problem (IVBP) for the steady state advection/diffusion equation.\n",
        "\n",
        "Here, the top and bottom temperature are set from the measured profile and these are used as boundary conditions. The vertical (upwelling) velocity is set to $10^{-7} m/s$, and the diffusivity is set to $10^{-7}$ $m^2/s$, to approximate the molecular diffusivity of heat in seawater."
      ]
    },
    {
      "cell_type": "code",
      "execution_count": null,
      "metadata": {
        "id": "qVu3j3GzGj7i",
        "outputId": "7502df23-d9bb-400a-f6aa-0fbc7b33aa65",
        "colab": {
          "base_uri": "https://localhost:8080/",
          "height": 442
        }
      },
      "outputs": [
        {
          "output_type": "stream",
          "name": "stderr",
          "text": [
            "INFO:subsystems:Building subproblem matrices 1/1 (~100%) Elapsed: 0s, Remaining: 0s, Rate: 7.1e+00/s\n"
          ]
        },
        {
          "output_type": "stream",
          "name": "stdout",
          "text": [
            "2024-11-01 17:15:43,779 subsystems 0/1 INFO :: Building subproblem matrices 1/1 (~100%) Elapsed: 0s, Remaining: 0s, Rate: 7.1e+00/s\n"
          ]
        },
        {
          "output_type": "execute_result",
          "data": {
            "text/plain": [
              "Text(0, 0.5, 'Depth (m)')"
            ]
          },
          "metadata": {},
          "execution_count": 7
        },
        {
          "output_type": "display_data",
          "data": {
            "text/plain": [
              "<Figure size 600x400 with 1 Axes>"
            ],
            "image/png": "[encoded data removed]"
          },
          "metadata": {}
        }
      ],
      "source": [
        "\"\"\"\n",
        "Dedalus script to solve the steady advection/diffusion equation\n",
        "\"\"\"\n",
        "\n",
        "import numpy as np\n",
        "import matplotlib.pyplot as plt\n",
        "import dedalus.public as d3\n",
        "import logging\n",
        "logger = logging.getLogger(__name__)\n",
        "\n",
        "# Set various parameters. Note that the depth and the top and bottom temperature\n",
        "# are taken from the CTD data in the code cell above. That cell must be run first to define CTD_T and CTD_z.\n",
        "z_surface = CTD_z[-1]\n",
        "z_bottom = CTD_z[0]\n",
        "T_surface = CTD_T[-1]\n",
        "T_bottom = CTD_T[0]\n",
        "Nz = 1000\n",
        "\n",
        "# Set the upwelling velocity\n",
        "w = 1e-7 # m/s\n",
        "# Set the diffusivity\n",
        "kappa=8.5e-5 # m^2/s\n",
        "\n",
        "# Bases\n",
        "zcoord = d3.Coordinate('z')\n",
        "dist = d3.Distributor(zcoord, dtype=np.float64)\n",
        "zbasis = d3.Chebyshev(zcoord, size=Nz, bounds=(z_bottom, z_surface))\n",
        "z = dist.local_grid(zbasis)\n",
        "\n",
        "# Fields\n",
        "T = dist.Field(name='T', bases=zbasis)\n",
        "\n",
        "# Add two tau variables to allow us to apply two boundary conditions\n",
        "tau_1 = dist.Field(name='tau_1')\n",
        "tau_2 = dist.Field(name='tau_2')\n",
        "lift_basis = zbasis.derivative_basis(1)\n",
        "lift = lambda A: d3.Lift(A, lift_basis, -1)\n",
        "\n",
        "# Substitutions\n",
        "dz = lambda A: d3.Differentiate(A, zcoord)\n",
        "Tz = dz(T) + lift(tau_1)\n",
        "Tzz = dz(Tz) + lift(tau_2)\n",
        "\n",
        "# Problem\n",
        "problem = d3.LBVP([T, tau_1, tau_2], namespace=locals())\n",
        "problem.add_equation(\"w*Tz - kappa*Tzz = 0\")\n",
        "problem.add_equation(\"T(z=z_surface) = T_surface\")\n",
        "problem.add_equation(\"T(z=z_bottom) = T_bottom\")\n",
        "\n",
        "# Solver\n",
        "solver = problem.build_solver()\n",
        "solver.solve()\n",
        "\n",
        "# Plot\n",
        "plt.figure(figsize=(6, 4))\n",
        "Tg=T['g']\n",
        "plt.scatter(CTD_T,CTD_z,s=10)\n",
        "plt.plot(Tg,z,'k')\n",
        "plt.xlabel('Temperature (ºC)')\n",
        "plt.ylabel('Depth (m)')"
      ]
    },
    {
      "cell_type": "markdown",
      "metadata": {
        "id": "c1XCVhJAGj7j"
      },
      "source": [
        "### 1.4 Student investigation\n",
        "<a id='section1pt4'></a>\n",
        "Note that the profile above is not a good fit to the data. This implies that molecular diffusion isn't sufficient to transport heat down from the surface and stop the ocean from filling up with cold, dense water.\n",
        "\n",
        "Munk (1966) proposed that small-scale turbulence in the ocean interior results in a diffusivity that is orders of magnitude larger than the molecular value. Find a diffusivity that gives a good match with the data and test it in the Dedalus script above. Comment on the ability of this model (steady advection/diffusion) to fit the data."
      ]
    },
    {
      "cell_type": "markdown",
      "metadata": {
        "id": "aAuUbwXYGj7j"
      },
      "source": [
        "**My answer**\n",
        "\n",
        "Keeping the value of w the same as 1e-7. With some different attempts, I chose a $\\kappa$ value of 8.5e-5. This fits the model imperfectly, however follows the graph as a whole. We see the needed 'slowing growth' form, with gradient changing from initially high and then tending towards horizontal. It fails at points as the curve has its major curve point at a higher value of T and D. Nonetheless, this proves to be a good approximation overall.\n",
        "\n",
        "This diffusivity is approximately 1000 times greater than the original set value of 1e-7."
      ]
    },
    {
      "cell_type": "markdown",
      "metadata": {
        "id": "rk8CQpggGj7j"
      },
      "source": [
        "### 1.5 Turning ocean mixing upside down\n",
        "\n",
        "Decades of research to measure the turbulent diffusivity in the ocean consistently found values much smaller than the one predicted by Munk (1966). Specifically, while larger values of the turbulent diffusivity were found near the bottom of the ocean over rough topographic features, the values in the upper ocean were about 10x smaller than the values predicted by Munk. 50 years after Munk's seminal paper, Ferrari et al. (2016) proposed that a depth-dependent turbulent diffusivity could be balanced by <em>downwelling</em>, with negative vertical velocities in the ocean interior. In this theory, the overturning circulation is upwelling in thin boundary layers along the sloping sides of the ocean basins.\n",
        "\n",
        "When the diffusivity, $\\kappa$, is a function of $z$, the steady advection/diffusion equation can be written\n",
        "\n",
        "$$ w\\frac{dT}{dz} = \\frac{d}{dz}\\left(\\kappa(z) \\frac{dT}{dz}\\right)$$\n",
        "\n",
        "The Dedalus script below solves the previous equation and again compares the results with the observed temperature profile. For the depth-dependent diffusivity, $\\kappa(z)$, we take\n",
        "\n",
        "$$ \\kappa(z)=\\kappa_{bg} + (\\kappa_0-\\kappa_{bg})e^{-(z+D)/l} $$\n",
        "\n",
        "using the form from Rogers et al., 2023, where $\\kappa_{bg}=1\\times 10^{-5} m^2/s$ is the background diffusivity characteristic of the upper water column, $\\kappa_0=8.6\\times 10^{-4} m^2/s$ characterizes the enhanced mixing near the bottom of the ocean, and $l=667m$ is an exponential decay scale. In the script below, we start with $w=0$."
      ]
    },
    {
      "cell_type": "code",
      "execution_count": null,
      "metadata": {
        "id": "nBxg1QPlGj7j",
        "outputId": "06eca2d9-408d-4ad9-9e3b-e3e78d464793",
        "colab": {
          "base_uri": "https://localhost:8080/",
          "height": 442
        }
      },
      "outputs": [
        {
          "output_type": "stream",
          "name": "stderr",
          "text": [
            "INFO:subsystems:Building subproblem matrices 1/1 (~100%) Elapsed: 0s, Remaining: 0s, Rate: 3.5e+00/s\n"
          ]
        },
        {
          "output_type": "stream",
          "name": "stdout",
          "text": [
            "2024-11-01 17:15:44,546 subsystems 0/1 INFO :: Building subproblem matrices 1/1 (~100%) Elapsed: 0s, Remaining: 0s, Rate: 3.5e+00/s\n"
          ]
        },
        {
          "output_type": "execute_result",
          "data": {
            "text/plain": [
              "Text(0, 0.5, 'Depth (m)')"
            ]
          },
          "metadata": {},
          "execution_count": 8
        },
        {
          "output_type": "display_data",
          "data": {
            "text/plain": [
              "<Figure size 600x400 with 1 Axes>"
            ],
            "image/png": "[encoded data removed]"
          },
          "metadata": {}
        }
      ],
      "source": [
        "\"\"\"\n",
        "Dedalus script to solve the steady advection/diffusion equation\n",
        "with a spatially-variable diffusivity\n",
        "\"\"\"\n",
        "\n",
        "import numpy as np\n",
        "import matplotlib.pyplot as plt\n",
        "import dedalus.public as d3\n",
        "import logging\n",
        "logger = logging.getLogger(__name__)\n",
        "\n",
        "# Set various parameters. Note that the depth and the top and bottom temperature\n",
        "# are taken from the CTD data in the code cell above. That cell must be run first to define CTD_T and CTD_z.\n",
        "z_surface = CTD_z[-1]\n",
        "z_bottom = CTD_z[0]\n",
        "T_surface = CTD_T[-1]\n",
        "T_bottom = CTD_T[0]\n",
        "Nz = 1000\n",
        "\n",
        "# Set the vertical velocity\n",
        "w = 1e-8 # m/s\n",
        "\n",
        "# Bases\n",
        "zcoord = d3.Coordinate('z')\n",
        "dist = d3.Distributor(zcoord, dtype=np.float64)\n",
        "zbasis = d3.Chebyshev(zcoord, size=Nz, bounds=(z_bottom, z_surface))\n",
        "z = dist.local_grid(zbasis)\n",
        "\n",
        "# Fields\n",
        "T = dist.Field(name='T', bases=zbasis)\n",
        "kappa = dist.Field(name='kappa', bases=zbasis)\n",
        "# Set the diffusivity\n",
        "# Below is the diffusivity profile from Rogers et al., 2023\n",
        "kappa['g']=1e-5 + (8.6e-5-1e-5)*np.exp((-5e3-z)/667) # m^2/s\n",
        "\n",
        "# Add two tau variables to allow us to apply two boundary conditions\n",
        "tau_1 = dist.Field(name='tau_1')\n",
        "tau_2 = dist.Field(name='tau_2')\n",
        "lift_basis = zbasis.derivative_basis(1)\n",
        "lift = lambda A: d3.Lift(A, lift_basis, -1)\n",
        "\n",
        "# Substitutions\n",
        "dz = lambda A: d3.Differentiate(A, zcoord)\n",
        "Tz = dz(T) + lift(tau_1)\n",
        "Tzz = dz(Tz) + lift(tau_2)\n",
        "\n",
        "# Problem\n",
        "problem = d3.LBVP([T, tau_1, tau_2], namespace=locals())\n",
        "problem.add_equation(\"w*Tz - dz(kappa*Tz) + lift(tau_2) = 0\")\n",
        "problem.add_equation(\"T(z=z_surface) = T_surface\")\n",
        "problem.add_equation(\"T(z=z_bottom) = T_bottom\")\n",
        "\n",
        "# Solver\n",
        "solver = problem.build_solver()\n",
        "solver.solve()\n",
        "\n",
        "# Plot\n",
        "plt.figure(figsize=(6, 4))\n",
        "Tg=T['g']\n",
        "plt.scatter(CTD_T,CTD_z,s=10)\n",
        "plt.plot(Tg,z,'k')\n",
        "plt.xlabel('Temperature (ºC)')\n",
        "plt.ylabel('Depth (m)')"
      ]
    },
    {
      "cell_type": "markdown",
      "metadata": {
        "id": "InxzxZadGj7j"
      },
      "source": [
        "### 1.6 Student investigation\n",
        "<a id='section1pt6'></a>\n",
        "Note from the results of the script above that the density profile is reasonable, even though $w=0$. In the box below, comment on the balance in this case and what this implies about the diffusive heat flux.\n",
        "\n",
        "Next, find a vertical velocity that produces a better agreement with the observations and report it below. Then, try varying the details of the $\\kappa(z)$ profile. How sensitive is the optimal $w$ to your choice of $\\kappa(z)$? What does this imply about the circulation in the ocean interior if $\\kappa(z)$ varies between regions of smooth and rough topography?\n",
        "\n",
        "(As an aside, note that the requied vertical velocity is much smaller than the one used by Munk (1966). This implies that the dense, cold water that sinks at the poles must rise elsewhere. Ferrari et al. (2016) proposed that this occurs in boundary layers near the seafloor.)"
      ]
    },
    {
      "cell_type": "markdown",
      "metadata": {
        "id": "395--a7RGj7j"
      },
      "source": [
        "**My Answer**\n",
        "\n",
        "A value of 0 for $w$ means that there is no vertical velocity, and therefore all changes in temperature with depth are due to turbulence and, on a small level, molecular diffusion. This model fit the data fairly well, although will overestimate temperature at a given depth by up to 0.5 degrees.\n",
        "\n",
        "First, we try varying the value of w(z). A value of w = 8e-9 m/s produces an excellent fit. At worst, it over/underestimates the T by ~0.1 degrees.\n",
        "\n",
        "Now, we try different values within the $\\kappa(z)$ expression and see how they affect optimal $w$.\n",
        "\n",
        "| state | $\\kappa_{bg}$ | $\\kappa_0$ | Optimal $w$ |comment|\n",
        "| ------|---------------|------------|--------------|-------|\n",
        "|Original| 1e-5 | 8.6e-4 | 8e-9 | Fits the data well as described above |\n",
        "| 1 | 1e-4 | 8.6e-4 | 1e-7 | Increasing the value of $\\kappa_{bg}$ requires a much higher value of $w$. This can be rationalised as a greater backgroud diffusivity requires more upwelling to balance it.|\n",
        "| 2 | 1e-5 | 8.6e-5 |1e-8 |  Decreasing the value of $\\kappa_0$ also requires a greater value of $w$. With less turbulence at depth, there is less of a difference between deep and surface $\\kappa$. Therefore, greater vertical velocity is needed to gain the needed T curve.  |\n",
        "\n",
        "The interesting variation between $\\kappa$ and $w$ can be attributed to the complex relation between them. This can be seen in the graph below.\n",
        "\n"
      ]
    },
    {
      "cell_type": "code",
      "source": [
        "def kappa_time(z):\n",
        "  kappa_nums=1e-5 + (8.6e-5-1e-5)*np.exp((-5e3-z)/667) # m^2/s\n",
        "  return kappa_nums\n",
        "\n",
        "depths = np.linspace(-5000,0,1000)\n",
        "\n",
        "plt.plot(kappa_time(depths),depths)\n",
        "\n",
        "plt.xlabel('$\\kappa$')\n",
        "plt.ylabel('Depth (m)')\n"
      ],
      "metadata": {
        "id": "6lZjCGvWZdHG",
        "outputId": "db696d3a-6428-449a-c3e1-77a85ca4d641",
        "colab": {
          "base_uri": "https://localhost:8080/",
          "height": 467
        }
      },
      "execution_count": null,
      "outputs": [
        {
          "output_type": "execute_result",
          "data": {
            "text/plain": [
              "Text(0, 0.5, 'Depth (m)')"
            ]
          },
          "metadata": {},
          "execution_count": 9
        },
        {
          "output_type": "display_data",
          "data": {
            "text/plain": [
              "<Figure size 640x480 with 1 Axes>"
            ],
            "image/png": "[encoded data removed]"
          },
          "metadata": {}
        }
      ]
    },
    {
      "cell_type": "markdown",
      "metadata": {
        "id": "nNJ_eyHWGj7k"
      },
      "source": [
        "## 2. Transport of pollution in a river\n",
        "\n",
        "Advection/diffusion equations are a common way to model the material transport in many physical systems. In this section we will model the transport and dilution of a pollutants added to a river.\n",
        "\n",
        "For simplicity, we will model the river as a rectangular channel, and we will neglect depth variations. Let $x$ be the coordinate along the length of the river, and $y$ be the cross-stream coordinate. We will model the river current as\n",
        "\n",
        "$$ u(y) = U_0\\left(1-\\frac{(y-w/2)^2}{(w/2)^2}\\right) $$\n",
        "\n",
        "where $w$ is the width of the river and $U_0$ is the maximum current speed which occurs at the center of the river (the $y$-coordinate will run from 0 to $w$).\n",
        "\n",
        "Since we want to know how the pollution levels vary in time, we will solve the time-dependent advection/diffusion equation. We will model the addition of pollution by adding a time-dependent source term to the right hand side of the equation governing pollutant concentration:\n",
        "\n",
        "$$ \\frac{\\partial c}{\\partial t} + u(y)\\frac{\\partial c}{\\partial x} = \\kappa \\nabla^2 c + S(x,y) $$\n",
        "\n",
        "where $\\nabla^2=(\\partial_x^2 + \\partial_y^2)$ is the Laplacian operator for diffusion in 2D Cartesian coordinates, and $S$ is the source term."
      ]
    },
    {
      "cell_type": "markdown",
      "metadata": {
        "id": "J2n6Vmw7Gj7k"
      },
      "source": [
        "### 2.1 Dedalus script\n",
        "\n",
        "The script below solves the time-dependent advection/diffusion equation with a source term."
      ]
    },
    {
      "cell_type": "code",
      "execution_count": null,
      "metadata": {
        "id": "PoPCdBYhGj7k",
        "outputId": "97ce2f1c-0653-4d2d-ff1b-4d99d454c92a",
        "colab": {
          "base_uri": "https://localhost:8080/"
        }
      },
      "outputs": [
        {
          "output_type": "stream",
          "name": "stderr",
          "text": [
            "INFO:subsystems:Building subproblem matrices 1/1 (~100%) Elapsed: 0s, Remaining: 0s, Rate: 3.6e+00/s\n"
          ]
        },
        {
          "output_type": "stream",
          "name": "stdout",
          "text": [
            "2024-11-01 17:15:45,699 subsystems 0/1 INFO :: Building subproblem matrices 1/1 (~100%) Elapsed: 0s, Remaining: 0s, Rate: 3.6e+00/s\n"
          ]
        },
        {
          "output_type": "stream",
          "name": "stderr",
          "text": [
            "INFO:__main__:Starting main loop\n"
          ]
        },
        {
          "output_type": "stream",
          "name": "stdout",
          "text": [
            "2024-11-01 17:15:45,707 __main__ 0/1 INFO :: Starting main loop\n"
          ]
        },
        {
          "output_type": "stream",
          "name": "stderr",
          "text": [
            "INFO:__main__:Iteration=1, Time=1.953125e+00, dt=1.953125e+00\n"
          ]
        },
        {
          "output_type": "stream",
          "name": "stdout",
          "text": [
            "2024-11-01 17:15:46,380 __main__ 0/1 INFO :: Iteration=1, Time=1.953125e+00, dt=1.953125e+00\n"
          ]
        },
        {
          "output_type": "stream",
          "name": "stderr",
          "text": [
            "INFO:__main__:Iteration=11, Time=2.148438e+01, dt=1.953125e+00\n"
          ]
        },
        {
          "output_type": "stream",
          "name": "stdout",
          "text": [
            "2024-11-01 17:15:46,418 __main__ 0/1 INFO :: Iteration=11, Time=2.148438e+01, dt=1.953125e+00\n"
          ]
        },
        {
          "output_type": "stream",
          "name": "stderr",
          "text": [
            "INFO:__main__:Iteration=21, Time=4.101562e+01, dt=1.953125e+00\n"
          ]
        },
        {
          "output_type": "stream",
          "name": "stdout",
          "text": [
            "2024-11-01 17:15:46,459 __main__ 0/1 INFO :: Iteration=21, Time=4.101562e+01, dt=1.953125e+00\n"
          ]
        },
        {
          "output_type": "stream",
          "name": "stderr",
          "text": [
            "INFO:__main__:Iteration=31, Time=6.054688e+01, dt=1.953125e+00\n"
          ]
        },
        {
          "output_type": "stream",
          "name": "stdout",
          "text": [
            "2024-11-01 17:15:46,501 __main__ 0/1 INFO :: Iteration=31, Time=6.054688e+01, dt=1.953125e+00\n"
          ]
        },
        {
          "output_type": "stream",
          "name": "stderr",
          "text": [
            "INFO:__main__:Iteration=41, Time=8.007812e+01, dt=1.953125e+00\n"
          ]
        },
        {
          "output_type": "stream",
          "name": "stdout",
          "text": [
            "2024-11-01 17:15:46,544 __main__ 0/1 INFO :: Iteration=41, Time=8.007812e+01, dt=1.953125e+00\n"
          ]
        },
        {
          "output_type": "stream",
          "name": "stderr",
          "text": [
            "INFO:__main__:Iteration=51, Time=9.960938e+01, dt=1.953125e+00\n"
          ]
        },
        {
          "output_type": "stream",
          "name": "stdout",
          "text": [
            "2024-11-01 17:15:46,588 __main__ 0/1 INFO :: Iteration=51, Time=9.960938e+01, dt=1.953125e+00\n"
          ]
        },
        {
          "output_type": "stream",
          "name": "stderr",
          "text": [
            "INFO:__main__:Iteration=61, Time=1.191406e+02, dt=1.953125e+00\n"
          ]
        },
        {
          "output_type": "stream",
          "name": "stdout",
          "text": [
            "2024-11-01 17:15:46,633 __main__ 0/1 INFO :: Iteration=61, Time=1.191406e+02, dt=1.953125e+00\n"
          ]
        },
        {
          "output_type": "stream",
          "name": "stderr",
          "text": [
            "INFO:__main__:Iteration=71, Time=1.386719e+02, dt=1.953125e+00\n"
          ]
        },
        {
          "output_type": "stream",
          "name": "stdout",
          "text": [
            "2024-11-01 17:15:46,675 __main__ 0/1 INFO :: Iteration=71, Time=1.386719e+02, dt=1.953125e+00\n"
          ]
        },
        {
          "output_type": "stream",
          "name": "stderr",
          "text": [
            "INFO:__main__:Iteration=81, Time=1.582031e+02, dt=1.953125e+00\n"
          ]
        },
        {
          "output_type": "stream",
          "name": "stdout",
          "text": [
            "2024-11-01 17:15:46,715 __main__ 0/1 INFO :: Iteration=81, Time=1.582031e+02, dt=1.953125e+00\n"
          ]
        },
        {
          "output_type": "stream",
          "name": "stderr",
          "text": [
            "INFO:__main__:Iteration=91, Time=1.777344e+02, dt=1.953125e+00\n"
          ]
        },
        {
          "output_type": "stream",
          "name": "stdout",
          "text": [
            "2024-11-01 17:15:46,755 __main__ 0/1 INFO :: Iteration=91, Time=1.777344e+02, dt=1.953125e+00\n"
          ]
        },
        {
          "output_type": "stream",
          "name": "stderr",
          "text": [
            "INFO:__main__:Iteration=101, Time=1.972656e+02, dt=1.953125e+00\n"
          ]
        },
        {
          "output_type": "stream",
          "name": "stdout",
          "text": [
            "2024-11-01 17:15:46,819 __main__ 0/1 INFO :: Iteration=101, Time=1.972656e+02, dt=1.953125e+00\n"
          ]
        },
        {
          "output_type": "stream",
          "name": "stderr",
          "text": [
            "INFO:__main__:Iteration=111, Time=2.167969e+02, dt=1.953125e+00\n"
          ]
        },
        {
          "output_type": "stream",
          "name": "stdout",
          "text": [
            "2024-11-01 17:15:46,873 __main__ 0/1 INFO :: Iteration=111, Time=2.167969e+02, dt=1.953125e+00\n"
          ]
        },
        {
          "output_type": "stream",
          "name": "stderr",
          "text": [
            "INFO:__main__:Iteration=121, Time=2.363281e+02, dt=1.953125e+00\n"
          ]
        },
        {
          "output_type": "stream",
          "name": "stdout",
          "text": [
            "2024-11-01 17:15:46,922 __main__ 0/1 INFO :: Iteration=121, Time=2.363281e+02, dt=1.953125e+00\n"
          ]
        },
        {
          "output_type": "stream",
          "name": "stderr",
          "text": [
            "INFO:__main__:Iteration=131, Time=2.558594e+02, dt=1.953125e+00\n"
          ]
        },
        {
          "output_type": "stream",
          "name": "stdout",
          "text": [
            "2024-11-01 17:15:46,966 __main__ 0/1 INFO :: Iteration=131, Time=2.558594e+02, dt=1.953125e+00\n"
          ]
        },
        {
          "output_type": "stream",
          "name": "stderr",
          "text": [
            "INFO:__main__:Iteration=141, Time=2.753906e+02, dt=1.953125e+00\n"
          ]
        },
        {
          "output_type": "stream",
          "name": "stdout",
          "text": [
            "2024-11-01 17:15:47,000 __main__ 0/1 INFO :: Iteration=141, Time=2.753906e+02, dt=1.953125e+00\n"
          ]
        },
        {
          "output_type": "stream",
          "name": "stderr",
          "text": [
            "INFO:__main__:Iteration=151, Time=2.949219e+02, dt=1.953125e+00\n"
          ]
        },
        {
          "output_type": "stream",
          "name": "stdout",
          "text": [
            "2024-11-01 17:15:47,032 __main__ 0/1 INFO :: Iteration=151, Time=2.949219e+02, dt=1.953125e+00\n"
          ]
        },
        {
          "output_type": "stream",
          "name": "stderr",
          "text": [
            "INFO:__main__:Iteration=161, Time=3.144531e+02, dt=1.953125e+00\n"
          ]
        },
        {
          "output_type": "stream",
          "name": "stdout",
          "text": [
            "2024-11-01 17:15:47,062 __main__ 0/1 INFO :: Iteration=161, Time=3.144531e+02, dt=1.953125e+00\n"
          ]
        },
        {
          "output_type": "stream",
          "name": "stderr",
          "text": [
            "INFO:__main__:Iteration=171, Time=3.339844e+02, dt=1.953125e+00\n"
          ]
        },
        {
          "output_type": "stream",
          "name": "stdout",
          "text": [
            "2024-11-01 17:15:47,090 __main__ 0/1 INFO :: Iteration=171, Time=3.339844e+02, dt=1.953125e+00\n"
          ]
        },
        {
          "output_type": "stream",
          "name": "stderr",
          "text": [
            "INFO:__main__:Iteration=181, Time=3.535156e+02, dt=1.953125e+00\n"
          ]
        },
        {
          "output_type": "stream",
          "name": "stdout",
          "text": [
            "2024-11-01 17:15:47,118 __main__ 0/1 INFO :: Iteration=181, Time=3.535156e+02, dt=1.953125e+00\n"
          ]
        },
        {
          "output_type": "stream",
          "name": "stderr",
          "text": [
            "INFO:__main__:Iteration=191, Time=3.730469e+02, dt=1.953125e+00\n"
          ]
        },
        {
          "output_type": "stream",
          "name": "stdout",
          "text": [
            "2024-11-01 17:15:47,148 __main__ 0/1 INFO :: Iteration=191, Time=3.730469e+02, dt=1.953125e+00\n"
          ]
        },
        {
          "output_type": "stream",
          "name": "stderr",
          "text": [
            "INFO:__main__:Iteration=201, Time=3.925781e+02, dt=1.953125e+00\n"
          ]
        },
        {
          "output_type": "stream",
          "name": "stdout",
          "text": [
            "2024-11-01 17:15:47,186 __main__ 0/1 INFO :: Iteration=201, Time=3.925781e+02, dt=1.953125e+00\n"
          ]
        },
        {
          "output_type": "stream",
          "name": "stderr",
          "text": [
            "INFO:__main__:Iteration=211, Time=4.121094e+02, dt=1.953125e+00\n"
          ]
        },
        {
          "output_type": "stream",
          "name": "stdout",
          "text": [
            "2024-11-01 17:15:47,222 __main__ 0/1 INFO :: Iteration=211, Time=4.121094e+02, dt=1.953125e+00\n"
          ]
        },
        {
          "output_type": "stream",
          "name": "stderr",
          "text": [
            "INFO:__main__:Iteration=221, Time=4.316406e+02, dt=1.953125e+00\n"
          ]
        },
        {
          "output_type": "stream",
          "name": "stdout",
          "text": [
            "2024-11-01 17:15:47,250 __main__ 0/1 INFO :: Iteration=221, Time=4.316406e+02, dt=1.953125e+00\n"
          ]
        },
        {
          "output_type": "stream",
          "name": "stderr",
          "text": [
            "INFO:__main__:Iteration=231, Time=4.511719e+02, dt=1.953125e+00\n"
          ]
        },
        {
          "output_type": "stream",
          "name": "stdout",
          "text": [
            "2024-11-01 17:15:47,283 __main__ 0/1 INFO :: Iteration=231, Time=4.511719e+02, dt=1.953125e+00\n"
          ]
        },
        {
          "output_type": "stream",
          "name": "stderr",
          "text": [
            "INFO:__main__:Iteration=241, Time=4.707031e+02, dt=1.953125e+00\n"
          ]
        },
        {
          "output_type": "stream",
          "name": "stdout",
          "text": [
            "2024-11-01 17:15:47,312 __main__ 0/1 INFO :: Iteration=241, Time=4.707031e+02, dt=1.953125e+00\n"
          ]
        },
        {
          "output_type": "stream",
          "name": "stderr",
          "text": [
            "INFO:__main__:Iteration=251, Time=4.902344e+02, dt=1.953125e+00\n"
          ]
        },
        {
          "output_type": "stream",
          "name": "stdout",
          "text": [
            "2024-11-01 17:15:47,362 __main__ 0/1 INFO :: Iteration=251, Time=4.902344e+02, dt=1.953125e+00\n"
          ]
        },
        {
          "output_type": "stream",
          "name": "stderr",
          "text": [
            "INFO:__main__:Iteration=261, Time=5.097656e+02, dt=1.953125e+00\n"
          ]
        },
        {
          "output_type": "stream",
          "name": "stdout",
          "text": [
            "2024-11-01 17:15:47,405 __main__ 0/1 INFO :: Iteration=261, Time=5.097656e+02, dt=1.953125e+00\n"
          ]
        },
        {
          "output_type": "stream",
          "name": "stderr",
          "text": [
            "INFO:__main__:Iteration=271, Time=5.292969e+02, dt=1.953125e+00\n"
          ]
        },
        {
          "output_type": "stream",
          "name": "stdout",
          "text": [
            "2024-11-01 17:15:47,448 __main__ 0/1 INFO :: Iteration=271, Time=5.292969e+02, dt=1.953125e+00\n"
          ]
        },
        {
          "output_type": "stream",
          "name": "stderr",
          "text": [
            "INFO:__main__:Iteration=281, Time=5.488281e+02, dt=1.953125e+00\n"
          ]
        },
        {
          "output_type": "stream",
          "name": "stdout",
          "text": [
            "2024-11-01 17:15:47,492 __main__ 0/1 INFO :: Iteration=281, Time=5.488281e+02, dt=1.953125e+00\n"
          ]
        },
        {
          "output_type": "stream",
          "name": "stderr",
          "text": [
            "INFO:__main__:Iteration=291, Time=5.683594e+02, dt=1.953125e+00\n"
          ]
        },
        {
          "output_type": "stream",
          "name": "stdout",
          "text": [
            "2024-11-01 17:15:47,534 __main__ 0/1 INFO :: Iteration=291, Time=5.683594e+02, dt=1.953125e+00\n"
          ]
        },
        {
          "output_type": "stream",
          "name": "stderr",
          "text": [
            "INFO:__main__:Iteration=301, Time=5.878906e+02, dt=1.953125e+00\n"
          ]
        },
        {
          "output_type": "stream",
          "name": "stdout",
          "text": [
            "2024-11-01 17:15:47,582 __main__ 0/1 INFO :: Iteration=301, Time=5.878906e+02, dt=1.953125e+00\n"
          ]
        },
        {
          "output_type": "stream",
          "name": "stderr",
          "text": [
            "INFO:__main__:Iteration=311, Time=6.074219e+02, dt=1.953125e+00\n"
          ]
        },
        {
          "output_type": "stream",
          "name": "stdout",
          "text": [
            "2024-11-01 17:15:47,643 __main__ 0/1 INFO :: Iteration=311, Time=6.074219e+02, dt=1.953125e+00\n"
          ]
        },
        {
          "output_type": "stream",
          "name": "stderr",
          "text": [
            "INFO:__main__:Iteration=321, Time=6.269531e+02, dt=1.953125e+00\n"
          ]
        },
        {
          "output_type": "stream",
          "name": "stdout",
          "text": [
            "2024-11-01 17:15:47,693 __main__ 0/1 INFO :: Iteration=321, Time=6.269531e+02, dt=1.953125e+00\n"
          ]
        },
        {
          "output_type": "stream",
          "name": "stderr",
          "text": [
            "INFO:__main__:Iteration=331, Time=6.464844e+02, dt=1.953125e+00\n"
          ]
        },
        {
          "output_type": "stream",
          "name": "stdout",
          "text": [
            "2024-11-01 17:15:47,738 __main__ 0/1 INFO :: Iteration=331, Time=6.464844e+02, dt=1.953125e+00\n"
          ]
        },
        {
          "output_type": "stream",
          "name": "stderr",
          "text": [
            "INFO:__main__:Iteration=341, Time=6.660156e+02, dt=1.953125e+00\n"
          ]
        },
        {
          "output_type": "stream",
          "name": "stdout",
          "text": [
            "2024-11-01 17:15:47,803 __main__ 0/1 INFO :: Iteration=341, Time=6.660156e+02, dt=1.953125e+00\n"
          ]
        },
        {
          "output_type": "stream",
          "name": "stderr",
          "text": [
            "INFO:__main__:Iteration=351, Time=6.855469e+02, dt=1.953125e+00\n"
          ]
        },
        {
          "output_type": "stream",
          "name": "stdout",
          "text": [
            "2024-11-01 17:15:47,842 __main__ 0/1 INFO :: Iteration=351, Time=6.855469e+02, dt=1.953125e+00\n"
          ]
        },
        {
          "output_type": "stream",
          "name": "stderr",
          "text": [
            "INFO:__main__:Iteration=361, Time=7.050781e+02, dt=1.953125e+00\n"
          ]
        },
        {
          "output_type": "stream",
          "name": "stdout",
          "text": [
            "2024-11-01 17:15:47,881 __main__ 0/1 INFO :: Iteration=361, Time=7.050781e+02, dt=1.953125e+00\n"
          ]
        },
        {
          "output_type": "stream",
          "name": "stderr",
          "text": [
            "INFO:__main__:Iteration=371, Time=7.246094e+02, dt=1.953125e+00\n"
          ]
        },
        {
          "output_type": "stream",
          "name": "stdout",
          "text": [
            "2024-11-01 17:15:47,921 __main__ 0/1 INFO :: Iteration=371, Time=7.246094e+02, dt=1.953125e+00\n"
          ]
        },
        {
          "output_type": "stream",
          "name": "stderr",
          "text": [
            "INFO:__main__:Iteration=381, Time=7.441406e+02, dt=1.953125e+00\n"
          ]
        },
        {
          "output_type": "stream",
          "name": "stdout",
          "text": [
            "2024-11-01 17:15:47,961 __main__ 0/1 INFO :: Iteration=381, Time=7.441406e+02, dt=1.953125e+00\n"
          ]
        },
        {
          "output_type": "stream",
          "name": "stderr",
          "text": [
            "INFO:__main__:Iteration=391, Time=7.636719e+02, dt=1.953125e+00\n"
          ]
        },
        {
          "output_type": "stream",
          "name": "stdout",
          "text": [
            "2024-11-01 17:15:47,998 __main__ 0/1 INFO :: Iteration=391, Time=7.636719e+02, dt=1.953125e+00\n"
          ]
        },
        {
          "output_type": "stream",
          "name": "stderr",
          "text": [
            "INFO:__main__:Iteration=401, Time=7.832031e+02, dt=1.953125e+00\n"
          ]
        },
        {
          "output_type": "stream",
          "name": "stdout",
          "text": [
            "2024-11-01 17:15:48,034 __main__ 0/1 INFO :: Iteration=401, Time=7.832031e+02, dt=1.953125e+00\n"
          ]
        },
        {
          "output_type": "stream",
          "name": "stderr",
          "text": [
            "INFO:__main__:Iteration=411, Time=8.027344e+02, dt=1.953125e+00\n"
          ]
        },
        {
          "output_type": "stream",
          "name": "stdout",
          "text": [
            "2024-11-01 17:15:48,069 __main__ 0/1 INFO :: Iteration=411, Time=8.027344e+02, dt=1.953125e+00\n"
          ]
        },
        {
          "output_type": "stream",
          "name": "stderr",
          "text": [
            "INFO:__main__:Iteration=421, Time=8.222656e+02, dt=1.953125e+00\n"
          ]
        },
        {
          "output_type": "stream",
          "name": "stdout",
          "text": [
            "2024-11-01 17:15:48,098 __main__ 0/1 INFO :: Iteration=421, Time=8.222656e+02, dt=1.953125e+00\n"
          ]
        },
        {
          "output_type": "stream",
          "name": "stderr",
          "text": [
            "INFO:__main__:Iteration=431, Time=8.417969e+02, dt=1.953125e+00\n"
          ]
        },
        {
          "output_type": "stream",
          "name": "stdout",
          "text": [
            "2024-11-01 17:15:48,126 __main__ 0/1 INFO :: Iteration=431, Time=8.417969e+02, dt=1.953125e+00\n"
          ]
        },
        {
          "output_type": "stream",
          "name": "stderr",
          "text": [
            "INFO:__main__:Iteration=441, Time=8.613281e+02, dt=1.953125e+00\n"
          ]
        },
        {
          "output_type": "stream",
          "name": "stdout",
          "text": [
            "2024-11-01 17:15:48,156 __main__ 0/1 INFO :: Iteration=441, Time=8.613281e+02, dt=1.953125e+00\n"
          ]
        },
        {
          "output_type": "stream",
          "name": "stderr",
          "text": [
            "INFO:__main__:Iteration=451, Time=8.808594e+02, dt=1.953125e+00\n"
          ]
        },
        {
          "output_type": "stream",
          "name": "stdout",
          "text": [
            "2024-11-01 17:15:48,184 __main__ 0/1 INFO :: Iteration=451, Time=8.808594e+02, dt=1.953125e+00\n"
          ]
        },
        {
          "output_type": "stream",
          "name": "stderr",
          "text": [
            "INFO:__main__:Iteration=461, Time=9.003906e+02, dt=1.953125e+00\n"
          ]
        },
        {
          "output_type": "stream",
          "name": "stdout",
          "text": [
            "2024-11-01 17:15:48,212 __main__ 0/1 INFO :: Iteration=461, Time=9.003906e+02, dt=1.953125e+00\n"
          ]
        },
        {
          "output_type": "stream",
          "name": "stderr",
          "text": [
            "INFO:__main__:Iteration=471, Time=9.199219e+02, dt=1.953125e+00\n"
          ]
        },
        {
          "output_type": "stream",
          "name": "stdout",
          "text": [
            "2024-11-01 17:15:48,275 __main__ 0/1 INFO :: Iteration=471, Time=9.199219e+02, dt=1.953125e+00\n"
          ]
        },
        {
          "output_type": "stream",
          "name": "stderr",
          "text": [
            "INFO:__main__:Iteration=481, Time=9.394531e+02, dt=1.953125e+00\n"
          ]
        },
        {
          "output_type": "stream",
          "name": "stdout",
          "text": [
            "2024-11-01 17:15:48,363 __main__ 0/1 INFO :: Iteration=481, Time=9.394531e+02, dt=1.953125e+00\n"
          ]
        },
        {
          "output_type": "stream",
          "name": "stderr",
          "text": [
            "INFO:__main__:Iteration=491, Time=9.589844e+02, dt=1.953125e+00\n"
          ]
        },
        {
          "output_type": "stream",
          "name": "stdout",
          "text": [
            "2024-11-01 17:15:48,405 __main__ 0/1 INFO :: Iteration=491, Time=9.589844e+02, dt=1.953125e+00\n"
          ]
        },
        {
          "output_type": "stream",
          "name": "stderr",
          "text": [
            "INFO:__main__:Iteration=501, Time=9.785156e+02, dt=1.953125e+00\n"
          ]
        },
        {
          "output_type": "stream",
          "name": "stdout",
          "text": [
            "2024-11-01 17:15:48,451 __main__ 0/1 INFO :: Iteration=501, Time=9.785156e+02, dt=1.953125e+00\n"
          ]
        },
        {
          "output_type": "stream",
          "name": "stderr",
          "text": [
            "INFO:__main__:Iteration=511, Time=9.980469e+02, dt=1.953125e+00\n"
          ]
        },
        {
          "output_type": "stream",
          "name": "stdout",
          "text": [
            "2024-11-01 17:15:48,504 __main__ 0/1 INFO :: Iteration=511, Time=9.980469e+02, dt=1.953125e+00\n"
          ]
        },
        {
          "output_type": "stream",
          "name": "stderr",
          "text": [
            "INFO:__main__:Iteration=521, Time=1.017578e+03, dt=1.953125e+00\n"
          ]
        },
        {
          "output_type": "stream",
          "name": "stdout",
          "text": [
            "2024-11-01 17:15:48,553 __main__ 0/1 INFO :: Iteration=521, Time=1.017578e+03, dt=1.953125e+00\n"
          ]
        },
        {
          "output_type": "stream",
          "name": "stderr",
          "text": [
            "INFO:__main__:Iteration=531, Time=1.037109e+03, dt=1.953125e+00\n"
          ]
        },
        {
          "output_type": "stream",
          "name": "stdout",
          "text": [
            "2024-11-01 17:15:48,600 __main__ 0/1 INFO :: Iteration=531, Time=1.037109e+03, dt=1.953125e+00\n"
          ]
        },
        {
          "output_type": "stream",
          "name": "stderr",
          "text": [
            "INFO:__main__:Iteration=541, Time=1.056641e+03, dt=1.953125e+00\n"
          ]
        },
        {
          "output_type": "stream",
          "name": "stdout",
          "text": [
            "2024-11-01 17:15:48,648 __main__ 0/1 INFO :: Iteration=541, Time=1.056641e+03, dt=1.953125e+00\n"
          ]
        },
        {
          "output_type": "stream",
          "name": "stderr",
          "text": [
            "INFO:__main__:Iteration=551, Time=1.076172e+03, dt=1.953125e+00\n"
          ]
        },
        {
          "output_type": "stream",
          "name": "stdout",
          "text": [
            "2024-11-01 17:15:48,702 __main__ 0/1 INFO :: Iteration=551, Time=1.076172e+03, dt=1.953125e+00\n"
          ]
        },
        {
          "output_type": "stream",
          "name": "stderr",
          "text": [
            "INFO:__main__:Iteration=561, Time=1.095703e+03, dt=1.953125e+00\n"
          ]
        },
        {
          "output_type": "stream",
          "name": "stdout",
          "text": [
            "2024-11-01 17:15:48,752 __main__ 0/1 INFO :: Iteration=561, Time=1.095703e+03, dt=1.953125e+00\n"
          ]
        },
        {
          "output_type": "stream",
          "name": "stderr",
          "text": [
            "INFO:__main__:Iteration=571, Time=1.115234e+03, dt=1.953125e+00\n"
          ]
        },
        {
          "output_type": "stream",
          "name": "stdout",
          "text": [
            "2024-11-01 17:15:48,840 __main__ 0/1 INFO :: Iteration=571, Time=1.115234e+03, dt=1.953125e+00\n"
          ]
        },
        {
          "output_type": "stream",
          "name": "stderr",
          "text": [
            "INFO:__main__:Iteration=581, Time=1.134766e+03, dt=1.953125e+00\n"
          ]
        },
        {
          "output_type": "stream",
          "name": "stdout",
          "text": [
            "2024-11-01 17:15:48,974 __main__ 0/1 INFO :: Iteration=581, Time=1.134766e+03, dt=1.953125e+00\n"
          ]
        },
        {
          "output_type": "stream",
          "name": "stderr",
          "text": [
            "INFO:__main__:Iteration=591, Time=1.154297e+03, dt=1.953125e+00\n"
          ]
        },
        {
          "output_type": "stream",
          "name": "stdout",
          "text": [
            "2024-11-01 17:15:49,138 __main__ 0/1 INFO :: Iteration=591, Time=1.154297e+03, dt=1.953125e+00\n"
          ]
        },
        {
          "output_type": "stream",
          "name": "stderr",
          "text": [
            "INFO:__main__:Iteration=601, Time=1.173828e+03, dt=1.953125e+00\n"
          ]
        },
        {
          "output_type": "stream",
          "name": "stdout",
          "text": [
            "2024-11-01 17:15:49,193 __main__ 0/1 INFO :: Iteration=601, Time=1.173828e+03, dt=1.953125e+00\n"
          ]
        },
        {
          "output_type": "stream",
          "name": "stderr",
          "text": [
            "INFO:__main__:Iteration=611, Time=1.193359e+03, dt=1.953125e+00\n"
          ]
        },
        {
          "output_type": "stream",
          "name": "stdout",
          "text": [
            "2024-11-01 17:15:49,239 __main__ 0/1 INFO :: Iteration=611, Time=1.193359e+03, dt=1.953125e+00\n"
          ]
        },
        {
          "output_type": "stream",
          "name": "stderr",
          "text": [
            "INFO:__main__:Iteration=621, Time=1.212891e+03, dt=1.953125e+00\n"
          ]
        },
        {
          "output_type": "stream",
          "name": "stdout",
          "text": [
            "2024-11-01 17:15:49,286 __main__ 0/1 INFO :: Iteration=621, Time=1.212891e+03, dt=1.953125e+00\n"
          ]
        },
        {
          "output_type": "stream",
          "name": "stderr",
          "text": [
            "INFO:__main__:Iteration=631, Time=1.232422e+03, dt=1.953125e+00\n"
          ]
        },
        {
          "output_type": "stream",
          "name": "stdout",
          "text": [
            "2024-11-01 17:15:49,337 __main__ 0/1 INFO :: Iteration=631, Time=1.232422e+03, dt=1.953125e+00\n"
          ]
        },
        {
          "output_type": "stream",
          "name": "stderr",
          "text": [
            "INFO:__main__:Iteration=641, Time=1.251953e+03, dt=1.953125e+00\n"
          ]
        },
        {
          "output_type": "stream",
          "name": "stdout",
          "text": [
            "2024-11-01 17:15:49,405 __main__ 0/1 INFO :: Iteration=641, Time=1.251953e+03, dt=1.953125e+00\n"
          ]
        },
        {
          "output_type": "stream",
          "name": "stderr",
          "text": [
            "INFO:__main__:Iteration=651, Time=1.271484e+03, dt=1.953125e+00\n"
          ]
        },
        {
          "output_type": "stream",
          "name": "stdout",
          "text": [
            "2024-11-01 17:15:49,450 __main__ 0/1 INFO :: Iteration=651, Time=1.271484e+03, dt=1.953125e+00\n"
          ]
        },
        {
          "output_type": "stream",
          "name": "stderr",
          "text": [
            "INFO:__main__:Iteration=661, Time=1.291016e+03, dt=1.953125e+00\n"
          ]
        },
        {
          "output_type": "stream",
          "name": "stdout",
          "text": [
            "2024-11-01 17:15:49,533 __main__ 0/1 INFO :: Iteration=661, Time=1.291016e+03, dt=1.953125e+00\n"
          ]
        },
        {
          "output_type": "stream",
          "name": "stderr",
          "text": [
            "INFO:__main__:Iteration=671, Time=1.310547e+03, dt=1.953125e+00\n"
          ]
        },
        {
          "output_type": "stream",
          "name": "stdout",
          "text": [
            "2024-11-01 17:15:49,584 __main__ 0/1 INFO :: Iteration=671, Time=1.310547e+03, dt=1.953125e+00\n"
          ]
        },
        {
          "output_type": "stream",
          "name": "stderr",
          "text": [
            "INFO:__main__:Iteration=681, Time=1.330078e+03, dt=1.953125e+00\n"
          ]
        },
        {
          "output_type": "stream",
          "name": "stdout",
          "text": [
            "2024-11-01 17:15:49,640 __main__ 0/1 INFO :: Iteration=681, Time=1.330078e+03, dt=1.953125e+00\n"
          ]
        },
        {
          "output_type": "stream",
          "name": "stderr",
          "text": [
            "INFO:__main__:Iteration=691, Time=1.349609e+03, dt=1.953125e+00\n"
          ]
        },
        {
          "output_type": "stream",
          "name": "stdout",
          "text": [
            "2024-11-01 17:15:49,762 __main__ 0/1 INFO :: Iteration=691, Time=1.349609e+03, dt=1.953125e+00\n"
          ]
        },
        {
          "output_type": "stream",
          "name": "stderr",
          "text": [
            "INFO:__main__:Iteration=701, Time=1.369141e+03, dt=1.953125e+00\n"
          ]
        },
        {
          "output_type": "stream",
          "name": "stdout",
          "text": [
            "2024-11-01 17:15:49,856 __main__ 0/1 INFO :: Iteration=701, Time=1.369141e+03, dt=1.953125e+00\n"
          ]
        },
        {
          "output_type": "stream",
          "name": "stderr",
          "text": [
            "INFO:__main__:Iteration=711, Time=1.388672e+03, dt=1.953125e+00\n"
          ]
        },
        {
          "output_type": "stream",
          "name": "stdout",
          "text": [
            "2024-11-01 17:15:49,913 __main__ 0/1 INFO :: Iteration=711, Time=1.388672e+03, dt=1.953125e+00\n"
          ]
        },
        {
          "output_type": "stream",
          "name": "stderr",
          "text": [
            "INFO:__main__:Iteration=721, Time=1.408203e+03, dt=1.953125e+00\n"
          ]
        },
        {
          "output_type": "stream",
          "name": "stdout",
          "text": [
            "2024-11-01 17:15:49,976 __main__ 0/1 INFO :: Iteration=721, Time=1.408203e+03, dt=1.953125e+00\n"
          ]
        },
        {
          "output_type": "stream",
          "name": "stderr",
          "text": [
            "INFO:__main__:Iteration=731, Time=1.427734e+03, dt=1.953125e+00\n"
          ]
        },
        {
          "output_type": "stream",
          "name": "stdout",
          "text": [
            "2024-11-01 17:15:50,047 __main__ 0/1 INFO :: Iteration=731, Time=1.427734e+03, dt=1.953125e+00\n"
          ]
        },
        {
          "output_type": "stream",
          "name": "stderr",
          "text": [
            "INFO:__main__:Iteration=741, Time=1.447266e+03, dt=1.953125e+00\n"
          ]
        },
        {
          "output_type": "stream",
          "name": "stdout",
          "text": [
            "2024-11-01 17:15:50,111 __main__ 0/1 INFO :: Iteration=741, Time=1.447266e+03, dt=1.953125e+00\n"
          ]
        },
        {
          "output_type": "stream",
          "name": "stderr",
          "text": [
            "INFO:__main__:Iteration=751, Time=1.466797e+03, dt=1.953125e+00\n"
          ]
        },
        {
          "output_type": "stream",
          "name": "stdout",
          "text": [
            "2024-11-01 17:15:50,175 __main__ 0/1 INFO :: Iteration=751, Time=1.466797e+03, dt=1.953125e+00\n"
          ]
        },
        {
          "output_type": "stream",
          "name": "stderr",
          "text": [
            "INFO:__main__:Iteration=761, Time=1.486328e+03, dt=1.953125e+00\n"
          ]
        },
        {
          "output_type": "stream",
          "name": "stdout",
          "text": [
            "2024-11-01 17:15:50,262 __main__ 0/1 INFO :: Iteration=761, Time=1.486328e+03, dt=1.953125e+00\n"
          ]
        },
        {
          "output_type": "stream",
          "name": "stderr",
          "text": [
            "INFO:solvers:Simulation stop time reached.\n"
          ]
        },
        {
          "output_type": "stream",
          "name": "stdout",
          "text": [
            "2024-11-01 17:15:50,359 solvers 0/1 INFO :: Simulation stop time reached.\n"
          ]
        },
        {
          "output_type": "stream",
          "name": "stderr",
          "text": [
            "INFO:solvers:Final iteration: 768\n"
          ]
        },
        {
          "output_type": "stream",
          "name": "stdout",
          "text": [
            "2024-11-01 17:15:50,369 solvers 0/1 INFO :: Final iteration: 768\n"
          ]
        },
        {
          "output_type": "stream",
          "name": "stderr",
          "text": [
            "INFO:solvers:Final sim time: 1500.0\n"
          ]
        },
        {
          "output_type": "stream",
          "name": "stdout",
          "text": [
            "2024-11-01 17:15:50,378 solvers 0/1 INFO :: Final sim time: 1500.0\n"
          ]
        },
        {
          "output_type": "stream",
          "name": "stderr",
          "text": [
            "INFO:solvers:Setup time (init - iter 0): 1.053 sec\n"
          ]
        },
        {
          "output_type": "stream",
          "name": "stdout",
          "text": [
            "2024-11-01 17:15:50,382 solvers 0/1 INFO :: Setup time (init - iter 0): 1.053 sec\n"
          ]
        },
        {
          "output_type": "stream",
          "name": "stderr",
          "text": [
            "INFO:solvers:Warmup time (iter 0-10): 0.07391 sec\n"
          ]
        },
        {
          "output_type": "stream",
          "name": "stdout",
          "text": [
            "2024-11-01 17:15:50,385 solvers 0/1 INFO :: Warmup time (iter 0-10): 0.07391 sec\n"
          ]
        },
        {
          "output_type": "stream",
          "name": "stderr",
          "text": [
            "INFO:solvers:Run time (iter 10-end): 3.955 sec\n"
          ]
        },
        {
          "output_type": "stream",
          "name": "stdout",
          "text": [
            "2024-11-01 17:15:50,389 solvers 0/1 INFO :: Run time (iter 10-end): 3.955 sec\n"
          ]
        },
        {
          "output_type": "stream",
          "name": "stderr",
          "text": [
            "INFO:solvers:CPU time (iter 10-end): 0.001099 cpu-hr\n"
          ]
        },
        {
          "output_type": "stream",
          "name": "stdout",
          "text": [
            "2024-11-01 17:15:50,392 solvers 0/1 INFO :: CPU time (iter 10-end): 0.001099 cpu-hr\n"
          ]
        },
        {
          "output_type": "stream",
          "name": "stderr",
          "text": [
            "INFO:solvers:Speed: 3.323e+06 mode-stages/cpu-sec\n"
          ]
        },
        {
          "output_type": "stream",
          "name": "stdout",
          "text": [
            "2024-11-01 17:15:50,394 solvers 0/1 INFO :: Speed: 3.323e+06 mode-stages/cpu-sec\n"
          ]
        }
      ],
      "source": [
        "\"\"\"\n",
        "Script to solve the time-dependent advection/diffusion equation\n",
        "\"\"\"\n",
        "\n",
        "import numpy as np\n",
        "import matplotlib.pyplot as plt\n",
        "import dedalus.public as dedalus\n",
        "import logging\n",
        "logger = logging.getLogger(__name__)\n",
        "\n",
        "# Set parameters\n",
        "U0 = 0.1 # maximum current speed in m/s       - CHANGE THIS\n",
        "w = 10 # width of the river in m\n",
        "L = 50 # length of the river section to simulate\n",
        "kappa = 1e-2 # diffusivity in m^2/s           - CHANGE THIS\n",
        "S0 = 1 # amplitude of the pollution source term\n",
        "S_w = 1 # width of the source term in m\n",
        "S_x = 10 # center of the forcing in x\n",
        "S_y = 0 # center of the forcing in y\n",
        "S_t = 1 # forcing timescale\n",
        "\n",
        "# Numerical parameters\n",
        "Nx = 256 # number of gridoints in x\n",
        "Ny = 32 # number of gridpoints in y\n",
        "stop_sim_time=1500 # end time in seconds\n",
        "timestep = (L/Nx)/U0 # timestep in seconds, calculated from the CFL number\n",
        "\n",
        "import numpy as np\n",
        "import dedalus.public as dedalus\n",
        "import logging\n",
        "logger = logging.getLogger(__name__)\n",
        "\n",
        "# Bases and coordinates\n",
        "coords = dedalus.CartesianCoordinates('x', 'y')\n",
        "dist = dedalus.Distributor(coords, dtype=np.float64)\n",
        "xbasis = dedalus.RealFourier(coords['x'], size=Nx, bounds=(0, L), dealias=3/2)\n",
        "ybasis = dedalus.ChebyshevT(coords['y'], size=Ny, bounds=(0, w), dealias=3/2)\n",
        "x, y = dist.local_grids(xbasis, ybasis)\n",
        "ex, ey = coords.unit_vector_fields(dist) # x and y unit vectors\n",
        "\n",
        "# Fields\n",
        "c = dist.Field(name='b', bases=(xbasis,ybasis))\n",
        "u = dist.Field(name='u', bases=(xbasis,ybasis))\n",
        "tau_1 = dist.Field(name='tau_1', bases=xbasis)\n",
        "tau_2 = dist.Field(name='tau_2', bases=xbasis)\n",
        "\n",
        "# Specify the velocity field\n",
        "u['g'] = U0 * (1- (y - w/2)**2.0/(w/2)**2.0) # parabolic velocity profile\n",
        "\n",
        "# Substitutions\n",
        "lift_basis = ybasis.derivative_basis(1)\n",
        "lift = lambda A: dedalus.Lift(A, lift_basis, -1)\n",
        "grad_c = dedalus.grad(c) + ey*lift(tau_1)\n",
        "dx = lambda A: dedalus.Differentiate(A, coords['x'])\n",
        "\n",
        "S = dist.Field(name='u', bases=(xbasis,ybasis))\n",
        "S['g'] = S0*np.exp(-(x-S_x)**2.0/S_w**2.0-(y-S_y)**2.0/S_w**2.0)\n",
        "\n",
        "# Problem\n",
        "problem = dedalus.IVP([c, tau_1, tau_2], namespace=locals())\n",
        "problem.add_equation(\"dt(c) + u*dx(c) - kappa*div(grad_c) + lift(tau_2) = S/S_t\")\n",
        "problem.add_equation(\"c(y=0) = 0\")\n",
        "problem.add_equation(\"c(y=w) = 0\")\n",
        "\n",
        "# Now, set the solver\n",
        "solver = problem.build_solver(dedalus.RK222)\n",
        "solver.stop_sim_time = stop_sim_time\n",
        "\n",
        "# Create an array to periodically save the concentration field for plotting later\n",
        "c.change_scales(1)\n",
        "c_save = [np.copy(c['g'])];\n",
        "\n",
        "t_save = [solver.sim_time]; # Save the initial condition and the initial time\n",
        "# Main loop\n",
        "try:\n",
        "    logger.info('Starting main loop')\n",
        "    while solver.proceed:\n",
        "        solver.step(timestep)\n",
        "        if (solver.iteration-1) % 10 == 0:\n",
        "            logger.info('Iteration=%i, Time=%e, dt=%e' %(solver.iteration, solver.sim_time, timestep))\n",
        "            c.change_scales(1)\n",
        "            c_save.append(np.copy(c['g']))\n",
        "            t_save.append(solver.sim_time)\n",
        "except:\n",
        "    logger.error('Exception raised, triggering end of main loop.')\n",
        "    raise\n",
        "finally:\n",
        "    solver.log_stats()\n",
        "\n",
        "# Convert the variables to numpy arrays for allow array slicing\n",
        "c_save = np.array(c_save)"
      ]
    },
    {
      "cell_type": "markdown",
      "metadata": {
        "id": "aM2POG5jGj7k"
      },
      "source": [
        "## 2.2 Visualization\n",
        "\n",
        "The script below makes a movie of the results from the saved variables. To run this, you need to have ffmpeg installed.  If you don't already have it installed, you can install ffmpeg with the command:\n",
        "\n",
        "`conda install -c conda-forge ffmpeg`"
      ]
    },
    {
      "cell_type": "code",
      "execution_count": 26,
      "metadata": {
        "id": "-bEWOfkrGj7k",
        "outputId": "d0ef01e9-7b2f-42f0-e70a-d7eca534670e",
        "colab": {
          "base_uri": "https://localhost:8080/",
          "height": 891
        }
      },
      "outputs": [
        {
          "output_type": "stream",
          "name": "stderr",
          "text": [
            "INFO:matplotlib.animation:Animation.save using <class 'matplotlib.animation.FFMpegWriter'>\n"
          ]
        },
        {
          "output_type": "stream",
          "name": "stdout",
          "text": [
            "2024-11-01 18:41:49,602 matplotlib.animation 0/1 INFO :: Animation.save using <class 'matplotlib.animation.FFMpegWriter'>\n"
          ]
        },
        {
          "output_type": "stream",
          "name": "stderr",
          "text": [
            "INFO:matplotlib.animation:MovieWriter._run: running command: ffmpeg -f rawvideo -vcodec rawvideo -s 600x600 -pix_fmt rgba -framerate 25.0 -i pipe: -vcodec h264 -pix_fmt yuv420p -y /tmp/tmp39bvsl9k/temp.m4v\n"
          ]
        },
        {
          "output_type": "stream",
          "name": "stdout",
          "text": [
            "2024-11-01 18:41:49,607 matplotlib.animation 0/1 INFO :: MovieWriter._run: running command: ffmpeg -f rawvideo -vcodec rawvideo -s 600x600 -pix_fmt rgba -framerate 25.0 -i pipe: -vcodec h264 -pix_fmt yuv420p -y /tmp/tmp39bvsl9k/temp.m4v\n"
          ]
        },
        {
          "output_type": "execute_result",
          "data": {
            "text/plain": [
              "<IPython.core.display.HTML object>"
            ],
            "text/html": [
              "<video width=\"600\" height=\"600\" controls autoplay loop>\n",
              "  <source type=\"video/mp4\" src=\"data:video/mp4;base64,AAAAIGZ0eXBNNFYgAAACAE00ViBpc29taXNvMmF2YzEAAAAIZnJlZQAAugptZGF0AAACrgYF//+q\n",
              "3EXpvebZSLeWLNgg2SPu73gyNjQgLSBjb3JlIDE2MyByMzA2MCA1ZGI2YWE2IC0gSC4yNjQvTVBF\n",
              "Ry00IEFWQyBjb2RlYyAtIENvcHlsZWZ0IDIwMDMtMjAyMSAtIGh0dHA6Ly93d3cudmlkZW9sYW4u\n",
              "b3JnL3gyNjQuaHRtbCAtIG9wdGlvbnM6IGNhYmFjPTEgcmVmPTMgZGVibG9jaz0xOjA6MCBhbmFs\n",
              "eXNlPTB4MzoweDExMyBtZT1oZXggc3VibWU9NyBwc3k9MSBwc3lfcmQ9MS4wMDowLjAwIG1peGVk\n",
              "X3JlZj0xIG1lX3JhbmdlPTE2IGNocm9tYV9tZT0xIHRyZWxsaXM9MSA4eDhkY3Q9MSBjcW09MCBk\n",
              "ZWFkem9uZT0yMSwxMSBmYXN0X3Bza2lwPTEgY2hyb21hX3FwX29mZnNldD0tMiB0aHJlYWRzPTMg\n",
              "bG9va2FoZWFkX3RocmVhZHM9MSBzbGljZWRfdGhyZWFkcz0wIG5yPTAgZGVjaW1hdGU9MSBpbnRl\n",
              "cmxhY2VkPTAgYmx1cmF5X2NvbXBhdD0wIGNvbnN0cmFpbmVkX2ludHJhPTAgYmZyYW1lcz0zIGJf\n",
              "cHlyYW1pZD0yIGJfYWRhcHQ9MSBiX2JpYXM9MCBkaXJlY3Q9MSB3ZWlnaHRiPTEgb3Blbl9nb3A9\n",
              "MCB3ZWlnaHRwPTIga2V5aW50PTI1MCBrZXlpbnRfbWluPTI1IHNjZW5lY3V0PTQwIGludHJhX3Jl\n",
              "ZnJlc2g9MCByY19sb29rYWhlYWQ9NDAgcmM9Y3JmIG1idHJlZT0xIGNyZj0yMy4wIHFjb21wPTAu\n",
              "NjAgcXBtaW49MCBxcG1heD02OSBxcHN0ZXA9NCBpcF9yYXRpbz0xLjQwIGFxPTE6MS4wMACAAAAP\n",
              "vmWIhAA7//73Tr8Cm0WXagOSVwr2yqQmWblSawHypgAAAwAAAwAAAwLa9HiTO+TU8TYAAAMBBwAo\n",
              "YVMRISAUsbwqBIiSFwOM2zAH7Mfnl4kAoCjb52TJceI7LMwtYO8mo1dXqalPZBOWairsF1cuClW8\n",
              "2qIbZjPp4sHlZSmT361wHAJWxCinv2uD7IEEjDLx/N9fBzMI8rze6JcJvioUCPbugZSCW+2RujFA\n",
              "lxeAbvjBHhoYiBVv009DlPzvssS4XAMHt86VdukzVizVDOTTLyFxq8/5RQo2LvmBRpq9ezISkAUL\n",
              "wo1ct1k0jlbzpIQV+C8ixKnXAyvu8kaywN9pRrQGPm2hJIHiOOI2WNC7npcpyozNVRTVMmoDOiUg\n",
              "jbWIkVy7SOs1rfNWiuToMyPK94W8O97MOwGLHaZ2g783kJnKKvetUixK8wjmeB0DlaTo75kgMUCQ\n",
              "bBgPmwAWvPaAG0TfDk2Np0FmcOuLtNjYqxnFsLWSpFFslZRhJ7ucf3dC/fkVCBqKVuaX2S6M9tRg\n",
              "xB8YC1nm6RA1xblNUCgvNRN8evx7KRdTEATDjm0YKtHjTi4HtzuT26ZuP48EkYokn+zPql8np3FG\n",
              "Io3wa4Nm8MIbyQBzT71le6EpaElowKh4X1xT2BgtWra1aqW59AjVxYaFxnnCkWjIFmFxwPJ2JrKt\n",
              "tr7N0WNl20VtxoqX0jNoc9K1L2xdspSn//W6K6rSQRm88z4wPJd54jXEQ0qEROcBRzPCChrccabc\n",
              "bct3k6sAztsBieBKdcDAOdINCxnshplfzNXOBFbIpJ532t7uKfRQ7DSnre6eBTYfm+qV9XkUiaSI\n",
              "pDvhQWubQ6rKwtUhHt3TcsyN/xfWWtxWInwnOwrgVPCxZc5SxavTmwgmhHUymB4g0kOL74ZFRyRI\n",
              "VNDC1SXp+ePxdPt86ZO+VeA7lpoYWNwxIWBz/+v4F0XOzoKs/ebYgez1pSM1mGSRjbqft23RyvOf\n",
              "iQACAiLbAqUAVw4imXKP8Tns7YG2zw4KfBZkc3c9MvQub+SgMg9eNb88L2+w4IkGJpz1S+LQg82v\n",
              "9xpd3uyU8Jda7MzexdNYkoKBaJT1pJUPdqViEMbof/y7Xwpuv49+nlrbc0FxHqqNWr0QcKVdHG+s\n",
              "hSjAF4CuHvFELkChSKna4qJrgzjcnqGhmrznJf74tcCX5nYgGytyxzXtPNf3GVUvZOZgTF9K+J2U\n",
              "F3423GXXoMXxm/H1gqetDfT+lLnVw7BXrvZT/u0wtYnnc5DCrcOxGzx3v2ez8lrKZf2iAf/BEzvA\n",
              "/a12WW7nYy6lZZ5jadg1Do2EUs03GtnqF91N94ksdWSokpLwqJL9+5c1dVqeZgPuw2VmIwhZNOkN\n",
              "te7q6mSrsJiFjNkMTRjiU1s5CD92qRTInibEdimDxyt1AkWRHjPQlJDOaMBhvsYBVKNj7eaSb8Xq\n",
              "KKe8Ra/QlIRDsg0ZBB7OAyUEdNCaS1tg48gIHpEUxBjy6K+wBtYxEoVH501Poq5ET0ZOhtKdM1FT\n",
              "icExTt795tlpDvG89wsp1kIKivwk9mYzg6v5IUJ3BiwtLmgr8oO0sVpF9R6h9mNkkY8QNpGs0Mqf\n",
              "ztjNCJRc/9yGKpUE/mClqza33tsfw+WJ5jZ1521DlRuJk64iLWoFto/PfUjbXT5fvuCtMkyFxE6f\n",
              "D2I1xgrSOl3GVFEFq5Yqozy3zKW9rcSyCYsf+wX2axszIS9T+PreqDEndTssg0U3YvRuMBZrYAWS\n",
              "q/QJsR+eCig/T9Vi4Xy9wbib3p1hH0/bELElUygGDO6ARItR9QIaPCX2q8GQPNIj2VouB2EJNL1/\n",
              "IgNi+JVAOT3t0/+oWCFhvlZGKrJXPj4n/MO0GDxXJikaOoOv+3Pjijvg7cj1CIeQoumd/IWIIOsG\n",
              "pug7VLR3eKJ5NA6+9N3K3+zwY3itM6sW9ExlKju5TibytDe4s1YPfJJQwWy3Kxg15y5NjFkuD9YV\n",
              "/pW5DhFD0wROexg1STS7EPygLfs/HzW/TQpvjeIt67+CilyiZqhrK68/fdfrqwLehs6FjFgGX9ds\n",
              "th9V1FRtjae6/5lBb3XuJYryEh+w3tnmN1sLGF0PcPXJhnV5qKPlIDRtv8PyQTEALaMBuIr5WZHC\n",
              "STv9y4M1d84n/ylyTbvUF1H38uXEO3AtTPtrivMSAo01o6SrvkzsAux/7UdWx9lgUvH4p8BLEWZ+\n",
              "diF9vDepqgMVHSe0LtNO3EVUcrDtXkaNHrSmMb8u+dDPmYlmuI6KN2ApWNJmnnCsinCcTibhXJJZ\n",
              "iG5vVhCO7pCFC1gQt6CsPm0/RMkspNozYPLTcAoojwTGU3l3X1Ts4YtT6vWDe3Fvsk7ABgaemwJw\n",
              "/6qeh0pi12gZ7wydXtyeCzLqaoMNmA3Ro6zRjx/fSC2IurThSE3XzXdj8ZFDQ7QhUPtG9iOl1Gub\n",
              "+UPY5XAMFTUAccg9/o+qnOlR8v0zf3VQ9eM5OcBsBn4TPfADtmcgbL5xl4IgufvV7PdFSoaCpjGd\n",
              "v6dzyj08/KfkhDm5Gki1MbJGUBniGJPSjPo4DGPj/sYaqjA7UQMlS04+TO1hBMfEfaYwUvTLPrk7\n",
              "BZw4k0qJI6YkcRIMuEuyMbdeo2iFPxnN3WgmAD8Ipd/53LEjR7zcASw8iPztHVjJUr3z0HXA2E1C\n",
              "Ika8TNoABZ5DSA+dIUqOX7RXnkhXERGTgmqPLXYRnP/V/tfoMh3a2AmJPdit6Q8dfLNt8E5Ox98o\n",
              "9YcpvJoKHzeJWh4fFB8LQ8hWaaHVTEDkBBJ7BA6ycAw/9MV3ALSgjyoqwox/N5NPdxcJACP3uB/Q\n",
              "5pOZWzJA/IAAAc0vGckUImSfflIpQIiv0/R6e+akPJRQa2kid0B8j/GrFcDqm3FZW5D0MvVWtnk3\n",
              "y+25ZSVzptSivjYHoOcLmivrP26yrj4gAAVwDQoAc+WT4lcW+FubnpNzssAEqNVkr7gNWBVBeWIX\n",
              "FlJoP6nwqHwKGakDvm/Q/bQd9TBDrjRgWg4pq8pR9f7ZJuqvkIzjBOPBsqRdAbk1VZVG7CbqODj3\n",
              "dDnsAOBi2wPw43FFQViEF6rnfafBwV/bPWIScpz0Zato1jC8ipdh0WDiFdTXgML1eqNHMM1cOZP8\n",
              "KABlRY0TvVYHXpxUbHWjfpGO68tZ6rCaSpvMeT0i74O8hLvyZe5nmtUuJrHYX0Lcrch82cqzFubr\n",
              "ddm4PTGggAc9BQOM18N4fK7hYbcR4prnxmOuRHaAouWQgy2FV40AACLIoW7w6MI2PSwQFB9fyub6\n",
              "+RSD/bIgd3vXoz0IMxMBNp6QgVeZvl+cYsC86cDyp4n6Up8FlW4635mHpXv8oAeCP8QuZ0oPtIoK\n",
              "r7wXBQ1W5ac76bnldoOVlv7GSM+nZYCOLJRLM10pIeXVgFuEPGsvj2XzSQjY9dWuGPPCyKAAAVio\n",
              "udzA9Cf3xZdt/jMwL0vl+2f5SOtRo5xFJLFIqYLc73a+9G8KSWViNmbXglam53Pr1mgAOcrUuUTJ\n",
              "K6G9NvJZci5DbYrh7XupqnCfZ5ViYNCXmz+j3T7/eduqKnJpLsL9d0bYU8LD6RwKKULH6uYqkcMk\n",
              "mb6NbYsdrrmCRGxmdWPdTv7cDJKRE69fQZlDDJAgBwWYABHpy0gnpjeTOtc6iQk0KZXUJfKZ9UFR\n",
              "+ef4TffiA2j7QMjCCTNzuF3AdoZ3lR3VjaL8t+M1SfTeiLcQSSLsD0qpJxw0EA+xet8DUWWk/JGD\n",
              "jUqb1WG3yF+7jXnsSR4YP7K/wrZBtKRZD3yIdiNFjS8E+qt0BLGPw8WNlzQzP9nIfndOld3vyLFz\n",
              "XQ4+ks/OJ2+EToosSCx/xngO1St0Jl4T4DZNGfbCvau0CMJFRNO2sITcUl2zCkATm3HzKxwFkAax\n",
              "61v9/+6xr3wjytLA8ga69E+0NMPr4jQM0BSdoLVbUO6IzV+taCwPORnwb+s2gMb3C/y5RFStJFUT\n",
              "PmLcZqJpbT8OtEUrn2KmVTcPK5sb4oFnWwim3AvBfCX80lh+xz11enqDqFJKUq2X/DIerbsjy3xF\n",
              "eKBXxLrfKMq0Mn9bRTF63Up9nNvOSN94p2VyfNZW7/sEtRWJYPfAXhtCQ0a2zoS3q8Nc/pkhmLYr\n",
              "/OyWjtyvuZNcFHM76g2njfIr0fVXtl2nuHdlNpDu0irQXmXYrjXRTS8G0tcG53ELqXMJZdlqICMp\n",
              "2Q0aqPsXr0kI/MtYmiJf1o2ptSQgXxTuV0mXMZ/06keZ1cddQtfS/iadXcuFp22eI9JwNsQNb3JE\n",
              "bTl6BEF4LD+IvgLU3ThVqo5U0DLQXMDaDZhgk+JYpz/MiRdF0pg9HHzoJBVlDgHF7GA0hcfJiRQk\n",
              "xgeHzSCq1kPzoT+s2ozYfSaH8be7TGTfVdKTRQDyhMcDfdTBNeSW8EL/KbSE/j1LdDhODKbbqirQ\n",
              "EsV55EgUGvTLFVUkWTs6VQJV0czEIQ4gLF3SkCtpwXyPtGYGEv9h82DqyiV8l6Z4mNlkd4R2y6JM\n",
              "FFm9Cn3sx47L2DdWk5TVoSET9zupW8/R/mEb6DOEns6646vDAFZFrdw6P7UYhxGjYRcKZUEXKfkQ\n",
              "yvC6VENi7/Tg3ER8TGuhswQ9wEOHui9DHCOutuUJfWrH3aN2Np+NYwlfUiQYVeVuCSG+vcZH1bb+\n",
              "Sc70l9QNrICtsXOvSViSiHnTsZPTWq7POO3Tx4aawCHWbtq71pvpyUeg7OGJW7mSu6PAZ5curUnf\n",
              "g5qQEpTVuf1AoiK1A2gWVQZQyQPEM6WRTysnwM1USKRKeecidWj+iwJqFehh2TpOuva3XmmMRB40\n",
              "YdDvgoAJ6spGcWy+LdPSt0z2bq4HzSLzppwVoFXPvT7dZOuWLXGx6w4tCNtAZ+i7YSSkwcMSPQep\n",
              "Pi+kRPBjKhd1PXNyyCHkN0kIrGeMtW34B0v1xx5U4vLWNwpKGLZRRXR0BbyeCtb9x4lxYLQHRQhw\n",
              "yOFvYvZ9ii9ld5gUuExrkFzl2qftY40xyxj+64D03yvqHjELsN4koWjs6PlsmU4yYzx3/sj/C30g\n",
              "Aki5ZZKNIEe+gUO2yzQlmCQxwu6FL+ZMNVg2jkGLt63OVj7mVs1g1jHkYSTWDMnBiavo5b+aGd/w\n",
              "UwXe+B9aUzfvuSABFvW0yS2T2ORP3oHxDtTMijRLMVeERvL8vTTVRM0vbNrSi86bzjRZw1ayCfKR\n",
              "ZXU84Wc7x59l80/djnMvVbqvjAucM1QSHxJCZjk36KT3BrAQ48lMNiKaJs2DXeQhIR0r6uFOHiFG\n",
              "Of73pNkT1xBPdJU7VGahdYRvb2wFqizCTLFLQGibmMo4fsmVel+2uncI86aK/UgU0qLWwGcCxMQp\n",
              "FrgOaPgAAAMAAAMAAAMAAAMAAAMAAAMAAAMAAAMAAAMAAAMAAAMAJKEAAAOEQZokbEO//qmWAAAD\n",
              "ADpGumEYqDyNUToR7Uu+iIwhuwEiRy3sSoFBgAhxKVzOHv7B1kLcyMx3XMt/ScjJGqS7/MbmFlPg\n",
              "jEMCYBDGolu3nMDvVcQ3JsOpEFT4n0d2YCeyqN0pbEjddhuaMI7Uojgd3cvh4JSFF3ScniLrbL1f\n",
              "boHKazHxC8faPBTQmkgEf+6ePlcyIF+qTtTHM9RGIOBibRdhzPOVo+EerV4FLCtW/raUBJLmhMyR\n",
              "tQCVMJybAH9HW7AQDPjexbb9hZ06Z0H/+b49+8NPf+/mOJpqgXi4921KnS5j44ngCxrlAYPqpDEL\n",
              "atzgHzuwrjWlctD972w2dziddRwyj8zb2KCO6bYgwQEHAWNm5ltcTYH9jlrrlp95um39ebT5cps4\n",
              "uD5DZ7g/sgF7umW+eJVyO5m14DXIa4AIBNgvMOT4Rp7eAo4VJaPsjGlF8DizNnERwJ3d3zr/+2O4\n",
              "t3FQr0XvcgwddmNAUzPlt7AksIJFlFt4t7weQbQZPuhp9uKkQYDZX4mSCcgISnHErqYRKQwlt/Lk\n",
              "WL/gtm0zyBbGVQr2k4EmequBS3M1EQ47vucLi8OE2cZ0DjcmdqVmd/lg46UV+9DuBAnGG1wxNN3b\n",
              "GO7MOMd9vhRnewT3Gokjt94l+n3QqDFO3nnvb8UuCTyqXHK1+4CyoEJLATRxANEhSoXmw+WL/EfG\n",
              "zHwft22lquRM8UYtjzyLwIGB5+gXmOnjWXiL7dL3IoJ5gxMS1EdsTOc9ZoPZE8DvIOS+q8W5eGQq\n",
              "dvv7jwZGoU0qQ3v4jd5DHzzUh8qXbzeb+o9Ge5Dp8j7VGxkCxHYlo0aP93MV6F/pW1ssn8Y/iwZQ\n",
              "3isa+Sp75OnTqNvVCLMAvjSaqAywmr9GdyNvFK76tVAT0nBYdXCxUCEM3JlCmvkigcoZFrYsndiG\n",
              "n/G9TTRf6xDEKDLD1J7vqDt7fbC9elaJMQPUvfjV/gSW7IunMAsy42Fj5TWn2KqtqtpzJoUxRxcd\n",
              "J4QlP10+Bv1Uk/Gq+0+RR2kxZG35ft6B06t3OxpElMPABl2bm3kodsKFHoqwArbe/kbyVtRmSSaO\n",
              "vyoeYv5BWLNf8JCzNP73yYHwANs+nBqewuHisAqRH4daJm6Zdgw8AbjnMHf9MbsrNzH7zOcAk95c\n",
              "dxcLXLEtuTVMBjDQjug/wZUpKkHnoC1CfOBoTpCfXNtIAAABKUGeQniF/wAAAwBFZzNexRxGsQek\n",
              "ZSogBBSp4S83XAwge848pEeuUqYOdxCo31X2WdUPWeFEf/bIIPaHoyvumwP3YQqFtzI7Is1AvZgZ\n",
              "vY3QSf0aGOLGDboGO8NJZrSXdyc4397GpecK81ys+Mwok1o+T3WdvAu3IW/DU5BQnCZz57is55pu\n",
              "LxsGPMx8wM5blWuT++hP0nfR0aZ6x0JH2KkH11TsA9gg1k3zhPePZujPWREYZQsIf3pAIsJAi45J\n",
              "1Gv7pXdartO/7vI5Fu7yHSQkajfhn3dqASk4dVBsNmhodBGBG7rEfB8I5eSVgURQgdrPwSEP9TPd\n",
              "g24A2q4vEfRr8jfQuVG00xe4mbDJlhdaitseRsDgRlVyyIz2KUfgFt2wiJou4ABtQQAAANYBnmF0\n",
              "Qr8AAAMAX6N/zyRt6aMOnky5250AE6yPAUxFXDZAwWwen8otiWBoPcpXPk7KB40KtN7S/YwvEAP/\n",
              "n1qjflIbi1Fn8xWy6TzQgWWYUidZdozQwEljX8LSZkXHUH0Yh0KgM+LqPxhLs/3fUPWqnVXbTuDN\n",
              "NMtYGTLIPbFku5PuGx5X1N2zv0vOMmvvT/pEftnO1TGXUhz8vdeasmlfIw+47qbxqAcXdPEJJ/XA\n",
              "W1tZfHDh185QBPLeGO2MyhvsNRZtTS3P3YfrBXU2L8ezpO5EABCwAAAA0AGeY2pCvwAAAwBEyOEf\n",
              "iAE1Ralydn/LbE8pDI3iMN/DKJAeXLlP6btYGlEmAhEgC5vPB7yqAcdDE1Njw/JRYn49H7brEbah\n",
              "LvTBhiv46r8AtUyfDqXlbENUWjZFMQtviezBcNKss1mo+Cr+6a56VcGt+7ErNAlrwu7O7l1YjhuJ\n",
              "Te/TXjmW2Gy+Ov1K/ix3yasOeGARQsNW00EwFkVzw/YbCVzq/5AI+YvrjPDCh7Qc3qLNJHbrUYER\n",
              "5LgyyKFavrTnkyjCYx5CmNwREAAAYEEAAAJvQZpoSahBaJlMCHf//qmWAAADACt6l7FAB/SEmsvW\n",
              "vw8dnNrENofp0JBoVI/trt6kQ6jF9+81gAIH3VBNNUj2SS+3GljZROXgMDGJbeDSGqQ4gH4si0H7\n",
              "hheVzjAocRzYgZYu5SseSOBwLADdgfVioRMw7yTpqD6TJObrPDxsAGGS5XNVoqVkjApDYhp7mD/u\n",
              "IhG/ZnLKWKgD7cselvTBU0Hk+4usdyf+7RWRIvm1E0AZC6EsLs8VIQfUkVwKJ3fcyl+xmf6jthMZ\n",
              "oIEOJVONGEY5WtIOj5nCoADBAMlweIZ6cmxFdG704BSpu+VHd2P3Q1x/X2erH6jQHFRrR9lszIf3\n",
              "euc0nrAg5FCnvc2MwucggTL3hv4BdczZaxqjwTc6JyFOAmOQAMMsxo5COhCYOnSaUniXcuf9bvUT\n",
              "nBAbQvyt1wiquga16hZMOD34d28eBxiKPzm+hTNTYJClTmwzj8H74mnyelGxiL3keG9pOKCxejgM\n",
              "JfBqWjJr9YQmaSSj60toNxqco7vgW9X0/kV3J6mlAhH6Fd8MYJ9PBiIpEtvmfjnYtTvoZjtQthED\n",
              "AELqCsMMwNokPuS54j+njGHFldV25gefZhXCbsu+FosTp5jS38Fnk7AfOMBU0+pDin2/NEJsQ1O/\n",
              "PokWrPAL+KrF1XaqHIvzCiSKiONZ17KygqMRTjhJNLgUHre+PfU4pvVW7c4s0hP17mY1A+5ieIzR\n",
              "fy+DhlcGb1KdX2R40u+DwsYj/kGNPpS3RjUJX3VjgBbfjFZeLn/ZmFw98i8vJVHlYZXHvRUzIZNU\n",
              "7wg7X3wd+fnOq7cIGoD/L1bghFp1GYEAAAEWQZ6GRREsL/8AAAMARWTV1e0bzxtof4M9j1J4wfkP\n",
              "iWACOhklwTdnPncMFex3R6vy1s+GUzMLplXDu9COU3ln7MinjR/PsRsa2ws328kBXk45p1nz8iZr\n",
              "oBT6K95KdPcJoxk4c7mfj/CvNxXv2OZj+GefrLnWJjzMLZnCkbVTI8S1sB47IlWNBOmKi4emmv0b\n",
              "UsrUmY8PO3egbSsfNf7fLBDd7ZTFvIIJD/D06f35LnWW51+YHd6bPI8itTix5a4vuObJNbZaB1sM\n",
              "PB2VJ3KsRWKXYNhNq4u0IlQ9SJ/w9aMuXDOFt7HCzABDQbCOk99GHg4LMNddfW0Ulzw882Rhnq9k\n",
              "nbH5qaKfrWMBBDA4Q1kAAAMAH+EAAACPAZ6ldEK/AAADAF9/daCpPWcrGVWEXV5st4tYAJzx6GDt\n",
              "Z9e6FH3j46wYa1GLysHocnqDV8DlLvFt6tAX7aVmg6xsEaW7HpC4m6D1IMQw9GDLVOd7hYTqmWaU\n",
              "FvFJimy4k8G5OH1K5TPqDgjAthCO/3ZpxW+tdlJKNfW6+wyXuKZ8nncCtqMyabOJJAAAH+EAAACn\n",
              "AZ6nakK/AAADAF+dDKjGMTrx0/C8NIJwwDNACE+XCjBc/0sW8W8ZFW1w6EJuudVQ1hYyrG4HkDMa\n",
              "iXS2y2nutAOy57qFDwDczFAebt2F1SuzdaVrog69F+jSYm1eTxV45EXimRPBS/r7adxMhiKqA6a0\n",
              "oyo4HNtC8rN68OfZ4n0kaj6/RlMpRH8sYMIUeYw3H/UkghulUk5YlzurjbVgQm7qIAAAN6AAAALr\n",
              "QZqsSahBbJlMCHf//qmWAAADADpDfOAMtuofDvD3kZAXO3RotB4UpVNBpQUoIGE0G7D/i2fHJBKS\n",
              "6JXCutFnWxnIcfRj7s6XAa/69U5eGOLOsF/YzTTvEizWA/X+xZlWpC/wjj/6Ey1Oli3MxySz6SL6\n",
              "lykG72P7/DRK2+adS6KRa8rg2bKbB6HFbvPEUKiAv197y8b4ZOHKaG+PQFys8zETHsJsnwhbKEOA\n",
              "5lRPMI7isNyDpTqYn2umYNtlNwC3pJJI3YCpzQMj5twa4eoY6vZNPFPFNOd5tzHxnmKdVWfYZyCz\n",
              "pqu8IqJa6xO2WSyP1IdLuwubspl/OmkJyM7b1VrYd7SJYGrWOpllh2IDOC0ReEiTwmOYCKQ+9fsD\n",
              "f4VZP0ZhXwkBTySobJuDs+Q3PxY6+esJw/IEx+ovn4IhvfGPhpRjxdW8bjzo9GkGcYH8oq0FLCUf\n",
              "Tl2zifio8zZ66xqIaPHkBdhpyOIPlsKr95IClgZxP5v7pDhQ5Xtx6PhvI5WQAIa3+Cva8pts7ml5\n",
              "S112+4G99mrPVe/80lXs8W/Nry3iu+xmLlgaYVApMg4FigfW24dAphpnIpVd9YhPZdUYPp8UNWII\n",
              "+sZfEZQD3nIB5DoMMXdozaYSW4X40R32qFxdGz+2jPvZicWALifUi/TYsKaQwwY+7PpWNb0jbH1s\n",
              "M6tznBFfO9xq0HN12L73rpVvXNgiPFyHeaFKejJPxqMFuY3hAGR5ChJLzY5SL6jjCqNWl3y33oDE\n",
              "jovtdWE0yq54BQv7w/RXpWKmbPLE9gzPzzFJsFmlogAxwZKQyL27NlOwqwYg5ZxGNDZcurXOXQx4\n",
              "OoOBvuYFwWxR/cOislIeQPvBewS9U1TtrpHkwWCAm8vQPFTJ3GoSLgWqLRVLyU7FCxX9kGXLinsC\n",
              "2HbF9mSg5BD+GVnukedHn6NEeE/PT1VOvE67h8PJ7Om2x4m4Z50VVYY/mYPhCfR800m4oGpiZK1j\n",
              "lLLnMl3AAAAAzkGeykUVLC//AAADAEV84IRQVs8CE0RlD9OuT/ygog8ABtPwj8y5otcuCrunpZjV\n",
              "FOITWkGe+0VQNCX61Ouh94N3KDzshmgm25JEQG4VD21AmqOMA5Jkyi/eGmoO4gUze6FDrSsgO4UB\n",
              "VSv+gYM2A7cm2ukk6hItatuiIGzZCcPDRlBei9c2okYykNo+8uvO1gsufVfUxOlKNsDbZAmr+aJc\n",
              "ZhLb2PjjPaWzRcZicbfPALGT0fu40b/Z/v8nutld8osl2juPqDBywEIAAPmBAAAAwwGe6XRCvwAA\n",
              "AwBfo3/PJG3pow+ceLutLdvAAfMTAmx5Yg47TZB3fkw7wErVZbvKftlqBz1D1sMxe9M9UZ9dE89b\n",
              "hL9LuzG2JUoFO0N2R52oJZ59sCJzXI1BFWJVWPOtlTvI2tPqCUi6tgcx1K0v2aAon/bS7JFXW3X0\n",
              "qNoPDLjeuZLW7/7kkbH2yhA3cKh+Ck/BVNQfD8TLZPZLDXkPg7V162tyT4NBwbOLtm9s1t/0vxhU\n",
              "tcKiQ2dKx5lzImBoAADMgAAAAMkBnutqQr8AAAMAX6wp8sSmnEp/+K3wtuf5BggBM/3OyNPSLOfq\n",
              "1iWdXoU2qw/iB647RDQ6q2zbHXP+8zg99MM4xuLlIy+FC9GKxtVEDfTk4zzqTCmdfdtNnP4ZKy53\n",
              "/Ed3wHk/Zfv7C8qrrIo8V/bZep96AZ8ggWWAo/KdWeZYziu/T+cAd03kkC4fOQBsPA57ZEi2oEL8\n",
              "8izwDQtgu/Vooz3PuuVgVGms4JOVI5PinxG7Da7eEh81x132mDb72NFDDcGQDKQAAbMAAAF4QZrw\n",
              "SahBbJlMCHf//qmWAAADACuMU/G0AE6h/IrhK8SrS0iTcdVT7Qa5DCBiuXQChmu0+wFqkYAjell9\n",
              "iBLSk6aAsRKNsP4JLAHs3ouz6Ucog2ViicNi7R74leR+mIWgMV/6HViqCZY1RNyOFa7bw16wD1Z1\n",
              "ZhhyRvATBX5UVFRyGHKAY5iVrzXqkn9Dv+85/9fQVKMkIGXMi1g/h7ZXjsLTdvzJZJLGD1FPwL3o\n",
              "MUxVctE33fMsfIePQVlbkXBXY0Ai+Gj+GUu1+WX1kprUwAv5ySq9n3JLo+BKA4dlVp0AN+YBD4Ko\n",
              "rFlVrcNzW2Kr9x1x8VBFkUmQMFtwbpctDjqB2tB5E91MFvFrhjJY9CaVSMRXdyKqJ5lUyRnKw70L\n",
              "dNKc4PjNyNe3zr77qMFoiEaDZCErwXZeMAvMjmPEKO+bpE/F3FSGfGtbqpcq45V0oAOLm984e3Tq\n",
              "yYS1BHS0nRA+wAGOja3QANA830/toxj7yKczQACDgQAAATdBnw5FFSwv/wAAAwAy42kMYALYp+9C\n",
              "pzLhkcsJcLPvep5KQcP5Uj/G83WgH2cVBRAdDIGthgHL1+KQaZvRblIrO9c4YfyMMZ9YUEcTZAmu\n",
              "0Ma/ijIVi4WmxvqliBmvzVTsxDZbAMCqzeaVjbpczaUpUFFkFZAAbu7xn3fTZfNw+ksjHZwpHoQu\n",
              "GWcXN4p8L816HdIcItL/w6ymbx3DQc62RqPHxMNHm5OgHtSRCQDovu5l6nCRaY7QV8h2m6NohR34\n",
              "qYsOne2Ei6nj+8wQePs6YgnyeoPkkpowqYddFODJCKS+eH5CaBgPz/RiMIv3OiSRu056aVc7oLTL\n",
              "vRQY18OzsK0z6wr0CnCCPUAS/rx24Rmixmz0ilXuZBPXZBwBnIiE8ulqbZSYzzPNPSSUJs+oeXCD\n",
              "AAAPmQAAALEBny10Qr8AAAMART54xrABDTb3wDdIHy051ZDxwbMwKEpLT5tE45m3CZDJi1mIBLSZ\n",
              "ZIzN/WvFo1A7TvYUlpsm//p2KB0PMTc+myr8ERrkFYMvzw2otczNgFoSMFhiz7+SfzuPzh0kP7cp\n",
              "4mCKwmBJ4GmFFOG4VZ05fbPUGyI+kQXuIR9+Xj/MESMpn8mo10mH8o3zaQc3ClJl6U/Mvh07ajO1\n",
              "ccYaWMSsbrAAAAMAbMEAAACQAZ8vakK/AAADAEWeIgBMjOjw8hyILfd6xfOWHzl4EQpC8c4ssP9b\n",
              "KQ63Sh3ystDwS1V36GG2LEybuE+800Nh8IeFQ85UC4C5SCfaPjCXqOuIswzbfyi+9QE6+J73MuM7\n",
              "FhV5iZjIwAfZ8j8IemwXfOnwSy+Ko+sPzIS1jGqG5c153OqHiFnZ0+K0Xo6AAAFJAAACg0GbNEmo\n",
              "QWyZTAh3//6plgAAAwArkXDugA2cghDYDf1U4EgTKi9pkw8c09yMoQR/XhuTB9/MuBj6QUl5kIdg\n",
              "anauOnrrD6+PrqiHwWCR1U6COYM3yNMn4gjx+HphJfwmlGuTjJxJUqrERQHRvPfKN+L7CS+klV0X\n",
              "dKHOguCg2t3KvXptQpx/lxOssaBp0A/MS8IfFr4kyemTQPpZqF7FVdU94bYhm645vYIkrGoDZp9H\n",
              "/RGeR4bTYimvusjIydEQ16JoSV7TJp8KxAJfC9mQPCx20YQgjJEYzvUa6MiQi58HeR/RUq/N0vv/\n",
              "ffvtOdJIb6VEwX2skpP4fqy/7b7mtIiHLBp+lxaP3JfpEvmdt/aynJB1yBMNR9GPp72dA05tJsE9\n",
              "bohz44OeTbSEwb9ovlLDuMSzG1W8D8aFLr/057jIHVA+GrZEYKciqzF70hBTVDN8zwzMTh2gvNpk\n",
              "0g5jnjDZUv+uCG73oXGG3tbZfTp+nUIPu1Onio7/YAHcau64I3UkJskgdx5c0beQsZDvHhRU6hG8\n",
              "+5ZQeRW0yGgThvr2WO43j2gWgA/I4J5udiQXTjs3JZ0z9XA3ELG+PpHRwPlp3AWuAvlTfExfFYYj\n",
              "0bhJ8ORDlEtrUsScRaLeoPHii3hxxJm4XZbUOBoNtjR/wqt4J3he95wMMVfaPapKzpUE+uoAILie\n",
              "ZwTtASxCBALXjn35a5y6XI+Ymi2SSZCt24B/JpecjQxZeAGT1V8i66ghq5E59VazqnNFBtbFWLJQ\n",
              "MBHyTPaDcaUmRj9Cjf8PykKpgDF9+FOnqbcFHiq5n6frf7yAoEcpmBfxiFLIagTb+WCirBI1ckET\n",
              "pP/qLl+R8AAACvgAAACxQZ9SRRUsL/8AAAMAMu0Q4gAP56hgzWOpOSGpfO8PwfkOIb2ilKBASR5C\n",
              "YzdLydygnWkCFo+Nr1Gwl6xSIyA5kMYJ9QpVM2bat9E2V7eRg0yyx/dM8GKVpTlkjXOMfj2Yd4ls\n",
              "smK6UWzIhFcNNOvWFIcakk79zO0Dmc/q7Zo5xAifcbJ2zHzsRquJt+qJoxJopxJpfst/SLItYgbA\n",
              "VXZItmVo1qWgbemm010+owAAAwJvAAAA6AGfcXRCvwAAAwBFniIAQfmnDpbU6BuPjpAuUGA7ugtn\n",
              "JexI8XtFhoeDbfTdGT0Gihz/PRy/7zTVNiZxpePwaQC+ALa7LhwPq0KNUDRPH8DJerTXEnngbhq3\n",
              "wqd8fOuUPBNiXoNHgYniiR8eWaqVdX65ybiprWxu8BAhy1y5VivT22tQMJNdfIH5Li6WDJGqTNTi\n",
              "TYRLrZ5uRU/b6F/uwqgVu+GPqBqX7sb7yboRjaxgQqVg+AAJx5IWiaoBdi1CUtD1gkgGUy/Q5axs\n",
              "Gp1RcbsciMGLfXv8iovz8G4yXeQs8iIAAAMAq4AAAAC/AZ9zakK/AAADAESJOkYlgAmd1S5IpT1v\n",
              "pdxqKAspFBf0UIxn4gZI6Qgwj0yZxLoLRPOi5+m6rTQpE6lfOVEvF0sxm/6VYpIiF2f2WWubo+rj\n",
              "wdrd6dIyThm2pQZ88Xd1C3Bo/vYvK2E9j5oAynzl2rMxic/jtfo+EN5up8FAZwI/OLfpS3nbR3TJ\n",
              "36hN6xfHlRQBWl4Tclag62tlxaGjRIsibPqDqBRkr6bvYzZsNXn5FzrAMQX4EW8AAAMA9IAAAAG6\n",
              "QZt4SahBbJlMCHf//qmWAAADACuTLrpmKgAtb7IP4/cBrqBpiu3/swHUsD/as82+wa17h76n+0ej\n",
              "vWuFcjcMQeZbOf9ADoYQpQ6CLruMaE2eLW0N++9KLyeCEE/yrIZGrlB4YBvRYmtVWF8cd3DRbAzF\n",
              "/YnZhepSeC9Y65jr/T+Y4Ot2Xf/pRQP/E6R1ga+5JqWOV7nOz+nER3G1wCS1/ABJ+lrjvgshtArP\n",
              "rHFyUZyN+/MMc7shs5lyH3L9DF13Q4sGza0wGo1YVqcw/8uIoqEphIWeFpzPDnnDAbYV8I+8AqkV\n",
              "Fd7a+vOyHvrk4aSpYEC90jADVLH5s9LJYxK/YZ+q4q8dMW1srhgL1G99vjB5sNYTXR03i/kk8+nn\n",
              "OK0s5POqwRzIQ2NtTBRTIIUm248DlmEP86v7lwiCTM5gjgQ8zK96DU04MFwkSTmG+2iUns0pAVEU\n",
              "Pi76zrvT5vGLZWF9dEQy3vrWICKYT8+3AiOh3GtKzZnGJNo6/iapTdBBRxgLDW+Q5XVMNa/vzpRJ\n",
              "OJJ4dFfKvoiakUAethqanpu4kq1Q66aHOSe03/KhRCbnaLRkwgbS8ABdwQAAAOFBn5ZFFSwv/wAA\n",
              "AwAy5rvYANoMDr4cbo8+ayN8nfxDgklBhVx/9UFi4I8/+vdiZn5adkQ3oHakkyY2h8XPu0dggec3\n",
              "ZLdpFbdRbH6PeSxzTzOIpmLQ/buA9ZAZPfosR1UtY7cI61pbP94YvnPszD7qaJWYVzAXfFObt+uK\n",
              "oF/T5oH6GjG7LVahDRML9bJ1akrPrOL9nlVT0QESQLe1pvpgwYsD9LtawqNUqjSVTRRMJm6Td2ZA\n",
              "I89Io7N031Zh49bUWSz4uSSlOeqJ0XPhCjyV2BcdsO78TNpb7UbP8AAAP8AAAACrAZ+1dEK/AAAD\n",
              "AEU0WfbABDwfPX26T/8v7L+Mtbq0IyxiFRF98xupQcQIAl58WbvvQiQIFc2quM42L64rIVCvLWVu\n",
              "aN7rhgRmt7f7GD4NDRZIlIO1Oo4ejZk7ZdW4fv68OhNvjfLTvGWrV4BpU9tA/lMqP61if/f6WceV\n",
              "oBrAAPNA1qhDozatLLqqgsrv6D1RXK+n+4GithecuxKNWr4BfZslc2RgnMngAAHHAAAAuAGft2pC\n",
              "vwAAAwBFZkxACE5DSYGe6U9MOa+5BlJ3Q1i163xDH5PkbziygUq0wwCE0labGbX9kWBOT0EzbYp2\n",
              "sDyYNdjUc2R+ZEZ8jlYgdB4E/M6q8xzlPI6HxZRLKLN8W9wlKN5ZyE9xZsEmpMdolZK9QIZcBJnk\n",
              "GwRh7WthXprjhsW6U5wKmjspBhR/fy6gBmlUr9k/eLg7dqlQWzfqADm0STU2xTUE0cxiKPAJwCYm\n",
              "PwbYAAADAUkAAAG7QZu8SahBbJlMCHf//qmWAAADACuBTKgAnEpgGfENpaFubts6NT/fS5zQNv3u\n",
              "sUgYX1DJSmvXIxiLqJTFLhYHm3nbNpmluDbjYywuH16xEkWhaMl7fjWBT8uGW/jKPcCspmkzf4c/\n",
              "GLIX8v2ZHPV5pS6CK91CM95oQTQ9ie6VdlL+iQvP78dBvsAEPK9VL19MYnjH4H3KekksuD0kXun0\n",
              "luCj4sLNFzqGFUimtdtGaNSyscCu9b3WHgD9Fpyw1wZ4+DzizWlF1UszdAyjLhgoTsp0dWNrtGpz\n",
              "IbSvXU3e56FazOBzAxkK0AXU8c82gMxSEIbIc6J6myDWPWWkQlilxbMl62YU1UANWErZ5qMCqV29\n",
              "l31LMpY0GBOYEYFjOzE2TPlMe/8TSztnP9WE1TlVvGkOTReSVvM2CZIkphYnHR3xOHQuctObg+tU\n",
              "ajDo558cZrF2tDjrjlE27Ha92ECveWYZ/jX45E0r1o2WvIfB4JX8LC/3/Byzti40YDC/QzDfAeDE\n",
              "mipZQRmGz85tavHntZmeGjgk3OeokKe53xLtutck6zO+YLNQuSrEhaE4h2q8cyXuqrYZxq7f120A\n",
              "AADpQZ/aRRUsL/8AAAMAM6TGACG+Bv7ks+B/W6ryrfSF7xt264ga2qoOkIADiaxkHLBs9W6Tx6b6\n",
              "5v5vRElqqIaIs7ua97MilIUzYMHIptVgayb/+/yQk7enuE4cJ93e5GeRExVf8HLFUzsdBUgYRzo0\n",
              "uGIJjZ+sS6Vo0+kLPaPDirgJbG2r+U4bHTyVfSdz/BNeaANEHPaphA4sx0NRMK5XpuiBgt3z0kD2\n",
              "XsLjF8fop9Z5M0jJNnNKHsrgJ2W9GVPe4VzliWK1Rg4N2FC6Cruh/W0QYMhufTk9e4jLfG7u+N+3\n",
              "G+Sr2gAABTUAAACwAZ/5dEK/AAADAEV97wAH7nicPbWkXZYlTvtEqH/p4XQvOiPE6kwRMd97rVHX\n",
              "LSv1R2CutHHBCqSyA7yT8avqGzR7bA+fHaj3k+phO2nH137mp3ORp9Qyu9a4Bc4k6zPn291koscD\n",
              "D5O6pxVp+V3XlcLQfUEpnUdzxdEdlM7V/mDedXnTJ8IDhLqfKugyoWKSIHbUo3xK+nv0qgtKFGEZ\n",
              "nDfUwOAikOBUy8TipAAAh4AAAADnAZ/7akK/AAADAEVUsLsAEN5pv7nawOfbK5SvXNn/SLLDHqza\n",
              "4SwyIdpGe9BL+F0uxi3jc/6mw1FrfOn0Rfw3pMubdN3fSZIRyRKeilyjB+qek6BARDW1E1M0jEbE\n",
              "tsXgsO+32Dor8wUqR4OKl7hwMoYE1avTxTgA6mDT55mexLjqDhrjA0sVdRrEiySaMsvwrqOlu2p0\n",
              "HGrJ3tCJdgfOZ72nuwQtnznOBx/9j1nwDdGYHW4bs5na79n1kXuojiAWF92hkvq3VRyRYtcW2yau\n",
              "R4W0qquyJBd5c42HznBroIegvAYAABWxAAACvUGb4EmoQWyZTAh3//6plgAAAwAriSWfAA1JyBAB\n",
              "oyCvUc0Hla1lAylaBHD3B1Zt8nb8RaA7A9FCPsVL/vL2GU0AKRF+HZy6i8Bi8zQi4y7GFvgxn044\n",
              "IpQJ1wwu2DZs+L08rR4QD7UpGYbfLxBEHi8WvrwfG+JYh2MLfSWC/hjUfuQzLHsD274syluuNMN8\n",
              "GsMrQfdWodlWgkSzMQwzFQn3oMHilZLnBtqt/K8JdADmfveRnG/yQGvTLM/SdF14vm9IOlJ16cdZ\n",
              "6s0NgjNyH+lBLf7kLyZjLi0iPFU/1fBI0risRm8LPg65MmDTqWFGpt80jwyPSigcR4b6T/MKuhX6\n",
              "aM6473FjaOtlW6Za589QBqlfCIZAqUOSwmqWGjNuwx7N62r/CJlz3ZPbsKamXQ3rycjZ18OtqTZJ\n",
              "ZrroZI/j2r9RceZcT+jnaif9ceuPviA1KVcvwCVVqGk9bbB1gEAJ2TzQri6Iz5YUIwHskpG96jHQ\n",
              "ZGS8yCYAIs6eOW2kD0gnyqZfEHio6A1rAmvxmrRCqmJzheAVR9+kPlFomIAB0s1WkTxB98dHFoWt\n",
              "XBsZiiDgfuN5i00E9tlejSse8vCUMHSndoWIUaGESzREZSRmm5PoleAWxiQ8MYI/3QrP/OMxSCsi\n",
              "KeoJMRorVM0zXgIZHsag/6vXnrwarugBH9KDx+jNLRaVm6BhwJVDPMi6SOmuTykoQXDnWyV6iFgq\n",
              "ouBHdAu+vZN0ehveffUcK9nLlK5PyUYp90mVvabl3FXQkVAuYDR3hLaIzIt3Wrpq/NSjN2CgMqPT\n",
              "iGwJWJP5+VdjfQ+/k/4pbWq9i2EXRe1ez38haPDOn/ckazHjJsQsa9k/y1lFtwWYC8DWYNbLUsV8\n",
              "qYZR7EQ0v+cvSQN6GI1PigVq5hjwO+ak58m/cQroASS7IC1Hb/jzZiAAAKKBAAAAyUGeHkUVLC//\n",
              "AAADADNTJFMsAH1Slro0nL6w739SHQqYdQb1jnvNNjRNuWUxM3hGtotdtUnffMtmO5W4ErqYUFnn\n",
              "hyD7EjM2NoGt3OBSmW0g+CrbBtiL4CoiOUFtXPEh2btqQuXz8es9c7JaxAFI6Hhdr1idznXYEyO0\n",
              "93cUdvjJA7NmMle1SvAh0H2L1pdhy6epryU/UL908cA+4SbLYZQBFaBnizu/nuE/l1FUwK+/kPpP\n",
              "R5kwOse4gDuf1jkavsAwlfdFsAAHHAAAANwBnj10Qr8AAAMARTQwyiAECzqnax3dNwkTfGr9Pe4Z\n",
              "J+pjyqWqYQYjxSsh0JSzvfFqJ8VDWdB+7x6ef5v2gK+9IG1GKYrIKiRXG5wiWrkUUIDpSAQAU0gs\n",
              "v9Ax8H5ALlgkkPIgOwQQztIU6lQ/Xm8EKJg51ZGVhp2TwHcYSDzv/po909Jc2BMSltOlv6eqW2FS\n",
              "vFpGuAE1ANvjz0FDA8eTXxheEa55lj2r/PZaOgHHSyqs0hzDyzZTRAdJsOmrTzm+6RvzTUsg4H+2\n",
              "cRBe4qCWH2Bhsqb6CmgAAArYAAAAzgGeP2pCvwAAAwBFNARbABD1Uv/PhdugyQIwcQpnNS4jdWmk\n",
              "Ps1I3kHaGxYGGSMvhf3kGwwnzdlSsSv7kJYPFoeCcYXEQIUQEhUKN2bdGHLa5eHfa01lPtH9b8/6\n",
              "xfuM3pirFG8dOigW9HL+H61fsf0Su3cJgut3LQa6ks3paPjO9tPIsruzYYneQvqRzocMhc8SAfrZ\n",
              "Q+rMFDR/HIWgl+OS0d/lfpxR6nLfv0M18lNB/6RFpt4ZRvv/oTTIB/EDfOrD+uoxQ7kg4IAAAHTB\n",
              "AAABxEGaJEmoQWyZTAh3//6plgAAAwArkWrMZ9ABOSWlW3v1CLpVqrf3oZeMeXiGUjA86mOlhTr6\n",
              "IQuYfo86yZl9ZFmMo6E3YhibRZp6E4+eijMEanCe6w2BLumknZ9GjCeUwyARH0AjHVam5sAoSrNV\n",
              "lcFIXmuRnj3bFe1F1VRzfanmvG/QIkrXEgqVFElMTtbDsj27cjGxgBus3/U3r0ctg/ZF3F7IumcO\n",
              "rcOy5QQ59YqWZKicVJsM5xlgSiKVZ+RTHziFK+Ev9FDMlneCT7VtzryxUwma8Q6voS2XscucBKrt\n",
              "tQpYOaWDRdqnrg5nEnYIg4heDu9M75ZrRPuieCLxOvG8SoIZu+XhKWG3NWSZHEJgRGkUakUte9Y0\n",
              "M6GAa/YWvLIeCCFS2d5oSpXJrJYXLOzjUonRwz1Jylm2mBPho51C52ay+TyNVabaiA8GYbII0jMH\n",
              "cabJGi3BEitH+CV8i2IUsbwAnDBAHFu3Td2+amAXyMsxdtWOu1+/+CmXTu43mEc6D0glJ8nYROZx\n",
              "/smz1T89rmmnNqDLRCJ0/H/aOSFQ06IWp/vGZ+wLeNBbiezZil9++OADX1uiE5X7DVhF2Ql+MlOM\n",
              "AAABPUGeQkUVLC//AAADADLjaQxgAtzLV/3y+4lMTMoc6EKjyAm5GffUkTpuxqis7J2n2PDgJvXj\n",
              "dvzBjwy9bnygRurk5lf6cJ7vC50/szEFLD9dMJp5c3jMt6an7qp01agVJ0qGaSRtZOIssm4RjjHY\n",
              "LpTCBL/GVa+8Iceo9JqQ5hTUwONkfouQXsuDQD3Lg4LLqq+OWZLICEB9ZEvQwKke1GVaNTMObOIt\n",
              "K3qbPvlq7zbSgHiTrQHzUr9UYu8zCQVkCLcglXEGoF6WYEp99BuT9euIc9o6uPfp7XqhopMiPvIz\n",
              "aJnO20AveztiyWF4mWVrJoQMUQCzTmUQ4Puya04EgOwN4xUjSqZMdIBdr7C+WTbrZTtB2bQf5X0E\n",
              "CVe/NS7VKYHrVnOB+VpkvJ+EjlltPp6OgVcLPrKy+BgAAIeBAAAA+AGeYXRCvwAAAwBFNCR7ABD6\n",
              "7h4xcAXHmosoDg3l0G9DtqTCPpzZU6eER/M/LPv8I7aKII9WnvXx2pXbpXrQflp79NJkQuaMV16y\n",
              "/17AYaHTQp2ZDwlCL+jIQ4Ltg7XhigxV1MBN++Z6oe08BtYdI5YDr7BIimFdbaOehlvDLuR68mBh\n",
              "Fhhf48V6IudXg5FQfrf0XxQjKe0t4acbdIC3TXGjKejm36iGWYT1GXTHefM/FMlAqNQqOEmtOS7Y\n",
              "Q+wBR5SkHZMGaRYgcqcypsLqFLIkM+H++b5QFShjQwDLOabZWEX8Os2kj0IqDxjaVgNGksXUgqDg\n",
              "AANWAAAAsgGeY2pCvwAAAwBFduYgBNMi2yoK58bi5HA8Uz0DLPBI2dx7VEB1S6PKmEbQsGbrXIPl\n",
              "AaqAuzCCu6A3yClje098RjaDes90By6zRdDPaEXEo3xLYZu8zGXK7YLorJeuS2T3twjB6feW+WRN\n",
              "FkQgLdRL+xsCY7ypZCGLiHvA6zYQASJyzoUROhuE0vla2duxNBrKRelgSHYaLHUHvqVFVv/J0DvB\n",
              "KhSrGq1a8eCQgAAA4IEAAAHkQZpoSahBbJlMCHf//qmWAAADACuC67QAOp98VwRdHHCZYzf1wtwL\n",
              "ftjpUvcB9XKO9rseQbfAp9BcClYW17oHFhry0WczHJ+Vk4vkXNnaPe0g2pCcAwWZxzFUFKrARAzQ\n",
              "Uo65B1ohnNW2iDdgK+x6pmK3Z8a9KlWv4Owb75wuiMGKiBa+0W2HLgtxXEdU5+8jf/rYifNo+H+Y\n",
              "5zxgVgDbVYa38d64PuPPYi3lR0t6kZle7M2v320O88Pmw6lFKs9403IY1znpXf0R0yCF1bvwdTOj\n",
              "7SiVK1z0pCP9fKIqch6jpjbzANCYJPza5z0zVs86zP93a60N4zM/kyUoatZItCeGBoU8/S3h+z2E\n",
              "AdGkRONoOdhumgO8+3sF56XHTNK4MP7uhk1Afys/RCdoLdXLbUll2h8AiEUckVlsWFkb8MqXI2nr\n",
              "5eXzGf4Mo+00x3QToeaTCTNarGkW3OCfW9aRT1dIP/nYsqo7v1dIvAALla+uaToO3a82LdX361u2\n",
              "KbvHqLr/JJgYhl1uJN1a9ZWCLIzhUl1vqD4LAB7vJFTxYEMSEc2Re5fNd8RA+RqEwH7DgWpVKsaf\n",
              "oHujzDSjUg2ndOUyYS4Gq6PnGFYWITVvIoeFNoG1p2xv1MbvFitMWuby3ogHIQAAAN9BnoZFFSwv\n",
              "/wAAAwAy7RDiAA/nqGe2ShdX8oOeCbxWQsDWmIqVj1eOTjkVMvN1IDU91Wirxd6WzByUKsZ8pE31\n",
              "4uKuzq7JWy5I1Gx6eqThn0UF+A9f9hGhXF59m8pi3BARw0g+iaVy7Pe3wSEdlFaOCXubRekP15zD\n",
              "cEcvZv5pHPqnGUEE/dNhPlV5qQUye/y6n+NzsPmeVfroJ3Gji3POWv7nPI39x7UtxLQkCAgrLKX9\n",
              "hhlqpmrcQOwjHwyi3Rc2aenF5kY7/Kyy9Djm72ZrzzIu7tIEjPmwbUwAABxxAAAAwAGepXRCvwAA\n",
              "AwBFN3cRoADXRXafDDbsJSlHbskUjP045jzo5um94SGVl4drRFH5RFzzTi28QpAvexF+PAVXcX2n\n",
              "0wETwTh9pJVri6YFgZgrV3QffHoO9fpEX6tgst4pnXIAwyjT8AdnxIDVAsd5ph0623LHkvusMeH6\n",
              "xzWm1iyFahJGspNmNQYFoedk5rJ/8WzINphjRJ1wm0MGq6IP3+XXVykWPXQ8lm9ePt6u1FVs5Nfi\n",
              "5nthJdjVBn3VQAABvQAAAMUBnqdqQr8AAAMARIk9hKWACEZ1TtYKUO+ON4h1Fz+/l5vVRT3xtsot\n",
              "Ac33LCPoe+pKYKs1tsIRalmAn69VNYhQu4cDDgV60F9AYEsHAgC/DSRtbntl1XFFOZ9lYugste3v\n",
              "2b17Du08WHkmuFIY4KUelpK05o5Pk7PGDUW7kFnEn7mVndUuK7IxFP5C0Y52j++EuJZP9VMkDN4x\n",
              "6zjM1YqOZb6EAP0L9sUhMOQLyKZ8LZyd2WZzw65oiMpT6e8UGgdkAACTgAAAAsBBmqxJqEFsmUwI\n",
              "d//+qZYAAAMAK7wt9fqYQZ6QAmZKUscYkw9cf0LS75cGsEKh1M0kkHZsuQGPvR63Aj6Xiq9095Lw\n",
              "fMeqdG9O4PvLF6rddRD88EijXFfwMZfmnpKlbAI12w3L1Ppg9tSzh5NP9gHMEzk5Jeay88H6Mreq\n",
              "/1oz9WvAt9GXUDrcnUYs+UmVSJ4vJx9OAAaNJCtLm5FmrgNAOIWxuFVS8TOGS8KuzROE99hBuzoZ\n",
              "dVbhjtmcY1g3aPW3OC3FNPNY336AFGidcbkXK1hXRi5UIdOQlbl331X4WvGmz8wbKrk3zaHh4Etf\n",
              "N30LMUxMv1hAcxnyKG9A6r4pJu8v5INdT99jG4k6ZToR26dZd48rXJJbkt6JtEBnMxbKKSQNAfJQ\n",
              "x8xWx+pU+NVfdvwSc+cSjRNP0XJdD5KYfDMjeRJ02BqEZrRYoFwVn+sdfuzVvU6BIGkNS6cWPcrv\n",
              "oyWzPOE/a/xwXhmC91SmKb1WLI+0ztz2siiL+ykVOeHkwO0NwB8T7sgSqE+Smuj1UiizdbynXZwn\n",
              "kjO0iROlS8NndakKCx8tQOOx/EpxKjW3vvs0ZfEoJYpi/TE1wU0U86eipC/9UXD7gTLxuy5RWlLV\n",
              "JSDLYNYB+8ByuHd7roC4VjrmjcjZYT5oNHJBV4o//r61MJ/1KEg34PtHvSjc3hiSOPzU8mclakYG\n",
              "4pJudCsXfJ194H3+CYMIkNPECRJCHpNikhFaWDIRmFT9JFLkmhTZCIFabZ3dEN5EMoFarwD8Uhp9\n",
              "5tpi/hvSXSG2vVffsLPqgBxLTnzO25TjOIvdm97FR102AJAi3SqPr0xSmRJzQCsCs/uTD+c57xqI\n",
              "zVYlJ49snLbSCvakz7lDKw2q+JTVyP2lplPtXMTo0azGidKBuFXKCfcVHFYl4CcvoyK8AmyOyskk\n",
              "72/XQ3K0AAA6YAAAAKNBnspFFSwv/wAAAwAy4LlxgAhu5ybd1L3kVVUKp+xmYdw8jRLNJOojjPun\n",
              "eMxwWXPOe9mwWWyl4j1L69itQgqftC3mxX77DVZ17EMoBgjy2YZDbyR13QteTdtsQucn98hvi9Vm\n",
              "4hiVLnvaiNKZahvdoqr4+I1eUkBiZkHWXpjBRcQToOyaXn+Be9MBRroFbJRtklOkuo9/2V1gbWV5\n",
              "kLAAABlRAAAAugGe6XRCvwAAAwBFNARbABD7b00CNZKwrmDkxaEU0JLByBcUZuHg7dlOOPv96Xie\n",
              "aiTnkjA8SgLKMlzjXVL83HCkKXvsHmRviymCYeqQmJG9D/uZQeg+dVV6HYM18x/1Zxxg/LoLr1xX\n",
              "WILSzEXyRv0flmrnuDpqLUyTIPUdoQZ7rmsLPHS11Q3TFj1/itgYuB5crTJb3awffOJ2B6RnY7Uc\n",
              "W0oRMavv/yYQEYmHukdr6MfTUb/QAABXwAAAAO8BnutqQr8AAAMARWZMQAhORYHklrFL/5eoLxng\n",
              "eK87O3pV37UHHdZho9/2o35ufTmC+mSs1L6c2uv4Je+RGesZT835e8vdLMpjwJWiS+6hUDwaG+Hm\n",
              "LkkXfpbM+yJ6KjyNros191br/RMWZWqAUZ5YdMfb9G9aO1iyR/Qrikr/SchvbVsJ/cHvqDN6TKlA\n",
              "qEqwwV2cCdT71vS9jEAq28fS21bPU9l6mWfbfx1K8tixnEAgMCLUneMABaAirrzUta0B9xkGqoKA\n",
              "UoEwO64EThSHVPGMvqSB/W2VrwAPm+yBUhKPHm1q4D6NlKinoAAdMAAAAmlBmvBJqEFsmUwId//+\n",
              "qZYAAAMAK400JQAOqL3+uO1yUHeZT5i/1rBDPXhTeaoXXgaa5dzOX+xOzdZtL7zHpLZTFm2AEz0J\n",
              "nWJv5Rm/eBxlR8nlbW6dEX5ye8E6/3i0bP5NswlV0dFNtpH+0XIQ2y1UXugxGUJuEFOLT/snmgXV\n",
              "9syMFyRJC6rH18edJ9SKBoaHoDawDXiEm2YBsXXHvJyegik8+AZNhuZ3T/BnS2O0n8vy0asaPA3J\n",
              "yPRmFbF/gMAis0ZjiUNeXh7yYHTqUm4oz72ZmUfBnPaJiMhCBy8ha8dg8jXq8NUx39/El0/lXmp5\n",
              "5K6Oi+ntxyAt34sWXh22t0F09jufO+LmbHmCXPCisHwjPSpys1XGvdEq4155F2HqSDZXFKSR4xIo\n",
              "FrnjZbme54F1+vxr59xxdNWOpVgeTLWTQRlz1bXPjJgF2yrU25cjl7ujZ0USfXS0bRluveSmKbVX\n",
              "q/I+Rt5rRarpHydGY91rCPwRl7xp4EYb+eaibXTfkLzGj7D0WnuUVx1tecPmgi0LnXiPB+fzl5Iw\n",
              "PuM4ky2P7MfD2dnhb8y2o6ejek38M8NZFnlQ1nv7FKDphGdCGFlIzkDlY/my5RTeOIHX/L8uVa/m\n",
              "/bDu+ndoHDl2OsZ+pRXfYMxR2PG5jhylyQpIRH3/v+sNUD3dI9gSiPfYkR6+WUFZvKK4MWC/TIwt\n",
              "nF53blTkUMsSvXh44Lw/untt2aSexK+Azv5hyAoe+ZpbDGS0eCkgO8Ae/qrlJ4PaXlqdX2UC2NDG\n",
              "NQemevsC1Xo5uSLWxkmFLTONhppZogms4ASJ+uD2rfEtwQAAAQtBnw5FFSwv/wAAAwAy6SJJswAQ\n",
              "3wIIpWdnXWNnQifD0llqffUzfaCATqoXXQqwPtcc58pMdvBOOnVyphaAT7ghx3AEy6YTzz5lAMiz\n",
              "lesDCcUgnb3CLMlSD72JX3PEdRiEcr9zj2UEDy+dS8BeWb9LJieIWA/EoEBLVTITem0W9pC8BQ1n\n",
              "DfDYrR2G7RRWqXQE0w+dkYNSVzcYnD2hiUVk0ybVQIJFYV8rXkaoggvRUGm5uyaSB8TRF7VUO7ug\n",
              "hL2ALg3urBhb3t0KmLzyHEBj21051YrzQgBuj5yHVNRT3wdu5ofuy8l5gd2PxnXNUalyTm4K37bk\n",
              "M5JVKDm3GZnCROghd/xDx4AAD0kAAACyAZ8tdEK/AAADAEVUsLsAE6yGkwxZw6VUT3YQ7QpGq+Xj\n",
              "3pS8AzuzhYmAtmD0R60y/P8UU+td4HwjCMIgBdohf2UDNJ52traTCJqXVgsFItumC9utcc+9Ns3a\n",
              "jEruMcNmOw8hRWqCKZMb90pWo1vqsbUimzNBNaj0QcG4Xuz6Cigg44Dqisa5JmZXhNyMSJcGsEY3\n",
              "oVJT40ZiQkH+VSslBezzRII3ajBKqVQijf6oAACqgQAAAI8Bny9qQr8AAAMARWNLRKcAIU2WS9qI\n",
              "uRHp5M2uw8Sy9DpAY0R3LdgPIqi4jPF+SBCRbBNG0gpE7tkWeorpqIgjtvhHjyOEfxWzSGxZ2YtT\n",
              "Au7UwlFYWF63He054GLbDipvgn9uLGW5cBhu5XhN7SfgVVjbZHnet0KHIomjRb3uK2U5B9s++gLC\n",
              "ylNYAAAOmAAAAYVBmzRJqEFsmUwId//+qZYAAAMAK4yMHS0AESR7Mcq+emv/iw8WwUSlpuchrU48\n",
              "ssKGsq01ncfZWUrjQtB2C1CtiFGYW2J3HrA+8H8debA7/9JqucSXIi4SaQ1KGPwtjsWZaV3nelW2\n",
              "cPMj+tGE+FSExN00O8MwP9cYqepWT32+AhxR4kqk3SmsBYDf/HOmQuK9x427KT0UB5BU7esaLPUT\n",
              "L9r00DWZhHBtbicfSTD8mAzGb8UALNV68Z+NiQweXWZ1WMZw2ThSi5Ui03wrXNya9AsVtK53ZCJU\n",
              "YsmzTMBd1isdcwo/5Y/w7qfMNowgju3EBIkikPLJYqV0cjjlYdV6Wn8q+y7NkUoglqVq/wr92jRY\n",
              "rm5711jXmBfshgllrXoO5j4HM2rk8nzeGmBKdw6mHP0e2bI9OxM290uZAGf09iHMznWpsAN6rCDb\n",
              "Drh+ee5cT4yN+Ay9T4+Y+IniZ9a/6QVLo2KpAeeH2Mh4OIUxMMgHJgrl89Ucu37rRX6lYAAAAwCy\n",
              "gAAAAL5Bn1JFFSwv/wAAAwAy6qDi4AOH0ruzsGyFIcEhYq1DKrGx/E4pb6E+Es5b7cGYgR1tYc8d\n",
              "cCM0T4aEOnARUOGZx80aHoAxSoNRnAQSoHyWy4O+7stQkCFAKri44KigM/H1Imz/Rq5k3wsTE2nW\n",
              "s9Zg9bNqRaiZlVVdQbfgJDTKyH38Jjn/ux9bhezf1HKGmzVBLUC1wFEY+XffnugQZcvVkKL2IOpm\n",
              "aZ11LgZN38HS5rMfgOVgdkQ0vS8oAANTAAAA5wGfcXRCvwAAAwBFN1fmbABDlYEQ6qHaCvm9LwET\n",
              "svhGPut2PFkW224uMaKCi+zWxHoDpwcuzfopDJwtMJPyZAkaYJDr7kUuLV5VsG1sqiKsCOvFlM9Q\n",
              "j4zrRS8b0JBsOgND9YXKPt8TQY+e8vjCmhP1L06guLvaRyi2z1WJyv3fshTXX9U32QVBo4ykwolR\n",
              "vHSRgbFw86dbP75rKHhsoO/S93cC5vB3+7hCZFbicDXrsWG4X8fKmsh7zigJUL0ak2JPRT7t9Tft\n",
              "FhEboZKUABhXRgGonOyADhs48yhNHpavNLKQgAAMeAAAAMYBn3NqQr8AAAMARQk8qA2ACGgP3tDz\n",
              "0ZVxY3rE/6f7/qvv8nwHd0w/H/u3IsJjL9C2X+rbaxyTDR9OEJCfL/QYQXCRU94RPFUgnpr2P6uA\n",
              "QvZJgzhP0SQzP9Wh4xr/n50G9iCdf9niBhU8+4FBA175yczBwJMPAfZhyCPxAFPFgx3kb/Ec3kBl\n",
              "AyQ53XxVpkKZANlayzotyERjkSTwritSJ0453mjDzpt344mMDj4AnAjyxaECWZnhkBZ04v25CFzk\n",
              "gAAA6YAAAAHUQZt4SahBbJlMCHf//qmWAAADACuagEQW0AFowjfBCqfMf8ooV455lSFHKb6Cb7N8\n",
              "udB9mVtadlErm5RfLdtA72fK2+Ny5ti4M011UiypO+WdFke0GDzkNh30xo5T6vNghDTODztcHBzZ\n",
              "lX0svH5RHA3BDJQEmwlm2tgmoplsyo7cvoePL3ORQchDXk/Ygkv2OgyGFD1eWM02P2++aBMk+/Ro\n",
              "AMDyacPoLVKpvC1J6CDWfAkEq0GH9WQUpGM3qorhwPaRtSzeqvNbcn1DF9WMucoGMymTSGp9CPb0\n",
              "acESRgC1xbrEi8EFiohOdeuCVTcDeP6lI3gyWBDG0jaBzBZXEuJp5kJy5NSZ1RAGoJVJkmUiq05d\n",
              "XzSzYhzDzGS77OPfbQqGOPNSb2NBAuPU0IUpSjMcoqG2rnK0cB8x1YjGZXxeDlPlyfyivIsuT8pD\n",
              "MONtyIX/t8YvKnjskUq7LJCVlOzzntO6mFsVQetDietNMNzhF/f/qn5Rz+Xw/GC53Qx8kV0lvHam\n",
              "DHowvAO4EzK/pA7U/RC+apxcig4GwZzb3AUJDIZ+mSgwAtXN5DT4mOCK526V06wVzmZhv24RZ5F8\n",
              "FWh1fis51nMOOipYjGJaNvcusCLpAAAA+UGflkUVLC//AAADADNt/KIADajaZ7RYgDTytU2VEA8z\n",
              "ug68VW+zS4e38zNYH/OrtDDpd2KxIM2xbmIUjHI1wX5C8Id+o/peIUAmAZzslKGWS/j6rMzYCAE8\n",
              "j9WrifVfA7oiMFmgYtEcLVba0NuJLUoQTwinjnt1k9bziFf2POyoa1AK3+oWIKiJvKlk/Msdksfj\n",
              "TCtHOwGFvQOx4cVCZn6vyjZY2ah8lL8AUR+tYcHMZRuMwEKg0LZM7gzFZaSSQ2A0zZ3EnWvQtvnm\n",
              "dmYokq1Gnv+lUCQRb5E+J2BVLX0ijwl+DTfL+Az9RynLogGRFD6G6LvnyAABSQAAAO0Bn7V0Qr8A\n",
              "AAMARHV3tAAbMj/BrYdUWs6uGUJXNbJd2yXd7Fr+LIttflQILbdBKGVU+7Pp8ZfQB7S5uSfFP4FW\n",
              "VKNTCq3dGfozCUmqrvq9Y68pfhNRYe6v/ZCvQ5MoRUC7KuAWZy2wstIpPYAQeLh8aggURxARGZl0\n",
              "rs2hTD5/krtWb0DSPgj7uR4f9ZlJ/EreNZe3GujPTRJkL05CbO5xxbm1TK1k47suIoWv0XDmyIyT\n",
              "Qd1qAXXlHV5eXcloJMMuI7EfajI4WxpVbNubwZZe12eb/jKLnjG5HzM6BE6j2Y81fTy/GCvDsCgA\n",
              "AScAAAClAZ+3akK/AAADAEVmTEAITkNo+eEe3F43QsSWeUOiDITSEQS0VNcQvsm6qYsGvORTJdnH\n",
              "7J07NFHcZ+tmbyLPTUJKHZZXcOiEXAjr3GhXOM0mn7PrUBeS1srRmTQwHl5BZ5aQApERAzsBQrRj\n",
              "MxY7wswGDy5CEY7GYE08QKQR01+YTUoNwJI6dBrzgmeLcnlEhCNWkJ4Ae/kL+mC2vrOrlkaAABqR\n",
              "AAABhUGbvEmoQWyZTAh3//6plgAAAwArfIWgAmiw8lxMQCm4ZphFbtOokBTQT3tN5G43HmYAkSCi\n",
              "O2lgcA8dR4aFxoLCkYeWLkhgKrM32sk7JbUrJnxABvUmblM/Ojsh6IoGYVSzhExn261QuSup3xM6\n",
              "Cz8u8uAnCLJ5UMbY5USZxbRrO+jmm8njkcq0d6Uc8M8Bp59qfUun+leuBajWF57kA0LoY54HE095\n",
              "rhFjnncjTbgIDiPpfxs/N9OXdJC69qeuQq39VXpzCCwJKF6ObCpm8gygPSkUdJgsZdpvMT4WCILo\n",
              "si6F+pbmCcG14bVEXs+I8PE3RglsBO3OBhwIhw0livl+sE9uYbCws7tISc/IqpngS1OJTryAMIXj\n",
              "ZLq0Bnc9u5ROHhp8138/y+UtOVhJYA7MjT8ElPVrq8snYeJOfECGcK/QdmQd0TFtgRH8s/MUB/Om\n",
              "qJFGX3UWSWij/8VNQOdCQhv9wl+Gs25M7Tobrr1EoiCLlTzJvHpGgj/WZNMInBE5pxhwAAAAzEGf\n",
              "2kUVLC//AAADADLoQ8sAGuc95dGH24XvawxpX1E0o14kgYLOeZXlLxs9rx+VMyZRfNNdItOf+mqO\n",
              "t7blUrm7IhVrqcS2eL7h6P/UU27prbWPXlNxVstKN4FS4s4MSz6S3etb4R4RIcpvVXLSTGhrAVgg\n",
              "0WxFIBugSyS9TVbm1ij9RNCr7LHmmBwy9BK2TWshMMDAfTCBs9Rd+ax6Ov0UBEyDz40SDXWDV8dJ\n",
              "0Lu/ocUnwq9CHUL/qzCfYBEoDMKTAknMfzRHAAAakQAAAMkBn/l0Qr8AAAMART67wlbABDen1drM\n",
              "PXdKOx7HWbap5tQJi/fkRcCBzm5Hsm6xmB7tU7g0RlTYeH3wrYNYAHEVzTbYfb+TPIzjYF4IbJz8\n",
              "bU1pWItIUBMBerd0LkuaATAGs1tFj7DhUtEhPLlFSjDwOxFhAPkndE927YRp3wlzLVNhrHkN+CUa\n",
              "GBm9fOUakKXcMP7vmZQWDE7CMEx4OpbIu+ktlSNmWfUg72uK2sv7SEeBZyKwpqZNXtGo0VZCZ2U/\n",
              "hIBeQAAAPmAAAADKAZ/7akK/AAADAEVJj6wwAQvIWnJQGPVuK9qTjB0M/L0vZlYayRND3UaNxy4k\n",
              "MbE/EYknAIzgtbcECQtQnPP+IoNZEbWG/nfPOXfaOImmJkH1+d3UdURVZgmjRZjM/KOqnICK6Ci2\n",
              "eTVRVo+NlIC3XrmcvjbPJVGFZwpd3ENylKYwg1+heYlbx6I1vPDVhdEVZ2jluwPnSKS3rcX+Vwsb\n",
              "im9Izx0MyxDZM9Yvz2/S5T8ZvpNKv/Ic7PnslBgIz55zcjfRyOl2gAAk4QAAAoVBm+BJqEFsmUwI\n",
              "d//+qZYAAAMAK4J05QAaukpWg9dzVACQCxwIs23bJCz3r3Rk3pSrH38ekDOXXtVG965/1p6h7NaL\n",
              "truAvfSKf8aT2s48Oszy91nbChGfxqQlYVAKP2UQdImABiqAQKy1g5Mps3LUs1yUZaif7Rb1Hp/U\n",
              "e0d7XqByn8pcwW0hj/G/Wd/7XioUFK8UHXAOjPRu3oZP4i8iXcyQn18BywbfgnMk3bTRTC+bSY55\n",
              "BCDr+mbnN5vAX1uDooi5DYr1VElRCY0Fg/VBwPIeg7mExLPYT9OpNnfAJmuKcI1cH1/4GryEUw2F\n",
              "Y1v1WNeX2JfGy/MjkhmZN7uEza11DakKSGeu4YCj022pecjdVtRszk9KOQ69qvNXUjn+fcngbS6s\n",
              "H00P0igiWMaUH5xAUyYNGNgsrzKqw8oRzXOtuJmOeaiX6HN9PWaspdVdbUJwTnWyEGXL9aLRBY5L\n",
              "FIXRl8avCiIrVXyCvHANaXzj3QVozL6EbzJKemqIlZHgLxI99SN5EG9dVjG7EEzTVIrkfAK6LD51\n",
              "kJjpKBjtBhFsOWqiA2ba73oK4Ya+Fe9ZCxThMPzJKaOTZjb61lbb2ffB6vKvH7oVo0+39BofThlf\n",
              "G5eKths9/0MrPUXGx+kBbox55QnQ+CbavlnvsAXG1AXSgjIyHokq8KyTjs3CYTyYsfb8jnJ/dI5w\n",
              "9KHSwmknmKTUaHQutLGvu/4svIvsI7dTMII+Kqr8nXPbSOdPtNUBD3Cu5hUOX+me5u/+NljFyFsN\n",
              "KaL60bJl9JJI3OU5qxEjBd1mXQkzKDf77kCxl6sFEjh1rBltrTuiGvgYKvjqWVYCQiYyA3KLUpWP\n",
              "TBaaFReVbaUAAAEFQZ4eRRUsL/8AAAMAM3O9WCRwAmXgZwv7oGi4SZN6woJpQzM8yfeiRUaQ0L04\n",
              "rJdqaYJdw67yDiDyPLPo5NP0YjfZynimUoeCQ72t+paJ2oxLw5ingCL+Ujbt+GRzY6FJUN+2nTWN\n",
              "MeRtCgx/adzWF8T0WADu1IIDz0pdomZzI/zQrf2ToIvTp9vMUkAteRkymJsGkLKwL8NW9G46r834\n",
              "dwwchXb8klRt3iMMsch1OYqYLiOlh7yuvvX1eILlqFFR9O+qnkF7f1DgRxvSDZyf4n6KYS34zX24\n",
              "mxHmb4m02GsdKiVnUl8/WzKgD1Bq8mKVtnzaQNPQ/jGqFkzCl4UpzqVAAAJeAAAAxwGePXRCvwAA\n",
              "AwBFPlcSAA2gatbTe+guhSa99B2v4JlPRXMyNm1hGs9FdKDwbG4LYRHOQtNFfPSz/O084/1sVge7\n",
              "h3bo3kc54c/YJLdJCoHgOreEAWXV1GBxE+8bq0jaMEX3Ss/6jR2xUntwuQQ4DpiKkgahWjMaPyix\n",
              "3RDjDwr0IL9NsGDV/Cx6Us6q0vJ82xZ/EU9A5DcGkiCiDik9gq80ldzz4Qcvx9HcWhS9KfVfv7sq\n",
              "WnWSSVpfmNKmZ8oiwVF4AAADAZkAAACrAZ4/akK/AAADAERw5MwAQ708fKzMgn4WOAQEzscznPUh\n",
              "2imgMhSpJk6Rt1MbZaBp/xkk5ZO6AczLzgW64gnFDm2uQf5/xiQs/0GoFjZxBu+ixJLX9b+BsD/n\n",
              "II30BwBrUCsKaAZLw8PPQWbEnk0LSLeqzrkWoTY5I0/dP9Gj710kG05j0EnHVXunVhhcFPLei59J\n",
              "Ux4ehSakTReMZWJrDI5fiX0MAAADAK+BAAABj0GaJEmoQWyZTAh3//6plgAAAwArfIWgAdeFMnTY\n",
              "ChuCb5WDkhjVelHoZK5TTcpvaUUQj/8VI5KMxCcfgSFURYJo2HtBbo+t0qES5VEMg7BCAxEyzbo6\n",
              "o8K7pYR04S4fUBChQGmCDzKXo2w2JCiBgRkyhDaCvZqzxZQLntG2Lt/Hw5NEyXoY7txaJHiejGf0\n",
              "gq5bDe09LvXrWGiyPO6oPgB062NvT92D2zosSAKK4taYF8ziIDZ0euvUiTp8aCt4TL081WqfyJTw\n",
              "CNhaKO6SoQN3AmGqrwbBVNMel/TmTgD7tVfoo4ZIT4ZCh1L7FObc60YrT+GvolloOMu7CHg7DH43\n",
              "yoR5UWzdazoD3qK9TYRDK/IZ2nj1oYH3WJyjh0etMSUm6QLCiB1cNCkAFX5RSoG5uLM+Y8V5SOuW\n",
              "dYckGP2d8NwCpcECUxW8a9+EAj4a9TZEWVbfNQzivS4jTbGdOZVB1fwkxDWlcRLwYU2PilKCGS3n\n",
              "Tz8cwhRKWn6SD1GZnUOQGgv0pIvclcgQAABQQAAAAPlBnkJFFSwv/wAAAwAzpMYALmfd7D5/PyH0\n",
              "EOq5Yg5whpYEEH3x+glJvZHGoBwZbedAz8F8VWD11Wn1N9pr8DAK6H7RhEOkyC+FL6mnTl1BtaYN\n",
              "jhaa++GDe5erzIEHEHeprLsDOmdCRg+2eXunifb5eJPObsSm361Nyne+yKR6f4uB7TqA/L17Tfso\n",
              "SKwilgBN2TOgmnRWKNqCD1bu+mBl2eBu/8ZHdFpNJqn5B1A6gLM75ffsxHBh5RboHfSEejIsjwYY\n",
              "ljZWHRUNTboYPyPKOaqML5gmy91NbRlhk7+eWOj22dS2YjZJv7lzhVh3e+cLySA5sgAAFJEAAADZ\n",
              "AZ5hdEK/AAADAEU0BFsAEPyG0evIkgM5eKLj8aE4RIN3bzMXE9C/Qu6cQ9pfrFPQLqfZuFewGFXB\n",
              "s265oNpRjujyWZI061S1KQ7KZ4X1Pvf+E2Xy/N4c2y0hLfVulTnvk1UXRa/ci1lZzJ6qI5fN4nVR\n",
              "rxDVTEDvmucEJicbRjkkBEtXhVLMlj4FalDLWJ02GyNKUltIE0l64EoNPFuMputXS9Dq1Kbuv5Po\n",
              "WoBiZ+emmOIAyXYTigvomT1c2pqoypazaoNinzY+L/G1UC7P4xKKCyLuAAAE7AAAAK4BnmNqQr8A\n",
              "AAMARZ4iAEH4zvRmFJsnwPMBsLClJ412/d6rOAs8A06lV1AO7+hoVV92nDyO1YadrMk7n/9EaP6K\n",
              "+ell2DSu9k4//UNF0cEsle5QfhM1/eUWS4lmcQpyQR6Vddsu5BpGw1G11S7l5jWglTQ/Ui8kqqTe\n",
              "1Eca0PxMgNA4EjnsIowj5NdFbGmRN3G3fWayVa4rj5piSq4KIslX0ZJ1gPNP1AwQAAADA48AAAGN\n",
              "QZpoSahBbJlMCHf//qmWAAADACuMjB0tABLkKRyamjz+i62HwCFuup00fT7x5WqM2oGSYHc+yNHT\n",
              "WIaghqp4IFTOAH1fL70uodXz+iMw4A5bvenUwS5sxgPe1talQdiHvnBvZMQHiIFmKGXFWLVZemoV\n",
              "aH0Diz9P75AC5TU/0cO1F416QpoTjK/FwHIBqBoylv82be5OKkfJTYDOHEQD4ulYK2eyu58FHkZc\n",
              "zdJwsWE2hRj6G0TMzPciMhExpOBY/rRttgrHOZx85qa99wMgbEWKjIuKRxEqzm3mNb02BmwuZUgj\n",
              "w+CHMWlihklkQWfmb47X7fWhep5skuXvAC0nW/rWXEtGwcNeeur5CRjMY9f5kjxRk5GkDyP5oblK\n",
              "kAOf9EQGLQ3zoY5MGm9dmGe74loBcEyaBuMMYBkmWivIb8YCFE8eMWKwoTlnqvk4YtH4/UFy0C3P\n",
              "OeFDvUfqdq7vPTP5keUj1nomdjF2yMafNSKmfZf9ZRp+j4t2saQ2TA4LsHnb1xRCFfpKAADPgQAA\n",
              "AUtBnoZFFSwv/wAAAwAy8UIxAAXwK9ia41iNjAvtrCrDGrM2YtVIULHiigTeQhDYoLER7v/NOr28\n",
              "4/jDz9AO/SGJOwwfgLUqIOLWMAOSS6/wO46EjxthFGzBCf4Pes8M9yHO1hrzx8dztqkfQaBnvvLz\n",
              "dxUW9LzSE3Ne9dlNZgZ4uMV/mhk4zDQtWMDULAfja9YxG8eUw2Vm6YH2TkpYCi7cermQqc188gSU\n",
              "ViiswSACwiHb7GNpG09jEvmNcaDUCag1BFzW/PY0krAECgY4QOZsrSKoIUNPoWAqZ02kxDlR4ZL+\n",
              "3NAxZkOOZwOHCYa/ZGXLdwAVj3pOXMMh9nDRXY39L2vPsozHlXMe7lrwlEN+R8BV8YnRMZP7E+yO\n",
              "z9GS8xhnhUJGrzpWHZjNhmkKtuELXGrlZHgasBiNoO9PKWuL5I77YV2+Ax4AAARdAAAAsQGepXRC\n",
              "vwAAAwBFN1fmbABC5+gGsu3NCmKGUtNfmsmNSCeq8rPAppfHTXJlvCQI7LhPfAHJWpDmb7KlPedR\n",
              "uf64eKJ6Y+BNQsa7OGYlMMSBB5QhwzhYMry/RWmboeBMqVIl41QFr0ru1N3DAoGrMOVhTWKvQxUr\n",
              "aMpD+NLxCYFfrx6hpXGmpNK7MVz0FHS06jnsyG7ymxs0oe+0q0x11nfLUjHn7hxEjFVsgLuAAAD2\n",
              "gQAAAK0BnqdqQr8AAAMARQiqJMAEOxGKjtzGDiTCj21VnacmDAlqGkEinZaRo5uNAcdGGLdtkOmf\n",
              "P4KSViDCQtb7Xo413eTkYa9MCtywwGF6DRG6ctURw4fFRKJXoXV8/aiGIHZZhLRh6qKhnN9dbYHp\n",
              "D7p2Ly79aEod4/q9ma680NX2blEzP/Ifh8QMYUJLw2Y0hQSsmq8iMQ007io4WXKx3S1ZBM3Swp/O\n",
              "7mdAAAAqYAAAAqpBmqxJqEFsmUwId//+qZYAAAMAK7wt/lZXSPSAFlgBfcRAEq0/tIhNdOVQwFdl\n",
              "IKUKVGP6vTb9VL3vwGO5Img/KYRx8qBAjJnne3PvqmXQcrNEedt2WV0sLMSNwgHX3GFEQSuhGNm+\n",
              "QDTNKhGhhsa88Cpfy3jdP+iufXl/lukuRQ6Nw5y7Dz1dkGOEyDOGswLjDBIR/on3Pt+ZI+IiPqvy\n",
              "bryv1qwttf/I6Lwi0Sn+/sJXAXAyOq+EWYhqA36jTzQGxEzmVPUjmkq6XXdYAbNwinrwTgx+qkLj\n",
              "RXdyrNfNg78b9k7tLl/KjCvjmG955in3VQJneYXOG8QSZeM/1SqihbuOdUxzkPiHUeaI9jfXChWW\n",
              "pTvuubI1aX0pSgwzi3+k42tv76I8c4zOFZYDVfM36GfTOvqlzl68c+z0paiLoM3mji5EYJTRe2d7\n",
              "ib+yQ8XukEjdx08uRu+DPk3/rrsvGGOxP3kyJB35eZ48IDH2AefetO7doUoo3B4LsGa0UDGLBPas\n",
              "0CghXqIU0XGUOYabD6wAiAOwDqD9Ks2bWtWWbdFO5UiI9AQCZA3MZpENcz22Ql1YopgIg+IusQ+b\n",
              "j6AZp2OMieFFXVbyccHYmnpThJxkUW3Gyd7LOfomPg4i/oFOiLnb1FXzdKPDDBziuPjmW1KWhLgu\n",
              "Fi0kzsWqQk+ZzfcyMD1dzza9G0wsGqTyC91vKMjlGnCPEI/aUWun2cUktNHDUsqximuFLYRenlv6\n",
              "2rj95QfzcSDAw+l5qtnowJpnub2UBks4q/DOrz66SF/T/gcXpG6Qgv7v4JdJ5NEA8CBZHwtUU2NO\n",
              "bL9CyBte/tD3vm8h+Y61MOR8/iao3GKHJQ5Urw96pmY8nkrKSqRDT+9yB6KL+fqsovWeAbQoCfvz\n",
              "osrzwjB/BaVYAAAAl0GeykUVLC//AAADADOCjIADajaemWeKGzFOut+i3SKOg6Y5gKMA/5EzZBPR\n",
              "RN3FZLwss5CHVxLZEPN2lPlsN+KBxuNQ9qLhMs7IvmW/ARJiztllNH1IRjRqWU4J1mAwmPbvH/32\n",
              "15XZpUvbNPlKvAQmEo+MfnPbit6O9dKm583KkNK5NSamrthPrqme8jQsScFPQAAACRkAAACiAZ7p\n",
              "dEK/AAADAER1d7QAGz55fTfcKhvox6FsDmkfeXdGhFgt07B3pB/jXtxwvFNS5rag3od1SjcMqf0D\n",
              "YnCJVXm8eOEgo306X/ox1YtRdgZQEpr/UZgAL6Kr4iPsaryliEESzhv/cE1SVBULeVrsXZxl6C4o\n",
              "yleuoIar1djoF59vsMZXyci31o0aTkwmzYmSvqSZPUoxnNnSZiX4ntAAADFgAAAAwAGe62pCvwAA\n",
              "AwBFZkxACE5DaOXoieGff8e0emnhyE/rEwglFtODXUezZTWOPUKz39NaXuIun00K1Q8ClWWfWJf5\n",
              "17txPSWX+RSnWLc0qM14+Tldj8dIZdJc8wTeHJayLUwwy45J1KkZRpY/G9zfc0HImzHfpG2VDdrj\n",
              "OnPctQTfbSYFVOIXNL6WLxQYFcTzzAsfcKwvI9uSNlwl2LVMuOtLn0T0vr/+8Qhjpx25ySBF6/I0\n",
              "tRSIuMDTRNFAgAAUEAAAAZVBmvBJqEFsmUwId//+qZYAAAMAK3zIoAJ1PDlKQUfXkooEJkIZ/vMC\n",
              "YuA7+Rmty52i71y6HwW7+j68mctpp+uzGDOIbE7hUml4CFIWLYVi4vFLE82Y+hxzSNgFCORRBg8D\n",
              "RQmDpSUgXyKz06vRhsfW9ahcOA1aHkucZIG+iicndNgF/OWy8aATUHDOno7RDt2J/rckkIS4vj68\n",
              "mZ9SH6Mvq+5qQ0hUZ8+cBc9O5CfGrVFaYTZQ0m+J1HgZDYISt9VzSxRK7ZnceXbfsDo5Jt/Y1EED\n",
              "KKwxaFSElAS3uY5IfrUuOrF2Jl6wFXq7MgDC4AFuhhu3xWyDA0IaUI6wvLj2lzgTBzCI6yJnygG4\n",
              "BOOYEAYmbaHyC1Y+Mx9Figw7faANx7VCK6GaLZnJSaUbAs8ucJV/eIgBJAqLgZ4jwuBK+62sLYfw\n",
              "QVXRfil2Y99M9hb80J6ZsDjc+hiZF3BNKW1QjhOfB/NKbZvaQY8RZar3FzgrTR3S3hBV6MD0RyV9\n",
              "VE+wOAQX/vl+37bU3Mg2Ej7vzgsAFjUAAAD4QZ8ORRUsL/8AAAMAMuhDywAaz6HQSczvqSvsZLiT\n",
              "QhOBK+yHWdKsA4ZXbBqQSow+qvLAcsmH2t+WljLycl73OmnSIS9H2/fAh9YwFWSWuVOvKHray61u\n",
              "WMdeB0ch+lo8WpLNdXQrLEeVNxtkTm+oQU5mFQFaC0vmzO53BCbZHkD02m/iT6D1x5KbT74sv2u9\n",
              "ZDrYnqgZ0SEcD8xFqaqrHC4P4P5N91kuw2hT6uEtU7z8ppcBcofqrroEBPrmrl1FJwmy3S1rojK0\n",
              "J3+6qBOY8VvtuuuWw5zGS6SRWybuYq9H+tZI0uVcKCNTKiMiwHnWecgAAAMAdMEAAADDAZ8tdEK/\n",
              "AAADAEWeIgBB1QZobWna9jWTF89aUqtDlEi/Eb84WnlYqeeLlOJhGJEfsv1bJNHFUXkiPrJIZbQQ\n",
              "tSr8p02IVE21DZEA/gswYxrf2Y6IfQZVbV1Tk/wYJZHx3gT5FwiTla8TsayykOMr8WMudVixgfpI\n",
              "0/x/3r84jGNUWtTk2EKBKf+apNYlZjib9gzOuM6g6wCoqf0TPHZucWXKX8dyCdxIcGII6wBSYcro\n",
              "TCRhpvkLiS3de+XjhWAAALaBAAAAuAGfL2pCvwAAAwBEfbo4gBBchaclNcSTHMvOLbuIogos7jHg\n",
              "kz3ealaHfFkW228CxQntrJzdjIRhBtIcAxekXyiYT8eyR7UfTlON+oPV73VDZzXFSh/SdPuaqAZB\n",
              "nzAGmOipkuAcG4bR5gkZDK7vxFlkhFoCbIJAz4tDbKMliGe7C5hM/n0lztfrlemyOQ4nYie3fRkM\n",
              "XQXvboWFvIL32PR8Cxy9WIgdV3HcWKJRvwzTvUAAAAMAWcAAAAKJQZs0SahBbJlMCHf//qmWAAAD\n",
              "ACt7CmjAA9xPSA84W1EOB/b205Rifb19I+GMwRu5Jmd1ld1mGSEOtCLAXc9Gi5VxXTFvlYdPvl+s\n",
              "8ELpONhKI2mYPkZkHGCXam1lF690GJTXn3PhSC2XEDF6BMUgr3upETA69djNiKG9i3yNMn4dfbE6\n",
              "1i/9Fu3qGr+wcA7VAZDfM5tir/PF+NIcjHlrdyYaRrc0mZmXzOuD6Ytqc+lMFmfgpHr6wzA10OOv\n",
              "yomdopqNeP9ZFCZTAeVgNzlo+ZSzgYECT6fRSRPOZfaf3DqlkwnBsSOiGY2R/MIbRGJpZk40kQjC\n",
              "JKghwAgi+VwMuciFugk/MEkxJ30u+edS6Dv7769A3FavWTBf+rsgPYIw8+LylBeV/IR9MwUg1Dz9\n",
              "5Yrik2RPwYUvahSKN/adDv8O8j1eWlXCa72cXtHUxc3iT+px3YTVOYrcXPLkfqGRmzWuJEGNVqhc\n",
              "TXDZjj7P0aHLGPGNBFZbmsUwEgDj0frGpR5uRc80wvXuO30kFpXNyuSAje4/0JqqviMc7j75idDA\n",
              "RcJmMxAQwSkCGFt8zWmEjbYo2OFksK8DAqtFcQx/8dmoE2s3A1Qi8OZalMeFcMMlPNTcZQGxY8Er\n",
              "DfR7ZOkoHMYRhWCXowyH0Odb8qQvhOs4EsyaJXWAC8D9q6BWpQye2rpAMnT16GXrQwOOMcTGbj83\n",
              "mzeDxAvf0esUGZ9ouIekFJUSRbEX/jgIXchoYugW2vBPqbvT7le5JLBnPsdP4R4F6DpDHcYlI5gF\n",
              "JG7mytWiphUP2fzpU2gMQQ6f2FkuQ2mnsHqPWjD14Q7yPKn1j3ExKrzaV9CTOEgKCHDfB69Wn//H\n",
              "pWzgEAAAAKxBn1JFFSwv/wAAAwAzZ8yofHEAJH+tL7YRnwyOArhpKGPRwNKMFXSufAoz88U9y7FQ\n",
              "A3uOtEBMegp9M2dGsCvxv1R6b+kJIxVN5oT/zlBzsr6s2UiVe7N69+B5cqhWIkvbaYWapubhQTDM\n",
              "DFoUUTJQTPCwDZR23+W6a8Kgj/OaRGYV9zsS8LvukzeEVbmuV/T3UfyW0P7gYIS615sVzTkjVKRJ\n",
              "aVnc7fgAAHTBAAAA0QGfcXRCvwAAAwBFNCR7ABD4JVmxPB7VXHRHPVkiGDqqAjxFWeJgTuJ2HDdZ\n",
              "8TvmXzkkIfpDGuq3acKIGQIe8zTWeLs4SZnCYDc637d5PMOwn3EWvV1mMfdUjfAPN+40nFI9wXWn\n",
              "ayE+t0Npbke15vdd+AaPMzt3nJtOwyGRu3yVAWhi+dOh0Q5HLyi9TrKGOS15aKaLFPhusDi13V9F\n",
              "y+HlHG1OH89XJ5crWD7fIAyBbPrhLsMJ/CLT1ehy6GsWMcFDW5K6yzUlLw2VlKgAAAW0AAAAogGf\n",
              "c2pCvwAAAwBEcOTMAEIzu9MBvtraGaJ8/qFTP8eTS/DHd8WRbbbl1hXWmms3fjn47/y+isqg3uLj\n",
              "BRU2FTpeNzomfgpV8c9HN8TKJEUX9JBRIzU4HM4JVhzpoEYj8lXEUQGll93CZ6U7h6uhMgjCvp8M\n",
              "aVyNqpCKgrKY/Oce7o9ijLVIFp6kDUcZntkQCWK/lv/HARjqQVt6rgAAAwCPgAAAAiBBm3hJqEFs\n",
              "mUwId//+qZYAAAMAK4u940AH5hJDcIL1j452PaeopN1a4FoUG3vyb1RDi8UI38q+ZmCz5AU0/5Fl\n",
              "LI55cEgZKrGu36JGOIoZJ7BLEp1jIQdgsYuoB0rU1h95dIujygOrT7n3PTqRU4/8KAYH1Tk5CM5E\n",
              "rFSbp8z/mF9OIy/aB9E7R5u3+2NFaI0CZZyTm+UaJ1685E5SRZZJ18RybKNap5RCuWyWEJtSSBmk\n",
              "yd3gJWmELYh10zUCxVFq59cWWdAUyhC0a/trrrMMGA9oY0wuMhfaOH9CF1/5VEvE444r4a96Lki7\n",
              "WUTiBwodJXedpk9Ab9mfZ//eMSRwrA+qDnKe63OeYDtFJblHLNeyEtzJZxh0CVDopCdK7hUFHqus\n",
              "5EOsZUe/g6LkkRcaxtn6Wpii36W66ts31tM0QDj3YS7IO2kIKJED78H09oJVJ4Mbj/rGXAiJE5fj\n",
              "FyzXmVEwZyATJyHWilABc+vJL4FuLmlTQ8B0V2wSm8Hoj7Cz7zT8X3sOyxlgszZXZw0VTZ5AYFww\n",
              "05sXxXNMtqfz59tOeZsASyLX7pFPQiPayfABS86hpN94sXUwIZrC7oU9eN85QSo3UP4RFwvMuzjn\n",
              "TUUusDwLam4RAWT+9nW2JfZlC0ekYp/2pnSB26K9IGmccwKzje6WfcVemF92ZjBuOzcVXB7eEN/A\n",
              "6y5cqbSG/NZNXkMo64338khof+ASuNnhAAAAy0GflkUVLC//AAADADOkxgAuZ1coe38XCRNEk2Rh\n",
              "omqKBy66t71pnhBWGRAK2/vMCPEXOc2VFz4XVlPugnzgw6l6IcGPb/AXzeaJeNTX60Qv1L6Z367J\n",
              "5PfzvontAqIyzzndt8obyhDTH3m868RjND8L8ViXqjF48GiHwZ0ScpImnaoE/gK5v38xPjA/KR0P\n",
              "d9XksjGOfrzosnbmMjnG3HCJ2q0N7RGn18/S/20L20szdYmBpM3MZAZ6pxVDi/FgLntx4a33H4AA\n",
              "AKmAAAAAnQGftXRCvwAAAwBFXhAgBCchtHL0Q1CqjKpJ8QTpD8wfVXEAS/ngAYbmQw9s6rOJC//J\n",
              "02/zZ+ObuCX+iIv0drAChlrw06RT3UN5YjuAaycsKpwPpZGJP98+vQeNc/aa0to/1lSAvKiIxKcV\n",
              "KO8UXwEhBNmmbAY8HK8lcL1PQXXNgjrMDmtHjQIEuW/AKI3GJdvyIZFb4TEAAAMAOOEAAACZAZ+3\n",
              "akK/AAADAEWeIgBB+oM0UsS2upAEuA0thSXxhUH8gSki956KYUtgNTPKaNCJ6vvZgQ3liow1m0Ry\n",
              "aFo4e43cojiVZeDkcaTMQo287wvjBi24Zwzo4o4GySUBKmeQSutS5OpagxeAXuF1quR1sJaibt5J\n",
              "OVyzn/O2HKbdMM/E85+pCm4WhyXy+9EQjCQX1x1CAAADAAhZAAABgUGbvEmoQWyZTAh3//6plgAA\n",
              "AwArjXT1oAPzlqrPGIUXsU9eBLd2rRW1x2zG5FiAKHzb70LVigW2vzOKz9Ej1INTfpDjcCw0nvsh\n",
              "S+EiulWz5HHxZRWavNdxKGDl23yYD9bc6RjJiqFwQhr2qZZVoGUducr3smUfi1bJpKk91nKohvtc\n",
              "DoidaPwuPbaL0GWv+s207I7rCuCW3fY5w6eoj2UHQI0snSqZ/n08FXLEtEwFUlXE+Ip//YbG+wgP\n",
              "NeZ6Zuy8w9/GXN3Xb3XSSrrv104baCoLkoGWNcXTK3DMKSCg4LmgTSj4xNucMuQhOy4VWtqD6qwk\n",
              "RRH1iy+bBTNG+Sa3x2riNJK/APM7fTLJ48osgaQmTg9WoaCWIjgqum35BEUxf4dYC+jxv76nEMwA\n",
              "REIyYo6axJSnaUcpXk7vQ2zP+2LDbQT8DpBzr0mP27eSjsYKG58HGLsx5Cpmk1fl54qbPQFKN098\n",
              "c1zF9lRyetf+mVji3jw+HrKmCmWd3/jqu4AAAADMQZ/aRRUsL/8AAAMAMu+4YwATPBsXsOna3i7I\n",
              "/QO1Rw4JI6kljFqqcun6818aj3HAXeyn+b0MIhgf+kvlkCzkP402G0dzK0+j2eeEYqbgfN0bPWAa\n",
              "Q4Y0dfyRRRzcMNu0mJIx47CMc79/2Ici/jTnPJKkG7t62ka1iJ2Snn9Yt+c/whLxy+HSuK+c6E4h\n",
              "6o3CTBAEgzoTHAqDNxWrpqG/9Bj/Ph0litjnaBHUeKVyjtY0d3yjO2fpvXIHAuo0TDv9nvUayBjU\n",
              "I4AAAMqBAAAAjQGf+XRCvwAAAwBFN0RZsAEPufI0pdnFoWOHSeu689ccPU9O6fnXXtbAI9Gv16oI\n",
              "AmbEnFSz1eHm8CvCg889pFFDzlwkyyw87NUxvKeJraWQ+rjAcMc5XzrQv9ymf5KN+A0WEW1TO8Nm\n",
              "3IVrWHf7oTHLqONF0LJmHQArZb4AiyJ/y7UVOf1fBGjqAAAHhAAAAKIBn/tqQr8AAAMARXW46aXA\n",
              "AQg/sEQUk4RnU5UD6F6fC4WJQcq3+D49olUR9+g0azwOcLeXS425zkXIN1vWxd3RJbyU9kUfElD9\n",
              "+lgSkG6MI4pScp43T1oHkTrYs7VqR/e4mlMTtI0EYRny0JTCKcP0/rsjhB76+CwEnNN5YJNQHA9I\n",
              "R8OdGlQ+9nIdsp913PPGSNvYxTX4VrhyGA0AAAMAFJEAAAJNQZvgSahBbJlMCHf//qmWAAADACuO\n",
              "+spIgBbS1+p726fa6cgVpisQGEOhy4v2ZbX3vi5Iva6P5KkF7IP0lWAOs5L6J+qdGPnaXp3rOsr9\n",
              "3XYdf1DkO4OmzdvYI9RvaH0JQy45WTHN8iCtl/gZF0uiP6VGk438Z6qhF+EqvOKVfkgpI42NXnjI\n",
              "eaO0I+adpwZ+RO4FaxF1Fdoqj5RW29ykX75ZvFNrNagpsJ3r+yH9cJwmKE9Zv0VS96UN9JrqsmXn\n",
              "Ufli6eXlWEI9Xayc9Z891VO36681GqAhyHLgNA+NbnOwGoKH0+rmEoZefglpH6Gu8NHuCm7GHUd+\n",
              "OUfzNaHx9MKxLqDS/DFlG/n/cwDp1OmS6RvC52HMiqSV+U4q+LpR1uUEE52eeU2tK0vb8fh7t4Ce\n",
              "pKS+EN7xxCdX4AK5wLziW/j/ijgP/+XHXM1UsKrWg76UbQuTcAx4F9PDlxS4CHqjpYSqcEAj2T3z\n",
              "YoEKRca0jgbc2I7oaAgNWTfeX2/tOxKKyUN7d8FhXhh/DG04tOnKK66y4QTar2TFRsN88vDa7oWo\n",
              "HW7Cqzo99gw6rrPDn3zKfD9IkIp8hr9anKoFfE+mMXdxIvzzeL5W/zoXXkzzePz4gXdvxTrddcvC\n",
              "Phvi/w887nLBRNOxWZAoimV+j2D5+skBt7o48VaGUmmufGnx6UCnmPPrrbFjqC7ctWAfC8AcIXhj\n",
              "iRUdC6mBS+wHB+kkKS9Xb4shu6d6H2LW42/UQl7EiODhiada0PQj9oqBbo16W2pD9tl9rYf/wQAA\n",
              "ALNBnh5FFSwv/wAAAwAy6NXLABsYWzFSA81rZTsabKjLYeRXrTsfsIz7NrIvSca01GAN+3VcqPc7\n",
              "J0phvxLG6gFUeFomwoI8jJ3uBP/tHu7IDEqysZm/9hyi9jPKifK0IKajv42Dg3nTNWSFwHE+LXvW\n",
              "Q+dxWKrvejg47AWTEXJVHxddMsodbd862phH+1mWrHRRXN2qIhn8TUZSwdksrUZKm1OtQuspRVN0\n",
              "SrgM71JAAAAUEAAAAKkBnj10Qr8AAAMARRibcIgBCbyTC4aoFQaqO5u9cuRGfTK3oVowbxCUrcY0\n",
              "ChSDtQRO9FoWoDz0IHaBsKI60U4kXWCUeqF90GwwuqTG+2e/fH7i/9eZf4QONoC0LMEJBAOefhAi\n",
              "BqQy/gxUGgeKOSPGHsuIPH08OFbItZR9k5yg45s16OwOiB0EaG2tSYkdb1lC6GemHXlnxcGZH18e\n",
              "sjxmKlkoawAAAwD/AAAAsQGeP2pCvwAAAwBFQHoRACE13piXDKkKN6A4Sf8zDGq+t0CbmqfHLwIc\n",
              "itBirTFdPnR0PA035R+97vpGy5Y/DAyIND0qHQogHW0hoAdqeoirBsCR9W3Vo+/tp6/j0pfG5yCo\n",
              "iKZEX8OSm3EZVbigrGqdzzKne2eLXJAK5tjT1RO1hywGn6NOKY6uk2cmutD5vv5/SEz9wRS5hNiC\n",
              "r51vPXsJC5lIhMyZMOe9Y/XAAAB3QQAAAbBBmiRJqEFsmUwId//+qZYAAAMAK5BeuoAH2yZgsL0r\n",
              "ej56MoRWR4pdPubl3gxbyMaO8eHpUvvSgz+lQQ6IY4uejfg0b2uXJIdZ1M8EyENed2xUba+qJX4o\n",
              "2YrJvIyvyoG4yE+tI5mpyq2devZnAmwUYNaLEeTOBWvq+oDnuijGeCAYZgRKwQYEOl9ZNUOyjFpL\n",
              "6AX4GtQyv9EeoRpkjK8t0IXhCp39NjulgTNz39XhECfFcW6XtFjYHXKvhMed9mW4a1AWYOn3e46j\n",
              "QgHj7dHZQiCaiU3vBmMWzSa3BBQ3ea1tE49buSTbNre7Xn4+/HcBz8KLLzIFrPpP0Irmeurdg8pg\n",
              "AQ7aH+2SpzDIBomkgYy9146HAIjckywtkyH63WaKYG8UzmCEQiPrlnQinKwyGbq33O04PBpsJO7L\n",
              "Z3+NjlEV6XHJYr/cxOuy3Pa94eju9FxDyQNTXRVPD/lCB+xuYyYFXdxlYM7VDlQLCehZBlWgqoQl\n",
              "BYQwGMlCJCSgNu8Q1IcDpZcIuFOBWPRPiwqvT/nNgv4neZ+3BleV3fdtc2Wff8vsvH2Z/adPl74q\n",
              "B0AAAAD2QZ5CRRUsL/8AAAMAM24k7PAwAOtE6lKZjXZakVpE2nDJzs9x4uWIbB/SW7slAderfCM+\n",
              "wa2kGbDXlzc4hCHSSg/2ROCDsFaoQcFozvwIgAu5wncSONs7f7SNbrzy4jOpahS4J5lBjiYpAjjA\n",
              "ZLVUxTDdaIf7PHvxBFYhFy6/urM/l1M95ORiVa4qtUBIhTztT6lrpsUhQplOKS4eCe1ACQZsokXv\n",
              "7flqq1sguqGfa1vMG4mKdbAfvwWENZvsj1Muuowitx8aU6Z/iJo1jZXICrG9XrZgBYfTyyg807lf\n",
              "GDPHZU/9gSWkD23714Z9OYqm9KAAAAj5AAAA1wGeYXRCvwAAAwBFfe8ABtA0EEUdhxeiU6mOrobA\n",
              "8G3DcOgorE1I/JzUCvBaA1v67KginPhqsMMD4ZHi3BauIFM3vnULdH6wCr0XKiwXVVd6u2UMKxnD\n",
              "w2PorARFlSL5VWX79hLtySD66adamemF3QmPDaSil/zcHF/dQAPUTghaf4NMk2hbQij5st0HlOX0\n",
              "rVu+NMzL/0EUPDRMtruE4u8QqL9fXhlGpSBDRgk61dL0OrUpu6/k+koyNmOk9NMaT6PvbhUN8dAH\n",
              "Xxy4OfItQt+IK0gAAMyAAAAAqQGeY2pCvwAAAwBFGosOwMAEN5tG2vt87o5/Zf1Mhwg8nwonlp25\n",
              "GWLZe4sddieWKMgIACPLzHLFlAdSNIGVOJzV1U5bUQhVciUF9AfKW1pf9Nxi2owQw0E1xTRHPeAh\n",
              "rX1vCJYB1vcI+ERaXT+zmzjWKIGEFYntuGeAO8cNlyNYa2/7nSCv1y2RBpl31BiaqCCpyy62RFuH\n",
              "M9uaE+T9rPql+EPSLgAAccEAAAMHQZpoSahBbJlMCHf//qmWAAADADpDfOAMtuofDvAEmtVsF8oz\n",
              "/0QMYq7QThALLwR5E5RpMt5euOzdl8O56ngxMuHvp0r9TkJzTEecDS/46kn9PJeeQANBZX/6whOm\n",
              "jypbS8lpDOM1fYU0cZ0QgJuDaIskESMgMAm6LhpmrzeMeajjmQNqy98mSV+Ka9JlEesfpkisjXIZ\n",
              "MZfDZjkMXZbwwdwG3QccFWpd1cs3h+6NBry34v2KgiOaACe9UjKp6MOYlwrIpPSzLW5NHpTGmExp\n",
              "TGePVVwgUM0DETYMjo5e+wXlWpFfMt3KdTYut7JSMbtgvuFtiND+hf/yejNoNi1nI2PVm7HpPRxE\n",
              "2VCBB+HG+EyrjQto6douZvFZdg8ad0bs4R3h/UNDj4ML6ik0xjLlGu6B00HTFnPu1pBgU/mMI6AI\n",
              "qli4US5DPcoZF0aRx1iM1OMzDLlp71HzVoY8nKL6Y0E9jFGnYJWpW7xvTwcTDJIDUC0Rsx/T7Lf7\n",
              "Z2q+nnuZRVx/4L96yLeS9mdniL9hBH8DJE2GLySkwVURbr1lKXjN9NimMZR1+XfV0xXuFXnN9Xc7\n",
              "yGgrXhftisYgM/qhJq6WilIRE4txrYL67dxTG8YxNSr6BRyeUedDEJQxP/e2Za4C+Sw9FTuwp1Cu\n",
              "ss6hfo3MTFVZ+vxZ8CUTs4gEyXeJdfqbM/R0LsJhehMUfK4f008ablodA8C4DELi+qMmxZSng9bg\n",
              "VuwAVDmyLc8L4SgUQLjHZNeGfNFTF559HPACmB6vd8udB3GsIAMkB3ELuzpUAJ120OyvP54psC/3\n",
              "MYoklPpeemU5Syt97XuC7NO4FS92nhKxK30ERPvRI6PKqylLOc4/2KByC8ROBKac65pnoV7m7Tc5\n",
              "voR7DHQlLvpQZujg0mwE+DjzOpYaztateA+o/jxgf2U1nDdWiEhRSOnJh4NEnC5cyTSKoUbm5gfy\n",
              "xwsht1gaz8vd9wmOlHjJaBWx5WvtAE/Uy6NctP4yjfhf4O6B0Nz+AUhKAvxEyvBcBSLHAABNwQAA\n",
              "APNBnoZFFSwv/wAAAwBFc46e72syz3EmaTTCWbVgAfur/9tVdVKWgV95fEE9mtJf8HbiaQEGLJCr\n",
              "OCrXbA0lgENC0un6F2PySy3AI8p3YV4OvafocAVyjrDm9FQsA/XLg1On+2qUAuKsxWQqqzOG8seb\n",
              "B1Arnk12NDONTmHASrgaZEU7a54SOj/Td+fXCau21pAC0XHDun4KHdjUyqIkjxGoHDR3FE+1qw7Q\n",
              "m3F/EuScHWD9UdeD5qdaLhwiJ0uR1HifJwk0zwq/mwlaiPeWN6XXOKpXe98ltC3pcy0dtQgzbhgv\n",
              "XheIxIm1f7pKnnwAAAMAZUEAAAC+AZ6ldEK/AAADAEU0MMogBAtCVWhnMXzZw9v3wkFY51wuXXMP\n",
              "AUrW5GObhbEPEoezwQDi9i7zSEp2In94ipIEQopBQQRQKaXGJtssxYdUOboLMZQKhCvuAgLxN4VR\n",
              "/K0axSvu3+0M53r4m+ke5vPfSishhTv0USGFRV7CJK4VH7gggtDP4N/8wq5SsXiZO/kYm1FwusJR\n",
              "zK0WYysym9j3zQySlnHkImOh/WhnDhCcrtDeTSKLNRLZgAAAAwCPgQAAAKABnqdqQr8AAAMAX50M\n",
              "qMYxOvHT8SfF8QZABD6+acdoJwXCqfrbXsdV/R8Iixm96/qwQKO0tJz5Ezqc1LAIrxZ2qnoKZug4\n",
              "Y2+Z2AMXlV92wOd2G5nkGUWTQfaWXmMI7cDAbSJi/RL9z4GXKQiqpIYm+x7hfYr4IM6K25kwKSsi\n",
              "l5yi1ryZTzwKk2HDiz9CxKuOLRBIYSIvLNJljaAAAEHAAAABe0GarEmoQWyZTAh3//6plgAAAwAq\n",
              "alPrzTAAp2MJYoEdFvO1fnWq4TzeJCZSJ11n57NvW93mxAQ9lWP7/FsWehWVP5S+g5k9+GK0OGhP\n",
              "wx6Qv8zg2v+c1+I/2PVjlAJvzkHQTBvxPJy8vaf2qlIz5rtEnoX0ZhIw9zKazyeDmKYcxI0fiOph\n",
              "N3vmAYilCbxmLbsdWQ8kD54aAfFVV5zKMdUbP/esl3JKVtVs3Jt3G4fMWp/aMCcXpkXTEH9BCnii\n",
              "WfoRPcvTvliLJt/Ssrt6QvzZwNoRrxFCdzD6qu4whgbAuxEx7VZVvX6bUEV5Lpp2WksFaVvMWCwg\n",
              "gA/ow0abDZFmEeEvDYqsmCQDbI/PErhcrPbOaxX9HMkqVtZcM5fZekSkqrs1SnldleY05/EQ9VwY\n",
              "20SU2hR8BzHQ6SBqrXJos2qEe2FG8DOoXQgNOOydehjqSkM4hga6Nb7QQbXiDMMPztLMomP7PXZx\n",
              "J0bHVcah+hc+F3QYgd7X8SAAAADnQZ7KRRUsL/8AAAMAMjJYRsALFXYdfZ957xcrlmOjfjhdGTri\n",
              "znK7aKBJuL2i2PJ+/HSsaAFJs7+oNAqDR4+lwETAWIWYo0AyunfZ+yxuUUL86hgu9gV9VVSCgr/7\n",
              "ucGVXKrg90saO/3Cp6+2+Ikl2Nmgx9SIRRXWIissoGf4BgwNjblxoDTRp3bQ2zS4bXMCVvkFlAxd\n",
              "ZPIapZ2z0js2HiwDU9RJTQBZpVSdfeS01HhKfdmBMCmydJwcKHi3/LkORnNc/nBVwArfTCl3XF1k\n",
              "ffCAMMBS/6xjJpZGQgyBdWWmtIAAACThAAAAnAGe6XRCvwAAAwBDXnEgBBfzHileRaYgAN1bYFDv\n",
              "hF1h4BWL9lefybH3MO5HbLIPYm2cqps4ODbWwmWOOQzKGGXrE4A6raue9ZtZat97WAN6tiqDOeQj\n",
              "0voa/vxIpgTuOVX7ftEXSgqtvonDdQ7YQQq3W9HwKnP2nZAbFXc4U+1QVv7SzgrkUrVSuWO58Yrm\n",
              "jHBcDMkQvG4AAAMDGgAAAOIBnutqQr8AAAMAQ0ijUYAIe7+m+1ZOzHuwa7kqE1Z8GnvkGc10sPnw\n",
              "qrHcFW7TrXS18oSghOA1i0wGiiGwyOaUnjy/Z+iyV4qxMawUvxqJ00h1oeXUrJ33CCi7zmgc7xoX\n",
              "hxtDoa5G2591upBP/7sPXRL9Tsy5vLJebfly4vk9omDT8xOgtTpbpFb6BpitEAIqPdhIgry5vpQS\n",
              "5qtIyc0PwANsEBsLBazTX79xpyy9v9m6uIJ5n3azSJl4Po0Skw0+28se2EdWsvaQpRP+9M4OBFL0\n",
              "tTkaJzk6Iy3MBoAAAELAAAABfkGa8EmoQWyZTAh3//6plgAAAwAqeqr0AbQAQ2bhYp0tAdu4i2Ot\n",
              "NoPcUH1KLYsPBNqFoIb8m2GkxzG1Uqw6SS31v7G8DI2BXcnOwW049RqJYFAA97u8Wxn+vnPBdMR8\n",
              "0tZoDnIqQWeosdI3t2002PM2N35B8XAMqS/1v+xvuHzC+RDi7Yk1NFjM9eeriVVBvHe2x8dXpFBz\n",
              "QL/4ORiNnAQ4EpiNihUrhol9PcBGHIoVO9Bv/n87ybgk4uAWcawcIb04RMqRxVV1rIALTbGFVAc2\n",
              "/OkUrNbaQkS/duqh1+mE1lfT+TECjhkAOXvrPDEMT7c43qEsre2zQ5/RZedV96d3AP8Qh/lXBwXt\n",
              "cxNbKHlI62uIOylxlv6LRvELb9G16rC+rIErKbTDoesGsE9SrDplAEk1ugw2dJ37W1ThjqxNDV2c\n",
              "1/1KpS8v32NfRXhPmCZCdueJOK8oJ/vaRMauTVrmgM+52+R0Se9iMT4Pl7EMQJNGPakFqb0qqZow\n",
              "l/UAAADxQZ8ORRUsL/8AAAMAMaYY2IAH7rUgsKEdLEazYwuSba42Oljn+BQWCDncoQ3k3qK25iHy\n",
              "QsUFxGmTlXeUyOx5c8cNHSEmMbnzKE8FKW3caWDuka+7qkI+b44ORdwaLW5+qzpKW8X5++Z2PNnM\n",
              "MpXICvbqozABYnVZu60lFIOc63U72hpHKxsnRt/00UxY03hU0lQBRqPTYPAcln1xmyxNgQEWMTET\n",
              "JPNK+4MiE0CB1JRhVkE6DtU29J+C8lGJZj8Tb7Qlnwl80FFUmMGiOxBr41ozipsJe35KeUQUux74\n",
              "1k1rJXCfSXyCrsBLSA5XAAAIOQAAAKkBny10Qr8AAAMAQnZQfAAEIzwh1G9WQUGwMOwFhOKC9UjY\n",
              "jzpBernQwVEaVefBJHrzNPvdZWlj6gMA1l3zz/9uUGbAMx4ycKr4UyAh9BAaZJk6Muzu1nINNSif\n",
              "WjMA9K8wGLmDs4Eqk2YOtOLNwHXFXyHnOBh4INolJyA0UKC3LI1yzHYzsKSJ+NLyfLIa8Gsvjlot\n",
              "CejbLUuHr3+9gRG8sOyagAAAAwFlAAAAtAGfL2pCvwAAAwBCdk80gBAPfMv55VODWmyfK6YodWzO\n",
              "8qxW1gYtX7VzNlgjKikTpTAMME1HuxJdzvObxLSxfruVCaJuRlGq/s359ouLaXnCc9gzJh1es03m\n",
              "kguenp4g4/56qthwIJsThDMXHTFgcsHU5wtAqBq4SVOHtCuG2g66p/c/99Vjd2KoEVhghmw9SPkr\n",
              "LaQ4Dro6E0KsWGR4g/01ovoG3UgLs5xyZL1EJGg4AAAFnAAAAptBmzRJqEFsmUwId//+qZYAAAMA\n",
              "K58pE6wugA/2GOlXh/zrGRvvCHFl8jgExPCq1uR/Mi5vFO2tEHqFQ1Wf/Ud0hmlOhEuja/wNfR+z\n",
              "K/RoejNmlDviLwh9UNe7s7tRcrquXLoB3Ig2Zz9a5X1pDzE/ssE5cMp2GzlzPHjixZuYSrq6JaXl\n",
              "k5XzwjObyfKhAfVu9NgZbaoUiM/YELg3sk/9BBoXOsMqkoVWwPiP12l6oi9IqDTudoNNz72+rU8k\n",
              "sXxMxBCGIvqkpgvM8jrz5w0eNkqKkH9u0FvUULf9vft+SElj9DEoNUpseXKI9vJDlsgMes9D1y7g\n",
              "OpdRGvh+o8Y/4YB+OmhFYnvWoHIwzITWCeOzMUpmmz0FKqI2xU8/M1d0tUOxhjqUv6xeuEPq0nz6\n",
              "J8btg79Tvd0EM0C/q6rrSEQQMmmuQ4+/oD3wEYZQ9sIrjIuLvP64whTsXEkq16a7XtOCw3xvG57+\n",
              "F9rIC5gJ0kfqQRvGJmNKy1H2l8kSXIbECywARj+0qhYehdO6qzbOXwir/yIxY2jEH2zKxhM4L7HC\n",
              "ndBW3ypDxPlMF8aQvJC6byBZdshdLO8u2lginxLJnUM/gUx5d8IUexmpIGHgDwTqHzZZ7ow1Cyso\n",
              "Rotymo/aPUVaoQHJpURV84uC+imjUGgd0tNERtl8omz6RviU4qOokXoZfNhK+hbzPMdrQmnW6XTS\n",
              "+pVq4C7GNE3PIPbSIDPqpDfmppAiFCGVxu2AOLDZzzOWOu+qnOhpb5L1EgF3BdnqWlUJp9yI8Ul4\n",
              "A85lwsEDoS3L2lF1kxqmbU0trhJQ/ohv2QbTG129OeYpalsjj7uAbs8tjpYRfmDDlyqKhAsxB6HO\n",
              "IkAeEwEGZzvtfIF7LynfNc+nSbmnAAAAtkGfUkUVLC//AAADADOBipcaAEyaLLcShvWNZxO9zQ/f\n",
              "ue4KCGFYBE5oBkyuu01NLUVs6PU4JCKRFiu0vhq6i3kWm7IMGWRLcR1RqixEZtq0XIPb/NIfqLHA\n",
              "eXnTa6NIusSIUxCnJBzAI6wFbncxAzEQlq/IzTMdW8qHoZv49alZ0IVuyanIbdQ0Umtrig8tu/Dv\n",
              "KZzXqcL0tGqimhWxCL+58qF+4aENHeWxgUmA5+MK00AAAGBBAAAAswGfcXRCvwAAAwBFe+3gIAEI\n",
              "m/fftwViBj0dJ4t/VZWmsXEM2q/0Ppi0/nF4N9Kh3vhHQj/D5qYfgE3h9YZGmFz31lmfRGgj52mA\n",
              "sv4W3syHMSY7L3GvdqiRsVtZaT8MN01eo8eLXN0H++zYl2wIrby3Bv+MPCPQsSGQCMR1GK4R5Kry\n",
              "tznHR4UL46KAJ/ODHsaOtP/cQKLWQnbNBXTj6biWb50PDxtz+Xz1z3yPVuAAACDgAAAAlwGfc2pC\n",
              "vwAAAwBDo+IATLorA1gngBSNlVXaVb5aFaRIIFaT+2OwGq5NAi300Da5gcSu9cCaiQ0Xl+GqsQB5\n",
              "06axy3DNDNjIlyBBDdCFGqGE2sfT4lP8Kv1BODAeoq3z3R5LymzoQ4Bm8vLfVLbPQoShzjEkzV+Y\n",
              "dXUXZFdogziSptF52T8jl76rSJzfVweRI2Dh4AAAGpAAAAHrQZt4SahBbJlMCHf//qmWAAADACt8\n",
              "haADid6dW20Qn7BA8W2SjabnCYGCesbHPhscTjFWd5zNA2MIaxlGraPJixITAP2Y+0jjH52oKlvy\n",
              "ltn+lAm9taszsPPNDzdu1uIKnWyPgGmOOR3+/2H57zTJTBlq22k5rPT55iyh25MPtYs4TgUE53pI\n",
              "CYQZuxWnP55ujvkyC9mmapOp3PS756aJimpbP5J2I/CMfqetsf1iT9n4eI4C1FSp5jBGltCqDNT7\n",
              "Gt8wP54v5hgJjihThAhz8D85McdBPA8gzsJ5vko4eDynSvtFifwUDdjQ8HrBuAF7e/0T8/BmgK9K\n",
              "BA6rbhM5NZjrerVf+hFoBPFwSU1nCuJA682Jh0SgMjdfU2Xfbhxb8mdn1of7pL0t2X6ku1gZ7Sae\n",
              "v5WhNkRzalupEqtnLIebDNQGKrshramSfwtR2/0OjDZVkTTfw/FfShxEfQfY+hgNTTUM9tszQvOw\n",
              "Uiok0ho9ZxK7Kbn/jjY8BbzPIyJO2T4xj33vEClSiyOXwJZ4waj5lndlDV6TQJfm1/duubnvt5yK\n",
              "5llTrzW8sWYaqf0npsyyg1gebZpVOYY3SveZe23N/pq5BCHv5kNqMr4uZlR+DQJOBqz+oHmv5dVq\n",
              "B3sm9HKizkAAAAMAA1MAAADcQZ+WRRUsL/8AAAMAMi1+T6mACGsAfOeHsq6MU9OeeUyzaF2rsg7R\n",
              "6L4ZziIxUbqIgBhXxF6K16n0RvKByoI9Q46/axipfropQTvyS6oQgDOHGbSMXWfdbXtNQBbfSDv3\n",
              "/G0Crxv54st51SzCQUjWbLFrmuYFmtK9SSmZx630FTEuhj2zIgU3QxOPM/2CRNcy/Jbt4vUcOydW\n",
              "30J0XAy7lFs7ofE4/hw+nwOwwJYIRa5xkns7MLOC233hlwKz1ZLkVvvQqIR+afdGfD9R7V6e9zwX\n",
              "lcMXk3EwAAAEjAAAALkBn7V0Qr8AAAMAQzQmNIATR6SBhZQPnpx6nGSoicWnhuKyJGzGOw86hKL2\n",
              "0a6UZQjSDqnIFeqwnM72d8u/jEsoUQ1s7NrwdkwDCqeIG8aOlof/+wrSjuu9lQjSycdr2QKmKXR4\n",
              "mL4LuHgTG3/CVhhO+XxW8S8v/GkdJwUJ6l7YhTg7bvoD8lWRPAmpIQjTZTACR6YbPpDL8fBifFV7\n",
              "6JIYH3LqELa7JE9sGIVwKWyM5YeecQAAAwDegQAAAJkBn7dqQr8AAAMAQngbI6QAbOKjDmJ0itwe\n",
              "kjjbfuC1sf3YN0MEhkpSLcFzaPP2Jz5tch8VepaBPjaMU0DeuH5iXGmm7ieUsfzrsaDTC5mQx1wR\n",
              "eclmiCeUew/aI3Xe58i10KdwQXPNdODW2Hq84ffEgUYjhXD4JClPxkof7yNlD64HtbywWoeYlDm8\n",
              "HtEtDmwCp+vsnoAAAysAAAG3QZu8SahBbJlMCHf//qmWAAADACuMMqtlAEbxfIVsVt9ho6mbRhnh\n",
              "6scf6+117PtkQlYqdKofPdYqCsLlz3qd3aFPs12cx5E6ic+X6yLqu89sQNkAuVCJw6TM0cevDrAK\n",
              "giKO9HGojfFE9nfXC5CZIq9x9qjecg4z9iwxyrw6mDGsONKHMapNB21g8cYm45hMJ1TlDR90jpRj\n",
              "zrFZgv0OlnCoXTOLG+enKte9OGcbpNQ5LVkKslEcVqMSFNUjXQCH4II2TLx7layuYne3Las34YTb\n",
              "0QvAknUL9JspibVjXuwIS7FEp1oHItx5NGk6EvHHC+tmbDBHWLAujFUkrmD62I2K6/tgGArv4oNG\n",
              "qQMmMPioLJe3mwM2bXC+Wr7CSmkwmmMEidVQQtjajKrsAreV/KNlr7LjeknzcP250cPbFR481Uvc\n",
              "JWk+rN4a+HrWqe9qfx9nhxhUtYsbejPrjnPwvQwmXgk7n/VSlHX7BIaRTfG7GbQrMG0ZNgPVvtJG\n",
              "jfJaNd2wFlk7yt2ss7oO5ul4PyFUlxJOHxrLmjj6SImbVbhRrq9JU+f20sE/YfDB3ZgAfysAAAMB\n",
              "iwAAAKdBn9pFFSwv/wAAAwAzimCSIAH4r/cnoq7GF6xAPpoH3DxXPxCzpzhM0UZ1RqymVJmGzqTD\n",
              "pBoUCT4xDAxx7delTS+V6OwlyC9tdDHxlfkmRGQzLOw5Li9Y27PUVbM3ab+aB7gZO8KBysbBg3eA\n",
              "rmzEpXuQ6t8Ml17ty8+Wz/ovRlto9xUn10rF3B7b97+uRpMNhQTiYOZulxI1ShyHqa/jEwAAAwBo\n",
              "QQAAAK4Bn/l0Qr8AAAMAQnZPNIAQDv9Ui72BBcpVmIzswf5AkGrbW4Dcu3PR+d5I7Cfgj4UgjbLr\n",
              "dJNjCX5tgFD10RMFyf6eKm7Tey3YQBZQqAWXXka1Z2z7G4TB//ih7ZNgE+CbnDVmwV7uVlIvTpUZ\n",
              "+HKuhxY0FadAHNNsVEAypPKkLnGlJc2RxAg+kBoSpOjNfBeuXw12ksgh0gOTC9GGErNibboqPcGu\n",
              "TwUnwAAADegAAACrAZ/7akK/AAADAEV1vkD14AQkGzRh+L8LRku9IfshmzQe+/7vuXYxf+SKkkCq\n",
              "yGu67V30Mx3/WI2JeFsL1kqq00wYpvPnNMw6uXEbrDlWgIMjbqx+7VB8ZqXPXGAdfgN/d4MlP3O6\n",
              "+HUkwQgulblRa7pyejz+HMbkeuu7cA3qdBfJD4SL2+pRQAdpxxzN8zwvLJnRSnIXf8YYXoUT1jyA\n",
              "vACYgrWssNCAAAu5AAACFEGb4EmoQWyZTAh3//6plgAAAwAqeul+1tUwAZSVLghw90tAxVEEPrNA\n",
              "7geicd8K/eCqISGr6NRLj5jeH3p5k7DuhXmpy5XrfaVaf8svd2QVUgDZ2Ervyrn5WKGyIcmk1Esc\n",
              "SWTaBUkqMiW3PdnM2LuwqjpsYowSIoXUEjqmS1mwARWMWovJDuImCmcBpLam5YXrVPmaD+S86j5G\n",
              "KOlSrt+vylkD+xXgS9Hvtco/Q3cz+opZ184t8mT6vOIRRiywTw4uMIuCg+ukPFqSJnXmh4L/I9Z1\n",
              "Pjmt/xEi6FMRzWrMuU+d6Xz9k5jEL+11AcrT6uMJz505zEoDASzqCj2MqDTzC2FC9sK8YtMlhnC3\n",
              "GdaqxOxP2YnThjnEF+sC2IvK6TxCct3FeiXmOK/i2msM5BXM/wHKtASxrsbJv7KKkFATXf6wwi4p\n",
              "WRlUcuUmB7ttRvkpnPXQZ/QJSeyRlAxyFv+72+aH0rqwwIJwwbA8Jo36vY0fFU5EAQ2rGVx6P9Jf\n",
              "gb4+64TtPfOjpND9kHQycCmerZWbxxprgDB7/9mgTDlxU0Icr/qDBIurTTwqJWoQ6lhvBoOCNz6d\n",
              "vVSt7EO1eLij5hlT5i6WVQv9YEz85JtNUDJJmAil2X8cO4JNyjfNQ+5xkLgL2/FazCDrNX+kgZeO\n",
              "rT4B1gKLZhB6QhRWnUTDtDwPpYuQmMx+5gk01sptI/DTCHEAAADEQZ4eRRUsL/8AAAMAMhIMupAB\n",
              "M8lTDYUVz98ltTpTEkacp8g8Koo58lnTu19oFFpLpfZpafi1zFPJ4ipOW0tXPhEfGDAOiTv1Vf0d\n",
              "hm2uA89SQV15pXpZhiJj8gh4w8HlNb/UX0H3OKDZkqgnEGSEuc6zDs/OxpGj7OIj/i2Erz3N3x//\n",
              "AYSe+TB6aoYkncGy3uSuW7M+hxG7WUQ0xLTqClLEUDtuBSCvsuBoBBdBHnsEb6Anbf+4fzGvtcJd\n",
              "cTTwAAALKAAAAJEBnj10Qr8AAAMAQ15xIAQTxj4zVtH54jJ9otTL3Yx1yRWXn3/u6/nBgCMFQgl/\n",
              "E+IeCm+uT6oJTaGdtsurwradhb6MS8zQOmusQVEYM8++/YpYCYCFEj5hESN0EUkoJVWQeFJm20SI\n",
              "f5GsN5z+f+DMFu63sdBt3y8+lRlZbuwaTYLl1KzROjxuwecmAAADAHpAAAAAnAGeP2pCvwAAAwBD\n",
              "SKNRgAh7yboYKzmFzJTDLyf+M2K2NS+BaIR8l1VwU2Cwcyji8T+7D3OLZe38WZo9r9myXnxXar1I\n",
              "kKBchJz5HhIDFQ0DEC5b4BI3h8krpYWWz5F6Pq33hNttgkVboq3Chc5TnWlXnMdRv5yU5i3U9nwD\n",
              "wh/3KRlJXP40sJ7kLu4EqwdEn9HrAu4PygAAAwB8wQAAAdpBmiRJqEFsmUwId//+qZYAAAMAKmDE\n",
              "+YAG0oRK6s2A1nWoUZIMzVCxlAA9IKJ0f/194+GqU/POuD4xC/htIJVzNZelKZR17NtU1aXoJ5HS\n",
              "6dUhmdxCrDURVRHPt6bNAdfdMXeAEHNqJ6lriJY1I6ZOePrkA/b9tu6w7Zl8ZbgvbVZYNVcCuhps\n",
              "MnAIBM78ZcEqSA6ZEuTR6BF9I2jXXjshtqbEAmg7ZWPfVwPRaQCUIKlo/b3lLvUZ38a9JKWj6cP6\n",
              "HYDTyzX1nuKE5Pjc1jTyBTagUN6qFn69mP0VmOwQOFt328Af3aVMwAGLYLJXgjTjqySuv4FV+ogo\n",
              "xtMOg34MlVMrdB5q9RMDS3lHcXOEDAC5e7xVHBWy1m8Kr5AcDoYz0W+1Hevj8TCtDzCpmJ+db6gJ\n",
              "fmnPtIXvxUR8FDBT1u1Ywvj+9T0xCWdaCGxpK3PC0+SNN4DEUo1dn6rjyVD+aog5wT9xRLPDrGTg\n",
              "BTeV3dkycS/tp+JgHYav2aEUs7EsWdNcOLGB4p11bvbfSAEmIvNlySWKX9AGmdvklmF0Zg9ZJqTN\n",
              "B0oaxqKpkeXeSn2tRhF9uIZsoAJnguTOUOtgTiWGtOU0VvnzQqMo2T1P83dJ6k8AAAMAC2gAAADs\n",
              "QZ5CRRUsL/8AAAMAMi2sENgBNA6olpGKJW2A/n2kNrY8u/YbhwFxkZpvWpbi1Y6ylP6mlcfCnt0R\n",
              "kZDhTWtllK12AxlNpPZcF6nLHC/FRzoF2Ot5oQHD9GvgBvrqEl/eAkYOYMlKQlID2D2J5OmOSNCg\n",
              "4TanTG3cE+45N4QP5Gx0W43bnuz0gAERVFoDeSyoQU7IKpVYSF4ux+x4RXmOm3LZIxS25OfvuFrU\n",
              "vi+7n9el2PnPom448yLfKj60XaigcHmvIyBnKSspy/qo08eDyiqUbdC0H+Fk/0nyudoHlaR9pZ6o\n",
              "Sgji9AAADpkAAADMAZ5hdEK/AAADAENecSAECzuriWmeUgL49M6HurfxteHnGpDn9zpO5n1H2VDf\n",
              "9+xuTdIQttuc9ao4U55gtAGDxHaDW7v0RkVYeYn1dL3PhrlrBhi81z/jcqAPUQE9Q7RShQUDJwTi\n",
              "ZrKhogG41FJCidHynXOFB79p7F0YMAaByPVAhMjwp1aHKSWzVqwmChBik5vcL2ix1IPn81ymICjm\n",
              "LJe5B/cuXndSHVjr0N6UTPZqzNNBlx0n3cOaf5w1NJqRaRWK0AI0oIAAAI+AAAAArAGeY2pCvwAA\n",
              "AwBCeBrNIAQD3mg/ZlDPhfEb8SU5garxALs6uroV62u9tcUpxtr7cW3ND6jrvthLkJmTiB5UB/H8\n",
              "AYwqt+e64gJz6pW3WS8bm1izqDzR55v8JhWmlRNW0Gx0aRo6gbtcJoWd6Gb1z5q4fLYLLt+bLcZ6\n",
              "4kUZMWN503h5evsTQPxtaLCkM2PrviQGnDatz1zKlAxDaJuWQT6KtlqkLXFKcAAABx0AAAI5QZpo\n",
              "SahBbJlMCHf//qmWAAADACuNNyUALaQxDLbN1LQRFCEeAb4dthhpW8jN41NBCK9ouGEBjXy9jZ4m\n",
              "t25cjRKz28vBpAsvQdQxVZeW4pfwoVysOg+Tbrnf8D9+yi6B+KN47Jf/PyfQw26qB5hiq+0bdeQJ\n",
              "gY02LsaQ5hJ1KIurjHGeWYNxHJKCAH8QEJrT1QMl0rBc0v74jkQwstW9UCUwMrCfc78EzEqOD54a\n",
              "cEnWN9SuYlQLCuCF8cCExiRb6KCAy/g1jsKniqg7MxQqRvOlrGwhKf4R3F5HT3h1+9EZEZUDb/8j\n",
              "5U9Yw/g6tMEKEHZdzuAgYieqdJL+dc8dpuc9Ejh1AQDIPSjYDorwUL1SYWqpufTsikPybIWFGMLW\n",
              "4jmwSu7odzIudWglgkBt/huklJnGA5CQ1YjQNUW5gmRtX1i70BNV681FFtcrKR7+4ad1m75h7YMm\n",
              "3gBZjZYQAginvAu1+cera7TRAocxAKYvm5TWXXxnfeH2UTvoM05+oR8J40XfrW8SDAFeuKeDzZk5\n",
              "M2ESpBlMZwdeKlxSAo4eh5WBsJQrY3HCl6E/m7QSGL1LKpmi4zSXIOh/AcIMNrP1rULhwGMLEflo\n",
              "BnO+yQF/mh2Q7VcNAmf72zQeS54hzmAkQx8cQeh09IuwxYRJzorgdICQUm05x6RovUMdZquEEBGP\n",
              "KG6O7F3pxCCdz25iusVNnrilkbxF4Yw/bysdzR5Xngpu4Q+Ot8SUkACMzPsnkQeGBJNepN8AAAEW\n",
              "QZ6GRRUsL/8AAAMAM4piuvgAVvXSIzxBWkecfgaFX0+Mzrwr4kn4WC1/BT7sv9Q0C+GG9KLfvX5E\n",
              "/DdfsOx7MRrLwwBrpcvXi7eNFfZ7RM/JnpF21K5l/bAYmQprQeCUYudX8FEfARDi1fDewB8S7a1f\n",
              "Xzhrw49pWXyA1T8EY/6BSqABq5dIUgW8CkEvoIeW9Q9dmHhrW6fmpK9iK+SYh8IeUJmWXdpVBoEq\n",
              "CPVuMD781QFvrvF8FcdQVtGJXALzvQbFGkR5hP4vHW2Tiyf6K/gHW/dQPbU49dW/Ld682/yQmA5q\n",
              "ypRlLcgZ794G6lnG5MBc1tZPMzkOXEvLcxriougJbZo/J8M5MHFPMtG/4V9wAAADAwMAAABxAZ6l\n",
              "dEK/AAADAEL/D8MQAhOciMYHI0vBIEBNTtM2kY2bLVbzdnLl8XGPJpDQnNlB6ed3S0Z9FCYafTcd\n",
              "CT04geJAFrxwiLspkkQslDzqmy2OIpJAUPwyE74BkWQ1gEzkGxgI8Z9Bf4ILJDn1wAAAOuEAAACK\n",
              "AZ6nakK/AAADAEVkCHZfQAIdr5Z9T7rRuXwkvLfLeKEL3jEZ5alWGdqhHvbX4bl1+BBoV0ook34G\n",
              "Gi7Kh6JE6Js6q5p+J9qHKIes2Io3WnNCSOeTOiWEPcX0JuOwowjRpMqa42Tqo63LMHayWg28NHNj\n",
              "Ht8zp6mruflEldJHci5UnEhIAAADACbgAAABnUGarEmoQWyZTAh3//6plgAAAwAqe+hNKABmp1I1\n",
              "rsl7NhAx2lOXlaryoQC8iPSfWx5jPnfg1UnjWew78up9/Je2pEDfa8oaktLBVITziqrDl09YnbCw\n",
              "RxOWpYJGRSG7N0LnvxcM1V80ZUgXWcT1pTgg1t57uIPzxn9mcW8syh/fskThT145riC9MYcygYdT\n",
              "WKHmAiGA3GAnWuwVQCLK218IIlmAL1LjR8tW73jAmYILlUhbuxpo4wjKDSZJk0YUctPgqbWNWTKp\n",
              "f9ImmzDe7D6n6Eic+MgPAdOidayJrfR7wy5Ej+0DPj8t38wmAlWMsplwBFn5MFO8JaeXVDvlvdlz\n",
              "yF3n/R7eW/+uqzxAG+kS7i4A+Loen4UqaDZrik+c+woZCioeMjBkK4N4bsIf36pzNtL16gYKX9Sf\n",
              "pHIF6OCgwstRtFfXbiIy+k6dfsXZLrHNYEnutN6h05Nn+jvmpYWW41gL0vyFOIzu8gy0vqLJkHQS\n",
              "3nnfXYlpM5BO7aXCHHde5nrn6E66/T4qp00sEvnPvZoNlgxp6oAAAFTAAAAApUGeykUVLC//AAAD\n",
              "ADIWA4ciwAWjlirrhT1r21RfGinDhPjK1YnE+ZGJ38xp2yEoQ/OPidV0lXW0TxUYgapasfTNX0Ip\n",
              "ZE6abQCkEZRCEM/K1NOYXebICkPmXhLh8uqG6FuhnnG/27FfjwaByqj9fdUO/C+Pa/mr8SbfYL47\n",
              "dLW1n7UKeH5nYMy3Cu3bA6H8G+be3lzOdStirTXO1J6g8+hEQAABewAAAJwBnul0Qr8AAAMAQnj3\n",
              "SAEJzVdh/UBxIOt5hfdXWFHQpR7TNiZ4L232xw5d/2Jew/I+03RsOiwhz1m59lR0t7x7yfLpvp5K\n",
              "68s4p8kPqtguEaUS0TbfExbnd2UbbKFojgHWzyzJV/gi/zlBEIHkNXtl8o5VSPqsTbdMu+RzCjvN\n",
              "mE5/VpoYGXI/QrYMK4Vm0ttGSzbAW7uD5AAAh4AAAADNAZ7rakK/AAADAEJtFh71OmIAQfV5Wugy\n",
              "xxp2fOeoBfu8Mr8sb3UPbELFmjyQ1sMxIll8D3Qxnd7QKA8IKDS92WBJup63MJN5ZEkImNLrVxZn\n",
              "Y068CkbhJNbcFVpBvAG3tBNoGKU5I355QAN5PqFDLXRp+Mt3w1SZu/GZm83LOq1kB2FbiX2THWYc\n",
              "sdOyC4S6wfwgbL7SWhPjgQp/o/SxvMcV5cky9Z2YvkTZFWVxawV1YKrooC0WYjMOpaj2WS+R4Vtp\n",
              "fMY6jAAAAwB0wAAAAS5BmvBJqEFsmUwIb//+p4QAAAMAVC7rk4q4AP1Ev+8cfDOdV21I3aZQOcaz\n",
              "KHb46s7t6bkbpiVa+V0kSI4V7ntyKycm2aVJfdCL0GCMHlZ4T3kF8w+nYCJh797To0y4GcnKG6E6\n",
              "zrPG4kTWMYheaadzCyC8zcn5CR7Bld5oJa3ysXDSKYQSwnqi7k7mrIBB8fPa5DX03rV3jPsNs4sQ\n",
              "PPm4QzTowC8WyrUeqPvnLkuyHZP9YTtHwT7ldUlveyOKIwlDsedBRIWjbPxlvnnsLM01W9huox7y\n",
              "bJpUgMSB6K97NOgqG3RoJrhn1vulELo884VZ6ldWcbGkLkQ0/b5MTFRio22EicV/+v+zJqHeI2+4\n",
              "NiFkHRq4kkupBZy/kjnKMeWN69mIblBWehIAAAMDKwAAANNBnw5FFSwv/wAAAwAyKSO57YANxCQf\n",
              "x6HWdC9HwrMIRfOwanNkDfq+3eygRyPMpmmbFXHPurpdL1HjMVYny4j9RfZC/WftIyyCm2lgLMMp\n",
              "+EnAIIu8YPZU1JAwUxdEcMbsoC//81Zv01/VGos3AFzYBK4IBEuswPz12R2R79bDrpIGWn/bpChD\n",
              "4hyu4K8IIS1QVYMrY4CupNtoHeKFI1J51O1K8h+hWDieLLPg/BPLp3PxDsqvYMjjL8+9Ms4lbvk/\n",
              "N0G0WYr9lFVIr8upPAAAAwEPAAAAogGfLXRCvwAAAwBC8CvZfSAECxNFy4KY+dDpm5dbT31F+Om6\n",
              "0u5Q16mHOw5oOK9gTBV2kEpDuZH5GJDPo21ykQ50RW1AprrrpgwWVGPR1lTzWc/t3RgdTITbVtbu\n",
              "OYLdwLtcfjtd3+SCcAddnNYCJov3yN00166q8VdsxOoEvBxV5/T+htmi53O5eLBLMwHE19ZewtFR\n",
              "AfFkVTLBRAAAAwBBwQAAAJwBny9qQr8AAAMAQz6fRgAh4hjEtoFaxkj5DDww1/qZmVp2Y88xFtza\n",
              "sZBn2VY3hjdmp/BNWoON2106MjvC9PfNsY4uAvGgrtAyMrrbgMcSXckt5XvHAFMMgh5YU7me62IV\n",
              "JzRv4oiZYYrW6b3Hs6t0cQ858urEup9Tcal3a5PAxVmPbfFzN9m/yQDH+kNO3G7SNTBuwj9EWAAA\n",
              "DCgAAAHSQZs0SahBbJlMCG///qeEAAADAFa39709MNxAAG4NJWzObAJ+/MWbP0968qaTPcPiPKXg\n",
              "tRs7D/TAMXPVh8iwVHi0HWMCGBjHHjzfG93NsPQ2UH1mGCPFzXoRyGGCw8NjtX64toeqvtCB2WaE\n",
              "g94SBFOrpxylDuCdrR9p2qf5ex4wEeRg+cupzZZOcjzOsvU/kLQUlVO2Tr24tm3O+pVB88b06al4\n",
              "HYdalkr+/LaUYN//XVRkwvC/lEivZpGwQ2pE6yY9B/mH92OAYdSHV3gjehNt0IYtbIfBvmz4e5Xe\n",
              "X/kiYvPPprpVu/VFxwhIMWOrxIoNfpzpVTo6uoD0eFAqVha+Cu1wQC/+SVPooZY+B7JlwSiq/YIT\n",
              "VTvjxAf4t4hIgP9o/lpHofxJbpLwutZ+NlHPFu6g4GBFSr8YE7e6Abji8B/HZTwi1jbdKD2tsdn+\n",
              "HYbNVud2uH8DThNCgHMnicCa+5DDsFFQ+szDu/OSz2olk13+dKaIDIpKmxeMkfCapqt62mEIhuYM\n",
              "8ebdtrlFbl0le6a+/PTQgXVQ/NXDMTc/bCZmjhETjRzjonCPIYEKRtG5zhkxLfXaUl1OZu3EJcbi\n",
              "7t6jqOWuTIHqHcqLDAABHwAAAKhBn1JFFSwv/wAAAwAzgUqmLbnM0AHD5l/O/wLMBs1cqCl716La\n",
              "c0kzxo/w6hrRCdeOewQrns9PkUykSI+jQYEQi2WtsY2L0d+lzA1t9Zi2PU/DOVVhlh9UeBOybE8E\n",
              "kFTbq7I/C3/xbSmJzGRg8+cAdad94MQHo8vnqGU+rhI+4a7S8Ae6H81HSIJi+vSH3VtP7mKzdbRE\n",
              "LV8u+rpK+B3HrlaOSAAAGBEAAACvAZ9xdEK/AAADAEVczYHU4AQhM7c8fMqehUfEDndkE4QqFHwI\n",
              "YkgwqrnXBNiFFeBfau9V1PITqFrZ9L0Zx2m8zEdVr0Klc++HY3UNNu2jL1ECsnXP+1QiRdoxAiLO\n",
              "6SNFfYfPkbvPS80r+s6yUn7t36qkQtFZEajVNZAzmglveZ3mwGgSETmoeXXi87zwIgyrnpi0ZWrO\n",
              "/nn9NDDFsQSmLveRegWCe1JG66GAAAAh4AAAAI8Bn3NqQr8AAAMAQ6PiAEJyKc+757lewx4Gc4VK\n",
              "5okhDfbIt0mxiPxN1Ooasw7k6Os+BS7R5h8vWx8bca2neQ23LEUBPQ5cvEdIc9KaHWfzfLs0Kc3R\n",
              "Y8F4+kPT6DVbUX7rImCNE2ierxG1yTAfNGtc+bjTchmxQxJsiu8TnMWqCVBKC0Bj4kjhgB4AAAMC\n",
              "PgAAAR9Bm3hJqEFsmUwIZ//+nhAAAAMBRxakqgAvLXO1gi2atZMf96cB+tYU1WbTkY82qT9zvNez\n",
              "KLt4ysqd2leOMc6BBwILUNf0M3XqHXcYMchpWtKSS8PSnmZV88EYmbSHaOl65UYSkfdl+KhoX4i4\n",
              "6rgnF5dMP2X9mDb2FpixCNsbLbKHLxSK3yllT5+hwj22KUn0yK9L6nhf8nF6vgVcDsreS/WlXlXi\n",
              "KQWNxj3jXalVw9RKKG6JRjuSm7DZ3iDcbIBOjdkztDI7a5JDmhneaLSjFnVxHn97/fpMj8GOxlCk\n",
              "rKSbPMy/6u4csUZrxd5iby8Stl5WWmjPXqmtvVUEspTYnE1euL3eW+yTsxPEpp15mFFMKvec6MmU\n",
              "3XlwAAChgQAAAMtBn5ZFFSwv/wAAAwAxn0y+7ACD+IBuGAcBeunozrEWO4g3TkgZBqEhO9R1mujN\n",
              "1JSxTntXlApXBjD0NIQd1gUzyjJ/P6cEDPskCTEZChnHWF7crzV7FXsPoOvtW51fPHxtXFdJc9l7\n",
              "gLiyKnrnq0HKVlGHadWeri+04mx5YR/yetE/3fZy7OE4Yf2/RWG1wkqrRgbYNI3xCePJlE9YL0qX\n",
              "CsTwR09F3ZjZ1QtEHmQN3p12fge8Og/ugwGY0FHN+I2elCmC9atdAAAIuAAAAKEBn7V0Qr8AAAMA\n",
              "QsWodOIE2sAIIuLq/AFy3gSEL9rRhir11UMMHclepgqFtE9SDXjj5rYFwNn8FqC6Cc43kRDTDncd\n",
              "Hl4J8YLBcqkUpZw2Nh69zXpzbR4MGaP+5KL4XRbrlCDCLUwtS+zBbHZFLXeH5gNTzfeV+LgH3yxx\n",
              "tpSjQVo9JI/dWmW0K9UC+94IK4DEMgR8XaS3ccYHvXxbAAAGLQAAAKcBn7dqQr8AAAMAQzNdfJAC\n",
              "BZ3UiXWgFDtqCjVetBK6uhb6d6zzUWAOpi2SVK9v5/aHTyCkfj26VKNu7p7enPGE4T9RT1D0z42j\n",
              "jbe4J4YODNgipxPQNuvRAqNmh9hiuxzf33cKr1/bgMy6Qa64U5zmTlgBlVzgGWbfQeOZUnb06FSS\n",
              "xCJ15LiN82+TBREvz5/vHyxelw/ejXA4PoVKhlljPIAAAAMDVwAAALRBm7pJqEFsmUwUTCv//jhA\n",
              "AAAE+2YltEAHv/LxQ2aWelNeNK5BVGHeF69n9+JkHsSCSJdZyvWlstK/h9OGoFHkkYwAR23f78Gv\n",
              "AJHI7Sqz8hEdy3mEu/cVn6eXLohN69I3xfAYRDsVXJxl21BvFYWshTqmvhkhFTxQdiTH9gEaCYc8\n",
              "Bkj/MhMvVH9WDobxPIfIPVUuJp2Csbp9BRvQ2W7udkH/PsKruIupUvPiAbRC7sAAAakAAACDAZ/Z\n",
              "akK/AAADAENaRGACFoscDFkCGT4r7xd6/VqBPjH2vuBqg63Z0xBZ9mTJ4SRIxh77R+qZT0jgcFfK\n",
              "d25IEd5E6NjkvLmMffjZl95BUSZCtluXXqPMtxai/+voGmNImPTNsTrsjX4O7kKiU+h8u/039Id4\n",
              "LniJXJzbq7NW9oAACmkAAAp4bW9vdgAAAGxtdmhkAAAAAAAAAAAAAAAAAAAD6AAAGDgAAQAAAQAA\n",
              "AAAAAAAAAAAAAAEAAAAAAAAAAAAAAAAAAAABAAAAAAAAAAAAAAAAAABAAAAAAAAAAAAAAAAAAAAA\n",
              "AAAAAAAAAAAAAAAAAAAAAgAACaJ0cmFrAAAAXHRraGQAAAADAAAAAAAAAAAAAAABAAAAAAAAGDgA\n",
              "AAAAAAAAAAAAAAAAAAAAAAEAAAAAAAAAAAAAAAAAAAABAAAAAAAAAAAAAAAAAABAAAAAAlgAAAJY\n",
              "AAAAAAAkZWR0cwAAABxlbHN0AAAAAAAAAAEAABg4AAAEAAABAAAAAAkabWRpYQAAACBtZGhkAAAA\n",
              "AAAAAAAAAAAAAAAyAAABNgBVxAAAAAAALWhkbHIAAAAAAAAAAHZpZGUAAAAAAAAAAAAAAABWaWRl\n",
              "b0hhbmRsZXIAAAAIxW1pbmYAAAAUdm1oZAAAAAEAAAAAAAAAAAAAACRkaW5mAAAAHGRyZWYAAAAA\n",
              "AAAAAQAAAAx1cmwgAAAAAQAACIVzdGJsAAAAuXN0c2QAAAAAAAAAAQAAAKlhdmMxAAAAAAAAAAEA\n",
              "AAAAAAAAAAAAAAAAAAAAAlgCWABIAAAASAAAAAAAAAABAAAAAAAAAAAAAAAAAAAAAAAAAAAAAAAA\n",
              "AAAAAAAAAAAAGP//AAAAN2F2Y0MBZAAe/+EAGmdkAB6s2UCYE3llhAAAAwAEAAADAMg8WLZYAQAG\n",
              "aOvjyyLA/fj4AAAAABx1dWlka2hA8l8kT8W6OaUbzwMj8wAAAAAAAAAYc3R0cwAAAAAAAAABAAAA\n",
              "mwAAAgAAAAAUc3RzcwAAAAAAAAABAAAAAQAABOhjdHRzAAAAAAAAAJsAAAABAAAEAAAAAAEAAAoA\n",
              "AAAAAQAABAAAAAABAAAAAAAAAAEAAAIAAAAAAQAACgAAAAABAAAEAAAAAAEAAAAAAAAAAQAAAgAA\n",
              "AAABAAAKAAAAAAEAAAQAAAAAAQAAAAAAAAABAAACAAAAAAEAAAoAAAAAAQAABAAAAAABAAAAAAAA\n",
              "AAEAAAIAAAAAAQAACgAAAAABAAAEAAAAAAEAAAAAAAAAAQAAAgAAAAABAAAKAAAAAAEAAAQAAAAA\n",
              "AQAAAAAAAAABAAACAAAAAAEAAAoAAAAAAQAABAAAAAABAAAAAAAAAAEAAAIAAAAAAQAACgAAAAAB\n",
              "AAAEAAAAAAEAAAAAAAAAAQAAAgAAAAABAAAKAAAAAAEAAAQAAAAAAQAAAAAAAAABAAACAAAAAAEA\n",
              "AAoAAAAAAQAABAAAAAABAAAAAAAAAAEAAAIAAAAAAQAACgAAAAABAAAEAAAAAAEAAAAAAAAAAQAA\n",
              "AgAAAAABAAAKAAAAAAEAAAQAAAAAAQAAAAAAAAABAAACAAAAAAEAAAoAAAAAAQAABAAAAAABAAAA\n",
              "AAAAAAEAAAIAAAAAAQAACgAAAAABAAAEAAAAAAEAAAAAAAAAAQAAAgAAAAABAAAKAAAAAAEAAAQA\n",
              "AAAAAQAAAAAAAAABAAACAAAAAAEAAAoAAAAAAQAABAAAAAABAAAAAAAAAAEAAAIAAAAAAQAACgAA\n",
              "AAABAAAEAAAAAAEAAAAAAAAAAQAAAgAAAAABAAAKAAAAAAEAAAQAAAAAAQAAAAAAAAABAAACAAAA\n",
              "AAEAAAoAAAAAAQAABAAAAAABAAAAAAAAAAEAAAIAAAAAAQAACgAAAAABAAAEAAAAAAEAAAAAAAAA\n",
              "AQAAAgAAAAABAAAKAAAAAAEAAAQAAAAAAQAAAAAAAAABAAACAAAAAAEAAAoAAAAAAQAABAAAAAAB\n",
              "AAAAAAAAAAEAAAIAAAAAAQAACgAAAAABAAAEAAAAAAEAAAAAAAAAAQAAAgAAAAABAAAKAAAAAAEA\n",
              "AAQAAAAAAQAAAAAAAAABAAACAAAAAAEAAAoAAAAAAQAABAAAAAABAAAAAAAAAAEAAAIAAAAAAQAA\n",
              "CgAAAAABAAAEAAAAAAEAAAAAAAAAAQAAAgAAAAABAAAKAAAAAAEAAAQAAAAAAQAAAAAAAAABAAAC\n",
              "AAAAAAEAAAoAAAAAAQAABAAAAAABAAAAAAAAAAEAAAIAAAAAAQAACgAAAAABAAAEAAAAAAEAAAAA\n",
              "AAAAAQAAAgAAAAABAAAKAAAAAAEAAAQAAAAAAQAAAAAAAAABAAACAAAAAAEAAAoAAAAAAQAABAAA\n",
              "AAABAAAAAAAAAAEAAAIAAAAAAQAACgAAAAABAAAEAAAAAAEAAAAAAAAAAQAAAgAAAAABAAAKAAAA\n",
              "AAEAAAQAAAAAAQAAAAAAAAABAAACAAAAAAEAAAoAAAAAAQAABAAAAAABAAAAAAAAAAEAAAIAAAAA\n",
              "AQAACgAAAAABAAAEAAAAAAEAAAAAAAAAAQAAAgAAAAABAAAKAAAAAAEAAAQAAAAAAQAAAAAAAAAB\n",
              "AAACAAAAAAEAAAoAAAAAAQAABAAAAAABAAAAAAAAAAEAAAIAAAAAAQAACgAAAAABAAAEAAAAAAEA\n",
              "AAAAAAAAAQAAAgAAAAABAAAGAAAAAAEAAAIAAAAAHHN0c2MAAAAAAAAAAQAAAAEAAACbAAAAAQAA\n",
              "AoBzdHN6AAAAAAAAAAAAAACbAAASdAAAA4gAAAEtAAAA2gAAANQAAAJzAAABGgAAAJMAAACrAAAC\n",
              "7wAAANIAAADHAAAAzQAAAXwAAAE7AAAAtQAAAJQAAAKHAAAAtQAAAOwAAADDAAABvgAAAOUAAACv\n",
              "AAAAvAAAAb8AAADtAAAAtAAAAOsAAALBAAAAzQAAAOAAAADSAAAByAAAAUEAAAD8AAAAtgAAAegA\n",
              "AADjAAAAxAAAAMkAAALEAAAApwAAAL4AAADzAAACbQAAAQ8AAAC2AAAAkwAAAYkAAADCAAAA6wAA\n",
              "AMoAAAHYAAAA/QAAAPEAAACpAAABiQAAANAAAADNAAAAzgAAAokAAAEJAAAAywAAAK8AAAGTAAAA\n",
              "/QAAAN0AAACyAAABkQAAAU8AAAC1AAAAsQAAAq4AAACbAAAApgAAAMQAAAGZAAAA/AAAAMcAAAC8\n",
              "AAACjQAAALAAAADVAAAApgAAAiQAAADPAAAAoQAAAJ0AAAGFAAAA0AAAAJEAAACmAAACUQAAALcA\n",
              "AACtAAAAtQAAAbQAAAD6AAAA2wAAAK0AAAMLAAAA9wAAAMIAAACkAAABfwAAAOsAAACgAAAA5gAA\n",
              "AYIAAAD1AAAArQAAALgAAAKfAAAAugAAALcAAACbAAAB7wAAAOAAAAC9AAAAnQAAAbsAAACrAAAA\n",
              "sgAAAK8AAAIYAAAAyAAAAJUAAACgAAAB3gAAAPAAAADQAAAAsAAAAj0AAAEaAAAAdQAAAI4AAAGh\n",
              "AAAAqQAAAKAAAADRAAABMgAAANcAAACmAAAAoAAAAdYAAACsAAAAswAAAJMAAAEjAAAAzwAAAKUA\n",
              "AACrAAAAuAAAAIcAAAAUc3RjbwAAAAAAAAABAAAAMAAAAGJ1ZHRhAAAAWm1ldGEAAAAAAAAAIWhk\n",
              "bHIAAAAAAAAAAG1kaXJhcHBsAAAAAAAAAAAAAAAALWlsc3QAAAAlqXRvbwAAAB1kYXRhAAAAAQAA\n",
              "AABMYXZmNTguNzYuMTAw\n",
              "\">\n",
              "  Your browser does not support the video tag.\n",
              "</video>"
            ]
          },
          "metadata": {},
          "execution_count": 26
        },
        {
          "output_type": "display_data",
          "data": {
            "text/plain": [
              "<Figure size 600x600 with 1 Axes>"
            ],
            "image/png": "[encoded data removed]"
          },
          "metadata": {}
        }
      ],
      "source": [
        "# create a figure and axes\n",
        "fig = plt.figure(figsize=(6,6))\n",
        "\n",
        "# Create arrays with the latitude and longitude coordinates for plotting using pcolor\n",
        "from dedalus.extras import plot_tools\n",
        "(X, Y) = plot_tools.quad_mesh(np.squeeze(x), np.squeeze(y))\n",
        "\n",
        "# Define an animation function\n",
        "def drawframe(n):\n",
        "    plt.clf()\n",
        "    concentration = plt.pcolor(X, Y, c_save[n,:,:].T)\n",
        "    # Specify the axis limits and labels\n",
        "    plt.axis('square')\n",
        "    plt.xlim(0, L)\n",
        "    plt.ylim(0, w)\n",
        "    plt.xlabel('x (m)')\n",
        "    plt.ylabel('y (m)')\n",
        "    plt.title('concentration, time = {0:.2f} seconds'.format(t_save[n]))\n",
        "    return (concentration,)\n",
        "\n",
        "from matplotlib import animation\n",
        "# blit=True re-draws only the parts that have changed.\n",
        "anim = animation.FuncAnimation(fig, drawframe, frames=len(t_save), interval=40, blit=True)\n",
        "\n",
        "from IPython.display import HTML\n",
        "HTML(anim.to_html5_video())"
      ]
    },
    {
      "cell_type": "markdown",
      "metadata": {
        "id": "xlqys_90Gj7k"
      },
      "source": [
        "## 2.3 Student investigation\n",
        "<a id='section2pt3'></a>\n",
        "In the boxes below, plot the pollution concentration at a few points as a function of time. Then vary the maximum flow speed and the diffusivity and explore how the pollution levels depend on these parameters. Using dimensional analysis, estimate the time needed for the pollution to reach the opposite side of the river. How far downstream of the source do you expect this to happen (assuming that the domain in the x-direction is infinite)."
      ]
    },
    {
      "cell_type": "markdown",
      "metadata": {
        "id": "URQWpPXuGj7k"
      },
      "source": [
        "**My Answer**\n",
        "\n",
        "Below there are two plots showing how concentration varies with time at given points along the river. The first is fairly far down the river, and near its midpoint. The second is near the start of the river, and at the midpoint. The first plot shows a greater magnitude overall, as advection carries the tracer away from start point rapidly. We also see a shift in the first inflection point, where the central point experiences greater concentrations at a later time.\n",
        "\n",
        "Here, maximum flow speed is 0.1 and $\\kappa$ is 1e-2.\n"
      ]
    },
    {
      "cell_type": "code",
      "source": [
        "# Nx = 256 - number of gridoints in x. x is length of river.\n",
        "# Ny = 32 - number of gridpoints in y. y is width of river.\n",
        "# the [] after c_save describe the concentration at about 2/5 along the river's length\n",
        "# and about 1/3 along the river's width\n",
        "\n",
        "x_bit = 120\n",
        "y_bit = 10\n",
        "length_bit = x_bit/256 * L\n",
        "width_bit = y_bit/32 * w\n",
        "\n",
        "plt.plot(t_save, c_save[:,x_bit,y_bit])\n",
        "plt.xlabel('Time /s')\n",
        "plt.ylabel('Concentration')\n",
        "\n",
        "title = f'Concentration variation with time at {round(length_bit,1)}m length, and {round(width_bit,1)}m width'\n",
        "plt.title(title)"
      ],
      "metadata": {
        "id": "7MZ5CkirJrOh",
        "outputId": "cc8fc371-c5c9-4c38-b419-5ee727637636",
        "colab": {
          "base_uri": "https://localhost:8080/",
          "height": 490
        }
      },
      "execution_count": null,
      "outputs": [
        {
          "output_type": "execute_result",
          "data": {
            "text/plain": [
              "Text(0.5, 1.0, 'Concentration variation with time at 23.4m length, and 3.1m width')"
            ]
          },
          "metadata": {},
          "execution_count": 12
        },
        {
          "output_type": "display_data",
          "data": {
            "text/plain": [
              "<Figure size 640x480 with 1 Axes>"
            ],
            "image/png": "[encoded data removed]"
          },
          "metadata": {}
        }
      ]
    },
    {
      "cell_type": "code",
      "source": [
        "x_bit = 10\n",
        "y_bit = 16\n",
        "length_bit = x_bit/256 * L\n",
        "width_bit = y_bit/32 * w\n",
        "\n",
        "plt.plot(t_save, c_save[:,x_bit,y_bit])\n",
        "plt.xlabel('Time /s')\n",
        "plt.ylabel('Concentration')\n",
        "\n",
        "title = f'Concentration variation with time at {round(length_bit,1)}m length, and {round(width_bit,1)}m width'\n",
        "plt.title(title)"
      ],
      "metadata": {
        "id": "9UwMSwFnPoJ-",
        "outputId": "78c5705d-a498-400d-e180-034cee30b5c0",
        "colab": {
          "base_uri": "https://localhost:8080/",
          "height": 490
        }
      },
      "execution_count": null,
      "outputs": [
        {
          "output_type": "execute_result",
          "data": {
            "text/plain": [
              "Text(0.5, 1.0, 'Concentration variation with time at 2.0m length, and 5.0m width')"
            ]
          },
          "metadata": {},
          "execution_count": 13
        },
        {
          "output_type": "display_data",
          "data": {
            "text/plain": [
              "<Figure size 640x480 with 1 Axes>"
            ],
            "image/png": "[encoded data removed]"
          },
          "metadata": {}
        }
      ]
    },
    {
      "cell_type": "markdown",
      "source": [
        "**My Answer - continued**\n",
        "\n",
        "Now, we vary the maximum flow speed and diffusivity. The original value has $U_0$ = 0.1 and $\\kappa$ = 1e-2. Below, I vary both values to smaller and greater values, with the middle plot showing the original set up.\n",
        "\n",
        "In the original set up, at this point in the river, we see a maximum concentration of 2. Increasing $U_0$ does not affect the magnitude of final concentration, but produces a more turbulent path. The lowest $U_0$ has a smooth increase due to this lower turbulence.\n",
        "\n",
        "An increase in $\\kappa$ has a more pronounced effect. Doubling $\\kappa$ will almost double concentration between scenarios, and vice versa for halving. This is to be expected as with a greater $\\kappa$, diffusion is stronger and so more tracer will get to the end of the river. The shape of the concentration curve at a given $U_0$ is maintained for different $\\kappa$s, however amplitude is increased for greater $\\kappa$ and vice versa.\n",
        "\n"
      ],
      "metadata": {
        "id": "CnTcJvs7ynak"
      }
    },
    {
      "cell_type": "code",
      "source": [
        "fig, axs = plt.subplots(nrows=3,ncols=3,figsize=(10,10),constrained_layout=True, sharex = True, sharey = True)\n",
        "axs=axs.flatten()\n",
        "# maximum flow speed is 0.1 and  κ  is 1e-2.\n",
        "\n",
        "columns= [[0.05,0.5e-2],[0.1, 0.5e-2],[0.2,0.5e-2],[0.05,1e-2],[0.1, 1e-2],[0.2, 1e-2],[0.05,2e-2],[0.1, 2e-2],[0.2,2e-2]]\n",
        "\n",
        "for i, ax in enumerate(axs):\n",
        "\n",
        "    # Set parameters\n",
        "    U0 = columns[i][0] # maximum current speed in m/s       - CHANGE THIS\n",
        "    w = 10 # width of the river in m\n",
        "    L = 50 # length of the river section to simulate\n",
        "    kappa = columns[i][1] # diffusivity in m^2/s           - CHANGE THIS\n",
        "    S0 = 1 # amplitude of the pollution source term\n",
        "    S_w = 1 # width of the source term in m\n",
        "    S_x = 10 # center of the forcing in x\n",
        "    S_y = 0 # center of the forcing in y\n",
        "    S_t = 1 # forcing timescale\n",
        "\n",
        "    # Numerical parameters\n",
        "    Nx = 256 # number of gridoints in x\n",
        "    Ny = 32 # number of gridpoints in y\n",
        "    stop_sim_time=1500 # end time in seconds\n",
        "    timestep = (L/Nx)/U0 # timestep in seconds, calculated from the CFL number\n",
        "\n",
        "    import numpy as np\n",
        "    import dedalus.public as dedalus\n",
        "    import logging\n",
        "    logger = logging.getLogger(__name__)\n",
        "\n",
        "    # Bases and coordinates\n",
        "    coords = dedalus.CartesianCoordinates('x', 'y')\n",
        "    dist = dedalus.Distributor(coords, dtype=np.float64)\n",
        "    xbasis = dedalus.RealFourier(coords['x'], size=Nx, bounds=(0, L), dealias=3/2)\n",
        "    ybasis = dedalus.ChebyshevT(coords['y'], size=Ny, bounds=(0, w), dealias=3/2)\n",
        "    x, y = dist.local_grids(xbasis, ybasis)\n",
        "    ex, ey = coords.unit_vector_fields(dist) # x and y unit vectors\n",
        "\n",
        "    # Fields\n",
        "    c = dist.Field(name='b', bases=(xbasis,ybasis))\n",
        "    u = dist.Field(name='u', bases=(xbasis,ybasis))\n",
        "    tau_1 = dist.Field(name='tau_1', bases=xbasis)\n",
        "    tau_2 = dist.Field(name='tau_2', bases=xbasis)\n",
        "\n",
        "    # Specify the velocity field\n",
        "    u['g'] = U0 * (1- (y - w/2)**2.0/(w/2)**2.0) # parabolic velocity profile\n",
        "\n",
        "    # Substitutions\n",
        "    lift_basis = ybasis.derivative_basis(1)\n",
        "    lift = lambda A: dedalus.Lift(A, lift_basis, -1)\n",
        "    grad_c = dedalus.grad(c) + ey*lift(tau_1)\n",
        "    dx = lambda A: dedalus.Differentiate(A, coords['x'])\n",
        "\n",
        "    S = dist.Field(name='u', bases=(xbasis,ybasis))\n",
        "    S['g'] = S0*np.exp(-(x-S_x)**2.0/S_w**2.0-(y-S_y)**2.0/S_w**2.0)\n",
        "\n",
        "    # Problem\n",
        "    problem = dedalus.IVP([c, tau_1, tau_2], namespace=locals())\n",
        "    problem.add_equation(\"dt(c) + u*dx(c) - kappa*div(grad_c) + lift(tau_2) = S/S_t\")\n",
        "    problem.add_equation(\"c(y=0) = 0\")\n",
        "    problem.add_equation(\"c(y=w) = 0\")\n",
        "\n",
        "    # Now, set the solver\n",
        "    solver = problem.build_solver(dedalus.RK222)\n",
        "    solver.stop_sim_time = stop_sim_time\n",
        "\n",
        "    # Create an array to periodically save the concentration field for plotting later\n",
        "    c.change_scales(1)\n",
        "    c_save = [np.copy(c['g'])];\n",
        "\n",
        "    t_save = [solver.sim_time]; # Save the initial condition and the initial time\n",
        "    # Main loop\n",
        "    try:\n",
        "        logger.info('Starting main loop')\n",
        "        while solver.proceed:\n",
        "            solver.step(timestep)\n",
        "            if (solver.iteration-1) % 10 == 0:\n",
        "                logger.info('Iteration=%i, Time=%e, dt=%e' %(solver.iteration, solver.sim_time, timestep))\n",
        "                c.change_scales(1)\n",
        "                c_save.append(np.copy(c['g']))\n",
        "                t_save.append(solver.sim_time)\n",
        "    except:\n",
        "        logger.error('Exception raised, triggering end of main loop.')\n",
        "        raise\n",
        "    finally:\n",
        "        solver.log_stats()\n",
        "\n",
        "    # Convert the variables to numpy arrays for allow array slicing\n",
        "    c_save = np.array(c_save)\n",
        "\n",
        "    x_bit = 100\n",
        "    y_bit = 10\n",
        "    length_bit = x_bit/256 * L\n",
        "    width_bit = y_bit/32 * w\n",
        "\n",
        "    axs[i].plot(t_save, c_save[:,x_bit,y_bit])\n",
        "    axs[i].set_xlabel('Time /s')\n",
        "    axs[i].set_ylabel('Concentration')\n",
        "\n",
        "    title = f'U0 = {columns[i][0]} and $\\kappa$ = {columns[i][1]}'\n",
        "    axs[i].set_title(title)\n",
        "\n",
        "big_title = f'Concentration variation with time at {round(length_bit,1)}m length, and {round(width_bit,1)}m width'\n",
        "plt.suptitle(big_title)\n",
        "\n"
      ],
      "metadata": {
        "id": "jeLOlU5nrY_z",
        "outputId": "2820db90-9a20-404a-9ece-585655cbf804",
        "colab": {
          "base_uri": "https://localhost:8080/",
          "height": 1000
        }
      },
      "execution_count": null,
      "outputs": [
        {
          "output_type": "stream",
          "name": "stderr",
          "text": [
            "INFO:subsystems:Building subproblem matrices 1/1 (~100%) Elapsed: 0s, Remaining: 0s, Rate: 4.4e+00/s\n"
          ]
        },
        {
          "output_type": "stream",
          "name": "stdout",
          "text": [
            "2024-11-01 18:01:56,250 subsystems 0/1 INFO :: Building subproblem matrices 1/1 (~100%) Elapsed: 0s, Remaining: 0s, Rate: 4.4e+00/s\n"
          ]
        },
        {
          "output_type": "stream",
          "name": "stderr",
          "text": [
            "INFO:__main__:Starting main loop\n"
          ]
        },
        {
          "output_type": "stream",
          "name": "stdout",
          "text": [
            "2024-11-01 18:01:56,258 __main__ 0/1 INFO :: Starting main loop\n"
          ]
        },
        {
          "output_type": "stream",
          "name": "stderr",
          "text": [
            "INFO:__main__:Iteration=1, Time=3.906250e+00, dt=3.906250e+00\n"
          ]
        },
        {
          "output_type": "stream",
          "name": "stdout",
          "text": [
            "2024-11-01 18:01:56,293 __main__ 0/1 INFO :: Iteration=1, Time=3.906250e+00, dt=3.906250e+00\n"
          ]
        },
        {
          "output_type": "stream",
          "name": "stderr",
          "text": [
            "INFO:__main__:Iteration=11, Time=4.296875e+01, dt=3.906250e+00\n"
          ]
        },
        {
          "output_type": "stream",
          "name": "stdout",
          "text": [
            "2024-11-01 18:01:56,321 __main__ 0/1 INFO :: Iteration=11, Time=4.296875e+01, dt=3.906250e+00\n"
          ]
        },
        {
          "output_type": "stream",
          "name": "stderr",
          "text": [
            "INFO:__main__:Iteration=21, Time=8.203125e+01, dt=3.906250e+00\n"
          ]
        },
        {
          "output_type": "stream",
          "name": "stdout",
          "text": [
            "2024-11-01 18:01:56,347 __main__ 0/1 INFO :: Iteration=21, Time=8.203125e+01, dt=3.906250e+00\n"
          ]
        },
        {
          "output_type": "stream",
          "name": "stderr",
          "text": [
            "INFO:__main__:Iteration=31, Time=1.210938e+02, dt=3.906250e+00\n"
          ]
        },
        {
          "output_type": "stream",
          "name": "stdout",
          "text": [
            "2024-11-01 18:01:56,375 __main__ 0/1 INFO :: Iteration=31, Time=1.210938e+02, dt=3.906250e+00\n"
          ]
        },
        {
          "output_type": "stream",
          "name": "stderr",
          "text": [
            "INFO:__main__:Iteration=41, Time=1.601562e+02, dt=3.906250e+00\n"
          ]
        },
        {
          "output_type": "stream",
          "name": "stdout",
          "text": [
            "2024-11-01 18:01:56,403 __main__ 0/1 INFO :: Iteration=41, Time=1.601562e+02, dt=3.906250e+00\n"
          ]
        },
        {
          "output_type": "stream",
          "name": "stderr",
          "text": [
            "INFO:__main__:Iteration=51, Time=1.992188e+02, dt=3.906250e+00\n"
          ]
        },
        {
          "output_type": "stream",
          "name": "stdout",
          "text": [
            "2024-11-01 18:01:56,430 __main__ 0/1 INFO :: Iteration=51, Time=1.992188e+02, dt=3.906250e+00\n"
          ]
        },
        {
          "output_type": "stream",
          "name": "stderr",
          "text": [
            "INFO:__main__:Iteration=61, Time=2.382812e+02, dt=3.906250e+00\n"
          ]
        },
        {
          "output_type": "stream",
          "name": "stdout",
          "text": [
            "2024-11-01 18:01:56,458 __main__ 0/1 INFO :: Iteration=61, Time=2.382812e+02, dt=3.906250e+00\n"
          ]
        },
        {
          "output_type": "stream",
          "name": "stderr",
          "text": [
            "INFO:__main__:Iteration=71, Time=2.773438e+02, dt=3.906250e+00\n"
          ]
        },
        {
          "output_type": "stream",
          "name": "stdout",
          "text": [
            "2024-11-01 18:01:56,485 __main__ 0/1 INFO :: Iteration=71, Time=2.773438e+02, dt=3.906250e+00\n"
          ]
        },
        {
          "output_type": "stream",
          "name": "stderr",
          "text": [
            "INFO:__main__:Iteration=81, Time=3.164062e+02, dt=3.906250e+00\n"
          ]
        },
        {
          "output_type": "stream",
          "name": "stdout",
          "text": [
            "2024-11-01 18:01:56,513 __main__ 0/1 INFO :: Iteration=81, Time=3.164062e+02, dt=3.906250e+00\n"
          ]
        },
        {
          "output_type": "stream",
          "name": "stderr",
          "text": [
            "INFO:__main__:Iteration=91, Time=3.554688e+02, dt=3.906250e+00\n"
          ]
        },
        {
          "output_type": "stream",
          "name": "stdout",
          "text": [
            "2024-11-01 18:01:56,540 __main__ 0/1 INFO :: Iteration=91, Time=3.554688e+02, dt=3.906250e+00\n"
          ]
        },
        {
          "output_type": "stream",
          "name": "stderr",
          "text": [
            "INFO:__main__:Iteration=101, Time=3.945312e+02, dt=3.906250e+00\n"
          ]
        },
        {
          "output_type": "stream",
          "name": "stdout",
          "text": [
            "2024-11-01 18:01:56,568 __main__ 0/1 INFO :: Iteration=101, Time=3.945312e+02, dt=3.906250e+00\n"
          ]
        },
        {
          "output_type": "stream",
          "name": "stderr",
          "text": [
            "INFO:__main__:Iteration=111, Time=4.335938e+02, dt=3.906250e+00\n"
          ]
        },
        {
          "output_type": "stream",
          "name": "stdout",
          "text": [
            "2024-11-01 18:01:56,599 __main__ 0/1 INFO :: Iteration=111, Time=4.335938e+02, dt=3.906250e+00\n"
          ]
        },
        {
          "output_type": "stream",
          "name": "stderr",
          "text": [
            "INFO:__main__:Iteration=121, Time=4.726562e+02, dt=3.906250e+00\n"
          ]
        },
        {
          "output_type": "stream",
          "name": "stdout",
          "text": [
            "2024-11-01 18:01:56,629 __main__ 0/1 INFO :: Iteration=121, Time=4.726562e+02, dt=3.906250e+00\n"
          ]
        },
        {
          "output_type": "stream",
          "name": "stderr",
          "text": [
            "INFO:__main__:Iteration=131, Time=5.117188e+02, dt=3.906250e+00\n"
          ]
        },
        {
          "output_type": "stream",
          "name": "stdout",
          "text": [
            "2024-11-01 18:01:56,659 __main__ 0/1 INFO :: Iteration=131, Time=5.117188e+02, dt=3.906250e+00\n"
          ]
        },
        {
          "output_type": "stream",
          "name": "stderr",
          "text": [
            "INFO:__main__:Iteration=141, Time=5.507812e+02, dt=3.906250e+00\n"
          ]
        },
        {
          "output_type": "stream",
          "name": "stdout",
          "text": [
            "2024-11-01 18:01:56,686 __main__ 0/1 INFO :: Iteration=141, Time=5.507812e+02, dt=3.906250e+00\n"
          ]
        },
        {
          "output_type": "stream",
          "name": "stderr",
          "text": [
            "INFO:__main__:Iteration=151, Time=5.898438e+02, dt=3.906250e+00\n"
          ]
        },
        {
          "output_type": "stream",
          "name": "stdout",
          "text": [
            "2024-11-01 18:01:56,715 __main__ 0/1 INFO :: Iteration=151, Time=5.898438e+02, dt=3.906250e+00\n"
          ]
        },
        {
          "output_type": "stream",
          "name": "stderr",
          "text": [
            "INFO:__main__:Iteration=161, Time=6.289062e+02, dt=3.906250e+00\n"
          ]
        },
        {
          "output_type": "stream",
          "name": "stdout",
          "text": [
            "2024-11-01 18:01:56,751 __main__ 0/1 INFO :: Iteration=161, Time=6.289062e+02, dt=3.906250e+00\n"
          ]
        },
        {
          "output_type": "stream",
          "name": "stderr",
          "text": [
            "INFO:__main__:Iteration=171, Time=6.679688e+02, dt=3.906250e+00\n"
          ]
        },
        {
          "output_type": "stream",
          "name": "stdout",
          "text": [
            "2024-11-01 18:01:56,791 __main__ 0/1 INFO :: Iteration=171, Time=6.679688e+02, dt=3.906250e+00\n"
          ]
        },
        {
          "output_type": "stream",
          "name": "stderr",
          "text": [
            "INFO:__main__:Iteration=181, Time=7.070312e+02, dt=3.906250e+00\n"
          ]
        },
        {
          "output_type": "stream",
          "name": "stdout",
          "text": [
            "2024-11-01 18:01:56,834 __main__ 0/1 INFO :: Iteration=181, Time=7.070312e+02, dt=3.906250e+00\n"
          ]
        },
        {
          "output_type": "stream",
          "name": "stderr",
          "text": [
            "INFO:__main__:Iteration=191, Time=7.460938e+02, dt=3.906250e+00\n"
          ]
        },
        {
          "output_type": "stream",
          "name": "stdout",
          "text": [
            "2024-11-01 18:01:56,868 __main__ 0/1 INFO :: Iteration=191, Time=7.460938e+02, dt=3.906250e+00\n"
          ]
        },
        {
          "output_type": "stream",
          "name": "stderr",
          "text": [
            "INFO:__main__:Iteration=201, Time=7.851562e+02, dt=3.906250e+00\n"
          ]
        },
        {
          "output_type": "stream",
          "name": "stdout",
          "text": [
            "2024-11-01 18:01:56,902 __main__ 0/1 INFO :: Iteration=201, Time=7.851562e+02, dt=3.906250e+00\n"
          ]
        },
        {
          "output_type": "stream",
          "name": "stderr",
          "text": [
            "INFO:__main__:Iteration=211, Time=8.242188e+02, dt=3.906250e+00\n"
          ]
        },
        {
          "output_type": "stream",
          "name": "stdout",
          "text": [
            "2024-11-01 18:01:56,938 __main__ 0/1 INFO :: Iteration=211, Time=8.242188e+02, dt=3.906250e+00\n"
          ]
        },
        {
          "output_type": "stream",
          "name": "stderr",
          "text": [
            "INFO:__main__:Iteration=221, Time=8.632812e+02, dt=3.906250e+00\n"
          ]
        },
        {
          "output_type": "stream",
          "name": "stdout",
          "text": [
            "2024-11-01 18:01:56,974 __main__ 0/1 INFO :: Iteration=221, Time=8.632812e+02, dt=3.906250e+00\n"
          ]
        },
        {
          "output_type": "stream",
          "name": "stderr",
          "text": [
            "INFO:__main__:Iteration=231, Time=9.023438e+02, dt=3.906250e+00\n"
          ]
        },
        {
          "output_type": "stream",
          "name": "stdout",
          "text": [
            "2024-11-01 18:01:57,007 __main__ 0/1 INFO :: Iteration=231, Time=9.023438e+02, dt=3.906250e+00\n"
          ]
        },
        {
          "output_type": "stream",
          "name": "stderr",
          "text": [
            "INFO:__main__:Iteration=241, Time=9.414062e+02, dt=3.906250e+00\n"
          ]
        },
        {
          "output_type": "stream",
          "name": "stdout",
          "text": [
            "2024-11-01 18:01:57,041 __main__ 0/1 INFO :: Iteration=241, Time=9.414062e+02, dt=3.906250e+00\n"
          ]
        },
        {
          "output_type": "stream",
          "name": "stderr",
          "text": [
            "INFO:__main__:Iteration=251, Time=9.804688e+02, dt=3.906250e+00\n"
          ]
        },
        {
          "output_type": "stream",
          "name": "stdout",
          "text": [
            "2024-11-01 18:01:57,076 __main__ 0/1 INFO :: Iteration=251, Time=9.804688e+02, dt=3.906250e+00\n"
          ]
        },
        {
          "output_type": "stream",
          "name": "stderr",
          "text": [
            "INFO:__main__:Iteration=261, Time=1.019531e+03, dt=3.906250e+00\n"
          ]
        },
        {
          "output_type": "stream",
          "name": "stdout",
          "text": [
            "2024-11-01 18:01:57,110 __main__ 0/1 INFO :: Iteration=261, Time=1.019531e+03, dt=3.906250e+00\n"
          ]
        },
        {
          "output_type": "stream",
          "name": "stderr",
          "text": [
            "INFO:__main__:Iteration=271, Time=1.058594e+03, dt=3.906250e+00\n"
          ]
        },
        {
          "output_type": "stream",
          "name": "stdout",
          "text": [
            "2024-11-01 18:01:57,137 __main__ 0/1 INFO :: Iteration=271, Time=1.058594e+03, dt=3.906250e+00\n"
          ]
        },
        {
          "output_type": "stream",
          "name": "stderr",
          "text": [
            "INFO:__main__:Iteration=281, Time=1.097656e+03, dt=3.906250e+00\n"
          ]
        },
        {
          "output_type": "stream",
          "name": "stdout",
          "text": [
            "2024-11-01 18:01:57,163 __main__ 0/1 INFO :: Iteration=281, Time=1.097656e+03, dt=3.906250e+00\n"
          ]
        },
        {
          "output_type": "stream",
          "name": "stderr",
          "text": [
            "INFO:__main__:Iteration=291, Time=1.136719e+03, dt=3.906250e+00\n"
          ]
        },
        {
          "output_type": "stream",
          "name": "stdout",
          "text": [
            "2024-11-01 18:01:57,190 __main__ 0/1 INFO :: Iteration=291, Time=1.136719e+03, dt=3.906250e+00\n"
          ]
        },
        {
          "output_type": "stream",
          "name": "stderr",
          "text": [
            "INFO:__main__:Iteration=301, Time=1.175781e+03, dt=3.906250e+00\n"
          ]
        },
        {
          "output_type": "stream",
          "name": "stdout",
          "text": [
            "2024-11-01 18:01:57,218 __main__ 0/1 INFO :: Iteration=301, Time=1.175781e+03, dt=3.906250e+00\n"
          ]
        },
        {
          "output_type": "stream",
          "name": "stderr",
          "text": [
            "INFO:__main__:Iteration=311, Time=1.214844e+03, dt=3.906250e+00\n"
          ]
        },
        {
          "output_type": "stream",
          "name": "stdout",
          "text": [
            "2024-11-01 18:01:57,248 __main__ 0/1 INFO :: Iteration=311, Time=1.214844e+03, dt=3.906250e+00\n"
          ]
        },
        {
          "output_type": "stream",
          "name": "stderr",
          "text": [
            "INFO:__main__:Iteration=321, Time=1.253906e+03, dt=3.906250e+00\n"
          ]
        },
        {
          "output_type": "stream",
          "name": "stdout",
          "text": [
            "2024-11-01 18:01:57,274 __main__ 0/1 INFO :: Iteration=321, Time=1.253906e+03, dt=3.906250e+00\n"
          ]
        },
        {
          "output_type": "stream",
          "name": "stderr",
          "text": [
            "INFO:__main__:Iteration=331, Time=1.292969e+03, dt=3.906250e+00\n"
          ]
        },
        {
          "output_type": "stream",
          "name": "stdout",
          "text": [
            "2024-11-01 18:01:57,300 __main__ 0/1 INFO :: Iteration=331, Time=1.292969e+03, dt=3.906250e+00\n"
          ]
        },
        {
          "output_type": "stream",
          "name": "stderr",
          "text": [
            "INFO:__main__:Iteration=341, Time=1.332031e+03, dt=3.906250e+00\n"
          ]
        },
        {
          "output_type": "stream",
          "name": "stdout",
          "text": [
            "2024-11-01 18:01:57,327 __main__ 0/1 INFO :: Iteration=341, Time=1.332031e+03, dt=3.906250e+00\n"
          ]
        },
        {
          "output_type": "stream",
          "name": "stderr",
          "text": [
            "INFO:__main__:Iteration=351, Time=1.371094e+03, dt=3.906250e+00\n"
          ]
        },
        {
          "output_type": "stream",
          "name": "stdout",
          "text": [
            "2024-11-01 18:01:57,355 __main__ 0/1 INFO :: Iteration=351, Time=1.371094e+03, dt=3.906250e+00\n"
          ]
        },
        {
          "output_type": "stream",
          "name": "stderr",
          "text": [
            "INFO:__main__:Iteration=361, Time=1.410156e+03, dt=3.906250e+00\n"
          ]
        },
        {
          "output_type": "stream",
          "name": "stdout",
          "text": [
            "2024-11-01 18:01:57,381 __main__ 0/1 INFO :: Iteration=361, Time=1.410156e+03, dt=3.906250e+00\n"
          ]
        },
        {
          "output_type": "stream",
          "name": "stderr",
          "text": [
            "INFO:__main__:Iteration=371, Time=1.449219e+03, dt=3.906250e+00\n"
          ]
        },
        {
          "output_type": "stream",
          "name": "stdout",
          "text": [
            "2024-11-01 18:01:57,408 __main__ 0/1 INFO :: Iteration=371, Time=1.449219e+03, dt=3.906250e+00\n"
          ]
        },
        {
          "output_type": "stream",
          "name": "stderr",
          "text": [
            "INFO:__main__:Iteration=381, Time=1.488281e+03, dt=3.906250e+00\n"
          ]
        },
        {
          "output_type": "stream",
          "name": "stdout",
          "text": [
            "2024-11-01 18:01:57,434 __main__ 0/1 INFO :: Iteration=381, Time=1.488281e+03, dt=3.906250e+00\n"
          ]
        },
        {
          "output_type": "stream",
          "name": "stderr",
          "text": [
            "INFO:solvers:Simulation stop time reached.\n"
          ]
        },
        {
          "output_type": "stream",
          "name": "stdout",
          "text": [
            "2024-11-01 18:01:57,447 solvers 0/1 INFO :: Simulation stop time reached.\n"
          ]
        },
        {
          "output_type": "stream",
          "name": "stderr",
          "text": [
            "INFO:solvers:Final iteration: 384\n"
          ]
        },
        {
          "output_type": "stream",
          "name": "stdout",
          "text": [
            "2024-11-01 18:01:57,451 solvers 0/1 INFO :: Final iteration: 384\n"
          ]
        },
        {
          "output_type": "stream",
          "name": "stderr",
          "text": [
            "INFO:solvers:Final sim time: 1500.0\n"
          ]
        },
        {
          "output_type": "stream",
          "name": "stdout",
          "text": [
            "2024-11-01 18:01:57,454 solvers 0/1 INFO :: Final sim time: 1500.0\n"
          ]
        },
        {
          "output_type": "stream",
          "name": "stderr",
          "text": [
            "INFO:solvers:Setup time (init - iter 0): 0.2717 sec\n"
          ]
        },
        {
          "output_type": "stream",
          "name": "stdout",
          "text": [
            "2024-11-01 18:01:57,457 solvers 0/1 INFO :: Setup time (init - iter 0): 0.2717 sec\n"
          ]
        },
        {
          "output_type": "stream",
          "name": "stderr",
          "text": [
            "INFO:solvers:Warmup time (iter 0-10): 0.05274 sec\n"
          ]
        },
        {
          "output_type": "stream",
          "name": "stdout",
          "text": [
            "2024-11-01 18:01:57,459 solvers 0/1 INFO :: Warmup time (iter 0-10): 0.05274 sec\n"
          ]
        },
        {
          "output_type": "stream",
          "name": "stderr",
          "text": [
            "INFO:solvers:Run time (iter 10-end): 1.132 sec\n"
          ]
        },
        {
          "output_type": "stream",
          "name": "stdout",
          "text": [
            "2024-11-01 18:01:57,461 solvers 0/1 INFO :: Run time (iter 10-end): 1.132 sec\n"
          ]
        },
        {
          "output_type": "stream",
          "name": "stderr",
          "text": [
            "INFO:solvers:CPU time (iter 10-end): 0.0003145 cpu-hr\n"
          ]
        },
        {
          "output_type": "stream",
          "name": "stdout",
          "text": [
            "2024-11-01 18:01:57,463 solvers 0/1 INFO :: CPU time (iter 10-end): 0.0003145 cpu-hr\n"
          ]
        },
        {
          "output_type": "stream",
          "name": "stderr",
          "text": [
            "INFO:solvers:Speed: 5.728e+06 mode-stages/cpu-sec\n"
          ]
        },
        {
          "output_type": "stream",
          "name": "stdout",
          "text": [
            "2024-11-01 18:01:57,465 solvers 0/1 INFO :: Speed: 5.728e+06 mode-stages/cpu-sec\n"
          ]
        },
        {
          "output_type": "stream",
          "name": "stderr",
          "text": [
            "INFO:subsystems:Building subproblem matrices 1/1 (~100%) Elapsed: 0s, Remaining: 0s, Rate: 4.0e+00/s\n"
          ]
        },
        {
          "output_type": "stream",
          "name": "stdout",
          "text": [
            "2024-11-01 18:01:57,783 subsystems 0/1 INFO :: Building subproblem matrices 1/1 (~100%) Elapsed: 0s, Remaining: 0s, Rate: 4.0e+00/s\n"
          ]
        },
        {
          "output_type": "stream",
          "name": "stderr",
          "text": [
            "INFO:__main__:Starting main loop\n"
          ]
        },
        {
          "output_type": "stream",
          "name": "stdout",
          "text": [
            "2024-11-01 18:01:57,794 __main__ 0/1 INFO :: Starting main loop\n"
          ]
        },
        {
          "output_type": "stream",
          "name": "stderr",
          "text": [
            "INFO:__main__:Iteration=1, Time=1.953125e+00, dt=1.953125e+00\n"
          ]
        },
        {
          "output_type": "stream",
          "name": "stdout",
          "text": [
            "2024-11-01 18:01:57,850 __main__ 0/1 INFO :: Iteration=1, Time=1.953125e+00, dt=1.953125e+00\n"
          ]
        },
        {
          "output_type": "stream",
          "name": "stderr",
          "text": [
            "INFO:__main__:Iteration=11, Time=2.148438e+01, dt=1.953125e+00\n"
          ]
        },
        {
          "output_type": "stream",
          "name": "stdout",
          "text": [
            "2024-11-01 18:01:57,885 __main__ 0/1 INFO :: Iteration=11, Time=2.148438e+01, dt=1.953125e+00\n"
          ]
        },
        {
          "output_type": "stream",
          "name": "stderr",
          "text": [
            "INFO:__main__:Iteration=21, Time=4.101562e+01, dt=1.953125e+00\n"
          ]
        },
        {
          "output_type": "stream",
          "name": "stdout",
          "text": [
            "2024-11-01 18:01:57,921 __main__ 0/1 INFO :: Iteration=21, Time=4.101562e+01, dt=1.953125e+00\n"
          ]
        },
        {
          "output_type": "stream",
          "name": "stderr",
          "text": [
            "INFO:__main__:Iteration=31, Time=6.054688e+01, dt=1.953125e+00\n"
          ]
        },
        {
          "output_type": "stream",
          "name": "stdout",
          "text": [
            "2024-11-01 18:01:57,956 __main__ 0/1 INFO :: Iteration=31, Time=6.054688e+01, dt=1.953125e+00\n"
          ]
        },
        {
          "output_type": "stream",
          "name": "stderr",
          "text": [
            "INFO:__main__:Iteration=41, Time=8.007812e+01, dt=1.953125e+00\n"
          ]
        },
        {
          "output_type": "stream",
          "name": "stdout",
          "text": [
            "2024-11-01 18:01:57,992 __main__ 0/1 INFO :: Iteration=41, Time=8.007812e+01, dt=1.953125e+00\n"
          ]
        },
        {
          "output_type": "stream",
          "name": "stderr",
          "text": [
            "INFO:__main__:Iteration=51, Time=9.960938e+01, dt=1.953125e+00\n"
          ]
        },
        {
          "output_type": "stream",
          "name": "stdout",
          "text": [
            "2024-11-01 18:01:58,028 __main__ 0/1 INFO :: Iteration=51, Time=9.960938e+01, dt=1.953125e+00\n"
          ]
        },
        {
          "output_type": "stream",
          "name": "stderr",
          "text": [
            "INFO:__main__:Iteration=61, Time=1.191406e+02, dt=1.953125e+00\n"
          ]
        },
        {
          "output_type": "stream",
          "name": "stdout",
          "text": [
            "2024-11-01 18:01:58,062 __main__ 0/1 INFO :: Iteration=61, Time=1.191406e+02, dt=1.953125e+00\n"
          ]
        },
        {
          "output_type": "stream",
          "name": "stderr",
          "text": [
            "INFO:__main__:Iteration=71, Time=1.386719e+02, dt=1.953125e+00\n"
          ]
        },
        {
          "output_type": "stream",
          "name": "stdout",
          "text": [
            "2024-11-01 18:01:58,098 __main__ 0/1 INFO :: Iteration=71, Time=1.386719e+02, dt=1.953125e+00\n"
          ]
        },
        {
          "output_type": "stream",
          "name": "stderr",
          "text": [
            "INFO:__main__:Iteration=81, Time=1.582031e+02, dt=1.953125e+00\n"
          ]
        },
        {
          "output_type": "stream",
          "name": "stdout",
          "text": [
            "2024-11-01 18:01:58,125 __main__ 0/1 INFO :: Iteration=81, Time=1.582031e+02, dt=1.953125e+00\n"
          ]
        },
        {
          "output_type": "stream",
          "name": "stderr",
          "text": [
            "INFO:__main__:Iteration=91, Time=1.777344e+02, dt=1.953125e+00\n"
          ]
        },
        {
          "output_type": "stream",
          "name": "stdout",
          "text": [
            "2024-11-01 18:01:58,156 __main__ 0/1 INFO :: Iteration=91, Time=1.777344e+02, dt=1.953125e+00\n"
          ]
        },
        {
          "output_type": "stream",
          "name": "stderr",
          "text": [
            "INFO:__main__:Iteration=101, Time=1.972656e+02, dt=1.953125e+00\n"
          ]
        },
        {
          "output_type": "stream",
          "name": "stdout",
          "text": [
            "2024-11-01 18:01:58,187 __main__ 0/1 INFO :: Iteration=101, Time=1.972656e+02, dt=1.953125e+00\n"
          ]
        },
        {
          "output_type": "stream",
          "name": "stderr",
          "text": [
            "INFO:__main__:Iteration=111, Time=2.167969e+02, dt=1.953125e+00\n"
          ]
        },
        {
          "output_type": "stream",
          "name": "stdout",
          "text": [
            "2024-11-01 18:01:58,218 __main__ 0/1 INFO :: Iteration=111, Time=2.167969e+02, dt=1.953125e+00\n"
          ]
        },
        {
          "output_type": "stream",
          "name": "stderr",
          "text": [
            "INFO:__main__:Iteration=121, Time=2.363281e+02, dt=1.953125e+00\n"
          ]
        },
        {
          "output_type": "stream",
          "name": "stdout",
          "text": [
            "2024-11-01 18:01:58,245 __main__ 0/1 INFO :: Iteration=121, Time=2.363281e+02, dt=1.953125e+00\n"
          ]
        },
        {
          "output_type": "stream",
          "name": "stderr",
          "text": [
            "INFO:__main__:Iteration=131, Time=2.558594e+02, dt=1.953125e+00\n"
          ]
        },
        {
          "output_type": "stream",
          "name": "stdout",
          "text": [
            "2024-11-01 18:01:58,272 __main__ 0/1 INFO :: Iteration=131, Time=2.558594e+02, dt=1.953125e+00\n"
          ]
        },
        {
          "output_type": "stream",
          "name": "stderr",
          "text": [
            "INFO:__main__:Iteration=141, Time=2.753906e+02, dt=1.953125e+00\n"
          ]
        },
        {
          "output_type": "stream",
          "name": "stdout",
          "text": [
            "2024-11-01 18:01:58,299 __main__ 0/1 INFO :: Iteration=141, Time=2.753906e+02, dt=1.953125e+00\n"
          ]
        },
        {
          "output_type": "stream",
          "name": "stderr",
          "text": [
            "INFO:__main__:Iteration=151, Time=2.949219e+02, dt=1.953125e+00\n"
          ]
        },
        {
          "output_type": "stream",
          "name": "stdout",
          "text": [
            "2024-11-01 18:01:58,326 __main__ 0/1 INFO :: Iteration=151, Time=2.949219e+02, dt=1.953125e+00\n"
          ]
        },
        {
          "output_type": "stream",
          "name": "stderr",
          "text": [
            "INFO:__main__:Iteration=161, Time=3.144531e+02, dt=1.953125e+00\n"
          ]
        },
        {
          "output_type": "stream",
          "name": "stdout",
          "text": [
            "2024-11-01 18:01:58,354 __main__ 0/1 INFO :: Iteration=161, Time=3.144531e+02, dt=1.953125e+00\n"
          ]
        },
        {
          "output_type": "stream",
          "name": "stderr",
          "text": [
            "INFO:__main__:Iteration=171, Time=3.339844e+02, dt=1.953125e+00\n"
          ]
        },
        {
          "output_type": "stream",
          "name": "stdout",
          "text": [
            "2024-11-01 18:01:58,381 __main__ 0/1 INFO :: Iteration=171, Time=3.339844e+02, dt=1.953125e+00\n"
          ]
        },
        {
          "output_type": "stream",
          "name": "stderr",
          "text": [
            "INFO:__main__:Iteration=181, Time=3.535156e+02, dt=1.953125e+00\n"
          ]
        },
        {
          "output_type": "stream",
          "name": "stdout",
          "text": [
            "2024-11-01 18:01:58,408 __main__ 0/1 INFO :: Iteration=181, Time=3.535156e+02, dt=1.953125e+00\n"
          ]
        },
        {
          "output_type": "stream",
          "name": "stderr",
          "text": [
            "INFO:__main__:Iteration=191, Time=3.730469e+02, dt=1.953125e+00\n"
          ]
        },
        {
          "output_type": "stream",
          "name": "stdout",
          "text": [
            "2024-11-01 18:01:58,435 __main__ 0/1 INFO :: Iteration=191, Time=3.730469e+02, dt=1.953125e+00\n"
          ]
        },
        {
          "output_type": "stream",
          "name": "stderr",
          "text": [
            "INFO:__main__:Iteration=201, Time=3.925781e+02, dt=1.953125e+00\n"
          ]
        },
        {
          "output_type": "stream",
          "name": "stdout",
          "text": [
            "2024-11-01 18:01:58,463 __main__ 0/1 INFO :: Iteration=201, Time=3.925781e+02, dt=1.953125e+00\n"
          ]
        },
        {
          "output_type": "stream",
          "name": "stderr",
          "text": [
            "INFO:__main__:Iteration=211, Time=4.121094e+02, dt=1.953125e+00\n"
          ]
        },
        {
          "output_type": "stream",
          "name": "stdout",
          "text": [
            "2024-11-01 18:01:58,492 __main__ 0/1 INFO :: Iteration=211, Time=4.121094e+02, dt=1.953125e+00\n"
          ]
        },
        {
          "output_type": "stream",
          "name": "stderr",
          "text": [
            "INFO:__main__:Iteration=221, Time=4.316406e+02, dt=1.953125e+00\n"
          ]
        },
        {
          "output_type": "stream",
          "name": "stdout",
          "text": [
            "2024-11-01 18:01:58,521 __main__ 0/1 INFO :: Iteration=221, Time=4.316406e+02, dt=1.953125e+00\n"
          ]
        },
        {
          "output_type": "stream",
          "name": "stderr",
          "text": [
            "INFO:__main__:Iteration=231, Time=4.511719e+02, dt=1.953125e+00\n"
          ]
        },
        {
          "output_type": "stream",
          "name": "stdout",
          "text": [
            "2024-11-01 18:01:58,548 __main__ 0/1 INFO :: Iteration=231, Time=4.511719e+02, dt=1.953125e+00\n"
          ]
        },
        {
          "output_type": "stream",
          "name": "stderr",
          "text": [
            "INFO:__main__:Iteration=241, Time=4.707031e+02, dt=1.953125e+00\n"
          ]
        },
        {
          "output_type": "stream",
          "name": "stdout",
          "text": [
            "2024-11-01 18:01:58,577 __main__ 0/1 INFO :: Iteration=241, Time=4.707031e+02, dt=1.953125e+00\n"
          ]
        },
        {
          "output_type": "stream",
          "name": "stderr",
          "text": [
            "INFO:__main__:Iteration=251, Time=4.902344e+02, dt=1.953125e+00\n"
          ]
        },
        {
          "output_type": "stream",
          "name": "stdout",
          "text": [
            "2024-11-01 18:01:58,606 __main__ 0/1 INFO :: Iteration=251, Time=4.902344e+02, dt=1.953125e+00\n"
          ]
        },
        {
          "output_type": "stream",
          "name": "stderr",
          "text": [
            "INFO:__main__:Iteration=261, Time=5.097656e+02, dt=1.953125e+00\n"
          ]
        },
        {
          "output_type": "stream",
          "name": "stdout",
          "text": [
            "2024-11-01 18:01:58,634 __main__ 0/1 INFO :: Iteration=261, Time=5.097656e+02, dt=1.953125e+00\n"
          ]
        },
        {
          "output_type": "stream",
          "name": "stderr",
          "text": [
            "INFO:__main__:Iteration=271, Time=5.292969e+02, dt=1.953125e+00\n"
          ]
        },
        {
          "output_type": "stream",
          "name": "stdout",
          "text": [
            "2024-11-01 18:01:58,667 __main__ 0/1 INFO :: Iteration=271, Time=5.292969e+02, dt=1.953125e+00\n"
          ]
        },
        {
          "output_type": "stream",
          "name": "stderr",
          "text": [
            "INFO:__main__:Iteration=281, Time=5.488281e+02, dt=1.953125e+00\n"
          ]
        },
        {
          "output_type": "stream",
          "name": "stdout",
          "text": [
            "2024-11-01 18:01:58,699 __main__ 0/1 INFO :: Iteration=281, Time=5.488281e+02, dt=1.953125e+00\n"
          ]
        },
        {
          "output_type": "stream",
          "name": "stderr",
          "text": [
            "INFO:__main__:Iteration=291, Time=5.683594e+02, dt=1.953125e+00\n"
          ]
        },
        {
          "output_type": "stream",
          "name": "stdout",
          "text": [
            "2024-11-01 18:01:58,727 __main__ 0/1 INFO :: Iteration=291, Time=5.683594e+02, dt=1.953125e+00\n"
          ]
        },
        {
          "output_type": "stream",
          "name": "stderr",
          "text": [
            "INFO:__main__:Iteration=301, Time=5.878906e+02, dt=1.953125e+00\n"
          ]
        },
        {
          "output_type": "stream",
          "name": "stdout",
          "text": [
            "2024-11-01 18:01:58,766 __main__ 0/1 INFO :: Iteration=301, Time=5.878906e+02, dt=1.953125e+00\n"
          ]
        },
        {
          "output_type": "stream",
          "name": "stderr",
          "text": [
            "INFO:__main__:Iteration=311, Time=6.074219e+02, dt=1.953125e+00\n"
          ]
        },
        {
          "output_type": "stream",
          "name": "stdout",
          "text": [
            "2024-11-01 18:01:58,806 __main__ 0/1 INFO :: Iteration=311, Time=6.074219e+02, dt=1.953125e+00\n"
          ]
        },
        {
          "output_type": "stream",
          "name": "stderr",
          "text": [
            "INFO:__main__:Iteration=321, Time=6.269531e+02, dt=1.953125e+00\n"
          ]
        },
        {
          "output_type": "stream",
          "name": "stdout",
          "text": [
            "2024-11-01 18:01:58,841 __main__ 0/1 INFO :: Iteration=321, Time=6.269531e+02, dt=1.953125e+00\n"
          ]
        },
        {
          "output_type": "stream",
          "name": "stderr",
          "text": [
            "INFO:__main__:Iteration=331, Time=6.464844e+02, dt=1.953125e+00\n"
          ]
        },
        {
          "output_type": "stream",
          "name": "stdout",
          "text": [
            "2024-11-01 18:01:58,892 __main__ 0/1 INFO :: Iteration=331, Time=6.464844e+02, dt=1.953125e+00\n"
          ]
        },
        {
          "output_type": "stream",
          "name": "stderr",
          "text": [
            "INFO:__main__:Iteration=341, Time=6.660156e+02, dt=1.953125e+00\n"
          ]
        },
        {
          "output_type": "stream",
          "name": "stdout",
          "text": [
            "2024-11-01 18:01:58,929 __main__ 0/1 INFO :: Iteration=341, Time=6.660156e+02, dt=1.953125e+00\n"
          ]
        },
        {
          "output_type": "stream",
          "name": "stderr",
          "text": [
            "INFO:__main__:Iteration=351, Time=6.855469e+02, dt=1.953125e+00\n"
          ]
        },
        {
          "output_type": "stream",
          "name": "stdout",
          "text": [
            "2024-11-01 18:01:58,965 __main__ 0/1 INFO :: Iteration=351, Time=6.855469e+02, dt=1.953125e+00\n"
          ]
        },
        {
          "output_type": "stream",
          "name": "stderr",
          "text": [
            "INFO:__main__:Iteration=361, Time=7.050781e+02, dt=1.953125e+00\n"
          ]
        },
        {
          "output_type": "stream",
          "name": "stdout",
          "text": [
            "2024-11-01 18:01:58,999 __main__ 0/1 INFO :: Iteration=361, Time=7.050781e+02, dt=1.953125e+00\n"
          ]
        },
        {
          "output_type": "stream",
          "name": "stderr",
          "text": [
            "INFO:__main__:Iteration=371, Time=7.246094e+02, dt=1.953125e+00\n"
          ]
        },
        {
          "output_type": "stream",
          "name": "stdout",
          "text": [
            "2024-11-01 18:01:59,030 __main__ 0/1 INFO :: Iteration=371, Time=7.246094e+02, dt=1.953125e+00\n"
          ]
        },
        {
          "output_type": "stream",
          "name": "stderr",
          "text": [
            "INFO:__main__:Iteration=381, Time=7.441406e+02, dt=1.953125e+00\n"
          ]
        },
        {
          "output_type": "stream",
          "name": "stdout",
          "text": [
            "2024-11-01 18:01:59,065 __main__ 0/1 INFO :: Iteration=381, Time=7.441406e+02, dt=1.953125e+00\n"
          ]
        },
        {
          "output_type": "stream",
          "name": "stderr",
          "text": [
            "INFO:__main__:Iteration=391, Time=7.636719e+02, dt=1.953125e+00\n"
          ]
        },
        {
          "output_type": "stream",
          "name": "stdout",
          "text": [
            "2024-11-01 18:01:59,099 __main__ 0/1 INFO :: Iteration=391, Time=7.636719e+02, dt=1.953125e+00\n"
          ]
        },
        {
          "output_type": "stream",
          "name": "stderr",
          "text": [
            "INFO:__main__:Iteration=401, Time=7.832031e+02, dt=1.953125e+00\n"
          ]
        },
        {
          "output_type": "stream",
          "name": "stdout",
          "text": [
            "2024-11-01 18:01:59,141 __main__ 0/1 INFO :: Iteration=401, Time=7.832031e+02, dt=1.953125e+00\n"
          ]
        },
        {
          "output_type": "stream",
          "name": "stderr",
          "text": [
            "INFO:__main__:Iteration=411, Time=8.027344e+02, dt=1.953125e+00\n"
          ]
        },
        {
          "output_type": "stream",
          "name": "stdout",
          "text": [
            "2024-11-01 18:01:59,175 __main__ 0/1 INFO :: Iteration=411, Time=8.027344e+02, dt=1.953125e+00\n"
          ]
        },
        {
          "output_type": "stream",
          "name": "stderr",
          "text": [
            "INFO:__main__:Iteration=421, Time=8.222656e+02, dt=1.953125e+00\n"
          ]
        },
        {
          "output_type": "stream",
          "name": "stdout",
          "text": [
            "2024-11-01 18:01:59,201 __main__ 0/1 INFO :: Iteration=421, Time=8.222656e+02, dt=1.953125e+00\n"
          ]
        },
        {
          "output_type": "stream",
          "name": "stderr",
          "text": [
            "INFO:__main__:Iteration=431, Time=8.417969e+02, dt=1.953125e+00\n"
          ]
        },
        {
          "output_type": "stream",
          "name": "stdout",
          "text": [
            "2024-11-01 18:01:59,228 __main__ 0/1 INFO :: Iteration=431, Time=8.417969e+02, dt=1.953125e+00\n"
          ]
        },
        {
          "output_type": "stream",
          "name": "stderr",
          "text": [
            "INFO:__main__:Iteration=441, Time=8.613281e+02, dt=1.953125e+00\n"
          ]
        },
        {
          "output_type": "stream",
          "name": "stdout",
          "text": [
            "2024-11-01 18:01:59,256 __main__ 0/1 INFO :: Iteration=441, Time=8.613281e+02, dt=1.953125e+00\n"
          ]
        },
        {
          "output_type": "stream",
          "name": "stderr",
          "text": [
            "INFO:__main__:Iteration=451, Time=8.808594e+02, dt=1.953125e+00\n"
          ]
        },
        {
          "output_type": "stream",
          "name": "stdout",
          "text": [
            "2024-11-01 18:01:59,283 __main__ 0/1 INFO :: Iteration=451, Time=8.808594e+02, dt=1.953125e+00\n"
          ]
        },
        {
          "output_type": "stream",
          "name": "stderr",
          "text": [
            "INFO:__main__:Iteration=461, Time=9.003906e+02, dt=1.953125e+00\n"
          ]
        },
        {
          "output_type": "stream",
          "name": "stdout",
          "text": [
            "2024-11-01 18:01:59,311 __main__ 0/1 INFO :: Iteration=461, Time=9.003906e+02, dt=1.953125e+00\n"
          ]
        },
        {
          "output_type": "stream",
          "name": "stderr",
          "text": [
            "INFO:__main__:Iteration=471, Time=9.199219e+02, dt=1.953125e+00\n"
          ]
        },
        {
          "output_type": "stream",
          "name": "stdout",
          "text": [
            "2024-11-01 18:01:59,341 __main__ 0/1 INFO :: Iteration=471, Time=9.199219e+02, dt=1.953125e+00\n"
          ]
        },
        {
          "output_type": "stream",
          "name": "stderr",
          "text": [
            "INFO:__main__:Iteration=481, Time=9.394531e+02, dt=1.953125e+00\n"
          ]
        },
        {
          "output_type": "stream",
          "name": "stdout",
          "text": [
            "2024-11-01 18:01:59,368 __main__ 0/1 INFO :: Iteration=481, Time=9.394531e+02, dt=1.953125e+00\n"
          ]
        },
        {
          "output_type": "stream",
          "name": "stderr",
          "text": [
            "INFO:__main__:Iteration=491, Time=9.589844e+02, dt=1.953125e+00\n"
          ]
        },
        {
          "output_type": "stream",
          "name": "stdout",
          "text": [
            "2024-11-01 18:01:59,396 __main__ 0/1 INFO :: Iteration=491, Time=9.589844e+02, dt=1.953125e+00\n"
          ]
        },
        {
          "output_type": "stream",
          "name": "stderr",
          "text": [
            "INFO:__main__:Iteration=501, Time=9.785156e+02, dt=1.953125e+00\n"
          ]
        },
        {
          "output_type": "stream",
          "name": "stdout",
          "text": [
            "2024-11-01 18:01:59,424 __main__ 0/1 INFO :: Iteration=501, Time=9.785156e+02, dt=1.953125e+00\n"
          ]
        },
        {
          "output_type": "stream",
          "name": "stderr",
          "text": [
            "INFO:__main__:Iteration=511, Time=9.980469e+02, dt=1.953125e+00\n"
          ]
        },
        {
          "output_type": "stream",
          "name": "stdout",
          "text": [
            "2024-11-01 18:01:59,451 __main__ 0/1 INFO :: Iteration=511, Time=9.980469e+02, dt=1.953125e+00\n"
          ]
        },
        {
          "output_type": "stream",
          "name": "stderr",
          "text": [
            "INFO:__main__:Iteration=521, Time=1.017578e+03, dt=1.953125e+00\n"
          ]
        },
        {
          "output_type": "stream",
          "name": "stdout",
          "text": [
            "2024-11-01 18:01:59,479 __main__ 0/1 INFO :: Iteration=521, Time=1.017578e+03, dt=1.953125e+00\n"
          ]
        },
        {
          "output_type": "stream",
          "name": "stderr",
          "text": [
            "INFO:__main__:Iteration=531, Time=1.037109e+03, dt=1.953125e+00\n"
          ]
        },
        {
          "output_type": "stream",
          "name": "stdout",
          "text": [
            "2024-11-01 18:01:59,506 __main__ 0/1 INFO :: Iteration=531, Time=1.037109e+03, dt=1.953125e+00\n"
          ]
        },
        {
          "output_type": "stream",
          "name": "stderr",
          "text": [
            "INFO:__main__:Iteration=541, Time=1.056641e+03, dt=1.953125e+00\n"
          ]
        },
        {
          "output_type": "stream",
          "name": "stdout",
          "text": [
            "2024-11-01 18:01:59,533 __main__ 0/1 INFO :: Iteration=541, Time=1.056641e+03, dt=1.953125e+00\n"
          ]
        },
        {
          "output_type": "stream",
          "name": "stderr",
          "text": [
            "INFO:__main__:Iteration=551, Time=1.076172e+03, dt=1.953125e+00\n"
          ]
        },
        {
          "output_type": "stream",
          "name": "stdout",
          "text": [
            "2024-11-01 18:01:59,563 __main__ 0/1 INFO :: Iteration=551, Time=1.076172e+03, dt=1.953125e+00\n"
          ]
        },
        {
          "output_type": "stream",
          "name": "stderr",
          "text": [
            "INFO:__main__:Iteration=561, Time=1.095703e+03, dt=1.953125e+00\n"
          ]
        },
        {
          "output_type": "stream",
          "name": "stdout",
          "text": [
            "2024-11-01 18:01:59,596 __main__ 0/1 INFO :: Iteration=561, Time=1.095703e+03, dt=1.953125e+00\n"
          ]
        },
        {
          "output_type": "stream",
          "name": "stderr",
          "text": [
            "INFO:__main__:Iteration=571, Time=1.115234e+03, dt=1.953125e+00\n"
          ]
        },
        {
          "output_type": "stream",
          "name": "stdout",
          "text": [
            "2024-11-01 18:01:59,624 __main__ 0/1 INFO :: Iteration=571, Time=1.115234e+03, dt=1.953125e+00\n"
          ]
        },
        {
          "output_type": "stream",
          "name": "stderr",
          "text": [
            "INFO:__main__:Iteration=581, Time=1.134766e+03, dt=1.953125e+00\n"
          ]
        },
        {
          "output_type": "stream",
          "name": "stdout",
          "text": [
            "2024-11-01 18:01:59,655 __main__ 0/1 INFO :: Iteration=581, Time=1.134766e+03, dt=1.953125e+00\n"
          ]
        },
        {
          "output_type": "stream",
          "name": "stderr",
          "text": [
            "INFO:__main__:Iteration=591, Time=1.154297e+03, dt=1.953125e+00\n"
          ]
        },
        {
          "output_type": "stream",
          "name": "stdout",
          "text": [
            "2024-11-01 18:01:59,683 __main__ 0/1 INFO :: Iteration=591, Time=1.154297e+03, dt=1.953125e+00\n"
          ]
        },
        {
          "output_type": "stream",
          "name": "stderr",
          "text": [
            "INFO:__main__:Iteration=601, Time=1.173828e+03, dt=1.953125e+00\n"
          ]
        },
        {
          "output_type": "stream",
          "name": "stdout",
          "text": [
            "2024-11-01 18:01:59,714 __main__ 0/1 INFO :: Iteration=601, Time=1.173828e+03, dt=1.953125e+00\n"
          ]
        },
        {
          "output_type": "stream",
          "name": "stderr",
          "text": [
            "INFO:__main__:Iteration=611, Time=1.193359e+03, dt=1.953125e+00\n"
          ]
        },
        {
          "output_type": "stream",
          "name": "stdout",
          "text": [
            "2024-11-01 18:01:59,742 __main__ 0/1 INFO :: Iteration=611, Time=1.193359e+03, dt=1.953125e+00\n"
          ]
        },
        {
          "output_type": "stream",
          "name": "stderr",
          "text": [
            "INFO:__main__:Iteration=621, Time=1.212891e+03, dt=1.953125e+00\n"
          ]
        },
        {
          "output_type": "stream",
          "name": "stdout",
          "text": [
            "2024-11-01 18:01:59,777 __main__ 0/1 INFO :: Iteration=621, Time=1.212891e+03, dt=1.953125e+00\n"
          ]
        },
        {
          "output_type": "stream",
          "name": "stderr",
          "text": [
            "INFO:__main__:Iteration=631, Time=1.232422e+03, dt=1.953125e+00\n"
          ]
        },
        {
          "output_type": "stream",
          "name": "stdout",
          "text": [
            "2024-11-01 18:01:59,817 __main__ 0/1 INFO :: Iteration=631, Time=1.232422e+03, dt=1.953125e+00\n"
          ]
        },
        {
          "output_type": "stream",
          "name": "stderr",
          "text": [
            "INFO:__main__:Iteration=641, Time=1.251953e+03, dt=1.953125e+00\n"
          ]
        },
        {
          "output_type": "stream",
          "name": "stdout",
          "text": [
            "2024-11-01 18:01:59,853 __main__ 0/1 INFO :: Iteration=641, Time=1.251953e+03, dt=1.953125e+00\n"
          ]
        },
        {
          "output_type": "stream",
          "name": "stderr",
          "text": [
            "INFO:__main__:Iteration=651, Time=1.271484e+03, dt=1.953125e+00\n"
          ]
        },
        {
          "output_type": "stream",
          "name": "stdout",
          "text": [
            "2024-11-01 18:01:59,890 __main__ 0/1 INFO :: Iteration=651, Time=1.271484e+03, dt=1.953125e+00\n"
          ]
        },
        {
          "output_type": "stream",
          "name": "stderr",
          "text": [
            "INFO:__main__:Iteration=661, Time=1.291016e+03, dt=1.953125e+00\n"
          ]
        },
        {
          "output_type": "stream",
          "name": "stdout",
          "text": [
            "2024-11-01 18:01:59,935 __main__ 0/1 INFO :: Iteration=661, Time=1.291016e+03, dt=1.953125e+00\n"
          ]
        },
        {
          "output_type": "stream",
          "name": "stderr",
          "text": [
            "INFO:__main__:Iteration=671, Time=1.310547e+03, dt=1.953125e+00\n"
          ]
        },
        {
          "output_type": "stream",
          "name": "stdout",
          "text": [
            "2024-11-01 18:01:59,970 __main__ 0/1 INFO :: Iteration=671, Time=1.310547e+03, dt=1.953125e+00\n"
          ]
        },
        {
          "output_type": "stream",
          "name": "stderr",
          "text": [
            "INFO:__main__:Iteration=681, Time=1.330078e+03, dt=1.953125e+00\n"
          ]
        },
        {
          "output_type": "stream",
          "name": "stdout",
          "text": [
            "2024-11-01 18:02:00,006 __main__ 0/1 INFO :: Iteration=681, Time=1.330078e+03, dt=1.953125e+00\n"
          ]
        },
        {
          "output_type": "stream",
          "name": "stderr",
          "text": [
            "INFO:__main__:Iteration=691, Time=1.349609e+03, dt=1.953125e+00\n"
          ]
        },
        {
          "output_type": "stream",
          "name": "stdout",
          "text": [
            "2024-11-01 18:02:00,041 __main__ 0/1 INFO :: Iteration=691, Time=1.349609e+03, dt=1.953125e+00\n"
          ]
        },
        {
          "output_type": "stream",
          "name": "stderr",
          "text": [
            "INFO:__main__:Iteration=701, Time=1.369141e+03, dt=1.953125e+00\n"
          ]
        },
        {
          "output_type": "stream",
          "name": "stdout",
          "text": [
            "2024-11-01 18:02:00,079 __main__ 0/1 INFO :: Iteration=701, Time=1.369141e+03, dt=1.953125e+00\n"
          ]
        },
        {
          "output_type": "stream",
          "name": "stderr",
          "text": [
            "INFO:__main__:Iteration=711, Time=1.388672e+03, dt=1.953125e+00\n"
          ]
        },
        {
          "output_type": "stream",
          "name": "stdout",
          "text": [
            "2024-11-01 18:02:00,114 __main__ 0/1 INFO :: Iteration=711, Time=1.388672e+03, dt=1.953125e+00\n"
          ]
        },
        {
          "output_type": "stream",
          "name": "stderr",
          "text": [
            "INFO:__main__:Iteration=721, Time=1.408203e+03, dt=1.953125e+00\n"
          ]
        },
        {
          "output_type": "stream",
          "name": "stdout",
          "text": [
            "2024-11-01 18:02:00,143 __main__ 0/1 INFO :: Iteration=721, Time=1.408203e+03, dt=1.953125e+00\n"
          ]
        },
        {
          "output_type": "stream",
          "name": "stderr",
          "text": [
            "INFO:__main__:Iteration=731, Time=1.427734e+03, dt=1.953125e+00\n"
          ]
        },
        {
          "output_type": "stream",
          "name": "stdout",
          "text": [
            "2024-11-01 18:02:00,173 __main__ 0/1 INFO :: Iteration=731, Time=1.427734e+03, dt=1.953125e+00\n"
          ]
        },
        {
          "output_type": "stream",
          "name": "stderr",
          "text": [
            "INFO:__main__:Iteration=741, Time=1.447266e+03, dt=1.953125e+00\n"
          ]
        },
        {
          "output_type": "stream",
          "name": "stdout",
          "text": [
            "2024-11-01 18:02:00,202 __main__ 0/1 INFO :: Iteration=741, Time=1.447266e+03, dt=1.953125e+00\n"
          ]
        },
        {
          "output_type": "stream",
          "name": "stderr",
          "text": [
            "INFO:__main__:Iteration=751, Time=1.466797e+03, dt=1.953125e+00\n"
          ]
        },
        {
          "output_type": "stream",
          "name": "stdout",
          "text": [
            "2024-11-01 18:02:00,232 __main__ 0/1 INFO :: Iteration=751, Time=1.466797e+03, dt=1.953125e+00\n"
          ]
        },
        {
          "output_type": "stream",
          "name": "stderr",
          "text": [
            "INFO:__main__:Iteration=761, Time=1.486328e+03, dt=1.953125e+00\n"
          ]
        },
        {
          "output_type": "stream",
          "name": "stdout",
          "text": [
            "2024-11-01 18:02:00,262 __main__ 0/1 INFO :: Iteration=761, Time=1.486328e+03, dt=1.953125e+00\n"
          ]
        },
        {
          "output_type": "stream",
          "name": "stderr",
          "text": [
            "INFO:solvers:Simulation stop time reached.\n"
          ]
        },
        {
          "output_type": "stream",
          "name": "stdout",
          "text": [
            "2024-11-01 18:02:00,286 solvers 0/1 INFO :: Simulation stop time reached.\n"
          ]
        },
        {
          "output_type": "stream",
          "name": "stderr",
          "text": [
            "INFO:solvers:Final iteration: 768\n"
          ]
        },
        {
          "output_type": "stream",
          "name": "stdout",
          "text": [
            "2024-11-01 18:02:00,291 solvers 0/1 INFO :: Final iteration: 768\n"
          ]
        },
        {
          "output_type": "stream",
          "name": "stderr",
          "text": [
            "INFO:solvers:Final sim time: 1500.0\n"
          ]
        },
        {
          "output_type": "stream",
          "name": "stdout",
          "text": [
            "2024-11-01 18:02:00,296 solvers 0/1 INFO :: Final sim time: 1500.0\n"
          ]
        },
        {
          "output_type": "stream",
          "name": "stderr",
          "text": [
            "INFO:solvers:Setup time (init - iter 0): 0.2972 sec\n"
          ]
        },
        {
          "output_type": "stream",
          "name": "stdout",
          "text": [
            "2024-11-01 18:02:00,299 solvers 0/1 INFO :: Setup time (init - iter 0): 0.2972 sec\n"
          ]
        },
        {
          "output_type": "stream",
          "name": "stderr",
          "text": [
            "INFO:solvers:Warmup time (iter 0-10): 0.08069 sec\n"
          ]
        },
        {
          "output_type": "stream",
          "name": "stdout",
          "text": [
            "2024-11-01 18:02:00,302 solvers 0/1 INFO :: Warmup time (iter 0-10): 0.08069 sec\n"
          ]
        },
        {
          "output_type": "stream",
          "name": "stderr",
          "text": [
            "INFO:solvers:Run time (iter 10-end): 2.409 sec\n"
          ]
        },
        {
          "output_type": "stream",
          "name": "stdout",
          "text": [
            "2024-11-01 18:02:00,305 solvers 0/1 INFO :: Run time (iter 10-end): 2.409 sec\n"
          ]
        },
        {
          "output_type": "stream",
          "name": "stderr",
          "text": [
            "INFO:solvers:CPU time (iter 10-end): 0.0006692 cpu-hr\n"
          ]
        },
        {
          "output_type": "stream",
          "name": "stdout",
          "text": [
            "2024-11-01 18:02:00,308 solvers 0/1 INFO :: CPU time (iter 10-end): 0.0006692 cpu-hr\n"
          ]
        },
        {
          "output_type": "stream",
          "name": "stderr",
          "text": [
            "INFO:solvers:Speed: 5.456e+06 mode-stages/cpu-sec\n"
          ]
        },
        {
          "output_type": "stream",
          "name": "stdout",
          "text": [
            "2024-11-01 18:02:00,310 solvers 0/1 INFO :: Speed: 5.456e+06 mode-stages/cpu-sec\n"
          ]
        },
        {
          "output_type": "stream",
          "name": "stderr",
          "text": [
            "INFO:subsystems:Building subproblem matrices 1/1 (~100%) Elapsed: 0s, Remaining: 0s, Rate: 4.2e+00/s\n"
          ]
        },
        {
          "output_type": "stream",
          "name": "stdout",
          "text": [
            "2024-11-01 18:02:00,626 subsystems 0/1 INFO :: Building subproblem matrices 1/1 (~100%) Elapsed: 0s, Remaining: 0s, Rate: 4.2e+00/s\n"
          ]
        },
        {
          "output_type": "stream",
          "name": "stderr",
          "text": [
            "INFO:__main__:Starting main loop\n"
          ]
        },
        {
          "output_type": "stream",
          "name": "stdout",
          "text": [
            "2024-11-01 18:02:00,632 __main__ 0/1 INFO :: Starting main loop\n"
          ]
        },
        {
          "output_type": "stream",
          "name": "stderr",
          "text": [
            "INFO:__main__:Iteration=1, Time=9.765625e-01, dt=9.765625e-01\n"
          ]
        },
        {
          "output_type": "stream",
          "name": "stdout",
          "text": [
            "2024-11-01 18:02:00,669 __main__ 0/1 INFO :: Iteration=1, Time=9.765625e-01, dt=9.765625e-01\n"
          ]
        },
        {
          "output_type": "stream",
          "name": "stderr",
          "text": [
            "INFO:__main__:Iteration=11, Time=1.074219e+01, dt=9.765625e-01\n"
          ]
        },
        {
          "output_type": "stream",
          "name": "stdout",
          "text": [
            "2024-11-01 18:02:00,697 __main__ 0/1 INFO :: Iteration=11, Time=1.074219e+01, dt=9.765625e-01\n"
          ]
        },
        {
          "output_type": "stream",
          "name": "stderr",
          "text": [
            "INFO:__main__:Iteration=21, Time=2.050781e+01, dt=9.765625e-01\n"
          ]
        },
        {
          "output_type": "stream",
          "name": "stdout",
          "text": [
            "2024-11-01 18:02:00,725 __main__ 0/1 INFO :: Iteration=21, Time=2.050781e+01, dt=9.765625e-01\n"
          ]
        },
        {
          "output_type": "stream",
          "name": "stderr",
          "text": [
            "INFO:__main__:Iteration=31, Time=3.027344e+01, dt=9.765625e-01\n"
          ]
        },
        {
          "output_type": "stream",
          "name": "stdout",
          "text": [
            "2024-11-01 18:02:00,760 __main__ 0/1 INFO :: Iteration=31, Time=3.027344e+01, dt=9.765625e-01\n"
          ]
        },
        {
          "output_type": "stream",
          "name": "stderr",
          "text": [
            "INFO:__main__:Iteration=41, Time=4.003906e+01, dt=9.765625e-01\n"
          ]
        },
        {
          "output_type": "stream",
          "name": "stdout",
          "text": [
            "2024-11-01 18:02:00,797 __main__ 0/1 INFO :: Iteration=41, Time=4.003906e+01, dt=9.765625e-01\n"
          ]
        },
        {
          "output_type": "stream",
          "name": "stderr",
          "text": [
            "INFO:__main__:Iteration=51, Time=4.980469e+01, dt=9.765625e-01\n"
          ]
        },
        {
          "output_type": "stream",
          "name": "stdout",
          "text": [
            "2024-11-01 18:02:00,832 __main__ 0/1 INFO :: Iteration=51, Time=4.980469e+01, dt=9.765625e-01\n"
          ]
        },
        {
          "output_type": "stream",
          "name": "stderr",
          "text": [
            "INFO:__main__:Iteration=61, Time=5.957031e+01, dt=9.765625e-01\n"
          ]
        },
        {
          "output_type": "stream",
          "name": "stdout",
          "text": [
            "2024-11-01 18:02:00,869 __main__ 0/1 INFO :: Iteration=61, Time=5.957031e+01, dt=9.765625e-01\n"
          ]
        },
        {
          "output_type": "stream",
          "name": "stderr",
          "text": [
            "INFO:__main__:Iteration=71, Time=6.933594e+01, dt=9.765625e-01\n"
          ]
        },
        {
          "output_type": "stream",
          "name": "stdout",
          "text": [
            "2024-11-01 18:02:00,904 __main__ 0/1 INFO :: Iteration=71, Time=6.933594e+01, dt=9.765625e-01\n"
          ]
        },
        {
          "output_type": "stream",
          "name": "stderr",
          "text": [
            "INFO:__main__:Iteration=81, Time=7.910156e+01, dt=9.765625e-01\n"
          ]
        },
        {
          "output_type": "stream",
          "name": "stdout",
          "text": [
            "2024-11-01 18:02:00,948 __main__ 0/1 INFO :: Iteration=81, Time=7.910156e+01, dt=9.765625e-01\n"
          ]
        },
        {
          "output_type": "stream",
          "name": "stderr",
          "text": [
            "INFO:__main__:Iteration=91, Time=8.886719e+01, dt=9.765625e-01\n"
          ]
        },
        {
          "output_type": "stream",
          "name": "stdout",
          "text": [
            "2024-11-01 18:02:00,986 __main__ 0/1 INFO :: Iteration=91, Time=8.886719e+01, dt=9.765625e-01\n"
          ]
        },
        {
          "output_type": "stream",
          "name": "stderr",
          "text": [
            "INFO:__main__:Iteration=101, Time=9.863281e+01, dt=9.765625e-01\n"
          ]
        },
        {
          "output_type": "stream",
          "name": "stdout",
          "text": [
            "2024-11-01 18:02:01,024 __main__ 0/1 INFO :: Iteration=101, Time=9.863281e+01, dt=9.765625e-01\n"
          ]
        },
        {
          "output_type": "stream",
          "name": "stderr",
          "text": [
            "INFO:__main__:Iteration=111, Time=1.083984e+02, dt=9.765625e-01\n"
          ]
        },
        {
          "output_type": "stream",
          "name": "stdout",
          "text": [
            "2024-11-01 18:02:01,059 __main__ 0/1 INFO :: Iteration=111, Time=1.083984e+02, dt=9.765625e-01\n"
          ]
        },
        {
          "output_type": "stream",
          "name": "stderr",
          "text": [
            "INFO:__main__:Iteration=121, Time=1.181641e+02, dt=9.765625e-01\n"
          ]
        },
        {
          "output_type": "stream",
          "name": "stdout",
          "text": [
            "2024-11-01 18:02:01,096 __main__ 0/1 INFO :: Iteration=121, Time=1.181641e+02, dt=9.765625e-01\n"
          ]
        },
        {
          "output_type": "stream",
          "name": "stderr",
          "text": [
            "INFO:__main__:Iteration=131, Time=1.279297e+02, dt=9.765625e-01\n"
          ]
        },
        {
          "output_type": "stream",
          "name": "stdout",
          "text": [
            "2024-11-01 18:02:01,128 __main__ 0/1 INFO :: Iteration=131, Time=1.279297e+02, dt=9.765625e-01\n"
          ]
        },
        {
          "output_type": "stream",
          "name": "stderr",
          "text": [
            "INFO:__main__:Iteration=141, Time=1.376953e+02, dt=9.765625e-01\n"
          ]
        },
        {
          "output_type": "stream",
          "name": "stdout",
          "text": [
            "2024-11-01 18:02:01,157 __main__ 0/1 INFO :: Iteration=141, Time=1.376953e+02, dt=9.765625e-01\n"
          ]
        },
        {
          "output_type": "stream",
          "name": "stderr",
          "text": [
            "INFO:__main__:Iteration=151, Time=1.474609e+02, dt=9.765625e-01\n"
          ]
        },
        {
          "output_type": "stream",
          "name": "stdout",
          "text": [
            "2024-11-01 18:02:01,186 __main__ 0/1 INFO :: Iteration=151, Time=1.474609e+02, dt=9.765625e-01\n"
          ]
        },
        {
          "output_type": "stream",
          "name": "stderr",
          "text": [
            "INFO:__main__:Iteration=161, Time=1.572266e+02, dt=9.765625e-01\n"
          ]
        },
        {
          "output_type": "stream",
          "name": "stdout",
          "text": [
            "2024-11-01 18:02:01,215 __main__ 0/1 INFO :: Iteration=161, Time=1.572266e+02, dt=9.765625e-01\n"
          ]
        },
        {
          "output_type": "stream",
          "name": "stderr",
          "text": [
            "INFO:__main__:Iteration=171, Time=1.669922e+02, dt=9.765625e-01\n"
          ]
        },
        {
          "output_type": "stream",
          "name": "stdout",
          "text": [
            "2024-11-01 18:02:01,245 __main__ 0/1 INFO :: Iteration=171, Time=1.669922e+02, dt=9.765625e-01\n"
          ]
        },
        {
          "output_type": "stream",
          "name": "stderr",
          "text": [
            "INFO:__main__:Iteration=181, Time=1.767578e+02, dt=9.765625e-01\n"
          ]
        },
        {
          "output_type": "stream",
          "name": "stdout",
          "text": [
            "2024-11-01 18:02:01,282 __main__ 0/1 INFO :: Iteration=181, Time=1.767578e+02, dt=9.765625e-01\n"
          ]
        },
        {
          "output_type": "stream",
          "name": "stderr",
          "text": [
            "INFO:__main__:Iteration=191, Time=1.865234e+02, dt=9.765625e-01\n"
          ]
        },
        {
          "output_type": "stream",
          "name": "stdout",
          "text": [
            "2024-11-01 18:02:01,309 __main__ 0/1 INFO :: Iteration=191, Time=1.865234e+02, dt=9.765625e-01\n"
          ]
        },
        {
          "output_type": "stream",
          "name": "stderr",
          "text": [
            "INFO:__main__:Iteration=201, Time=1.962891e+02, dt=9.765625e-01\n"
          ]
        },
        {
          "output_type": "stream",
          "name": "stdout",
          "text": [
            "2024-11-01 18:02:01,338 __main__ 0/1 INFO :: Iteration=201, Time=1.962891e+02, dt=9.765625e-01\n"
          ]
        },
        {
          "output_type": "stream",
          "name": "stderr",
          "text": [
            "INFO:__main__:Iteration=211, Time=2.060547e+02, dt=9.765625e-01\n"
          ]
        },
        {
          "output_type": "stream",
          "name": "stdout",
          "text": [
            "2024-11-01 18:02:01,372 __main__ 0/1 INFO :: Iteration=211, Time=2.060547e+02, dt=9.765625e-01\n"
          ]
        },
        {
          "output_type": "stream",
          "name": "stderr",
          "text": [
            "INFO:__main__:Iteration=221, Time=2.158203e+02, dt=9.765625e-01\n"
          ]
        },
        {
          "output_type": "stream",
          "name": "stdout",
          "text": [
            "2024-11-01 18:02:01,399 __main__ 0/1 INFO :: Iteration=221, Time=2.158203e+02, dt=9.765625e-01\n"
          ]
        },
        {
          "output_type": "stream",
          "name": "stderr",
          "text": [
            "INFO:__main__:Iteration=231, Time=2.255859e+02, dt=9.765625e-01\n"
          ]
        },
        {
          "output_type": "stream",
          "name": "stdout",
          "text": [
            "2024-11-01 18:02:01,428 __main__ 0/1 INFO :: Iteration=231, Time=2.255859e+02, dt=9.765625e-01\n"
          ]
        },
        {
          "output_type": "stream",
          "name": "stderr",
          "text": [
            "INFO:__main__:Iteration=241, Time=2.353516e+02, dt=9.765625e-01\n"
          ]
        },
        {
          "output_type": "stream",
          "name": "stdout",
          "text": [
            "2024-11-01 18:02:01,457 __main__ 0/1 INFO :: Iteration=241, Time=2.353516e+02, dt=9.765625e-01\n"
          ]
        },
        {
          "output_type": "stream",
          "name": "stderr",
          "text": [
            "INFO:__main__:Iteration=251, Time=2.451172e+02, dt=9.765625e-01\n"
          ]
        },
        {
          "output_type": "stream",
          "name": "stdout",
          "text": [
            "2024-11-01 18:02:01,490 __main__ 0/1 INFO :: Iteration=251, Time=2.451172e+02, dt=9.765625e-01\n"
          ]
        },
        {
          "output_type": "stream",
          "name": "stderr",
          "text": [
            "INFO:__main__:Iteration=261, Time=2.548828e+02, dt=9.765625e-01\n"
          ]
        },
        {
          "output_type": "stream",
          "name": "stdout",
          "text": [
            "2024-11-01 18:02:01,518 __main__ 0/1 INFO :: Iteration=261, Time=2.548828e+02, dt=9.765625e-01\n"
          ]
        },
        {
          "output_type": "stream",
          "name": "stderr",
          "text": [
            "INFO:__main__:Iteration=271, Time=2.646484e+02, dt=9.765625e-01\n"
          ]
        },
        {
          "output_type": "stream",
          "name": "stdout",
          "text": [
            "2024-11-01 18:02:01,548 __main__ 0/1 INFO :: Iteration=271, Time=2.646484e+02, dt=9.765625e-01\n"
          ]
        },
        {
          "output_type": "stream",
          "name": "stderr",
          "text": [
            "INFO:__main__:Iteration=281, Time=2.744141e+02, dt=9.765625e-01\n"
          ]
        },
        {
          "output_type": "stream",
          "name": "stdout",
          "text": [
            "2024-11-01 18:02:01,577 __main__ 0/1 INFO :: Iteration=281, Time=2.744141e+02, dt=9.765625e-01\n"
          ]
        },
        {
          "output_type": "stream",
          "name": "stderr",
          "text": [
            "INFO:__main__:Iteration=291, Time=2.841797e+02, dt=9.765625e-01\n"
          ]
        },
        {
          "output_type": "stream",
          "name": "stdout",
          "text": [
            "2024-11-01 18:02:01,611 __main__ 0/1 INFO :: Iteration=291, Time=2.841797e+02, dt=9.765625e-01\n"
          ]
        },
        {
          "output_type": "stream",
          "name": "stderr",
          "text": [
            "INFO:__main__:Iteration=301, Time=2.939453e+02, dt=9.765625e-01\n"
          ]
        },
        {
          "output_type": "stream",
          "name": "stdout",
          "text": [
            "2024-11-01 18:02:01,641 __main__ 0/1 INFO :: Iteration=301, Time=2.939453e+02, dt=9.765625e-01\n"
          ]
        },
        {
          "output_type": "stream",
          "name": "stderr",
          "text": [
            "INFO:__main__:Iteration=311, Time=3.037109e+02, dt=9.765625e-01\n"
          ]
        },
        {
          "output_type": "stream",
          "name": "stdout",
          "text": [
            "2024-11-01 18:02:01,671 __main__ 0/1 INFO :: Iteration=311, Time=3.037109e+02, dt=9.765625e-01\n"
          ]
        },
        {
          "output_type": "stream",
          "name": "stderr",
          "text": [
            "INFO:__main__:Iteration=321, Time=3.134766e+02, dt=9.765625e-01\n"
          ]
        },
        {
          "output_type": "stream",
          "name": "stdout",
          "text": [
            "2024-11-01 18:02:01,702 __main__ 0/1 INFO :: Iteration=321, Time=3.134766e+02, dt=9.765625e-01\n"
          ]
        },
        {
          "output_type": "stream",
          "name": "stderr",
          "text": [
            "INFO:__main__:Iteration=331, Time=3.232422e+02, dt=9.765625e-01\n"
          ]
        },
        {
          "output_type": "stream",
          "name": "stdout",
          "text": [
            "2024-11-01 18:02:01,732 __main__ 0/1 INFO :: Iteration=331, Time=3.232422e+02, dt=9.765625e-01\n"
          ]
        },
        {
          "output_type": "stream",
          "name": "stderr",
          "text": [
            "INFO:__main__:Iteration=341, Time=3.330078e+02, dt=9.765625e-01\n"
          ]
        },
        {
          "output_type": "stream",
          "name": "stdout",
          "text": [
            "2024-11-01 18:02:01,775 __main__ 0/1 INFO :: Iteration=341, Time=3.330078e+02, dt=9.765625e-01\n"
          ]
        },
        {
          "output_type": "stream",
          "name": "stderr",
          "text": [
            "INFO:__main__:Iteration=351, Time=3.427734e+02, dt=9.765625e-01\n"
          ]
        },
        {
          "output_type": "stream",
          "name": "stdout",
          "text": [
            "2024-11-01 18:02:01,817 __main__ 0/1 INFO :: Iteration=351, Time=3.427734e+02, dt=9.765625e-01\n"
          ]
        },
        {
          "output_type": "stream",
          "name": "stderr",
          "text": [
            "INFO:__main__:Iteration=361, Time=3.525391e+02, dt=9.765625e-01\n"
          ]
        },
        {
          "output_type": "stream",
          "name": "stdout",
          "text": [
            "2024-11-01 18:02:01,856 __main__ 0/1 INFO :: Iteration=361, Time=3.525391e+02, dt=9.765625e-01\n"
          ]
        },
        {
          "output_type": "stream",
          "name": "stderr",
          "text": [
            "INFO:__main__:Iteration=371, Time=3.623047e+02, dt=9.765625e-01\n"
          ]
        },
        {
          "output_type": "stream",
          "name": "stdout",
          "text": [
            "2024-11-01 18:02:01,903 __main__ 0/1 INFO :: Iteration=371, Time=3.623047e+02, dt=9.765625e-01\n"
          ]
        },
        {
          "output_type": "stream",
          "name": "stderr",
          "text": [
            "INFO:__main__:Iteration=381, Time=3.720703e+02, dt=9.765625e-01\n"
          ]
        },
        {
          "output_type": "stream",
          "name": "stdout",
          "text": [
            "2024-11-01 18:02:01,939 __main__ 0/1 INFO :: Iteration=381, Time=3.720703e+02, dt=9.765625e-01\n"
          ]
        },
        {
          "output_type": "stream",
          "name": "stderr",
          "text": [
            "INFO:__main__:Iteration=391, Time=3.818359e+02, dt=9.765625e-01\n"
          ]
        },
        {
          "output_type": "stream",
          "name": "stdout",
          "text": [
            "2024-11-01 18:02:01,979 __main__ 0/1 INFO :: Iteration=391, Time=3.818359e+02, dt=9.765625e-01\n"
          ]
        },
        {
          "output_type": "stream",
          "name": "stderr",
          "text": [
            "INFO:__main__:Iteration=401, Time=3.916016e+02, dt=9.765625e-01\n"
          ]
        },
        {
          "output_type": "stream",
          "name": "stdout",
          "text": [
            "2024-11-01 18:02:02,031 __main__ 0/1 INFO :: Iteration=401, Time=3.916016e+02, dt=9.765625e-01\n"
          ]
        },
        {
          "output_type": "stream",
          "name": "stderr",
          "text": [
            "INFO:__main__:Iteration=411, Time=4.013672e+02, dt=9.765625e-01\n"
          ]
        },
        {
          "output_type": "stream",
          "name": "stdout",
          "text": [
            "2024-11-01 18:02:02,067 __main__ 0/1 INFO :: Iteration=411, Time=4.013672e+02, dt=9.765625e-01\n"
          ]
        },
        {
          "output_type": "stream",
          "name": "stderr",
          "text": [
            "INFO:__main__:Iteration=421, Time=4.111328e+02, dt=9.765625e-01\n"
          ]
        },
        {
          "output_type": "stream",
          "name": "stdout",
          "text": [
            "2024-11-01 18:02:02,113 __main__ 0/1 INFO :: Iteration=421, Time=4.111328e+02, dt=9.765625e-01\n"
          ]
        },
        {
          "output_type": "stream",
          "name": "stderr",
          "text": [
            "INFO:__main__:Iteration=431, Time=4.208984e+02, dt=9.765625e-01\n"
          ]
        },
        {
          "output_type": "stream",
          "name": "stdout",
          "text": [
            "2024-11-01 18:02:02,153 __main__ 0/1 INFO :: Iteration=431, Time=4.208984e+02, dt=9.765625e-01\n"
          ]
        },
        {
          "output_type": "stream",
          "name": "stderr",
          "text": [
            "INFO:__main__:Iteration=441, Time=4.306641e+02, dt=9.765625e-01\n"
          ]
        },
        {
          "output_type": "stream",
          "name": "stdout",
          "text": [
            "2024-11-01 18:02:02,194 __main__ 0/1 INFO :: Iteration=441, Time=4.306641e+02, dt=9.765625e-01\n"
          ]
        },
        {
          "output_type": "stream",
          "name": "stderr",
          "text": [
            "INFO:__main__:Iteration=451, Time=4.404297e+02, dt=9.765625e-01\n"
          ]
        },
        {
          "output_type": "stream",
          "name": "stdout",
          "text": [
            "2024-11-01 18:02:02,232 __main__ 0/1 INFO :: Iteration=451, Time=4.404297e+02, dt=9.765625e-01\n"
          ]
        },
        {
          "output_type": "stream",
          "name": "stderr",
          "text": [
            "INFO:__main__:Iteration=461, Time=4.501953e+02, dt=9.765625e-01\n"
          ]
        },
        {
          "output_type": "stream",
          "name": "stdout",
          "text": [
            "2024-11-01 18:02:02,269 __main__ 0/1 INFO :: Iteration=461, Time=4.501953e+02, dt=9.765625e-01\n"
          ]
        },
        {
          "output_type": "stream",
          "name": "stderr",
          "text": [
            "INFO:__main__:Iteration=471, Time=4.599609e+02, dt=9.765625e-01\n"
          ]
        },
        {
          "output_type": "stream",
          "name": "stdout",
          "text": [
            "2024-11-01 18:02:02,305 __main__ 0/1 INFO :: Iteration=471, Time=4.599609e+02, dt=9.765625e-01\n"
          ]
        },
        {
          "output_type": "stream",
          "name": "stderr",
          "text": [
            "INFO:__main__:Iteration=481, Time=4.697266e+02, dt=9.765625e-01\n"
          ]
        },
        {
          "output_type": "stream",
          "name": "stdout",
          "text": [
            "2024-11-01 18:02:02,343 __main__ 0/1 INFO :: Iteration=481, Time=4.697266e+02, dt=9.765625e-01\n"
          ]
        },
        {
          "output_type": "stream",
          "name": "stderr",
          "text": [
            "INFO:__main__:Iteration=491, Time=4.794922e+02, dt=9.765625e-01\n"
          ]
        },
        {
          "output_type": "stream",
          "name": "stdout",
          "text": [
            "2024-11-01 18:02:02,397 __main__ 0/1 INFO :: Iteration=491, Time=4.794922e+02, dt=9.765625e-01\n"
          ]
        },
        {
          "output_type": "stream",
          "name": "stderr",
          "text": [
            "INFO:__main__:Iteration=501, Time=4.892578e+02, dt=9.765625e-01\n"
          ]
        },
        {
          "output_type": "stream",
          "name": "stdout",
          "text": [
            "2024-11-01 18:02:02,441 __main__ 0/1 INFO :: Iteration=501, Time=4.892578e+02, dt=9.765625e-01\n"
          ]
        },
        {
          "output_type": "stream",
          "name": "stderr",
          "text": [
            "INFO:__main__:Iteration=511, Time=4.990234e+02, dt=9.765625e-01\n"
          ]
        },
        {
          "output_type": "stream",
          "name": "stdout",
          "text": [
            "2024-11-01 18:02:02,478 __main__ 0/1 INFO :: Iteration=511, Time=4.990234e+02, dt=9.765625e-01\n"
          ]
        },
        {
          "output_type": "stream",
          "name": "stderr",
          "text": [
            "INFO:__main__:Iteration=521, Time=5.087891e+02, dt=9.765625e-01\n"
          ]
        },
        {
          "output_type": "stream",
          "name": "stdout",
          "text": [
            "2024-11-01 18:02:02,520 __main__ 0/1 INFO :: Iteration=521, Time=5.087891e+02, dt=9.765625e-01\n"
          ]
        },
        {
          "output_type": "stream",
          "name": "stderr",
          "text": [
            "INFO:__main__:Iteration=531, Time=5.185547e+02, dt=9.765625e-01\n"
          ]
        },
        {
          "output_type": "stream",
          "name": "stdout",
          "text": [
            "2024-11-01 18:02:02,570 __main__ 0/1 INFO :: Iteration=531, Time=5.185547e+02, dt=9.765625e-01\n"
          ]
        },
        {
          "output_type": "stream",
          "name": "stderr",
          "text": [
            "INFO:__main__:Iteration=541, Time=5.283203e+02, dt=9.765625e-01\n"
          ]
        },
        {
          "output_type": "stream",
          "name": "stdout",
          "text": [
            "2024-11-01 18:02:02,611 __main__ 0/1 INFO :: Iteration=541, Time=5.283203e+02, dt=9.765625e-01\n"
          ]
        },
        {
          "output_type": "stream",
          "name": "stderr",
          "text": [
            "INFO:__main__:Iteration=551, Time=5.380859e+02, dt=9.765625e-01\n"
          ]
        },
        {
          "output_type": "stream",
          "name": "stdout",
          "text": [
            "2024-11-01 18:02:02,649 __main__ 0/1 INFO :: Iteration=551, Time=5.380859e+02, dt=9.765625e-01\n"
          ]
        },
        {
          "output_type": "stream",
          "name": "stderr",
          "text": [
            "INFO:__main__:Iteration=561, Time=5.478516e+02, dt=9.765625e-01\n"
          ]
        },
        {
          "output_type": "stream",
          "name": "stdout",
          "text": [
            "2024-11-01 18:02:02,696 __main__ 0/1 INFO :: Iteration=561, Time=5.478516e+02, dt=9.765625e-01\n"
          ]
        },
        {
          "output_type": "stream",
          "name": "stderr",
          "text": [
            "INFO:__main__:Iteration=571, Time=5.576172e+02, dt=9.765625e-01\n"
          ]
        },
        {
          "output_type": "stream",
          "name": "stdout",
          "text": [
            "2024-11-01 18:02:02,739 __main__ 0/1 INFO :: Iteration=571, Time=5.576172e+02, dt=9.765625e-01\n"
          ]
        },
        {
          "output_type": "stream",
          "name": "stderr",
          "text": [
            "INFO:__main__:Iteration=581, Time=5.673828e+02, dt=9.765625e-01\n"
          ]
        },
        {
          "output_type": "stream",
          "name": "stdout",
          "text": [
            "2024-11-01 18:02:02,787 __main__ 0/1 INFO :: Iteration=581, Time=5.673828e+02, dt=9.765625e-01\n"
          ]
        },
        {
          "output_type": "stream",
          "name": "stderr",
          "text": [
            "INFO:__main__:Iteration=591, Time=5.771484e+02, dt=9.765625e-01\n"
          ]
        },
        {
          "output_type": "stream",
          "name": "stdout",
          "text": [
            "2024-11-01 18:02:02,829 __main__ 0/1 INFO :: Iteration=591, Time=5.771484e+02, dt=9.765625e-01\n"
          ]
        },
        {
          "output_type": "stream",
          "name": "stderr",
          "text": [
            "INFO:__main__:Iteration=601, Time=5.869141e+02, dt=9.765625e-01\n"
          ]
        },
        {
          "output_type": "stream",
          "name": "stdout",
          "text": [
            "2024-11-01 18:02:02,870 __main__ 0/1 INFO :: Iteration=601, Time=5.869141e+02, dt=9.765625e-01\n"
          ]
        },
        {
          "output_type": "stream",
          "name": "stderr",
          "text": [
            "INFO:__main__:Iteration=611, Time=5.966797e+02, dt=9.765625e-01\n"
          ]
        },
        {
          "output_type": "stream",
          "name": "stdout",
          "text": [
            "2024-11-01 18:02:02,914 __main__ 0/1 INFO :: Iteration=611, Time=5.966797e+02, dt=9.765625e-01\n"
          ]
        },
        {
          "output_type": "stream",
          "name": "stderr",
          "text": [
            "INFO:__main__:Iteration=621, Time=6.064453e+02, dt=9.765625e-01\n"
          ]
        },
        {
          "output_type": "stream",
          "name": "stdout",
          "text": [
            "2024-11-01 18:02:02,963 __main__ 0/1 INFO :: Iteration=621, Time=6.064453e+02, dt=9.765625e-01\n"
          ]
        },
        {
          "output_type": "stream",
          "name": "stderr",
          "text": [
            "INFO:__main__:Iteration=631, Time=6.162109e+02, dt=9.765625e-01\n"
          ]
        },
        {
          "output_type": "stream",
          "name": "stdout",
          "text": [
            "2024-11-01 18:02:03,006 __main__ 0/1 INFO :: Iteration=631, Time=6.162109e+02, dt=9.765625e-01\n"
          ]
        },
        {
          "output_type": "stream",
          "name": "stderr",
          "text": [
            "INFO:__main__:Iteration=641, Time=6.259766e+02, dt=9.765625e-01\n"
          ]
        },
        {
          "output_type": "stream",
          "name": "stdout",
          "text": [
            "2024-11-01 18:02:03,063 __main__ 0/1 INFO :: Iteration=641, Time=6.259766e+02, dt=9.765625e-01\n"
          ]
        },
        {
          "output_type": "stream",
          "name": "stderr",
          "text": [
            "INFO:__main__:Iteration=651, Time=6.357422e+02, dt=9.765625e-01\n"
          ]
        },
        {
          "output_type": "stream",
          "name": "stdout",
          "text": [
            "2024-11-01 18:02:03,105 __main__ 0/1 INFO :: Iteration=651, Time=6.357422e+02, dt=9.765625e-01\n"
          ]
        },
        {
          "output_type": "stream",
          "name": "stderr",
          "text": [
            "INFO:__main__:Iteration=661, Time=6.455078e+02, dt=9.765625e-01\n"
          ]
        },
        {
          "output_type": "stream",
          "name": "stdout",
          "text": [
            "2024-11-01 18:02:03,147 __main__ 0/1 INFO :: Iteration=661, Time=6.455078e+02, dt=9.765625e-01\n"
          ]
        },
        {
          "output_type": "stream",
          "name": "stderr",
          "text": [
            "INFO:__main__:Iteration=671, Time=6.552734e+02, dt=9.765625e-01\n"
          ]
        },
        {
          "output_type": "stream",
          "name": "stdout",
          "text": [
            "2024-11-01 18:02:03,192 __main__ 0/1 INFO :: Iteration=671, Time=6.552734e+02, dt=9.765625e-01\n"
          ]
        },
        {
          "output_type": "stream",
          "name": "stderr",
          "text": [
            "INFO:__main__:Iteration=681, Time=6.650391e+02, dt=9.765625e-01\n"
          ]
        },
        {
          "output_type": "stream",
          "name": "stdout",
          "text": [
            "2024-11-01 18:02:03,232 __main__ 0/1 INFO :: Iteration=681, Time=6.650391e+02, dt=9.765625e-01\n"
          ]
        },
        {
          "output_type": "stream",
          "name": "stderr",
          "text": [
            "INFO:__main__:Iteration=691, Time=6.748047e+02, dt=9.765625e-01\n"
          ]
        },
        {
          "output_type": "stream",
          "name": "stdout",
          "text": [
            "2024-11-01 18:02:03,280 __main__ 0/1 INFO :: Iteration=691, Time=6.748047e+02, dt=9.765625e-01\n"
          ]
        },
        {
          "output_type": "stream",
          "name": "stderr",
          "text": [
            "INFO:__main__:Iteration=701, Time=6.845703e+02, dt=9.765625e-01\n"
          ]
        },
        {
          "output_type": "stream",
          "name": "stdout",
          "text": [
            "2024-11-01 18:02:03,324 __main__ 0/1 INFO :: Iteration=701, Time=6.845703e+02, dt=9.765625e-01\n"
          ]
        },
        {
          "output_type": "stream",
          "name": "stderr",
          "text": [
            "INFO:__main__:Iteration=711, Time=6.943359e+02, dt=9.765625e-01\n"
          ]
        },
        {
          "output_type": "stream",
          "name": "stdout",
          "text": [
            "2024-11-01 18:02:03,361 __main__ 0/1 INFO :: Iteration=711, Time=6.943359e+02, dt=9.765625e-01\n"
          ]
        },
        {
          "output_type": "stream",
          "name": "stderr",
          "text": [
            "INFO:__main__:Iteration=721, Time=7.041016e+02, dt=9.765625e-01\n"
          ]
        },
        {
          "output_type": "stream",
          "name": "stdout",
          "text": [
            "2024-11-01 18:02:03,399 __main__ 0/1 INFO :: Iteration=721, Time=7.041016e+02, dt=9.765625e-01\n"
          ]
        },
        {
          "output_type": "stream",
          "name": "stderr",
          "text": [
            "INFO:__main__:Iteration=731, Time=7.138672e+02, dt=9.765625e-01\n"
          ]
        },
        {
          "output_type": "stream",
          "name": "stdout",
          "text": [
            "2024-11-01 18:02:03,435 __main__ 0/1 INFO :: Iteration=731, Time=7.138672e+02, dt=9.765625e-01\n"
          ]
        },
        {
          "output_type": "stream",
          "name": "stderr",
          "text": [
            "INFO:__main__:Iteration=741, Time=7.236328e+02, dt=9.765625e-01\n"
          ]
        },
        {
          "output_type": "stream",
          "name": "stdout",
          "text": [
            "2024-11-01 18:02:03,471 __main__ 0/1 INFO :: Iteration=741, Time=7.236328e+02, dt=9.765625e-01\n"
          ]
        },
        {
          "output_type": "stream",
          "name": "stderr",
          "text": [
            "INFO:__main__:Iteration=751, Time=7.333984e+02, dt=9.765625e-01\n"
          ]
        },
        {
          "output_type": "stream",
          "name": "stdout",
          "text": [
            "2024-11-01 18:02:03,507 __main__ 0/1 INFO :: Iteration=751, Time=7.333984e+02, dt=9.765625e-01\n"
          ]
        },
        {
          "output_type": "stream",
          "name": "stderr",
          "text": [
            "INFO:__main__:Iteration=761, Time=7.431641e+02, dt=9.765625e-01\n"
          ]
        },
        {
          "output_type": "stream",
          "name": "stdout",
          "text": [
            "2024-11-01 18:02:03,547 __main__ 0/1 INFO :: Iteration=761, Time=7.431641e+02, dt=9.765625e-01\n"
          ]
        },
        {
          "output_type": "stream",
          "name": "stderr",
          "text": [
            "INFO:__main__:Iteration=771, Time=7.529297e+02, dt=9.765625e-01\n"
          ]
        },
        {
          "output_type": "stream",
          "name": "stdout",
          "text": [
            "2024-11-01 18:02:03,586 __main__ 0/1 INFO :: Iteration=771, Time=7.529297e+02, dt=9.765625e-01\n"
          ]
        },
        {
          "output_type": "stream",
          "name": "stderr",
          "text": [
            "INFO:__main__:Iteration=781, Time=7.626953e+02, dt=9.765625e-01\n"
          ]
        },
        {
          "output_type": "stream",
          "name": "stdout",
          "text": [
            "2024-11-01 18:02:03,627 __main__ 0/1 INFO :: Iteration=781, Time=7.626953e+02, dt=9.765625e-01\n"
          ]
        },
        {
          "output_type": "stream",
          "name": "stderr",
          "text": [
            "INFO:__main__:Iteration=791, Time=7.724609e+02, dt=9.765625e-01\n"
          ]
        },
        {
          "output_type": "stream",
          "name": "stdout",
          "text": [
            "2024-11-01 18:02:03,665 __main__ 0/1 INFO :: Iteration=791, Time=7.724609e+02, dt=9.765625e-01\n"
          ]
        },
        {
          "output_type": "stream",
          "name": "stderr",
          "text": [
            "INFO:__main__:Iteration=801, Time=7.822266e+02, dt=9.765625e-01\n"
          ]
        },
        {
          "output_type": "stream",
          "name": "stdout",
          "text": [
            "2024-11-01 18:02:03,711 __main__ 0/1 INFO :: Iteration=801, Time=7.822266e+02, dt=9.765625e-01\n"
          ]
        },
        {
          "output_type": "stream",
          "name": "stderr",
          "text": [
            "INFO:__main__:Iteration=811, Time=7.919922e+02, dt=9.765625e-01\n"
          ]
        },
        {
          "output_type": "stream",
          "name": "stdout",
          "text": [
            "2024-11-01 18:02:03,758 __main__ 0/1 INFO :: Iteration=811, Time=7.919922e+02, dt=9.765625e-01\n"
          ]
        },
        {
          "output_type": "stream",
          "name": "stderr",
          "text": [
            "INFO:__main__:Iteration=821, Time=8.017578e+02, dt=9.765625e-01\n"
          ]
        },
        {
          "output_type": "stream",
          "name": "stdout",
          "text": [
            "2024-11-01 18:02:03,802 __main__ 0/1 INFO :: Iteration=821, Time=8.017578e+02, dt=9.765625e-01\n"
          ]
        },
        {
          "output_type": "stream",
          "name": "stderr",
          "text": [
            "INFO:__main__:Iteration=831, Time=8.115234e+02, dt=9.765625e-01\n"
          ]
        },
        {
          "output_type": "stream",
          "name": "stdout",
          "text": [
            "2024-11-01 18:02:03,843 __main__ 0/1 INFO :: Iteration=831, Time=8.115234e+02, dt=9.765625e-01\n"
          ]
        },
        {
          "output_type": "stream",
          "name": "stderr",
          "text": [
            "INFO:__main__:Iteration=841, Time=8.212891e+02, dt=9.765625e-01\n"
          ]
        },
        {
          "output_type": "stream",
          "name": "stdout",
          "text": [
            "2024-11-01 18:02:03,889 __main__ 0/1 INFO :: Iteration=841, Time=8.212891e+02, dt=9.765625e-01\n"
          ]
        },
        {
          "output_type": "stream",
          "name": "stderr",
          "text": [
            "INFO:__main__:Iteration=851, Time=8.310547e+02, dt=9.765625e-01\n"
          ]
        },
        {
          "output_type": "stream",
          "name": "stdout",
          "text": [
            "2024-11-01 18:02:03,941 __main__ 0/1 INFO :: Iteration=851, Time=8.310547e+02, dt=9.765625e-01\n"
          ]
        },
        {
          "output_type": "stream",
          "name": "stderr",
          "text": [
            "INFO:__main__:Iteration=861, Time=8.408203e+02, dt=9.765625e-01\n"
          ]
        },
        {
          "output_type": "stream",
          "name": "stdout",
          "text": [
            "2024-11-01 18:02:03,995 __main__ 0/1 INFO :: Iteration=861, Time=8.408203e+02, dt=9.765625e-01\n"
          ]
        },
        {
          "output_type": "stream",
          "name": "stderr",
          "text": [
            "INFO:__main__:Iteration=871, Time=8.505859e+02, dt=9.765625e-01\n"
          ]
        },
        {
          "output_type": "stream",
          "name": "stdout",
          "text": [
            "2024-11-01 18:02:04,044 __main__ 0/1 INFO :: Iteration=871, Time=8.505859e+02, dt=9.765625e-01\n"
          ]
        },
        {
          "output_type": "stream",
          "name": "stderr",
          "text": [
            "INFO:__main__:Iteration=881, Time=8.603516e+02, dt=9.765625e-01\n"
          ]
        },
        {
          "output_type": "stream",
          "name": "stdout",
          "text": [
            "2024-11-01 18:02:04,098 __main__ 0/1 INFO :: Iteration=881, Time=8.603516e+02, dt=9.765625e-01\n"
          ]
        },
        {
          "output_type": "stream",
          "name": "stderr",
          "text": [
            "INFO:__main__:Iteration=891, Time=8.701172e+02, dt=9.765625e-01\n"
          ]
        },
        {
          "output_type": "stream",
          "name": "stdout",
          "text": [
            "2024-11-01 18:02:04,152 __main__ 0/1 INFO :: Iteration=891, Time=8.701172e+02, dt=9.765625e-01\n"
          ]
        },
        {
          "output_type": "stream",
          "name": "stderr",
          "text": [
            "INFO:__main__:Iteration=901, Time=8.798828e+02, dt=9.765625e-01\n"
          ]
        },
        {
          "output_type": "stream",
          "name": "stdout",
          "text": [
            "2024-11-01 18:02:04,199 __main__ 0/1 INFO :: Iteration=901, Time=8.798828e+02, dt=9.765625e-01\n"
          ]
        },
        {
          "output_type": "stream",
          "name": "stderr",
          "text": [
            "INFO:__main__:Iteration=911, Time=8.896484e+02, dt=9.765625e-01\n"
          ]
        },
        {
          "output_type": "stream",
          "name": "stdout",
          "text": [
            "2024-11-01 18:02:04,240 __main__ 0/1 INFO :: Iteration=911, Time=8.896484e+02, dt=9.765625e-01\n"
          ]
        },
        {
          "output_type": "stream",
          "name": "stderr",
          "text": [
            "INFO:__main__:Iteration=921, Time=8.994141e+02, dt=9.765625e-01\n"
          ]
        },
        {
          "output_type": "stream",
          "name": "stdout",
          "text": [
            "2024-11-01 18:02:04,279 __main__ 0/1 INFO :: Iteration=921, Time=8.994141e+02, dt=9.765625e-01\n"
          ]
        },
        {
          "output_type": "stream",
          "name": "stderr",
          "text": [
            "INFO:__main__:Iteration=931, Time=9.091797e+02, dt=9.765625e-01\n"
          ]
        },
        {
          "output_type": "stream",
          "name": "stdout",
          "text": [
            "2024-11-01 18:02:04,315 __main__ 0/1 INFO :: Iteration=931, Time=9.091797e+02, dt=9.765625e-01\n"
          ]
        },
        {
          "output_type": "stream",
          "name": "stderr",
          "text": [
            "INFO:__main__:Iteration=941, Time=9.189453e+02, dt=9.765625e-01\n"
          ]
        },
        {
          "output_type": "stream",
          "name": "stdout",
          "text": [
            "2024-11-01 18:02:04,350 __main__ 0/1 INFO :: Iteration=941, Time=9.189453e+02, dt=9.765625e-01\n"
          ]
        },
        {
          "output_type": "stream",
          "name": "stderr",
          "text": [
            "INFO:__main__:Iteration=951, Time=9.287109e+02, dt=9.765625e-01\n"
          ]
        },
        {
          "output_type": "stream",
          "name": "stdout",
          "text": [
            "2024-11-01 18:02:04,387 __main__ 0/1 INFO :: Iteration=951, Time=9.287109e+02, dt=9.765625e-01\n"
          ]
        },
        {
          "output_type": "stream",
          "name": "stderr",
          "text": [
            "INFO:__main__:Iteration=961, Time=9.384766e+02, dt=9.765625e-01\n"
          ]
        },
        {
          "output_type": "stream",
          "name": "stdout",
          "text": [
            "2024-11-01 18:02:04,423 __main__ 0/1 INFO :: Iteration=961, Time=9.384766e+02, dt=9.765625e-01\n"
          ]
        },
        {
          "output_type": "stream",
          "name": "stderr",
          "text": [
            "INFO:__main__:Iteration=971, Time=9.482422e+02, dt=9.765625e-01\n"
          ]
        },
        {
          "output_type": "stream",
          "name": "stdout",
          "text": [
            "2024-11-01 18:02:04,459 __main__ 0/1 INFO :: Iteration=971, Time=9.482422e+02, dt=9.765625e-01\n"
          ]
        },
        {
          "output_type": "stream",
          "name": "stderr",
          "text": [
            "INFO:__main__:Iteration=981, Time=9.580078e+02, dt=9.765625e-01\n"
          ]
        },
        {
          "output_type": "stream",
          "name": "stdout",
          "text": [
            "2024-11-01 18:02:04,502 __main__ 0/1 INFO :: Iteration=981, Time=9.580078e+02, dt=9.765625e-01\n"
          ]
        },
        {
          "output_type": "stream",
          "name": "stderr",
          "text": [
            "INFO:__main__:Iteration=991, Time=9.677734e+02, dt=9.765625e-01\n"
          ]
        },
        {
          "output_type": "stream",
          "name": "stdout",
          "text": [
            "2024-11-01 18:02:04,542 __main__ 0/1 INFO :: Iteration=991, Time=9.677734e+02, dt=9.765625e-01\n"
          ]
        },
        {
          "output_type": "stream",
          "name": "stderr",
          "text": [
            "INFO:__main__:Iteration=1001, Time=9.775391e+02, dt=9.765625e-01\n"
          ]
        },
        {
          "output_type": "stream",
          "name": "stdout",
          "text": [
            "2024-11-01 18:02:04,585 __main__ 0/1 INFO :: Iteration=1001, Time=9.775391e+02, dt=9.765625e-01\n"
          ]
        },
        {
          "output_type": "stream",
          "name": "stderr",
          "text": [
            "INFO:__main__:Iteration=1011, Time=9.873047e+02, dt=9.765625e-01\n"
          ]
        },
        {
          "output_type": "stream",
          "name": "stdout",
          "text": [
            "2024-11-01 18:02:04,624 __main__ 0/1 INFO :: Iteration=1011, Time=9.873047e+02, dt=9.765625e-01\n"
          ]
        },
        {
          "output_type": "stream",
          "name": "stderr",
          "text": [
            "INFO:__main__:Iteration=1021, Time=9.970703e+02, dt=9.765625e-01\n"
          ]
        },
        {
          "output_type": "stream",
          "name": "stdout",
          "text": [
            "2024-11-01 18:02:04,665 __main__ 0/1 INFO :: Iteration=1021, Time=9.970703e+02, dt=9.765625e-01\n"
          ]
        },
        {
          "output_type": "stream",
          "name": "stderr",
          "text": [
            "INFO:__main__:Iteration=1031, Time=1.006836e+03, dt=9.765625e-01\n"
          ]
        },
        {
          "output_type": "stream",
          "name": "stdout",
          "text": [
            "2024-11-01 18:02:04,714 __main__ 0/1 INFO :: Iteration=1031, Time=1.006836e+03, dt=9.765625e-01\n"
          ]
        },
        {
          "output_type": "stream",
          "name": "stderr",
          "text": [
            "INFO:__main__:Iteration=1041, Time=1.016602e+03, dt=9.765625e-01\n"
          ]
        },
        {
          "output_type": "stream",
          "name": "stdout",
          "text": [
            "2024-11-01 18:02:04,764 __main__ 0/1 INFO :: Iteration=1041, Time=1.016602e+03, dt=9.765625e-01\n"
          ]
        },
        {
          "output_type": "stream",
          "name": "stderr",
          "text": [
            "INFO:__main__:Iteration=1051, Time=1.026367e+03, dt=9.765625e-01\n"
          ]
        },
        {
          "output_type": "stream",
          "name": "stdout",
          "text": [
            "2024-11-01 18:02:04,819 __main__ 0/1 INFO :: Iteration=1051, Time=1.026367e+03, dt=9.765625e-01\n"
          ]
        },
        {
          "output_type": "stream",
          "name": "stderr",
          "text": [
            "INFO:__main__:Iteration=1061, Time=1.036133e+03, dt=9.765625e-01\n"
          ]
        },
        {
          "output_type": "stream",
          "name": "stdout",
          "text": [
            "2024-11-01 18:02:04,868 __main__ 0/1 INFO :: Iteration=1061, Time=1.036133e+03, dt=9.765625e-01\n"
          ]
        },
        {
          "output_type": "stream",
          "name": "stderr",
          "text": [
            "INFO:__main__:Iteration=1071, Time=1.045898e+03, dt=9.765625e-01\n"
          ]
        },
        {
          "output_type": "stream",
          "name": "stdout",
          "text": [
            "2024-11-01 18:02:04,930 __main__ 0/1 INFO :: Iteration=1071, Time=1.045898e+03, dt=9.765625e-01\n"
          ]
        },
        {
          "output_type": "stream",
          "name": "stderr",
          "text": [
            "INFO:__main__:Iteration=1081, Time=1.055664e+03, dt=9.765625e-01\n"
          ]
        },
        {
          "output_type": "stream",
          "name": "stdout",
          "text": [
            "2024-11-01 18:02:04,980 __main__ 0/1 INFO :: Iteration=1081, Time=1.055664e+03, dt=9.765625e-01\n"
          ]
        },
        {
          "output_type": "stream",
          "name": "stderr",
          "text": [
            "INFO:__main__:Iteration=1091, Time=1.065430e+03, dt=9.765625e-01\n"
          ]
        },
        {
          "output_type": "stream",
          "name": "stdout",
          "text": [
            "2024-11-01 18:02:05,025 __main__ 0/1 INFO :: Iteration=1091, Time=1.065430e+03, dt=9.765625e-01\n"
          ]
        },
        {
          "output_type": "stream",
          "name": "stderr",
          "text": [
            "INFO:__main__:Iteration=1101, Time=1.075195e+03, dt=9.765625e-01\n"
          ]
        },
        {
          "output_type": "stream",
          "name": "stdout",
          "text": [
            "2024-11-01 18:02:05,063 __main__ 0/1 INFO :: Iteration=1101, Time=1.075195e+03, dt=9.765625e-01\n"
          ]
        },
        {
          "output_type": "stream",
          "name": "stderr",
          "text": [
            "INFO:__main__:Iteration=1111, Time=1.084961e+03, dt=9.765625e-01\n"
          ]
        },
        {
          "output_type": "stream",
          "name": "stdout",
          "text": [
            "2024-11-01 18:02:05,099 __main__ 0/1 INFO :: Iteration=1111, Time=1.084961e+03, dt=9.765625e-01\n"
          ]
        },
        {
          "output_type": "stream",
          "name": "stderr",
          "text": [
            "INFO:__main__:Iteration=1121, Time=1.094727e+03, dt=9.765625e-01\n"
          ]
        },
        {
          "output_type": "stream",
          "name": "stdout",
          "text": [
            "2024-11-01 18:02:05,135 __main__ 0/1 INFO :: Iteration=1121, Time=1.094727e+03, dt=9.765625e-01\n"
          ]
        },
        {
          "output_type": "stream",
          "name": "stderr",
          "text": [
            "INFO:__main__:Iteration=1131, Time=1.104492e+03, dt=9.765625e-01\n"
          ]
        },
        {
          "output_type": "stream",
          "name": "stdout",
          "text": [
            "2024-11-01 18:02:05,186 __main__ 0/1 INFO :: Iteration=1131, Time=1.104492e+03, dt=9.765625e-01\n"
          ]
        },
        {
          "output_type": "stream",
          "name": "stderr",
          "text": [
            "INFO:__main__:Iteration=1141, Time=1.114258e+03, dt=9.765625e-01\n"
          ]
        },
        {
          "output_type": "stream",
          "name": "stdout",
          "text": [
            "2024-11-01 18:02:05,233 __main__ 0/1 INFO :: Iteration=1141, Time=1.114258e+03, dt=9.765625e-01\n"
          ]
        },
        {
          "output_type": "stream",
          "name": "stderr",
          "text": [
            "INFO:__main__:Iteration=1151, Time=1.124023e+03, dt=9.765625e-01\n"
          ]
        },
        {
          "output_type": "stream",
          "name": "stdout",
          "text": [
            "2024-11-01 18:02:05,275 __main__ 0/1 INFO :: Iteration=1151, Time=1.124023e+03, dt=9.765625e-01\n"
          ]
        },
        {
          "output_type": "stream",
          "name": "stderr",
          "text": [
            "INFO:__main__:Iteration=1161, Time=1.133789e+03, dt=9.765625e-01\n"
          ]
        },
        {
          "output_type": "stream",
          "name": "stdout",
          "text": [
            "2024-11-01 18:02:05,316 __main__ 0/1 INFO :: Iteration=1161, Time=1.133789e+03, dt=9.765625e-01\n"
          ]
        },
        {
          "output_type": "stream",
          "name": "stderr",
          "text": [
            "INFO:__main__:Iteration=1171, Time=1.143555e+03, dt=9.765625e-01\n"
          ]
        },
        {
          "output_type": "stream",
          "name": "stdout",
          "text": [
            "2024-11-01 18:02:05,363 __main__ 0/1 INFO :: Iteration=1171, Time=1.143555e+03, dt=9.765625e-01\n"
          ]
        },
        {
          "output_type": "stream",
          "name": "stderr",
          "text": [
            "INFO:__main__:Iteration=1181, Time=1.153320e+03, dt=9.765625e-01\n"
          ]
        },
        {
          "output_type": "stream",
          "name": "stdout",
          "text": [
            "2024-11-01 18:02:05,403 __main__ 0/1 INFO :: Iteration=1181, Time=1.153320e+03, dt=9.765625e-01\n"
          ]
        },
        {
          "output_type": "stream",
          "name": "stderr",
          "text": [
            "INFO:__main__:Iteration=1191, Time=1.163086e+03, dt=9.765625e-01\n"
          ]
        },
        {
          "output_type": "stream",
          "name": "stdout",
          "text": [
            "2024-11-01 18:02:05,448 __main__ 0/1 INFO :: Iteration=1191, Time=1.163086e+03, dt=9.765625e-01\n"
          ]
        },
        {
          "output_type": "stream",
          "name": "stderr",
          "text": [
            "INFO:__main__:Iteration=1201, Time=1.172852e+03, dt=9.765625e-01\n"
          ]
        },
        {
          "output_type": "stream",
          "name": "stdout",
          "text": [
            "2024-11-01 18:02:05,488 __main__ 0/1 INFO :: Iteration=1201, Time=1.172852e+03, dt=9.765625e-01\n"
          ]
        },
        {
          "output_type": "stream",
          "name": "stderr",
          "text": [
            "INFO:__main__:Iteration=1211, Time=1.182617e+03, dt=9.765625e-01\n"
          ]
        },
        {
          "output_type": "stream",
          "name": "stdout",
          "text": [
            "2024-11-01 18:02:05,526 __main__ 0/1 INFO :: Iteration=1211, Time=1.182617e+03, dt=9.765625e-01\n"
          ]
        },
        {
          "output_type": "stream",
          "name": "stderr",
          "text": [
            "INFO:__main__:Iteration=1221, Time=1.192383e+03, dt=9.765625e-01\n"
          ]
        },
        {
          "output_type": "stream",
          "name": "stdout",
          "text": [
            "2024-11-01 18:02:05,570 __main__ 0/1 INFO :: Iteration=1221, Time=1.192383e+03, dt=9.765625e-01\n"
          ]
        },
        {
          "output_type": "stream",
          "name": "stderr",
          "text": [
            "INFO:__main__:Iteration=1231, Time=1.202148e+03, dt=9.765625e-01\n"
          ]
        },
        {
          "output_type": "stream",
          "name": "stdout",
          "text": [
            "2024-11-01 18:02:05,614 __main__ 0/1 INFO :: Iteration=1231, Time=1.202148e+03, dt=9.765625e-01\n"
          ]
        },
        {
          "output_type": "stream",
          "name": "stderr",
          "text": [
            "INFO:__main__:Iteration=1241, Time=1.211914e+03, dt=9.765625e-01\n"
          ]
        },
        {
          "output_type": "stream",
          "name": "stdout",
          "text": [
            "2024-11-01 18:02:05,658 __main__ 0/1 INFO :: Iteration=1241, Time=1.211914e+03, dt=9.765625e-01\n"
          ]
        },
        {
          "output_type": "stream",
          "name": "stderr",
          "text": [
            "INFO:__main__:Iteration=1251, Time=1.221680e+03, dt=9.765625e-01\n"
          ]
        },
        {
          "output_type": "stream",
          "name": "stdout",
          "text": [
            "2024-11-01 18:02:05,700 __main__ 0/1 INFO :: Iteration=1251, Time=1.221680e+03, dt=9.765625e-01\n"
          ]
        },
        {
          "output_type": "stream",
          "name": "stderr",
          "text": [
            "INFO:__main__:Iteration=1261, Time=1.231445e+03, dt=9.765625e-01\n"
          ]
        },
        {
          "output_type": "stream",
          "name": "stdout",
          "text": [
            "2024-11-01 18:02:05,741 __main__ 0/1 INFO :: Iteration=1261, Time=1.231445e+03, dt=9.765625e-01\n"
          ]
        },
        {
          "output_type": "stream",
          "name": "stderr",
          "text": [
            "INFO:__main__:Iteration=1271, Time=1.241211e+03, dt=9.765625e-01\n"
          ]
        },
        {
          "output_type": "stream",
          "name": "stdout",
          "text": [
            "2024-11-01 18:02:05,797 __main__ 0/1 INFO :: Iteration=1271, Time=1.241211e+03, dt=9.765625e-01\n"
          ]
        },
        {
          "output_type": "stream",
          "name": "stderr",
          "text": [
            "INFO:__main__:Iteration=1281, Time=1.250977e+03, dt=9.765625e-01\n"
          ]
        },
        {
          "output_type": "stream",
          "name": "stdout",
          "text": [
            "2024-11-01 18:02:05,843 __main__ 0/1 INFO :: Iteration=1281, Time=1.250977e+03, dt=9.765625e-01\n"
          ]
        },
        {
          "output_type": "stream",
          "name": "stderr",
          "text": [
            "INFO:__main__:Iteration=1291, Time=1.260742e+03, dt=9.765625e-01\n"
          ]
        },
        {
          "output_type": "stream",
          "name": "stdout",
          "text": [
            "2024-11-01 18:02:05,891 __main__ 0/1 INFO :: Iteration=1291, Time=1.260742e+03, dt=9.765625e-01\n"
          ]
        },
        {
          "output_type": "stream",
          "name": "stderr",
          "text": [
            "INFO:__main__:Iteration=1301, Time=1.270508e+03, dt=9.765625e-01\n"
          ]
        },
        {
          "output_type": "stream",
          "name": "stdout",
          "text": [
            "2024-11-01 18:02:05,937 __main__ 0/1 INFO :: Iteration=1301, Time=1.270508e+03, dt=9.765625e-01\n"
          ]
        },
        {
          "output_type": "stream",
          "name": "stderr",
          "text": [
            "INFO:__main__:Iteration=1311, Time=1.280273e+03, dt=9.765625e-01\n"
          ]
        },
        {
          "output_type": "stream",
          "name": "stdout",
          "text": [
            "2024-11-01 18:02:05,983 __main__ 0/1 INFO :: Iteration=1311, Time=1.280273e+03, dt=9.765625e-01\n"
          ]
        },
        {
          "output_type": "stream",
          "name": "stderr",
          "text": [
            "INFO:__main__:Iteration=1321, Time=1.290039e+03, dt=9.765625e-01\n"
          ]
        },
        {
          "output_type": "stream",
          "name": "stdout",
          "text": [
            "2024-11-01 18:02:06,026 __main__ 0/1 INFO :: Iteration=1321, Time=1.290039e+03, dt=9.765625e-01\n"
          ]
        },
        {
          "output_type": "stream",
          "name": "stderr",
          "text": [
            "INFO:__main__:Iteration=1331, Time=1.299805e+03, dt=9.765625e-01\n"
          ]
        },
        {
          "output_type": "stream",
          "name": "stdout",
          "text": [
            "2024-11-01 18:02:06,070 __main__ 0/1 INFO :: Iteration=1331, Time=1.299805e+03, dt=9.765625e-01\n"
          ]
        },
        {
          "output_type": "stream",
          "name": "stderr",
          "text": [
            "INFO:__main__:Iteration=1341, Time=1.309570e+03, dt=9.765625e-01\n"
          ]
        },
        {
          "output_type": "stream",
          "name": "stdout",
          "text": [
            "2024-11-01 18:02:06,112 __main__ 0/1 INFO :: Iteration=1341, Time=1.309570e+03, dt=9.765625e-01\n"
          ]
        },
        {
          "output_type": "stream",
          "name": "stderr",
          "text": [
            "INFO:__main__:Iteration=1351, Time=1.319336e+03, dt=9.765625e-01\n"
          ]
        },
        {
          "output_type": "stream",
          "name": "stdout",
          "text": [
            "2024-11-01 18:02:06,149 __main__ 0/1 INFO :: Iteration=1351, Time=1.319336e+03, dt=9.765625e-01\n"
          ]
        },
        {
          "output_type": "stream",
          "name": "stderr",
          "text": [
            "INFO:__main__:Iteration=1361, Time=1.329102e+03, dt=9.765625e-01\n"
          ]
        },
        {
          "output_type": "stream",
          "name": "stdout",
          "text": [
            "2024-11-01 18:02:06,188 __main__ 0/1 INFO :: Iteration=1361, Time=1.329102e+03, dt=9.765625e-01\n"
          ]
        },
        {
          "output_type": "stream",
          "name": "stderr",
          "text": [
            "INFO:__main__:Iteration=1371, Time=1.338867e+03, dt=9.765625e-01\n"
          ]
        },
        {
          "output_type": "stream",
          "name": "stdout",
          "text": [
            "2024-11-01 18:02:06,238 __main__ 0/1 INFO :: Iteration=1371, Time=1.338867e+03, dt=9.765625e-01\n"
          ]
        },
        {
          "output_type": "stream",
          "name": "stderr",
          "text": [
            "INFO:__main__:Iteration=1381, Time=1.348633e+03, dt=9.765625e-01\n"
          ]
        },
        {
          "output_type": "stream",
          "name": "stdout",
          "text": [
            "2024-11-01 18:02:06,289 __main__ 0/1 INFO :: Iteration=1381, Time=1.348633e+03, dt=9.765625e-01\n"
          ]
        },
        {
          "output_type": "stream",
          "name": "stderr",
          "text": [
            "INFO:__main__:Iteration=1391, Time=1.358398e+03, dt=9.765625e-01\n"
          ]
        },
        {
          "output_type": "stream",
          "name": "stdout",
          "text": [
            "2024-11-01 18:02:06,328 __main__ 0/1 INFO :: Iteration=1391, Time=1.358398e+03, dt=9.765625e-01\n"
          ]
        },
        {
          "output_type": "stream",
          "name": "stderr",
          "text": [
            "INFO:__main__:Iteration=1401, Time=1.368164e+03, dt=9.765625e-01\n"
          ]
        },
        {
          "output_type": "stream",
          "name": "stdout",
          "text": [
            "2024-11-01 18:02:06,371 __main__ 0/1 INFO :: Iteration=1401, Time=1.368164e+03, dt=9.765625e-01\n"
          ]
        },
        {
          "output_type": "stream",
          "name": "stderr",
          "text": [
            "INFO:__main__:Iteration=1411, Time=1.377930e+03, dt=9.765625e-01\n"
          ]
        },
        {
          "output_type": "stream",
          "name": "stdout",
          "text": [
            "2024-11-01 18:02:06,408 __main__ 0/1 INFO :: Iteration=1411, Time=1.377930e+03, dt=9.765625e-01\n"
          ]
        },
        {
          "output_type": "stream",
          "name": "stderr",
          "text": [
            "INFO:__main__:Iteration=1421, Time=1.387695e+03, dt=9.765625e-01\n"
          ]
        },
        {
          "output_type": "stream",
          "name": "stdout",
          "text": [
            "2024-11-01 18:02:06,446 __main__ 0/1 INFO :: Iteration=1421, Time=1.387695e+03, dt=9.765625e-01\n"
          ]
        },
        {
          "output_type": "stream",
          "name": "stderr",
          "text": [
            "INFO:__main__:Iteration=1431, Time=1.397461e+03, dt=9.765625e-01\n"
          ]
        },
        {
          "output_type": "stream",
          "name": "stdout",
          "text": [
            "2024-11-01 18:02:06,483 __main__ 0/1 INFO :: Iteration=1431, Time=1.397461e+03, dt=9.765625e-01\n"
          ]
        },
        {
          "output_type": "stream",
          "name": "stderr",
          "text": [
            "INFO:__main__:Iteration=1441, Time=1.407227e+03, dt=9.765625e-01\n"
          ]
        },
        {
          "output_type": "stream",
          "name": "stdout",
          "text": [
            "2024-11-01 18:02:06,522 __main__ 0/1 INFO :: Iteration=1441, Time=1.407227e+03, dt=9.765625e-01\n"
          ]
        },
        {
          "output_type": "stream",
          "name": "stderr",
          "text": [
            "INFO:__main__:Iteration=1451, Time=1.416992e+03, dt=9.765625e-01\n"
          ]
        },
        {
          "output_type": "stream",
          "name": "stdout",
          "text": [
            "2024-11-01 18:02:06,559 __main__ 0/1 INFO :: Iteration=1451, Time=1.416992e+03, dt=9.765625e-01\n"
          ]
        },
        {
          "output_type": "stream",
          "name": "stderr",
          "text": [
            "INFO:__main__:Iteration=1461, Time=1.426758e+03, dt=9.765625e-01\n"
          ]
        },
        {
          "output_type": "stream",
          "name": "stdout",
          "text": [
            "2024-11-01 18:02:06,600 __main__ 0/1 INFO :: Iteration=1461, Time=1.426758e+03, dt=9.765625e-01\n"
          ]
        },
        {
          "output_type": "stream",
          "name": "stderr",
          "text": [
            "INFO:__main__:Iteration=1471, Time=1.436523e+03, dt=9.765625e-01\n"
          ]
        },
        {
          "output_type": "stream",
          "name": "stdout",
          "text": [
            "2024-11-01 18:02:06,641 __main__ 0/1 INFO :: Iteration=1471, Time=1.436523e+03, dt=9.765625e-01\n"
          ]
        },
        {
          "output_type": "stream",
          "name": "stderr",
          "text": [
            "INFO:__main__:Iteration=1481, Time=1.446289e+03, dt=9.765625e-01\n"
          ]
        },
        {
          "output_type": "stream",
          "name": "stdout",
          "text": [
            "2024-11-01 18:02:06,686 __main__ 0/1 INFO :: Iteration=1481, Time=1.446289e+03, dt=9.765625e-01\n"
          ]
        },
        {
          "output_type": "stream",
          "name": "stderr",
          "text": [
            "INFO:__main__:Iteration=1491, Time=1.456055e+03, dt=9.765625e-01\n"
          ]
        },
        {
          "output_type": "stream",
          "name": "stdout",
          "text": [
            "2024-11-01 18:02:06,728 __main__ 0/1 INFO :: Iteration=1491, Time=1.456055e+03, dt=9.765625e-01\n"
          ]
        },
        {
          "output_type": "stream",
          "name": "stderr",
          "text": [
            "INFO:__main__:Iteration=1501, Time=1.465820e+03, dt=9.765625e-01\n"
          ]
        },
        {
          "output_type": "stream",
          "name": "stdout",
          "text": [
            "2024-11-01 18:02:06,771 __main__ 0/1 INFO :: Iteration=1501, Time=1.465820e+03, dt=9.765625e-01\n"
          ]
        },
        {
          "output_type": "stream",
          "name": "stderr",
          "text": [
            "INFO:__main__:Iteration=1511, Time=1.475586e+03, dt=9.765625e-01\n"
          ]
        },
        {
          "output_type": "stream",
          "name": "stdout",
          "text": [
            "2024-11-01 18:02:06,809 __main__ 0/1 INFO :: Iteration=1511, Time=1.475586e+03, dt=9.765625e-01\n"
          ]
        },
        {
          "output_type": "stream",
          "name": "stderr",
          "text": [
            "INFO:__main__:Iteration=1521, Time=1.485352e+03, dt=9.765625e-01\n"
          ]
        },
        {
          "output_type": "stream",
          "name": "stdout",
          "text": [
            "2024-11-01 18:02:06,847 __main__ 0/1 INFO :: Iteration=1521, Time=1.485352e+03, dt=9.765625e-01\n"
          ]
        },
        {
          "output_type": "stream",
          "name": "stderr",
          "text": [
            "INFO:__main__:Iteration=1531, Time=1.495117e+03, dt=9.765625e-01\n"
          ]
        },
        {
          "output_type": "stream",
          "name": "stdout",
          "text": [
            "2024-11-01 18:02:06,888 __main__ 0/1 INFO :: Iteration=1531, Time=1.495117e+03, dt=9.765625e-01\n"
          ]
        },
        {
          "output_type": "stream",
          "name": "stderr",
          "text": [
            "INFO:solvers:Simulation stop time reached.\n"
          ]
        },
        {
          "output_type": "stream",
          "name": "stdout",
          "text": [
            "2024-11-01 18:02:06,911 solvers 0/1 INFO :: Simulation stop time reached.\n"
          ]
        },
        {
          "output_type": "stream",
          "name": "stderr",
          "text": [
            "INFO:solvers:Final iteration: 1536\n"
          ]
        },
        {
          "output_type": "stream",
          "name": "stdout",
          "text": [
            "2024-11-01 18:02:06,916 solvers 0/1 INFO :: Final iteration: 1536\n"
          ]
        },
        {
          "output_type": "stream",
          "name": "stderr",
          "text": [
            "INFO:solvers:Final sim time: 1500.0\n"
          ]
        },
        {
          "output_type": "stream",
          "name": "stdout",
          "text": [
            "2024-11-01 18:02:06,920 solvers 0/1 INFO :: Final sim time: 1500.0\n"
          ]
        },
        {
          "output_type": "stream",
          "name": "stderr",
          "text": [
            "INFO:solvers:Setup time (init - iter 0): 0.2802 sec\n"
          ]
        },
        {
          "output_type": "stream",
          "name": "stdout",
          "text": [
            "2024-11-01 18:02:06,923 solvers 0/1 INFO :: Setup time (init - iter 0): 0.2802 sec\n"
          ]
        },
        {
          "output_type": "stream",
          "name": "stderr",
          "text": [
            "INFO:solvers:Warmup time (iter 0-10): 0.05487 sec\n"
          ]
        },
        {
          "output_type": "stream",
          "name": "stdout",
          "text": [
            "2024-11-01 18:02:06,925 solvers 0/1 INFO :: Warmup time (iter 0-10): 0.05487 sec\n"
          ]
        },
        {
          "output_type": "stream",
          "name": "stderr",
          "text": [
            "INFO:solvers:Run time (iter 10-end): 6.221 sec\n"
          ]
        },
        {
          "output_type": "stream",
          "name": "stdout",
          "text": [
            "2024-11-01 18:02:06,927 solvers 0/1 INFO :: Run time (iter 10-end): 6.221 sec\n"
          ]
        },
        {
          "output_type": "stream",
          "name": "stderr",
          "text": [
            "INFO:solvers:CPU time (iter 10-end): 0.001728 cpu-hr\n"
          ]
        },
        {
          "output_type": "stream",
          "name": "stdout",
          "text": [
            "2024-11-01 18:02:06,929 solvers 0/1 INFO :: CPU time (iter 10-end): 0.001728 cpu-hr\n"
          ]
        },
        {
          "output_type": "stream",
          "name": "stderr",
          "text": [
            "INFO:solvers:Speed: 4.254e+06 mode-stages/cpu-sec\n"
          ]
        },
        {
          "output_type": "stream",
          "name": "stdout",
          "text": [
            "2024-11-01 18:02:06,931 solvers 0/1 INFO :: Speed: 4.254e+06 mode-stages/cpu-sec\n"
          ]
        },
        {
          "output_type": "stream",
          "name": "stderr",
          "text": [
            "INFO:subsystems:Building subproblem matrices 1/1 (~100%) Elapsed: 0s, Remaining: 0s, Rate: 2.6e+00/s\n"
          ]
        },
        {
          "output_type": "stream",
          "name": "stdout",
          "text": [
            "2024-11-01 18:02:07,802 subsystems 0/1 INFO :: Building subproblem matrices 1/1 (~100%) Elapsed: 0s, Remaining: 0s, Rate: 2.6e+00/s\n"
          ]
        },
        {
          "output_type": "stream",
          "name": "stderr",
          "text": [
            "INFO:__main__:Starting main loop\n"
          ]
        },
        {
          "output_type": "stream",
          "name": "stdout",
          "text": [
            "2024-11-01 18:02:07,808 __main__ 0/1 INFO :: Starting main loop\n"
          ]
        },
        {
          "output_type": "stream",
          "name": "stderr",
          "text": [
            "INFO:__main__:Iteration=1, Time=3.906250e+00, dt=3.906250e+00\n"
          ]
        },
        {
          "output_type": "stream",
          "name": "stdout",
          "text": [
            "2024-11-01 18:02:07,851 __main__ 0/1 INFO :: Iteration=1, Time=3.906250e+00, dt=3.906250e+00\n"
          ]
        },
        {
          "output_type": "stream",
          "name": "stderr",
          "text": [
            "INFO:__main__:Iteration=11, Time=4.296875e+01, dt=3.906250e+00\n"
          ]
        },
        {
          "output_type": "stream",
          "name": "stdout",
          "text": [
            "2024-11-01 18:02:07,881 __main__ 0/1 INFO :: Iteration=11, Time=4.296875e+01, dt=3.906250e+00\n"
          ]
        },
        {
          "output_type": "stream",
          "name": "stderr",
          "text": [
            "INFO:__main__:Iteration=21, Time=8.203125e+01, dt=3.906250e+00\n"
          ]
        },
        {
          "output_type": "stream",
          "name": "stdout",
          "text": [
            "2024-11-01 18:02:07,911 __main__ 0/1 INFO :: Iteration=21, Time=8.203125e+01, dt=3.906250e+00\n"
          ]
        },
        {
          "output_type": "stream",
          "name": "stderr",
          "text": [
            "INFO:__main__:Iteration=31, Time=1.210938e+02, dt=3.906250e+00\n"
          ]
        },
        {
          "output_type": "stream",
          "name": "stdout",
          "text": [
            "2024-11-01 18:02:07,943 __main__ 0/1 INFO :: Iteration=31, Time=1.210938e+02, dt=3.906250e+00\n"
          ]
        },
        {
          "output_type": "stream",
          "name": "stderr",
          "text": [
            "INFO:__main__:Iteration=41, Time=1.601562e+02, dt=3.906250e+00\n"
          ]
        },
        {
          "output_type": "stream",
          "name": "stdout",
          "text": [
            "2024-11-01 18:02:07,974 __main__ 0/1 INFO :: Iteration=41, Time=1.601562e+02, dt=3.906250e+00\n"
          ]
        },
        {
          "output_type": "stream",
          "name": "stderr",
          "text": [
            "INFO:__main__:Iteration=51, Time=1.992188e+02, dt=3.906250e+00\n"
          ]
        },
        {
          "output_type": "stream",
          "name": "stdout",
          "text": [
            "2024-11-01 18:02:08,007 __main__ 0/1 INFO :: Iteration=51, Time=1.992188e+02, dt=3.906250e+00\n"
          ]
        },
        {
          "output_type": "stream",
          "name": "stderr",
          "text": [
            "INFO:__main__:Iteration=61, Time=2.382812e+02, dt=3.906250e+00\n"
          ]
        },
        {
          "output_type": "stream",
          "name": "stdout",
          "text": [
            "2024-11-01 18:02:08,038 __main__ 0/1 INFO :: Iteration=61, Time=2.382812e+02, dt=3.906250e+00\n"
          ]
        },
        {
          "output_type": "stream",
          "name": "stderr",
          "text": [
            "INFO:__main__:Iteration=71, Time=2.773438e+02, dt=3.906250e+00\n"
          ]
        },
        {
          "output_type": "stream",
          "name": "stdout",
          "text": [
            "2024-11-01 18:02:08,067 __main__ 0/1 INFO :: Iteration=71, Time=2.773438e+02, dt=3.906250e+00\n"
          ]
        },
        {
          "output_type": "stream",
          "name": "stderr",
          "text": [
            "INFO:__main__:Iteration=81, Time=3.164062e+02, dt=3.906250e+00\n"
          ]
        },
        {
          "output_type": "stream",
          "name": "stdout",
          "text": [
            "2024-11-01 18:02:08,102 __main__ 0/1 INFO :: Iteration=81, Time=3.164062e+02, dt=3.906250e+00\n"
          ]
        },
        {
          "output_type": "stream",
          "name": "stderr",
          "text": [
            "INFO:__main__:Iteration=91, Time=3.554688e+02, dt=3.906250e+00\n"
          ]
        },
        {
          "output_type": "stream",
          "name": "stdout",
          "text": [
            "2024-11-01 18:02:08,132 __main__ 0/1 INFO :: Iteration=91, Time=3.554688e+02, dt=3.906250e+00\n"
          ]
        },
        {
          "output_type": "stream",
          "name": "stderr",
          "text": [
            "INFO:__main__:Iteration=101, Time=3.945312e+02, dt=3.906250e+00\n"
          ]
        },
        {
          "output_type": "stream",
          "name": "stdout",
          "text": [
            "2024-11-01 18:02:08,164 __main__ 0/1 INFO :: Iteration=101, Time=3.945312e+02, dt=3.906250e+00\n"
          ]
        },
        {
          "output_type": "stream",
          "name": "stderr",
          "text": [
            "INFO:__main__:Iteration=111, Time=4.335938e+02, dt=3.906250e+00\n"
          ]
        },
        {
          "output_type": "stream",
          "name": "stdout",
          "text": [
            "2024-11-01 18:02:08,196 __main__ 0/1 INFO :: Iteration=111, Time=4.335938e+02, dt=3.906250e+00\n"
          ]
        },
        {
          "output_type": "stream",
          "name": "stderr",
          "text": [
            "INFO:__main__:Iteration=121, Time=4.726562e+02, dt=3.906250e+00\n"
          ]
        },
        {
          "output_type": "stream",
          "name": "stdout",
          "text": [
            "2024-11-01 18:02:08,226 __main__ 0/1 INFO :: Iteration=121, Time=4.726562e+02, dt=3.906250e+00\n"
          ]
        },
        {
          "output_type": "stream",
          "name": "stderr",
          "text": [
            "INFO:__main__:Iteration=131, Time=5.117188e+02, dt=3.906250e+00\n"
          ]
        },
        {
          "output_type": "stream",
          "name": "stdout",
          "text": [
            "2024-11-01 18:02:08,262 __main__ 0/1 INFO :: Iteration=131, Time=5.117188e+02, dt=3.906250e+00\n"
          ]
        },
        {
          "output_type": "stream",
          "name": "stderr",
          "text": [
            "INFO:__main__:Iteration=141, Time=5.507812e+02, dt=3.906250e+00\n"
          ]
        },
        {
          "output_type": "stream",
          "name": "stdout",
          "text": [
            "2024-11-01 18:02:08,296 __main__ 0/1 INFO :: Iteration=141, Time=5.507812e+02, dt=3.906250e+00\n"
          ]
        },
        {
          "output_type": "stream",
          "name": "stderr",
          "text": [
            "INFO:__main__:Iteration=151, Time=5.898438e+02, dt=3.906250e+00\n"
          ]
        },
        {
          "output_type": "stream",
          "name": "stdout",
          "text": [
            "2024-11-01 18:02:08,329 __main__ 0/1 INFO :: Iteration=151, Time=5.898438e+02, dt=3.906250e+00\n"
          ]
        },
        {
          "output_type": "stream",
          "name": "stderr",
          "text": [
            "INFO:__main__:Iteration=161, Time=6.289062e+02, dt=3.906250e+00\n"
          ]
        },
        {
          "output_type": "stream",
          "name": "stdout",
          "text": [
            "2024-11-01 18:02:08,372 __main__ 0/1 INFO :: Iteration=161, Time=6.289062e+02, dt=3.906250e+00\n"
          ]
        },
        {
          "output_type": "stream",
          "name": "stderr",
          "text": [
            "INFO:__main__:Iteration=171, Time=6.679688e+02, dt=3.906250e+00\n"
          ]
        },
        {
          "output_type": "stream",
          "name": "stdout",
          "text": [
            "2024-11-01 18:02:08,406 __main__ 0/1 INFO :: Iteration=171, Time=6.679688e+02, dt=3.906250e+00\n"
          ]
        },
        {
          "output_type": "stream",
          "name": "stderr",
          "text": [
            "INFO:__main__:Iteration=181, Time=7.070312e+02, dt=3.906250e+00\n"
          ]
        },
        {
          "output_type": "stream",
          "name": "stdout",
          "text": [
            "2024-11-01 18:02:08,438 __main__ 0/1 INFO :: Iteration=181, Time=7.070312e+02, dt=3.906250e+00\n"
          ]
        },
        {
          "output_type": "stream",
          "name": "stderr",
          "text": [
            "INFO:__main__:Iteration=191, Time=7.460938e+02, dt=3.906250e+00\n"
          ]
        },
        {
          "output_type": "stream",
          "name": "stdout",
          "text": [
            "2024-11-01 18:02:08,468 __main__ 0/1 INFO :: Iteration=191, Time=7.460938e+02, dt=3.906250e+00\n"
          ]
        },
        {
          "output_type": "stream",
          "name": "stderr",
          "text": [
            "INFO:__main__:Iteration=201, Time=7.851562e+02, dt=3.906250e+00\n"
          ]
        },
        {
          "output_type": "stream",
          "name": "stdout",
          "text": [
            "2024-11-01 18:02:08,504 __main__ 0/1 INFO :: Iteration=201, Time=7.851562e+02, dt=3.906250e+00\n"
          ]
        },
        {
          "output_type": "stream",
          "name": "stderr",
          "text": [
            "INFO:__main__:Iteration=211, Time=8.242188e+02, dt=3.906250e+00\n"
          ]
        },
        {
          "output_type": "stream",
          "name": "stdout",
          "text": [
            "2024-11-01 18:02:08,534 __main__ 0/1 INFO :: Iteration=211, Time=8.242188e+02, dt=3.906250e+00\n"
          ]
        },
        {
          "output_type": "stream",
          "name": "stderr",
          "text": [
            "INFO:__main__:Iteration=221, Time=8.632812e+02, dt=3.906250e+00\n"
          ]
        },
        {
          "output_type": "stream",
          "name": "stdout",
          "text": [
            "2024-11-01 18:02:08,566 __main__ 0/1 INFO :: Iteration=221, Time=8.632812e+02, dt=3.906250e+00\n"
          ]
        },
        {
          "output_type": "stream",
          "name": "stderr",
          "text": [
            "INFO:__main__:Iteration=231, Time=9.023438e+02, dt=3.906250e+00\n"
          ]
        },
        {
          "output_type": "stream",
          "name": "stdout",
          "text": [
            "2024-11-01 18:02:08,598 __main__ 0/1 INFO :: Iteration=231, Time=9.023438e+02, dt=3.906250e+00\n"
          ]
        },
        {
          "output_type": "stream",
          "name": "stderr",
          "text": [
            "INFO:__main__:Iteration=241, Time=9.414062e+02, dt=3.906250e+00\n"
          ]
        },
        {
          "output_type": "stream",
          "name": "stdout",
          "text": [
            "2024-11-01 18:02:08,628 __main__ 0/1 INFO :: Iteration=241, Time=9.414062e+02, dt=3.906250e+00\n"
          ]
        },
        {
          "output_type": "stream",
          "name": "stderr",
          "text": [
            "INFO:__main__:Iteration=251, Time=9.804688e+02, dt=3.906250e+00\n"
          ]
        },
        {
          "output_type": "stream",
          "name": "stdout",
          "text": [
            "2024-11-01 18:02:08,662 __main__ 0/1 INFO :: Iteration=251, Time=9.804688e+02, dt=3.906250e+00\n"
          ]
        },
        {
          "output_type": "stream",
          "name": "stderr",
          "text": [
            "INFO:__main__:Iteration=261, Time=1.019531e+03, dt=3.906250e+00\n"
          ]
        },
        {
          "output_type": "stream",
          "name": "stdout",
          "text": [
            "2024-11-01 18:02:08,696 __main__ 0/1 INFO :: Iteration=261, Time=1.019531e+03, dt=3.906250e+00\n"
          ]
        },
        {
          "output_type": "stream",
          "name": "stderr",
          "text": [
            "INFO:__main__:Iteration=271, Time=1.058594e+03, dt=3.906250e+00\n"
          ]
        },
        {
          "output_type": "stream",
          "name": "stdout",
          "text": [
            "2024-11-01 18:02:08,734 __main__ 0/1 INFO :: Iteration=271, Time=1.058594e+03, dt=3.906250e+00\n"
          ]
        },
        {
          "output_type": "stream",
          "name": "stderr",
          "text": [
            "INFO:__main__:Iteration=281, Time=1.097656e+03, dt=3.906250e+00\n"
          ]
        },
        {
          "output_type": "stream",
          "name": "stdout",
          "text": [
            "2024-11-01 18:02:08,776 __main__ 0/1 INFO :: Iteration=281, Time=1.097656e+03, dt=3.906250e+00\n"
          ]
        },
        {
          "output_type": "stream",
          "name": "stderr",
          "text": [
            "INFO:__main__:Iteration=291, Time=1.136719e+03, dt=3.906250e+00\n"
          ]
        },
        {
          "output_type": "stream",
          "name": "stdout",
          "text": [
            "2024-11-01 18:02:08,814 __main__ 0/1 INFO :: Iteration=291, Time=1.136719e+03, dt=3.906250e+00\n"
          ]
        },
        {
          "output_type": "stream",
          "name": "stderr",
          "text": [
            "INFO:__main__:Iteration=301, Time=1.175781e+03, dt=3.906250e+00\n"
          ]
        },
        {
          "output_type": "stream",
          "name": "stdout",
          "text": [
            "2024-11-01 18:02:08,857 __main__ 0/1 INFO :: Iteration=301, Time=1.175781e+03, dt=3.906250e+00\n"
          ]
        },
        {
          "output_type": "stream",
          "name": "stderr",
          "text": [
            "INFO:__main__:Iteration=311, Time=1.214844e+03, dt=3.906250e+00\n"
          ]
        },
        {
          "output_type": "stream",
          "name": "stdout",
          "text": [
            "2024-11-01 18:02:08,895 __main__ 0/1 INFO :: Iteration=311, Time=1.214844e+03, dt=3.906250e+00\n"
          ]
        },
        {
          "output_type": "stream",
          "name": "stderr",
          "text": [
            "INFO:__main__:Iteration=321, Time=1.253906e+03, dt=3.906250e+00\n"
          ]
        },
        {
          "output_type": "stream",
          "name": "stdout",
          "text": [
            "2024-11-01 18:02:08,934 __main__ 0/1 INFO :: Iteration=321, Time=1.253906e+03, dt=3.906250e+00\n"
          ]
        },
        {
          "output_type": "stream",
          "name": "stderr",
          "text": [
            "INFO:__main__:Iteration=331, Time=1.292969e+03, dt=3.906250e+00\n"
          ]
        },
        {
          "output_type": "stream",
          "name": "stdout",
          "text": [
            "2024-11-01 18:02:08,974 __main__ 0/1 INFO :: Iteration=331, Time=1.292969e+03, dt=3.906250e+00\n"
          ]
        },
        {
          "output_type": "stream",
          "name": "stderr",
          "text": [
            "INFO:__main__:Iteration=341, Time=1.332031e+03, dt=3.906250e+00\n"
          ]
        },
        {
          "output_type": "stream",
          "name": "stdout",
          "text": [
            "2024-11-01 18:02:09,013 __main__ 0/1 INFO :: Iteration=341, Time=1.332031e+03, dt=3.906250e+00\n"
          ]
        },
        {
          "output_type": "stream",
          "name": "stderr",
          "text": [
            "INFO:__main__:Iteration=351, Time=1.371094e+03, dt=3.906250e+00\n"
          ]
        },
        {
          "output_type": "stream",
          "name": "stdout",
          "text": [
            "2024-11-01 18:02:09,051 __main__ 0/1 INFO :: Iteration=351, Time=1.371094e+03, dt=3.906250e+00\n"
          ]
        },
        {
          "output_type": "stream",
          "name": "stderr",
          "text": [
            "INFO:__main__:Iteration=361, Time=1.410156e+03, dt=3.906250e+00\n"
          ]
        },
        {
          "output_type": "stream",
          "name": "stdout",
          "text": [
            "2024-11-01 18:02:09,089 __main__ 0/1 INFO :: Iteration=361, Time=1.410156e+03, dt=3.906250e+00\n"
          ]
        },
        {
          "output_type": "stream",
          "name": "stderr",
          "text": [
            "INFO:__main__:Iteration=371, Time=1.449219e+03, dt=3.906250e+00\n"
          ]
        },
        {
          "output_type": "stream",
          "name": "stdout",
          "text": [
            "2024-11-01 18:02:09,125 __main__ 0/1 INFO :: Iteration=371, Time=1.449219e+03, dt=3.906250e+00\n"
          ]
        },
        {
          "output_type": "stream",
          "name": "stderr",
          "text": [
            "INFO:__main__:Iteration=381, Time=1.488281e+03, dt=3.906250e+00\n"
          ]
        },
        {
          "output_type": "stream",
          "name": "stdout",
          "text": [
            "2024-11-01 18:02:09,169 __main__ 0/1 INFO :: Iteration=381, Time=1.488281e+03, dt=3.906250e+00\n"
          ]
        },
        {
          "output_type": "stream",
          "name": "stderr",
          "text": [
            "INFO:solvers:Simulation stop time reached.\n"
          ]
        },
        {
          "output_type": "stream",
          "name": "stdout",
          "text": [
            "2024-11-01 18:02:09,185 solvers 0/1 INFO :: Simulation stop time reached.\n"
          ]
        },
        {
          "output_type": "stream",
          "name": "stderr",
          "text": [
            "INFO:solvers:Final iteration: 384\n"
          ]
        },
        {
          "output_type": "stream",
          "name": "stdout",
          "text": [
            "2024-11-01 18:02:09,190 solvers 0/1 INFO :: Final iteration: 384\n"
          ]
        },
        {
          "output_type": "stream",
          "name": "stderr",
          "text": [
            "INFO:solvers:Final sim time: 1500.0\n"
          ]
        },
        {
          "output_type": "stream",
          "name": "stdout",
          "text": [
            "2024-11-01 18:02:09,194 solvers 0/1 INFO :: Final sim time: 1500.0\n"
          ]
        },
        {
          "output_type": "stream",
          "name": "stderr",
          "text": [
            "INFO:solvers:Setup time (init - iter 0): 0.8252 sec\n"
          ]
        },
        {
          "output_type": "stream",
          "name": "stdout",
          "text": [
            "2024-11-01 18:02:09,197 solvers 0/1 INFO :: Setup time (init - iter 0): 0.8252 sec\n"
          ]
        },
        {
          "output_type": "stream",
          "name": "stderr",
          "text": [
            "INFO:solvers:Warmup time (iter 0-10): 0.06116 sec\n"
          ]
        },
        {
          "output_type": "stream",
          "name": "stdout",
          "text": [
            "2024-11-01 18:02:09,201 solvers 0/1 INFO :: Warmup time (iter 0-10): 0.06116 sec\n"
          ]
        },
        {
          "output_type": "stream",
          "name": "stderr",
          "text": [
            "INFO:solvers:Run time (iter 10-end): 1.311 sec\n"
          ]
        },
        {
          "output_type": "stream",
          "name": "stdout",
          "text": [
            "2024-11-01 18:02:09,204 solvers 0/1 INFO :: Run time (iter 10-end): 1.311 sec\n"
          ]
        },
        {
          "output_type": "stream",
          "name": "stderr",
          "text": [
            "INFO:solvers:CPU time (iter 10-end): 0.0003642 cpu-hr\n"
          ]
        },
        {
          "output_type": "stream",
          "name": "stdout",
          "text": [
            "2024-11-01 18:02:09,207 solvers 0/1 INFO :: CPU time (iter 10-end): 0.0003642 cpu-hr\n"
          ]
        },
        {
          "output_type": "stream",
          "name": "stderr",
          "text": [
            "INFO:solvers:Speed: 4.947e+06 mode-stages/cpu-sec\n"
          ]
        },
        {
          "output_type": "stream",
          "name": "stdout",
          "text": [
            "2024-11-01 18:02:09,210 solvers 0/1 INFO :: Speed: 4.947e+06 mode-stages/cpu-sec\n"
          ]
        },
        {
          "output_type": "stream",
          "name": "stderr",
          "text": [
            "INFO:subsystems:Building subproblem matrices 1/1 (~100%) Elapsed: 0s, Remaining: 0s, Rate: 3.5e+00/s\n"
          ]
        },
        {
          "output_type": "stream",
          "name": "stdout",
          "text": [
            "2024-11-01 18:02:09,596 subsystems 0/1 INFO :: Building subproblem matrices 1/1 (~100%) Elapsed: 0s, Remaining: 0s, Rate: 3.5e+00/s\n"
          ]
        },
        {
          "output_type": "stream",
          "name": "stderr",
          "text": [
            "INFO:__main__:Starting main loop\n"
          ]
        },
        {
          "output_type": "stream",
          "name": "stdout",
          "text": [
            "2024-11-01 18:02:09,603 __main__ 0/1 INFO :: Starting main loop\n"
          ]
        },
        {
          "output_type": "stream",
          "name": "stderr",
          "text": [
            "INFO:__main__:Iteration=1, Time=1.953125e+00, dt=1.953125e+00\n"
          ]
        },
        {
          "output_type": "stream",
          "name": "stdout",
          "text": [
            "2024-11-01 18:02:09,648 __main__ 0/1 INFO :: Iteration=1, Time=1.953125e+00, dt=1.953125e+00\n"
          ]
        },
        {
          "output_type": "stream",
          "name": "stderr",
          "text": [
            "INFO:__main__:Iteration=11, Time=2.148438e+01, dt=1.953125e+00\n"
          ]
        },
        {
          "output_type": "stream",
          "name": "stdout",
          "text": [
            "2024-11-01 18:02:09,679 __main__ 0/1 INFO :: Iteration=11, Time=2.148438e+01, dt=1.953125e+00\n"
          ]
        },
        {
          "output_type": "stream",
          "name": "stderr",
          "text": [
            "INFO:__main__:Iteration=21, Time=4.101562e+01, dt=1.953125e+00\n"
          ]
        },
        {
          "output_type": "stream",
          "name": "stdout",
          "text": [
            "2024-11-01 18:02:09,715 __main__ 0/1 INFO :: Iteration=21, Time=4.101562e+01, dt=1.953125e+00\n"
          ]
        },
        {
          "output_type": "stream",
          "name": "stderr",
          "text": [
            "INFO:__main__:Iteration=31, Time=6.054688e+01, dt=1.953125e+00\n"
          ]
        },
        {
          "output_type": "stream",
          "name": "stdout",
          "text": [
            "2024-11-01 18:02:09,748 __main__ 0/1 INFO :: Iteration=31, Time=6.054688e+01, dt=1.953125e+00\n"
          ]
        },
        {
          "output_type": "stream",
          "name": "stderr",
          "text": [
            "INFO:__main__:Iteration=41, Time=8.007812e+01, dt=1.953125e+00\n"
          ]
        },
        {
          "output_type": "stream",
          "name": "stdout",
          "text": [
            "2024-11-01 18:02:09,789 __main__ 0/1 INFO :: Iteration=41, Time=8.007812e+01, dt=1.953125e+00\n"
          ]
        },
        {
          "output_type": "stream",
          "name": "stderr",
          "text": [
            "INFO:__main__:Iteration=51, Time=9.960938e+01, dt=1.953125e+00\n"
          ]
        },
        {
          "output_type": "stream",
          "name": "stdout",
          "text": [
            "2024-11-01 18:02:09,831 __main__ 0/1 INFO :: Iteration=51, Time=9.960938e+01, dt=1.953125e+00\n"
          ]
        },
        {
          "output_type": "stream",
          "name": "stderr",
          "text": [
            "INFO:__main__:Iteration=61, Time=1.191406e+02, dt=1.953125e+00\n"
          ]
        },
        {
          "output_type": "stream",
          "name": "stdout",
          "text": [
            "2024-11-01 18:02:09,871 __main__ 0/1 INFO :: Iteration=61, Time=1.191406e+02, dt=1.953125e+00\n"
          ]
        },
        {
          "output_type": "stream",
          "name": "stderr",
          "text": [
            "INFO:__main__:Iteration=71, Time=1.386719e+02, dt=1.953125e+00\n"
          ]
        },
        {
          "output_type": "stream",
          "name": "stdout",
          "text": [
            "2024-11-01 18:02:09,906 __main__ 0/1 INFO :: Iteration=71, Time=1.386719e+02, dt=1.953125e+00\n"
          ]
        },
        {
          "output_type": "stream",
          "name": "stderr",
          "text": [
            "INFO:__main__:Iteration=81, Time=1.582031e+02, dt=1.953125e+00\n"
          ]
        },
        {
          "output_type": "stream",
          "name": "stdout",
          "text": [
            "2024-11-01 18:02:09,938 __main__ 0/1 INFO :: Iteration=81, Time=1.582031e+02, dt=1.953125e+00\n"
          ]
        },
        {
          "output_type": "stream",
          "name": "stderr",
          "text": [
            "INFO:__main__:Iteration=91, Time=1.777344e+02, dt=1.953125e+00\n"
          ]
        },
        {
          "output_type": "stream",
          "name": "stdout",
          "text": [
            "2024-11-01 18:02:09,974 __main__ 0/1 INFO :: Iteration=91, Time=1.777344e+02, dt=1.953125e+00\n"
          ]
        },
        {
          "output_type": "stream",
          "name": "stderr",
          "text": [
            "INFO:__main__:Iteration=101, Time=1.972656e+02, dt=1.953125e+00\n"
          ]
        },
        {
          "output_type": "stream",
          "name": "stdout",
          "text": [
            "2024-11-01 18:02:10,007 __main__ 0/1 INFO :: Iteration=101, Time=1.972656e+02, dt=1.953125e+00\n"
          ]
        },
        {
          "output_type": "stream",
          "name": "stderr",
          "text": [
            "INFO:__main__:Iteration=111, Time=2.167969e+02, dt=1.953125e+00\n"
          ]
        },
        {
          "output_type": "stream",
          "name": "stdout",
          "text": [
            "2024-11-01 18:02:10,041 __main__ 0/1 INFO :: Iteration=111, Time=2.167969e+02, dt=1.953125e+00\n"
          ]
        },
        {
          "output_type": "stream",
          "name": "stderr",
          "text": [
            "INFO:__main__:Iteration=121, Time=2.363281e+02, dt=1.953125e+00\n"
          ]
        },
        {
          "output_type": "stream",
          "name": "stdout",
          "text": [
            "2024-11-01 18:02:10,078 __main__ 0/1 INFO :: Iteration=121, Time=2.363281e+02, dt=1.953125e+00\n"
          ]
        },
        {
          "output_type": "stream",
          "name": "stderr",
          "text": [
            "INFO:__main__:Iteration=131, Time=2.558594e+02, dt=1.953125e+00\n"
          ]
        },
        {
          "output_type": "stream",
          "name": "stdout",
          "text": [
            "2024-11-01 18:02:10,110 __main__ 0/1 INFO :: Iteration=131, Time=2.558594e+02, dt=1.953125e+00\n"
          ]
        },
        {
          "output_type": "stream",
          "name": "stderr",
          "text": [
            "INFO:__main__:Iteration=141, Time=2.753906e+02, dt=1.953125e+00\n"
          ]
        },
        {
          "output_type": "stream",
          "name": "stdout",
          "text": [
            "2024-11-01 18:02:10,144 __main__ 0/1 INFO :: Iteration=141, Time=2.753906e+02, dt=1.953125e+00\n"
          ]
        },
        {
          "output_type": "stream",
          "name": "stderr",
          "text": [
            "INFO:__main__:Iteration=151, Time=2.949219e+02, dt=1.953125e+00\n"
          ]
        },
        {
          "output_type": "stream",
          "name": "stdout",
          "text": [
            "2024-11-01 18:02:10,178 __main__ 0/1 INFO :: Iteration=151, Time=2.949219e+02, dt=1.953125e+00\n"
          ]
        },
        {
          "output_type": "stream",
          "name": "stderr",
          "text": [
            "INFO:__main__:Iteration=161, Time=3.144531e+02, dt=1.953125e+00\n"
          ]
        },
        {
          "output_type": "stream",
          "name": "stdout",
          "text": [
            "2024-11-01 18:02:10,213 __main__ 0/1 INFO :: Iteration=161, Time=3.144531e+02, dt=1.953125e+00\n"
          ]
        },
        {
          "output_type": "stream",
          "name": "stderr",
          "text": [
            "INFO:__main__:Iteration=171, Time=3.339844e+02, dt=1.953125e+00\n"
          ]
        },
        {
          "output_type": "stream",
          "name": "stdout",
          "text": [
            "2024-11-01 18:02:10,246 __main__ 0/1 INFO :: Iteration=171, Time=3.339844e+02, dt=1.953125e+00\n"
          ]
        },
        {
          "output_type": "stream",
          "name": "stderr",
          "text": [
            "INFO:__main__:Iteration=181, Time=3.535156e+02, dt=1.953125e+00\n"
          ]
        },
        {
          "output_type": "stream",
          "name": "stdout",
          "text": [
            "2024-11-01 18:02:10,276 __main__ 0/1 INFO :: Iteration=181, Time=3.535156e+02, dt=1.953125e+00\n"
          ]
        },
        {
          "output_type": "stream",
          "name": "stderr",
          "text": [
            "INFO:__main__:Iteration=191, Time=3.730469e+02, dt=1.953125e+00\n"
          ]
        },
        {
          "output_type": "stream",
          "name": "stdout",
          "text": [
            "2024-11-01 18:02:10,310 __main__ 0/1 INFO :: Iteration=191, Time=3.730469e+02, dt=1.953125e+00\n"
          ]
        },
        {
          "output_type": "stream",
          "name": "stderr",
          "text": [
            "INFO:__main__:Iteration=201, Time=3.925781e+02, dt=1.953125e+00\n"
          ]
        },
        {
          "output_type": "stream",
          "name": "stdout",
          "text": [
            "2024-11-01 18:02:10,346 __main__ 0/1 INFO :: Iteration=201, Time=3.925781e+02, dt=1.953125e+00\n"
          ]
        },
        {
          "output_type": "stream",
          "name": "stderr",
          "text": [
            "INFO:__main__:Iteration=211, Time=4.121094e+02, dt=1.953125e+00\n"
          ]
        },
        {
          "output_type": "stream",
          "name": "stdout",
          "text": [
            "2024-11-01 18:02:10,380 __main__ 0/1 INFO :: Iteration=211, Time=4.121094e+02, dt=1.953125e+00\n"
          ]
        },
        {
          "output_type": "stream",
          "name": "stderr",
          "text": [
            "INFO:__main__:Iteration=221, Time=4.316406e+02, dt=1.953125e+00\n"
          ]
        },
        {
          "output_type": "stream",
          "name": "stdout",
          "text": [
            "2024-11-01 18:02:10,416 __main__ 0/1 INFO :: Iteration=221, Time=4.316406e+02, dt=1.953125e+00\n"
          ]
        },
        {
          "output_type": "stream",
          "name": "stderr",
          "text": [
            "INFO:__main__:Iteration=231, Time=4.511719e+02, dt=1.953125e+00\n"
          ]
        },
        {
          "output_type": "stream",
          "name": "stdout",
          "text": [
            "2024-11-01 18:02:10,463 __main__ 0/1 INFO :: Iteration=231, Time=4.511719e+02, dt=1.953125e+00\n"
          ]
        },
        {
          "output_type": "stream",
          "name": "stderr",
          "text": [
            "INFO:__main__:Iteration=241, Time=4.707031e+02, dt=1.953125e+00\n"
          ]
        },
        {
          "output_type": "stream",
          "name": "stdout",
          "text": [
            "2024-11-01 18:02:10,494 __main__ 0/1 INFO :: Iteration=241, Time=4.707031e+02, dt=1.953125e+00\n"
          ]
        },
        {
          "output_type": "stream",
          "name": "stderr",
          "text": [
            "INFO:__main__:Iteration=251, Time=4.902344e+02, dt=1.953125e+00\n"
          ]
        },
        {
          "output_type": "stream",
          "name": "stdout",
          "text": [
            "2024-11-01 18:02:10,527 __main__ 0/1 INFO :: Iteration=251, Time=4.902344e+02, dt=1.953125e+00\n"
          ]
        },
        {
          "output_type": "stream",
          "name": "stderr",
          "text": [
            "INFO:__main__:Iteration=261, Time=5.097656e+02, dt=1.953125e+00\n"
          ]
        },
        {
          "output_type": "stream",
          "name": "stdout",
          "text": [
            "2024-11-01 18:02:10,558 __main__ 0/1 INFO :: Iteration=261, Time=5.097656e+02, dt=1.953125e+00\n"
          ]
        },
        {
          "output_type": "stream",
          "name": "stderr",
          "text": [
            "INFO:__main__:Iteration=271, Time=5.292969e+02, dt=1.953125e+00\n"
          ]
        },
        {
          "output_type": "stream",
          "name": "stdout",
          "text": [
            "2024-11-01 18:02:10,594 __main__ 0/1 INFO :: Iteration=271, Time=5.292969e+02, dt=1.953125e+00\n"
          ]
        },
        {
          "output_type": "stream",
          "name": "stderr",
          "text": [
            "INFO:__main__:Iteration=281, Time=5.488281e+02, dt=1.953125e+00\n"
          ]
        },
        {
          "output_type": "stream",
          "name": "stdout",
          "text": [
            "2024-11-01 18:02:10,625 __main__ 0/1 INFO :: Iteration=281, Time=5.488281e+02, dt=1.953125e+00\n"
          ]
        },
        {
          "output_type": "stream",
          "name": "stderr",
          "text": [
            "INFO:__main__:Iteration=291, Time=5.683594e+02, dt=1.953125e+00\n"
          ]
        },
        {
          "output_type": "stream",
          "name": "stdout",
          "text": [
            "2024-11-01 18:02:10,662 __main__ 0/1 INFO :: Iteration=291, Time=5.683594e+02, dt=1.953125e+00\n"
          ]
        },
        {
          "output_type": "stream",
          "name": "stderr",
          "text": [
            "INFO:__main__:Iteration=301, Time=5.878906e+02, dt=1.953125e+00\n"
          ]
        },
        {
          "output_type": "stream",
          "name": "stdout",
          "text": [
            "2024-11-01 18:02:10,697 __main__ 0/1 INFO :: Iteration=301, Time=5.878906e+02, dt=1.953125e+00\n"
          ]
        },
        {
          "output_type": "stream",
          "name": "stderr",
          "text": [
            "INFO:__main__:Iteration=311, Time=6.074219e+02, dt=1.953125e+00\n"
          ]
        },
        {
          "output_type": "stream",
          "name": "stdout",
          "text": [
            "2024-11-01 18:02:10,733 __main__ 0/1 INFO :: Iteration=311, Time=6.074219e+02, dt=1.953125e+00\n"
          ]
        },
        {
          "output_type": "stream",
          "name": "stderr",
          "text": [
            "INFO:__main__:Iteration=321, Time=6.269531e+02, dt=1.953125e+00\n"
          ]
        },
        {
          "output_type": "stream",
          "name": "stdout",
          "text": [
            "2024-11-01 18:02:10,774 __main__ 0/1 INFO :: Iteration=321, Time=6.269531e+02, dt=1.953125e+00\n"
          ]
        },
        {
          "output_type": "stream",
          "name": "stderr",
          "text": [
            "INFO:__main__:Iteration=331, Time=6.464844e+02, dt=1.953125e+00\n"
          ]
        },
        {
          "output_type": "stream",
          "name": "stdout",
          "text": [
            "2024-11-01 18:02:10,818 __main__ 0/1 INFO :: Iteration=331, Time=6.464844e+02, dt=1.953125e+00\n"
          ]
        },
        {
          "output_type": "stream",
          "name": "stderr",
          "text": [
            "INFO:__main__:Iteration=341, Time=6.660156e+02, dt=1.953125e+00\n"
          ]
        },
        {
          "output_type": "stream",
          "name": "stdout",
          "text": [
            "2024-11-01 18:02:10,859 __main__ 0/1 INFO :: Iteration=341, Time=6.660156e+02, dt=1.953125e+00\n"
          ]
        },
        {
          "output_type": "stream",
          "name": "stderr",
          "text": [
            "INFO:__main__:Iteration=351, Time=6.855469e+02, dt=1.953125e+00\n"
          ]
        },
        {
          "output_type": "stream",
          "name": "stdout",
          "text": [
            "2024-11-01 18:02:10,893 __main__ 0/1 INFO :: Iteration=351, Time=6.855469e+02, dt=1.953125e+00\n"
          ]
        },
        {
          "output_type": "stream",
          "name": "stderr",
          "text": [
            "INFO:__main__:Iteration=361, Time=7.050781e+02, dt=1.953125e+00\n"
          ]
        },
        {
          "output_type": "stream",
          "name": "stdout",
          "text": [
            "2024-11-01 18:02:10,929 __main__ 0/1 INFO :: Iteration=361, Time=7.050781e+02, dt=1.953125e+00\n"
          ]
        },
        {
          "output_type": "stream",
          "name": "stderr",
          "text": [
            "INFO:__main__:Iteration=371, Time=7.246094e+02, dt=1.953125e+00\n"
          ]
        },
        {
          "output_type": "stream",
          "name": "stdout",
          "text": [
            "2024-11-01 18:02:10,975 __main__ 0/1 INFO :: Iteration=371, Time=7.246094e+02, dt=1.953125e+00\n"
          ]
        },
        {
          "output_type": "stream",
          "name": "stderr",
          "text": [
            "INFO:__main__:Iteration=381, Time=7.441406e+02, dt=1.953125e+00\n"
          ]
        },
        {
          "output_type": "stream",
          "name": "stdout",
          "text": [
            "2024-11-01 18:02:11,014 __main__ 0/1 INFO :: Iteration=381, Time=7.441406e+02, dt=1.953125e+00\n"
          ]
        },
        {
          "output_type": "stream",
          "name": "stderr",
          "text": [
            "INFO:__main__:Iteration=391, Time=7.636719e+02, dt=1.953125e+00\n"
          ]
        },
        {
          "output_type": "stream",
          "name": "stdout",
          "text": [
            "2024-11-01 18:02:11,055 __main__ 0/1 INFO :: Iteration=391, Time=7.636719e+02, dt=1.953125e+00\n"
          ]
        },
        {
          "output_type": "stream",
          "name": "stderr",
          "text": [
            "INFO:__main__:Iteration=401, Time=7.832031e+02, dt=1.953125e+00\n"
          ]
        },
        {
          "output_type": "stream",
          "name": "stdout",
          "text": [
            "2024-11-01 18:02:11,097 __main__ 0/1 INFO :: Iteration=401, Time=7.832031e+02, dt=1.953125e+00\n"
          ]
        },
        {
          "output_type": "stream",
          "name": "stderr",
          "text": [
            "INFO:__main__:Iteration=411, Time=8.027344e+02, dt=1.953125e+00\n"
          ]
        },
        {
          "output_type": "stream",
          "name": "stdout",
          "text": [
            "2024-11-01 18:02:11,136 __main__ 0/1 INFO :: Iteration=411, Time=8.027344e+02, dt=1.953125e+00\n"
          ]
        },
        {
          "output_type": "stream",
          "name": "stderr",
          "text": [
            "INFO:__main__:Iteration=421, Time=8.222656e+02, dt=1.953125e+00\n"
          ]
        },
        {
          "output_type": "stream",
          "name": "stdout",
          "text": [
            "2024-11-01 18:02:11,175 __main__ 0/1 INFO :: Iteration=421, Time=8.222656e+02, dt=1.953125e+00\n"
          ]
        },
        {
          "output_type": "stream",
          "name": "stderr",
          "text": [
            "INFO:__main__:Iteration=431, Time=8.417969e+02, dt=1.953125e+00\n"
          ]
        },
        {
          "output_type": "stream",
          "name": "stdout",
          "text": [
            "2024-11-01 18:02:11,221 __main__ 0/1 INFO :: Iteration=431, Time=8.417969e+02, dt=1.953125e+00\n"
          ]
        },
        {
          "output_type": "stream",
          "name": "stderr",
          "text": [
            "INFO:__main__:Iteration=441, Time=8.613281e+02, dt=1.953125e+00\n"
          ]
        },
        {
          "output_type": "stream",
          "name": "stdout",
          "text": [
            "2024-11-01 18:02:11,259 __main__ 0/1 INFO :: Iteration=441, Time=8.613281e+02, dt=1.953125e+00\n"
          ]
        },
        {
          "output_type": "stream",
          "name": "stderr",
          "text": [
            "INFO:__main__:Iteration=451, Time=8.808594e+02, dt=1.953125e+00\n"
          ]
        },
        {
          "output_type": "stream",
          "name": "stdout",
          "text": [
            "2024-11-01 18:02:11,295 __main__ 0/1 INFO :: Iteration=451, Time=8.808594e+02, dt=1.953125e+00\n"
          ]
        },
        {
          "output_type": "stream",
          "name": "stderr",
          "text": [
            "INFO:__main__:Iteration=461, Time=9.003906e+02, dt=1.953125e+00\n"
          ]
        },
        {
          "output_type": "stream",
          "name": "stdout",
          "text": [
            "2024-11-01 18:02:11,333 __main__ 0/1 INFO :: Iteration=461, Time=9.003906e+02, dt=1.953125e+00\n"
          ]
        },
        {
          "output_type": "stream",
          "name": "stderr",
          "text": [
            "INFO:__main__:Iteration=471, Time=9.199219e+02, dt=1.953125e+00\n"
          ]
        },
        {
          "output_type": "stream",
          "name": "stdout",
          "text": [
            "2024-11-01 18:02:11,364 __main__ 0/1 INFO :: Iteration=471, Time=9.199219e+02, dt=1.953125e+00\n"
          ]
        },
        {
          "output_type": "stream",
          "name": "stderr",
          "text": [
            "INFO:__main__:Iteration=481, Time=9.394531e+02, dt=1.953125e+00\n"
          ]
        },
        {
          "output_type": "stream",
          "name": "stdout",
          "text": [
            "2024-11-01 18:02:11,399 __main__ 0/1 INFO :: Iteration=481, Time=9.394531e+02, dt=1.953125e+00\n"
          ]
        },
        {
          "output_type": "stream",
          "name": "stderr",
          "text": [
            "INFO:__main__:Iteration=491, Time=9.589844e+02, dt=1.953125e+00\n"
          ]
        },
        {
          "output_type": "stream",
          "name": "stdout",
          "text": [
            "2024-11-01 18:02:11,431 __main__ 0/1 INFO :: Iteration=491, Time=9.589844e+02, dt=1.953125e+00\n"
          ]
        },
        {
          "output_type": "stream",
          "name": "stderr",
          "text": [
            "INFO:__main__:Iteration=501, Time=9.785156e+02, dt=1.953125e+00\n"
          ]
        },
        {
          "output_type": "stream",
          "name": "stdout",
          "text": [
            "2024-11-01 18:02:11,472 __main__ 0/1 INFO :: Iteration=501, Time=9.785156e+02, dt=1.953125e+00\n"
          ]
        },
        {
          "output_type": "stream",
          "name": "stderr",
          "text": [
            "INFO:__main__:Iteration=511, Time=9.980469e+02, dt=1.953125e+00\n"
          ]
        },
        {
          "output_type": "stream",
          "name": "stdout",
          "text": [
            "2024-11-01 18:02:11,508 __main__ 0/1 INFO :: Iteration=511, Time=9.980469e+02, dt=1.953125e+00\n"
          ]
        },
        {
          "output_type": "stream",
          "name": "stderr",
          "text": [
            "INFO:__main__:Iteration=521, Time=1.017578e+03, dt=1.953125e+00\n"
          ]
        },
        {
          "output_type": "stream",
          "name": "stdout",
          "text": [
            "2024-11-01 18:02:11,540 __main__ 0/1 INFO :: Iteration=521, Time=1.017578e+03, dt=1.953125e+00\n"
          ]
        },
        {
          "output_type": "stream",
          "name": "stderr",
          "text": [
            "INFO:__main__:Iteration=531, Time=1.037109e+03, dt=1.953125e+00\n"
          ]
        },
        {
          "output_type": "stream",
          "name": "stdout",
          "text": [
            "2024-11-01 18:02:11,574 __main__ 0/1 INFO :: Iteration=531, Time=1.037109e+03, dt=1.953125e+00\n"
          ]
        },
        {
          "output_type": "stream",
          "name": "stderr",
          "text": [
            "INFO:__main__:Iteration=541, Time=1.056641e+03, dt=1.953125e+00\n"
          ]
        },
        {
          "output_type": "stream",
          "name": "stdout",
          "text": [
            "2024-11-01 18:02:11,610 __main__ 0/1 INFO :: Iteration=541, Time=1.056641e+03, dt=1.953125e+00\n"
          ]
        },
        {
          "output_type": "stream",
          "name": "stderr",
          "text": [
            "INFO:__main__:Iteration=551, Time=1.076172e+03, dt=1.953125e+00\n"
          ]
        },
        {
          "output_type": "stream",
          "name": "stdout",
          "text": [
            "2024-11-01 18:02:11,641 __main__ 0/1 INFO :: Iteration=551, Time=1.076172e+03, dt=1.953125e+00\n"
          ]
        },
        {
          "output_type": "stream",
          "name": "stderr",
          "text": [
            "INFO:__main__:Iteration=561, Time=1.095703e+03, dt=1.953125e+00\n"
          ]
        },
        {
          "output_type": "stream",
          "name": "stdout",
          "text": [
            "2024-11-01 18:02:11,678 __main__ 0/1 INFO :: Iteration=561, Time=1.095703e+03, dt=1.953125e+00\n"
          ]
        },
        {
          "output_type": "stream",
          "name": "stderr",
          "text": [
            "INFO:__main__:Iteration=571, Time=1.115234e+03, dt=1.953125e+00\n"
          ]
        },
        {
          "output_type": "stream",
          "name": "stdout",
          "text": [
            "2024-11-01 18:02:11,714 __main__ 0/1 INFO :: Iteration=571, Time=1.115234e+03, dt=1.953125e+00\n"
          ]
        },
        {
          "output_type": "stream",
          "name": "stderr",
          "text": [
            "INFO:__main__:Iteration=581, Time=1.134766e+03, dt=1.953125e+00\n"
          ]
        },
        {
          "output_type": "stream",
          "name": "stdout",
          "text": [
            "2024-11-01 18:02:11,748 __main__ 0/1 INFO :: Iteration=581, Time=1.134766e+03, dt=1.953125e+00\n"
          ]
        },
        {
          "output_type": "stream",
          "name": "stderr",
          "text": [
            "INFO:__main__:Iteration=591, Time=1.154297e+03, dt=1.953125e+00\n"
          ]
        },
        {
          "output_type": "stream",
          "name": "stdout",
          "text": [
            "2024-11-01 18:02:11,790 __main__ 0/1 INFO :: Iteration=591, Time=1.154297e+03, dt=1.953125e+00\n"
          ]
        },
        {
          "output_type": "stream",
          "name": "stderr",
          "text": [
            "INFO:__main__:Iteration=601, Time=1.173828e+03, dt=1.953125e+00\n"
          ]
        },
        {
          "output_type": "stream",
          "name": "stdout",
          "text": [
            "2024-11-01 18:02:11,832 __main__ 0/1 INFO :: Iteration=601, Time=1.173828e+03, dt=1.953125e+00\n"
          ]
        },
        {
          "output_type": "stream",
          "name": "stderr",
          "text": [
            "INFO:__main__:Iteration=611, Time=1.193359e+03, dt=1.953125e+00\n"
          ]
        },
        {
          "output_type": "stream",
          "name": "stdout",
          "text": [
            "2024-11-01 18:02:11,873 __main__ 0/1 INFO :: Iteration=611, Time=1.193359e+03, dt=1.953125e+00\n"
          ]
        },
        {
          "output_type": "stream",
          "name": "stderr",
          "text": [
            "INFO:__main__:Iteration=621, Time=1.212891e+03, dt=1.953125e+00\n"
          ]
        },
        {
          "output_type": "stream",
          "name": "stdout",
          "text": [
            "2024-11-01 18:02:11,912 __main__ 0/1 INFO :: Iteration=621, Time=1.212891e+03, dt=1.953125e+00\n"
          ]
        },
        {
          "output_type": "stream",
          "name": "stderr",
          "text": [
            "INFO:__main__:Iteration=631, Time=1.232422e+03, dt=1.953125e+00\n"
          ]
        },
        {
          "output_type": "stream",
          "name": "stdout",
          "text": [
            "2024-11-01 18:02:11,960 __main__ 0/1 INFO :: Iteration=631, Time=1.232422e+03, dt=1.953125e+00\n"
          ]
        },
        {
          "output_type": "stream",
          "name": "stderr",
          "text": [
            "INFO:__main__:Iteration=641, Time=1.251953e+03, dt=1.953125e+00\n"
          ]
        },
        {
          "output_type": "stream",
          "name": "stdout",
          "text": [
            "2024-11-01 18:02:11,991 __main__ 0/1 INFO :: Iteration=641, Time=1.251953e+03, dt=1.953125e+00\n"
          ]
        },
        {
          "output_type": "stream",
          "name": "stderr",
          "text": [
            "INFO:__main__:Iteration=651, Time=1.271484e+03, dt=1.953125e+00\n"
          ]
        },
        {
          "output_type": "stream",
          "name": "stdout",
          "text": [
            "2024-11-01 18:02:12,026 __main__ 0/1 INFO :: Iteration=651, Time=1.271484e+03, dt=1.953125e+00\n"
          ]
        },
        {
          "output_type": "stream",
          "name": "stderr",
          "text": [
            "INFO:__main__:Iteration=661, Time=1.291016e+03, dt=1.953125e+00\n"
          ]
        },
        {
          "output_type": "stream",
          "name": "stdout",
          "text": [
            "2024-11-01 18:02:12,060 __main__ 0/1 INFO :: Iteration=661, Time=1.291016e+03, dt=1.953125e+00\n"
          ]
        },
        {
          "output_type": "stream",
          "name": "stderr",
          "text": [
            "INFO:__main__:Iteration=671, Time=1.310547e+03, dt=1.953125e+00\n"
          ]
        },
        {
          "output_type": "stream",
          "name": "stdout",
          "text": [
            "2024-11-01 18:02:12,092 __main__ 0/1 INFO :: Iteration=671, Time=1.310547e+03, dt=1.953125e+00\n"
          ]
        },
        {
          "output_type": "stream",
          "name": "stderr",
          "text": [
            "INFO:__main__:Iteration=681, Time=1.330078e+03, dt=1.953125e+00\n"
          ]
        },
        {
          "output_type": "stream",
          "name": "stdout",
          "text": [
            "2024-11-01 18:02:12,129 __main__ 0/1 INFO :: Iteration=681, Time=1.330078e+03, dt=1.953125e+00\n"
          ]
        },
        {
          "output_type": "stream",
          "name": "stderr",
          "text": [
            "INFO:__main__:Iteration=691, Time=1.349609e+03, dt=1.953125e+00\n"
          ]
        },
        {
          "output_type": "stream",
          "name": "stdout",
          "text": [
            "2024-11-01 18:02:12,166 __main__ 0/1 INFO :: Iteration=691, Time=1.349609e+03, dt=1.953125e+00\n"
          ]
        },
        {
          "output_type": "stream",
          "name": "stderr",
          "text": [
            "INFO:__main__:Iteration=701, Time=1.369141e+03, dt=1.953125e+00\n"
          ]
        },
        {
          "output_type": "stream",
          "name": "stdout",
          "text": [
            "2024-11-01 18:02:12,200 __main__ 0/1 INFO :: Iteration=701, Time=1.369141e+03, dt=1.953125e+00\n"
          ]
        },
        {
          "output_type": "stream",
          "name": "stderr",
          "text": [
            "INFO:__main__:Iteration=711, Time=1.388672e+03, dt=1.953125e+00\n"
          ]
        },
        {
          "output_type": "stream",
          "name": "stdout",
          "text": [
            "2024-11-01 18:02:12,234 __main__ 0/1 INFO :: Iteration=711, Time=1.388672e+03, dt=1.953125e+00\n"
          ]
        },
        {
          "output_type": "stream",
          "name": "stderr",
          "text": [
            "INFO:__main__:Iteration=721, Time=1.408203e+03, dt=1.953125e+00\n"
          ]
        },
        {
          "output_type": "stream",
          "name": "stdout",
          "text": [
            "2024-11-01 18:02:12,268 __main__ 0/1 INFO :: Iteration=721, Time=1.408203e+03, dt=1.953125e+00\n"
          ]
        },
        {
          "output_type": "stream",
          "name": "stderr",
          "text": [
            "INFO:__main__:Iteration=731, Time=1.427734e+03, dt=1.953125e+00\n"
          ]
        },
        {
          "output_type": "stream",
          "name": "stdout",
          "text": [
            "2024-11-01 18:02:12,300 __main__ 0/1 INFO :: Iteration=731, Time=1.427734e+03, dt=1.953125e+00\n"
          ]
        },
        {
          "output_type": "stream",
          "name": "stderr",
          "text": [
            "INFO:__main__:Iteration=741, Time=1.447266e+03, dt=1.953125e+00\n"
          ]
        },
        {
          "output_type": "stream",
          "name": "stdout",
          "text": [
            "2024-11-01 18:02:12,333 __main__ 0/1 INFO :: Iteration=741, Time=1.447266e+03, dt=1.953125e+00\n"
          ]
        },
        {
          "output_type": "stream",
          "name": "stderr",
          "text": [
            "INFO:__main__:Iteration=751, Time=1.466797e+03, dt=1.953125e+00\n"
          ]
        },
        {
          "output_type": "stream",
          "name": "stdout",
          "text": [
            "2024-11-01 18:02:12,366 __main__ 0/1 INFO :: Iteration=751, Time=1.466797e+03, dt=1.953125e+00\n"
          ]
        },
        {
          "output_type": "stream",
          "name": "stderr",
          "text": [
            "INFO:__main__:Iteration=761, Time=1.486328e+03, dt=1.953125e+00\n"
          ]
        },
        {
          "output_type": "stream",
          "name": "stdout",
          "text": [
            "2024-11-01 18:02:12,402 __main__ 0/1 INFO :: Iteration=761, Time=1.486328e+03, dt=1.953125e+00\n"
          ]
        },
        {
          "output_type": "stream",
          "name": "stderr",
          "text": [
            "INFO:solvers:Simulation stop time reached.\n"
          ]
        },
        {
          "output_type": "stream",
          "name": "stdout",
          "text": [
            "2024-11-01 18:02:12,427 solvers 0/1 INFO :: Simulation stop time reached.\n"
          ]
        },
        {
          "output_type": "stream",
          "name": "stderr",
          "text": [
            "INFO:solvers:Final iteration: 768\n"
          ]
        },
        {
          "output_type": "stream",
          "name": "stdout",
          "text": [
            "2024-11-01 18:02:12,431 solvers 0/1 INFO :: Final iteration: 768\n"
          ]
        },
        {
          "output_type": "stream",
          "name": "stderr",
          "text": [
            "INFO:solvers:Final sim time: 1500.0\n"
          ]
        },
        {
          "output_type": "stream",
          "name": "stdout",
          "text": [
            "2024-11-01 18:02:12,437 solvers 0/1 INFO :: Final sim time: 1500.0\n"
          ]
        },
        {
          "output_type": "stream",
          "name": "stderr",
          "text": [
            "INFO:solvers:Setup time (init - iter 0): 0.3502 sec\n"
          ]
        },
        {
          "output_type": "stream",
          "name": "stdout",
          "text": [
            "2024-11-01 18:02:12,440 solvers 0/1 INFO :: Setup time (init - iter 0): 0.3502 sec\n"
          ]
        },
        {
          "output_type": "stream",
          "name": "stderr",
          "text": [
            "INFO:solvers:Warmup time (iter 0-10): 0.06336 sec\n"
          ]
        },
        {
          "output_type": "stream",
          "name": "stdout",
          "text": [
            "2024-11-01 18:02:12,442 solvers 0/1 INFO :: Warmup time (iter 0-10): 0.06336 sec\n"
          ]
        },
        {
          "output_type": "stream",
          "name": "stderr",
          "text": [
            "INFO:solvers:Run time (iter 10-end): 2.754 sec\n"
          ]
        },
        {
          "output_type": "stream",
          "name": "stdout",
          "text": [
            "2024-11-01 18:02:12,444 solvers 0/1 INFO :: Run time (iter 10-end): 2.754 sec\n"
          ]
        },
        {
          "output_type": "stream",
          "name": "stderr",
          "text": [
            "INFO:solvers:CPU time (iter 10-end): 0.000765 cpu-hr\n"
          ]
        },
        {
          "output_type": "stream",
          "name": "stdout",
          "text": [
            "2024-11-01 18:02:12,446 solvers 0/1 INFO :: CPU time (iter 10-end): 0.000765 cpu-hr\n"
          ]
        },
        {
          "output_type": "stream",
          "name": "stderr",
          "text": [
            "INFO:solvers:Speed: 4.772e+06 mode-stages/cpu-sec\n"
          ]
        },
        {
          "output_type": "stream",
          "name": "stdout",
          "text": [
            "2024-11-01 18:02:12,449 solvers 0/1 INFO :: Speed: 4.772e+06 mode-stages/cpu-sec\n"
          ]
        },
        {
          "output_type": "stream",
          "name": "stderr",
          "text": [
            "INFO:subsystems:Building subproblem matrices 1/1 (~100%) Elapsed: 0s, Remaining: 0s, Rate: 3.6e+00/s\n"
          ]
        },
        {
          "output_type": "stream",
          "name": "stdout",
          "text": [
            "2024-11-01 18:02:12,851 subsystems 0/1 INFO :: Building subproblem matrices 1/1 (~100%) Elapsed: 0s, Remaining: 0s, Rate: 3.6e+00/s\n"
          ]
        },
        {
          "output_type": "stream",
          "name": "stderr",
          "text": [
            "INFO:__main__:Starting main loop\n"
          ]
        },
        {
          "output_type": "stream",
          "name": "stdout",
          "text": [
            "2024-11-01 18:02:12,858 __main__ 0/1 INFO :: Starting main loop\n"
          ]
        },
        {
          "output_type": "stream",
          "name": "stderr",
          "text": [
            "INFO:__main__:Iteration=1, Time=9.765625e-01, dt=9.765625e-01\n"
          ]
        },
        {
          "output_type": "stream",
          "name": "stdout",
          "text": [
            "2024-11-01 18:02:12,913 __main__ 0/1 INFO :: Iteration=1, Time=9.765625e-01, dt=9.765625e-01\n"
          ]
        },
        {
          "output_type": "stream",
          "name": "stderr",
          "text": [
            "INFO:__main__:Iteration=11, Time=1.074219e+01, dt=9.765625e-01\n"
          ]
        },
        {
          "output_type": "stream",
          "name": "stdout",
          "text": [
            "2024-11-01 18:02:12,952 __main__ 0/1 INFO :: Iteration=11, Time=1.074219e+01, dt=9.765625e-01\n"
          ]
        },
        {
          "output_type": "stream",
          "name": "stderr",
          "text": [
            "INFO:__main__:Iteration=21, Time=2.050781e+01, dt=9.765625e-01\n"
          ]
        },
        {
          "output_type": "stream",
          "name": "stdout",
          "text": [
            "2024-11-01 18:02:12,992 __main__ 0/1 INFO :: Iteration=21, Time=2.050781e+01, dt=9.765625e-01\n"
          ]
        },
        {
          "output_type": "stream",
          "name": "stderr",
          "text": [
            "INFO:__main__:Iteration=31, Time=3.027344e+01, dt=9.765625e-01\n"
          ]
        },
        {
          "output_type": "stream",
          "name": "stdout",
          "text": [
            "2024-11-01 18:02:13,031 __main__ 0/1 INFO :: Iteration=31, Time=3.027344e+01, dt=9.765625e-01\n"
          ]
        },
        {
          "output_type": "stream",
          "name": "stderr",
          "text": [
            "INFO:__main__:Iteration=41, Time=4.003906e+01, dt=9.765625e-01\n"
          ]
        },
        {
          "output_type": "stream",
          "name": "stdout",
          "text": [
            "2024-11-01 18:02:13,075 __main__ 0/1 INFO :: Iteration=41, Time=4.003906e+01, dt=9.765625e-01\n"
          ]
        },
        {
          "output_type": "stream",
          "name": "stderr",
          "text": [
            "INFO:__main__:Iteration=51, Time=4.980469e+01, dt=9.765625e-01\n"
          ]
        },
        {
          "output_type": "stream",
          "name": "stdout",
          "text": [
            "2024-11-01 18:02:13,108 __main__ 0/1 INFO :: Iteration=51, Time=4.980469e+01, dt=9.765625e-01\n"
          ]
        },
        {
          "output_type": "stream",
          "name": "stderr",
          "text": [
            "INFO:__main__:Iteration=61, Time=5.957031e+01, dt=9.765625e-01\n"
          ]
        },
        {
          "output_type": "stream",
          "name": "stdout",
          "text": [
            "2024-11-01 18:02:13,141 __main__ 0/1 INFO :: Iteration=61, Time=5.957031e+01, dt=9.765625e-01\n"
          ]
        },
        {
          "output_type": "stream",
          "name": "stderr",
          "text": [
            "INFO:__main__:Iteration=71, Time=6.933594e+01, dt=9.765625e-01\n"
          ]
        },
        {
          "output_type": "stream",
          "name": "stdout",
          "text": [
            "2024-11-01 18:02:13,175 __main__ 0/1 INFO :: Iteration=71, Time=6.933594e+01, dt=9.765625e-01\n"
          ]
        },
        {
          "output_type": "stream",
          "name": "stderr",
          "text": [
            "INFO:__main__:Iteration=81, Time=7.910156e+01, dt=9.765625e-01\n"
          ]
        },
        {
          "output_type": "stream",
          "name": "stdout",
          "text": [
            "2024-11-01 18:02:13,212 __main__ 0/1 INFO :: Iteration=81, Time=7.910156e+01, dt=9.765625e-01\n"
          ]
        },
        {
          "output_type": "stream",
          "name": "stderr",
          "text": [
            "INFO:__main__:Iteration=91, Time=8.886719e+01, dt=9.765625e-01\n"
          ]
        },
        {
          "output_type": "stream",
          "name": "stdout",
          "text": [
            "2024-11-01 18:02:13,245 __main__ 0/1 INFO :: Iteration=91, Time=8.886719e+01, dt=9.765625e-01\n"
          ]
        },
        {
          "output_type": "stream",
          "name": "stderr",
          "text": [
            "INFO:__main__:Iteration=101, Time=9.863281e+01, dt=9.765625e-01\n"
          ]
        },
        {
          "output_type": "stream",
          "name": "stdout",
          "text": [
            "2024-11-01 18:02:13,280 __main__ 0/1 INFO :: Iteration=101, Time=9.863281e+01, dt=9.765625e-01\n"
          ]
        },
        {
          "output_type": "stream",
          "name": "stderr",
          "text": [
            "INFO:__main__:Iteration=111, Time=1.083984e+02, dt=9.765625e-01\n"
          ]
        },
        {
          "output_type": "stream",
          "name": "stdout",
          "text": [
            "2024-11-01 18:02:13,313 __main__ 0/1 INFO :: Iteration=111, Time=1.083984e+02, dt=9.765625e-01\n"
          ]
        },
        {
          "output_type": "stream",
          "name": "stderr",
          "text": [
            "INFO:__main__:Iteration=121, Time=1.181641e+02, dt=9.765625e-01\n"
          ]
        },
        {
          "output_type": "stream",
          "name": "stdout",
          "text": [
            "2024-11-01 18:02:13,350 __main__ 0/1 INFO :: Iteration=121, Time=1.181641e+02, dt=9.765625e-01\n"
          ]
        },
        {
          "output_type": "stream",
          "name": "stderr",
          "text": [
            "INFO:__main__:Iteration=131, Time=1.279297e+02, dt=9.765625e-01\n"
          ]
        },
        {
          "output_type": "stream",
          "name": "stdout",
          "text": [
            "2024-11-01 18:02:13,382 __main__ 0/1 INFO :: Iteration=131, Time=1.279297e+02, dt=9.765625e-01\n"
          ]
        },
        {
          "output_type": "stream",
          "name": "stderr",
          "text": [
            "INFO:__main__:Iteration=141, Time=1.376953e+02, dt=9.765625e-01\n"
          ]
        },
        {
          "output_type": "stream",
          "name": "stdout",
          "text": [
            "2024-11-01 18:02:13,418 __main__ 0/1 INFO :: Iteration=141, Time=1.376953e+02, dt=9.765625e-01\n"
          ]
        },
        {
          "output_type": "stream",
          "name": "stderr",
          "text": [
            "INFO:__main__:Iteration=151, Time=1.474609e+02, dt=9.765625e-01\n"
          ]
        },
        {
          "output_type": "stream",
          "name": "stdout",
          "text": [
            "2024-11-01 18:02:13,451 __main__ 0/1 INFO :: Iteration=151, Time=1.474609e+02, dt=9.765625e-01\n"
          ]
        },
        {
          "output_type": "stream",
          "name": "stderr",
          "text": [
            "INFO:__main__:Iteration=161, Time=1.572266e+02, dt=9.765625e-01\n"
          ]
        },
        {
          "output_type": "stream",
          "name": "stdout",
          "text": [
            "2024-11-01 18:02:13,484 __main__ 0/1 INFO :: Iteration=161, Time=1.572266e+02, dt=9.765625e-01\n"
          ]
        },
        {
          "output_type": "stream",
          "name": "stderr",
          "text": [
            "INFO:__main__:Iteration=171, Time=1.669922e+02, dt=9.765625e-01\n"
          ]
        },
        {
          "output_type": "stream",
          "name": "stdout",
          "text": [
            "2024-11-01 18:02:13,520 __main__ 0/1 INFO :: Iteration=171, Time=1.669922e+02, dt=9.765625e-01\n"
          ]
        },
        {
          "output_type": "stream",
          "name": "stderr",
          "text": [
            "INFO:__main__:Iteration=181, Time=1.767578e+02, dt=9.765625e-01\n"
          ]
        },
        {
          "output_type": "stream",
          "name": "stdout",
          "text": [
            "2024-11-01 18:02:13,553 __main__ 0/1 INFO :: Iteration=181, Time=1.767578e+02, dt=9.765625e-01\n"
          ]
        },
        {
          "output_type": "stream",
          "name": "stderr",
          "text": [
            "INFO:__main__:Iteration=191, Time=1.865234e+02, dt=9.765625e-01\n"
          ]
        },
        {
          "output_type": "stream",
          "name": "stdout",
          "text": [
            "2024-11-01 18:02:13,599 __main__ 0/1 INFO :: Iteration=191, Time=1.865234e+02, dt=9.765625e-01\n"
          ]
        },
        {
          "output_type": "stream",
          "name": "stderr",
          "text": [
            "INFO:__main__:Iteration=201, Time=1.962891e+02, dt=9.765625e-01\n"
          ]
        },
        {
          "output_type": "stream",
          "name": "stdout",
          "text": [
            "2024-11-01 18:02:13,633 __main__ 0/1 INFO :: Iteration=201, Time=1.962891e+02, dt=9.765625e-01\n"
          ]
        },
        {
          "output_type": "stream",
          "name": "stderr",
          "text": [
            "INFO:__main__:Iteration=211, Time=2.060547e+02, dt=9.765625e-01\n"
          ]
        },
        {
          "output_type": "stream",
          "name": "stdout",
          "text": [
            "2024-11-01 18:02:13,666 __main__ 0/1 INFO :: Iteration=211, Time=2.060547e+02, dt=9.765625e-01\n"
          ]
        },
        {
          "output_type": "stream",
          "name": "stderr",
          "text": [
            "INFO:__main__:Iteration=221, Time=2.158203e+02, dt=9.765625e-01\n"
          ]
        },
        {
          "output_type": "stream",
          "name": "stdout",
          "text": [
            "2024-11-01 18:02:13,697 __main__ 0/1 INFO :: Iteration=221, Time=2.158203e+02, dt=9.765625e-01\n"
          ]
        },
        {
          "output_type": "stream",
          "name": "stderr",
          "text": [
            "INFO:__main__:Iteration=231, Time=2.255859e+02, dt=9.765625e-01\n"
          ]
        },
        {
          "output_type": "stream",
          "name": "stdout",
          "text": [
            "2024-11-01 18:02:13,731 __main__ 0/1 INFO :: Iteration=231, Time=2.255859e+02, dt=9.765625e-01\n"
          ]
        },
        {
          "output_type": "stream",
          "name": "stderr",
          "text": [
            "INFO:__main__:Iteration=241, Time=2.353516e+02, dt=9.765625e-01\n"
          ]
        },
        {
          "output_type": "stream",
          "name": "stdout",
          "text": [
            "2024-11-01 18:02:13,773 __main__ 0/1 INFO :: Iteration=241, Time=2.353516e+02, dt=9.765625e-01\n"
          ]
        },
        {
          "output_type": "stream",
          "name": "stderr",
          "text": [
            "INFO:__main__:Iteration=251, Time=2.451172e+02, dt=9.765625e-01\n"
          ]
        },
        {
          "output_type": "stream",
          "name": "stdout",
          "text": [
            "2024-11-01 18:02:13,813 __main__ 0/1 INFO :: Iteration=251, Time=2.451172e+02, dt=9.765625e-01\n"
          ]
        },
        {
          "output_type": "stream",
          "name": "stderr",
          "text": [
            "INFO:__main__:Iteration=261, Time=2.548828e+02, dt=9.765625e-01\n"
          ]
        },
        {
          "output_type": "stream",
          "name": "stdout",
          "text": [
            "2024-11-01 18:02:13,863 __main__ 0/1 INFO :: Iteration=261, Time=2.548828e+02, dt=9.765625e-01\n"
          ]
        },
        {
          "output_type": "stream",
          "name": "stderr",
          "text": [
            "INFO:__main__:Iteration=271, Time=2.646484e+02, dt=9.765625e-01\n"
          ]
        },
        {
          "output_type": "stream",
          "name": "stdout",
          "text": [
            "2024-11-01 18:02:13,902 __main__ 0/1 INFO :: Iteration=271, Time=2.646484e+02, dt=9.765625e-01\n"
          ]
        },
        {
          "output_type": "stream",
          "name": "stderr",
          "text": [
            "INFO:__main__:Iteration=281, Time=2.744141e+02, dt=9.765625e-01\n"
          ]
        },
        {
          "output_type": "stream",
          "name": "stdout",
          "text": [
            "2024-11-01 18:02:13,945 __main__ 0/1 INFO :: Iteration=281, Time=2.744141e+02, dt=9.765625e-01\n"
          ]
        },
        {
          "output_type": "stream",
          "name": "stderr",
          "text": [
            "INFO:__main__:Iteration=291, Time=2.841797e+02, dt=9.765625e-01\n"
          ]
        },
        {
          "output_type": "stream",
          "name": "stdout",
          "text": [
            "2024-11-01 18:02:13,987 __main__ 0/1 INFO :: Iteration=291, Time=2.841797e+02, dt=9.765625e-01\n"
          ]
        },
        {
          "output_type": "stream",
          "name": "stderr",
          "text": [
            "INFO:__main__:Iteration=301, Time=2.939453e+02, dt=9.765625e-01\n"
          ]
        },
        {
          "output_type": "stream",
          "name": "stdout",
          "text": [
            "2024-11-01 18:02:14,029 __main__ 0/1 INFO :: Iteration=301, Time=2.939453e+02, dt=9.765625e-01\n"
          ]
        },
        {
          "output_type": "stream",
          "name": "stderr",
          "text": [
            "INFO:__main__:Iteration=311, Time=3.037109e+02, dt=9.765625e-01\n"
          ]
        },
        {
          "output_type": "stream",
          "name": "stdout",
          "text": [
            "2024-11-01 18:02:14,069 __main__ 0/1 INFO :: Iteration=311, Time=3.037109e+02, dt=9.765625e-01\n"
          ]
        },
        {
          "output_type": "stream",
          "name": "stderr",
          "text": [
            "INFO:__main__:Iteration=321, Time=3.134766e+02, dt=9.765625e-01\n"
          ]
        },
        {
          "output_type": "stream",
          "name": "stdout",
          "text": [
            "2024-11-01 18:02:14,110 __main__ 0/1 INFO :: Iteration=321, Time=3.134766e+02, dt=9.765625e-01\n"
          ]
        },
        {
          "output_type": "stream",
          "name": "stderr",
          "text": [
            "INFO:__main__:Iteration=331, Time=3.232422e+02, dt=9.765625e-01\n"
          ]
        },
        {
          "output_type": "stream",
          "name": "stdout",
          "text": [
            "2024-11-01 18:02:14,144 __main__ 0/1 INFO :: Iteration=331, Time=3.232422e+02, dt=9.765625e-01\n"
          ]
        },
        {
          "output_type": "stream",
          "name": "stderr",
          "text": [
            "INFO:__main__:Iteration=341, Time=3.330078e+02, dt=9.765625e-01\n"
          ]
        },
        {
          "output_type": "stream",
          "name": "stdout",
          "text": [
            "2024-11-01 18:02:14,182 __main__ 0/1 INFO :: Iteration=341, Time=3.330078e+02, dt=9.765625e-01\n"
          ]
        },
        {
          "output_type": "stream",
          "name": "stderr",
          "text": [
            "INFO:__main__:Iteration=351, Time=3.427734e+02, dt=9.765625e-01\n"
          ]
        },
        {
          "output_type": "stream",
          "name": "stdout",
          "text": [
            "2024-11-01 18:02:14,213 __main__ 0/1 INFO :: Iteration=351, Time=3.427734e+02, dt=9.765625e-01\n"
          ]
        },
        {
          "output_type": "stream",
          "name": "stderr",
          "text": [
            "INFO:__main__:Iteration=361, Time=3.525391e+02, dt=9.765625e-01\n"
          ]
        },
        {
          "output_type": "stream",
          "name": "stdout",
          "text": [
            "2024-11-01 18:02:14,250 __main__ 0/1 INFO :: Iteration=361, Time=3.525391e+02, dt=9.765625e-01\n"
          ]
        },
        {
          "output_type": "stream",
          "name": "stderr",
          "text": [
            "INFO:__main__:Iteration=371, Time=3.623047e+02, dt=9.765625e-01\n"
          ]
        },
        {
          "output_type": "stream",
          "name": "stdout",
          "text": [
            "2024-11-01 18:02:14,281 __main__ 0/1 INFO :: Iteration=371, Time=3.623047e+02, dt=9.765625e-01\n"
          ]
        },
        {
          "output_type": "stream",
          "name": "stderr",
          "text": [
            "INFO:__main__:Iteration=381, Time=3.720703e+02, dt=9.765625e-01\n"
          ]
        },
        {
          "output_type": "stream",
          "name": "stdout",
          "text": [
            "2024-11-01 18:02:14,319 __main__ 0/1 INFO :: Iteration=381, Time=3.720703e+02, dt=9.765625e-01\n"
          ]
        },
        {
          "output_type": "stream",
          "name": "stderr",
          "text": [
            "INFO:__main__:Iteration=391, Time=3.818359e+02, dt=9.765625e-01\n"
          ]
        },
        {
          "output_type": "stream",
          "name": "stdout",
          "text": [
            "2024-11-01 18:02:14,350 __main__ 0/1 INFO :: Iteration=391, Time=3.818359e+02, dt=9.765625e-01\n"
          ]
        },
        {
          "output_type": "stream",
          "name": "stderr",
          "text": [
            "INFO:__main__:Iteration=401, Time=3.916016e+02, dt=9.765625e-01\n"
          ]
        },
        {
          "output_type": "stream",
          "name": "stdout",
          "text": [
            "2024-11-01 18:02:14,384 __main__ 0/1 INFO :: Iteration=401, Time=3.916016e+02, dt=9.765625e-01\n"
          ]
        },
        {
          "output_type": "stream",
          "name": "stderr",
          "text": [
            "INFO:__main__:Iteration=411, Time=4.013672e+02, dt=9.765625e-01\n"
          ]
        },
        {
          "output_type": "stream",
          "name": "stdout",
          "text": [
            "2024-11-01 18:02:14,418 __main__ 0/1 INFO :: Iteration=411, Time=4.013672e+02, dt=9.765625e-01\n"
          ]
        },
        {
          "output_type": "stream",
          "name": "stderr",
          "text": [
            "INFO:__main__:Iteration=421, Time=4.111328e+02, dt=9.765625e-01\n"
          ]
        },
        {
          "output_type": "stream",
          "name": "stdout",
          "text": [
            "2024-11-01 18:02:14,450 __main__ 0/1 INFO :: Iteration=421, Time=4.111328e+02, dt=9.765625e-01\n"
          ]
        },
        {
          "output_type": "stream",
          "name": "stderr",
          "text": [
            "INFO:__main__:Iteration=431, Time=4.208984e+02, dt=9.765625e-01\n"
          ]
        },
        {
          "output_type": "stream",
          "name": "stdout",
          "text": [
            "2024-11-01 18:02:14,484 __main__ 0/1 INFO :: Iteration=431, Time=4.208984e+02, dt=9.765625e-01\n"
          ]
        },
        {
          "output_type": "stream",
          "name": "stderr",
          "text": [
            "INFO:__main__:Iteration=441, Time=4.306641e+02, dt=9.765625e-01\n"
          ]
        },
        {
          "output_type": "stream",
          "name": "stdout",
          "text": [
            "2024-11-01 18:02:14,516 __main__ 0/1 INFO :: Iteration=441, Time=4.306641e+02, dt=9.765625e-01\n"
          ]
        },
        {
          "output_type": "stream",
          "name": "stderr",
          "text": [
            "INFO:__main__:Iteration=451, Time=4.404297e+02, dt=9.765625e-01\n"
          ]
        },
        {
          "output_type": "stream",
          "name": "stdout",
          "text": [
            "2024-11-01 18:02:14,549 __main__ 0/1 INFO :: Iteration=451, Time=4.404297e+02, dt=9.765625e-01\n"
          ]
        },
        {
          "output_type": "stream",
          "name": "stderr",
          "text": [
            "INFO:__main__:Iteration=461, Time=4.501953e+02, dt=9.765625e-01\n"
          ]
        },
        {
          "output_type": "stream",
          "name": "stdout",
          "text": [
            "2024-11-01 18:02:14,583 __main__ 0/1 INFO :: Iteration=461, Time=4.501953e+02, dt=9.765625e-01\n"
          ]
        },
        {
          "output_type": "stream",
          "name": "stderr",
          "text": [
            "INFO:__main__:Iteration=471, Time=4.599609e+02, dt=9.765625e-01\n"
          ]
        },
        {
          "output_type": "stream",
          "name": "stdout",
          "text": [
            "2024-11-01 18:02:14,631 __main__ 0/1 INFO :: Iteration=471, Time=4.599609e+02, dt=9.765625e-01\n"
          ]
        },
        {
          "output_type": "stream",
          "name": "stderr",
          "text": [
            "INFO:__main__:Iteration=481, Time=4.697266e+02, dt=9.765625e-01\n"
          ]
        },
        {
          "output_type": "stream",
          "name": "stdout",
          "text": [
            "2024-11-01 18:02:14,661 __main__ 0/1 INFO :: Iteration=481, Time=4.697266e+02, dt=9.765625e-01\n"
          ]
        },
        {
          "output_type": "stream",
          "name": "stderr",
          "text": [
            "INFO:__main__:Iteration=491, Time=4.794922e+02, dt=9.765625e-01\n"
          ]
        },
        {
          "output_type": "stream",
          "name": "stdout",
          "text": [
            "2024-11-01 18:02:14,698 __main__ 0/1 INFO :: Iteration=491, Time=4.794922e+02, dt=9.765625e-01\n"
          ]
        },
        {
          "output_type": "stream",
          "name": "stderr",
          "text": [
            "INFO:__main__:Iteration=501, Time=4.892578e+02, dt=9.765625e-01\n"
          ]
        },
        {
          "output_type": "stream",
          "name": "stdout",
          "text": [
            "2024-11-01 18:02:14,736 __main__ 0/1 INFO :: Iteration=501, Time=4.892578e+02, dt=9.765625e-01\n"
          ]
        },
        {
          "output_type": "stream",
          "name": "stderr",
          "text": [
            "INFO:__main__:Iteration=511, Time=4.990234e+02, dt=9.765625e-01\n"
          ]
        },
        {
          "output_type": "stream",
          "name": "stdout",
          "text": [
            "2024-11-01 18:02:14,779 __main__ 0/1 INFO :: Iteration=511, Time=4.990234e+02, dt=9.765625e-01\n"
          ]
        },
        {
          "output_type": "stream",
          "name": "stderr",
          "text": [
            "INFO:__main__:Iteration=521, Time=5.087891e+02, dt=9.765625e-01\n"
          ]
        },
        {
          "output_type": "stream",
          "name": "stdout",
          "text": [
            "2024-11-01 18:02:14,821 __main__ 0/1 INFO :: Iteration=521, Time=5.087891e+02, dt=9.765625e-01\n"
          ]
        },
        {
          "output_type": "stream",
          "name": "stderr",
          "text": [
            "INFO:__main__:Iteration=531, Time=5.185547e+02, dt=9.765625e-01\n"
          ]
        },
        {
          "output_type": "stream",
          "name": "stdout",
          "text": [
            "2024-11-01 18:02:14,869 __main__ 0/1 INFO :: Iteration=531, Time=5.185547e+02, dt=9.765625e-01\n"
          ]
        },
        {
          "output_type": "stream",
          "name": "stderr",
          "text": [
            "INFO:__main__:Iteration=541, Time=5.283203e+02, dt=9.765625e-01\n"
          ]
        },
        {
          "output_type": "stream",
          "name": "stdout",
          "text": [
            "2024-11-01 18:02:14,915 __main__ 0/1 INFO :: Iteration=541, Time=5.283203e+02, dt=9.765625e-01\n"
          ]
        },
        {
          "output_type": "stream",
          "name": "stderr",
          "text": [
            "INFO:__main__:Iteration=551, Time=5.380859e+02, dt=9.765625e-01\n"
          ]
        },
        {
          "output_type": "stream",
          "name": "stdout",
          "text": [
            "2024-11-01 18:02:14,957 __main__ 0/1 INFO :: Iteration=551, Time=5.380859e+02, dt=9.765625e-01\n"
          ]
        },
        {
          "output_type": "stream",
          "name": "stderr",
          "text": [
            "INFO:__main__:Iteration=561, Time=5.478516e+02, dt=9.765625e-01\n"
          ]
        },
        {
          "output_type": "stream",
          "name": "stdout",
          "text": [
            "2024-11-01 18:02:14,996 __main__ 0/1 INFO :: Iteration=561, Time=5.478516e+02, dt=9.765625e-01\n"
          ]
        },
        {
          "output_type": "stream",
          "name": "stderr",
          "text": [
            "INFO:__main__:Iteration=571, Time=5.576172e+02, dt=9.765625e-01\n"
          ]
        },
        {
          "output_type": "stream",
          "name": "stdout",
          "text": [
            "2024-11-01 18:02:15,035 __main__ 0/1 INFO :: Iteration=571, Time=5.576172e+02, dt=9.765625e-01\n"
          ]
        },
        {
          "output_type": "stream",
          "name": "stderr",
          "text": [
            "INFO:__main__:Iteration=581, Time=5.673828e+02, dt=9.765625e-01\n"
          ]
        },
        {
          "output_type": "stream",
          "name": "stdout",
          "text": [
            "2024-11-01 18:02:15,068 __main__ 0/1 INFO :: Iteration=581, Time=5.673828e+02, dt=9.765625e-01\n"
          ]
        },
        {
          "output_type": "stream",
          "name": "stderr",
          "text": [
            "INFO:__main__:Iteration=591, Time=5.771484e+02, dt=9.765625e-01\n"
          ]
        },
        {
          "output_type": "stream",
          "name": "stdout",
          "text": [
            "2024-11-01 18:02:15,102 __main__ 0/1 INFO :: Iteration=591, Time=5.771484e+02, dt=9.765625e-01\n"
          ]
        },
        {
          "output_type": "stream",
          "name": "stderr",
          "text": [
            "INFO:__main__:Iteration=601, Time=5.869141e+02, dt=9.765625e-01\n"
          ]
        },
        {
          "output_type": "stream",
          "name": "stdout",
          "text": [
            "2024-11-01 18:02:15,140 __main__ 0/1 INFO :: Iteration=601, Time=5.869141e+02, dt=9.765625e-01\n"
          ]
        },
        {
          "output_type": "stream",
          "name": "stderr",
          "text": [
            "INFO:__main__:Iteration=611, Time=5.966797e+02, dt=9.765625e-01\n"
          ]
        },
        {
          "output_type": "stream",
          "name": "stdout",
          "text": [
            "2024-11-01 18:02:15,178 __main__ 0/1 INFO :: Iteration=611, Time=5.966797e+02, dt=9.765625e-01\n"
          ]
        },
        {
          "output_type": "stream",
          "name": "stderr",
          "text": [
            "INFO:__main__:Iteration=621, Time=6.064453e+02, dt=9.765625e-01\n"
          ]
        },
        {
          "output_type": "stream",
          "name": "stdout",
          "text": [
            "2024-11-01 18:02:15,211 __main__ 0/1 INFO :: Iteration=621, Time=6.064453e+02, dt=9.765625e-01\n"
          ]
        },
        {
          "output_type": "stream",
          "name": "stderr",
          "text": [
            "INFO:__main__:Iteration=631, Time=6.162109e+02, dt=9.765625e-01\n"
          ]
        },
        {
          "output_type": "stream",
          "name": "stdout",
          "text": [
            "2024-11-01 18:02:15,247 __main__ 0/1 INFO :: Iteration=631, Time=6.162109e+02, dt=9.765625e-01\n"
          ]
        },
        {
          "output_type": "stream",
          "name": "stderr",
          "text": [
            "INFO:__main__:Iteration=641, Time=6.259766e+02, dt=9.765625e-01\n"
          ]
        },
        {
          "output_type": "stream",
          "name": "stdout",
          "text": [
            "2024-11-01 18:02:15,278 __main__ 0/1 INFO :: Iteration=641, Time=6.259766e+02, dt=9.765625e-01\n"
          ]
        },
        {
          "output_type": "stream",
          "name": "stderr",
          "text": [
            "INFO:__main__:Iteration=651, Time=6.357422e+02, dt=9.765625e-01\n"
          ]
        },
        {
          "output_type": "stream",
          "name": "stdout",
          "text": [
            "2024-11-01 18:02:15,311 __main__ 0/1 INFO :: Iteration=651, Time=6.357422e+02, dt=9.765625e-01\n"
          ]
        },
        {
          "output_type": "stream",
          "name": "stderr",
          "text": [
            "INFO:__main__:Iteration=661, Time=6.455078e+02, dt=9.765625e-01\n"
          ]
        },
        {
          "output_type": "stream",
          "name": "stdout",
          "text": [
            "2024-11-01 18:02:15,349 __main__ 0/1 INFO :: Iteration=661, Time=6.455078e+02, dt=9.765625e-01\n"
          ]
        },
        {
          "output_type": "stream",
          "name": "stderr",
          "text": [
            "INFO:__main__:Iteration=671, Time=6.552734e+02, dt=9.765625e-01\n"
          ]
        },
        {
          "output_type": "stream",
          "name": "stdout",
          "text": [
            "2024-11-01 18:02:15,380 __main__ 0/1 INFO :: Iteration=671, Time=6.552734e+02, dt=9.765625e-01\n"
          ]
        },
        {
          "output_type": "stream",
          "name": "stderr",
          "text": [
            "INFO:__main__:Iteration=681, Time=6.650391e+02, dt=9.765625e-01\n"
          ]
        },
        {
          "output_type": "stream",
          "name": "stdout",
          "text": [
            "2024-11-01 18:02:15,418 __main__ 0/1 INFO :: Iteration=681, Time=6.650391e+02, dt=9.765625e-01\n"
          ]
        },
        {
          "output_type": "stream",
          "name": "stderr",
          "text": [
            "INFO:__main__:Iteration=691, Time=6.748047e+02, dt=9.765625e-01\n"
          ]
        },
        {
          "output_type": "stream",
          "name": "stdout",
          "text": [
            "2024-11-01 18:02:15,450 __main__ 0/1 INFO :: Iteration=691, Time=6.748047e+02, dt=9.765625e-01\n"
          ]
        },
        {
          "output_type": "stream",
          "name": "stderr",
          "text": [
            "INFO:__main__:Iteration=701, Time=6.845703e+02, dt=9.765625e-01\n"
          ]
        },
        {
          "output_type": "stream",
          "name": "stdout",
          "text": [
            "2024-11-01 18:02:15,483 __main__ 0/1 INFO :: Iteration=701, Time=6.845703e+02, dt=9.765625e-01\n"
          ]
        },
        {
          "output_type": "stream",
          "name": "stderr",
          "text": [
            "INFO:__main__:Iteration=711, Time=6.943359e+02, dt=9.765625e-01\n"
          ]
        },
        {
          "output_type": "stream",
          "name": "stdout",
          "text": [
            "2024-11-01 18:02:15,519 __main__ 0/1 INFO :: Iteration=711, Time=6.943359e+02, dt=9.765625e-01\n"
          ]
        },
        {
          "output_type": "stream",
          "name": "stderr",
          "text": [
            "INFO:__main__:Iteration=721, Time=7.041016e+02, dt=9.765625e-01\n"
          ]
        },
        {
          "output_type": "stream",
          "name": "stdout",
          "text": [
            "2024-11-01 18:02:15,552 __main__ 0/1 INFO :: Iteration=721, Time=7.041016e+02, dt=9.765625e-01\n"
          ]
        },
        {
          "output_type": "stream",
          "name": "stderr",
          "text": [
            "INFO:__main__:Iteration=731, Time=7.138672e+02, dt=9.765625e-01\n"
          ]
        },
        {
          "output_type": "stream",
          "name": "stdout",
          "text": [
            "2024-11-01 18:02:15,589 __main__ 0/1 INFO :: Iteration=731, Time=7.138672e+02, dt=9.765625e-01\n"
          ]
        },
        {
          "output_type": "stream",
          "name": "stderr",
          "text": [
            "INFO:__main__:Iteration=741, Time=7.236328e+02, dt=9.765625e-01\n"
          ]
        },
        {
          "output_type": "stream",
          "name": "stdout",
          "text": [
            "2024-11-01 18:02:15,627 __main__ 0/1 INFO :: Iteration=741, Time=7.236328e+02, dt=9.765625e-01\n"
          ]
        },
        {
          "output_type": "stream",
          "name": "stderr",
          "text": [
            "INFO:__main__:Iteration=751, Time=7.333984e+02, dt=9.765625e-01\n"
          ]
        },
        {
          "output_type": "stream",
          "name": "stdout",
          "text": [
            "2024-11-01 18:02:15,678 __main__ 0/1 INFO :: Iteration=751, Time=7.333984e+02, dt=9.765625e-01\n"
          ]
        },
        {
          "output_type": "stream",
          "name": "stderr",
          "text": [
            "INFO:__main__:Iteration=761, Time=7.431641e+02, dt=9.765625e-01\n"
          ]
        },
        {
          "output_type": "stream",
          "name": "stdout",
          "text": [
            "2024-11-01 18:02:15,715 __main__ 0/1 INFO :: Iteration=761, Time=7.431641e+02, dt=9.765625e-01\n"
          ]
        },
        {
          "output_type": "stream",
          "name": "stderr",
          "text": [
            "INFO:__main__:Iteration=771, Time=7.529297e+02, dt=9.765625e-01\n"
          ]
        },
        {
          "output_type": "stream",
          "name": "stdout",
          "text": [
            "2024-11-01 18:02:15,748 __main__ 0/1 INFO :: Iteration=771, Time=7.529297e+02, dt=9.765625e-01\n"
          ]
        },
        {
          "output_type": "stream",
          "name": "stderr",
          "text": [
            "INFO:__main__:Iteration=781, Time=7.626953e+02, dt=9.765625e-01\n"
          ]
        },
        {
          "output_type": "stream",
          "name": "stdout",
          "text": [
            "2024-11-01 18:02:15,791 __main__ 0/1 INFO :: Iteration=781, Time=7.626953e+02, dt=9.765625e-01\n"
          ]
        },
        {
          "output_type": "stream",
          "name": "stderr",
          "text": [
            "INFO:__main__:Iteration=791, Time=7.724609e+02, dt=9.765625e-01\n"
          ]
        },
        {
          "output_type": "stream",
          "name": "stdout",
          "text": [
            "2024-11-01 18:02:15,834 __main__ 0/1 INFO :: Iteration=791, Time=7.724609e+02, dt=9.765625e-01\n"
          ]
        },
        {
          "output_type": "stream",
          "name": "stderr",
          "text": [
            "INFO:__main__:Iteration=801, Time=7.822266e+02, dt=9.765625e-01\n"
          ]
        },
        {
          "output_type": "stream",
          "name": "stdout",
          "text": [
            "2024-11-01 18:02:15,881 __main__ 0/1 INFO :: Iteration=801, Time=7.822266e+02, dt=9.765625e-01\n"
          ]
        },
        {
          "output_type": "stream",
          "name": "stderr",
          "text": [
            "INFO:__main__:Iteration=811, Time=7.919922e+02, dt=9.765625e-01\n"
          ]
        },
        {
          "output_type": "stream",
          "name": "stdout",
          "text": [
            "2024-11-01 18:02:15,920 __main__ 0/1 INFO :: Iteration=811, Time=7.919922e+02, dt=9.765625e-01\n"
          ]
        },
        {
          "output_type": "stream",
          "name": "stderr",
          "text": [
            "INFO:__main__:Iteration=821, Time=8.017578e+02, dt=9.765625e-01\n"
          ]
        },
        {
          "output_type": "stream",
          "name": "stdout",
          "text": [
            "2024-11-01 18:02:15,961 __main__ 0/1 INFO :: Iteration=821, Time=8.017578e+02, dt=9.765625e-01\n"
          ]
        },
        {
          "output_type": "stream",
          "name": "stderr",
          "text": [
            "INFO:__main__:Iteration=831, Time=8.115234e+02, dt=9.765625e-01\n"
          ]
        },
        {
          "output_type": "stream",
          "name": "stdout",
          "text": [
            "2024-11-01 18:02:16,004 __main__ 0/1 INFO :: Iteration=831, Time=8.115234e+02, dt=9.765625e-01\n"
          ]
        },
        {
          "output_type": "stream",
          "name": "stderr",
          "text": [
            "INFO:__main__:Iteration=841, Time=8.212891e+02, dt=9.765625e-01\n"
          ]
        },
        {
          "output_type": "stream",
          "name": "stdout",
          "text": [
            "2024-11-01 18:02:16,045 __main__ 0/1 INFO :: Iteration=841, Time=8.212891e+02, dt=9.765625e-01\n"
          ]
        },
        {
          "output_type": "stream",
          "name": "stderr",
          "text": [
            "INFO:__main__:Iteration=851, Time=8.310547e+02, dt=9.765625e-01\n"
          ]
        },
        {
          "output_type": "stream",
          "name": "stdout",
          "text": [
            "2024-11-01 18:02:16,092 __main__ 0/1 INFO :: Iteration=851, Time=8.310547e+02, dt=9.765625e-01\n"
          ]
        },
        {
          "output_type": "stream",
          "name": "stderr",
          "text": [
            "INFO:__main__:Iteration=861, Time=8.408203e+02, dt=9.765625e-01\n"
          ]
        },
        {
          "output_type": "stream",
          "name": "stdout",
          "text": [
            "2024-11-01 18:02:16,128 __main__ 0/1 INFO :: Iteration=861, Time=8.408203e+02, dt=9.765625e-01\n"
          ]
        },
        {
          "output_type": "stream",
          "name": "stderr",
          "text": [
            "INFO:__main__:Iteration=871, Time=8.505859e+02, dt=9.765625e-01\n"
          ]
        },
        {
          "output_type": "stream",
          "name": "stdout",
          "text": [
            "2024-11-01 18:02:16,162 __main__ 0/1 INFO :: Iteration=871, Time=8.505859e+02, dt=9.765625e-01\n"
          ]
        },
        {
          "output_type": "stream",
          "name": "stderr",
          "text": [
            "INFO:__main__:Iteration=881, Time=8.603516e+02, dt=9.765625e-01\n"
          ]
        },
        {
          "output_type": "stream",
          "name": "stdout",
          "text": [
            "2024-11-01 18:02:16,196 __main__ 0/1 INFO :: Iteration=881, Time=8.603516e+02, dt=9.765625e-01\n"
          ]
        },
        {
          "output_type": "stream",
          "name": "stderr",
          "text": [
            "INFO:__main__:Iteration=891, Time=8.701172e+02, dt=9.765625e-01\n"
          ]
        },
        {
          "output_type": "stream",
          "name": "stdout",
          "text": [
            "2024-11-01 18:02:16,229 __main__ 0/1 INFO :: Iteration=891, Time=8.701172e+02, dt=9.765625e-01\n"
          ]
        },
        {
          "output_type": "stream",
          "name": "stderr",
          "text": [
            "INFO:__main__:Iteration=901, Time=8.798828e+02, dt=9.765625e-01\n"
          ]
        },
        {
          "output_type": "stream",
          "name": "stdout",
          "text": [
            "2024-11-01 18:02:16,265 __main__ 0/1 INFO :: Iteration=901, Time=8.798828e+02, dt=9.765625e-01\n"
          ]
        },
        {
          "output_type": "stream",
          "name": "stderr",
          "text": [
            "INFO:__main__:Iteration=911, Time=8.896484e+02, dt=9.765625e-01\n"
          ]
        },
        {
          "output_type": "stream",
          "name": "stdout",
          "text": [
            "2024-11-01 18:02:16,301 __main__ 0/1 INFO :: Iteration=911, Time=8.896484e+02, dt=9.765625e-01\n"
          ]
        },
        {
          "output_type": "stream",
          "name": "stderr",
          "text": [
            "INFO:__main__:Iteration=921, Time=8.994141e+02, dt=9.765625e-01\n"
          ]
        },
        {
          "output_type": "stream",
          "name": "stdout",
          "text": [
            "2024-11-01 18:02:16,338 __main__ 0/1 INFO :: Iteration=921, Time=8.994141e+02, dt=9.765625e-01\n"
          ]
        },
        {
          "output_type": "stream",
          "name": "stderr",
          "text": [
            "INFO:__main__:Iteration=931, Time=9.091797e+02, dt=9.765625e-01\n"
          ]
        },
        {
          "output_type": "stream",
          "name": "stdout",
          "text": [
            "2024-11-01 18:02:16,372 __main__ 0/1 INFO :: Iteration=931, Time=9.091797e+02, dt=9.765625e-01\n"
          ]
        },
        {
          "output_type": "stream",
          "name": "stderr",
          "text": [
            "INFO:__main__:Iteration=941, Time=9.189453e+02, dt=9.765625e-01\n"
          ]
        },
        {
          "output_type": "stream",
          "name": "stdout",
          "text": [
            "2024-11-01 18:02:16,406 __main__ 0/1 INFO :: Iteration=941, Time=9.189453e+02, dt=9.765625e-01\n"
          ]
        },
        {
          "output_type": "stream",
          "name": "stderr",
          "text": [
            "INFO:__main__:Iteration=951, Time=9.287109e+02, dt=9.765625e-01\n"
          ]
        },
        {
          "output_type": "stream",
          "name": "stdout",
          "text": [
            "2024-11-01 18:02:16,443 __main__ 0/1 INFO :: Iteration=951, Time=9.287109e+02, dt=9.765625e-01\n"
          ]
        },
        {
          "output_type": "stream",
          "name": "stderr",
          "text": [
            "INFO:__main__:Iteration=961, Time=9.384766e+02, dt=9.765625e-01\n"
          ]
        },
        {
          "output_type": "stream",
          "name": "stdout",
          "text": [
            "2024-11-01 18:02:16,479 __main__ 0/1 INFO :: Iteration=961, Time=9.384766e+02, dt=9.765625e-01\n"
          ]
        },
        {
          "output_type": "stream",
          "name": "stderr",
          "text": [
            "INFO:__main__:Iteration=971, Time=9.482422e+02, dt=9.765625e-01\n"
          ]
        },
        {
          "output_type": "stream",
          "name": "stdout",
          "text": [
            "2024-11-01 18:02:16,514 __main__ 0/1 INFO :: Iteration=971, Time=9.482422e+02, dt=9.765625e-01\n"
          ]
        },
        {
          "output_type": "stream",
          "name": "stderr",
          "text": [
            "INFO:__main__:Iteration=981, Time=9.580078e+02, dt=9.765625e-01\n"
          ]
        },
        {
          "output_type": "stream",
          "name": "stdout",
          "text": [
            "2024-11-01 18:02:16,549 __main__ 0/1 INFO :: Iteration=981, Time=9.580078e+02, dt=9.765625e-01\n"
          ]
        },
        {
          "output_type": "stream",
          "name": "stderr",
          "text": [
            "INFO:__main__:Iteration=991, Time=9.677734e+02, dt=9.765625e-01\n"
          ]
        },
        {
          "output_type": "stream",
          "name": "stdout",
          "text": [
            "2024-11-01 18:02:16,589 __main__ 0/1 INFO :: Iteration=991, Time=9.677734e+02, dt=9.765625e-01\n"
          ]
        },
        {
          "output_type": "stream",
          "name": "stderr",
          "text": [
            "INFO:__main__:Iteration=1001, Time=9.775391e+02, dt=9.765625e-01\n"
          ]
        },
        {
          "output_type": "stream",
          "name": "stdout",
          "text": [
            "2024-11-01 18:02:16,624 __main__ 0/1 INFO :: Iteration=1001, Time=9.775391e+02, dt=9.765625e-01\n"
          ]
        },
        {
          "output_type": "stream",
          "name": "stderr",
          "text": [
            "INFO:__main__:Iteration=1011, Time=9.873047e+02, dt=9.765625e-01\n"
          ]
        },
        {
          "output_type": "stream",
          "name": "stdout",
          "text": [
            "2024-11-01 18:02:16,657 __main__ 0/1 INFO :: Iteration=1011, Time=9.873047e+02, dt=9.765625e-01\n"
          ]
        },
        {
          "output_type": "stream",
          "name": "stderr",
          "text": [
            "INFO:__main__:Iteration=1021, Time=9.970703e+02, dt=9.765625e-01\n"
          ]
        },
        {
          "output_type": "stream",
          "name": "stdout",
          "text": [
            "2024-11-01 18:02:16,700 __main__ 0/1 INFO :: Iteration=1021, Time=9.970703e+02, dt=9.765625e-01\n"
          ]
        },
        {
          "output_type": "stream",
          "name": "stderr",
          "text": [
            "INFO:__main__:Iteration=1031, Time=1.006836e+03, dt=9.765625e-01\n"
          ]
        },
        {
          "output_type": "stream",
          "name": "stdout",
          "text": [
            "2024-11-01 18:02:16,738 __main__ 0/1 INFO :: Iteration=1031, Time=1.006836e+03, dt=9.765625e-01\n"
          ]
        },
        {
          "output_type": "stream",
          "name": "stderr",
          "text": [
            "INFO:__main__:Iteration=1041, Time=1.016602e+03, dt=9.765625e-01\n"
          ]
        },
        {
          "output_type": "stream",
          "name": "stdout",
          "text": [
            "2024-11-01 18:02:16,783 __main__ 0/1 INFO :: Iteration=1041, Time=1.016602e+03, dt=9.765625e-01\n"
          ]
        },
        {
          "output_type": "stream",
          "name": "stderr",
          "text": [
            "INFO:__main__:Iteration=1051, Time=1.026367e+03, dt=9.765625e-01\n"
          ]
        },
        {
          "output_type": "stream",
          "name": "stdout",
          "text": [
            "2024-11-01 18:02:16,827 __main__ 0/1 INFO :: Iteration=1051, Time=1.026367e+03, dt=9.765625e-01\n"
          ]
        },
        {
          "output_type": "stream",
          "name": "stderr",
          "text": [
            "INFO:__main__:Iteration=1061, Time=1.036133e+03, dt=9.765625e-01\n"
          ]
        },
        {
          "output_type": "stream",
          "name": "stdout",
          "text": [
            "2024-11-01 18:02:16,873 __main__ 0/1 INFO :: Iteration=1061, Time=1.036133e+03, dt=9.765625e-01\n"
          ]
        },
        {
          "output_type": "stream",
          "name": "stderr",
          "text": [
            "INFO:__main__:Iteration=1071, Time=1.045898e+03, dt=9.765625e-01\n"
          ]
        },
        {
          "output_type": "stream",
          "name": "stdout",
          "text": [
            "2024-11-01 18:02:16,915 __main__ 0/1 INFO :: Iteration=1071, Time=1.045898e+03, dt=9.765625e-01\n"
          ]
        },
        {
          "output_type": "stream",
          "name": "stderr",
          "text": [
            "INFO:__main__:Iteration=1081, Time=1.055664e+03, dt=9.765625e-01\n"
          ]
        },
        {
          "output_type": "stream",
          "name": "stdout",
          "text": [
            "2024-11-01 18:02:16,959 __main__ 0/1 INFO :: Iteration=1081, Time=1.055664e+03, dt=9.765625e-01\n"
          ]
        },
        {
          "output_type": "stream",
          "name": "stderr",
          "text": [
            "INFO:__main__:Iteration=1091, Time=1.065430e+03, dt=9.765625e-01\n"
          ]
        },
        {
          "output_type": "stream",
          "name": "stdout",
          "text": [
            "2024-11-01 18:02:17,004 __main__ 0/1 INFO :: Iteration=1091, Time=1.065430e+03, dt=9.765625e-01\n"
          ]
        },
        {
          "output_type": "stream",
          "name": "stderr",
          "text": [
            "INFO:__main__:Iteration=1101, Time=1.075195e+03, dt=9.765625e-01\n"
          ]
        },
        {
          "output_type": "stream",
          "name": "stdout",
          "text": [
            "2024-11-01 18:02:17,047 __main__ 0/1 INFO :: Iteration=1101, Time=1.075195e+03, dt=9.765625e-01\n"
          ]
        },
        {
          "output_type": "stream",
          "name": "stderr",
          "text": [
            "INFO:__main__:Iteration=1111, Time=1.084961e+03, dt=9.765625e-01\n"
          ]
        },
        {
          "output_type": "stream",
          "name": "stdout",
          "text": [
            "2024-11-01 18:02:17,082 __main__ 0/1 INFO :: Iteration=1111, Time=1.084961e+03, dt=9.765625e-01\n"
          ]
        },
        {
          "output_type": "stream",
          "name": "stderr",
          "text": [
            "INFO:__main__:Iteration=1121, Time=1.094727e+03, dt=9.765625e-01\n"
          ]
        },
        {
          "output_type": "stream",
          "name": "stdout",
          "text": [
            "2024-11-01 18:02:17,116 __main__ 0/1 INFO :: Iteration=1121, Time=1.094727e+03, dt=9.765625e-01\n"
          ]
        },
        {
          "output_type": "stream",
          "name": "stderr",
          "text": [
            "INFO:__main__:Iteration=1131, Time=1.104492e+03, dt=9.765625e-01\n"
          ]
        },
        {
          "output_type": "stream",
          "name": "stdout",
          "text": [
            "2024-11-01 18:02:17,151 __main__ 0/1 INFO :: Iteration=1131, Time=1.104492e+03, dt=9.765625e-01\n"
          ]
        },
        {
          "output_type": "stream",
          "name": "stderr",
          "text": [
            "INFO:__main__:Iteration=1141, Time=1.114258e+03, dt=9.765625e-01\n"
          ]
        },
        {
          "output_type": "stream",
          "name": "stdout",
          "text": [
            "2024-11-01 18:02:17,185 __main__ 0/1 INFO :: Iteration=1141, Time=1.114258e+03, dt=9.765625e-01\n"
          ]
        },
        {
          "output_type": "stream",
          "name": "stderr",
          "text": [
            "INFO:__main__:Iteration=1151, Time=1.124023e+03, dt=9.765625e-01\n"
          ]
        },
        {
          "output_type": "stream",
          "name": "stdout",
          "text": [
            "2024-11-01 18:02:17,219 __main__ 0/1 INFO :: Iteration=1151, Time=1.124023e+03, dt=9.765625e-01\n"
          ]
        },
        {
          "output_type": "stream",
          "name": "stderr",
          "text": [
            "INFO:__main__:Iteration=1161, Time=1.133789e+03, dt=9.765625e-01\n"
          ]
        },
        {
          "output_type": "stream",
          "name": "stdout",
          "text": [
            "2024-11-01 18:02:17,256 __main__ 0/1 INFO :: Iteration=1161, Time=1.133789e+03, dt=9.765625e-01\n"
          ]
        },
        {
          "output_type": "stream",
          "name": "stderr",
          "text": [
            "INFO:__main__:Iteration=1171, Time=1.143555e+03, dt=9.765625e-01\n"
          ]
        },
        {
          "output_type": "stream",
          "name": "stdout",
          "text": [
            "2024-11-01 18:02:17,290 __main__ 0/1 INFO :: Iteration=1171, Time=1.143555e+03, dt=9.765625e-01\n"
          ]
        },
        {
          "output_type": "stream",
          "name": "stderr",
          "text": [
            "INFO:__main__:Iteration=1181, Time=1.153320e+03, dt=9.765625e-01\n"
          ]
        },
        {
          "output_type": "stream",
          "name": "stdout",
          "text": [
            "2024-11-01 18:02:17,324 __main__ 0/1 INFO :: Iteration=1181, Time=1.153320e+03, dt=9.765625e-01\n"
          ]
        },
        {
          "output_type": "stream",
          "name": "stderr",
          "text": [
            "INFO:__main__:Iteration=1191, Time=1.163086e+03, dt=9.765625e-01\n"
          ]
        },
        {
          "output_type": "stream",
          "name": "stdout",
          "text": [
            "2024-11-01 18:02:17,358 __main__ 0/1 INFO :: Iteration=1191, Time=1.163086e+03, dt=9.765625e-01\n"
          ]
        },
        {
          "output_type": "stream",
          "name": "stderr",
          "text": [
            "INFO:__main__:Iteration=1201, Time=1.172852e+03, dt=9.765625e-01\n"
          ]
        },
        {
          "output_type": "stream",
          "name": "stdout",
          "text": [
            "2024-11-01 18:02:17,400 __main__ 0/1 INFO :: Iteration=1201, Time=1.172852e+03, dt=9.765625e-01\n"
          ]
        },
        {
          "output_type": "stream",
          "name": "stderr",
          "text": [
            "INFO:__main__:Iteration=1211, Time=1.182617e+03, dt=9.765625e-01\n"
          ]
        },
        {
          "output_type": "stream",
          "name": "stdout",
          "text": [
            "2024-11-01 18:02:17,433 __main__ 0/1 INFO :: Iteration=1211, Time=1.182617e+03, dt=9.765625e-01\n"
          ]
        },
        {
          "output_type": "stream",
          "name": "stderr",
          "text": [
            "INFO:__main__:Iteration=1221, Time=1.192383e+03, dt=9.765625e-01\n"
          ]
        },
        {
          "output_type": "stream",
          "name": "stdout",
          "text": [
            "2024-11-01 18:02:17,473 __main__ 0/1 INFO :: Iteration=1221, Time=1.192383e+03, dt=9.765625e-01\n"
          ]
        },
        {
          "output_type": "stream",
          "name": "stderr",
          "text": [
            "INFO:__main__:Iteration=1231, Time=1.202148e+03, dt=9.765625e-01\n"
          ]
        },
        {
          "output_type": "stream",
          "name": "stdout",
          "text": [
            "2024-11-01 18:02:17,507 __main__ 0/1 INFO :: Iteration=1231, Time=1.202148e+03, dt=9.765625e-01\n"
          ]
        },
        {
          "output_type": "stream",
          "name": "stderr",
          "text": [
            "INFO:__main__:Iteration=1241, Time=1.211914e+03, dt=9.765625e-01\n"
          ]
        },
        {
          "output_type": "stream",
          "name": "stdout",
          "text": [
            "2024-11-01 18:02:17,543 __main__ 0/1 INFO :: Iteration=1241, Time=1.211914e+03, dt=9.765625e-01\n"
          ]
        },
        {
          "output_type": "stream",
          "name": "stderr",
          "text": [
            "INFO:__main__:Iteration=1251, Time=1.221680e+03, dt=9.765625e-01\n"
          ]
        },
        {
          "output_type": "stream",
          "name": "stdout",
          "text": [
            "2024-11-01 18:02:17,578 __main__ 0/1 INFO :: Iteration=1251, Time=1.221680e+03, dt=9.765625e-01\n"
          ]
        },
        {
          "output_type": "stream",
          "name": "stderr",
          "text": [
            "INFO:__main__:Iteration=1261, Time=1.231445e+03, dt=9.765625e-01\n"
          ]
        },
        {
          "output_type": "stream",
          "name": "stdout",
          "text": [
            "2024-11-01 18:02:17,617 __main__ 0/1 INFO :: Iteration=1261, Time=1.231445e+03, dt=9.765625e-01\n"
          ]
        },
        {
          "output_type": "stream",
          "name": "stderr",
          "text": [
            "INFO:__main__:Iteration=1271, Time=1.241211e+03, dt=9.765625e-01\n"
          ]
        },
        {
          "output_type": "stream",
          "name": "stdout",
          "text": [
            "2024-11-01 18:02:17,652 __main__ 0/1 INFO :: Iteration=1271, Time=1.241211e+03, dt=9.765625e-01\n"
          ]
        },
        {
          "output_type": "stream",
          "name": "stderr",
          "text": [
            "INFO:__main__:Iteration=1281, Time=1.250977e+03, dt=9.765625e-01\n"
          ]
        },
        {
          "output_type": "stream",
          "name": "stdout",
          "text": [
            "2024-11-01 18:02:17,688 __main__ 0/1 INFO :: Iteration=1281, Time=1.250977e+03, dt=9.765625e-01\n"
          ]
        },
        {
          "output_type": "stream",
          "name": "stderr",
          "text": [
            "INFO:__main__:Iteration=1291, Time=1.260742e+03, dt=9.765625e-01\n"
          ]
        },
        {
          "output_type": "stream",
          "name": "stdout",
          "text": [
            "2024-11-01 18:02:17,722 __main__ 0/1 INFO :: Iteration=1291, Time=1.260742e+03, dt=9.765625e-01\n"
          ]
        },
        {
          "output_type": "stream",
          "name": "stderr",
          "text": [
            "INFO:__main__:Iteration=1301, Time=1.270508e+03, dt=9.765625e-01\n"
          ]
        },
        {
          "output_type": "stream",
          "name": "stdout",
          "text": [
            "2024-11-01 18:02:17,773 __main__ 0/1 INFO :: Iteration=1301, Time=1.270508e+03, dt=9.765625e-01\n"
          ]
        },
        {
          "output_type": "stream",
          "name": "stderr",
          "text": [
            "INFO:__main__:Iteration=1311, Time=1.280273e+03, dt=9.765625e-01\n"
          ]
        },
        {
          "output_type": "stream",
          "name": "stdout",
          "text": [
            "2024-11-01 18:02:17,824 __main__ 0/1 INFO :: Iteration=1311, Time=1.280273e+03, dt=9.765625e-01\n"
          ]
        },
        {
          "output_type": "stream",
          "name": "stderr",
          "text": [
            "INFO:__main__:Iteration=1321, Time=1.290039e+03, dt=9.765625e-01\n"
          ]
        },
        {
          "output_type": "stream",
          "name": "stdout",
          "text": [
            "2024-11-01 18:02:17,873 __main__ 0/1 INFO :: Iteration=1321, Time=1.290039e+03, dt=9.765625e-01\n"
          ]
        },
        {
          "output_type": "stream",
          "name": "stderr",
          "text": [
            "INFO:__main__:Iteration=1331, Time=1.299805e+03, dt=9.765625e-01\n"
          ]
        },
        {
          "output_type": "stream",
          "name": "stdout",
          "text": [
            "2024-11-01 18:02:17,924 __main__ 0/1 INFO :: Iteration=1331, Time=1.299805e+03, dt=9.765625e-01\n"
          ]
        },
        {
          "output_type": "stream",
          "name": "stderr",
          "text": [
            "INFO:__main__:Iteration=1341, Time=1.309570e+03, dt=9.765625e-01\n"
          ]
        },
        {
          "output_type": "stream",
          "name": "stdout",
          "text": [
            "2024-11-01 18:02:17,980 __main__ 0/1 INFO :: Iteration=1341, Time=1.309570e+03, dt=9.765625e-01\n"
          ]
        },
        {
          "output_type": "stream",
          "name": "stderr",
          "text": [
            "INFO:__main__:Iteration=1351, Time=1.319336e+03, dt=9.765625e-01\n"
          ]
        },
        {
          "output_type": "stream",
          "name": "stdout",
          "text": [
            "2024-11-01 18:02:18,020 __main__ 0/1 INFO :: Iteration=1351, Time=1.319336e+03, dt=9.765625e-01\n"
          ]
        },
        {
          "output_type": "stream",
          "name": "stderr",
          "text": [
            "INFO:__main__:Iteration=1361, Time=1.329102e+03, dt=9.765625e-01\n"
          ]
        },
        {
          "output_type": "stream",
          "name": "stdout",
          "text": [
            "2024-11-01 18:02:18,066 __main__ 0/1 INFO :: Iteration=1361, Time=1.329102e+03, dt=9.765625e-01\n"
          ]
        },
        {
          "output_type": "stream",
          "name": "stderr",
          "text": [
            "INFO:__main__:Iteration=1371, Time=1.338867e+03, dt=9.765625e-01\n"
          ]
        },
        {
          "output_type": "stream",
          "name": "stdout",
          "text": [
            "2024-11-01 18:02:18,111 __main__ 0/1 INFO :: Iteration=1371, Time=1.338867e+03, dt=9.765625e-01\n"
          ]
        },
        {
          "output_type": "stream",
          "name": "stderr",
          "text": [
            "INFO:__main__:Iteration=1381, Time=1.348633e+03, dt=9.765625e-01\n"
          ]
        },
        {
          "output_type": "stream",
          "name": "stdout",
          "text": [
            "2024-11-01 18:02:18,156 __main__ 0/1 INFO :: Iteration=1381, Time=1.348633e+03, dt=9.765625e-01\n"
          ]
        },
        {
          "output_type": "stream",
          "name": "stderr",
          "text": [
            "INFO:__main__:Iteration=1391, Time=1.358398e+03, dt=9.765625e-01\n"
          ]
        },
        {
          "output_type": "stream",
          "name": "stdout",
          "text": [
            "2024-11-01 18:02:18,225 __main__ 0/1 INFO :: Iteration=1391, Time=1.358398e+03, dt=9.765625e-01\n"
          ]
        },
        {
          "output_type": "stream",
          "name": "stderr",
          "text": [
            "INFO:__main__:Iteration=1401, Time=1.368164e+03, dt=9.765625e-01\n"
          ]
        },
        {
          "output_type": "stream",
          "name": "stdout",
          "text": [
            "2024-11-01 18:02:18,270 __main__ 0/1 INFO :: Iteration=1401, Time=1.368164e+03, dt=9.765625e-01\n"
          ]
        },
        {
          "output_type": "stream",
          "name": "stderr",
          "text": [
            "INFO:__main__:Iteration=1411, Time=1.377930e+03, dt=9.765625e-01\n"
          ]
        },
        {
          "output_type": "stream",
          "name": "stdout",
          "text": [
            "2024-11-01 18:02:18,317 __main__ 0/1 INFO :: Iteration=1411, Time=1.377930e+03, dt=9.765625e-01\n"
          ]
        },
        {
          "output_type": "stream",
          "name": "stderr",
          "text": [
            "INFO:__main__:Iteration=1421, Time=1.387695e+03, dt=9.765625e-01\n"
          ]
        },
        {
          "output_type": "stream",
          "name": "stdout",
          "text": [
            "2024-11-01 18:02:18,367 __main__ 0/1 INFO :: Iteration=1421, Time=1.387695e+03, dt=9.765625e-01\n"
          ]
        },
        {
          "output_type": "stream",
          "name": "stderr",
          "text": [
            "INFO:__main__:Iteration=1431, Time=1.397461e+03, dt=9.765625e-01\n"
          ]
        },
        {
          "output_type": "stream",
          "name": "stdout",
          "text": [
            "2024-11-01 18:02:18,414 __main__ 0/1 INFO :: Iteration=1431, Time=1.397461e+03, dt=9.765625e-01\n"
          ]
        },
        {
          "output_type": "stream",
          "name": "stderr",
          "text": [
            "INFO:__main__:Iteration=1441, Time=1.407227e+03, dt=9.765625e-01\n"
          ]
        },
        {
          "output_type": "stream",
          "name": "stdout",
          "text": [
            "2024-11-01 18:02:18,460 __main__ 0/1 INFO :: Iteration=1441, Time=1.407227e+03, dt=9.765625e-01\n"
          ]
        },
        {
          "output_type": "stream",
          "name": "stderr",
          "text": [
            "INFO:__main__:Iteration=1451, Time=1.416992e+03, dt=9.765625e-01\n"
          ]
        },
        {
          "output_type": "stream",
          "name": "stdout",
          "text": [
            "2024-11-01 18:02:18,507 __main__ 0/1 INFO :: Iteration=1451, Time=1.416992e+03, dt=9.765625e-01\n"
          ]
        },
        {
          "output_type": "stream",
          "name": "stderr",
          "text": [
            "INFO:__main__:Iteration=1461, Time=1.426758e+03, dt=9.765625e-01\n"
          ]
        },
        {
          "output_type": "stream",
          "name": "stdout",
          "text": [
            "2024-11-01 18:02:18,551 __main__ 0/1 INFO :: Iteration=1461, Time=1.426758e+03, dt=9.765625e-01\n"
          ]
        },
        {
          "output_type": "stream",
          "name": "stderr",
          "text": [
            "INFO:__main__:Iteration=1471, Time=1.436523e+03, dt=9.765625e-01\n"
          ]
        },
        {
          "output_type": "stream",
          "name": "stdout",
          "text": [
            "2024-11-01 18:02:18,592 __main__ 0/1 INFO :: Iteration=1471, Time=1.436523e+03, dt=9.765625e-01\n"
          ]
        },
        {
          "output_type": "stream",
          "name": "stderr",
          "text": [
            "INFO:__main__:Iteration=1481, Time=1.446289e+03, dt=9.765625e-01\n"
          ]
        },
        {
          "output_type": "stream",
          "name": "stdout",
          "text": [
            "2024-11-01 18:02:18,633 __main__ 0/1 INFO :: Iteration=1481, Time=1.446289e+03, dt=9.765625e-01\n"
          ]
        },
        {
          "output_type": "stream",
          "name": "stderr",
          "text": [
            "INFO:__main__:Iteration=1491, Time=1.456055e+03, dt=9.765625e-01\n"
          ]
        },
        {
          "output_type": "stream",
          "name": "stdout",
          "text": [
            "2024-11-01 18:02:18,683 __main__ 0/1 INFO :: Iteration=1491, Time=1.456055e+03, dt=9.765625e-01\n"
          ]
        },
        {
          "output_type": "stream",
          "name": "stderr",
          "text": [
            "INFO:__main__:Iteration=1501, Time=1.465820e+03, dt=9.765625e-01\n"
          ]
        },
        {
          "output_type": "stream",
          "name": "stdout",
          "text": [
            "2024-11-01 18:02:18,739 __main__ 0/1 INFO :: Iteration=1501, Time=1.465820e+03, dt=9.765625e-01\n"
          ]
        },
        {
          "output_type": "stream",
          "name": "stderr",
          "text": [
            "INFO:__main__:Iteration=1511, Time=1.475586e+03, dt=9.765625e-01\n"
          ]
        },
        {
          "output_type": "stream",
          "name": "stdout",
          "text": [
            "2024-11-01 18:02:18,800 __main__ 0/1 INFO :: Iteration=1511, Time=1.475586e+03, dt=9.765625e-01\n"
          ]
        },
        {
          "output_type": "stream",
          "name": "stderr",
          "text": [
            "INFO:__main__:Iteration=1521, Time=1.485352e+03, dt=9.765625e-01\n"
          ]
        },
        {
          "output_type": "stream",
          "name": "stdout",
          "text": [
            "2024-11-01 18:02:18,853 __main__ 0/1 INFO :: Iteration=1521, Time=1.485352e+03, dt=9.765625e-01\n"
          ]
        },
        {
          "output_type": "stream",
          "name": "stderr",
          "text": [
            "INFO:__main__:Iteration=1531, Time=1.495117e+03, dt=9.765625e-01\n"
          ]
        },
        {
          "output_type": "stream",
          "name": "stdout",
          "text": [
            "2024-11-01 18:02:18,903 __main__ 0/1 INFO :: Iteration=1531, Time=1.495117e+03, dt=9.765625e-01\n"
          ]
        },
        {
          "output_type": "stream",
          "name": "stderr",
          "text": [
            "INFO:solvers:Simulation stop time reached.\n"
          ]
        },
        {
          "output_type": "stream",
          "name": "stdout",
          "text": [
            "2024-11-01 18:02:18,933 solvers 0/1 INFO :: Simulation stop time reached.\n"
          ]
        },
        {
          "output_type": "stream",
          "name": "stderr",
          "text": [
            "INFO:solvers:Final iteration: 1536\n"
          ]
        },
        {
          "output_type": "stream",
          "name": "stdout",
          "text": [
            "2024-11-01 18:02:18,936 solvers 0/1 INFO :: Final iteration: 1536\n"
          ]
        },
        {
          "output_type": "stream",
          "name": "stderr",
          "text": [
            "INFO:solvers:Final sim time: 1500.0\n"
          ]
        },
        {
          "output_type": "stream",
          "name": "stdout",
          "text": [
            "2024-11-01 18:02:18,939 solvers 0/1 INFO :: Final sim time: 1500.0\n"
          ]
        },
        {
          "output_type": "stream",
          "name": "stderr",
          "text": [
            "INFO:solvers:Setup time (init - iter 0): 0.3656 sec\n"
          ]
        },
        {
          "output_type": "stream",
          "name": "stdout",
          "text": [
            "2024-11-01 18:02:18,945 solvers 0/1 INFO :: Setup time (init - iter 0): 0.3656 sec\n"
          ]
        },
        {
          "output_type": "stream",
          "name": "stderr",
          "text": [
            "INFO:solvers:Warmup time (iter 0-10): 0.08291 sec\n"
          ]
        },
        {
          "output_type": "stream",
          "name": "stdout",
          "text": [
            "2024-11-01 18:02:18,950 solvers 0/1 INFO :: Warmup time (iter 0-10): 0.08291 sec\n"
          ]
        },
        {
          "output_type": "stream",
          "name": "stderr",
          "text": [
            "INFO:solvers:Run time (iter 10-end): 5.986 sec\n"
          ]
        },
        {
          "output_type": "stream",
          "name": "stdout",
          "text": [
            "2024-11-01 18:02:18,958 solvers 0/1 INFO :: Run time (iter 10-end): 5.986 sec\n"
          ]
        },
        {
          "output_type": "stream",
          "name": "stderr",
          "text": [
            "INFO:solvers:CPU time (iter 10-end): 0.001663 cpu-hr\n"
          ]
        },
        {
          "output_type": "stream",
          "name": "stdout",
          "text": [
            "2024-11-01 18:02:18,963 solvers 0/1 INFO :: CPU time (iter 10-end): 0.001663 cpu-hr\n"
          ]
        },
        {
          "output_type": "stream",
          "name": "stderr",
          "text": [
            "INFO:solvers:Speed: 4.42e+06 mode-stages/cpu-sec\n"
          ]
        },
        {
          "output_type": "stream",
          "name": "stdout",
          "text": [
            "2024-11-01 18:02:18,969 solvers 0/1 INFO :: Speed: 4.42e+06 mode-stages/cpu-sec\n"
          ]
        },
        {
          "output_type": "stream",
          "name": "stderr",
          "text": [
            "INFO:subsystems:Building subproblem matrices 1/1 (~100%) Elapsed: 0s, Remaining: 0s, Rate: 2.5e+00/s\n"
          ]
        },
        {
          "output_type": "stream",
          "name": "stdout",
          "text": [
            "2024-11-01 18:02:19,533 subsystems 0/1 INFO :: Building subproblem matrices 1/1 (~100%) Elapsed: 0s, Remaining: 0s, Rate: 2.5e+00/s\n"
          ]
        },
        {
          "output_type": "stream",
          "name": "stderr",
          "text": [
            "INFO:__main__:Starting main loop\n"
          ]
        },
        {
          "output_type": "stream",
          "name": "stdout",
          "text": [
            "2024-11-01 18:02:19,538 __main__ 0/1 INFO :: Starting main loop\n"
          ]
        },
        {
          "output_type": "stream",
          "name": "stderr",
          "text": [
            "INFO:__main__:Iteration=1, Time=3.906250e+00, dt=3.906250e+00\n"
          ]
        },
        {
          "output_type": "stream",
          "name": "stdout",
          "text": [
            "2024-11-01 18:02:19,598 __main__ 0/1 INFO :: Iteration=1, Time=3.906250e+00, dt=3.906250e+00\n"
          ]
        },
        {
          "output_type": "stream",
          "name": "stderr",
          "text": [
            "INFO:__main__:Iteration=11, Time=4.296875e+01, dt=3.906250e+00\n"
          ]
        },
        {
          "output_type": "stream",
          "name": "stdout",
          "text": [
            "2024-11-01 18:02:19,645 __main__ 0/1 INFO :: Iteration=11, Time=4.296875e+01, dt=3.906250e+00\n"
          ]
        },
        {
          "output_type": "stream",
          "name": "stderr",
          "text": [
            "INFO:__main__:Iteration=21, Time=8.203125e+01, dt=3.906250e+00\n"
          ]
        },
        {
          "output_type": "stream",
          "name": "stdout",
          "text": [
            "2024-11-01 18:02:19,692 __main__ 0/1 INFO :: Iteration=21, Time=8.203125e+01, dt=3.906250e+00\n"
          ]
        },
        {
          "output_type": "stream",
          "name": "stderr",
          "text": [
            "INFO:__main__:Iteration=31, Time=1.210938e+02, dt=3.906250e+00\n"
          ]
        },
        {
          "output_type": "stream",
          "name": "stdout",
          "text": [
            "2024-11-01 18:02:19,734 __main__ 0/1 INFO :: Iteration=31, Time=1.210938e+02, dt=3.906250e+00\n"
          ]
        },
        {
          "output_type": "stream",
          "name": "stderr",
          "text": [
            "INFO:__main__:Iteration=41, Time=1.601562e+02, dt=3.906250e+00\n"
          ]
        },
        {
          "output_type": "stream",
          "name": "stdout",
          "text": [
            "2024-11-01 18:02:19,775 __main__ 0/1 INFO :: Iteration=41, Time=1.601562e+02, dt=3.906250e+00\n"
          ]
        },
        {
          "output_type": "stream",
          "name": "stderr",
          "text": [
            "INFO:__main__:Iteration=51, Time=1.992188e+02, dt=3.906250e+00\n"
          ]
        },
        {
          "output_type": "stream",
          "name": "stdout",
          "text": [
            "2024-11-01 18:02:19,830 __main__ 0/1 INFO :: Iteration=51, Time=1.992188e+02, dt=3.906250e+00\n"
          ]
        },
        {
          "output_type": "stream",
          "name": "stderr",
          "text": [
            "INFO:__main__:Iteration=61, Time=2.382812e+02, dt=3.906250e+00\n"
          ]
        },
        {
          "output_type": "stream",
          "name": "stdout",
          "text": [
            "2024-11-01 18:02:19,886 __main__ 0/1 INFO :: Iteration=61, Time=2.382812e+02, dt=3.906250e+00\n"
          ]
        },
        {
          "output_type": "stream",
          "name": "stderr",
          "text": [
            "INFO:__main__:Iteration=71, Time=2.773438e+02, dt=3.906250e+00\n"
          ]
        },
        {
          "output_type": "stream",
          "name": "stdout",
          "text": [
            "2024-11-01 18:02:19,932 __main__ 0/1 INFO :: Iteration=71, Time=2.773438e+02, dt=3.906250e+00\n"
          ]
        },
        {
          "output_type": "stream",
          "name": "stderr",
          "text": [
            "INFO:__main__:Iteration=81, Time=3.164062e+02, dt=3.906250e+00\n"
          ]
        },
        {
          "output_type": "stream",
          "name": "stdout",
          "text": [
            "2024-11-01 18:02:19,985 __main__ 0/1 INFO :: Iteration=81, Time=3.164062e+02, dt=3.906250e+00\n"
          ]
        },
        {
          "output_type": "stream",
          "name": "stderr",
          "text": [
            "INFO:__main__:Iteration=91, Time=3.554688e+02, dt=3.906250e+00\n"
          ]
        },
        {
          "output_type": "stream",
          "name": "stdout",
          "text": [
            "2024-11-01 18:02:20,027 __main__ 0/1 INFO :: Iteration=91, Time=3.554688e+02, dt=3.906250e+00\n"
          ]
        },
        {
          "output_type": "stream",
          "name": "stderr",
          "text": [
            "INFO:__main__:Iteration=101, Time=3.945312e+02, dt=3.906250e+00\n"
          ]
        },
        {
          "output_type": "stream",
          "name": "stdout",
          "text": [
            "2024-11-01 18:02:20,069 __main__ 0/1 INFO :: Iteration=101, Time=3.945312e+02, dt=3.906250e+00\n"
          ]
        },
        {
          "output_type": "stream",
          "name": "stderr",
          "text": [
            "INFO:__main__:Iteration=111, Time=4.335938e+02, dt=3.906250e+00\n"
          ]
        },
        {
          "output_type": "stream",
          "name": "stdout",
          "text": [
            "2024-11-01 18:02:20,107 __main__ 0/1 INFO :: Iteration=111, Time=4.335938e+02, dt=3.906250e+00\n"
          ]
        },
        {
          "output_type": "stream",
          "name": "stderr",
          "text": [
            "INFO:__main__:Iteration=121, Time=4.726562e+02, dt=3.906250e+00\n"
          ]
        },
        {
          "output_type": "stream",
          "name": "stdout",
          "text": [
            "2024-11-01 18:02:20,144 __main__ 0/1 INFO :: Iteration=121, Time=4.726562e+02, dt=3.906250e+00\n"
          ]
        },
        {
          "output_type": "stream",
          "name": "stderr",
          "text": [
            "INFO:__main__:Iteration=131, Time=5.117188e+02, dt=3.906250e+00\n"
          ]
        },
        {
          "output_type": "stream",
          "name": "stdout",
          "text": [
            "2024-11-01 18:02:20,180 __main__ 0/1 INFO :: Iteration=131, Time=5.117188e+02, dt=3.906250e+00\n"
          ]
        },
        {
          "output_type": "stream",
          "name": "stderr",
          "text": [
            "INFO:__main__:Iteration=141, Time=5.507812e+02, dt=3.906250e+00\n"
          ]
        },
        {
          "output_type": "stream",
          "name": "stdout",
          "text": [
            "2024-11-01 18:02:20,216 __main__ 0/1 INFO :: Iteration=141, Time=5.507812e+02, dt=3.906250e+00\n"
          ]
        },
        {
          "output_type": "stream",
          "name": "stderr",
          "text": [
            "INFO:__main__:Iteration=151, Time=5.898438e+02, dt=3.906250e+00\n"
          ]
        },
        {
          "output_type": "stream",
          "name": "stdout",
          "text": [
            "2024-11-01 18:02:20,252 __main__ 0/1 INFO :: Iteration=151, Time=5.898438e+02, dt=3.906250e+00\n"
          ]
        },
        {
          "output_type": "stream",
          "name": "stderr",
          "text": [
            "INFO:__main__:Iteration=161, Time=6.289062e+02, dt=3.906250e+00\n"
          ]
        },
        {
          "output_type": "stream",
          "name": "stdout",
          "text": [
            "2024-11-01 18:02:20,291 __main__ 0/1 INFO :: Iteration=161, Time=6.289062e+02, dt=3.906250e+00\n"
          ]
        },
        {
          "output_type": "stream",
          "name": "stderr",
          "text": [
            "INFO:__main__:Iteration=171, Time=6.679688e+02, dt=3.906250e+00\n"
          ]
        },
        {
          "output_type": "stream",
          "name": "stdout",
          "text": [
            "2024-11-01 18:02:20,329 __main__ 0/1 INFO :: Iteration=171, Time=6.679688e+02, dt=3.906250e+00\n"
          ]
        },
        {
          "output_type": "stream",
          "name": "stderr",
          "text": [
            "INFO:__main__:Iteration=181, Time=7.070312e+02, dt=3.906250e+00\n"
          ]
        },
        {
          "output_type": "stream",
          "name": "stdout",
          "text": [
            "2024-11-01 18:02:20,377 __main__ 0/1 INFO :: Iteration=181, Time=7.070312e+02, dt=3.906250e+00\n"
          ]
        },
        {
          "output_type": "stream",
          "name": "stderr",
          "text": [
            "INFO:__main__:Iteration=191, Time=7.460938e+02, dt=3.906250e+00\n"
          ]
        },
        {
          "output_type": "stream",
          "name": "stdout",
          "text": [
            "2024-11-01 18:02:20,433 __main__ 0/1 INFO :: Iteration=191, Time=7.460938e+02, dt=3.906250e+00\n"
          ]
        },
        {
          "output_type": "stream",
          "name": "stderr",
          "text": [
            "INFO:__main__:Iteration=201, Time=7.851562e+02, dt=3.906250e+00\n"
          ]
        },
        {
          "output_type": "stream",
          "name": "stdout",
          "text": [
            "2024-11-01 18:02:20,483 __main__ 0/1 INFO :: Iteration=201, Time=7.851562e+02, dt=3.906250e+00\n"
          ]
        },
        {
          "output_type": "stream",
          "name": "stderr",
          "text": [
            "INFO:__main__:Iteration=211, Time=8.242188e+02, dt=3.906250e+00\n"
          ]
        },
        {
          "output_type": "stream",
          "name": "stdout",
          "text": [
            "2024-11-01 18:02:20,550 __main__ 0/1 INFO :: Iteration=211, Time=8.242188e+02, dt=3.906250e+00\n"
          ]
        },
        {
          "output_type": "stream",
          "name": "stderr",
          "text": [
            "INFO:__main__:Iteration=221, Time=8.632812e+02, dt=3.906250e+00\n"
          ]
        },
        {
          "output_type": "stream",
          "name": "stdout",
          "text": [
            "2024-11-01 18:02:20,590 __main__ 0/1 INFO :: Iteration=221, Time=8.632812e+02, dt=3.906250e+00\n"
          ]
        },
        {
          "output_type": "stream",
          "name": "stderr",
          "text": [
            "INFO:__main__:Iteration=231, Time=9.023438e+02, dt=3.906250e+00\n"
          ]
        },
        {
          "output_type": "stream",
          "name": "stdout",
          "text": [
            "2024-11-01 18:02:20,642 __main__ 0/1 INFO :: Iteration=231, Time=9.023438e+02, dt=3.906250e+00\n"
          ]
        },
        {
          "output_type": "stream",
          "name": "stderr",
          "text": [
            "INFO:__main__:Iteration=241, Time=9.414062e+02, dt=3.906250e+00\n"
          ]
        },
        {
          "output_type": "stream",
          "name": "stdout",
          "text": [
            "2024-11-01 18:02:20,701 __main__ 0/1 INFO :: Iteration=241, Time=9.414062e+02, dt=3.906250e+00\n"
          ]
        },
        {
          "output_type": "stream",
          "name": "stderr",
          "text": [
            "INFO:__main__:Iteration=251, Time=9.804688e+02, dt=3.906250e+00\n"
          ]
        },
        {
          "output_type": "stream",
          "name": "stdout",
          "text": [
            "2024-11-01 18:02:20,752 __main__ 0/1 INFO :: Iteration=251, Time=9.804688e+02, dt=3.906250e+00\n"
          ]
        },
        {
          "output_type": "stream",
          "name": "stderr",
          "text": [
            "INFO:__main__:Iteration=261, Time=1.019531e+03, dt=3.906250e+00\n"
          ]
        },
        {
          "output_type": "stream",
          "name": "stdout",
          "text": [
            "2024-11-01 18:02:20,812 __main__ 0/1 INFO :: Iteration=261, Time=1.019531e+03, dt=3.906250e+00\n"
          ]
        },
        {
          "output_type": "stream",
          "name": "stderr",
          "text": [
            "INFO:__main__:Iteration=271, Time=1.058594e+03, dt=3.906250e+00\n"
          ]
        },
        {
          "output_type": "stream",
          "name": "stdout",
          "text": [
            "2024-11-01 18:02:20,864 __main__ 0/1 INFO :: Iteration=271, Time=1.058594e+03, dt=3.906250e+00\n"
          ]
        },
        {
          "output_type": "stream",
          "name": "stderr",
          "text": [
            "INFO:__main__:Iteration=281, Time=1.097656e+03, dt=3.906250e+00\n"
          ]
        },
        {
          "output_type": "stream",
          "name": "stdout",
          "text": [
            "2024-11-01 18:02:20,913 __main__ 0/1 INFO :: Iteration=281, Time=1.097656e+03, dt=3.906250e+00\n"
          ]
        },
        {
          "output_type": "stream",
          "name": "stderr",
          "text": [
            "INFO:__main__:Iteration=291, Time=1.136719e+03, dt=3.906250e+00\n"
          ]
        },
        {
          "output_type": "stream",
          "name": "stdout",
          "text": [
            "2024-11-01 18:02:20,960 __main__ 0/1 INFO :: Iteration=291, Time=1.136719e+03, dt=3.906250e+00\n"
          ]
        },
        {
          "output_type": "stream",
          "name": "stderr",
          "text": [
            "INFO:__main__:Iteration=301, Time=1.175781e+03, dt=3.906250e+00\n"
          ]
        },
        {
          "output_type": "stream",
          "name": "stdout",
          "text": [
            "2024-11-01 18:02:21,028 __main__ 0/1 INFO :: Iteration=301, Time=1.175781e+03, dt=3.906250e+00\n"
          ]
        },
        {
          "output_type": "stream",
          "name": "stderr",
          "text": [
            "INFO:__main__:Iteration=311, Time=1.214844e+03, dt=3.906250e+00\n"
          ]
        },
        {
          "output_type": "stream",
          "name": "stdout",
          "text": [
            "2024-11-01 18:02:21,093 __main__ 0/1 INFO :: Iteration=311, Time=1.214844e+03, dt=3.906250e+00\n"
          ]
        },
        {
          "output_type": "stream",
          "name": "stderr",
          "text": [
            "INFO:__main__:Iteration=321, Time=1.253906e+03, dt=3.906250e+00\n"
          ]
        },
        {
          "output_type": "stream",
          "name": "stdout",
          "text": [
            "2024-11-01 18:02:21,155 __main__ 0/1 INFO :: Iteration=321, Time=1.253906e+03, dt=3.906250e+00\n"
          ]
        },
        {
          "output_type": "stream",
          "name": "stderr",
          "text": [
            "INFO:__main__:Iteration=331, Time=1.292969e+03, dt=3.906250e+00\n"
          ]
        },
        {
          "output_type": "stream",
          "name": "stdout",
          "text": [
            "2024-11-01 18:02:21,205 __main__ 0/1 INFO :: Iteration=331, Time=1.292969e+03, dt=3.906250e+00\n"
          ]
        },
        {
          "output_type": "stream",
          "name": "stderr",
          "text": [
            "INFO:__main__:Iteration=341, Time=1.332031e+03, dt=3.906250e+00\n"
          ]
        },
        {
          "output_type": "stream",
          "name": "stdout",
          "text": [
            "2024-11-01 18:02:21,258 __main__ 0/1 INFO :: Iteration=341, Time=1.332031e+03, dt=3.906250e+00\n"
          ]
        },
        {
          "output_type": "stream",
          "name": "stderr",
          "text": [
            "INFO:__main__:Iteration=351, Time=1.371094e+03, dt=3.906250e+00\n"
          ]
        },
        {
          "output_type": "stream",
          "name": "stdout",
          "text": [
            "2024-11-01 18:02:21,308 __main__ 0/1 INFO :: Iteration=351, Time=1.371094e+03, dt=3.906250e+00\n"
          ]
        },
        {
          "output_type": "stream",
          "name": "stderr",
          "text": [
            "INFO:__main__:Iteration=361, Time=1.410156e+03, dt=3.906250e+00\n"
          ]
        },
        {
          "output_type": "stream",
          "name": "stdout",
          "text": [
            "2024-11-01 18:02:21,349 __main__ 0/1 INFO :: Iteration=361, Time=1.410156e+03, dt=3.906250e+00\n"
          ]
        },
        {
          "output_type": "stream",
          "name": "stderr",
          "text": [
            "INFO:__main__:Iteration=371, Time=1.449219e+03, dt=3.906250e+00\n"
          ]
        },
        {
          "output_type": "stream",
          "name": "stdout",
          "text": [
            "2024-11-01 18:02:21,407 __main__ 0/1 INFO :: Iteration=371, Time=1.449219e+03, dt=3.906250e+00\n"
          ]
        },
        {
          "output_type": "stream",
          "name": "stderr",
          "text": [
            "INFO:__main__:Iteration=381, Time=1.488281e+03, dt=3.906250e+00\n"
          ]
        },
        {
          "output_type": "stream",
          "name": "stdout",
          "text": [
            "2024-11-01 18:02:21,449 __main__ 0/1 INFO :: Iteration=381, Time=1.488281e+03, dt=3.906250e+00\n"
          ]
        },
        {
          "output_type": "stream",
          "name": "stderr",
          "text": [
            "INFO:solvers:Simulation stop time reached.\n"
          ]
        },
        {
          "output_type": "stream",
          "name": "stdout",
          "text": [
            "2024-11-01 18:02:21,468 solvers 0/1 INFO :: Simulation stop time reached.\n"
          ]
        },
        {
          "output_type": "stream",
          "name": "stderr",
          "text": [
            "INFO:solvers:Final iteration: 384\n"
          ]
        },
        {
          "output_type": "stream",
          "name": "stdout",
          "text": [
            "2024-11-01 18:02:21,474 solvers 0/1 INFO :: Final iteration: 384\n"
          ]
        },
        {
          "output_type": "stream",
          "name": "stderr",
          "text": [
            "INFO:solvers:Final sim time: 1500.0\n"
          ]
        },
        {
          "output_type": "stream",
          "name": "stdout",
          "text": [
            "2024-11-01 18:02:21,478 solvers 0/1 INFO :: Final sim time: 1500.0\n"
          ]
        },
        {
          "output_type": "stream",
          "name": "stderr",
          "text": [
            "INFO:solvers:Setup time (init - iter 0): 0.4918 sec\n"
          ]
        },
        {
          "output_type": "stream",
          "name": "stdout",
          "text": [
            "2024-11-01 18:02:21,483 solvers 0/1 INFO :: Setup time (init - iter 0): 0.4918 sec\n"
          ]
        },
        {
          "output_type": "stream",
          "name": "stderr",
          "text": [
            "INFO:solvers:Warmup time (iter 0-10): 0.09437 sec\n"
          ]
        },
        {
          "output_type": "stream",
          "name": "stdout",
          "text": [
            "2024-11-01 18:02:21,488 solvers 0/1 INFO :: Warmup time (iter 0-10): 0.09437 sec\n"
          ]
        },
        {
          "output_type": "stream",
          "name": "stderr",
          "text": [
            "INFO:solvers:Run time (iter 10-end): 1.833 sec\n"
          ]
        },
        {
          "output_type": "stream",
          "name": "stdout",
          "text": [
            "2024-11-01 18:02:21,491 solvers 0/1 INFO :: Run time (iter 10-end): 1.833 sec\n"
          ]
        },
        {
          "output_type": "stream",
          "name": "stderr",
          "text": [
            "INFO:solvers:CPU time (iter 10-end): 0.0005091 cpu-hr\n"
          ]
        },
        {
          "output_type": "stream",
          "name": "stdout",
          "text": [
            "2024-11-01 18:02:21,496 solvers 0/1 INFO :: CPU time (iter 10-end): 0.0005091 cpu-hr\n"
          ]
        },
        {
          "output_type": "stream",
          "name": "stderr",
          "text": [
            "INFO:solvers:Speed: 3.539e+06 mode-stages/cpu-sec\n"
          ]
        },
        {
          "output_type": "stream",
          "name": "stdout",
          "text": [
            "2024-11-01 18:02:21,499 solvers 0/1 INFO :: Speed: 3.539e+06 mode-stages/cpu-sec\n"
          ]
        },
        {
          "output_type": "stream",
          "name": "stderr",
          "text": [
            "INFO:subsystems:Building subproblem matrices 1/1 (~100%) Elapsed: 0s, Remaining: 0s, Rate: 2.2e+00/s\n"
          ]
        },
        {
          "output_type": "stream",
          "name": "stdout",
          "text": [
            "2024-11-01 18:02:22,086 subsystems 0/1 INFO :: Building subproblem matrices 1/1 (~100%) Elapsed: 0s, Remaining: 0s, Rate: 2.2e+00/s\n"
          ]
        },
        {
          "output_type": "stream",
          "name": "stderr",
          "text": [
            "INFO:__main__:Starting main loop\n"
          ]
        },
        {
          "output_type": "stream",
          "name": "stdout",
          "text": [
            "2024-11-01 18:02:22,093 __main__ 0/1 INFO :: Starting main loop\n"
          ]
        },
        {
          "output_type": "stream",
          "name": "stderr",
          "text": [
            "INFO:__main__:Iteration=1, Time=1.953125e+00, dt=1.953125e+00\n"
          ]
        },
        {
          "output_type": "stream",
          "name": "stdout",
          "text": [
            "2024-11-01 18:02:22,152 __main__ 0/1 INFO :: Iteration=1, Time=1.953125e+00, dt=1.953125e+00\n"
          ]
        },
        {
          "output_type": "stream",
          "name": "stderr",
          "text": [
            "INFO:__main__:Iteration=11, Time=2.148438e+01, dt=1.953125e+00\n"
          ]
        },
        {
          "output_type": "stream",
          "name": "stdout",
          "text": [
            "2024-11-01 18:02:22,204 __main__ 0/1 INFO :: Iteration=11, Time=2.148438e+01, dt=1.953125e+00\n"
          ]
        },
        {
          "output_type": "stream",
          "name": "stderr",
          "text": [
            "INFO:__main__:Iteration=21, Time=4.101562e+01, dt=1.953125e+00\n"
          ]
        },
        {
          "output_type": "stream",
          "name": "stdout",
          "text": [
            "2024-11-01 18:02:22,251 __main__ 0/1 INFO :: Iteration=21, Time=4.101562e+01, dt=1.953125e+00\n"
          ]
        },
        {
          "output_type": "stream",
          "name": "stderr",
          "text": [
            "INFO:__main__:Iteration=31, Time=6.054688e+01, dt=1.953125e+00\n"
          ]
        },
        {
          "output_type": "stream",
          "name": "stdout",
          "text": [
            "2024-11-01 18:02:22,302 __main__ 0/1 INFO :: Iteration=31, Time=6.054688e+01, dt=1.953125e+00\n"
          ]
        },
        {
          "output_type": "stream",
          "name": "stderr",
          "text": [
            "INFO:__main__:Iteration=41, Time=8.007812e+01, dt=1.953125e+00\n"
          ]
        },
        {
          "output_type": "stream",
          "name": "stdout",
          "text": [
            "2024-11-01 18:02:22,344 __main__ 0/1 INFO :: Iteration=41, Time=8.007812e+01, dt=1.953125e+00\n"
          ]
        },
        {
          "output_type": "stream",
          "name": "stderr",
          "text": [
            "INFO:__main__:Iteration=51, Time=9.960938e+01, dt=1.953125e+00\n"
          ]
        },
        {
          "output_type": "stream",
          "name": "stdout",
          "text": [
            "2024-11-01 18:02:22,387 __main__ 0/1 INFO :: Iteration=51, Time=9.960938e+01, dt=1.953125e+00\n"
          ]
        },
        {
          "output_type": "stream",
          "name": "stderr",
          "text": [
            "INFO:__main__:Iteration=61, Time=1.191406e+02, dt=1.953125e+00\n"
          ]
        },
        {
          "output_type": "stream",
          "name": "stdout",
          "text": [
            "2024-11-01 18:02:22,428 __main__ 0/1 INFO :: Iteration=61, Time=1.191406e+02, dt=1.953125e+00\n"
          ]
        },
        {
          "output_type": "stream",
          "name": "stderr",
          "text": [
            "INFO:__main__:Iteration=71, Time=1.386719e+02, dt=1.953125e+00\n"
          ]
        },
        {
          "output_type": "stream",
          "name": "stdout",
          "text": [
            "2024-11-01 18:02:22,474 __main__ 0/1 INFO :: Iteration=71, Time=1.386719e+02, dt=1.953125e+00\n"
          ]
        },
        {
          "output_type": "stream",
          "name": "stderr",
          "text": [
            "INFO:__main__:Iteration=81, Time=1.582031e+02, dt=1.953125e+00\n"
          ]
        },
        {
          "output_type": "stream",
          "name": "stdout",
          "text": [
            "2024-11-01 18:02:22,533 __main__ 0/1 INFO :: Iteration=81, Time=1.582031e+02, dt=1.953125e+00\n"
          ]
        },
        {
          "output_type": "stream",
          "name": "stderr",
          "text": [
            "INFO:__main__:Iteration=91, Time=1.777344e+02, dt=1.953125e+00\n"
          ]
        },
        {
          "output_type": "stream",
          "name": "stdout",
          "text": [
            "2024-11-01 18:02:22,573 __main__ 0/1 INFO :: Iteration=91, Time=1.777344e+02, dt=1.953125e+00\n"
          ]
        },
        {
          "output_type": "stream",
          "name": "stderr",
          "text": [
            "INFO:__main__:Iteration=101, Time=1.972656e+02, dt=1.953125e+00\n"
          ]
        },
        {
          "output_type": "stream",
          "name": "stdout",
          "text": [
            "2024-11-01 18:02:22,614 __main__ 0/1 INFO :: Iteration=101, Time=1.972656e+02, dt=1.953125e+00\n"
          ]
        },
        {
          "output_type": "stream",
          "name": "stderr",
          "text": [
            "INFO:__main__:Iteration=111, Time=2.167969e+02, dt=1.953125e+00\n"
          ]
        },
        {
          "output_type": "stream",
          "name": "stdout",
          "text": [
            "2024-11-01 18:02:22,655 __main__ 0/1 INFO :: Iteration=111, Time=2.167969e+02, dt=1.953125e+00\n"
          ]
        },
        {
          "output_type": "stream",
          "name": "stderr",
          "text": [
            "INFO:__main__:Iteration=121, Time=2.363281e+02, dt=1.953125e+00\n"
          ]
        },
        {
          "output_type": "stream",
          "name": "stdout",
          "text": [
            "2024-11-01 18:02:22,696 __main__ 0/1 INFO :: Iteration=121, Time=2.363281e+02, dt=1.953125e+00\n"
          ]
        },
        {
          "output_type": "stream",
          "name": "stderr",
          "text": [
            "INFO:__main__:Iteration=131, Time=2.558594e+02, dt=1.953125e+00\n"
          ]
        },
        {
          "output_type": "stream",
          "name": "stdout",
          "text": [
            "2024-11-01 18:02:22,738 __main__ 0/1 INFO :: Iteration=131, Time=2.558594e+02, dt=1.953125e+00\n"
          ]
        },
        {
          "output_type": "stream",
          "name": "stderr",
          "text": [
            "INFO:__main__:Iteration=141, Time=2.753906e+02, dt=1.953125e+00\n"
          ]
        },
        {
          "output_type": "stream",
          "name": "stdout",
          "text": [
            "2024-11-01 18:02:22,783 __main__ 0/1 INFO :: Iteration=141, Time=2.753906e+02, dt=1.953125e+00\n"
          ]
        },
        {
          "output_type": "stream",
          "name": "stderr",
          "text": [
            "INFO:__main__:Iteration=151, Time=2.949219e+02, dt=1.953125e+00\n"
          ]
        },
        {
          "output_type": "stream",
          "name": "stdout",
          "text": [
            "2024-11-01 18:02:22,829 __main__ 0/1 INFO :: Iteration=151, Time=2.949219e+02, dt=1.953125e+00\n"
          ]
        },
        {
          "output_type": "stream",
          "name": "stderr",
          "text": [
            "INFO:__main__:Iteration=161, Time=3.144531e+02, dt=1.953125e+00\n"
          ]
        },
        {
          "output_type": "stream",
          "name": "stdout",
          "text": [
            "2024-11-01 18:02:22,885 __main__ 0/1 INFO :: Iteration=161, Time=3.144531e+02, dt=1.953125e+00\n"
          ]
        },
        {
          "output_type": "stream",
          "name": "stderr",
          "text": [
            "INFO:__main__:Iteration=171, Time=3.339844e+02, dt=1.953125e+00\n"
          ]
        },
        {
          "output_type": "stream",
          "name": "stdout",
          "text": [
            "2024-11-01 18:02:22,944 __main__ 0/1 INFO :: Iteration=171, Time=3.339844e+02, dt=1.953125e+00\n"
          ]
        },
        {
          "output_type": "stream",
          "name": "stderr",
          "text": [
            "INFO:__main__:Iteration=181, Time=3.535156e+02, dt=1.953125e+00\n"
          ]
        },
        {
          "output_type": "stream",
          "name": "stdout",
          "text": [
            "2024-11-01 18:02:23,002 __main__ 0/1 INFO :: Iteration=181, Time=3.535156e+02, dt=1.953125e+00\n"
          ]
        },
        {
          "output_type": "stream",
          "name": "stderr",
          "text": [
            "INFO:__main__:Iteration=191, Time=3.730469e+02, dt=1.953125e+00\n"
          ]
        },
        {
          "output_type": "stream",
          "name": "stdout",
          "text": [
            "2024-11-01 18:02:23,059 __main__ 0/1 INFO :: Iteration=191, Time=3.730469e+02, dt=1.953125e+00\n"
          ]
        },
        {
          "output_type": "stream",
          "name": "stderr",
          "text": [
            "INFO:__main__:Iteration=201, Time=3.925781e+02, dt=1.953125e+00\n"
          ]
        },
        {
          "output_type": "stream",
          "name": "stdout",
          "text": [
            "2024-11-01 18:02:23,122 __main__ 0/1 INFO :: Iteration=201, Time=3.925781e+02, dt=1.953125e+00\n"
          ]
        },
        {
          "output_type": "stream",
          "name": "stderr",
          "text": [
            "INFO:__main__:Iteration=211, Time=4.121094e+02, dt=1.953125e+00\n"
          ]
        },
        {
          "output_type": "stream",
          "name": "stdout",
          "text": [
            "2024-11-01 18:02:23,164 __main__ 0/1 INFO :: Iteration=211, Time=4.121094e+02, dt=1.953125e+00\n"
          ]
        },
        {
          "output_type": "stream",
          "name": "stderr",
          "text": [
            "INFO:__main__:Iteration=221, Time=4.316406e+02, dt=1.953125e+00\n"
          ]
        },
        {
          "output_type": "stream",
          "name": "stdout",
          "text": [
            "2024-11-01 18:02:23,203 __main__ 0/1 INFO :: Iteration=221, Time=4.316406e+02, dt=1.953125e+00\n"
          ]
        },
        {
          "output_type": "stream",
          "name": "stderr",
          "text": [
            "INFO:__main__:Iteration=231, Time=4.511719e+02, dt=1.953125e+00\n"
          ]
        },
        {
          "output_type": "stream",
          "name": "stdout",
          "text": [
            "2024-11-01 18:02:23,253 __main__ 0/1 INFO :: Iteration=231, Time=4.511719e+02, dt=1.953125e+00\n"
          ]
        },
        {
          "output_type": "stream",
          "name": "stderr",
          "text": [
            "INFO:__main__:Iteration=241, Time=4.707031e+02, dt=1.953125e+00\n"
          ]
        },
        {
          "output_type": "stream",
          "name": "stdout",
          "text": [
            "2024-11-01 18:02:23,303 __main__ 0/1 INFO :: Iteration=241, Time=4.707031e+02, dt=1.953125e+00\n"
          ]
        },
        {
          "output_type": "stream",
          "name": "stderr",
          "text": [
            "INFO:__main__:Iteration=251, Time=4.902344e+02, dt=1.953125e+00\n"
          ]
        },
        {
          "output_type": "stream",
          "name": "stdout",
          "text": [
            "2024-11-01 18:02:23,354 __main__ 0/1 INFO :: Iteration=251, Time=4.902344e+02, dt=1.953125e+00\n"
          ]
        },
        {
          "output_type": "stream",
          "name": "stderr",
          "text": [
            "INFO:__main__:Iteration=261, Time=5.097656e+02, dt=1.953125e+00\n"
          ]
        },
        {
          "output_type": "stream",
          "name": "stdout",
          "text": [
            "2024-11-01 18:02:23,395 __main__ 0/1 INFO :: Iteration=261, Time=5.097656e+02, dt=1.953125e+00\n"
          ]
        },
        {
          "output_type": "stream",
          "name": "stderr",
          "text": [
            "INFO:__main__:Iteration=271, Time=5.292969e+02, dt=1.953125e+00\n"
          ]
        },
        {
          "output_type": "stream",
          "name": "stdout",
          "text": [
            "2024-11-01 18:02:23,449 __main__ 0/1 INFO :: Iteration=271, Time=5.292969e+02, dt=1.953125e+00\n"
          ]
        },
        {
          "output_type": "stream",
          "name": "stderr",
          "text": [
            "INFO:__main__:Iteration=281, Time=5.488281e+02, dt=1.953125e+00\n"
          ]
        },
        {
          "output_type": "stream",
          "name": "stdout",
          "text": [
            "2024-11-01 18:02:23,497 __main__ 0/1 INFO :: Iteration=281, Time=5.488281e+02, dt=1.953125e+00\n"
          ]
        },
        {
          "output_type": "stream",
          "name": "stderr",
          "text": [
            "INFO:__main__:Iteration=291, Time=5.683594e+02, dt=1.953125e+00\n"
          ]
        },
        {
          "output_type": "stream",
          "name": "stdout",
          "text": [
            "2024-11-01 18:02:23,544 __main__ 0/1 INFO :: Iteration=291, Time=5.683594e+02, dt=1.953125e+00\n"
          ]
        },
        {
          "output_type": "stream",
          "name": "stderr",
          "text": [
            "INFO:__main__:Iteration=301, Time=5.878906e+02, dt=1.953125e+00\n"
          ]
        },
        {
          "output_type": "stream",
          "name": "stdout",
          "text": [
            "2024-11-01 18:02:23,604 __main__ 0/1 INFO :: Iteration=301, Time=5.878906e+02, dt=1.953125e+00\n"
          ]
        },
        {
          "output_type": "stream",
          "name": "stderr",
          "text": [
            "INFO:__main__:Iteration=311, Time=6.074219e+02, dt=1.953125e+00\n"
          ]
        },
        {
          "output_type": "stream",
          "name": "stdout",
          "text": [
            "2024-11-01 18:02:23,656 __main__ 0/1 INFO :: Iteration=311, Time=6.074219e+02, dt=1.953125e+00\n"
          ]
        },
        {
          "output_type": "stream",
          "name": "stderr",
          "text": [
            "INFO:__main__:Iteration=321, Time=6.269531e+02, dt=1.953125e+00\n"
          ]
        },
        {
          "output_type": "stream",
          "name": "stdout",
          "text": [
            "2024-11-01 18:02:23,716 __main__ 0/1 INFO :: Iteration=321, Time=6.269531e+02, dt=1.953125e+00\n"
          ]
        },
        {
          "output_type": "stream",
          "name": "stderr",
          "text": [
            "INFO:__main__:Iteration=331, Time=6.464844e+02, dt=1.953125e+00\n"
          ]
        },
        {
          "output_type": "stream",
          "name": "stdout",
          "text": [
            "2024-11-01 18:02:23,773 __main__ 0/1 INFO :: Iteration=331, Time=6.464844e+02, dt=1.953125e+00\n"
          ]
        },
        {
          "output_type": "stream",
          "name": "stderr",
          "text": [
            "INFO:__main__:Iteration=341, Time=6.660156e+02, dt=1.953125e+00\n"
          ]
        },
        {
          "output_type": "stream",
          "name": "stdout",
          "text": [
            "2024-11-01 18:02:23,828 __main__ 0/1 INFO :: Iteration=341, Time=6.660156e+02, dt=1.953125e+00\n"
          ]
        },
        {
          "output_type": "stream",
          "name": "stderr",
          "text": [
            "INFO:__main__:Iteration=351, Time=6.855469e+02, dt=1.953125e+00\n"
          ]
        },
        {
          "output_type": "stream",
          "name": "stdout",
          "text": [
            "2024-11-01 18:02:23,884 __main__ 0/1 INFO :: Iteration=351, Time=6.855469e+02, dt=1.953125e+00\n"
          ]
        },
        {
          "output_type": "stream",
          "name": "stderr",
          "text": [
            "INFO:__main__:Iteration=361, Time=7.050781e+02, dt=1.953125e+00\n"
          ]
        },
        {
          "output_type": "stream",
          "name": "stdout",
          "text": [
            "2024-11-01 18:02:23,937 __main__ 0/1 INFO :: Iteration=361, Time=7.050781e+02, dt=1.953125e+00\n"
          ]
        },
        {
          "output_type": "stream",
          "name": "stderr",
          "text": [
            "INFO:__main__:Iteration=371, Time=7.246094e+02, dt=1.953125e+00\n"
          ]
        },
        {
          "output_type": "stream",
          "name": "stdout",
          "text": [
            "2024-11-01 18:02:24,005 __main__ 0/1 INFO :: Iteration=371, Time=7.246094e+02, dt=1.953125e+00\n"
          ]
        },
        {
          "output_type": "stream",
          "name": "stderr",
          "text": [
            "INFO:__main__:Iteration=381, Time=7.441406e+02, dt=1.953125e+00\n"
          ]
        },
        {
          "output_type": "stream",
          "name": "stdout",
          "text": [
            "2024-11-01 18:02:24,069 __main__ 0/1 INFO :: Iteration=381, Time=7.441406e+02, dt=1.953125e+00\n"
          ]
        },
        {
          "output_type": "stream",
          "name": "stderr",
          "text": [
            "INFO:__main__:Iteration=391, Time=7.636719e+02, dt=1.953125e+00\n"
          ]
        },
        {
          "output_type": "stream",
          "name": "stdout",
          "text": [
            "2024-11-01 18:02:24,122 __main__ 0/1 INFO :: Iteration=391, Time=7.636719e+02, dt=1.953125e+00\n"
          ]
        },
        {
          "output_type": "stream",
          "name": "stderr",
          "text": [
            "INFO:__main__:Iteration=401, Time=7.832031e+02, dt=1.953125e+00\n"
          ]
        },
        {
          "output_type": "stream",
          "name": "stdout",
          "text": [
            "2024-11-01 18:02:24,178 __main__ 0/1 INFO :: Iteration=401, Time=7.832031e+02, dt=1.953125e+00\n"
          ]
        },
        {
          "output_type": "stream",
          "name": "stderr",
          "text": [
            "INFO:__main__:Iteration=411, Time=8.027344e+02, dt=1.953125e+00\n"
          ]
        },
        {
          "output_type": "stream",
          "name": "stdout",
          "text": [
            "2024-11-01 18:02:24,232 __main__ 0/1 INFO :: Iteration=411, Time=8.027344e+02, dt=1.953125e+00\n"
          ]
        },
        {
          "output_type": "stream",
          "name": "stderr",
          "text": [
            "INFO:__main__:Iteration=421, Time=8.222656e+02, dt=1.953125e+00\n"
          ]
        },
        {
          "output_type": "stream",
          "name": "stdout",
          "text": [
            "2024-11-01 18:02:24,291 __main__ 0/1 INFO :: Iteration=421, Time=8.222656e+02, dt=1.953125e+00\n"
          ]
        },
        {
          "output_type": "stream",
          "name": "stderr",
          "text": [
            "INFO:__main__:Iteration=431, Time=8.417969e+02, dt=1.953125e+00\n"
          ]
        },
        {
          "output_type": "stream",
          "name": "stdout",
          "text": [
            "2024-11-01 18:02:24,340 __main__ 0/1 INFO :: Iteration=431, Time=8.417969e+02, dt=1.953125e+00\n"
          ]
        },
        {
          "output_type": "stream",
          "name": "stderr",
          "text": [
            "INFO:__main__:Iteration=441, Time=8.613281e+02, dt=1.953125e+00\n"
          ]
        },
        {
          "output_type": "stream",
          "name": "stdout",
          "text": [
            "2024-11-01 18:02:24,402 __main__ 0/1 INFO :: Iteration=441, Time=8.613281e+02, dt=1.953125e+00\n"
          ]
        },
        {
          "output_type": "stream",
          "name": "stderr",
          "text": [
            "INFO:__main__:Iteration=451, Time=8.808594e+02, dt=1.953125e+00\n"
          ]
        },
        {
          "output_type": "stream",
          "name": "stdout",
          "text": [
            "2024-11-01 18:02:24,463 __main__ 0/1 INFO :: Iteration=451, Time=8.808594e+02, dt=1.953125e+00\n"
          ]
        },
        {
          "output_type": "stream",
          "name": "stderr",
          "text": [
            "INFO:__main__:Iteration=461, Time=9.003906e+02, dt=1.953125e+00\n"
          ]
        },
        {
          "output_type": "stream",
          "name": "stdout",
          "text": [
            "2024-11-01 18:02:24,515 __main__ 0/1 INFO :: Iteration=461, Time=9.003906e+02, dt=1.953125e+00\n"
          ]
        },
        {
          "output_type": "stream",
          "name": "stderr",
          "text": [
            "INFO:__main__:Iteration=471, Time=9.199219e+02, dt=1.953125e+00\n"
          ]
        },
        {
          "output_type": "stream",
          "name": "stdout",
          "text": [
            "2024-11-01 18:02:24,560 __main__ 0/1 INFO :: Iteration=471, Time=9.199219e+02, dt=1.953125e+00\n"
          ]
        },
        {
          "output_type": "stream",
          "name": "stderr",
          "text": [
            "INFO:__main__:Iteration=481, Time=9.394531e+02, dt=1.953125e+00\n"
          ]
        },
        {
          "output_type": "stream",
          "name": "stdout",
          "text": [
            "2024-11-01 18:02:24,608 __main__ 0/1 INFO :: Iteration=481, Time=9.394531e+02, dt=1.953125e+00\n"
          ]
        },
        {
          "output_type": "stream",
          "name": "stderr",
          "text": [
            "INFO:__main__:Iteration=491, Time=9.589844e+02, dt=1.953125e+00\n"
          ]
        },
        {
          "output_type": "stream",
          "name": "stdout",
          "text": [
            "2024-11-01 18:02:24,656 __main__ 0/1 INFO :: Iteration=491, Time=9.589844e+02, dt=1.953125e+00\n"
          ]
        },
        {
          "output_type": "stream",
          "name": "stderr",
          "text": [
            "INFO:__main__:Iteration=501, Time=9.785156e+02, dt=1.953125e+00\n"
          ]
        },
        {
          "output_type": "stream",
          "name": "stdout",
          "text": [
            "2024-11-01 18:02:24,713 __main__ 0/1 INFO :: Iteration=501, Time=9.785156e+02, dt=1.953125e+00\n"
          ]
        },
        {
          "output_type": "stream",
          "name": "stderr",
          "text": [
            "INFO:__main__:Iteration=511, Time=9.980469e+02, dt=1.953125e+00\n"
          ]
        },
        {
          "output_type": "stream",
          "name": "stdout",
          "text": [
            "2024-11-01 18:02:24,756 __main__ 0/1 INFO :: Iteration=511, Time=9.980469e+02, dt=1.953125e+00\n"
          ]
        },
        {
          "output_type": "stream",
          "name": "stderr",
          "text": [
            "INFO:__main__:Iteration=521, Time=1.017578e+03, dt=1.953125e+00\n"
          ]
        },
        {
          "output_type": "stream",
          "name": "stdout",
          "text": [
            "2024-11-01 18:02:24,818 __main__ 0/1 INFO :: Iteration=521, Time=1.017578e+03, dt=1.953125e+00\n"
          ]
        },
        {
          "output_type": "stream",
          "name": "stderr",
          "text": [
            "INFO:__main__:Iteration=531, Time=1.037109e+03, dt=1.953125e+00\n"
          ]
        },
        {
          "output_type": "stream",
          "name": "stdout",
          "text": [
            "2024-11-01 18:02:24,876 __main__ 0/1 INFO :: Iteration=531, Time=1.037109e+03, dt=1.953125e+00\n"
          ]
        },
        {
          "output_type": "stream",
          "name": "stderr",
          "text": [
            "INFO:__main__:Iteration=541, Time=1.056641e+03, dt=1.953125e+00\n"
          ]
        },
        {
          "output_type": "stream",
          "name": "stdout",
          "text": [
            "2024-11-01 18:02:24,927 __main__ 0/1 INFO :: Iteration=541, Time=1.056641e+03, dt=1.953125e+00\n"
          ]
        },
        {
          "output_type": "stream",
          "name": "stderr",
          "text": [
            "INFO:__main__:Iteration=551, Time=1.076172e+03, dt=1.953125e+00\n"
          ]
        },
        {
          "output_type": "stream",
          "name": "stdout",
          "text": [
            "2024-11-01 18:02:24,977 __main__ 0/1 INFO :: Iteration=551, Time=1.076172e+03, dt=1.953125e+00\n"
          ]
        },
        {
          "output_type": "stream",
          "name": "stderr",
          "text": [
            "INFO:__main__:Iteration=561, Time=1.095703e+03, dt=1.953125e+00\n"
          ]
        },
        {
          "output_type": "stream",
          "name": "stdout",
          "text": [
            "2024-11-01 18:02:25,015 __main__ 0/1 INFO :: Iteration=561, Time=1.095703e+03, dt=1.953125e+00\n"
          ]
        },
        {
          "output_type": "stream",
          "name": "stderr",
          "text": [
            "INFO:__main__:Iteration=571, Time=1.115234e+03, dt=1.953125e+00\n"
          ]
        },
        {
          "output_type": "stream",
          "name": "stdout",
          "text": [
            "2024-11-01 18:02:25,051 __main__ 0/1 INFO :: Iteration=571, Time=1.115234e+03, dt=1.953125e+00\n"
          ]
        },
        {
          "output_type": "stream",
          "name": "stderr",
          "text": [
            "INFO:__main__:Iteration=581, Time=1.134766e+03, dt=1.953125e+00\n"
          ]
        },
        {
          "output_type": "stream",
          "name": "stdout",
          "text": [
            "2024-11-01 18:02:25,088 __main__ 0/1 INFO :: Iteration=581, Time=1.134766e+03, dt=1.953125e+00\n"
          ]
        },
        {
          "output_type": "stream",
          "name": "stderr",
          "text": [
            "INFO:__main__:Iteration=591, Time=1.154297e+03, dt=1.953125e+00\n"
          ]
        },
        {
          "output_type": "stream",
          "name": "stdout",
          "text": [
            "2024-11-01 18:02:25,126 __main__ 0/1 INFO :: Iteration=591, Time=1.154297e+03, dt=1.953125e+00\n"
          ]
        },
        {
          "output_type": "stream",
          "name": "stderr",
          "text": [
            "INFO:__main__:Iteration=601, Time=1.173828e+03, dt=1.953125e+00\n"
          ]
        },
        {
          "output_type": "stream",
          "name": "stdout",
          "text": [
            "2024-11-01 18:02:25,180 __main__ 0/1 INFO :: Iteration=601, Time=1.173828e+03, dt=1.953125e+00\n"
          ]
        },
        {
          "output_type": "stream",
          "name": "stderr",
          "text": [
            "INFO:__main__:Iteration=611, Time=1.193359e+03, dt=1.953125e+00\n"
          ]
        },
        {
          "output_type": "stream",
          "name": "stdout",
          "text": [
            "2024-11-01 18:02:25,219 __main__ 0/1 INFO :: Iteration=611, Time=1.193359e+03, dt=1.953125e+00\n"
          ]
        },
        {
          "output_type": "stream",
          "name": "stderr",
          "text": [
            "INFO:__main__:Iteration=621, Time=1.212891e+03, dt=1.953125e+00\n"
          ]
        },
        {
          "output_type": "stream",
          "name": "stdout",
          "text": [
            "2024-11-01 18:02:25,262 __main__ 0/1 INFO :: Iteration=621, Time=1.212891e+03, dt=1.953125e+00\n"
          ]
        },
        {
          "output_type": "stream",
          "name": "stderr",
          "text": [
            "INFO:__main__:Iteration=631, Time=1.232422e+03, dt=1.953125e+00\n"
          ]
        },
        {
          "output_type": "stream",
          "name": "stdout",
          "text": [
            "2024-11-01 18:02:25,309 __main__ 0/1 INFO :: Iteration=631, Time=1.232422e+03, dt=1.953125e+00\n"
          ]
        },
        {
          "output_type": "stream",
          "name": "stderr",
          "text": [
            "INFO:__main__:Iteration=641, Time=1.251953e+03, dt=1.953125e+00\n"
          ]
        },
        {
          "output_type": "stream",
          "name": "stdout",
          "text": [
            "2024-11-01 18:02:25,346 __main__ 0/1 INFO :: Iteration=641, Time=1.251953e+03, dt=1.953125e+00\n"
          ]
        },
        {
          "output_type": "stream",
          "name": "stderr",
          "text": [
            "INFO:__main__:Iteration=651, Time=1.271484e+03, dt=1.953125e+00\n"
          ]
        },
        {
          "output_type": "stream",
          "name": "stdout",
          "text": [
            "2024-11-01 18:02:25,382 __main__ 0/1 INFO :: Iteration=651, Time=1.271484e+03, dt=1.953125e+00\n"
          ]
        },
        {
          "output_type": "stream",
          "name": "stderr",
          "text": [
            "INFO:__main__:Iteration=661, Time=1.291016e+03, dt=1.953125e+00\n"
          ]
        },
        {
          "output_type": "stream",
          "name": "stdout",
          "text": [
            "2024-11-01 18:02:25,420 __main__ 0/1 INFO :: Iteration=661, Time=1.291016e+03, dt=1.953125e+00\n"
          ]
        },
        {
          "output_type": "stream",
          "name": "stderr",
          "text": [
            "INFO:__main__:Iteration=671, Time=1.310547e+03, dt=1.953125e+00\n"
          ]
        },
        {
          "output_type": "stream",
          "name": "stdout",
          "text": [
            "2024-11-01 18:02:25,456 __main__ 0/1 INFO :: Iteration=671, Time=1.310547e+03, dt=1.953125e+00\n"
          ]
        },
        {
          "output_type": "stream",
          "name": "stderr",
          "text": [
            "INFO:__main__:Iteration=681, Time=1.330078e+03, dt=1.953125e+00\n"
          ]
        },
        {
          "output_type": "stream",
          "name": "stdout",
          "text": [
            "2024-11-01 18:02:25,506 __main__ 0/1 INFO :: Iteration=681, Time=1.330078e+03, dt=1.953125e+00\n"
          ]
        },
        {
          "output_type": "stream",
          "name": "stderr",
          "text": [
            "INFO:__main__:Iteration=691, Time=1.349609e+03, dt=1.953125e+00\n"
          ]
        },
        {
          "output_type": "stream",
          "name": "stdout",
          "text": [
            "2024-11-01 18:02:25,548 __main__ 0/1 INFO :: Iteration=691, Time=1.349609e+03, dt=1.953125e+00\n"
          ]
        },
        {
          "output_type": "stream",
          "name": "stderr",
          "text": [
            "INFO:__main__:Iteration=701, Time=1.369141e+03, dt=1.953125e+00\n"
          ]
        },
        {
          "output_type": "stream",
          "name": "stdout",
          "text": [
            "2024-11-01 18:02:25,592 __main__ 0/1 INFO :: Iteration=701, Time=1.369141e+03, dt=1.953125e+00\n"
          ]
        },
        {
          "output_type": "stream",
          "name": "stderr",
          "text": [
            "INFO:__main__:Iteration=711, Time=1.388672e+03, dt=1.953125e+00\n"
          ]
        },
        {
          "output_type": "stream",
          "name": "stdout",
          "text": [
            "2024-11-01 18:02:25,629 __main__ 0/1 INFO :: Iteration=711, Time=1.388672e+03, dt=1.953125e+00\n"
          ]
        },
        {
          "output_type": "stream",
          "name": "stderr",
          "text": [
            "INFO:__main__:Iteration=721, Time=1.408203e+03, dt=1.953125e+00\n"
          ]
        },
        {
          "output_type": "stream",
          "name": "stdout",
          "text": [
            "2024-11-01 18:02:25,665 __main__ 0/1 INFO :: Iteration=721, Time=1.408203e+03, dt=1.953125e+00\n"
          ]
        },
        {
          "output_type": "stream",
          "name": "stderr",
          "text": [
            "INFO:__main__:Iteration=731, Time=1.427734e+03, dt=1.953125e+00\n"
          ]
        },
        {
          "output_type": "stream",
          "name": "stdout",
          "text": [
            "2024-11-01 18:02:25,701 __main__ 0/1 INFO :: Iteration=731, Time=1.427734e+03, dt=1.953125e+00\n"
          ]
        },
        {
          "output_type": "stream",
          "name": "stderr",
          "text": [
            "INFO:__main__:Iteration=741, Time=1.447266e+03, dt=1.953125e+00\n"
          ]
        },
        {
          "output_type": "stream",
          "name": "stdout",
          "text": [
            "2024-11-01 18:02:25,738 __main__ 0/1 INFO :: Iteration=741, Time=1.447266e+03, dt=1.953125e+00\n"
          ]
        },
        {
          "output_type": "stream",
          "name": "stderr",
          "text": [
            "INFO:__main__:Iteration=751, Time=1.466797e+03, dt=1.953125e+00\n"
          ]
        },
        {
          "output_type": "stream",
          "name": "stdout",
          "text": [
            "2024-11-01 18:02:25,784 __main__ 0/1 INFO :: Iteration=751, Time=1.466797e+03, dt=1.953125e+00\n"
          ]
        },
        {
          "output_type": "stream",
          "name": "stderr",
          "text": [
            "INFO:__main__:Iteration=761, Time=1.486328e+03, dt=1.953125e+00\n"
          ]
        },
        {
          "output_type": "stream",
          "name": "stdout",
          "text": [
            "2024-11-01 18:02:25,839 __main__ 0/1 INFO :: Iteration=761, Time=1.486328e+03, dt=1.953125e+00\n"
          ]
        },
        {
          "output_type": "stream",
          "name": "stderr",
          "text": [
            "INFO:solvers:Simulation stop time reached.\n"
          ]
        },
        {
          "output_type": "stream",
          "name": "stdout",
          "text": [
            "2024-11-01 18:02:25,881 solvers 0/1 INFO :: Simulation stop time reached.\n"
          ]
        },
        {
          "output_type": "stream",
          "name": "stderr",
          "text": [
            "INFO:solvers:Final iteration: 768\n"
          ]
        },
        {
          "output_type": "stream",
          "name": "stdout",
          "text": [
            "2024-11-01 18:02:25,888 solvers 0/1 INFO :: Final iteration: 768\n"
          ]
        },
        {
          "output_type": "stream",
          "name": "stderr",
          "text": [
            "INFO:solvers:Final sim time: 1500.0\n"
          ]
        },
        {
          "output_type": "stream",
          "name": "stdout",
          "text": [
            "2024-11-01 18:02:25,893 solvers 0/1 INFO :: Final sim time: 1500.0\n"
          ]
        },
        {
          "output_type": "stream",
          "name": "stderr",
          "text": [
            "INFO:solvers:Setup time (init - iter 0): 0.5372 sec\n"
          ]
        },
        {
          "output_type": "stream",
          "name": "stdout",
          "text": [
            "2024-11-01 18:02:25,897 solvers 0/1 INFO :: Setup time (init - iter 0): 0.5372 sec\n"
          ]
        },
        {
          "output_type": "stream",
          "name": "stderr",
          "text": [
            "INFO:solvers:Warmup time (iter 0-10): 0.09431 sec\n"
          ]
        },
        {
          "output_type": "stream",
          "name": "stdout",
          "text": [
            "2024-11-01 18:02:25,901 solvers 0/1 INFO :: Warmup time (iter 0-10): 0.09431 sec\n"
          ]
        },
        {
          "output_type": "stream",
          "name": "stderr",
          "text": [
            "INFO:solvers:Run time (iter 10-end): 3.69 sec\n"
          ]
        },
        {
          "output_type": "stream",
          "name": "stdout",
          "text": [
            "2024-11-01 18:02:25,903 solvers 0/1 INFO :: Run time (iter 10-end): 3.69 sec\n"
          ]
        },
        {
          "output_type": "stream",
          "name": "stderr",
          "text": [
            "INFO:solvers:CPU time (iter 10-end): 0.001025 cpu-hr\n"
          ]
        },
        {
          "output_type": "stream",
          "name": "stdout",
          "text": [
            "2024-11-01 18:02:25,907 solvers 0/1 INFO :: CPU time (iter 10-end): 0.001025 cpu-hr\n"
          ]
        },
        {
          "output_type": "stream",
          "name": "stderr",
          "text": [
            "INFO:solvers:Speed: 3.562e+06 mode-stages/cpu-sec\n"
          ]
        },
        {
          "output_type": "stream",
          "name": "stdout",
          "text": [
            "2024-11-01 18:02:25,909 solvers 0/1 INFO :: Speed: 3.562e+06 mode-stages/cpu-sec\n"
          ]
        },
        {
          "output_type": "stream",
          "name": "stderr",
          "text": [
            "INFO:subsystems:Building subproblem matrices 1/1 (~100%) Elapsed: 0s, Remaining: 0s, Rate: 2.5e+00/s\n"
          ]
        },
        {
          "output_type": "stream",
          "name": "stdout",
          "text": [
            "2024-11-01 18:02:26,460 subsystems 0/1 INFO :: Building subproblem matrices 1/1 (~100%) Elapsed: 0s, Remaining: 0s, Rate: 2.5e+00/s\n"
          ]
        },
        {
          "output_type": "stream",
          "name": "stderr",
          "text": [
            "INFO:__main__:Starting main loop\n"
          ]
        },
        {
          "output_type": "stream",
          "name": "stdout",
          "text": [
            "2024-11-01 18:02:26,471 __main__ 0/1 INFO :: Starting main loop\n"
          ]
        },
        {
          "output_type": "stream",
          "name": "stderr",
          "text": [
            "INFO:__main__:Iteration=1, Time=9.765625e-01, dt=9.765625e-01\n"
          ]
        },
        {
          "output_type": "stream",
          "name": "stdout",
          "text": [
            "2024-11-01 18:02:26,527 __main__ 0/1 INFO :: Iteration=1, Time=9.765625e-01, dt=9.765625e-01\n"
          ]
        },
        {
          "output_type": "stream",
          "name": "stderr",
          "text": [
            "INFO:__main__:Iteration=11, Time=1.074219e+01, dt=9.765625e-01\n"
          ]
        },
        {
          "output_type": "stream",
          "name": "stdout",
          "text": [
            "2024-11-01 18:02:26,580 __main__ 0/1 INFO :: Iteration=11, Time=1.074219e+01, dt=9.765625e-01\n"
          ]
        },
        {
          "output_type": "stream",
          "name": "stderr",
          "text": [
            "INFO:__main__:Iteration=21, Time=2.050781e+01, dt=9.765625e-01\n"
          ]
        },
        {
          "output_type": "stream",
          "name": "stdout",
          "text": [
            "2024-11-01 18:02:26,624 __main__ 0/1 INFO :: Iteration=21, Time=2.050781e+01, dt=9.765625e-01\n"
          ]
        },
        {
          "output_type": "stream",
          "name": "stderr",
          "text": [
            "INFO:__main__:Iteration=31, Time=3.027344e+01, dt=9.765625e-01\n"
          ]
        },
        {
          "output_type": "stream",
          "name": "stdout",
          "text": [
            "2024-11-01 18:02:26,669 __main__ 0/1 INFO :: Iteration=31, Time=3.027344e+01, dt=9.765625e-01\n"
          ]
        },
        {
          "output_type": "stream",
          "name": "stderr",
          "text": [
            "INFO:__main__:Iteration=41, Time=4.003906e+01, dt=9.765625e-01\n"
          ]
        },
        {
          "output_type": "stream",
          "name": "stdout",
          "text": [
            "2024-11-01 18:02:26,722 __main__ 0/1 INFO :: Iteration=41, Time=4.003906e+01, dt=9.765625e-01\n"
          ]
        },
        {
          "output_type": "stream",
          "name": "stderr",
          "text": [
            "INFO:__main__:Iteration=51, Time=4.980469e+01, dt=9.765625e-01\n"
          ]
        },
        {
          "output_type": "stream",
          "name": "stdout",
          "text": [
            "2024-11-01 18:02:26,772 __main__ 0/1 INFO :: Iteration=51, Time=4.980469e+01, dt=9.765625e-01\n"
          ]
        },
        {
          "output_type": "stream",
          "name": "stderr",
          "text": [
            "INFO:__main__:Iteration=61, Time=5.957031e+01, dt=9.765625e-01\n"
          ]
        },
        {
          "output_type": "stream",
          "name": "stdout",
          "text": [
            "2024-11-01 18:02:26,830 __main__ 0/1 INFO :: Iteration=61, Time=5.957031e+01, dt=9.765625e-01\n"
          ]
        },
        {
          "output_type": "stream",
          "name": "stderr",
          "text": [
            "INFO:__main__:Iteration=71, Time=6.933594e+01, dt=9.765625e-01\n"
          ]
        },
        {
          "output_type": "stream",
          "name": "stdout",
          "text": [
            "2024-11-01 18:02:26,885 __main__ 0/1 INFO :: Iteration=71, Time=6.933594e+01, dt=9.765625e-01\n"
          ]
        },
        {
          "output_type": "stream",
          "name": "stderr",
          "text": [
            "INFO:__main__:Iteration=81, Time=7.910156e+01, dt=9.765625e-01\n"
          ]
        },
        {
          "output_type": "stream",
          "name": "stdout",
          "text": [
            "2024-11-01 18:02:26,938 __main__ 0/1 INFO :: Iteration=81, Time=7.910156e+01, dt=9.765625e-01\n"
          ]
        },
        {
          "output_type": "stream",
          "name": "stderr",
          "text": [
            "INFO:__main__:Iteration=91, Time=8.886719e+01, dt=9.765625e-01\n"
          ]
        },
        {
          "output_type": "stream",
          "name": "stdout",
          "text": [
            "2024-11-01 18:02:26,995 __main__ 0/1 INFO :: Iteration=91, Time=8.886719e+01, dt=9.765625e-01\n"
          ]
        },
        {
          "output_type": "stream",
          "name": "stderr",
          "text": [
            "INFO:__main__:Iteration=101, Time=9.863281e+01, dt=9.765625e-01\n"
          ]
        },
        {
          "output_type": "stream",
          "name": "stdout",
          "text": [
            "2024-11-01 18:02:27,051 __main__ 0/1 INFO :: Iteration=101, Time=9.863281e+01, dt=9.765625e-01\n"
          ]
        },
        {
          "output_type": "stream",
          "name": "stderr",
          "text": [
            "INFO:__main__:Iteration=111, Time=1.083984e+02, dt=9.765625e-01\n"
          ]
        },
        {
          "output_type": "stream",
          "name": "stdout",
          "text": [
            "2024-11-01 18:02:27,099 __main__ 0/1 INFO :: Iteration=111, Time=1.083984e+02, dt=9.765625e-01\n"
          ]
        },
        {
          "output_type": "stream",
          "name": "stderr",
          "text": [
            "INFO:__main__:Iteration=121, Time=1.181641e+02, dt=9.765625e-01\n"
          ]
        },
        {
          "output_type": "stream",
          "name": "stdout",
          "text": [
            "2024-11-01 18:02:27,146 __main__ 0/1 INFO :: Iteration=121, Time=1.181641e+02, dt=9.765625e-01\n"
          ]
        },
        {
          "output_type": "stream",
          "name": "stderr",
          "text": [
            "INFO:__main__:Iteration=131, Time=1.279297e+02, dt=9.765625e-01\n"
          ]
        },
        {
          "output_type": "stream",
          "name": "stdout",
          "text": [
            "2024-11-01 18:02:27,191 __main__ 0/1 INFO :: Iteration=131, Time=1.279297e+02, dt=9.765625e-01\n"
          ]
        },
        {
          "output_type": "stream",
          "name": "stderr",
          "text": [
            "INFO:__main__:Iteration=141, Time=1.376953e+02, dt=9.765625e-01\n"
          ]
        },
        {
          "output_type": "stream",
          "name": "stdout",
          "text": [
            "2024-11-01 18:02:27,238 __main__ 0/1 INFO :: Iteration=141, Time=1.376953e+02, dt=9.765625e-01\n"
          ]
        },
        {
          "output_type": "stream",
          "name": "stderr",
          "text": [
            "INFO:__main__:Iteration=151, Time=1.474609e+02, dt=9.765625e-01\n"
          ]
        },
        {
          "output_type": "stream",
          "name": "stdout",
          "text": [
            "2024-11-01 18:02:27,280 __main__ 0/1 INFO :: Iteration=151, Time=1.474609e+02, dt=9.765625e-01\n"
          ]
        },
        {
          "output_type": "stream",
          "name": "stderr",
          "text": [
            "INFO:__main__:Iteration=161, Time=1.572266e+02, dt=9.765625e-01\n"
          ]
        },
        {
          "output_type": "stream",
          "name": "stdout",
          "text": [
            "2024-11-01 18:02:27,334 __main__ 0/1 INFO :: Iteration=161, Time=1.572266e+02, dt=9.765625e-01\n"
          ]
        },
        {
          "output_type": "stream",
          "name": "stderr",
          "text": [
            "INFO:__main__:Iteration=171, Time=1.669922e+02, dt=9.765625e-01\n"
          ]
        },
        {
          "output_type": "stream",
          "name": "stdout",
          "text": [
            "2024-11-01 18:02:27,381 __main__ 0/1 INFO :: Iteration=171, Time=1.669922e+02, dt=9.765625e-01\n"
          ]
        },
        {
          "output_type": "stream",
          "name": "stderr",
          "text": [
            "INFO:__main__:Iteration=181, Time=1.767578e+02, dt=9.765625e-01\n"
          ]
        },
        {
          "output_type": "stream",
          "name": "stdout",
          "text": [
            "2024-11-01 18:02:27,424 __main__ 0/1 INFO :: Iteration=181, Time=1.767578e+02, dt=9.765625e-01\n"
          ]
        },
        {
          "output_type": "stream",
          "name": "stderr",
          "text": [
            "INFO:__main__:Iteration=191, Time=1.865234e+02, dt=9.765625e-01\n"
          ]
        },
        {
          "output_type": "stream",
          "name": "stdout",
          "text": [
            "2024-11-01 18:02:27,476 __main__ 0/1 INFO :: Iteration=191, Time=1.865234e+02, dt=9.765625e-01\n"
          ]
        },
        {
          "output_type": "stream",
          "name": "stderr",
          "text": [
            "INFO:__main__:Iteration=201, Time=1.962891e+02, dt=9.765625e-01\n"
          ]
        },
        {
          "output_type": "stream",
          "name": "stdout",
          "text": [
            "2024-11-01 18:02:27,520 __main__ 0/1 INFO :: Iteration=201, Time=1.962891e+02, dt=9.765625e-01\n"
          ]
        },
        {
          "output_type": "stream",
          "name": "stderr",
          "text": [
            "INFO:__main__:Iteration=211, Time=2.060547e+02, dt=9.765625e-01\n"
          ]
        },
        {
          "output_type": "stream",
          "name": "stdout",
          "text": [
            "2024-11-01 18:02:27,560 __main__ 0/1 INFO :: Iteration=211, Time=2.060547e+02, dt=9.765625e-01\n"
          ]
        },
        {
          "output_type": "stream",
          "name": "stderr",
          "text": [
            "INFO:__main__:Iteration=221, Time=2.158203e+02, dt=9.765625e-01\n"
          ]
        },
        {
          "output_type": "stream",
          "name": "stdout",
          "text": [
            "2024-11-01 18:02:27,606 __main__ 0/1 INFO :: Iteration=221, Time=2.158203e+02, dt=9.765625e-01\n"
          ]
        },
        {
          "output_type": "stream",
          "name": "stderr",
          "text": [
            "INFO:__main__:Iteration=231, Time=2.255859e+02, dt=9.765625e-01\n"
          ]
        },
        {
          "output_type": "stream",
          "name": "stdout",
          "text": [
            "2024-11-01 18:02:27,658 __main__ 0/1 INFO :: Iteration=231, Time=2.255859e+02, dt=9.765625e-01\n"
          ]
        },
        {
          "output_type": "stream",
          "name": "stderr",
          "text": [
            "INFO:__main__:Iteration=241, Time=2.353516e+02, dt=9.765625e-01\n"
          ]
        },
        {
          "output_type": "stream",
          "name": "stdout",
          "text": [
            "2024-11-01 18:02:27,712 __main__ 0/1 INFO :: Iteration=241, Time=2.353516e+02, dt=9.765625e-01\n"
          ]
        },
        {
          "output_type": "stream",
          "name": "stderr",
          "text": [
            "INFO:__main__:Iteration=251, Time=2.451172e+02, dt=9.765625e-01\n"
          ]
        },
        {
          "output_type": "stream",
          "name": "stdout",
          "text": [
            "2024-11-01 18:02:27,763 __main__ 0/1 INFO :: Iteration=251, Time=2.451172e+02, dt=9.765625e-01\n"
          ]
        },
        {
          "output_type": "stream",
          "name": "stderr",
          "text": [
            "INFO:__main__:Iteration=261, Time=2.548828e+02, dt=9.765625e-01\n"
          ]
        },
        {
          "output_type": "stream",
          "name": "stdout",
          "text": [
            "2024-11-01 18:02:27,817 __main__ 0/1 INFO :: Iteration=261, Time=2.548828e+02, dt=9.765625e-01\n"
          ]
        },
        {
          "output_type": "stream",
          "name": "stderr",
          "text": [
            "INFO:__main__:Iteration=271, Time=2.646484e+02, dt=9.765625e-01\n"
          ]
        },
        {
          "output_type": "stream",
          "name": "stdout",
          "text": [
            "2024-11-01 18:02:27,877 __main__ 0/1 INFO :: Iteration=271, Time=2.646484e+02, dt=9.765625e-01\n"
          ]
        },
        {
          "output_type": "stream",
          "name": "stderr",
          "text": [
            "INFO:__main__:Iteration=281, Time=2.744141e+02, dt=9.765625e-01\n"
          ]
        },
        {
          "output_type": "stream",
          "name": "stdout",
          "text": [
            "2024-11-01 18:02:27,935 __main__ 0/1 INFO :: Iteration=281, Time=2.744141e+02, dt=9.765625e-01\n"
          ]
        },
        {
          "output_type": "stream",
          "name": "stderr",
          "text": [
            "INFO:__main__:Iteration=291, Time=2.841797e+02, dt=9.765625e-01\n"
          ]
        },
        {
          "output_type": "stream",
          "name": "stdout",
          "text": [
            "2024-11-01 18:02:27,999 __main__ 0/1 INFO :: Iteration=291, Time=2.841797e+02, dt=9.765625e-01\n"
          ]
        },
        {
          "output_type": "stream",
          "name": "stderr",
          "text": [
            "INFO:__main__:Iteration=301, Time=2.939453e+02, dt=9.765625e-01\n"
          ]
        },
        {
          "output_type": "stream",
          "name": "stdout",
          "text": [
            "2024-11-01 18:02:28,058 __main__ 0/1 INFO :: Iteration=301, Time=2.939453e+02, dt=9.765625e-01\n"
          ]
        },
        {
          "output_type": "stream",
          "name": "stderr",
          "text": [
            "INFO:__main__:Iteration=311, Time=3.037109e+02, dt=9.765625e-01\n"
          ]
        },
        {
          "output_type": "stream",
          "name": "stdout",
          "text": [
            "2024-11-01 18:02:28,113 __main__ 0/1 INFO :: Iteration=311, Time=3.037109e+02, dt=9.765625e-01\n"
          ]
        },
        {
          "output_type": "stream",
          "name": "stderr",
          "text": [
            "INFO:__main__:Iteration=321, Time=3.134766e+02, dt=9.765625e-01\n"
          ]
        },
        {
          "output_type": "stream",
          "name": "stdout",
          "text": [
            "2024-11-01 18:02:28,152 __main__ 0/1 INFO :: Iteration=321, Time=3.134766e+02, dt=9.765625e-01\n"
          ]
        },
        {
          "output_type": "stream",
          "name": "stderr",
          "text": [
            "INFO:__main__:Iteration=331, Time=3.232422e+02, dt=9.765625e-01\n"
          ]
        },
        {
          "output_type": "stream",
          "name": "stdout",
          "text": [
            "2024-11-01 18:02:28,193 __main__ 0/1 INFO :: Iteration=331, Time=3.232422e+02, dt=9.765625e-01\n"
          ]
        },
        {
          "output_type": "stream",
          "name": "stderr",
          "text": [
            "INFO:__main__:Iteration=341, Time=3.330078e+02, dt=9.765625e-01\n"
          ]
        },
        {
          "output_type": "stream",
          "name": "stdout",
          "text": [
            "2024-11-01 18:02:28,232 __main__ 0/1 INFO :: Iteration=341, Time=3.330078e+02, dt=9.765625e-01\n"
          ]
        },
        {
          "output_type": "stream",
          "name": "stderr",
          "text": [
            "INFO:__main__:Iteration=351, Time=3.427734e+02, dt=9.765625e-01\n"
          ]
        },
        {
          "output_type": "stream",
          "name": "stdout",
          "text": [
            "2024-11-01 18:02:28,271 __main__ 0/1 INFO :: Iteration=351, Time=3.427734e+02, dt=9.765625e-01\n"
          ]
        },
        {
          "output_type": "stream",
          "name": "stderr",
          "text": [
            "INFO:__main__:Iteration=361, Time=3.525391e+02, dt=9.765625e-01\n"
          ]
        },
        {
          "output_type": "stream",
          "name": "stdout",
          "text": [
            "2024-11-01 18:02:28,318 __main__ 0/1 INFO :: Iteration=361, Time=3.525391e+02, dt=9.765625e-01\n"
          ]
        },
        {
          "output_type": "stream",
          "name": "stderr",
          "text": [
            "INFO:__main__:Iteration=371, Time=3.623047e+02, dt=9.765625e-01\n"
          ]
        },
        {
          "output_type": "stream",
          "name": "stdout",
          "text": [
            "2024-11-01 18:02:28,360 __main__ 0/1 INFO :: Iteration=371, Time=3.623047e+02, dt=9.765625e-01\n"
          ]
        },
        {
          "output_type": "stream",
          "name": "stderr",
          "text": [
            "INFO:__main__:Iteration=381, Time=3.720703e+02, dt=9.765625e-01\n"
          ]
        },
        {
          "output_type": "stream",
          "name": "stdout",
          "text": [
            "2024-11-01 18:02:28,402 __main__ 0/1 INFO :: Iteration=381, Time=3.720703e+02, dt=9.765625e-01\n"
          ]
        },
        {
          "output_type": "stream",
          "name": "stderr",
          "text": [
            "INFO:__main__:Iteration=391, Time=3.818359e+02, dt=9.765625e-01\n"
          ]
        },
        {
          "output_type": "stream",
          "name": "stdout",
          "text": [
            "2024-11-01 18:02:28,450 __main__ 0/1 INFO :: Iteration=391, Time=3.818359e+02, dt=9.765625e-01\n"
          ]
        },
        {
          "output_type": "stream",
          "name": "stderr",
          "text": [
            "INFO:__main__:Iteration=401, Time=3.916016e+02, dt=9.765625e-01\n"
          ]
        },
        {
          "output_type": "stream",
          "name": "stdout",
          "text": [
            "2024-11-01 18:02:28,504 __main__ 0/1 INFO :: Iteration=401, Time=3.916016e+02, dt=9.765625e-01\n"
          ]
        },
        {
          "output_type": "stream",
          "name": "stderr",
          "text": [
            "INFO:__main__:Iteration=411, Time=4.013672e+02, dt=9.765625e-01\n"
          ]
        },
        {
          "output_type": "stream",
          "name": "stdout",
          "text": [
            "2024-11-01 18:02:28,544 __main__ 0/1 INFO :: Iteration=411, Time=4.013672e+02, dt=9.765625e-01\n"
          ]
        },
        {
          "output_type": "stream",
          "name": "stderr",
          "text": [
            "INFO:__main__:Iteration=421, Time=4.111328e+02, dt=9.765625e-01\n"
          ]
        },
        {
          "output_type": "stream",
          "name": "stdout",
          "text": [
            "2024-11-01 18:02:28,588 __main__ 0/1 INFO :: Iteration=421, Time=4.111328e+02, dt=9.765625e-01\n"
          ]
        },
        {
          "output_type": "stream",
          "name": "stderr",
          "text": [
            "INFO:__main__:Iteration=431, Time=4.208984e+02, dt=9.765625e-01\n"
          ]
        },
        {
          "output_type": "stream",
          "name": "stdout",
          "text": [
            "2024-11-01 18:02:28,632 __main__ 0/1 INFO :: Iteration=431, Time=4.208984e+02, dt=9.765625e-01\n"
          ]
        },
        {
          "output_type": "stream",
          "name": "stderr",
          "text": [
            "INFO:__main__:Iteration=441, Time=4.306641e+02, dt=9.765625e-01\n"
          ]
        },
        {
          "output_type": "stream",
          "name": "stdout",
          "text": [
            "2024-11-01 18:02:28,673 __main__ 0/1 INFO :: Iteration=441, Time=4.306641e+02, dt=9.765625e-01\n"
          ]
        },
        {
          "output_type": "stream",
          "name": "stderr",
          "text": [
            "INFO:__main__:Iteration=451, Time=4.404297e+02, dt=9.765625e-01\n"
          ]
        },
        {
          "output_type": "stream",
          "name": "stdout",
          "text": [
            "2024-11-01 18:02:28,715 __main__ 0/1 INFO :: Iteration=451, Time=4.404297e+02, dt=9.765625e-01\n"
          ]
        },
        {
          "output_type": "stream",
          "name": "stderr",
          "text": [
            "INFO:__main__:Iteration=461, Time=4.501953e+02, dt=9.765625e-01\n"
          ]
        },
        {
          "output_type": "stream",
          "name": "stdout",
          "text": [
            "2024-11-01 18:02:28,762 __main__ 0/1 INFO :: Iteration=461, Time=4.501953e+02, dt=9.765625e-01\n"
          ]
        },
        {
          "output_type": "stream",
          "name": "stderr",
          "text": [
            "INFO:__main__:Iteration=471, Time=4.599609e+02, dt=9.765625e-01\n"
          ]
        },
        {
          "output_type": "stream",
          "name": "stdout",
          "text": [
            "2024-11-01 18:02:28,817 __main__ 0/1 INFO :: Iteration=471, Time=4.599609e+02, dt=9.765625e-01\n"
          ]
        },
        {
          "output_type": "stream",
          "name": "stderr",
          "text": [
            "INFO:__main__:Iteration=481, Time=4.697266e+02, dt=9.765625e-01\n"
          ]
        },
        {
          "output_type": "stream",
          "name": "stdout",
          "text": [
            "2024-11-01 18:02:28,878 __main__ 0/1 INFO :: Iteration=481, Time=4.697266e+02, dt=9.765625e-01\n"
          ]
        },
        {
          "output_type": "stream",
          "name": "stderr",
          "text": [
            "INFO:__main__:Iteration=491, Time=4.794922e+02, dt=9.765625e-01\n"
          ]
        },
        {
          "output_type": "stream",
          "name": "stdout",
          "text": [
            "2024-11-01 18:02:28,938 __main__ 0/1 INFO :: Iteration=491, Time=4.794922e+02, dt=9.765625e-01\n"
          ]
        },
        {
          "output_type": "stream",
          "name": "stderr",
          "text": [
            "INFO:__main__:Iteration=501, Time=4.892578e+02, dt=9.765625e-01\n"
          ]
        },
        {
          "output_type": "stream",
          "name": "stdout",
          "text": [
            "2024-11-01 18:02:28,990 __main__ 0/1 INFO :: Iteration=501, Time=4.892578e+02, dt=9.765625e-01\n"
          ]
        },
        {
          "output_type": "stream",
          "name": "stderr",
          "text": [
            "INFO:__main__:Iteration=511, Time=4.990234e+02, dt=9.765625e-01\n"
          ]
        },
        {
          "output_type": "stream",
          "name": "stdout",
          "text": [
            "2024-11-01 18:02:29,036 __main__ 0/1 INFO :: Iteration=511, Time=4.990234e+02, dt=9.765625e-01\n"
          ]
        },
        {
          "output_type": "stream",
          "name": "stderr",
          "text": [
            "INFO:__main__:Iteration=521, Time=5.087891e+02, dt=9.765625e-01\n"
          ]
        },
        {
          "output_type": "stream",
          "name": "stdout",
          "text": [
            "2024-11-01 18:02:29,093 __main__ 0/1 INFO :: Iteration=521, Time=5.087891e+02, dt=9.765625e-01\n"
          ]
        },
        {
          "output_type": "stream",
          "name": "stderr",
          "text": [
            "INFO:__main__:Iteration=531, Time=5.185547e+02, dt=9.765625e-01\n"
          ]
        },
        {
          "output_type": "stream",
          "name": "stdout",
          "text": [
            "2024-11-01 18:02:29,138 __main__ 0/1 INFO :: Iteration=531, Time=5.185547e+02, dt=9.765625e-01\n"
          ]
        },
        {
          "output_type": "stream",
          "name": "stderr",
          "text": [
            "INFO:__main__:Iteration=541, Time=5.283203e+02, dt=9.765625e-01\n"
          ]
        },
        {
          "output_type": "stream",
          "name": "stdout",
          "text": [
            "2024-11-01 18:02:29,184 __main__ 0/1 INFO :: Iteration=541, Time=5.283203e+02, dt=9.765625e-01\n"
          ]
        },
        {
          "output_type": "stream",
          "name": "stderr",
          "text": [
            "INFO:__main__:Iteration=551, Time=5.380859e+02, dt=9.765625e-01\n"
          ]
        },
        {
          "output_type": "stream",
          "name": "stdout",
          "text": [
            "2024-11-01 18:02:29,235 __main__ 0/1 INFO :: Iteration=551, Time=5.380859e+02, dt=9.765625e-01\n"
          ]
        },
        {
          "output_type": "stream",
          "name": "stderr",
          "text": [
            "INFO:__main__:Iteration=561, Time=5.478516e+02, dt=9.765625e-01\n"
          ]
        },
        {
          "output_type": "stream",
          "name": "stdout",
          "text": [
            "2024-11-01 18:02:29,291 __main__ 0/1 INFO :: Iteration=561, Time=5.478516e+02, dt=9.765625e-01\n"
          ]
        },
        {
          "output_type": "stream",
          "name": "stderr",
          "text": [
            "INFO:__main__:Iteration=571, Time=5.576172e+02, dt=9.765625e-01\n"
          ]
        },
        {
          "output_type": "stream",
          "name": "stdout",
          "text": [
            "2024-11-01 18:02:29,341 __main__ 0/1 INFO :: Iteration=571, Time=5.576172e+02, dt=9.765625e-01\n"
          ]
        },
        {
          "output_type": "stream",
          "name": "stderr",
          "text": [
            "INFO:__main__:Iteration=581, Time=5.673828e+02, dt=9.765625e-01\n"
          ]
        },
        {
          "output_type": "stream",
          "name": "stdout",
          "text": [
            "2024-11-01 18:02:29,396 __main__ 0/1 INFO :: Iteration=581, Time=5.673828e+02, dt=9.765625e-01\n"
          ]
        },
        {
          "output_type": "stream",
          "name": "stderr",
          "text": [
            "INFO:__main__:Iteration=591, Time=5.771484e+02, dt=9.765625e-01\n"
          ]
        },
        {
          "output_type": "stream",
          "name": "stdout",
          "text": [
            "2024-11-01 18:02:29,437 __main__ 0/1 INFO :: Iteration=591, Time=5.771484e+02, dt=9.765625e-01\n"
          ]
        },
        {
          "output_type": "stream",
          "name": "stderr",
          "text": [
            "INFO:__main__:Iteration=601, Time=5.869141e+02, dt=9.765625e-01\n"
          ]
        },
        {
          "output_type": "stream",
          "name": "stdout",
          "text": [
            "2024-11-01 18:02:29,491 __main__ 0/1 INFO :: Iteration=601, Time=5.869141e+02, dt=9.765625e-01\n"
          ]
        },
        {
          "output_type": "stream",
          "name": "stderr",
          "text": [
            "INFO:__main__:Iteration=611, Time=5.966797e+02, dt=9.765625e-01\n"
          ]
        },
        {
          "output_type": "stream",
          "name": "stdout",
          "text": [
            "2024-11-01 18:02:29,530 __main__ 0/1 INFO :: Iteration=611, Time=5.966797e+02, dt=9.765625e-01\n"
          ]
        },
        {
          "output_type": "stream",
          "name": "stderr",
          "text": [
            "INFO:__main__:Iteration=621, Time=6.064453e+02, dt=9.765625e-01\n"
          ]
        },
        {
          "output_type": "stream",
          "name": "stdout",
          "text": [
            "2024-11-01 18:02:29,567 __main__ 0/1 INFO :: Iteration=621, Time=6.064453e+02, dt=9.765625e-01\n"
          ]
        },
        {
          "output_type": "stream",
          "name": "stderr",
          "text": [
            "INFO:__main__:Iteration=631, Time=6.162109e+02, dt=9.765625e-01\n"
          ]
        },
        {
          "output_type": "stream",
          "name": "stdout",
          "text": [
            "2024-11-01 18:02:29,604 __main__ 0/1 INFO :: Iteration=631, Time=6.162109e+02, dt=9.765625e-01\n"
          ]
        },
        {
          "output_type": "stream",
          "name": "stderr",
          "text": [
            "INFO:__main__:Iteration=641, Time=6.259766e+02, dt=9.765625e-01\n"
          ]
        },
        {
          "output_type": "stream",
          "name": "stdout",
          "text": [
            "2024-11-01 18:02:29,640 __main__ 0/1 INFO :: Iteration=641, Time=6.259766e+02, dt=9.765625e-01\n"
          ]
        },
        {
          "output_type": "stream",
          "name": "stderr",
          "text": [
            "INFO:__main__:Iteration=651, Time=6.357422e+02, dt=9.765625e-01\n"
          ]
        },
        {
          "output_type": "stream",
          "name": "stdout",
          "text": [
            "2024-11-01 18:02:29,681 __main__ 0/1 INFO :: Iteration=651, Time=6.357422e+02, dt=9.765625e-01\n"
          ]
        },
        {
          "output_type": "stream",
          "name": "stderr",
          "text": [
            "INFO:__main__:Iteration=661, Time=6.455078e+02, dt=9.765625e-01\n"
          ]
        },
        {
          "output_type": "stream",
          "name": "stdout",
          "text": [
            "2024-11-01 18:02:29,719 __main__ 0/1 INFO :: Iteration=661, Time=6.455078e+02, dt=9.765625e-01\n"
          ]
        },
        {
          "output_type": "stream",
          "name": "stderr",
          "text": [
            "INFO:__main__:Iteration=671, Time=6.552734e+02, dt=9.765625e-01\n"
          ]
        },
        {
          "output_type": "stream",
          "name": "stdout",
          "text": [
            "2024-11-01 18:02:29,759 __main__ 0/1 INFO :: Iteration=671, Time=6.552734e+02, dt=9.765625e-01\n"
          ]
        },
        {
          "output_type": "stream",
          "name": "stderr",
          "text": [
            "INFO:__main__:Iteration=681, Time=6.650391e+02, dt=9.765625e-01\n"
          ]
        },
        {
          "output_type": "stream",
          "name": "stdout",
          "text": [
            "2024-11-01 18:02:29,823 __main__ 0/1 INFO :: Iteration=681, Time=6.650391e+02, dt=9.765625e-01\n"
          ]
        },
        {
          "output_type": "stream",
          "name": "stderr",
          "text": [
            "INFO:__main__:Iteration=691, Time=6.748047e+02, dt=9.765625e-01\n"
          ]
        },
        {
          "output_type": "stream",
          "name": "stdout",
          "text": [
            "2024-11-01 18:02:29,868 __main__ 0/1 INFO :: Iteration=691, Time=6.748047e+02, dt=9.765625e-01\n"
          ]
        },
        {
          "output_type": "stream",
          "name": "stderr",
          "text": [
            "INFO:__main__:Iteration=701, Time=6.845703e+02, dt=9.765625e-01\n"
          ]
        },
        {
          "output_type": "stream",
          "name": "stdout",
          "text": [
            "2024-11-01 18:02:29,914 __main__ 0/1 INFO :: Iteration=701, Time=6.845703e+02, dt=9.765625e-01\n"
          ]
        },
        {
          "output_type": "stream",
          "name": "stderr",
          "text": [
            "INFO:__main__:Iteration=711, Time=6.943359e+02, dt=9.765625e-01\n"
          ]
        },
        {
          "output_type": "stream",
          "name": "stdout",
          "text": [
            "2024-11-01 18:02:29,962 __main__ 0/1 INFO :: Iteration=711, Time=6.943359e+02, dt=9.765625e-01\n"
          ]
        },
        {
          "output_type": "stream",
          "name": "stderr",
          "text": [
            "INFO:__main__:Iteration=721, Time=7.041016e+02, dt=9.765625e-01\n"
          ]
        },
        {
          "output_type": "stream",
          "name": "stdout",
          "text": [
            "2024-11-01 18:02:30,008 __main__ 0/1 INFO :: Iteration=721, Time=7.041016e+02, dt=9.765625e-01\n"
          ]
        },
        {
          "output_type": "stream",
          "name": "stderr",
          "text": [
            "INFO:__main__:Iteration=731, Time=7.138672e+02, dt=9.765625e-01\n"
          ]
        },
        {
          "output_type": "stream",
          "name": "stdout",
          "text": [
            "2024-11-01 18:02:30,057 __main__ 0/1 INFO :: Iteration=731, Time=7.138672e+02, dt=9.765625e-01\n"
          ]
        },
        {
          "output_type": "stream",
          "name": "stderr",
          "text": [
            "INFO:__main__:Iteration=741, Time=7.236328e+02, dt=9.765625e-01\n"
          ]
        },
        {
          "output_type": "stream",
          "name": "stdout",
          "text": [
            "2024-11-01 18:02:30,108 __main__ 0/1 INFO :: Iteration=741, Time=7.236328e+02, dt=9.765625e-01\n"
          ]
        },
        {
          "output_type": "stream",
          "name": "stderr",
          "text": [
            "INFO:__main__:Iteration=751, Time=7.333984e+02, dt=9.765625e-01\n"
          ]
        },
        {
          "output_type": "stream",
          "name": "stdout",
          "text": [
            "2024-11-01 18:02:30,160 __main__ 0/1 INFO :: Iteration=751, Time=7.333984e+02, dt=9.765625e-01\n"
          ]
        },
        {
          "output_type": "stream",
          "name": "stderr",
          "text": [
            "INFO:__main__:Iteration=761, Time=7.431641e+02, dt=9.765625e-01\n"
          ]
        },
        {
          "output_type": "stream",
          "name": "stdout",
          "text": [
            "2024-11-01 18:02:30,204 __main__ 0/1 INFO :: Iteration=761, Time=7.431641e+02, dt=9.765625e-01\n"
          ]
        },
        {
          "output_type": "stream",
          "name": "stderr",
          "text": [
            "INFO:__main__:Iteration=771, Time=7.529297e+02, dt=9.765625e-01\n"
          ]
        },
        {
          "output_type": "stream",
          "name": "stdout",
          "text": [
            "2024-11-01 18:02:30,255 __main__ 0/1 INFO :: Iteration=771, Time=7.529297e+02, dt=9.765625e-01\n"
          ]
        },
        {
          "output_type": "stream",
          "name": "stderr",
          "text": [
            "INFO:__main__:Iteration=781, Time=7.626953e+02, dt=9.765625e-01\n"
          ]
        },
        {
          "output_type": "stream",
          "name": "stdout",
          "text": [
            "2024-11-01 18:02:30,303 __main__ 0/1 INFO :: Iteration=781, Time=7.626953e+02, dt=9.765625e-01\n"
          ]
        },
        {
          "output_type": "stream",
          "name": "stderr",
          "text": [
            "INFO:__main__:Iteration=791, Time=7.724609e+02, dt=9.765625e-01\n"
          ]
        },
        {
          "output_type": "stream",
          "name": "stdout",
          "text": [
            "2024-11-01 18:02:30,346 __main__ 0/1 INFO :: Iteration=791, Time=7.724609e+02, dt=9.765625e-01\n"
          ]
        },
        {
          "output_type": "stream",
          "name": "stderr",
          "text": [
            "INFO:__main__:Iteration=801, Time=7.822266e+02, dt=9.765625e-01\n"
          ]
        },
        {
          "output_type": "stream",
          "name": "stdout",
          "text": [
            "2024-11-01 18:02:30,385 __main__ 0/1 INFO :: Iteration=801, Time=7.822266e+02, dt=9.765625e-01\n"
          ]
        },
        {
          "output_type": "stream",
          "name": "stderr",
          "text": [
            "INFO:__main__:Iteration=811, Time=7.919922e+02, dt=9.765625e-01\n"
          ]
        },
        {
          "output_type": "stream",
          "name": "stdout",
          "text": [
            "2024-11-01 18:02:30,425 __main__ 0/1 INFO :: Iteration=811, Time=7.919922e+02, dt=9.765625e-01\n"
          ]
        },
        {
          "output_type": "stream",
          "name": "stderr",
          "text": [
            "INFO:__main__:Iteration=821, Time=8.017578e+02, dt=9.765625e-01\n"
          ]
        },
        {
          "output_type": "stream",
          "name": "stdout",
          "text": [
            "2024-11-01 18:02:30,462 __main__ 0/1 INFO :: Iteration=821, Time=8.017578e+02, dt=9.765625e-01\n"
          ]
        },
        {
          "output_type": "stream",
          "name": "stderr",
          "text": [
            "INFO:__main__:Iteration=831, Time=8.115234e+02, dt=9.765625e-01\n"
          ]
        },
        {
          "output_type": "stream",
          "name": "stdout",
          "text": [
            "2024-11-01 18:02:30,504 __main__ 0/1 INFO :: Iteration=831, Time=8.115234e+02, dt=9.765625e-01\n"
          ]
        },
        {
          "output_type": "stream",
          "name": "stderr",
          "text": [
            "INFO:__main__:Iteration=841, Time=8.212891e+02, dt=9.765625e-01\n"
          ]
        },
        {
          "output_type": "stream",
          "name": "stdout",
          "text": [
            "2024-11-01 18:02:30,545 __main__ 0/1 INFO :: Iteration=841, Time=8.212891e+02, dt=9.765625e-01\n"
          ]
        },
        {
          "output_type": "stream",
          "name": "stderr",
          "text": [
            "INFO:__main__:Iteration=851, Time=8.310547e+02, dt=9.765625e-01\n"
          ]
        },
        {
          "output_type": "stream",
          "name": "stdout",
          "text": [
            "2024-11-01 18:02:30,584 __main__ 0/1 INFO :: Iteration=851, Time=8.310547e+02, dt=9.765625e-01\n"
          ]
        },
        {
          "output_type": "stream",
          "name": "stderr",
          "text": [
            "INFO:__main__:Iteration=861, Time=8.408203e+02, dt=9.765625e-01\n"
          ]
        },
        {
          "output_type": "stream",
          "name": "stdout",
          "text": [
            "2024-11-01 18:02:30,621 __main__ 0/1 INFO :: Iteration=861, Time=8.408203e+02, dt=9.765625e-01\n"
          ]
        },
        {
          "output_type": "stream",
          "name": "stderr",
          "text": [
            "INFO:__main__:Iteration=871, Time=8.505859e+02, dt=9.765625e-01\n"
          ]
        },
        {
          "output_type": "stream",
          "name": "stdout",
          "text": [
            "2024-11-01 18:02:30,658 __main__ 0/1 INFO :: Iteration=871, Time=8.505859e+02, dt=9.765625e-01\n"
          ]
        },
        {
          "output_type": "stream",
          "name": "stderr",
          "text": [
            "INFO:__main__:Iteration=881, Time=8.603516e+02, dt=9.765625e-01\n"
          ]
        },
        {
          "output_type": "stream",
          "name": "stdout",
          "text": [
            "2024-11-01 18:02:30,699 __main__ 0/1 INFO :: Iteration=881, Time=8.603516e+02, dt=9.765625e-01\n"
          ]
        },
        {
          "output_type": "stream",
          "name": "stderr",
          "text": [
            "INFO:__main__:Iteration=891, Time=8.701172e+02, dt=9.765625e-01\n"
          ]
        },
        {
          "output_type": "stream",
          "name": "stdout",
          "text": [
            "2024-11-01 18:02:30,741 __main__ 0/1 INFO :: Iteration=891, Time=8.701172e+02, dt=9.765625e-01\n"
          ]
        },
        {
          "output_type": "stream",
          "name": "stderr",
          "text": [
            "INFO:__main__:Iteration=901, Time=8.798828e+02, dt=9.765625e-01\n"
          ]
        },
        {
          "output_type": "stream",
          "name": "stdout",
          "text": [
            "2024-11-01 18:02:30,782 __main__ 0/1 INFO :: Iteration=901, Time=8.798828e+02, dt=9.765625e-01\n"
          ]
        },
        {
          "output_type": "stream",
          "name": "stderr",
          "text": [
            "INFO:__main__:Iteration=911, Time=8.896484e+02, dt=9.765625e-01\n"
          ]
        },
        {
          "output_type": "stream",
          "name": "stdout",
          "text": [
            "2024-11-01 18:02:30,833 __main__ 0/1 INFO :: Iteration=911, Time=8.896484e+02, dt=9.765625e-01\n"
          ]
        },
        {
          "output_type": "stream",
          "name": "stderr",
          "text": [
            "INFO:__main__:Iteration=921, Time=8.994141e+02, dt=9.765625e-01\n"
          ]
        },
        {
          "output_type": "stream",
          "name": "stdout",
          "text": [
            "2024-11-01 18:02:30,888 __main__ 0/1 INFO :: Iteration=921, Time=8.994141e+02, dt=9.765625e-01\n"
          ]
        },
        {
          "output_type": "stream",
          "name": "stderr",
          "text": [
            "INFO:__main__:Iteration=931, Time=9.091797e+02, dt=9.765625e-01\n"
          ]
        },
        {
          "output_type": "stream",
          "name": "stdout",
          "text": [
            "2024-11-01 18:02:30,939 __main__ 0/1 INFO :: Iteration=931, Time=9.091797e+02, dt=9.765625e-01\n"
          ]
        },
        {
          "output_type": "stream",
          "name": "stderr",
          "text": [
            "INFO:__main__:Iteration=941, Time=9.189453e+02, dt=9.765625e-01\n"
          ]
        },
        {
          "output_type": "stream",
          "name": "stdout",
          "text": [
            "2024-11-01 18:02:30,993 __main__ 0/1 INFO :: Iteration=941, Time=9.189453e+02, dt=9.765625e-01\n"
          ]
        },
        {
          "output_type": "stream",
          "name": "stderr",
          "text": [
            "INFO:__main__:Iteration=951, Time=9.287109e+02, dt=9.765625e-01\n"
          ]
        },
        {
          "output_type": "stream",
          "name": "stdout",
          "text": [
            "2024-11-01 18:02:31,041 __main__ 0/1 INFO :: Iteration=951, Time=9.287109e+02, dt=9.765625e-01\n"
          ]
        },
        {
          "output_type": "stream",
          "name": "stderr",
          "text": [
            "INFO:__main__:Iteration=961, Time=9.384766e+02, dt=9.765625e-01\n"
          ]
        },
        {
          "output_type": "stream",
          "name": "stdout",
          "text": [
            "2024-11-01 18:02:31,083 __main__ 0/1 INFO :: Iteration=961, Time=9.384766e+02, dt=9.765625e-01\n"
          ]
        },
        {
          "output_type": "stream",
          "name": "stderr",
          "text": [
            "INFO:__main__:Iteration=971, Time=9.482422e+02, dt=9.765625e-01\n"
          ]
        },
        {
          "output_type": "stream",
          "name": "stdout",
          "text": [
            "2024-11-01 18:02:31,146 __main__ 0/1 INFO :: Iteration=971, Time=9.482422e+02, dt=9.765625e-01\n"
          ]
        },
        {
          "output_type": "stream",
          "name": "stderr",
          "text": [
            "INFO:__main__:Iteration=981, Time=9.580078e+02, dt=9.765625e-01\n"
          ]
        },
        {
          "output_type": "stream",
          "name": "stdout",
          "text": [
            "2024-11-01 18:02:31,188 __main__ 0/1 INFO :: Iteration=981, Time=9.580078e+02, dt=9.765625e-01\n"
          ]
        },
        {
          "output_type": "stream",
          "name": "stderr",
          "text": [
            "INFO:__main__:Iteration=991, Time=9.677734e+02, dt=9.765625e-01\n"
          ]
        },
        {
          "output_type": "stream",
          "name": "stdout",
          "text": [
            "2024-11-01 18:02:31,229 __main__ 0/1 INFO :: Iteration=991, Time=9.677734e+02, dt=9.765625e-01\n"
          ]
        },
        {
          "output_type": "stream",
          "name": "stderr",
          "text": [
            "INFO:__main__:Iteration=1001, Time=9.775391e+02, dt=9.765625e-01\n"
          ]
        },
        {
          "output_type": "stream",
          "name": "stdout",
          "text": [
            "2024-11-01 18:02:31,276 __main__ 0/1 INFO :: Iteration=1001, Time=9.775391e+02, dt=9.765625e-01\n"
          ]
        },
        {
          "output_type": "stream",
          "name": "stderr",
          "text": [
            "INFO:__main__:Iteration=1011, Time=9.873047e+02, dt=9.765625e-01\n"
          ]
        },
        {
          "output_type": "stream",
          "name": "stdout",
          "text": [
            "2024-11-01 18:02:31,316 __main__ 0/1 INFO :: Iteration=1011, Time=9.873047e+02, dt=9.765625e-01\n"
          ]
        },
        {
          "output_type": "stream",
          "name": "stderr",
          "text": [
            "INFO:__main__:Iteration=1021, Time=9.970703e+02, dt=9.765625e-01\n"
          ]
        },
        {
          "output_type": "stream",
          "name": "stdout",
          "text": [
            "2024-11-01 18:02:31,355 __main__ 0/1 INFO :: Iteration=1021, Time=9.970703e+02, dt=9.765625e-01\n"
          ]
        },
        {
          "output_type": "stream",
          "name": "stderr",
          "text": [
            "INFO:__main__:Iteration=1031, Time=1.006836e+03, dt=9.765625e-01\n"
          ]
        },
        {
          "output_type": "stream",
          "name": "stdout",
          "text": [
            "2024-11-01 18:02:31,397 __main__ 0/1 INFO :: Iteration=1031, Time=1.006836e+03, dt=9.765625e-01\n"
          ]
        },
        {
          "output_type": "stream",
          "name": "stderr",
          "text": [
            "INFO:__main__:Iteration=1041, Time=1.016602e+03, dt=9.765625e-01\n"
          ]
        },
        {
          "output_type": "stream",
          "name": "stdout",
          "text": [
            "2024-11-01 18:02:31,435 __main__ 0/1 INFO :: Iteration=1041, Time=1.016602e+03, dt=9.765625e-01\n"
          ]
        },
        {
          "output_type": "stream",
          "name": "stderr",
          "text": [
            "INFO:__main__:Iteration=1051, Time=1.026367e+03, dt=9.765625e-01\n"
          ]
        },
        {
          "output_type": "stream",
          "name": "stdout",
          "text": [
            "2024-11-01 18:02:31,477 __main__ 0/1 INFO :: Iteration=1051, Time=1.026367e+03, dt=9.765625e-01\n"
          ]
        },
        {
          "output_type": "stream",
          "name": "stderr",
          "text": [
            "INFO:__main__:Iteration=1061, Time=1.036133e+03, dt=9.765625e-01\n"
          ]
        },
        {
          "output_type": "stream",
          "name": "stdout",
          "text": [
            "2024-11-01 18:02:31,522 __main__ 0/1 INFO :: Iteration=1061, Time=1.036133e+03, dt=9.765625e-01\n"
          ]
        },
        {
          "output_type": "stream",
          "name": "stderr",
          "text": [
            "INFO:__main__:Iteration=1071, Time=1.045898e+03, dt=9.765625e-01\n"
          ]
        },
        {
          "output_type": "stream",
          "name": "stdout",
          "text": [
            "2024-11-01 18:02:31,566 __main__ 0/1 INFO :: Iteration=1071, Time=1.045898e+03, dt=9.765625e-01\n"
          ]
        },
        {
          "output_type": "stream",
          "name": "stderr",
          "text": [
            "INFO:__main__:Iteration=1081, Time=1.055664e+03, dt=9.765625e-01\n"
          ]
        },
        {
          "output_type": "stream",
          "name": "stdout",
          "text": [
            "2024-11-01 18:02:31,612 __main__ 0/1 INFO :: Iteration=1081, Time=1.055664e+03, dt=9.765625e-01\n"
          ]
        },
        {
          "output_type": "stream",
          "name": "stderr",
          "text": [
            "INFO:__main__:Iteration=1091, Time=1.065430e+03, dt=9.765625e-01\n"
          ]
        },
        {
          "output_type": "stream",
          "name": "stdout",
          "text": [
            "2024-11-01 18:02:31,655 __main__ 0/1 INFO :: Iteration=1091, Time=1.065430e+03, dt=9.765625e-01\n"
          ]
        },
        {
          "output_type": "stream",
          "name": "stderr",
          "text": [
            "INFO:__main__:Iteration=1101, Time=1.075195e+03, dt=9.765625e-01\n"
          ]
        },
        {
          "output_type": "stream",
          "name": "stdout",
          "text": [
            "2024-11-01 18:02:31,700 __main__ 0/1 INFO :: Iteration=1101, Time=1.075195e+03, dt=9.765625e-01\n"
          ]
        },
        {
          "output_type": "stream",
          "name": "stderr",
          "text": [
            "INFO:__main__:Iteration=1111, Time=1.084961e+03, dt=9.765625e-01\n"
          ]
        },
        {
          "output_type": "stream",
          "name": "stdout",
          "text": [
            "2024-11-01 18:02:31,745 __main__ 0/1 INFO :: Iteration=1111, Time=1.084961e+03, dt=9.765625e-01\n"
          ]
        },
        {
          "output_type": "stream",
          "name": "stderr",
          "text": [
            "INFO:__main__:Iteration=1121, Time=1.094727e+03, dt=9.765625e-01\n"
          ]
        },
        {
          "output_type": "stream",
          "name": "stdout",
          "text": [
            "2024-11-01 18:02:31,820 __main__ 0/1 INFO :: Iteration=1121, Time=1.094727e+03, dt=9.765625e-01\n"
          ]
        },
        {
          "output_type": "stream",
          "name": "stderr",
          "text": [
            "INFO:__main__:Iteration=1131, Time=1.104492e+03, dt=9.765625e-01\n"
          ]
        },
        {
          "output_type": "stream",
          "name": "stdout",
          "text": [
            "2024-11-01 18:02:31,870 __main__ 0/1 INFO :: Iteration=1131, Time=1.104492e+03, dt=9.765625e-01\n"
          ]
        },
        {
          "output_type": "stream",
          "name": "stderr",
          "text": [
            "INFO:__main__:Iteration=1141, Time=1.114258e+03, dt=9.765625e-01\n"
          ]
        },
        {
          "output_type": "stream",
          "name": "stdout",
          "text": [
            "2024-11-01 18:02:31,929 __main__ 0/1 INFO :: Iteration=1141, Time=1.114258e+03, dt=9.765625e-01\n"
          ]
        },
        {
          "output_type": "stream",
          "name": "stderr",
          "text": [
            "INFO:__main__:Iteration=1151, Time=1.124023e+03, dt=9.765625e-01\n"
          ]
        },
        {
          "output_type": "stream",
          "name": "stdout",
          "text": [
            "2024-11-01 18:02:32,004 __main__ 0/1 INFO :: Iteration=1151, Time=1.124023e+03, dt=9.765625e-01\n"
          ]
        },
        {
          "output_type": "stream",
          "name": "stderr",
          "text": [
            "INFO:__main__:Iteration=1161, Time=1.133789e+03, dt=9.765625e-01\n"
          ]
        },
        {
          "output_type": "stream",
          "name": "stdout",
          "text": [
            "2024-11-01 18:02:32,054 __main__ 0/1 INFO :: Iteration=1161, Time=1.133789e+03, dt=9.765625e-01\n"
          ]
        },
        {
          "output_type": "stream",
          "name": "stderr",
          "text": [
            "INFO:__main__:Iteration=1171, Time=1.143555e+03, dt=9.765625e-01\n"
          ]
        },
        {
          "output_type": "stream",
          "name": "stdout",
          "text": [
            "2024-11-01 18:02:32,098 __main__ 0/1 INFO :: Iteration=1171, Time=1.143555e+03, dt=9.765625e-01\n"
          ]
        },
        {
          "output_type": "stream",
          "name": "stderr",
          "text": [
            "INFO:__main__:Iteration=1181, Time=1.153320e+03, dt=9.765625e-01\n"
          ]
        },
        {
          "output_type": "stream",
          "name": "stdout",
          "text": [
            "2024-11-01 18:02:32,138 __main__ 0/1 INFO :: Iteration=1181, Time=1.153320e+03, dt=9.765625e-01\n"
          ]
        },
        {
          "output_type": "stream",
          "name": "stderr",
          "text": [
            "INFO:__main__:Iteration=1191, Time=1.163086e+03, dt=9.765625e-01\n"
          ]
        },
        {
          "output_type": "stream",
          "name": "stdout",
          "text": [
            "2024-11-01 18:02:32,182 __main__ 0/1 INFO :: Iteration=1191, Time=1.163086e+03, dt=9.765625e-01\n"
          ]
        },
        {
          "output_type": "stream",
          "name": "stderr",
          "text": [
            "INFO:__main__:Iteration=1201, Time=1.172852e+03, dt=9.765625e-01\n"
          ]
        },
        {
          "output_type": "stream",
          "name": "stdout",
          "text": [
            "2024-11-01 18:02:32,225 __main__ 0/1 INFO :: Iteration=1201, Time=1.172852e+03, dt=9.765625e-01\n"
          ]
        },
        {
          "output_type": "stream",
          "name": "stderr",
          "text": [
            "INFO:__main__:Iteration=1211, Time=1.182617e+03, dt=9.765625e-01\n"
          ]
        },
        {
          "output_type": "stream",
          "name": "stdout",
          "text": [
            "2024-11-01 18:02:32,265 __main__ 0/1 INFO :: Iteration=1211, Time=1.182617e+03, dt=9.765625e-01\n"
          ]
        },
        {
          "output_type": "stream",
          "name": "stderr",
          "text": [
            "INFO:__main__:Iteration=1221, Time=1.192383e+03, dt=9.765625e-01\n"
          ]
        },
        {
          "output_type": "stream",
          "name": "stdout",
          "text": [
            "2024-11-01 18:02:32,306 __main__ 0/1 INFO :: Iteration=1221, Time=1.192383e+03, dt=9.765625e-01\n"
          ]
        },
        {
          "output_type": "stream",
          "name": "stderr",
          "text": [
            "INFO:__main__:Iteration=1231, Time=1.202148e+03, dt=9.765625e-01\n"
          ]
        },
        {
          "output_type": "stream",
          "name": "stdout",
          "text": [
            "2024-11-01 18:02:32,349 __main__ 0/1 INFO :: Iteration=1231, Time=1.202148e+03, dt=9.765625e-01\n"
          ]
        },
        {
          "output_type": "stream",
          "name": "stderr",
          "text": [
            "INFO:__main__:Iteration=1241, Time=1.211914e+03, dt=9.765625e-01\n"
          ]
        },
        {
          "output_type": "stream",
          "name": "stdout",
          "text": [
            "2024-11-01 18:02:32,396 __main__ 0/1 INFO :: Iteration=1241, Time=1.211914e+03, dt=9.765625e-01\n"
          ]
        },
        {
          "output_type": "stream",
          "name": "stderr",
          "text": [
            "INFO:__main__:Iteration=1251, Time=1.221680e+03, dt=9.765625e-01\n"
          ]
        },
        {
          "output_type": "stream",
          "name": "stdout",
          "text": [
            "2024-11-01 18:02:32,437 __main__ 0/1 INFO :: Iteration=1251, Time=1.221680e+03, dt=9.765625e-01\n"
          ]
        },
        {
          "output_type": "stream",
          "name": "stderr",
          "text": [
            "INFO:__main__:Iteration=1261, Time=1.231445e+03, dt=9.765625e-01\n"
          ]
        },
        {
          "output_type": "stream",
          "name": "stdout",
          "text": [
            "2024-11-01 18:02:32,477 __main__ 0/1 INFO :: Iteration=1261, Time=1.231445e+03, dt=9.765625e-01\n"
          ]
        },
        {
          "output_type": "stream",
          "name": "stderr",
          "text": [
            "INFO:__main__:Iteration=1271, Time=1.241211e+03, dt=9.765625e-01\n"
          ]
        },
        {
          "output_type": "stream",
          "name": "stdout",
          "text": [
            "2024-11-01 18:02:32,517 __main__ 0/1 INFO :: Iteration=1271, Time=1.241211e+03, dt=9.765625e-01\n"
          ]
        },
        {
          "output_type": "stream",
          "name": "stderr",
          "text": [
            "INFO:__main__:Iteration=1281, Time=1.250977e+03, dt=9.765625e-01\n"
          ]
        },
        {
          "output_type": "stream",
          "name": "stdout",
          "text": [
            "2024-11-01 18:02:32,558 __main__ 0/1 INFO :: Iteration=1281, Time=1.250977e+03, dt=9.765625e-01\n"
          ]
        },
        {
          "output_type": "stream",
          "name": "stderr",
          "text": [
            "INFO:__main__:Iteration=1291, Time=1.260742e+03, dt=9.765625e-01\n"
          ]
        },
        {
          "output_type": "stream",
          "name": "stdout",
          "text": [
            "2024-11-01 18:02:32,604 __main__ 0/1 INFO :: Iteration=1291, Time=1.260742e+03, dt=9.765625e-01\n"
          ]
        },
        {
          "output_type": "stream",
          "name": "stderr",
          "text": [
            "INFO:__main__:Iteration=1301, Time=1.270508e+03, dt=9.765625e-01\n"
          ]
        },
        {
          "output_type": "stream",
          "name": "stdout",
          "text": [
            "2024-11-01 18:02:32,645 __main__ 0/1 INFO :: Iteration=1301, Time=1.270508e+03, dt=9.765625e-01\n"
          ]
        },
        {
          "output_type": "stream",
          "name": "stderr",
          "text": [
            "INFO:__main__:Iteration=1311, Time=1.280273e+03, dt=9.765625e-01\n"
          ]
        },
        {
          "output_type": "stream",
          "name": "stdout",
          "text": [
            "2024-11-01 18:02:32,687 __main__ 0/1 INFO :: Iteration=1311, Time=1.280273e+03, dt=9.765625e-01\n"
          ]
        },
        {
          "output_type": "stream",
          "name": "stderr",
          "text": [
            "INFO:__main__:Iteration=1321, Time=1.290039e+03, dt=9.765625e-01\n"
          ]
        },
        {
          "output_type": "stream",
          "name": "stdout",
          "text": [
            "2024-11-01 18:02:32,730 __main__ 0/1 INFO :: Iteration=1321, Time=1.290039e+03, dt=9.765625e-01\n"
          ]
        },
        {
          "output_type": "stream",
          "name": "stderr",
          "text": [
            "INFO:__main__:Iteration=1331, Time=1.299805e+03, dt=9.765625e-01\n"
          ]
        },
        {
          "output_type": "stream",
          "name": "stdout",
          "text": [
            "2024-11-01 18:02:32,775 __main__ 0/1 INFO :: Iteration=1331, Time=1.299805e+03, dt=9.765625e-01\n"
          ]
        },
        {
          "output_type": "stream",
          "name": "stderr",
          "text": [
            "INFO:__main__:Iteration=1341, Time=1.309570e+03, dt=9.765625e-01\n"
          ]
        },
        {
          "output_type": "stream",
          "name": "stdout",
          "text": [
            "2024-11-01 18:02:32,821 __main__ 0/1 INFO :: Iteration=1341, Time=1.309570e+03, dt=9.765625e-01\n"
          ]
        },
        {
          "output_type": "stream",
          "name": "stderr",
          "text": [
            "INFO:__main__:Iteration=1351, Time=1.319336e+03, dt=9.765625e-01\n"
          ]
        },
        {
          "output_type": "stream",
          "name": "stdout",
          "text": [
            "2024-11-01 18:02:32,865 __main__ 0/1 INFO :: Iteration=1351, Time=1.319336e+03, dt=9.765625e-01\n"
          ]
        },
        {
          "output_type": "stream",
          "name": "stderr",
          "text": [
            "INFO:__main__:Iteration=1361, Time=1.329102e+03, dt=9.765625e-01\n"
          ]
        },
        {
          "output_type": "stream",
          "name": "stdout",
          "text": [
            "2024-11-01 18:02:32,916 __main__ 0/1 INFO :: Iteration=1361, Time=1.329102e+03, dt=9.765625e-01\n"
          ]
        },
        {
          "output_type": "stream",
          "name": "stderr",
          "text": [
            "INFO:__main__:Iteration=1371, Time=1.338867e+03, dt=9.765625e-01\n"
          ]
        },
        {
          "output_type": "stream",
          "name": "stdout",
          "text": [
            "2024-11-01 18:02:32,967 __main__ 0/1 INFO :: Iteration=1371, Time=1.338867e+03, dt=9.765625e-01\n"
          ]
        },
        {
          "output_type": "stream",
          "name": "stderr",
          "text": [
            "INFO:__main__:Iteration=1381, Time=1.348633e+03, dt=9.765625e-01\n"
          ]
        },
        {
          "output_type": "stream",
          "name": "stdout",
          "text": [
            "2024-11-01 18:02:33,011 __main__ 0/1 INFO :: Iteration=1381, Time=1.348633e+03, dt=9.765625e-01\n"
          ]
        },
        {
          "output_type": "stream",
          "name": "stderr",
          "text": [
            "INFO:__main__:Iteration=1391, Time=1.358398e+03, dt=9.765625e-01\n"
          ]
        },
        {
          "output_type": "stream",
          "name": "stdout",
          "text": [
            "2024-11-01 18:02:33,065 __main__ 0/1 INFO :: Iteration=1391, Time=1.358398e+03, dt=9.765625e-01\n"
          ]
        },
        {
          "output_type": "stream",
          "name": "stderr",
          "text": [
            "INFO:__main__:Iteration=1401, Time=1.368164e+03, dt=9.765625e-01\n"
          ]
        },
        {
          "output_type": "stream",
          "name": "stdout",
          "text": [
            "2024-11-01 18:02:33,114 __main__ 0/1 INFO :: Iteration=1401, Time=1.368164e+03, dt=9.765625e-01\n"
          ]
        },
        {
          "output_type": "stream",
          "name": "stderr",
          "text": [
            "INFO:__main__:Iteration=1411, Time=1.377930e+03, dt=9.765625e-01\n"
          ]
        },
        {
          "output_type": "stream",
          "name": "stdout",
          "text": [
            "2024-11-01 18:02:33,156 __main__ 0/1 INFO :: Iteration=1411, Time=1.377930e+03, dt=9.765625e-01\n"
          ]
        },
        {
          "output_type": "stream",
          "name": "stderr",
          "text": [
            "INFO:__main__:Iteration=1421, Time=1.387695e+03, dt=9.765625e-01\n"
          ]
        },
        {
          "output_type": "stream",
          "name": "stdout",
          "text": [
            "2024-11-01 18:02:33,200 __main__ 0/1 INFO :: Iteration=1421, Time=1.387695e+03, dt=9.765625e-01\n"
          ]
        },
        {
          "output_type": "stream",
          "name": "stderr",
          "text": [
            "INFO:__main__:Iteration=1431, Time=1.397461e+03, dt=9.765625e-01\n"
          ]
        },
        {
          "output_type": "stream",
          "name": "stdout",
          "text": [
            "2024-11-01 18:02:33,244 __main__ 0/1 INFO :: Iteration=1431, Time=1.397461e+03, dt=9.765625e-01\n"
          ]
        },
        {
          "output_type": "stream",
          "name": "stderr",
          "text": [
            "INFO:__main__:Iteration=1441, Time=1.407227e+03, dt=9.765625e-01\n"
          ]
        },
        {
          "output_type": "stream",
          "name": "stdout",
          "text": [
            "2024-11-01 18:02:33,286 __main__ 0/1 INFO :: Iteration=1441, Time=1.407227e+03, dt=9.765625e-01\n"
          ]
        },
        {
          "output_type": "stream",
          "name": "stderr",
          "text": [
            "INFO:__main__:Iteration=1451, Time=1.416992e+03, dt=9.765625e-01\n"
          ]
        },
        {
          "output_type": "stream",
          "name": "stdout",
          "text": [
            "2024-11-01 18:02:33,330 __main__ 0/1 INFO :: Iteration=1451, Time=1.416992e+03, dt=9.765625e-01\n"
          ]
        },
        {
          "output_type": "stream",
          "name": "stderr",
          "text": [
            "INFO:__main__:Iteration=1461, Time=1.426758e+03, dt=9.765625e-01\n"
          ]
        },
        {
          "output_type": "stream",
          "name": "stdout",
          "text": [
            "2024-11-01 18:02:33,374 __main__ 0/1 INFO :: Iteration=1461, Time=1.426758e+03, dt=9.765625e-01\n"
          ]
        },
        {
          "output_type": "stream",
          "name": "stderr",
          "text": [
            "INFO:__main__:Iteration=1471, Time=1.436523e+03, dt=9.765625e-01\n"
          ]
        },
        {
          "output_type": "stream",
          "name": "stdout",
          "text": [
            "2024-11-01 18:02:33,411 __main__ 0/1 INFO :: Iteration=1471, Time=1.436523e+03, dt=9.765625e-01\n"
          ]
        },
        {
          "output_type": "stream",
          "name": "stderr",
          "text": [
            "INFO:__main__:Iteration=1481, Time=1.446289e+03, dt=9.765625e-01\n"
          ]
        },
        {
          "output_type": "stream",
          "name": "stdout",
          "text": [
            "2024-11-01 18:02:33,448 __main__ 0/1 INFO :: Iteration=1481, Time=1.446289e+03, dt=9.765625e-01\n"
          ]
        },
        {
          "output_type": "stream",
          "name": "stderr",
          "text": [
            "INFO:__main__:Iteration=1491, Time=1.456055e+03, dt=9.765625e-01\n"
          ]
        },
        {
          "output_type": "stream",
          "name": "stdout",
          "text": [
            "2024-11-01 18:02:33,492 __main__ 0/1 INFO :: Iteration=1491, Time=1.456055e+03, dt=9.765625e-01\n"
          ]
        },
        {
          "output_type": "stream",
          "name": "stderr",
          "text": [
            "INFO:__main__:Iteration=1501, Time=1.465820e+03, dt=9.765625e-01\n"
          ]
        },
        {
          "output_type": "stream",
          "name": "stdout",
          "text": [
            "2024-11-01 18:02:33,533 __main__ 0/1 INFO :: Iteration=1501, Time=1.465820e+03, dt=9.765625e-01\n"
          ]
        },
        {
          "output_type": "stream",
          "name": "stderr",
          "text": [
            "INFO:__main__:Iteration=1511, Time=1.475586e+03, dt=9.765625e-01\n"
          ]
        },
        {
          "output_type": "stream",
          "name": "stdout",
          "text": [
            "2024-11-01 18:02:33,577 __main__ 0/1 INFO :: Iteration=1511, Time=1.475586e+03, dt=9.765625e-01\n"
          ]
        },
        {
          "output_type": "stream",
          "name": "stderr",
          "text": [
            "INFO:__main__:Iteration=1521, Time=1.485352e+03, dt=9.765625e-01\n"
          ]
        },
        {
          "output_type": "stream",
          "name": "stdout",
          "text": [
            "2024-11-01 18:02:33,621 __main__ 0/1 INFO :: Iteration=1521, Time=1.485352e+03, dt=9.765625e-01\n"
          ]
        },
        {
          "output_type": "stream",
          "name": "stderr",
          "text": [
            "INFO:__main__:Iteration=1531, Time=1.495117e+03, dt=9.765625e-01\n"
          ]
        },
        {
          "output_type": "stream",
          "name": "stdout",
          "text": [
            "2024-11-01 18:02:33,661 __main__ 0/1 INFO :: Iteration=1531, Time=1.495117e+03, dt=9.765625e-01\n"
          ]
        },
        {
          "output_type": "stream",
          "name": "stderr",
          "text": [
            "INFO:solvers:Simulation stop time reached.\n"
          ]
        },
        {
          "output_type": "stream",
          "name": "stdout",
          "text": [
            "2024-11-01 18:02:33,684 solvers 0/1 INFO :: Simulation stop time reached.\n"
          ]
        },
        {
          "output_type": "stream",
          "name": "stderr",
          "text": [
            "INFO:solvers:Final iteration: 1536\n"
          ]
        },
        {
          "output_type": "stream",
          "name": "stdout",
          "text": [
            "2024-11-01 18:02:33,688 solvers 0/1 INFO :: Final iteration: 1536\n"
          ]
        },
        {
          "output_type": "stream",
          "name": "stderr",
          "text": [
            "INFO:solvers:Final sim time: 1500.0\n"
          ]
        },
        {
          "output_type": "stream",
          "name": "stdout",
          "text": [
            "2024-11-01 18:02:33,692 solvers 0/1 INFO :: Final sim time: 1500.0\n"
          ]
        },
        {
          "output_type": "stream",
          "name": "stderr",
          "text": [
            "INFO:solvers:Setup time (init - iter 0): 0.4952 sec\n"
          ]
        },
        {
          "output_type": "stream",
          "name": "stdout",
          "text": [
            "2024-11-01 18:02:33,695 solvers 0/1 INFO :: Setup time (init - iter 0): 0.4952 sec\n"
          ]
        },
        {
          "output_type": "stream",
          "name": "stderr",
          "text": [
            "INFO:solvers:Warmup time (iter 0-10): 0.09575 sec\n"
          ]
        },
        {
          "output_type": "stream",
          "name": "stdout",
          "text": [
            "2024-11-01 18:02:33,697 solvers 0/1 INFO :: Warmup time (iter 0-10): 0.09575 sec\n"
          ]
        },
        {
          "output_type": "stream",
          "name": "stderr",
          "text": [
            "INFO:solvers:Run time (iter 10-end): 7.114 sec\n"
          ]
        },
        {
          "output_type": "stream",
          "name": "stdout",
          "text": [
            "2024-11-01 18:02:33,699 solvers 0/1 INFO :: Run time (iter 10-end): 7.114 sec\n"
          ]
        },
        {
          "output_type": "stream",
          "name": "stderr",
          "text": [
            "INFO:solvers:CPU time (iter 10-end): 0.001976 cpu-hr\n"
          ]
        },
        {
          "output_type": "stream",
          "name": "stdout",
          "text": [
            "2024-11-01 18:02:33,701 solvers 0/1 INFO :: CPU time (iter 10-end): 0.001976 cpu-hr\n"
          ]
        },
        {
          "output_type": "stream",
          "name": "stderr",
          "text": [
            "INFO:solvers:Speed: 3.719e+06 mode-stages/cpu-sec\n"
          ]
        },
        {
          "output_type": "stream",
          "name": "stdout",
          "text": [
            "2024-11-01 18:02:33,703 solvers 0/1 INFO :: Speed: 3.719e+06 mode-stages/cpu-sec\n"
          ]
        },
        {
          "output_type": "execute_result",
          "data": {
            "text/plain": [
              "Text(0.5, 0.98, 'Concentration variation with time at 19.5m length, and 3.1m width')"
            ]
          },
          "metadata": {},
          "execution_count": 25
        },
        {
          "output_type": "display_data",
          "data": {
            "text/plain": [
              "<Figure size 1000x1000 with 9 Axes>"
            ],
            "image/png": "[encoded data removed]"
          },
          "metadata": {}
        }
      ]
    },
    {
      "cell_type": "markdown",
      "source": [
        "**My Answer - continued**\n",
        "\n",
        "Dimensional analysis tells us that $t\\approx L^2/\\kappa \\approx L/U_0$. For $L=10$ (width), $\\kappa = 0.01$, and $U_0 = 0.1$, the first option gives a value of 10,000.\n",
        "\n",
        "For $U_0 = 0.1$, a value of $t=10000$ using the second equation gives $L=1000m$.\n",
        "\n",
        "This speaks to how rapid the river moves relative to rate of diffusion."
      ],
      "metadata": {
        "id": "TdmDSnQD9fDi"
      }
    },
    {
      "cell_type": "markdown",
      "metadata": {
        "id": "r3b-ccfTGj7k"
      },
      "source": [
        "## 3. Optional further investigations\n",
        "\n",
        "* In the river pollution example, you might notice that the concentration field is mixed more effectively in the x-direction than in the y-direction. The combination of differential advection by the currents and cross-stream diffusion is very effective at mixing the plume in the x-direction. This is an example of Taylor dispersion (Taylor, 1953). Construct numerical experiments to quantify Taylor dispersion and its dependence on the current shear and the diffusivity. You could also separate the diffusivity into parts in the x and y directions with different coefficients.  If you set the x-component of the diffusivity to zero, then any spreading of the concentration in the x-direction should be due to Taylor dispersion.\n",
        "\n",
        "* Try making the river speed a function of time. The easiest way to do this is to add a new equation so that Dedalus solves for the velocity in addition to the concentration field. For example, you could make the river speed decrease exponentially in time, or it could be sinusoidal in time.\n",
        "\n",
        "* In the ocean mixing example, if $\\kappa$ is a function of $x$ and $z$, what would this imply about the velocity field? You could even try writing a Dedalus script to solve the 2D advection/diffusion equation with a prescribed spatially-dependent $\\kappa(x,z)$.\n"
      ]
    },
    {
      "cell_type": "markdown",
      "metadata": {
        "id": "w6MkZzAsGj7l"
      },
      "source": [
        "### References\n",
        "\n",
        "Munk, W.H., 1966. Abyssal recipes. In Deep sea research and oceanographic abstracts (Vol. 13, No. 4, pp. 707-730). Elsevier.\n",
        "\n",
        "Ferrari, R., Mashayek, A., McDougall, T.J., Nikurashin, M. and Campin, J.M., 2016. Turning ocean mixing upside down. Journal of Physical Oceanography, 46(7), pp.2239-2261.\n",
        "\n",
        "Taylor, G.I., 1953. Dispersion of soluble matter in solvent flowing slowly through a tube. Proceedings of the Royal Society of London. Series A. Mathematical and Physical Sciences, 219(1137), pp.186-203."
      ]
    }
  ],
  "metadata": {
    "kernelspec": {
      "display_name": "dedalus3",
      "language": "python",
      "name": "python3"
    },
    "language_info": {
      "codemirror_mode": {
        "name": "ipython",
        "version": 3
      },
      "file_extension": ".py",
      "mimetype": "text/x-python",
      "name": "python",
      "nbconvert_exporter": "python",
      "pygments_lexer": "ipython3",
      "version": "3.12.2"
    },
    "colab": {
      "provenance": [],
      "include_colab_link": true
    }
  },
  "nbformat": 4,
  "nbformat_minor": 0
}