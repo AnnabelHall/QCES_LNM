{
 "cells": [
  {
   "cell_type": "markdown",
   "metadata": {},
   "source": [
    "# Project 1: Diffusion equation"
   ]
  },
  {
   "cell_type": "markdown",
   "metadata": {},
   "source": [
    "In this project we will use several methods to solve the diffusion equation:\n",
    "\n",
    "$$ \\partial_t c = \\kappa \\partial_x^2 c $$\n",
    "\n",
    "In this notebook we will solve this equation using second order finite differences to approximate the $x$-derivatives, and we will use both the explict Euler and Crank-Nicolson timestepping methods. \n",
    "\n",
    "In the second notebook for this project, we will learn how to use Dedalus to solve the same problem using spectral methods.\n",
    "\n",
    "The objective for this notebook is to compare the stability, accuracy, and speed of the Explicit euler and Crank-Nicolson methods."
   ]
  },
  {
   "cell_type": "markdown",
   "metadata": {},
   "source": [
    "Before we start, load in the required libraries"
   ]
  },
  {
   "cell_type": "code",
   "execution_count": null,
   "metadata": {},
   "outputs": [],
   "source": [
    "# Importing necessary libraries\n",
    "import numpy as np\n",
    "import matplotlib.pyplot as plt\n",
    "import scipy.sparse as sp\n",
    "import scipy.sparse.linalg as spla\n",
    "import time"
   ]
  },
  {
   "cell_type": "markdown",
   "metadata": {},
   "source": [
    "\n",
    "Now, define two functions to timestep the diffusion equation. The code below timesteps the diffusion equation using the expicit Euler method. The function takes in a vector of discrete positions, `x`, discrete times, `t`, and the diffusivity, `kappa`. The vectors `x` and `t` dictate the discretization of the problem in space and time, and the grid spacing must be constant in space and time. The boundary conditions are $\\partial_x c=0$ at the starting and ending points in `x`."
   ]
  },
  {
   "cell_type": "code",
   "execution_count": null,
   "metadata": {},
   "outputs": [],
   "source": [
    "def EE(x, t, kappa):\n",
    "# This function timesteps the diffusion equation with homogeneous Neumann boundary conditions\n",
    "# using the explicit Euler and second order finite difference methods\n",
    "\n",
    "    start_time = time.time()  # Start a timer\n",
    "\n",
    "    # Infer the uniform grid spacing:\n",
    "    dx = (x[-1] - x[0]) / (len(x) - 1); dt = (t[-1] - t[0]) / (len(t) - 1)\n",
    "\n",
    "    # Set the number of gridpoints in x and t\n",
    "    Nx = len(x); Nt = len(t)\n",
    "\n",
    "    # Builds a coefficient matrix, such that M*c is the discrete version of d/dx(c)\n",
    "    M = (np.diag(np.ones(Nx-1), -1) - 2*np.diag(np.ones(Nx), 0) + np.diag(np.ones(Nx-1), 1)) / dx**2\n",
    "\n",
    "    # Turn M into a sparse matrix to save memory and improve speed\n",
    "    M = sp.csr_matrix(M) \n",
    "\n",
    "    # Create an empty sparse array to store the solution \n",
    "    c = np.zeros((Nx, Nt))\n",
    "\n",
    "    c[:, 0] = set_ics(x, kappa, 10)  # Set the initial condition\n",
    "\n",
    "    for k in range(1, Nt):  # loop over the number of timesteps\n",
    "        c[:,k] = c[:,k-1] + dt * kappa * M @ c[:,k-1]\n",
    "      #  for i in range(1, Nx-1):\n",
    "      #      c[i, k] = c[i, k-1] + dt * kappa * (c[i+1, k-1] - 2*c[i, k-1] + c[i-1, k-1]) / (dx**2)\n",
    "        # Enforce the boundary conditions\n",
    "      #  c[0, k] = c[1, k]\n",
    "      #  c[-1, k] = c[-2, k]\n",
    "\n",
    "    end_time = time.time()  # Print the elapsed time\n",
    "\n",
    "    print(f\"Explicit Euler method took {end_time - start_time:.2f} seconds\")\n",
    "\n",
    "    return c"
   ]
  },
  {
   "cell_type": "markdown",
   "metadata": {},
   "source": [
    "Similarly, the function below timesteps the diffusion equation with the Crank-Nicolson method"
   ]
  },
  {
   "cell_type": "code",
   "execution_count": null,
   "metadata": {},
   "outputs": [],
   "source": [
    "def CN(x, t, kappa):\n",
    "# This function timesteps the diffusion equation with homogeneous Neumann boundary conditions\n",
    "# using the explicit Euler and second order finite difference methods\n",
    "    start_time = time.time()  # Start a timer\n",
    "\n",
    "    # Infer the uniform grid spacing:\n",
    "    dx = (x[-1] - x[0]) / (len(x) - 1); dt = (t[-1] - t[0]) / (len(t) - 1)\n",
    "\n",
    "    # Set the number of gridpoints in x and t\n",
    "    Nx = len(x); Nt = len(t)\n",
    "\n",
    "    # build a coefficient matrix, such that M*c is the discrete version of d/dx(c)\n",
    "    M = (np.diag(np.ones(Nx-1), -1) - 2*np.diag(np.ones(Nx), 0) + np.diag(np.ones(Nx-1), 1)) / dx**2\n",
    "\n",
    "    # Turn M into a sparse matrix to save memory and improve speed:\n",
    "    M = sp.csr_matrix(M) \n",
    "\n",
    "    A = sp.eye(Nx) - 0.5 * dt * kappa * M  # This matrix appears on the LHS in the C-N scheme\n",
    "    A_inv = spla.inv(A) # Calculate the inverse of A (this only needs to be done once)\n",
    "\n",
    "    # Create an empty sparse array to store the solution\n",
    "    c = np.zeros((Nx, Nt)) \n",
    "\n",
    "    c[:, 0] = set_ics(x, kappa, 10)  # Set the initial condition\n",
    "\n",
    "    for k in range(1, Nt): # loop over the number of timesteps\n",
    "        c[:, k] = A_inv @ (c[:, k-1] + 0.5 * dt * kappa * (M @ c[:, k-1]))\n",
    "        # Enforce the boundary conditions\n",
    "        c[0, k] = c[1, k]\n",
    "        c[-1, k] = c[-2, k]\n",
    "\n",
    "    end_time = time.time()  # Print the elapsed time\n",
    "\n",
    "    print(f\"Crank-Nicolson method took {end_time - start_time:.2f} seconds\")\n",
    "\n",
    "    return c"
   ]
  },
  {
   "cell_type": "markdown",
   "metadata": {},
   "source": [
    "Next, create a function to set the initial conditions. In this case, we initialize with a Gaussian of width 0.1:\n",
    "\n",
    "$$ c(x,0) = exp(-x^2 / 0.1^2) $$"
   ]
  },
  {
   "cell_type": "code",
   "execution_count": null,
   "metadata": {},
   "outputs": [],
   "source": [
    "# Function to set the initial condition from the exact solution at time t_start\n",
    "def set_ics(x, kappa, t_ic):\n",
    "    c_ic = (4*np.pi*kappa*t_ic)**(-0.5)*np.exp(-x**2 / (4*kappa*t_ic))\n",
    "    # Enforce the boundary conditions\n",
    "    c_ic[0] = c_ic[1]\n",
    "    c_ic[-1] = c_ic[-2]\n",
    "    return c_ic\n"
   ]
  },
  {
   "cell_type": "markdown",
   "metadata": {},
   "source": [
    "Finally, define some parameters and the x and t vectors:"
   ]
  },
  {
   "cell_type": "code",
   "execution_count": null,
   "metadata": {},
   "outputs": [],
   "source": [
    "# Defining parameters\n",
    "kappa = 0.001  # diffusivity\n",
    "\n",
    "# Timestepping parameters\n",
    "t_start = 0  # start time\n",
    "t_end = 10  # end time\n",
    "Nt = 1000  # number of timesteps\n",
    "\n",
    "# Size of the physical domain\n",
    "x_start = -1\n",
    "x_end = 1\n",
    "Nx = 100\n",
    "\n",
    "t = np.linspace(t_start, t_end, Nt)  # Create a vector of times\n",
    "x = np.linspace(x_start, x_end, Nx)  # Create a vector for x"
   ]
  },
  {
   "cell_type": "markdown",
   "metadata": {},
   "source": [
    "Run each method once:"
   ]
  },
  {
   "cell_type": "code",
   "execution_count": null,
   "metadata": {},
   "outputs": [],
   "source": [
    "# Run the simulations\n",
    "c_EE = EE(x, t, kappa) # explicit Euler\n",
    "c_CN = CN(x, t, kappa) # Crank-Nicolson"
   ]
  },
  {
   "cell_type": "markdown",
   "metadata": {},
   "source": [
    "and finall, plot the results side-by-side"
   ]
  },
  {
   "cell_type": "code",
   "execution_count": null,
   "metadata": {},
   "outputs": [],
   "source": [
    "# Plot the results\n",
    "plt.figure(figsize=(14, 6))\n",
    "\n",
    "plt.subplot(1, 2, 1)\n",
    "plt.pcolormesh(x, t, c_EE.T, shading='auto')\n",
    "plt.xlabel('x')\n",
    "plt.ylabel('t')\n",
    "plt.title('Explicit Euler')\n",
    "\n",
    "plt.subplot(1, 2, 2)\n",
    "plt.pcolormesh(x, t, c_CN.T, shading='auto')\n",
    "plt.xlabel('x')\n",
    "plt.ylabel('t')\n",
    "plt.title('Crank-Nicolson')\n",
    "\n",
    "plt.tight_layout()\n",
    "plt.show()"
   ]
  },
  {
   "cell_type": "markdown",
   "metadata": {},
   "source": [
    "## 2. Student investigation"
   ]
  },
  {
   "cell_type": "markdown",
   "metadata": {},
   "source": [
    "### Stability\n",
    "\n",
    "The explicit Euler and Crank-Nicolson methods have very different stability properties. To explore this, try increasing the timestep (reduce the number of timesteps) and see how each method responds. How does the stability depend on `Nx`? Discuss your findings below (~1 paragraph)"
   ]
  },
  {
   "cell_type": "markdown",
   "metadata": {},
   "source": [
    "INSERT COMMENTS HERE"
   ]
  },
  {
   "cell_type": "markdown",
   "metadata": {},
   "source": [
    "### Accuracy\n",
    "\n",
    "Next, we will examine the accuracy of the numerical methods used above. In order to do this, it is useful to compare our numerical solutions with the exact solution to the diffusion equation. Below, write code to plot the exact solution and the numerical solution using explicit Euler and Crank-Nicolson at the final time ($t=10$). Note that you can use the exact solution to the diffusion equation in an unbounded domain in $x$ and keep in mind that the exact solution and numerical solutions will differ for later times when boundary effects are felt."
   ]
  },
  {
   "cell_type": "code",
   "execution_count": null,
   "metadata": {},
   "outputs": [],
   "source": [
    "# We will use the exact solution referenced to a time where t=0 corresponds to a delta function\n",
    "# eval_time is the final time of the simulation in these time units (add the time used to create the ICs)\n",
    "eval_time=t[Nt-1]+10\n",
    "\n",
    "exact=np.zeros(Nx)\n",
    "for i in range(1, Nx):\n",
    "    exact[i]=(4*np.pi*kappa*eval_time)**(-0.5)*np.exp(-x[i]**2.0/4/kappa/eval_time)\n",
    "\n",
    "plt.figure(figsize=(14, 6))\n",
    "plt.plot(x,set_ics(x,0.001,10),'k--')\n",
    "plt.plot(x,exact)\n",
    "plt.plot(x,c_EE[:,Nt-1],'--')\n",
    "plt.plot(x,c_CN[:,Nt-1],':')\n",
    "plt.legend(('Initial condition','Exact solution','Explicit Euler','Crank-Nicolson'))"
   ]
  },
  {
   "cell_type": "markdown",
   "metadata": {},
   "source": [
    "Now, define a measure of the error of each numerical method compared to the exact solution (there is no single correct way to do this). Plot the error of both methods as a function of the grid spacing $\\Delta x$. Then, similarly plot the error as a function of the timestep, $\\Delta t$."
   ]
  },
  {
   "cell_type": "code",
   "execution_count": null,
   "metadata": {},
   "outputs": [],
   "source": []
  },
  {
   "cell_type": "code",
   "execution_count": 46,
   "metadata": {},
   "outputs": [
    {
     "name": "stderr",
     "output_type": "stream",
     "text": [
      "/Users/john/miniforge3/envs/dedalus3/lib/python3.12/site-packages/scipy/sparse/linalg/_dsolve/linsolve.py:603: SparseEfficiencyWarning: splu converted its input to CSC format\n",
      "  return splu(A).solve\n",
      "/Users/john/miniforge3/envs/dedalus3/lib/python3.12/site-packages/scipy/sparse/linalg/_matfuncs.py:76: SparseEfficiencyWarning: spsolve is more efficient when sparse b is in the CSC matrix format\n",
      "  Ainv = spsolve(A, I)\n"
     ]
    },
    {
     "name": "stdout",
     "output_type": "stream",
     "text": [
      "Crank-Nicolson method took 0.03 seconds\n",
      "Explicit Euler method took 0.05 seconds\n",
      "Crank-Nicolson method took 0.03 seconds\n",
      "Explicit Euler method took 0.04 seconds\n",
      "Crank-Nicolson method took 0.03 seconds\n",
      "Explicit Euler method took 0.05 seconds\n",
      "Crank-Nicolson method took 0.04 seconds\n",
      "Explicit Euler method took 0.05 seconds\n",
      "Crank-Nicolson method took 0.04 seconds\n",
      "Explicit Euler method took 0.05 seconds\n",
      "Crank-Nicolson method took 0.04 seconds\n",
      "Explicit Euler method took 0.05 seconds\n",
      "Crank-Nicolson method took 0.05 seconds\n",
      "Explicit Euler method took 0.05 seconds\n",
      "Crank-Nicolson method took 0.05 seconds\n",
      "Explicit Euler method took 0.05 seconds\n",
      "Crank-Nicolson method took 0.06 seconds\n",
      "Explicit Euler method took 0.05 seconds\n"
     ]
    },
    {
     "data": {
      "text/plain": [
       "<matplotlib.legend.Legend at 0x12f61cb60>"
      ]
     },
     "execution_count": 46,
     "metadata": {},
     "output_type": "execute_result"
    },
    {
     "data": {
      "image/png": "[encoded data removed]",
      "text/plain": [
       "<Figure size 640x480 with 1 Axes>"
      ]
     },
     "metadata": {},
     "output_type": "display_data"
    }
   ],
   "source": [
    "# Timestepping parameters\n",
    "t_start = 0  # start time\n",
    "t_end = 10  # end time\n",
    "Nt = 1000  # number of timesteps\n",
    "\n",
    "t = np.linspace(t_start, t_end, Nt)  # Create a vector of times\n",
    "\n",
    "Nx=np.int16(np.zeros(10))\n",
    "dx=np.zeros(10)\n",
    "CN_error=np.zeros(10)\n",
    "EE_error=np.zeros(10)\n",
    "for j in range(1,10):\n",
    "    Nx[j] = int((j+1)*10)\n",
    "    x = np.linspace(x_start, x_end, Nx[j])  # Create a vector for x\n",
    "    dx[j] = (x[-1] - x[0]) / (len(x) - 1);\n",
    "    c_CN = CN(x, t, kappa)\n",
    "    c_EE = EE(x, t, kappa)\n",
    "    exact=np.zeros(Nx[j])\n",
    "    for i in range(1, Nx[j]):\n",
    "        exact[i]=(4*np.pi*kappa*eval_time)**(-0.5)*np.exp(-x[i]**2.0/4/kappa/eval_time)\n",
    "\n",
    "    CN_error[j] = c_CN[round(Nx[j]/2),Nt-1] - exact[round(Nx[j]/2)] \n",
    "    EE_error[j] = c_EE[round(Nx[j]/2),Nt-1] - exact[round(Nx[j]/2)] \n",
    "    \n",
    "plt.plot(dx[1:10],EE_error[1:10],'-')\n",
    "plt.plot(dx[1:10],CN_error[1:10],'--')\n",
    "plt.xlabel(\"dx\")\n",
    "plt.legend(['EE error','CN error'])\n"
   ]
  },
  {
   "cell_type": "code",
   "execution_count": 52,
   "metadata": {},
   "outputs": [
    {
     "name": "stdout",
     "output_type": "stream",
     "text": [
      "Crank-Nicolson method took 0.03 seconds\n",
      "Explicit Euler method took 0.01 seconds\n",
      "Crank-Nicolson method took 0.03 seconds\n",
      "Explicit Euler method took 0.02 seconds\n",
      "Crank-Nicolson method took 0.03 seconds\n",
      "Explicit Euler method took 0.02 seconds\n",
      "Crank-Nicolson method took 0.04 seconds\n",
      "Explicit Euler method took 0.03 seconds\n",
      "Crank-Nicolson method took 0.04 seconds\n",
      "Explicit Euler method took 0.03 seconds\n",
      "Crank-Nicolson method took 0.04 seconds\n",
      "Explicit Euler method took 0.04 seconds\n",
      "Crank-Nicolson method took 0.05 seconds\n",
      "Explicit Euler method took 0.04 seconds\n",
      "Crank-Nicolson method took 0.05 seconds\n",
      "Explicit Euler method took 0.05 seconds\n",
      "Crank-Nicolson method took 0.05 seconds\n",
      "Explicit Euler method took 0.05 seconds\n"
     ]
    },
    {
     "data": {
      "text/plain": [
       "<matplotlib.legend.Legend at 0x13043c4a0>"
      ]
     },
     "execution_count": 52,
     "metadata": {},
     "output_type": "execute_result"
    },
    {
     "data": {
      "image/png": "[encoded data removed]",
      "text/plain": [
       "<Figure size 640x480 with 1 Axes>"
      ]
     },
     "metadata": {},
     "output_type": "display_data"
    }
   ],
   "source": [
    "Nx = 100\n",
    "x = np.linspace(x_start, x_end, Nx)  # Create a vector for x\n",
    "\n",
    "eval_time=20\n",
    "exact=np.zeros(Nx)\n",
    "for i in range(1, Nx):\n",
    "    exact[i]=(4*np.pi*kappa*eval_time)**(-0.5)*np.exp(-x[i]**2.0/4/kappa/eval_time)\n",
    "\n",
    "Nt=np.int16(np.zeros(10))\n",
    "dt=np.zeros(10)\n",
    "CN_error=np.zeros(10)\n",
    "EE_error=np.zeros(10)\n",
    "for j in range(1,10):\n",
    "    Nt[j] = int((j+1)*100)\n",
    "    t = np.linspace(t_start, t_end, Nt[j])  # Create a vector of times\n",
    "    dt[j] = (t[-1] - t[0]) / (len(t) - 1)\n",
    "    c_CN = CN(x, t, kappa)\n",
    "    c_EE = EE(x, t, kappa)\n",
    "    CN_error[j] = c_CN[round(Nx/2),Nt[j]-1] #- exact[round(Nx/2)] \n",
    "    EE_error[j] = c_EE[round(Nx/2),Nt[j]-1] #- exact[round(Nx/2)] \n",
    "    \n",
    "plt.plot(dt[1:10],EE_error[1:10],'-')\n",
    "plt.plot(dt[1:10],CN_error[1:10],'--')\n",
    "plt.xlabel(\"dt\")\n",
    "plt.legend(['EE error','CN error'])\n",
    "\n"
   ]
  },
  {
   "cell_type": "markdown",
   "metadata": {},
   "source": [
    "Finally, select a given error tolerance and explore whether explicit Euler or Crank-Nicoslon is more efficient (faster) at generating solutions with error less than your error tolerance. Discuss your conclusion and add supporting figures if necessary."
   ]
  },
  {
   "cell_type": "markdown",
   "metadata": {},
   "source": [
    "INSERT COMMENTS HERE"
   ]
  }
 ],
 "metadata": {
  "kernelspec": {
   "display_name": "Python 3",
   "language": "python",
   "name": "python3"
  },
  "language_info": {
   "codemirror_mode": {
    "name": "ipython",
    "version": 3
   },
   "file_extension": ".py",
   "mimetype": "text/x-python",
   "name": "python",
   "nbconvert_exporter": "python",
   "pygments_lexer": "ipython3",
   "version": "3.12.2"
  }
 },
 "nbformat": 4,
 "nbformat_minor": 2
}
