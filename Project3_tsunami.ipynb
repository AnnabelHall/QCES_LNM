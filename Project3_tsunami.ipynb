{
  "cells": [
    {
      "cell_type": "markdown",
      "metadata": {
        "id": "view-in-github",
        "colab_type": "text"
      },
      "source": [
        "<a href=\"https://colab.research.google.com/github/AnnabelHall/QCES_LNM/blob/main/Project3_tsunami.ipynb\" target=\"_parent\"><img src=\"https://colab.research.google.com/assets/colab-badge.svg\" alt=\"Open In Colab\"/></a>"
      ]
    },
    {
      "cell_type": "markdown",
      "metadata": {
        "id": "HL1m8h09FPzG"
      },
      "source": [
        "<a href=\"https://colab.research.google.com/github/johnryantaylor/QCES/blob/main/Project3_tsunami.ipynb\" target=\"_parent\"><img src=\"https://colab.research.google.com/assets/colab-badge.svg\" alt=\"Open In Colab\"/></a>"
      ]
    },
    {
      "cell_type": "markdown",
      "metadata": {
        "id": "Iea_hiYoFPzK"
      },
      "source": [
        "# Project 3: Tsunami\n",
        "In this project, we will use Dedalus to model the propagation of Tsunami waves. Tsunami typically have wavelengths larger than 100km and periods of about 1 hour. Since their wavelength is much larger than the depth of the ocean, Tsunami can be modelled using the shallow water equations.\n",
        "\n",
        "Here, we will use Dedalus to solve an initial value problem for the shallow water equations. We will generate a Tsunami using a localized disturbance to the water height.\n",
        "\n",
        "Student tasks are in [Section 1.3]( #section1pt3 ), [Section 2.3]( #section2pt3 ), and [Section 3.3]( #section3pt3 )."
      ]
    },
    {
      "cell_type": "markdown",
      "metadata": {
        "id": "lTV7PZJpFPzL"
      },
      "source": [
        "## Setup\n",
        "If you are using Google colab, run the script below to install Dedalus"
      ]
    },
    {
      "cell_type": "code",
      "execution_count": 1,
      "metadata": {
        "id": "iFWvxNQxFPzL",
        "outputId": "0f64f40d-2bf6-4206-ad59-9f47299cd3bd",
        "colab": {
          "base_uri": "https://localhost:8080/"
        }
      },
      "outputs": [
        {
          "output_type": "stream",
          "name": "stdout",
          "text": [
            "env: OMP_NUM_THREADS=1\n",
            "env: NUMEXPR_MAX_THREADS=1\n",
            "Dedalus not installed yet.\n",
            "Installing for Google Colab.\n",
            "\n",
            "Reading package lists... Done\n",
            "Building dependency tree... Done\n",
            "Reading state information... Done\n",
            "The following additional packages will be installed:\n",
            "  libfftw3-bin libfftw3-double3 libfftw3-long3 libfftw3-quad3 libfftw3-single3\n",
            "Suggested packages:\n",
            "  libfftw3-doc\n",
            "The following NEW packages will be installed:\n",
            "  libfftw3-bin libfftw3-dev libfftw3-double3 libfftw3-long3 libfftw3-quad3 libfftw3-single3\n",
            "0 upgraded, 6 newly installed, 0 to remove and 49 not upgraded.\n",
            "Need to get 4,654 kB of archives.\n",
            "After this operation, 24.7 MB of additional disk space will be used.\n",
            "Get:1 http://archive.ubuntu.com/ubuntu jammy/main amd64 libfftw3-double3 amd64 3.3.8-2ubuntu8 [770 kB]\n",
            "Get:2 http://archive.ubuntu.com/ubuntu jammy/main amd64 libfftw3-long3 amd64 3.3.8-2ubuntu8 [335 kB]\n",
            "Get:3 http://archive.ubuntu.com/ubuntu jammy/main amd64 libfftw3-quad3 amd64 3.3.8-2ubuntu8 [614 kB]\n",
            "Get:4 http://archive.ubuntu.com/ubuntu jammy/main amd64 libfftw3-single3 amd64 3.3.8-2ubuntu8 [800 kB]\n",
            "Get:5 http://archive.ubuntu.com/ubuntu jammy/main amd64 libfftw3-bin amd64 3.3.8-2ubuntu8 [35.5 kB]\n",
            "Get:6 http://archive.ubuntu.com/ubuntu jammy/main amd64 libfftw3-dev amd64 3.3.8-2ubuntu8 [2,101 kB]\n",
            "Fetched 4,654 kB in 1s (4,340 kB/s)\n",
            "Selecting previously unselected package libfftw3-double3:amd64.\n",
            "(Reading database ... 123630 files and directories currently installed.)\n",
            "Preparing to unpack .../0-libfftw3-double3_3.3.8-2ubuntu8_amd64.deb ...\n",
            "Unpacking libfftw3-double3:amd64 (3.3.8-2ubuntu8) ...\n",
            "Selecting previously unselected package libfftw3-long3:amd64.\n",
            "Preparing to unpack .../1-libfftw3-long3_3.3.8-2ubuntu8_amd64.deb ...\n",
            "Unpacking libfftw3-long3:amd64 (3.3.8-2ubuntu8) ...\n",
            "Selecting previously unselected package libfftw3-quad3:amd64.\n",
            "Preparing to unpack .../2-libfftw3-quad3_3.3.8-2ubuntu8_amd64.deb ...\n",
            "Unpacking libfftw3-quad3:amd64 (3.3.8-2ubuntu8) ...\n",
            "Selecting previously unselected package libfftw3-single3:amd64.\n",
            "Preparing to unpack .../3-libfftw3-single3_3.3.8-2ubuntu8_amd64.deb ...\n",
            "Unpacking libfftw3-single3:amd64 (3.3.8-2ubuntu8) ...\n",
            "Selecting previously unselected package libfftw3-bin.\n",
            "Preparing to unpack .../4-libfftw3-bin_3.3.8-2ubuntu8_amd64.deb ...\n",
            "Unpacking libfftw3-bin (3.3.8-2ubuntu8) ...\n",
            "Selecting previously unselected package libfftw3-dev:amd64.\n",
            "Preparing to unpack .../5-libfftw3-dev_3.3.8-2ubuntu8_amd64.deb ...\n",
            "Unpacking libfftw3-dev:amd64 (3.3.8-2ubuntu8) ...\n",
            "Setting up libfftw3-single3:amd64 (3.3.8-2ubuntu8) ...\n",
            "Setting up libfftw3-long3:amd64 (3.3.8-2ubuntu8) ...\n",
            "Setting up libfftw3-quad3:amd64 (3.3.8-2ubuntu8) ...\n",
            "Setting up libfftw3-double3:amd64 (3.3.8-2ubuntu8) ...\n",
            "Setting up libfftw3-bin (3.3.8-2ubuntu8) ...\n",
            "Setting up libfftw3-dev:amd64 (3.3.8-2ubuntu8) ...\n",
            "Processing triggers for man-db (2.10.2-1) ...\n",
            "Processing triggers for libc-bin (2.35-0ubuntu3.4) ...\n",
            "/sbin/ldconfig.real: /usr/local/lib/libtbbmalloc_proxy.so.2 is not a symbolic link\n",
            "\n",
            "/sbin/ldconfig.real: /usr/local/lib/libhwloc.so.15 is not a symbolic link\n",
            "\n",
            "/sbin/ldconfig.real: /usr/local/lib/libtcm.so.1 is not a symbolic link\n",
            "\n",
            "/sbin/ldconfig.real: /usr/local/lib/libtbbbind.so.3 is not a symbolic link\n",
            "\n",
            "/sbin/ldconfig.real: /usr/local/lib/libumf.so.0 is not a symbolic link\n",
            "\n",
            "/sbin/ldconfig.real: /usr/local/lib/libtbb.so.12 is not a symbolic link\n",
            "\n",
            "/sbin/ldconfig.real: /usr/local/lib/libur_loader.so.0 is not a symbolic link\n",
            "\n",
            "/sbin/ldconfig.real: /usr/local/lib/libur_adapter_level_zero.so.0 is not a symbolic link\n",
            "\n",
            "/sbin/ldconfig.real: /usr/local/lib/libtbbbind_2_0.so.3 is not a symbolic link\n",
            "\n",
            "/sbin/ldconfig.real: /usr/local/lib/libtbbbind_2_5.so.3 is not a symbolic link\n",
            "\n",
            "/sbin/ldconfig.real: /usr/local/lib/libur_adapter_opencl.so.0 is not a symbolic link\n",
            "\n",
            "/sbin/ldconfig.real: /usr/local/lib/libtbbmalloc.so.2 is not a symbolic link\n",
            "\n",
            "/sbin/ldconfig.real: /usr/local/lib/libtcm_debug.so.1 is not a symbolic link\n",
            "\n",
            "Reading package lists... Done\n",
            "Building dependency tree... Done\n",
            "Reading state information... Done\n",
            "The following additional packages will be installed:\n",
            "  libfftw3-mpi3\n",
            "Suggested packages:\n",
            "  libfftw3-doc\n",
            "The following NEW packages will be installed:\n",
            "  libfftw3-mpi-dev libfftw3-mpi3\n",
            "0 upgraded, 2 newly installed, 0 to remove and 49 not upgraded.\n",
            "Need to get 102 kB of archives.\n",
            "After this operation, 1,052 kB of additional disk space will be used.\n",
            "Get:1 http://archive.ubuntu.com/ubuntu jammy/universe amd64 libfftw3-mpi3 amd64 3.3.8-2ubuntu8 [48.9 kB]\n",
            "Get:2 http://archive.ubuntu.com/ubuntu jammy/universe amd64 libfftw3-mpi-dev amd64 3.3.8-2ubuntu8 [53.3 kB]\n",
            "Fetched 102 kB in 0s (209 kB/s)\n",
            "Selecting previously unselected package libfftw3-mpi3:amd64.\n",
            "(Reading database ... 123733 files and directories currently installed.)\n",
            "Preparing to unpack .../libfftw3-mpi3_3.3.8-2ubuntu8_amd64.deb ...\n",
            "Unpacking libfftw3-mpi3:amd64 (3.3.8-2ubuntu8) ...\n",
            "Selecting previously unselected package libfftw3-mpi-dev:amd64.\n",
            "Preparing to unpack .../libfftw3-mpi-dev_3.3.8-2ubuntu8_amd64.deb ...\n",
            "Unpacking libfftw3-mpi-dev:amd64 (3.3.8-2ubuntu8) ...\n",
            "Setting up libfftw3-mpi3:amd64 (3.3.8-2ubuntu8) ...\n",
            "Setting up libfftw3-mpi-dev:amd64 (3.3.8-2ubuntu8) ...\n",
            "Processing triggers for libc-bin (2.35-0ubuntu3.4) ...\n",
            "/sbin/ldconfig.real: /usr/local/lib/libtbbmalloc_proxy.so.2 is not a symbolic link\n",
            "\n",
            "/sbin/ldconfig.real: /usr/local/lib/libhwloc.so.15 is not a symbolic link\n",
            "\n",
            "/sbin/ldconfig.real: /usr/local/lib/libtcm.so.1 is not a symbolic link\n",
            "\n",
            "/sbin/ldconfig.real: /usr/local/lib/libtbbbind.so.3 is not a symbolic link\n",
            "\n",
            "/sbin/ldconfig.real: /usr/local/lib/libumf.so.0 is not a symbolic link\n",
            "\n",
            "/sbin/ldconfig.real: /usr/local/lib/libtbb.so.12 is not a symbolic link\n",
            "\n",
            "/sbin/ldconfig.real: /usr/local/lib/libur_loader.so.0 is not a symbolic link\n",
            "\n",
            "/sbin/ldconfig.real: /usr/local/lib/libur_adapter_level_zero.so.0 is not a symbolic link\n",
            "\n",
            "/sbin/ldconfig.real: /usr/local/lib/libtbbbind_2_0.so.3 is not a symbolic link\n",
            "\n",
            "/sbin/ldconfig.real: /usr/local/lib/libtbbbind_2_5.so.3 is not a symbolic link\n",
            "\n",
            "/sbin/ldconfig.real: /usr/local/lib/libur_adapter_opencl.so.0 is not a symbolic link\n",
            "\n",
            "/sbin/ldconfig.real: /usr/local/lib/libtbbmalloc.so.2 is not a symbolic link\n",
            "\n",
            "/sbin/ldconfig.real: /usr/local/lib/libtcm_debug.so.1 is not a symbolic link\n",
            "\n",
            "Requirement already satisfied: cython in /usr/local/lib/python3.10/dist-packages (3.0.11)\n",
            "Collecting mpi4py<4.0\n",
            "  Downloading mpi4py-3.1.6.tar.gz (2.4 MB)\n",
            "\u001b[2K     \u001b[90m━━━━━━━━━━━━━━━━━━━━━━━━━━━━━━━━━━━━━━━━\u001b[0m \u001b[32m2.4/2.4 MB\u001b[0m \u001b[31m60.6 MB/s\u001b[0m eta \u001b[36m0:00:00\u001b[0m\n",
            "\u001b[?25h  Installing build dependencies ... \u001b[?25l\u001b[?25hdone\n",
            "  Getting requirements to build wheel ... \u001b[?25l\u001b[?25hdone\n",
            "  Preparing metadata (pyproject.toml) ... \u001b[?25l\u001b[?25hdone\n",
            "Requirement already satisfied: numpy in /usr/local/lib/python3.10/dist-packages (1.26.4)\n",
            "Requirement already satisfied: setuptools in /usr/local/lib/python3.10/dist-packages (75.1.0)\n",
            "Requirement already satisfied: wheel in /usr/local/lib/python3.10/dist-packages (0.45.0)\n",
            "Building wheels for collected packages: mpi4py\n",
            "  Building wheel for mpi4py (pyproject.toml) ... \u001b[?25l\u001b[?25hdone\n",
            "  Created wheel for mpi4py: filename=mpi4py-3.1.6-cp310-cp310-linux_x86_64.whl size=2746313 sha256=eb4082d2cbd166eaf3d8c52a1f1b78e14ef72eb6e1f8bcd710a9df1e184f8482\n",
            "  Stored in directory: /root/.cache/pip/wheels/4c/ca/89/8fc1fb1c620afca13bb41c630b1f948bbf446e0aaa4b762e10\n",
            "Successfully built mpi4py\n",
            "Installing collected packages: mpi4py\n",
            "Successfully installed mpi4py-3.1.6\n",
            "Collecting http://github.com/dedalusproject/dedalus/zipball/master/\n",
            "  Downloading http://github.com/dedalusproject/dedalus/zipball/master/\n",
            "\u001b[2K     \u001b[32m|\u001b[0m \u001b[32m24.5 MB\u001b[0m \u001b[31m24.0 MB/s\u001b[0m \u001b[33m0:00:00\u001b[0m\n",
            "\u001b[?25h  Preparing metadata (pyproject.toml) ... \u001b[?25l\u001b[?25hdone\n",
            "Collecting docopt (from dedalus==3.0.3)\n",
            "  Downloading docopt-0.6.2.tar.gz (25 kB)\n",
            "  Preparing metadata (setup.py) ... \u001b[?25l\u001b[?25hdone\n",
            "Requirement already satisfied: h5py>=3.0.0 in /usr/local/lib/python3.10/dist-packages (from dedalus==3.0.3) (3.12.1)\n",
            "Requirement already satisfied: matplotlib in /usr/local/lib/python3.10/dist-packages (from dedalus==3.0.3) (3.8.0)\n",
            "Requirement already satisfied: mpi4py>=2.0.0 in /usr/local/lib/python3.10/dist-packages (from dedalus==3.0.3) (3.1.6)\n",
            "Requirement already satisfied: numexpr in /usr/local/lib/python3.10/dist-packages (from dedalus==3.0.3) (2.10.1)\n",
            "Requirement already satisfied: numpy>=1.20.0 in /usr/local/lib/python3.10/dist-packages (from dedalus==3.0.3) (1.26.4)\n",
            "Collecting py (from dedalus==3.0.3)\n",
            "  Downloading py-1.11.0-py2.py3-none-any.whl.metadata (2.8 kB)\n",
            "Requirement already satisfied: pytest in /usr/local/lib/python3.10/dist-packages (from dedalus==3.0.3) (8.3.3)\n",
            "Collecting pytest-benchmark (from dedalus==3.0.3)\n",
            "  Downloading pytest_benchmark-5.1.0-py3-none-any.whl.metadata (25 kB)\n",
            "Collecting pytest-cov (from dedalus==3.0.3)\n",
            "  Downloading pytest_cov-6.0.0-py3-none-any.whl.metadata (27 kB)\n",
            "Collecting pytest-parallel (from dedalus==3.0.3)\n",
            "  Downloading pytest_parallel-0.1.1-py3-none-any.whl.metadata (3.0 kB)\n",
            "Requirement already satisfied: scipy>=1.4.0 in /usr/local/lib/python3.10/dist-packages (from dedalus==3.0.3) (1.13.1)\n",
            "Requirement already satisfied: xarray in /usr/local/lib/python3.10/dist-packages (from dedalus==3.0.3) (2024.10.0)\n",
            "Requirement already satisfied: contourpy>=1.0.1 in /usr/local/lib/python3.10/dist-packages (from matplotlib->dedalus==3.0.3) (1.3.1)\n",
            "Requirement already satisfied: cycler>=0.10 in /usr/local/lib/python3.10/dist-packages (from matplotlib->dedalus==3.0.3) (0.12.1)\n",
            "Requirement already satisfied: fonttools>=4.22.0 in /usr/local/lib/python3.10/dist-packages (from matplotlib->dedalus==3.0.3) (4.55.0)\n",
            "Requirement already satisfied: kiwisolver>=1.0.1 in /usr/local/lib/python3.10/dist-packages (from matplotlib->dedalus==3.0.3) (1.4.7)\n",
            "Requirement already satisfied: packaging>=20.0 in /usr/local/lib/python3.10/dist-packages (from matplotlib->dedalus==3.0.3) (24.2)\n",
            "Requirement already satisfied: pillow>=6.2.0 in /usr/local/lib/python3.10/dist-packages (from matplotlib->dedalus==3.0.3) (11.0.0)\n",
            "Requirement already satisfied: pyparsing>=2.3.1 in /usr/local/lib/python3.10/dist-packages (from matplotlib->dedalus==3.0.3) (3.2.0)\n",
            "Requirement already satisfied: python-dateutil>=2.7 in /usr/local/lib/python3.10/dist-packages (from matplotlib->dedalus==3.0.3) (2.8.2)\n",
            "Requirement already satisfied: iniconfig in /usr/local/lib/python3.10/dist-packages (from pytest->dedalus==3.0.3) (2.0.0)\n",
            "Requirement already satisfied: pluggy<2,>=1.5 in /usr/local/lib/python3.10/dist-packages (from pytest->dedalus==3.0.3) (1.5.0)\n",
            "Requirement already satisfied: exceptiongroup>=1.0.0rc8 in /usr/local/lib/python3.10/dist-packages (from pytest->dedalus==3.0.3) (1.2.2)\n",
            "Requirement already satisfied: tomli>=1 in /usr/local/lib/python3.10/dist-packages (from pytest->dedalus==3.0.3) (2.1.0)\n",
            "Requirement already satisfied: py-cpuinfo in /usr/local/lib/python3.10/dist-packages (from pytest-benchmark->dedalus==3.0.3) (9.0.0)\n",
            "Collecting coverage>=7.5 (from coverage[toml]>=7.5->pytest-cov->dedalus==3.0.3)\n",
            "  Downloading coverage-7.6.7-cp310-cp310-manylinux_2_5_x86_64.manylinux1_x86_64.manylinux_2_17_x86_64.manylinux2014_x86_64.whl.metadata (8.2 kB)\n",
            "Collecting tblib (from pytest-parallel->dedalus==3.0.3)\n",
            "  Downloading tblib-3.0.0-py3-none-any.whl.metadata (25 kB)\n",
            "Requirement already satisfied: pandas>=2.1 in /usr/local/lib/python3.10/dist-packages (from xarray->dedalus==3.0.3) (2.2.2)\n",
            "Requirement already satisfied: pytz>=2020.1 in /usr/local/lib/python3.10/dist-packages (from pandas>=2.1->xarray->dedalus==3.0.3) (2024.2)\n",
            "Requirement already satisfied: tzdata>=2022.7 in /usr/local/lib/python3.10/dist-packages (from pandas>=2.1->xarray->dedalus==3.0.3) (2024.2)\n",
            "Requirement already satisfied: six>=1.5 in /usr/local/lib/python3.10/dist-packages (from python-dateutil>=2.7->matplotlib->dedalus==3.0.3) (1.16.0)\n",
            "Downloading py-1.11.0-py2.py3-none-any.whl (98 kB)\n",
            "\u001b[2K   \u001b[90m━━━━━━━━━━━━━━━━━━━━━━━━━━━━━━━━━━━━━━━━\u001b[0m \u001b[32m98.7/98.7 kB\u001b[0m \u001b[31m37.5 MB/s\u001b[0m eta \u001b[36m0:00:00\u001b[0m\n",
            "\u001b[?25hDownloading pytest_benchmark-5.1.0-py3-none-any.whl (44 kB)\n",
            "\u001b[2K   \u001b[90m━━━━━━━━━━━━━━━━━━━━━━━━━━━━━━━━━━━━━━━━\u001b[0m \u001b[32m44.3/44.3 kB\u001b[0m \u001b[31m113.6 MB/s\u001b[0m eta \u001b[36m0:00:00\u001b[0m\n",
            "\u001b[?25hDownloading pytest_cov-6.0.0-py3-none-any.whl (22 kB)\n",
            "Downloading pytest_parallel-0.1.1-py3-none-any.whl (7.0 kB)\n",
            "Downloading coverage-7.6.7-cp310-cp310-manylinux_2_5_x86_64.manylinux1_x86_64.manylinux_2_17_x86_64.manylinux2014_x86_64.whl (234 kB)\n",
            "\u001b[2K   \u001b[90m━━━━━━━━━━━━━━━━━━━━━━━━━━━━━━━━━━━━━━━━\u001b[0m \u001b[32m234.8/234.8 kB\u001b[0m \u001b[31m191.7 MB/s\u001b[0m eta \u001b[36m0:00:00\u001b[0m\n",
            "\u001b[?25hDownloading tblib-3.0.0-py3-none-any.whl (12 kB)\n",
            "Building wheels for collected packages: dedalus, docopt\n",
            "  Building wheel for dedalus (pyproject.toml) ... \u001b[?25l\u001b[?25hdone\n",
            "  Created wheel for dedalus: filename=dedalus-3.0.3-cp310-cp310-linux_x86_64.whl size=3262155 sha256=97adffe633727c802518a7388d7377de117bea3cce11d8d4c40059f3f5955b20\n",
            "  Stored in directory: /tmp/pip-ephem-wheel-cache-1os8wt_h/wheels/2c/16/80/8c5f40fc4de8dc37ba4cdd4e05d7639677a5f0659c3bbd79a7\n",
            "  Building wheel for docopt (setup.py) ... \u001b[?25l\u001b[?25hdone\n",
            "  Created wheel for docopt: filename=docopt-0.6.2-py2.py3-none-any.whl size=13706 sha256=5aede43355d81405e2141d50eb6864c7290f1eae1f9533e29b6d67d36b7e7e25\n",
            "  Stored in directory: /tmp/pip-ephem-wheel-cache-1os8wt_h/wheels/fc/ab/d4/5da2067ac95b36618c629a5f93f809425700506f72c9732fac\n",
            "Successfully built dedalus docopt\n",
            "Installing collected packages: docopt, tblib, py, coverage, pytest-parallel, pytest-benchmark, pytest-cov, dedalus\n",
            "Successfully installed coverage-7.6.7 dedalus-3.0.3 docopt-0.6.2 py-1.11.0 pytest-benchmark-5.1.0 pytest-cov-6.0.0 pytest-parallel-0.1.1 tblib-3.0.0\n",
            "\u001b[2K   \u001b[90m━━━━━━━━━━━━━━━━━━━━━━━━━━━━━━━━━━━━━━━━\u001b[0m \u001b[32m516.3/516.3 kB\u001b[0m \u001b[31m29.4 MB/s\u001b[0m eta \u001b[36m0:00:00\u001b[0m\n",
            "\u001b[2K   \u001b[90m━━━━━━━━━━━━━━━━━━━━━━━━━━━━━━━━━━━━━━━━\u001b[0m \u001b[32m1.6/1.6 MB\u001b[0m \u001b[31m59.8 MB/s\u001b[0m eta \u001b[36m0:00:00\u001b[0m\n",
            "\u001b[?25h\n",
            "Dedalus successfully installed :)\n"
          ]
        }
      ],
      "source": [
        "# Set environment variables for best performance\n",
        "%env OMP_NUM_THREADS=1\n",
        "%env NUMEXPR_MAX_THREADS=1\n",
        "\n",
        "# Minimize logging output\n",
        "import logging\n",
        "logging.disable(logging.DEBUG)\n",
        "\n",
        "# Check if running on google colab\n",
        "import os\n",
        "using_google_colab = bool(os.getenv(\"COLAB_RELEASE_TAG\"))\n",
        "\n",
        "# Check for Dedalus\n",
        "try:\n",
        "    import dedalus.public as de\n",
        "    print(\"Dedalus already installed :)\")\n",
        "except:\n",
        "    print(\"Dedalus not installed yet.\")\n",
        "    if using_google_colab:\n",
        "        print(\"Installing for Google Colab.\")\n",
        "        print()\n",
        "        # Step 1: Install FFTW\n",
        "        !apt-get install libfftw3-dev\n",
        "        !apt-get install libfftw3-mpi-dev\n",
        "        # Step 2: Set paths for Dedalus installation\n",
        "        import os\n",
        "        os.environ['MPI_INCLUDE_PATH'] = \"/usr/lib/x86_64-linux-gnu/openmpi/include\"\n",
        "        os.environ['MPI_LIBRARY_PATH'] = \"/usr/lib/x86_64-linux-gnu\"\n",
        "        os.environ['FFTW_INCLUDE_PATH'] = \"/usr/include\"\n",
        "        os.environ['FFTW_LIBRARY_PATH'] = \"/usr/lib/x86_64-linux-gnu\"\n",
        "        # Step 3: Install Dedalus using pip\n",
        "        !pip3 install cython \"mpi4py<4.0\" numpy setuptools wheel\n",
        "        !CC=mpicc pip3 install --no-cache --no-build-isolation http://github.com/dedalusproject/dedalus/zipball/master/\n",
        "        !pip3 install -q ipympl\n",
        "        # Step 4: Check installation\n",
        "        print()\n",
        "        try:\n",
        "            import dedalus.public as de\n",
        "            print(\"Dedalus successfully installed :)\")\n",
        "        except:\n",
        "            print(\"Error installing Dedalus :(\")\n",
        "            raise\n",
        "    else:\n",
        "        print(\"See website for installation instructions:\")\n",
        "        print(\"https://dedalus-project.readthedocs.io/en/latest/pages/installation.html\")\n",
        "\n",
        "# Setup interactive matplotlib\n",
        "if using_google_colab:\n",
        "    from google.colab import output\n",
        "    output.enable_custom_widget_manager()"
      ]
    },
    {
      "cell_type": "markdown",
      "metadata": {
        "id": "sFLG4-u0FPzO"
      },
      "source": [
        "## 1.  1D shallow water equations\n",
        "Let's start by solving the shallow water equations in 1D with periodic boundary conditions in our spatial variable, $x$. The script below solves the following equations:\n",
        "\n",
        "$$ \\partial_t u + g \\partial_x(h) = - u\\partial_x u$$\n",
        "$$ \\partial_t h + \\partial_x(Hu) = -\\partial_x(hu)$$\n",
        "\n",
        "In these equations, $g$ is the constant gravitational acceleration, $u$ is the velocity in the $x$ direction, $H$ is the resting height, and $h$ is the height of the free surface relative to $H$. Note that the terms on the right hand side are nonlinear in our dependent variables, and we will use an explicit timestepping method for these terms. Recall that Dedalus uses explicit timestepping for terms on the right hand side of the inputted equation.\n",
        "\n",
        "Because we are interested in an application to Tsunami, we will solve the equations using dimensional variables. It is convenient to define simulation units at the start of the script so that we can be explicit about the units.\n",
        "\n",
        "We will start with the following initial conditions:\n",
        "$$ h=e^{-(x-x_1)^2/w_1^2} $$\n",
        "$$ u=0 $$\n",
        "where $x_1$ is the center and $w_1=100$ km is the width of the Gaussian perturbation.\n",
        "\n",
        "To see how the waves change as they approach shallow water, we will set the resting water depth to include a localized seamount using the form:\n",
        "$$ H=H_0-(H_0-H_{min})e^{(-(x-x_2)^2/w_2^2)} $$\n",
        "where $x_2$ is the location of the seamount, $H_0=4$ km is the depth of the ocean away from the seamount, and $H_{min}$ is the minimum water depth above the seamount. Note that since $H\\ll w$, the shallow water approximation is appropriate here."
      ]
    },
    {
      "cell_type": "markdown",
      "metadata": {
        "id": "TK-fZlk2FPzO"
      },
      "source": [
        "### 1.1  Dedalus script to solve the 1D shallow water equations\n",
        "\n",
        "The script below solves the 1D shallow water equations with the initial conditions given above."
      ]
    },
    {
      "cell_type": "code",
      "execution_count": 2,
      "metadata": {
        "id": "g8lGjY5DFPzP",
        "outputId": "3f3971fd-51be-4102-a18c-aab449366af9",
        "colab": {
          "base_uri": "https://localhost:8080/"
        }
      },
      "outputs": [
        {
          "output_type": "stream",
          "name": "stderr",
          "text": [
            "INFO:subsystems:Building subproblem matrices 1/1 (~100%) Elapsed: 0s, Remaining: 0s, Rate: 6.2e+00/s\n"
          ]
        },
        {
          "output_type": "stream",
          "name": "stdout",
          "text": [
            "2024-11-22 19:17:16,133 subsystems 0/1 INFO :: Building subproblem matrices 1/1 (~100%) Elapsed: 0s, Remaining: 0s, Rate: 6.2e+00/s\n"
          ]
        },
        {
          "output_type": "stream",
          "name": "stderr",
          "text": [
            "INFO:__main__:Starting main loop\n"
          ]
        },
        {
          "output_type": "stream",
          "name": "stdout",
          "text": [
            "2024-11-22 19:17:16,143 __main__ 0/1 INFO :: Starting main loop\n"
          ]
        },
        {
          "output_type": "stream",
          "name": "stderr",
          "text": [
            "INFO:solvers:Simulation stop time reached.\n"
          ]
        },
        {
          "output_type": "stream",
          "name": "stdout",
          "text": [
            "2024-11-22 19:17:16,560 solvers 0/1 INFO :: Simulation stop time reached.\n"
          ]
        },
        {
          "output_type": "stream",
          "name": "stderr",
          "text": [
            "INFO:solvers:Final iteration: 100\n"
          ]
        },
        {
          "output_type": "stream",
          "name": "stdout",
          "text": [
            "2024-11-22 19:17:16,564 solvers 0/1 INFO :: Final iteration: 100\n"
          ]
        },
        {
          "output_type": "stream",
          "name": "stderr",
          "text": [
            "INFO:solvers:Final sim time: 6000.0\n"
          ]
        },
        {
          "output_type": "stream",
          "name": "stdout",
          "text": [
            "2024-11-22 19:17:16,568 solvers 0/1 INFO :: Final sim time: 6000.0\n"
          ]
        },
        {
          "output_type": "stream",
          "name": "stderr",
          "text": [
            "INFO:solvers:Setup time (init - iter 0): 0.4131 sec\n"
          ]
        },
        {
          "output_type": "stream",
          "name": "stdout",
          "text": [
            "2024-11-22 19:17:16,573 solvers 0/1 INFO :: Setup time (init - iter 0): 0.4131 sec\n"
          ]
        },
        {
          "output_type": "stream",
          "name": "stderr",
          "text": [
            "INFO:solvers:Warmup time (iter 0-10): 0.0707 sec\n"
          ]
        },
        {
          "output_type": "stream",
          "name": "stdout",
          "text": [
            "2024-11-22 19:17:16,578 solvers 0/1 INFO :: Warmup time (iter 0-10): 0.0707 sec\n"
          ]
        },
        {
          "output_type": "stream",
          "name": "stderr",
          "text": [
            "INFO:solvers:Run time (iter 10-end): 0.345 sec\n"
          ]
        },
        {
          "output_type": "stream",
          "name": "stdout",
          "text": [
            "2024-11-22 19:17:16,583 solvers 0/1 INFO :: Run time (iter 10-end): 0.345 sec\n"
          ]
        },
        {
          "output_type": "stream",
          "name": "stderr",
          "text": [
            "INFO:solvers:CPU time (iter 10-end): 9.582e-05 cpu-hr\n"
          ]
        },
        {
          "output_type": "stream",
          "name": "stdout",
          "text": [
            "2024-11-22 19:17:16,592 solvers 0/1 INFO :: CPU time (iter 10-end): 9.582e-05 cpu-hr\n"
          ]
        },
        {
          "output_type": "stream",
          "name": "stderr",
          "text": [
            "INFO:solvers:Speed: 5.333e+05 mode-stages/cpu-sec\n"
          ]
        },
        {
          "output_type": "stream",
          "name": "stdout",
          "text": [
            "2024-11-22 19:17:16,598 solvers 0/1 INFO :: Speed: 5.333e+05 mode-stages/cpu-sec\n"
          ]
        }
      ],
      "source": [
        "# Import the required packages\n",
        "import numpy as np\n",
        "import dedalus.public as dedalus\n",
        "import logging\n",
        "import matplotlib.pyplot as plt\n",
        "\n",
        "logger = logging.getLogger(__name__)\n",
        "\n",
        "# Define the simulation units. This is optional, but will help us keep track of units\n",
        "meter = 1\n",
        "kilometer = meter * 1e3\n",
        "second = 1\n",
        "minute = 60\n",
        "hour = 3600\n",
        "day = hour * 24\n",
        "\n",
        "# Specify the simulation parameters\n",
        "Lx = 1000 * kilometer # The domain size\n",
        "Nx = 512 # The number of gridpoints in x\n",
        "g = 9.81 * meter / second**2 # Gravitational acceleration\n",
        "H0 = 4 * kilometer # Reference ocean depth\n",
        "w1 = 20 * kilometer # Width of the initial perturbation\n",
        "x1 = 200 * kilometer # Center of the initial perturbation\n",
        "x2 = 500 * kilometer # Center of the seamount\n",
        "w2 = 100 * kilometer # Width of the seamount\n",
        "H_min = 100 * meter # minimum depth above the seamount\n",
        "\n",
        "timestep = 60 * second # Specify the timestep\n",
        "stop_sim_time = 100 * minute # Specify the stopping time\n",
        "\n",
        "timestepper = dedalus.RK222\n",
        "max_timestep = 0.125\n",
        "\n",
        "# Create an x-coordinate, a corresponding basis, and a distributor\n",
        "xcoord = dedalus.Coordinate('x')\n",
        "dist = dedalus.Distributor(xcoord, dtype=np.float64) # No mesh for serial / automatic parallelization\n",
        "x_basis = dedalus.RealFourier(xcoord, size=Nx, bounds=(0, Lx))\n",
        "x = dist.local_grid(x_basis)\n",
        "\n",
        "# Specify the Fields and set the initial conditions\n",
        "u = dist.Field(name='u', bases=x_basis)\n",
        "h = dist.Field(name='h', bases=x_basis)\n",
        "H = dist.Field(name='H', bases=x_basis)\n",
        "h.change_scales(1)\n",
        "H.change_scales(1)\n",
        "u.change_scales(1)\n",
        "H['g'] = H0-(H0-H_min)*np.exp(-(x-x2)**2.0/w2**2.0)\n",
        "h['g'] = np.exp(-(x-x1)**2.0/w1**2.0)  # Initialize the height with a Gaussian function with width set above\n",
        "u['g'] = 0\n",
        "\n",
        "# Operators\n",
        "dx = lambda a: dedalus.Differentiate(a, xcoord)\n",
        "\n",
        "# Problem\n",
        "problem = dedalus.IVP([u, h], namespace=locals())\n",
        "problem.add_equation(\"dt(u) + g*dx(h) = - u*dx(u)\")\n",
        "problem.add_equation(\"dt(h) + dx(H*u) = - dx(h*u)\")\n",
        "\n",
        "# Solver\n",
        "solver = problem.build_solver(dedalus.RK222)\n",
        "solver.stop_sim_time = stop_sim_time\n",
        "\n",
        "# Analysis\n",
        "snapshots = solver.evaluator.add_file_handler('snapshots', sim_dt=1*hour, max_writes=10)\n",
        "snapshots.add_task(h, name='h')\n",
        "snapshots.add_task(u, name='u')\n",
        "\n",
        "h.change_scales(1)\n",
        "h_save = [np.copy(h['g'])]; t_save = [solver.sim_time]; # Save the initial condition and the initial time\n",
        "# Main loop\n",
        "try:\n",
        "    logger.info('Starting main loop')\n",
        "    while solver.proceed:\n",
        "        solver.step(timestep)\n",
        "        if (solver.iteration-1) % 1 == 0:\n",
        "            h.change_scales(1)\n",
        "            h_save.append(np.copy(h['g']))\n",
        "            t_save.append(solver.sim_time)\n",
        "except:\n",
        "    logger.error('Exception raised, triggering end of main loop.')\n",
        "    raise\n",
        "finally:\n",
        "    solver.log_stats()\n",
        "\n",
        "h_save=np.array(h_save) # convert h_save to an np.array type to allow data slicing"
      ]
    },
    {
      "cell_type": "markdown",
      "metadata": {
        "id": "Vw_woPioFPzP"
      },
      "source": [
        "### 1.2  Plotting\n",
        "The code below will make a movie of the height."
      ]
    },
    {
      "cell_type": "code",
      "execution_count": 3,
      "metadata": {
        "id": "abnJV5R2FPzQ",
        "outputId": "d0c8144c-16c2-4891-b6be-4139bb72b4d2",
        "colab": {
          "base_uri": "https://localhost:8080/",
          "height": 1000
        }
      },
      "outputs": [
        {
          "output_type": "stream",
          "name": "stderr",
          "text": [
            "INFO:matplotlib.animation:Animation.save using <class 'matplotlib.animation.FFMpegWriter'>\n"
          ]
        },
        {
          "output_type": "stream",
          "name": "stdout",
          "text": [
            "2024-11-22 19:17:16,878 matplotlib.animation 0/1 INFO :: Animation.save using <class 'matplotlib.animation.FFMpegWriter'>\n"
          ]
        },
        {
          "output_type": "stream",
          "name": "stderr",
          "text": [
            "INFO:matplotlib.animation:MovieWriter._run: running command: ffmpeg -f rawvideo -vcodec rawvideo -s 1200x600 -pix_fmt rgba -framerate 25.0 -i pipe: -vcodec h264 -pix_fmt yuv420p -y /tmp/tmp9wvfdp3p/temp.m4v\n"
          ]
        },
        {
          "output_type": "stream",
          "name": "stdout",
          "text": [
            "2024-11-22 19:17:16,890 matplotlib.animation 0/1 INFO :: MovieWriter._run: running command: ffmpeg -f rawvideo -vcodec rawvideo -s 1200x600 -pix_fmt rgba -framerate 25.0 -i pipe: -vcodec h264 -pix_fmt yuv420p -y /tmp/tmp9wvfdp3p/temp.m4v\n"
          ]
        },
        {
          "output_type": "execute_result",
          "data": {
            "text/plain": [
              "<IPython.core.display.HTML object>"
            ],
            "text/html": [
              "<video width=\"1200\" height=\"600\" controls autoplay loop>\n",
              "  <source type=\"video/mp4\" src=\"data:video/mp4;base64,AAAAIGZ0eXBNNFYgAAACAE00ViBpc29taXNvMmF2YzEAAAAIZnJlZQABs1RtZGF0AAACrgYF//+q\n",
              "3EXpvebZSLeWLNgg2SPu73gyNjQgLSBjb3JlIDE2MyByMzA2MCA1ZGI2YWE2IC0gSC4yNjQvTVBF\n",
              "Ry00IEFWQyBjb2RlYyAtIENvcHlsZWZ0IDIwMDMtMjAyMSAtIGh0dHA6Ly93d3cudmlkZW9sYW4u\n",
              "b3JnL3gyNjQuaHRtbCAtIG9wdGlvbnM6IGNhYmFjPTEgcmVmPTMgZGVibG9jaz0xOjA6MCBhbmFs\n",
              "eXNlPTB4MzoweDExMyBtZT1oZXggc3VibWU9NyBwc3k9MSBwc3lfcmQ9MS4wMDowLjAwIG1peGVk\n",
              "X3JlZj0xIG1lX3JhbmdlPTE2IGNocm9tYV9tZT0xIHRyZWxsaXM9MSA4eDhkY3Q9MSBjcW09MCBk\n",
              "ZWFkem9uZT0yMSwxMSBmYXN0X3Bza2lwPTEgY2hyb21hX3FwX29mZnNldD0tMiB0aHJlYWRzPTMg\n",
              "bG9va2FoZWFkX3RocmVhZHM9MSBzbGljZWRfdGhyZWFkcz0wIG5yPTAgZGVjaW1hdGU9MSBpbnRl\n",
              "cmxhY2VkPTAgYmx1cmF5X2NvbXBhdD0wIGNvbnN0cmFpbmVkX2ludHJhPTAgYmZyYW1lcz0zIGJf\n",
              "cHlyYW1pZD0yIGJfYWRhcHQ9MSBiX2JpYXM9MCBkaXJlY3Q9MSB3ZWlnaHRiPTEgb3Blbl9nb3A9\n",
              "MCB3ZWlnaHRwPTIga2V5aW50PTI1MCBrZXlpbnRfbWluPTI1IHNjZW5lY3V0PTQwIGludHJhX3Jl\n",
              "ZnJlc2g9MCByY19sb29rYWhlYWQ9NDAgcmM9Y3JmIG1idHJlZT0xIGNyZj0yMy4wIHFjb21wPTAu\n",
              "NjAgcXBtaW49MCBxcG1heD02OSBxcHN0ZXA9NCBpcF9yYXRpbz0xLjQwIGFxPTE6MS4wMACAAAAb\n",
              "v2WIhAAz//727L4FNf2f0JcRLMXaSnA+KqSAgHc0wAAAAwAAAwAAAwAAAwDlkyaEnPXbNt1AAAAD\n",
              "AABKQACTkw6Y9Db1n+YBhi5LsJL/ZFuxfrqSQudXXRyPPBFJqtE62ai6cVy98Odr5+PQxmeQYHAj\n",
              "AHvuulUbQqIy6N1JsPHtPkTWV+pKc4srMO4xVA6t74/AfcirkeiCz52ot2V5H+g2z/kZ1NhK0lRu\n",
              "EuIMvUN+wZwaJmk6A22ezRv0U3MvFBVn9uP54qEk6oMfHfsjnfJ5YxR3DS9DIQxQ13R54FVM5ob1\n",
              "OuinZmCNhYEtmsoz1+2kpUKrZUPsM4t38q/keXLZF/k1W3+J5VCaZEoQJq+/Spl8WpCnyAl8nO3X\n",
              "4YBfXSj5K5/4njNV8Al5SWoAloluBgg4Nz3gs+kl9aSAaSjrvDj+/Snp956QtbwZG+ZWIDI6Taz8\n",
              "yWJtau3n4gSTme3V+MJCxjeu1EpI8H5SpPExcli1k6Wd/YS3VGkwPc0skIQkCe4QbsLHQb9SRPyQ\n",
              "n3qQJWp/vNU3UjEzlindX8sLPiMt15pD7u2X0weX41HYZO5UsjBKRH+goEvPdR+lVsapPS+h2L7s\n",
              "Yk/R6oID6xSGTzlg+hyaBKnfcYBaSZ5gBf3kPcmHoRkkoDEnFPK9n2WygtEGz/4+rQtIAZO1Karx\n",
              "+8moDy9Z7We1bdtwbOA1UlsRmHyK8evQePX99Dmn2LGUbl35LP4EkNM/4pnzrWy/C+aVbmsPU7BK\n",
              "flYzsQq0vY3gJTsbF/wkIdgr9lOnAe7xKTa41j4UQCQBvHqDFrk4G9YXI14AEvPZkvJD7sZG5oPH\n",
              "AtftXsPaq/DTYF9vJxPD4fXOSJy0+3sMk7nkAKI9SBBUvGGaSZVDgiImjgoVfZFaXYLbYFKkJup2\n",
              "X7V9+hmNhU/yttWPBW32D6xCqGzfbEgqVQHrksjUa4t7VlSQevv1uQi9OaMmkHQVb7+iC4iQ9MtZ\n",
              "TRYmv5IJXAneZ5/7Kw5wie2NcHH5b0kOOX8Bv8Ks2FMG7i0JgvRu4odH8HG7t/LyK6YtFUWF6Rr8\n",
              "PeGUs2mggwkLM6o06t60a0Bunox9I4ZwCi+qJpoGqHH/KWi732IvoY10h//8eu6/xKtKur4p1tMW\n",
              "KUNdbUB8iNrJYlZ/pl+zzaQ9AjWgHTjlpfsNw5aqLeIYxO5rqC0uxjsozilO5bZ3HLy5+kLRUlge\n",
              "AitctLwJK0i1Qb5rFQ5NEUWvd0nsBAJD2VCkyvl50qF7p48EVUcn8b1W17PHXDy5TntyIqmQjCou\n",
              "UFKKxxzCsO2fkqP28MxzNAkY2PWH5gbJMzQ5w7Pyz4ZAxA747ouchd75ROLjPUUCINBr/q8hNV6N\n",
              "ikU+Ou/Ej4qkWAUe1Fh2ynzuL4VdNnBJQ5AP/rFjH4tSuOWeXNB6eYTqCfmbcN/pZlOwCaiL8ORe\n",
              "/e6gYmrM9RXO7i0RGqlXKr9vqbK6XMc1d/8k/AAEyZJG6xiHgAKMqoPNxlb3CUXkACldh3ziHwCw\n",
              "GP/7SWPW436l8SOrX6nocUQdgnZtfcgqxt7k3v7q2tBRO6TxcP0QDT7UOivvMUUDwJ5bYpi9mlvn\n",
              "1/jfCeH6TDomyyYK0D7Pck7lEvC8gJ80mdl0rSOCQ99xVMkWl8BuHJn/VYQueFkAAFd+rWYEDPsa\n",
              "TOmrk68AQ6hUITP+Wm0RVvCFLnfmN+Zr5Wm7usCSTyvWymShvQ3A/lQl4NFuzAMmMKled8goFYy4\n",
              "ebrANaAyMmuIaTQ/Gelzt7G4AAOz9LeLFyUX8ABMBlqKZlkbxwbkV8YVu/ysJG5teE8GMmH/gLzh\n",
              "C/8lvc72KCrhSJb/au/y20nQ+Z4jPMcbcD5fo6vP4sTCrdlo5sqVQRw4KhMyNumJMXQMKVdm3tLO\n",
              "gJyLLyEYuzJx4rm55HFtQwe+qLXxd0F9S+5w3o2Fgoqxzh0u3LLsYgGAVLBIGgQS9C28YbobnNRI\n",
              "Kbmw4Hr37hgWPwPOk7ovsAEtysVUSm9CPCYcXH0yJaC5T2X92rVUktCrXH5vNENeWOYbZIRGyhAh\n",
              "pnuCndzVL9+7XWm3AxHO6XTTD75kRP6VU7f5OoiNlC7wy9hiInQ3G/T3/X9AmEmT1We5T3VMhydF\n",
              "6Ic4tl8qJuxjT+SrqdtqmuW9eC6qJdff09pOBJEpZxbypdZZp3ov3yb+EgDyqWdapT2l9biIaRCa\n",
              "w4tFauuH7yGzcWRppVkH2TpGwKMnZqvUAdmacdH4fk0gfMvWSHNCeAIGM2Ltj1xkfLu0SwpJ9pJF\n",
              "ZQUtu1FDtw6x5XVrr3ia5rNX5PFZ8cdPM1/UroR2LNrOHKAESvBmLO1Knoqu4bH5d80ailCDfVmL\n",
              "4QRbw/lY0ozYDMlWm4GH7LboUt48KBVmFiyB2cIYQsupT8TJ6cdLJsBM7UUczOPl5vT9ii9IAlmy\n",
              "MmzTUcpirPUVKwSf5ipIpf8OGHzI0pgey2ZhaAx/NCQasHaDKdp8AKJUMOig7iXYFK5SipaopvQ+\n",
              "WQgAW0PUanSTAG+6wbdRWKTDVKYoMjyqSLtM5nEs1wVN+t8LbV3zVGtKmGKHMp2gTLee9Zp+AXiF\n",
              "cMsjddBDDXWYxjquVF6q7soa/REyAsOPtxmnvmfSE4kBvRo2Ew4NyD2OAPrqg3qEMXLFKJD7jHc0\n",
              "DPpayAVJ8O4ONv+tKc2XEw3iMybpPXewS4hgT1mQS4++rVPus2zDsNBArfD9SortkVXO3eqmfM5g\n",
              "H2eX3eSUnw7ce8CR2ibXDugdMhUBc/arHuD5kHV7WOBbJC1b/3oyXZ/1TXWN/K4lUyHCKCLZwVG8\n",
              "WcuRn7qMoMzPrSe/zCGkAS/BCN7fXvOQi8qbu5i8QAlukifWYIKTuLuHq86ZbOcBRKsPFHvO1xwD\n",
              "czr5zGKzHps1rLXP9jfpZsggtqa+S8euruEidiG7xboyLVTXRImVWZf9uakwf89xAAADAABrP861\n",
              "275vb8lgeFN7znQHbWNMloQCja6QRP6TV85nt6P6aE5pBkmznsL15Oq2ukKFTj7IIP5zc4o/hXqC\n",
              "pXV7To8UsWFZhHhFoR02mk/4xAHeuyztIM1dqbGPbu3jLFjoX0eJ1YuWerstE6OrQDu+5XUMb4zx\n",
              "gEUhGgctBs4Xyi2FLXIC7260gXM/9T5Z04Mwi/EN7W9Kizse9TKezlHij/JNmuEo9lATkoAAAYYN\n",
              "S1BL+nhG21FTd5RG68eM1okJ/1X41/73W67DCS0lZLnJav6XidWnx/3VAHnwdosuNqwpm8IMgZiR\n",
              "nnm2yheU+zOSOH7sTweHMk+OqfdnViZ6lsTu7HFb7IdEfVrouP+5QAKARyPbIM64wr5mZCKjS+LO\n",
              "/6uObG9vse5l8Uy+CusJubJwXkjwDQiMR5NTjsCgP5aY1FvkgORS7RA/k+TZDu82NuRf3k7hXyHB\n",
              "NhKYAOiY+OHV9/b8dgtBCMdr7dRriA9nK0GUVKIzYOye6wmW5/fRlRd04ZXt+uOv2+dfxZEVgIb6\n",
              "7211lWfqT432l1C61qrVW9k3dDsB/e2BGquCEWOqSsagAyKDbZY4h7skdqd9UEi49Kn42I9q43wM\n",
              "zPI9ulEyviprzn3hk2/6c55SHcJ2KHahZKpX4a9WPdZJ7kcap8Z0+j1p5a1o6GWlJHZVElpGHWVu\n",
              "wkuvFyzz21/+LKKOqn2Mz6Dg5A5FoeSqUmbq386EeWcJXAvfXIFRMT+XknqAMXU76ReDCNyJ1XZJ\n",
              "bZmEsz/kqdWFl46cb0WNn7lMis0YeK3B1EM59fktpFb/1G7asu4VqQGjQba8iEEZM3Ql3OgFYidU\n",
              "m1QqP/8SnH/PsQ4i7uu/phnoYQviKitLyWoMfzqmkPTTx5yQsIGHx7fW+7AYvF0m4uD8cizS7nfp\n",
              "AiADqiHhFCECRgPegz4nBu1qm7J389N/cfoJzpU2m6+OnvuiBfCG66WBGvRKlj0Sk6aSJXJN/vnR\n",
              "Ed0urlcAUBrYs/gBrfRJrPPc8WwfgB6SuO8CnIU3dpZzxD5trc1KRBID2UA6GtpFQY1Th8Ug1dK9\n",
              "fSrGApTWFRqcnmDGNSI5DZy662yxFDCFt9mgxgkkiUHLkvij4EZZ7DnsYg3PfMI0SAWTBvJfI/Go\n",
              "ZYK/tBAwO5SB3lZPX/Fjk+fEjLFBK+GeWMYt8jEZ/61pbpmw12WCOhLVHo8n9kEgXqDX7mjBR0h5\n",
              "KfbfVPqJh8EfphEzn0bt2+tdVikhW/d4Vl+NnQC6fJHNi4Jz6qmEbXId94JnaHrdTuhdM2nuw1EX\n",
              "0XNlSphwrK0TdI5qrWX91pBR1mT9+zkRGAJjbz4xHjJ4Y5Lx6myeoGHUoT2+KwSZBy3BOWloN6t3\n",
              "i9ZNBgcBUAaOwTUbOh5DEjA22ALWBz7c8uyCb2gAK4ItSC9V4n51Gl6leON7oZwe9NuIomrqu56T\n",
              "0+xXUWEHtC48nZQuF5ldlXOkJQFXQsjQ1WyuDPdYz3t2Vob4lJWtpyOVNQh3Mq3MrPlOKwptcLoL\n",
              "VZFOpChlOFwXEa/rIReB2qLfReTW6oeap8pJsy2BSD3b+U24RMMkG74Tbcyor+dLq7bC6+3C/xKm\n",
              "ewU8F7HCZ3xBd7QMoOCwHOeXbJjwf2fSFZSkI6AHPHhCiVL+ytKEjzaDHy7y//PCU0Lw+rE/GQWh\n",
              "xh4LSyulAtv+pJMozOWHw5ogvCKIIxVc4Rbk+X1BP6Ac4iPchurAJjOSeVq31Lmp6RkYA0Nj3qfS\n",
              "zmrRGdF98BaaijHxu8vxv+1oZTbFxHxQ3oey03qsC5Jk3f0Z90x70YSub0+HIdHb/ND37S5RqLyr\n",
              "4LSCUAJ199813yRTVxiJB6XVAgUJ2IgGWTkcZh6jSdNHBNvsQIRqMphIOKFslIijpGGmEUadtP0m\n",
              "J0NwVtokvydr3it67yJdXRgsHtOeAoRCnOFcIYV2STFHq7RQrtC6vvwOTPn6ZWe1rJWWiQJ/I01/\n",
              "KMFfNw80T1B+hnP+6yIhsToV+X7Lgw68ih99riJZCeKetcTjrsuirx9ElELHSEKvvQIsGTP0RKuw\n",
              "koIBANxtKt7OIfQdia0vYpIIukLXxpiQPdr6lh3QxDf2Pf3QCRy6Hia1USmgTzB1anzDcpSAAAAD\n",
              "AAADAA7/j/l3HJ16l+mow64zEyIrmiOnsJ+j0Op4At0K1iRUX2JiCkpmiGSl0LLQOjFXUNg2wE9r\n",
              "yZvm0EojTaI0maLpwiS8cNiTcktV1sZxOp8Tk4HrZUyLNWYw8o9XT+9ZKA+73CfsuQKPJP+9bzG6\n",
              "pMGAsH11m3IwdOJXJmrcTz81b0VllNDZ/TJ3Ge5tmAP0NOeNDwNMzW8MUI/rbvnBaQKWouTf6Knc\n",
              "GKuju5edrG2CE3H8sF8SFA88d97LhdYCYRLwZW47elFJN5EWMs4Eo/zfwR1BSDi0vMk7FvT+tcdR\n",
              "c7mJqJ6RZHMLpEmEgfKHve58NNmA8hMPHJtPqQL/M8dXWkgOJ9w+jltFUsh5kPvlGpBfy4TQlMJJ\n",
              "6yxl6VYRldRWS0vHRy88ts1D6GKVtgR0N2ei6EeCCCzhsnOKmsIfJetxvXt/9Vr19G5IAAD+ICGt\n",
              "1hJyRBNPsLTIcyhIsNkF3zaian7WCrU7NwJehb5aCDl+SMnd2tch0bdjOvzlS67Crm4HkE8Vt0xI\n",
              "a6f/AC2NXpbhcuAvxuRRUKPLTsdLMSIzbM+ca2is1FHyH6ecQODgp6ZPLPqnVbG5yyUfKPGt7xvz\n",
              "9OH0/BGI+1YRxrso5ZwaDdEoBGR5VuAAAAMABKwHawojIsEG7VNXwV0V/SJVBia2COqEEgjvRPr6\n",
              "Q9H9iMAAI5BLfs0P3HtPlh2Phxye5ohGk4z/0Jp2wRrFkyXbuzI+XEDThVAQrQUm6CiN4HMNjtzw\n",
              "/UI8lp52I502EAyo0qonheMgxJkMTBgt8Q2rM4rD4IVbMjtAPxm2WrSIL3p1HPJ7/LRcIod0vPhY\n",
              "pvFL5VZAfkub/gP2VXMkO4oHTsHAtFZcVHP049U4uwdIyOLx9aUOSYnHfzr40VRWCuDSz2pAGqvW\n",
              "05Ygd4EUrA3PT+CdbISXupZiVVYOdVIuJtlJBl+2SldRatWn5b6Sh5+HVbbRNAGeVx5pWedpmz8U\n",
              "rGbHCi9Mk5C75ihePbDpEvHRy+bx2mq7I8U50PfFNZzeN8fJWfRCus5dyorlAAADAKRAzzTJfgAI\n",
              "cjsIABRf3/uuEYxUN/AmMX+iJXvuQAgEhL0B6BKpKznHq8DvbpvJ1ZLyhgGZIHU8fT4Mt7MbsZDd\n",
              "qzee1iWLR76RZSsGTPWBJd2EFbS+u7Z5pkukJIrbtAAAAwA0WTGY6eejHhKQ2zaGWg2Pf6/heFAg\n",
              "r2yN9nayCWAvV1HZe4fUJUExV6FGMsiHyA+f7VJrNjmeaTOZd60FJoAVn3pL+enEqlDKSnXQ+wFV\n",
              "meLG6vaIJPZMGKkIa+EJAVclaeK48M5U74MmC62IQhMn73Qr+vXXHmgpKrLkQ1KzCej9K6P1QMM4\n",
              "JlVlvnN+QJfssmEMpzbyjP6RuvSgo5aqRdLhxBP+0Vh7mnVD0ksEluxlpSaTDPwFHRC9qnAnuDfx\n",
              "lfZUmWsIlA9mW4UGuJo6O0kLWiD00v7ojUAAATtRQsAAcS04AAhLuyfekVyWOaEjyIw2/91k8Ay4\n",
              "nx2YRCy29oxVohlCiDdAWmO4+1bwpsaDhiDq2SZ8nSATWWoEAgcz+MmodksSc/0u5Nf39srJ0myA\n",
              "G7+EDlC9KzQI31e7qtRf8ElHSdfTiB2FbxXP+cgD9CXu28qhJwtvLpsGl1rQPw9iLo1xhs6JK9tq\n",
              "ie1zUi7BXGmoll+BEmv13JinNx/g3A+tACY28bAJQx/LfW8Av3oIMP49SorIJu2gAAAozLRMRmo+\n",
              "0LwtSs6IV6ITE9+kliLwkAPBhOCdkVxEjDARbo7IAGLny5RyP6CmMHwzNmlIt/cofpCuPlq+Zjos\n",
              "5fJozwUfVJtr1eP+NIzWvSYa1TGcYwAAAwGeIoAAI6TwAAd03Nvy9gY0H+dqHaX2Oxjh/z09MJBz\n",
              "InQ5MvE9aW7QNaG7h3BxUNS9Onx/mV8CX7OWy7YcQ/VQAJqz+2UGlMvoIQXqQfJsLwUcpxkBJPo3\n",
              "u37aqxM4dm6dwTf2KVDnbeHhVC42xa5jycs+ok9MnzQFIOCs18TbOb+ZIlRk+YLAVp39a77g27sW\n",
              "ACzyxuIdAkMh1hF/GU3ils9cT8D/1Z1AJfIJh6Hwg5sMWbGcgHoftZXjGF9tDRFP7bl1dvH5EQXQ\n",
              "wACq8EsfboQ7RlcZwVC4VjymAM/W4TeXiePgQlbo2umeGfuYMzlVgvdwd4G3J02e5c+6kDDtFfRP\n",
              "gd4+Qpi/9L2kzWFianh/B+z5seFMPClQ/mg0lld5t+kFYWugW7VemK5Mce1Oe7GaonH7XgABnnKd\n",
              "KG3jzAr7UmrANkv2TLere/9TZg/PjwmEe7Mp+LR0ZIJXB+TlG3i5q0fvHSboDJUQjmUgjPmjhx+m\n",
              "/7xz3TqixiviEtKt08K5jxgCqOqlS1JYALOeBf+1+B8626bxu/wyRp58ZSgAAAMBHj1C/MK04tnL\n",
              "JLzwNrGv0bkx0I6GDX5Q71pSbvM+GndbFmSfY2cq35RJa8OLqzF/mN5nyfCppYHAmXplwQFUjMsH\n",
              "/ew94J4DEHRqBP464U0+qMYI1qya+7/hvBLGTxJSgNkF5d6AKS4EVb1gDNp7lWxlrNVqb2Y8wtqK\n",
              "S9kIsvwCumbHoqwIi4YeJo7Zgc1OVDF2NbovNP8rOstgWNvNUEwvuAmrB/iCHrUejCdEBW8JEM/j\n",
              "KXmZWYLHDEKXfuA1tklD+X5BZrNXk/B5fapqh8NTCE/oB/9t6Hv+HVDUCcFAke26dAQXKgyTEhfV\n",
              "5Hzv4U1P3GmBfcpn+QztVWNnmWQcxkl3ERQcbVS/yFi8W2/CpRsEZG8OFjSvNdUnV37qLvRd10K3\n",
              "+RyCDxpjUTr4zQ+JG/lL+i8LgOVZishMXnjFUEilkAkPr5Q3tN/P6LFhmWRbhvAf74SjdHu9tnWN\n",
              "VdYT1+8sCw3RkGzJl+/gFiEZfL8gXkGhW5Wobby1j2krIHoxZt7Qt5Q2vqbvX33Ra51aiTz/+SZ8\n",
              "48hnZ1MLl0utFIs5PpxulOJNxgwfetHaWtD7KgOw8KF+Joz+sYFYwsGCEAlQPV/Cdyswte6TBWaO\n",
              "rz0AsDze1XF6bee6q2J7MzTEvXaq13lGs1KJZwyaXH7b4PQq+WiqXkbrNBk6LHBTXwEplCjxhSpJ\n",
              "S9WRrEaljvWxz+2toAYDFgKgCT42FWC6w0K68QKbiYixk1i0JAh6CjNH3HKB8gxWiMtHmcoRv18f\n",
              "oGqqZqdO15By21B0TcY5I1BJm7HzwCyv2sQwir4WQaHe3h4pfAwL3HQE1052Rf554vr9+3u+WP30\n",
              "jjXLoDfoaxstrBFj9YfZnbRltQGIQ1VBJO0hTGpD1OS2EvPu6W4AFl+v4Gjfzc5qqn4q88UXn2jQ\n",
              "wCCu2jMrjJypyMfEJBMrLMSSl4Outo1VU4sE236dOnJJXJ9bv7F5Z4i8sVXp+5z2HztytD24n5Qc\n",
              "lF85oqKleEwqNspDl6Ugnm8QFGQm4akcQy22GZJLPUdXAPDlRWa93QREeE74f3Af0jgb1iU+Ao3J\n",
              "gibqBWGbCLOpQ3OSQJZj+ohH8otCwBVQdbEnDK5RMWl+VFmjS711zcU1zFQu2bx4JJHeyK7Bn2yf\n",
              "dK9nHS/jJMF8BasvHIl749sgVDoE6h256v8+5cBe0RWgfbHIW8e0meGlPPETX47mzg9JEX4hUSRc\n",
              "sclvBmPVUxyUZKYYQYic8axv7JFEzodHdxCXaF/rswG/WNtIJayrlHFja43CBKF0WqHOS+TuS0E/\n",
              "qtsPWZXhD4hqImuytlsypat6hFVbBHrwCvYV1/GQxvdvsoMZwVVDJx2CLgs1uOit9287T1ep/ufR\n",
              "pUE7iKB9sWKZgEjgvf85JcGGy4xlSU8P46q1mS1MlnyA4mys0borSFUq6k2ptDQi+mCd2BXMlU0s\n",
              "+6r457H+e3hyHMpGJ/CY0KeHopZx/kxrmdzs/6kAAMQAARHMy2eruW4DFIl7c0HzZicCGOhKkIoo\n",
              "qE+2hT4NM44HXhfmLHmLnTjRRS/xrhPGDAxaR5DQ2Y01zkSe+dzUw/ZnlxNh7L+grSyLJBbrVnbX\n",
              "xSaUejtMtpiR2AN29dwc//MqhtFKzMxzp/BL05dSCpGh8Qq8iT3OdTghipB1V3GvgGThoURj6tVe\n",
              "phncRTwB35vyZTiFMvaUwrxXdnLi2UgjWBLLMPPhSrFPFQLWXPgoIXsJ76h+NoPg4mvaY8M9WXvB\n",
              "L9zWo1sq88gHrVh15Yg5nDmocSukXkbuzEqZDPTimubOns5DOyTwJEeyLZunV5EWSYtruiB1G4T/\n",
              "uqNgffLP4KVsnzXQKrS4Cb0ABf1vFqRTxTpx7uzpPThNigLnalMq5P9JxjABagAAAwAtiBjo4nkI\n",
              "r9FNzHiwyKAD4S3lKVcpghJBm0reaae870ECHI5AAAADAAFhAAADc0GaIWxDP/6eEAA6Psd9se95\n",
              "9WTAAF68v5XoeWTJNzsn+s7XoWLB0OKPcOVjs9vE3t2vmtwGWTLsjVa3pWuWd05R7mgaX/zLb49r\n",
              "NdehbZHmuqGVxGpR64XFzxkSD2V4+LxtOGeCaB21GQoSYoDL9APs3mZd/8Wes6lJZDbEdpdf6F4+\n",
              "ilkJr0fMr79a/ltTVUNJcoWB7tRwQINXgNxR0zLZAV2ZlYe+2xhbkaJSfjgx7Wa3/55AbyA+xM03\n",
              "5Kpw0zSyp/p3jYiMMUeQh+sWH+na1ywsmsCz7tPJW1ScXESGB3Ot6V3UPtgZDpKLEAIfcILwAAAH\n",
              "R6kNW1TNXd3vP/ShsyoyPOzO8Pps6izSKxSjviR08p7rrKkRrYQmBK9D70ctwvwMnZKths1aNrfu\n",
              "fTtQj6deRyYWTFHJ22iZmhchQK6qnx9G+bJqC9iZv5OQXguQs18dhEdksBCjPyxwX+wYAgxDxeuS\n",
              "neo8BxG+uEaX0fZSgqVan+oBn/xEB8fkpEMbRdzXM47+Hixqh8vp86XKQ8juYyixMK1rwACxL4Z0\n",
              "K6ltj6UqIJ567Qdo71nxI+LkPmudmLfma4GWPPbfqDV/Qy7NObyAIKeZuncd0XrfDEsjtzA2etfF\n",
              "7lRfj63ZA4PLcF/hsvuQl1GM8YwjfqPU+FSWV08ZEOR1mwP+H59qxIw+U1JFcm4TVw1zCzpoir90\n",
              "/0RLUOCxrTgHJHzxK+vrps8B447Qsc+6fWZzToRx4JdIihOYhZol4NL1de6rZdLzhLo0n6S6wR7/\n",
              "zfKMmZy2qe2mg1n0gr0kjbWU3uJy6X8D0ipi9DQoq3OzaQYKK5S5pEXxC/mPI6cczA65xv0hQ2d9\n",
              "Z7ptgM+TraRdc+vJ61C1UVtZfa4xJy3USBFOBgFC3PRFcUtlNp72ddEQATilPkI4rf4E6QBrmTkA\n",
              "LKh2LsvjdVmzw0BUHYmjzDOVg0+Y5yUvGhlV2NX8seX3x26ey6mMixdhmalSvID4CSv/n4HGfnW3\n",
              "SGx/6V5RhSiVOkcSZu3YkZSUSh8gX7fzVTbVUMDYkBsPfq7T5IybBHImg8ozQvRCIVxEgYgA2PX8\n",
              "dX12UrIHkwIng1HQdfEo1qMSkZBrf+ILawLref+31kI9TtZiX8RSjxN8/WEKssAQNT2Th1FZ1auQ\n",
              "LzUj7REF1yRorjgAAAMRQZpCPCGTKYQz//6eEAA43sd+/2uNhRhIAOcOEovZHSifZT4/Jn+5at5O\n",
              "KT04zrCOszeOe+t6+D0421pSozgxQykl+yijwRHKpy5G9/ATsn4DKTeCsmfW+Iq4ipW/hk4d1Zqb\n",
              "Tr0IpzUFGOv1j2I4hywBH5Ue86SqotiSTClpjDk4XMF7ZxZmvXrnDhvKt7kK3PYwzQgi15cR3o9x\n",
              "/qkexWMGXk14fOrMf0RA+KLMzZ180ac1koiFUMOcIEt+wry1lU+oiq3hXBkuOpXEXaldcayXpZja\n",
              "fPp689oXJh9trySQqA4Dle3Tqw/omcIixMKguq+/Sn6LABzB5JkjVC2Urba0UaHkZzIV1Qdyn+53\n",
              "7huBfzFhwgJCNh98j2R6Y0myX0AeenjsA7oERHBzL/7q3ADayoaoZUme81fKuD40yM9F7i+S+VBW\n",
              "M6ZfDpq/ioL8gwJLDLoAZXXR+SfJ9V44J/LK9PVJtDGC3izc2QZLrWMfqsEV2QbpyuSNK30BcMct\n",
              "ZVQjd2cUzEucg8SbPIVXwShKbyc8I1B7pV1Pax8+PChkujAQ6OuLvzfZl+QHWe+jEb0/aEOxVhDD\n",
              "2mHMKcy6xCdVWF8K43dku+EfaE7NIUqCtKhCihynIzAUPCH5TXVE5z61FrzfdxPuXLhyTVJ3u00W\n",
              "TbsCn4lx+sOUlKGj0K1grQOkfqjP2WfArUNlaNTiYLPLRxLR5THQ7s5Jx0kHt2ljBYt2ZbM8B7hG\n",
              "SSkVDyxbY/DunqjP3wf4BP4o2Lh0HdPYUP3ZpvaDmIMBSOF1j9XBN9XSe9G1VvQBmEcUeImafBpC\n",
              "YrXs20+TOcNg3cu2LNtTPjo/1MJ5XHmmpGE4lma8ShDkNosd5EjCaHBQLhVHp1w2bepM/MxNX+Kv\n",
              "OuLDxdn54P5IY2OLsDviISYcm2SjSRTPkKmYZX+E/eRVfaVWDzS4r39tWO8sGF9RbRGXrrgwTxTs\n",
              "aRyJeg99asMdf6Vn/+Nwd491UZTnxm7x7UGoqvERAUBEgnpZWBH190+n2u5X3J8wMEtXlZ3W5Olo\n",
              "ymEAAAL9QZpjSeEPJlMCGf/+nhAACGz1aAACn8T/ki5GBPGDMp31XJxwIXx/IqTAReRucWQ63TSQ\n",
              "vu0KO3DcHktqCASmvKfZb7Mu3udwGQFi4B2JU88G52IfpcN2H0gZ4jB60Mejgh+8bkHIvWbJJBdz\n",
              "hD7vxIH1Zk0QBOr97giiici3itqGdclioLBv6xj2WhmNhFsafRW66qH+w9+E66KzU7Wzng/CUvOO\n",
              "Kay8xrE9SHMgz6URPZcnx8Sm6OLm50HSQySk3EBpANbHyT+lwr3XGt5Ofw9etvFsQPHloHsVx601\n",
              "e8QzQ4NhtC/wQkI3BjE2A2+WtqX6LXrbA0W94KIL+WHijhfyhcqKQ74OnQbrcinY8NFXiVizOPF9\n",
              "HhZ5UhfCgS0EhXuiCet9Cmo3cM419DiGtZARmnAE96ZL90EVxLwKPJ5Ke74mSmD1FzsAh2Blzeow\n",
              "9OnINXhcRE8NaH6q+H6ixEMFfWpT8ujcu9yrCZo30EK4HjZTdbRmY25/Gi6se9n6aODeaulPKM0Z\n",
              "jph9rVJSoZqZKPhjLaU/fd5qQIfk0fOuL0ieeyL5vR+b0wV0u/jK2WZzbHTdMfUpvQlfF1u1csaW\n",
              "2chkawfLGv1XjeGLZnVQKGYPchT7Kbn0RHBvf+Npf6IG5DvzbMVvBQxsJeOS8vJPcaIOGzbYQrwH\n",
              "LioC6LnA/9Ex3aoRGDOI5pcWtACwb9wg1jam0NNsYgy6ukPmSNEnKNwfV5YMlf8Wjs1aF9a3ETPa\n",
              "RwUi9eqfDX00+pRJTWJMbbPIu/QzaE/zE9KZ1ALP329KKU9WPvrHSyuL7UDbibkgOGBn2Ydltl4I\n",
              "tOFj9lXQ36MwwG5Wn7DGyMwcHWfW9TIY27rspTyFp2de5AaNGtd4vxX3FkDlqgO92FdSgHKVTL0U\n",
              "i091fEoNQINXnT/7Y1eKgMNukiJgtjz1pVfxBqJq3PxdVeWVJa/tE1sTZ2/S93PyyF2qrfvgMxMp\n",
              "KBTTujVHQqDI/ERuLReQ9oY6buC4bdRJG0pfdTOAAAACXEGahEnhDyZTAhv//qeEAA7nsp+C2l4m\n",
              "cnlxA9ABdORqL43gM+gRIo7YaWE24rS31Fh3OdWvDOhID6x1AOD2rD8ZoViHpujKK6h9Zm42ev6y\n",
              "99TEZTNHAPdgv/UL4CDx0S6EVjn5TM5uWyCdjS58UvPxIk32OrlTV++3uGlmfRCJEqncWNxFnPw4\n",
              "YhNSUIIjJqhUbTjtLlp3tTnCfbUu7adGRj36ebUdgUKeQkOQPthD9dESt73jYTvkqEqk9fU1JU4H\n",
              "NadKnZByUZ7tvKBRR1qYC/94bOjFBKox1uSTgX9/5IX6P6vEq36XyBuWcc0xOcoIb456npf7A+qQ\n",
              "zPESsZZMJP/rRaqMTgyVgqkolCAkLAgU9aRn3D9QIuDEaewUVju5lq5zdZ16rrPoolDYm2kmYd0I\n",
              "EHjWbJMZBWk57Rl5EdMDPzjXRS5FbZQrPsBmOMMT8wGFVyfEeGzCtgxGdNlsur6Z0bhBiIYzV3kh\n",
              "sj9axws8TjOQqTGYC0E5S3qjl+2kUYI1ut2aOiOP0iaeDRHKNl9941k5OZtrAjNF6vJs0Oz4XfNS\n",
              "9l2oSwXfpwiLhB1/uppLu8/Ik4EanrUWaT5hGZrW6he1aW092gS/bvO6xCgKknFXvFci47bwSjAh\n",
              "pa1aPx8Geg57J36xFLJR2XGtMqYVdhZRR4z15fIo5oCMPdEVAevad0t5FJe1DyiVEkLKOD7/hWaG\n",
              "ngAhHQftIChERRvA0ucPrNlfU/6toMWssN93H+VF/drcnHFZ7AC0+8LGWVgGmhrS3lJImOu68jJ5\n",
              "jcPCHKmKh0i92+EAAAMrQZqmSeEPJlMFETwz//6eEAAIqTXUAVXKlFO9EEg87tQJ17zlllCWXvMg\n",
              "3Bb/EB7hE9igIxoWkiiMdfJqZ7KMINgKgTfo/KxjTTDlFyV0AwRMFBty1zOm1uzLxrAK0ebqxXy1\n",
              "F3wqEiVwvfvIT35JhmS+RGA4g09EORTpgCmJ+DJnYU8mizwmMOFgbz2Zid69Odfv5sEBj8h+j2d2\n",
              "Wz03jgMkjEPs2Kw38VBlQq+nZVlgt7P9PLf/00ZDKdmxOIWAJvZcT+FmClb3kDGuf04UDV5oIJJ3\n",
              "+2ZK3sfDmr8Lb+HqinBLtsF6DwtzFkGdIQYzmlQQtlS+ztJwjRBw6ChR9+2DK5jgV9Mdh+2AOO7N\n",
              "ycIbNHwHN8akOkEp0K8zFczNcNf3QatjoeHnVggEMbkgbaYvyH3EJSE43BpMVC+vpyat6LiGzKTH\n",
              "iJCozPfAtDRs7YI42e1fxwxQgiNUr9lWw5FIG7wBwOv9HOwcMhV9OcMmMRjcgEGudSJLlGBevbzK\n",
              "ZvpmJjuANUn0mnTFOqBd1YYSZLmKKQBm4ImHo3beue/bdi4j+SBFqyNXDJLdZxkybvT/skGxILql\n",
              "G1r7yS5FIiWLCCHfcmNxkGHvJN+aAaPjhNWbxRf7/bZxCirn2KAc7RLXzwDbioAAIkvtqBZLgsCg\n",
              "svYLImrkabrYB7UcC2JRNMW9CdH+QPgFrIZ7+RK1VQmaf3bpA8XuQeGp2qWuEwEi/TbcJLrhDO+x\n",
              "C9175aiADMBBzh6K1dr6Ju5ly4t0kbxdGkC/RWdC49nEP1pjOaSMMVb3+shphrdLeBxZr5ppuxCr\n",
              "CaXXG0h2pd+Iy///OcSTJzyLCmP0gNQzpZuogcDbl8m563wJ8JjjAAyfNrmQXDU649B8DyD++L8t\n",
              "iJ9FI4K4TMRHDSYDyrWY0QXKD5+1PeZNxZd5sO9QGzmbjjFoyWNUQpMYqNca9BJn8bUMEr4epk4u\n",
              "Qq3pyBsyKLYRQIWeRmbAqafGeJClirhA9IYhD6MLOXIMv1CJgq7tyuTDq8tT6N9uYD3mNRIXL9Sg\n",
              "uMDhYkLTOLvTKC+Fp5yoZ/kRAo9/fIcRKTLegQAAAVEBnsVqQr8ADB52vi+6+BkxO3nhcAHKgErP\n",
              "kHKtlzJp7dmjP1Qjxcow21VBb3MhY9opWWt1GY4WXOC+DEy1+xqE3AiHEP/8D7xjR2w1/gRUDJ96\n",
              "FN2UXZABVCuqABna1hEIHJND+uLTSTA1Px0JuiNnj3Y//Gi6HxUcBIci5+rgFRbBYzgSuLjpQqmA\n",
              "0g2gsOVgoIMRwTXfOboKEhLsPyD9yG/scK0Ptn0QqHLxBF0/tTmz6BcoxNRQVxLEAse9/wbKmTuP\n",
              "vkwIYzB0FsjeKr2VMFHi91TzNPfZYfm7f/aCdOh79ZshNMAE/I5Xs68+qY8ZB5G25Rsyx/FaqiOp\n",
              "TZWoZprZ/mQPdS2G+Qac2gJS7CwylIuhAD5xcR4np4go1+2fn4ycyTwI8K1wz6HojeaSX3voz1l2\n",
              "Dwc/+fM3Yd5vFPpwDBBP4YAAAHBz81XWAAbNAAADvUGayEnhDyZTBTwz//6eEAA6Psd9qmlwn26g\n",
              "A6gcQKYKV06r64Ew+4fUtC9nXSBGEdCHTOpKW7R8kr+trDW7zzpAN2WQiEXXKk/ec4Jivs1Ya0eu\n",
              "QuvnUjw12APb7501VolE36yjH0Rz1bMK/jxqEwTuC7oDY66Xvdeu4UdRu9GUtlqRPCBSy0KEdzr2\n",
              "W1/PeNKZ6hMvyLE05V1J/y+1sPo82798/3mj67rLnr9xPhMdgaLQuAC5KJ5ScBO40y3Ms25RJMLC\n",
              "Jk+dQbv6djZA7JjZYxeQHtUiG2F5Qo3tkrPOGgowp7F452EbA+snUr8JhSx0c4z/Gy0bCn5d4Ee8\n",
              "c9q9vhopyBnpnAXJwoun/2FmBfleGY0ufG+miB2X/eW3uQtrT4XYb2NQpIcP6aeRvIdyEARaHF/1\n",
              "vCETXZpnbIK06UuctU00dJASXdxm2I4VR/6HrXuDX7p817SnxPkHQ0DdRXnKUQeOp59XiTPaE3N/\n",
              "n/jUR5c/UWnIkICFW/G1J58tC2TSRmHs1w8l+1qKOnWHsGBLcAxCI2/0te8dfvncljFUVkbnx1Mp\n",
              "wqk593qM9T2Bo8vL6xFUmozvXN2i0Iy3oiR35+gIwCgrVkrCp41E1bpBt+DLONAmKySzc1WhGX3h\n",
              "Dzkl+6RhxbeO3EmbKHgfOPIQ6R07f+04mJCLSyXDAMpwuN3ZE0eLFZVpsM/7D15SGfWEcT+ulWSP\n",
              "A16YXUlVfvEoBWJKytNu4ADBPtqK+MPgja3JID2OLVyT0uzzek2FDxBLlvGuZCdXoNTNvMh24RVq\n",
              "vSESqAk3nzLBvExtZeIIYDw3MqD49MsUMOcEI+WirBEUmisRgBICm7Ves+fb4WYv8Oo+zjgamN8W\n",
              "UVZhOTWoWy3bkQHg4WOVfMV2JfgqOddMAIgkgKKdevHCHj0epJI9lpvf3MoWeyEF5uAaCqYQD9Wm\n",
              "pVxfB0m0DuSzNLThZafv7MZfflxfVpgBbmz0rCP2MG77Gd0DOOyaEuxHYEr2zaWYrCIIL5mSecDX\n",
              "AMsPdkJTg5YF+Ryk9SLL5lb5dqzIXh7dDCCOTT2KoAfDT8WWuYKOQk5Ap8rQPUguGPG3ZD7vUpbW\n",
              "23Uvf7qextbaWA65nOAO18bXJ7Rrg9I1EiDgtSG1IrBSeFsyPmQaFgCJU1LIQ+/pdwnUx1tyWYE1\n",
              "wI3mXgApCLQFwlh6BiA5RG+rqtsukAI3MEUb/Cd3JUSmBaXfJf6CDewS7pFldrf0xjcIbHqfCbPj\n",
              "2qvZ2ZAbwr5UDE+z5iAEonGe4QAAAX8BnudqQr8ADB52vi8yN5J8OcnioAHaGaUPHinM3I4/jyiX\n",
              "cEOR+MRzou97MGneNsf4fTgqnYwcwpPmPuPbQX5EBkWZiehpTA4DaagAooqVpMun3OiE/IwGArkq\n",
              "Kl4exRPJDW0Ca/8oR/gAAUjTbS6AAA6h4ofKy4Ywr+DWn5O5U8V94YAF2kzok6PhCYzcgG4w/7LY\n",
              "Str6QyNFhqGVSrakbF2mP3UVlI7uPdGW7LYF/9W5tLICkgCPRLzaaBdKPMWvBkK2q9hynEW6ByRj\n",
              "j4kddsmev3KVLmwVuV4JgF3cdBCG1f3rVk9Pux6lTd4TZFDDsWXL1TxHVESlfSW9m6eHst0dN2dl\n",
              "ljUCjeZ/EFlJwVeQVKd2v2bMl87VQb+mz6gckJKtFe8jh/UMAUpcstS2pfkvvr7/66wExpO8dH7I\n",
              "sHIUlz4Xpe+ULxmNEqC+oakage1lnKGojMz4DJ1U5Pfd7iR4xxCnCvxlAahh1KnBiwEGV3hAAABa\n",
              "6uudhAA44AAAAkpBmulJ4Q8mUwIZ//6eEAA6Psd97GSoANG9d6/EvbERUVti8YN0hWQET6FPtfgX\n",
              "jqcNBFAtllMy8hnIhaGovLSSXnbn6SrR9Bc9WpKzotIl1xzco0T837HqU1Rb/5FWBPUYHTPSEJCB\n",
              "VZGF1tTe2ce8W+PN1fKPY5fjfxpsBkG6GD9IuetY6UvDg0SAN0BCl/dvf6Iece8WNyHnwCcLfGlz\n",
              "K4XfqsXHEwCwADR+H8HjtMtknOvnDTgomWGG43YxpWhXKe7bqY7Z7ujZ1WhWHmYzJJh6wWwGKaTE\n",
              "FHcAd83sr4tVCAHW5QUCOIg6cuTDqGQ9iXQamKob3Zm+j7enAq96U/7H4aAK2XCVaEt+gQetSUMH\n",
              "yqivv7+yXVCbX0HM736KGWtWgPPk6ImNdmT89M6REpLzR3JC/nrCTizWkk2MbrD8hBXHQNa9OVmZ\n",
              "su7joCjq+GfuUYOG0T04Zy18KExH24xm2LbhGO6ww5/kTr+/G1bFhtSHBxhdIFXllrIvvdfLmsbB\n",
              "6LfKiFzdYhlzSsVWUgKbUwb2B2jGcrjl68rlNxuYxDAwecDmADnBN81Rl78P3Fp8XZXnz8ruxdNF\n",
              "cUfXqVc1+8HjgXZZpOeASftckGUwbV3P4ZGyR/u1gBZSrBald+H6mKIV4wL2lmINhuDNmTem5O8h\n",
              "byPtLxazKrlL6vqApm/TVeR8f7CKyIZS4bGoVONEbkdl2jIUL6OYgRbZkUnDapMATyqwob+7ypxw\n",
              "pap3OwYTvkyLZzrIMroZKS3PFq3j+RjYrDujAAACikGbCknhDyZTAhn//p4QADjex5u6KGduQg+O\n",
              "LyagA0Hj9zrxWRYe2z2DF6/IdeiRxRyDo1DnvJ/dwMklUaYODFZ24iiKSj4OVTi0u8NnYd/B9T/o\n",
              "EY92ddQ3wIE/0bOSDCRBUckgC6bhnLMSSeJ31RIUma3ARatucg0MzWJKbkrUrToLAm2P9uBvo5KI\n",
              "7h8vovB4K7nYXh64IWzIb092ugwUBgOW4olzO71dGmyieVVyxwGq2ykxffbb44IHR90KUEdvFCiT\n",
              "PGuPS3VPDfMwCnvH13ZC4T2YbeL99vHM71/tElhkwBssHUbQb+cH9viLPSNNDKNVhhLh2Os+F2yq\n",
              "CNTxAvl7PpHjw5aQc5//2y+C3Ga7MZUj+ONVCvXhO7P+s8r96Znt35HyFfKEXabNCt25jZecHqWH\n",
              "K+19irOfv7enQf+nseUXj6XK90bu8OlnHfsTY2pGFOTZLtmlJdVuiiIzL8nKzba92PZqCe+zYtx/\n",
              "rMskogCFdc5MmFVoiJfe3wdecCwfDxvp7jvbfgJPnOwEvtHsPwb+DNVXsXPdSK4Uu0HWxN2m5jlz\n",
              "E6WmCVBDRcGV3vPFuoRC9AtZVP7Flu+yOmH2rfy23DtV0vDqYdEjXy6+z6ZeEsyYtKx6Q4UG3OKQ\n",
              "kiWadXf/tUORgKNi9jWkXbZ/AgDsc8IzJ5XWXgtkoqZOgLwPeJUF0wFW9AHbQb4xl8AAZiXqv80N\n",
              "DelI0a8heTVl5uoofmWw0IAlkpcVb1eewA7B4Mq1n9KxL94ixk3gQynpGLhxv0VpGvOyK+gtIBQP\n",
              "QM1V2vlgcdkyscfyTIO2Cv48UIOlyyFGo52yvcUnhxuFPTK9jKjrMAigUaJvmWZK8p9pURGpAAAC\n",
              "T0GbK0nhDyZTAhn//p4QADo+x34a5xJABlPMK8WveJKID8mIQ/I51zuHVJV8Yo6HyJUe8ZPsYYQS\n",
              "Yo/yElSqHh76zw3Grfr5Nz8/xtE+XBtJfmAtVpzLfh2Bg4uPNhT6AZycyw0dmoQrVps6pxDsIwNQ\n",
              "lD5Vskhs3za+t8fVXGzbWktrG0bgwskTMKDot9a6/LldTqx3NtRvMtv0f60Zv8lKt4cIYCQ8ApZQ\n",
              "6MCOgbli6MrRyH3UsuIg2qgo5G2EpuB31U+f0ab0SnYsJHbTqLxsAthY4nqI4N9jQ0DrpgE6BDJC\n",
              "QB/hkKEQIhVuq0VcH30/Xictow8bfo7ZS5jsjOItwyWaZT51XxpqeKp2adkGMalbQizQz+V/7Mqm\n",
              "nZZwVMhidA4S0YBQ20H4YIc0a2FI7FUF9sFMkNwLHFDrIFSI16Q+5x18/t4qdymMUUHrWrrxSoSI\n",
              "N6mFAgoc8til2miWkD3yjHOmJqBvtaHD5PHyjQz7HH8CleTRPX53RcdeMQnA+pHx99fZ5SpIdgQg\n",
              "vKg1mSOvj2LcXyRR7/t7+taEZyXuWPAnLjs7rCHYjcKGNpJStyGzzCntecL14dJiFidHKakSuJcb\n",
              "c1kk7jz2faZkkNocvL3+jsUNjMfyCAF7pDEO+sh8V/Hn5mxJmz5FWsYm2lXUUOqZHaCA9e84J+uT\n",
              "Mg1G8QvvRZtNZGUL2h6SyHivgQootnOVDQj+mMPkP/j+AdJCqfRwQkayHufsYakufA5EQe/1qx7X\n",
              "d8sBeVrTAnn3NP0TFtjIesINGrgemAAAAtdBm0xJ4Q8mUwIb//6nhAAOj7Khlhw9rAEWfN5iesKq\n",
              "3jXYwcBpdU1MXnMDBFbpeBbBDfixTDNFCekkS6I1QWzmwKAwz17+P3S4WInYe+45466knipsfxN8\n",
              "UUxdXro1tgbhW9Ef1TJGtjrSNIBg/U3EVQu8No5cwcqqdEF0sBhL29CRP4DWxLK0fIuJ0yenq41/\n",
              "2SggDN+gbT4EtsGMTW2LR1FJ/3HH3ThxaJFOeh/qQyGEuJZhgLORSWEtCqAx0QFQLXP8PQAVm6aY\n",
              "QXnq5+his6M4twegeqttNNfy3dk87rwRDb5eCaGZ3MnlZuXWH6CSXUb7xxATN+tP+30Zx2lmSebT\n",
              "LEe318HFDmCkPH3+PFuKbzaYK+0ezOJ5CyGV38+jhXpJV/SMZyaS6wscVYI9jV5WC6DIvY6BUq3e\n",
              "GauUVZ4vHJD3Vdao4htp91NqujnUYckG9RO5XnuZJc/zkDgIHi0NMVyD70kso6sx+ILMIPSsmnYN\n",
              "3EnTLGSl6QspLfLeyCMvwaoefUYVrflSfihl+6YZC5eXJK26MvgeYT6SaHdP0KpaH3Db4cIaLZQk\n",
              "ZZRfSvwm8GL8g78uCSuMX7xGPSAPMyyc8Q9K+9swl5LvDLADBU4LMR93DomMXJLHqYdiE9Veu6WY\n",
              "zffSJfyVYYhjDy5sJrFQSd1fLMH59eSEIGv5ZcP+Fvn/75ZQrJJL+xpA1vBODNGDCtbX+BJPhqIo\n",
              "KlaEFFfIos5nEe3L7A1ThXWU1/BDuQ6HQpJLYa3zON4CBE3v01A+lb0rtGWx3BIU5WaftQ6NzpdT\n",
              "MV4VQVCEWUFI1Gi5Dz1uwEFPW1mFWEx70wfbsg0CVKkYsmQKDOxtD1r11JL/2PhrDAIhHXrGYmq+\n",
              "jAvCaAeFc9o09cuzB5wxUBWPMtYTIfkT6vegUePbp9YqyzGjXNMmI9jOgeR5WvzGB9IzGziXRWlL\n",
              "+a6P33w2hgSwMWNOAAAEP0GbbknhDyZTBRE8N//+p4QADueyoU3bNpnY0AGfed6cIc+c8cNHWYfc\n",
              "Pq3CQkjSoVXftHMEbWQ3vcYXfy09uD/Xr/sRDc5epeA98AEkt0wvRplVyFLw8f+rxYkr43i3lWwj\n",
              "Hgtomv1xp7ArmU6251+5h5rTKZFSFWWcyQY7WuOUMf6oKztij5cQXwqx7KMhxhUu9JFkQwEHga07\n",
              "aMirG04f19pm2YK1sU9DhqnQY4iCs9qFHa3BC1AP4hmCBGoNuvDtMX9z+n1dKK7Eteu74/tanc0v\n",
              "MkCF9oDuiQk2dG2qsaykTMTbIPbN/8wmwKXTYd+FzuE7fbjE5LS20mkC2W/DdszdHXcsqknDGEbJ\n",
              "mm4VS1MzrMBkINCdaTgbnX7zn4cK9Mlr+6UZw1sq4ac6GsTj1wNhpe2iVDQ2y9wSoGHvPtu9ueNa\n",
              "Ws2nRzLW49ZqZynv6mDxBH6RkGsKnD8EviCh+TqkTLnKcENaHgUJWJTdoBPLsvD4uocHUzS5ZfoJ\n",
              "M4R1tpQjpt1xayklyxHOPK338/sVC+ovoYhRlj7y6qs6TYdSh5OwF+rsKKOklNGmt18HiPPsQNr1\n",
              "qmmEJ0AHB4L7hfHd/YzVFJIU2AZ7ZbrmadyLJbZRjMWmd/YZOrgda1iTdRPfsKC+ZrhCdT4CfODj\n",
              "uCKn+KUT68Q8sxILxk6Xo7SLTDAiii+rDvnL16Ary6D64cUkKknW5ZQ+wTPoDQDc5EjFsbGIzTb2\n",
              "N6szlpWdjRy2r2UqC6y2gTjThjwEI+2+WZQVyuHQLHkmYIKcJwP4+ptdA+dgheN9ZjD+6bx64aE3\n",
              "sOEEv1hbI2ohQYaaA+Hh7bStiZ7HvKah25SH/+XlKXCu66EYWdt+iGr41LxYroqDqRMTPs5X4/Sz\n",
              "/f1iPkzwGaJuP59ZJao6X4Ig8BXgTrq9jGt9eQ/7YLQqEfVbb/ZeU+sERo7DOGTL59bbU8Nj6fQl\n",
              "MOHPmjWviam0Uri4vnhaIWzN56N3uCaPgZLTLVJAPMP9iQIltsUtXhp85K0c5rxQsu4u+MK7WM4e\n",
              "XTXWMNr56gm+HcjPcG3H/ep9OToErVInSkBkpahckmJoz93Rhh8NW8cehxlWF27HulPC2dHHf9dY\n",
              "1c8ckUDMTz+qecyj/4Q3lOFXqnANVtbk4tNV4A/fdQnIdgfE3GZ/9OToPjsnmhtKhE9fqA0Ll+Bk\n",
              "homkK7mGOhPCcLaxHQdg6wMS9N8gVBf1skfXwMi5weyP3oBArMaztzK3yrBenk3u9ZyTLJvPcMHM\n",
              "WbXP6/3Brdbyyca0UfAt9w5EFwQPKgODDpwo4TpDcnKSbbuCFqHiohUyLU7LQVD+jSSjzmlqJWQq\n",
              "oSMEzekZADB0Okt2nGlYEvGVylSbBUJbpnv07JwJHs30mG90u4HqrMBfKsZIZ/c/ed+xmlfu7QjS\n",
              "IT5Xz65DgGUMSfaboL7i1rOH5isAAAGJAZ+NakK/AAwed8stYoHDq20KcaABfXbqcosU5mEJiIeX\n",
              "tFP1vzP+I647oMqX61iVy0HYCqKBWa77hIVVLvi1JMveehjaoBIBX/ix9yeuhPvNfVXBFBgJqxs/\n",
              "QXiTJiMLZWKboieJJ1ESujd+sAlA1LuMTi7I+nv951810bxbKPg+U8q0Lv1w31+2BSJOp6BaMUQP\n",
              "T7NN9Ug16KEEAt2DWISEEHZ36u9etmWlMOELvdonvXrIMCEiNfe5qY75YG8dnpiR/snZ+iIH+eCF\n",
              "iGQsyeG+gr3u3oXynlOsqpfsx+/mQ26+wE4rKSRIxz7lFYw7tCTF0vjNMVRF2RsoUt9wWWAughda\n",
              "grVRxDwWbDakvKw1fHBMjIAW4+WyKSM/xBPA/0fFXXYlJtkAN6e/zNtC5jfYKm0oDPLRBvoWE5/D\n",
              "M9o0w0VYANmR3DaPL6W64xZ7gr9xVAUNyOF9E4+CzJLev+SPJr/x4KUHZ+Q7TFu61HqaV2tqwVwE\n",
              "NwAAAwNr7ntM1iQQZX40AAu5AAAD3EGbkEnhDyZTBTwz//6eEAA6Psd9qk0mO9XXAAaDzgtHeeZc\n",
              "bkaDFq/J37b7LZtFVHN6TuJFj+3cMo/+YyGhr8NJTFddXcf6B94vl4Lj9uCxXvm4IF6rr/Yz/JPy\n",
              "G/+RVgPlMlMQ2EHARGlXRDvQU1Yz2PEJGiIMwXthMI1+tup5Xr0MCvKiEEH56c7Uhhdlz9gDX+Ks\n",
              "NQrLYBarDo9G+s0VdEbP/HuBP2lQ5heK+XU7TohOtmDseQBxN0wgnMWo2saHFqTcAEYhLQhXQPN6\n",
              "+q08EEtqcjTAJr8ylpAfiOGk9xvzweEnste7Vc1IQKVFUdEFaJMSfUhmoRVk/rwrLH8X69My5P0u\n",
              "tdegt7yvJ8o+xzOk9CnST6Focv6iEMm7dVF4nLe3WyUCZNqMOxmo/fXjLfdGIjZIYdxHNJ8E7/Ak\n",
              "oajDkvMzgItlxsu2aGPqd6xqjaA8NJgTRINZXr9/V5kTti4UBvZig/0ae7Pz/hyCeOKeUaIKTn/J\n",
              "s7YvBHqCPVbCyjKJGlOy+/dXfzKnUqnM7xt9EuyvOjZY801PzezQgSYIMpsSTmrmaZ9ac49TUcwb\n",
              "pitr7usCJTn5NMMOexnPrgjvMyEq2TWceWqwrGJt8Z5T1zwFVJdc2IBUAWh09Lt9xH4FJlT9HJ0p\n",
              "U0xBErEZgQHGfKETfgpvSm8cM5RHBdKybchr83XoZ4b6ao1cT/f/t87O5BeKmBWSogyx2k0Fvc58\n",
              "l9vupbFudE0or9MM8uG4PT/Q12iwZXNGrumoIo76h+m6yffAlWErwSgx1hgTpJxdLXRBduYUvgPc\n",
              "syxFZaozBJv5HfCCp3f8hmVrBTymz2jg1VWIBI+0bHW/nplliuERmQT0yapcbmYa0TQh/7LVyanf\n",
              "TsSX+2rnqML82mD+RBnlcTrS0HqPljEWhurQaCKSwEntfOH4Mf2nvpBIycAQ+Idxh0vHGKVDOrAM\n",
              "m2i2PAqtNt49aJM1agNw+H58Fv5OSo4T0yDZsgOEe3Vgji/P8VM8wSNl35QtqYEzf4uGGuobk3w3\n",
              "TZvKXt7XqZlLooUe55bx6YuXY5am56+D3rMN6txwQbAasVw2cFXkTcLWcSpSjE/jKiO+hxudEvGM\n",
              "7nglLJc76P5CrUgvZAwlq5ER4kCM+jX4YBcDxYhrw7AZ9vGs61dAEAGo2eXtuFxuaPz9W2tcSBNe\n",
              "GVV61E4sm1FDIhhCtzyI8LqR0cTHIBj39qsv6xJtDTazvcbAT0USx8Ilg36O+GyKlObHJIPAGlFH\n",
              "XOxVVsmrEE/Q9Zi2vwsGrEQ62/YhMotmJIIfG+abdi7Kp1s/wxgaUUEAAAF6AZ+vakK/AAwed8tH\n",
              "pApMWA9AAvrzo5ENfbZeX8kCyZa+Cy0cICWpQILjSbkV/5wihJ+lNLTjonEB0kSS/pkwX+rhP804\n",
              "QHaW4hRy/v3zwQEAfnLk7Agkxh0qtTuJzDzazPcQ/2RNPCugfT2rklo4giA/gKnkPjhzi5W2Aaen\n",
              "fHCuSve5fPuCFcH754xoHSiJXldVf6dBMmPBkpPbJhTS/L/jxIA8l5N+Ltp8JwI2Lxrh1++S0IlM\n",
              "XaYP/AR1r3W5aN7rukqyLGGEhKj3uRaMqLoZzFqQ8FIbeF8DoRP6Y7xT8GI5o1gug/7gEOyPj9lf\n",
              "BWzRq0wEXyAcSM2WYf5c/x9WrtLth5ln2NbSFrnFquSIWtM7voHD+ooR7Igu1GdXeYXZo9gPlob8\n",
              "bWueUm56iTucqkJ+a96eqgab8Mlxh+ZOyoN51BgmARTddKOelW2DfZRtlEjPBGXzIPk5gtodTRwI\n",
              "mEz9/QLwf/iwAAA7J4RKbCc6AeDAAK2AAAAEBUGbsknhDyZTBTwz//6eEAAIqTXUARMe1MjxpuCA\n",
              "DqMRVvCa/Z8xvSQB9tJezi0N0dCahpVW5kdm7Cel/Fg+M3QbmpygWtrrFgzDTNArAt3bODohasDP\n",
              "cel/YDexpnaMXiS36lULGVYzM7vAY5ZoF1x3rtIEaOVXnXF0NcAWAEiE8WmMr1SbYfzbG6VIU7ny\n",
              "g5HqJggBrzSHl54erSP0Z7Er8B51jCqr8e5EPr6oFsgtohp2O+A1rPPoOTqO/t60/+93yWIHJFD9\n",
              "ehBkd+QZG+QHZoRvoAH/So3caPcUhvmGNoVcuPcxOun98s0pR7rqtkuwMTzmCorBwoEVGjaAdmBx\n",
              "BMJzB5GXyWQuM9A8RCjBgGccjlLMDkF2M4E90gFdYiM1/HbC/5BxKoqoCbQw4jYmQT4f7+KtvP5S\n",
              "e+88pFdV7A0uI/PtN7zMZcd646nZLpAXyTbdup9lDT3UWsJyF+IT8wNfHrvV8pH86CJu0qu3+/0K\n",
              "Q6BN70y3craMHNjZ+qwlY59j6pxBNJDN/t/S1awF2RQM1xuoazy0EQECAKf7u3V84gmRbu3vKePJ\n",
              "PcQlhDlmLQ6XedAup1woIaFfefbem3Xl/LDVI6jDwBdAlWY+idt7/OJ4sLYNsdfB64qbx3xRZOd6\n",
              "tOq+MszFSSpdNaRlKvH3Ix0JW9AidR5+tI9WKm9ymPN/ZMatJHUL+Sh7qlTCBnSflN2dRknKmmtN\n",
              "vbWGfxHxd9+hhg/GtDd791yjX5HcfxmZmSLVkREiKR+96abXKmepXE8jzZ5W6dfcDNV+SbENIaqy\n",
              "7OLv2eBrK0qw9x9qcdAcVqiiUpLcLbt4vfpMEqoXGMCvFODyVUxU2APj5tkhVJ4HPLexjorcE9OI\n",
              "oAyadssqBDT33v9X+OMTNBvSIoCwVrwrcQYLMK+wxA/In2VMQu6rqvw5o2VGbxeR096+DDYGVgGw\n",
              "+zRVUjOmDGPpkQxMFgeKD/TFlAmBEJ9n3fWX34DmyO0KkArVzfYZZCmwz5+WDmcoqgOzVmnCfqxY\n",
              "FJ3eZZl6m8Kq6XZ62qjHOiZXYxCVwBIXrqXvKAjJmiiNNZxTxEQSsr2wULjUYcIuSMibPg05RExl\n",
              "s2Rc9/DDrWMySjqB5xgb/AbKjFJOFAQU6ikI5RdjU9h92z8RZ+pDGfgbOf+GJ4qluxiSLY4E3pTS\n",
              "4Bh8t3oR6kKk3WD7nT2ulnisTKB75Vp9/0qor4soOIkA6wTUt9NlrWSIVF+SVWWy5jzBixMS3Vgw\n",
              "zRUsJuX3a1ZHiLvxgDDexY3bNeKFdu1xncjj6IK+RUu6/knlA0Ox/AmFX0i4hJHFYEWTogwq2x43\n",
              "Z9OqMXikNdksVz5wvahqLG1eO0rZNDqfRwGZ4FiUJAAAAaYBn9FqQr8ADB5314RmGVll4unGlwAc\n",
              "t0YQKMv1duef7su9XLjoV/Psal6L6NVQ4vgiHO1VTQSfUrRzNtdwiNpffIXgT4rTYuOD3zcuuZbh\n",
              "MCpEHV3/aB0DViODZP1uB799xWx9OQohAigW1zlbyq1kD5eLfNC4yqILLK5vQ6SGk4OAzr0yUsdp\n",
              "fWYkqBSEVsSAffjoFImTkQGUfH55OlUf9pxUnAZ+Ddf48VkaoI7DYKMWQ8lGnhsidxT31G+QBeaz\n",
              "dtZT6QDRv0d1ZmWowHkoTa4WH0vP8m9qZ6wXl9EyxMXT3jbuvCU3BB3kxMwu/Jtf3MDEzWElP1/5\n",
              "/ewmlPs3vxeQ6pvdO4SVV2FTNV6aYIDHe4Oen1BlQ2BEh9gzM9WA67wDO8Zo/uPy+SsNFErXkY4L\n",
              "oDtHiZxaPN5UHJ//2jSMIiicu04acVxYwwDeCap2ZdlFgS4s2yrHMEDXFyLdOVp0JEflHvHugycY\n",
              "7XseS8r8u/h2yIKhlVqli5tpR1o2gvV1HChI6uIoGXMGMd+sfCXwA8LCAAADAgeDYuasDVsCXQAG\n",
              "pQAAA71Bm9NJ4Q8mUwIZ//6eEAA6Psd9si4wgL2uAAF8mfdb9S44Kxvjg4WHq+CXuZ0b/zeGdMaq\n",
              "NyR7ZQWJLGMGNy5hXgMn92f/OJwungPNBc42vJigqHKyTs0MGivhP/n43fEz+tv/kVYGbAGYxb70\n",
              "epB0d0lY+XaUf4xQV1mUDFSkcJIbjQc/GXjZX+GKotrJ8aZuB6uWR/1+4kKM2Y1+u4HTsIVQpDfr\n",
              "sJSNIl4FurC+hgMQzkK8YGduO1mU5a2AXAlTaQcNc64Sd6Ek0mEvh10EPWht6t35E29F+94eeP42\n",
              "RybF6c2FzBQwkghufL3VJVuzaZXyPr5B+j9ygdHdfK3NxyVIjul4VyQSSURVAvMSbNEtpQ6EcEpW\n",
              "Upz4ZmoVs91Gao7wXzGLzj2G/fhEclJWQ6G1agWydTmtVOLg7m4ry8sxL2+649ed2rmvnLz927Hu\n",
              "9EbelUQ2v7OEftHlDtAwDKSMQx36vBAyDdx/HYf3Sxdy35PeSJxIS4hXf4BpJJV8I23oeLmRrATh\n",
              "UZAbUeHSTihEJFE4xvp0hwAjzzYXPBTZdxTwvDhbDC0BV+cOgrxigJrL1Jg4eA7k7NaOlcwlhaB1\n",
              "yRdIpNiRUlo2ph2GKwA4Aqs+zEZo0O4kZHhcHJC8bk/p3U3HyM10nCGpwNHJSMY0j2LbjFYg/Hiv\n",
              "lh28zy2xvHbjsmD/JbzlNiXgRHrA+Cjx+FCcKtEVMO+eXn6ru6yAeXqztkYkVYWJaKNB5uZhzp36\n",
              "cjKjSbIT107izS1QvWsHK6qCrUPHo+JzJgR6bjxjqxF5zHCJLzD9BdzQnGVbuB/3eNGPajRWd2Ne\n",
              "GMTeFO7wdh7hH91pm2Xd5cH3q52twUkrF2ZnARs+jo92D+DNnlKemRMvqJtw/QiUoiME9CfWuiP+\n",
              "+enW35A9kHOYLWUdwy9vW/77ayVDNuiJu6Gs5S+p8+mumGhP2pireZ0wdah3z6rgbHQtRSB2H263\n",
              "//cM0J3q8SQXyzd8vrkJ9nbhypnuSzEPt029W2zDzQ/5jgVJ/e1e63OVrW42B5gnVDzFn1NGNMLY\n",
              "HfnAFesPk5ktfADXbEzoDCs/JSkSwUinZxoJHKp+YWvVaYM0EIpdJAG4qeJq3lkZ8AT3+qrcpn6r\n",
              "GA5OG25K4CtNzhflYxuM0xvH3eaneqx6NXHsCu9ljWnGJBuOoLzvVsfFsFzmH/RroTEzRUpGY0Gk\n",
              "2cWxzaY4bfWzhpOuJ2KDfbicoysjU4nNoC0PrZeiRnD+zirIAo7fmdlUqD92B2KxTkAAAAPOQZv0\n",
              "SeEPJlMCGf/+nhAACGbOpxKsAAVJ5F5MF62YPVSm/iyP2rM5WCopk+T1rOHEFoFbs85rJPxmgz0w\n",
              "D72tmzdlgfWpVmSdTY9p6NUgNy+iqXBy/vugtzbXl+6i2ZXxJdgBxR6IZtWpYlWAhSFBCxAbRyTO\n",
              "DoKmDLFWJ1zOEwCboA55W87Gd5aiy+qorFEkbPE0Edqz+yXa/Z7okvPhXKrSQuHuH2cSsxeW4iHJ\n",
              "RrARC8A6EGda3TGtE13M7yiJPCUZ3Z0ykCMlMBGD/tGfgGwGL2UpQRZzi1yIck7KNW4lmPKGxeek\n",
              "62BwCpAcZABbKsfzuwMRH3vMqSsRGCXXRRyv2AZ1s7TLWuOUuqWOeRRDQz20ocSQXvz0CxywGSWS\n",
              "1qjbsoRM80tG6WY518tz36n5a8J4ovDNQNX885Pto5wjfRfFlDuWdEdx/7H+TO5iDiFzDtsvWLO9\n",
              "Az66b88hy3jTKqNemHunj1JVc/tLLJ85SVWZ3E87xinMvptKdIO0GkB8Y69yfwNygzEAYy10O3ut\n",
              "yd2PfMhRHyDcoFgBOEavYKdoDkCAx+mm0aE2H1P3+yyTkqB+ENMPRgcuirO+ex8DRG9aJOoXREDp\n",
              "cj/fD2XM6GNvEbeePDLNhOAF24BW9Hiq3X0LqB2FGbLq20dBeiT4pV01D9/Lc/5VmihMiheT89h2\n",
              "5K+A2ib467oky8hmt3cpvAeQJBkNSvfQ1HnaviMDsJnmo+9WpXhLBw8h+lwR1ZpmWjaZ9zw2asBQ\n",
              "rwyNOdr9DYnl0qXbo5XM0cauxzUy5UcLSKyfY1jixqoJnj3n9beBmh3wbUa/AOVDlWt6hYwASDCL\n",
              "fbTGisZflWFgRC9WhHqLecIyRGERh9U3n+AyhO+tEN9jVPKBdg3GnNwziLYmirJxiDSTTYzlWV0l\n",
              "2zl7P/z3K+J+1bgrVA72fkZr9aWBMDqctCYVCU5/arvSqBCvFuHNJT0dUeI33DTdAIMJcX5hZc5B\n",
              "wD1CDCkpYu7ojKgGKybFD3Ex3gZ18qhehOcC48wt8gmhb0clUv0WLoRH3XO3SR85uxQgM9pdgcFq\n",
              "j7NUsQPouzN5MvrBCfDVGFUC7LZWMQ7Jo5BrSxU6NDm2f1s0TwcqZS4RT+Vbw2m9ggLjz/E3hxYC\n",
              "QwhAMdq30NbaVnKLJeC7M5MhzzI7ccvf5ayovU0hg3FilSYY8d/LVzk6f/v3/JY94omvsOZvoKKC\n",
              "lDjSKfac3oh6vwPBzCPRuhrlxTMwVRzu8gDHMK7M3xsTztSJmYq2uzeBN3zVoNmubsjcoip0Yuzo\n",
              "Tx8AAANVQZoVSeEPJlMCGf/+nhAACHMaOAAFGTC1VW3flmP4d22HDFtofJaaT1o55ARGHy0tWWt3\n",
              "EATE2IiQudJypqmpRp/6AXOeF1PIGLlKGI13L7GoFzC+s6A7HkcpbnsPXLoDyICpGIAC2pSaPxia\n",
              "IjAhZSnd+Os8koO4lfIIaHgRgjuWX7hFCJmeYP4xP2uy/8MXsnCmRh4i9nObSMflXv8sQlem5d8O\n",
              "e7L6A2LFifwLTfKv/51oconTdYStdvHj0HOswJoHmVUZnPZv3FabMItBeKPmx29yo8Uxjp1tluYb\n",
              "qWRGAMOJXsnhsm9qDmxhoj2Ml94l5dj1NnNt8Ny990lvi4tktoJIR1zeysKEfw3KQIhTJRqCJYyH\n",
              "+ncAIoko0QI/it/XjEvUYcrm7fx2BsYAqZ1/7DKvlGjsr+j8lVvp7ay7DoLDZeiVviFfKS2CA08K\n",
              "6df6kmxq43uhGpEPvPjNVdOTeageJASZA3JeYpdwEYgnaSelMDNP/Ydg2eqKBHY2olYkw3w7NoUd\n",
              "RCQBXJ6g2el9R1X8mToAdFdUCQDqVVMVur3MtoLY9GCgoii/tIeN3nNZ5PjIbBvCc2D0xiLc8b+t\n",
              "o8/KzAq/6wS/L+z17Y+FQ/NdNEWvdFVweB2JCE8Ud7cR1QYJli3FTNVst7cPdToKVrmSqgcB2iO0\n",
              "Bg/lWoGgenAYXJK3oSnBoOyr/73D+dqALr7+olSTvGd2C8b26BztJSl4Tkov2o0MDAHWviY3Oh/u\n",
              "TuZqZo5uj2dVwTycnUw4BNHNWilk8NYipbgnSBb88v5/7c4z/qGfMIMPpkysTkwlSfjrTus6jnwC\n",
              "Wakxc5VVUZ4zNFVYaHekm1bZlykF6TtKoUt4+e1Gn4+Cv171pGrg7mvl8v3VhlRUPyfEW00VKV6l\n",
              "MsO6KJk1cHZC0sFxWmDv5u0odBD+3IkNUcHZTD+rc+EqJlyMcbWPqLXGDy7EhCMJRTVHL7Y7D4mM\n",
              "RNv71gcvvKGN+Dnbk7YgleHGQZhbl1ABSfWw/h4oyBs4Tjrodh+WKQSBli0dNRA5vDUrd03bdJ4V\n",
              "HvqGAwsXNsGgiQlUNEFkWYfqeNOAmkD2Dj5pqf0UPaf7ruhojRb8bBm2JknQz7/bjAedFcd2DXnY\n",
              "daBvgQAAAydBmjZJ4Q8mUwIZ//6eEAAIZ0D3SraY1MAFoXcLOvFxvwVtmxLjDeqTqMlg97BssFSX\n",
              "cOh87q2MGWfo8wVwWGlO3Is2WIQi2WT8G2yY3/vMpBiYSkBmMipP5ahq2MptEuBdnSsXc/iNV273\n",
              "QOUEQrusXZV4xLuLtkDM2CA8p2OkWAx9Mvfot2BhbMsESrqOMEHcNtMX4GPEM61DOd02tMxrTagJ\n",
              "gmBZpdNE1y/OuR0nxETQlbhq8pdUf0ct88vdx8phQmDmqOLNNioFRdY+ltnazUt6+DKw5Cody0TM\n",
              "sWY2fRDXWVbvIBZTzZ+o/GXLM4HyKHtCpy4EpeMvP80a4XxvRA3GD2+dHNudv+ReoPpgjo7lqJzm\n",
              "sP3sj00IzvjoXY9SEQCZGbunuVBxgAPDggxXUyEv+rYjpqjNaSzCYDTpeGwCvhxTBBxPuabA+Fyz\n",
              "OGUuXH8F9831jet785lbW17ouURdsQ56Te2jqpl+UNQJUH6SMTbsra03WQ16ZKLa2sNgHawaXZXl\n",
              "m9h/YTd8qD1KnOYYTcVYtxV1KGV94imU5AhKRJHzj7sUgBPt9SBMFZrCGkiN041tyxcJAX+I/ihf\n",
              "rhOcSor0eLi0hUdFY2FWmeWkfYKc2VNAyNwCSz+9AIhpE3a12cqeXiHy5LtrPWlL9N0HAT0gjJ8x\n",
              "340snpO1j/Ow+HQ31LPlD8I58IfiweCp145PU8qkRH6GZjUIN6NBXLeOZTbgw6J8WVFtiYW8D+rU\n",
              "TnHuCXFiNcQrcCL+ITNqo1rKRCRrxOLb8216NTJf1vkE/BBWIo+f/Wfk3KMC4zxktyJbZd6dpe9J\n",
              "tafljv4Tw18YFFZ9IZKgNWexbIPbPVCWpfUk8v0Oe6EKudCFnOZgGdGmW4pC27B+Ox8axTIivJDJ\n",
              "Hwa66eEko/UxvEe/GeFhvdo/AAF5e705ySzB0LCbfzrVdkCGp23VXLk5ffQ0Fv7YfT95JizEvnGx\n",
              "eFRX2OWsoikbrVQHqQ8mSEcM6XxE0aa8D58mbHFbuyH64bdlcy/b3o3V3g3OIfzDmkG8v3Pt2ECq\n",
              "L09N6XbIlF940gpxj7pn8lgAAAM8QZpXSeEPJlMCGf/+nhAACG92E3AAZ88uNk7EacbBM0LY5MAy\n",
              "KHXZz1+knVz3IHl949E5akH4jNLb8jL1IPUkGS5mr4ZAQ23ME+8woqwADEftrspQXnT9nnMOR2zy\n",
              "o81kAagHViGBgy5tzP1zjnNrYn37qBwOs7vRFHagh4nhiEdXcKBhGC8RMgFSWhpXgru7rXjN8WXO\n",
              "l94eVB6RzqNbSof4zgkhFuxdAc6CDKMbXrfjj2Ta1O9NsB46pE5J4a/wckwiewVHSldqchkPI7rw\n",
              "kXCgJUjeqXtZ7VsXmrhrHS3eWlsJH+A1qWXPXMpPgW5bVGzUYHQpu28pfXSrKqrdoZuP5dm8k2KF\n",
              "p70mQ64UKQ+vnsQDi/Il2s1ClKZTiRPLv+UDN/euYqrvnWR3iIlvk5N1eb3A59BUrf9QIQ+1xaxw\n",
              "TrraVo28xcRac5BUruqQ5rC0DdQlXdW+gI2sXw4kf+6NjWG0Qc9x9jgHGBOooIvdpX62t02v39ge\n",
              "eYEhuZALmRtNPnJd/s2thWw3qh7VF2CRuehUdOn2hxFYTOUIcxp5I5sChMkx372EWE7u2tSdn16p\n",
              "qmrZpLRNHwd7stLdFbl0ni6qkzMU+Iu5KwwV0QccAUhmjzmtvUFapld0mFKDbsftD2Qbeog+1V5Q\n",
              "c1XMVfrhCMdhQV49ea8+tTQ0KGfw72x7dABio+NHJtWI2WjWtTnIaWDZqFYLvZGo3x/H7lvETCQu\n",
              "EcmarTQiugfGT01V1bXFdJ8uQ6vBlwVcgAsH9KyVOmsM9kteJkcVxrVVOjgJQAIldlNhPae/8dWv\n",
              "39IavonrPvFx7xm3g5h/1/lq0GZoTL+zp3R2Gq93WngT7CciNaQftLmMe24ETDt12Grqq/3pfDU+\n",
              "Swb2Loqfb/piC7Am2DQ3v8B3GUwekHhS2qgUpqD0qqWnZbbsy8nBBx71+d6PivQpFgTgo/cIWYu+\n",
              "UzBflDsAAJ3sffrLJOdOm2VqnrGawUmdi+YK0mLwFucjl0J/+oAe8Z+652+O/sTRJEjdeO0JWbm/\n",
              "dNc/76KdjMCEEpJ69ul/qwvthkzYG/yUBx4+rKs1Q9CAourRqMM6cB9ihnsI6OQ52025AAADrUGa\n",
              "eEnhDyZTAhn//p4QADo+x38B5v7BYAEZH1P25WWL9w26k16JeeinXPowpdLFHCOouDkDUMLYQXab\n",
              "Qm1zrVTESQ/ga6Pg8BGYp6YgjtG+ws3d+0rAfRAhRbAti7IyLVtCzCXEwh89pkip2Ix/EY/uIb+V\n",
              "Wt03IwcflGDBP7H/jthypYG4Itnyzn3UAcChyW6QtFmKIaHbZ66X1KexbOp2Efyw8zhOSKvpY0XV\n",
              "cBgEwH9v4cgZt9minHojeTl5kBh7t1FYdsq4nHVbHPsdePTKSuPy98tGWuTKzDrjRRhTmPhgyx9R\n",
              "tTQCvl3HNo7dYfAnUh1qhLrZkVQo7nrAAHb/yX+o2DsJruiBO3VOlzoySk364pIUi092nUHvD1Je\n",
              "p3vmwDbkELA9H/7xz0y9WSCMDMb9QuouDMkPMIeyENStkt6oSagVr9A9akTXiPlbhpC8NAlIrSU/\n",
              "f9dDSbTohHf6+eU6SyyGFebuJoWGPt81nLP4Qsr7tp7tWOJhOdWMVDn1I3l+JxDdNeZiK28yIdc/\n",
              "d1vrdIeOoaReGfbaWWj+ntoT098sNSq1pLkFN3+emSZ5nixECYNn5r9FxCOtqqvnDwooxWOmK/Py\n",
              "8cHLbkgZW9F9fMTAItzALrr7o1AK4AqHEmuAAPQnkDxbxsOCm1+KOogNJYj1HI9BWXJCD/4Ruqe8\n",
              "9/RT/9BiDqRu4dX2yMVqR/ESiCGFah8UK4pu2aL4c4b98l307oYTjSpTo7DsGv9/7sd0TBjJRiW8\n",
              "s7+LfxCjQKW1xxRaNKk3HBWaba0GRWBUhfv1j5uIu9EnB8B5FwvR24NC9nDHkqaaQW4m+uGq+rUB\n",
              "YAi25ngXZEa9c/XL5uF0Bfvz/Tj0Kspx23Fj07ST4NKkzhUXrSSDvv19UZtrmMYf22Si4A9B6utb\n",
              "b4ACYRblRyuwhUcd6ueP7frlhYsndVq4dBTKF1fbAFzAp4TSiBToQdw0Twk7+WgZXcfTdKpWhnYi\n",
              "oQ+Xlph4fq+dfms9L2wyuRMv0kqC97nMlevxJmfad6DFKyAdjGt5ca9rzcXP0q1lagVDylTS8Ak/\n",
              "k2PY9FbVO7jFQRNzUPcp+be6HPlrzo1gBPJk4WdTMDnMbgs5b6hJhhi4dS+MAkLdnKZqYRfq2er7\n",
              "WypSz6QNqVnAZfuGeM5pKl5o74ZgOXftcHaVVWt7JzXK5RG0JMcpnitVMi/6SGhgzCRvrQ3u05sh\n",
              "M984wgp762lE2FZ0WmJOZuxujSUGUPTlJCsRAAADWEGamUnhDyZTAhn//p4QADd+x38Ta0G7qrJg\n",
              "AC8nkspgpYL1R9G4yqITMUn1Lu/a5v4IEXuuXmDV2VjlVVwvogAQKUx6jAOdnr1OMSl1SYoatS+k\n",
              "h94JytQn9fWOOj50KJZYmyYQJ7nqVh1w3EKFWidCfgdOpBIdrEvbSl/v7DZNeZnXgWooZb72wHnh\n",
              "4/kZnGm3w/zZWdDYpXHhyOmg6hRbntsAz0H5oiK5GaoHtppYHXIxV+UKWqTSahCUxtd1E2FqvFjk\n",
              "EtTagPaBvOguDE0sb68qY8H/xdwb18XkIbtqMGz3sH+jqWN1l1ek4z2NZnbS3fXnXJL2ovX+M/Eq\n",
              "lAZc0FRJrR5MJ5lnFc+QJxiVGyiBaqBI9dA1AYM9bjtBJ6U+RtMh7mY2TSZWni4rCUTcEDjAvpDm\n",
              "OaJms7vPAK95ZwwCYkgfn9AlpptiGk3UdZmUHcnyog22oRIcyECsgkpF1XRxNOLg+22GFRJIlIdv\n",
              "LbP28kOBwzwmO+qFU775ynUgJRWCGTPfWZx0ba4579U8jkgq+IqwraZsAScllkwCUlGSTy6B97BX\n",
              "7oeT9eJpC4shszEjI5rUGGBZHtCun3gWHxZzxdOgAqFilqutFFgmKnfzyMHCkqzuLpxCKWXQwJ5H\n",
              "wXz5eYwo3UPeIPZJkgPOrBGTQbrRISIZqHy1xT4vgjDsVqlDM+EVgMHL40V5ui5DMkBRF1TFX736\n",
              "0Opp/mqE0rengtR5WGu/Y82HFNr4gDKel+ercWQoJMzzrZSkM7U8Y6+A5RfHNr1kjM9iUESPuuEr\n",
              "zXzSEsj/w8Z1wtJnoNj3d3p2j/pZRx37NtdLyNcyQwDV7XmZAEf+vq2DaGkF5D5o35RZ0jYcmTdP\n",
              "m2hI6lctbzBA/DJWIZs2hz66k9MXaqtlzqj6LDsKunEvNJM0EtxxY2dt2UrETJR2UMz5sWfO5MeJ\n",
              "//6IaeExjVJEwbfgA+SqyXVKuSPK8z6dgSo7wc4FcJyOolNDYuphQABGcgfkLN807HaED2oqxvHR\n",
              "l7cx9JVnVY6P8i538/o8sNsQkhf7HHiU+e/LeM7ar2hdOvNyYVpq0yn4McN/9u3fHB4DGT21GrSz\n",
              "i5x+kFrxAoZBv9ZfQUPFL+h0w33qgD8tKVrzIG4Sf4AAAAM/QZq6SeEPJlMCGf/+nhAACGbONktz\n",
              "ABl3lE65T2k8k2o4bziz3FkcouVeJbGXUj33wQ1JW8SxUiSPgM9aMHNWKS6vMyhcAgpRa4z0NQHW\n",
              "jCVvZZ/5KIwVtXfcsfdmpJ+APfbW+7pKk1Y/e3+J92oriVJaZ3OJeX6v3t5J2wbnhjrHfk7uALat\n",
              "9GQCYs9CaBH+ICH47AU9etNND7TfyFe7bNr6JXBKMhywL+zuvJqCv+cSwJiJhWwiw2pUbwIR9yEa\n",
              "XmUO4z2oN8QxzckTOve7cQHjNWZqNv5gQqhc1CHqonGULoaYhA8XQlWWQFQmW+hBoo661PpBj1/0\n",
              "PXe+CVkn5pmMdfzxV2YTEtN3rq+8VGJ744/g45j6Djy+t/tetL+odHpZVcTo7DG59Ldy+snYChej\n",
              "PIuyH2ih9Byh/B/TBLFdiTqMSD1ZGeeb3mMNjyVNmpkSvAmnFT864rTT5ttJF6a+KcvTITRZS5aZ\n",
              "wWLvjAc2rnTnn+/YTAm/g/pxv7afJO62W2mcvKbKU2VSxYyjV/CFH/AxAqNUNO47ZIjEdF87lbUi\n",
              "+5zIbHdI1OAYKotwxg8YyE2NPzFPq8PmHXpr8Hsaj4XvYVNPzatjuCs7rFoynTJ0NefHDYmAB20d\n",
              "llU53f+REnU6nR5rd5RgTa5q1XUdzMEf29XPQMdMdv70QPwn9bDzCcrwZdnCtwOpa7o3d4H7YHyl\n",
              "wlkKbHgWAEQCwrjyf08FI83tvLda842bVS8/tJIoFmbF3PF8Jn4UYOrTw5c2ohNQso5YVhH5J+Dl\n",
              "b5tgrWZ7CcjUXvUCtna+uwMXk3xYF8A+U1tYGpmrSUQipo5tqrwtPwH5B+yvJfbzoAYEd9VkBMzp\n",
              "OKnVXEyBdlcssHlkPAWEqkzk9DdSbpKnkbhzij0LsC6CnpX2QCRY4u4ZQYzlniz1lCOvb43Q4lMM\n",
              "ITyIzmj7bsawjn19l2/Cg+fuY1DiVENtn+10DhyC6gKqW/1sHxmI7z3JasPCMge6JL7Bsnyh3B+h\n",
              "a6PMqHwY9QxT6I57IiCiU+tunYvqdwDWJKNCRF8UZ1iV1gpQpku3m+GzK6xebpwu8zYgKv7aHcER\n",
              "v0OZoHfBRQkxxy8xAAADsUGa20nhDyZTAhn//p4QAAhzGjgABKNAIcy3COhrwOc+R0h45m5k71oP\n",
              "/J6TX47Ww6IEWZ7ttbVKujP73RCLAG87nhCSo8qQnfRwXqBd8jY1d0W++LU0CNVY0E8L16JYV3FP\n",
              "mLO2EuOa9+FKOdePYVJmjuQELJfRtH1jFvD3dkLsqPrHMJUzvwSv87qSB/7cTNWTJLyL6Cdph8Pk\n",
              "RJLJBprPjRNqS6NEV/zfMp1+UTbpQvrbSfW2CEudEaVM1yq7gjxin/6vtzbMR0drM+yBjjpNz63V\n",
              "YFKmDkgLhuXobYg3T2ZqqmuDoUDRCmuc57wC/d3v3Us/28sTuZ8X7dF1rj/9K5IWPKFWUNzkkUba\n",
              "gsX17Zww7BZ3KZCkvqso6+2LV2XBmE5oFYBQsJk7koXl8c3dp+Bm1OE1i1Hi6eal5orYYwLAB1oi\n",
              "95Ii/5vNQW0aD39kHf0JaThKF5OiK4mzaNIcZu+Zw7vvOWKWppl3hcQpNInmwxImoo6HajAbhM5o\n",
              "59uEd2vocmHg78uG6asVo8GKfPvWtc7zU+XHf9C4C/iSAReUznXbhOOIHS/UMOid5uQKf9EbJ2u6\n",
              "T3Mmlp7y6sBo3bil5kgzpkWn5+8fRwJTquZlvzkJr0uQsLt5SbaqV85edj6NHU2yD5XjFhjY2nE5\n",
              "Kc1p5W03/nrPkV3DB4lxIxMwLLf3woOnMfSP6DmPwK7sLWv3kMABAjd9MQYgAB5E1fIUcF4CtE60\n",
              "oHWKkAkCSE+/ty7kscXDvSYGuYHH6S1PpZrk6RQrefjgGSQcIaF4BuwomVbypTu5165Td9/H6elW\n",
              "EChnF+A8UoiCh+/ot8hGFmsl3+bABfig2K1fZwoF3H4A4P8hJOcuzQG54J+jombTvf97ftjK1M+l\n",
              "0oYsWYpEqqHwjv2RiqlHcrmI9pzq6f7YU8QLdpX7cPiwaLR5Vby9qpGatZmCWCQAN+xh1DaCV0Pr\n",
              "pLMsBgPqmXBAOkOFUWaujl8W3q9xwMvjYFrNOIrIIvWmeiQGcsFdzJaAYPy49LI2frdR6n1ngddE\n",
              "0u4vl7sz02YTCHAPU5I3otZ9/8moCWbxIJuYRdkDb6w5YcCwDqAJcH/AzCzNsQ0MPauZRnDCq4cH\n",
              "U9Dbq0J35eiyXhdPkOVoLjR5w70EyuPNsxoFz5egmX5xcCnaeyppJTPZy6yKiSBekyJlxZiqiuyV\n",
              "GZHPq5cS0MZVc8vEKSosJxU02JNS8DPi4MJC85L14R1GQ0LdjXXMT2V+5513gu8uQAAAA8ZBmvxJ\n",
              "4Q8mUwIZ//6eEAA6Psd9r/XQ7G2v1ABmQFQo+TuIjDsre3uGMxeVvAejJ6aCoXuoys+vmjsROiBI\n",
              "Sw5Z32qm/7TP8X6h+ck+tUDh0zJR2iaBgUdKsnf3/uGtXO+AYXm4Vgz1s9k/IT8b1AT/SjZF0BxB\n",
              "kmHByflzlKXBP1m4+rtfYXVjBdgA50m+OzzJDWwR0PpHeIJP6BE//Talqz5bzStwZTaVN/H9mxdY\n",
              "znTqJmO7qZVno3dNpfbic7afKpr22zKKpjtisuJrcAjg7qKtoqHWY0kVnBNZutzES3hTwGkJlwVC\n",
              "H1DdkCTshTgBi3vpU5ERXBk9nEqbmtQbrfdDZD7ooqDB7kOHeiQUKelGqH7lIb5ImWe+/uAvV9to\n",
              "WzzGjhLqlwAOvV9y3xrDQqtC6eDAmfPoGWDp10dpJ9XRGEI5hM2r0Q9gR3lJE/w94MsjxMW4C9nt\n",
              "6UDI9YsQ4yqZmc4VHgXMTDakXxlGEm5lKAuSkdN+AvAuYlbY7qMl3ZAL2cZbbTDIMc2MltCqbOhM\n",
              "K5IG3sGP1Lq7snyxEiKItOTbWnhCkx46iLlXLtHIj+tJPr9Dt03GoLX7rocQGTe4Q8LeIp16i8P0\n",
              "XOgoBQiPKBg7Z2qXYoO95ZVHQZnvbcoMHDybmw1geG0rwsYG/gOSRNlMWvzgrQBuyNIW5qL4wQka\n",
              "bW7dv4Dzc/zUEA7LfLRfwtfjNwN6UhhrEXJhdlTf7oWKeaLSbs1vrW7bL8syMXD++Wuj87KTemW3\n",
              "/AE7b3mp+PdSb67ZGMVsrDJ5SLqzOr+0ws0uLX9687UXlAt2hkQSibLl6hlhJ1Wj+FazUUKUhmU0\n",
              "vYSzqHi8FcsfBKJQ1JmRqwVeZ9Xc7iG3OoMO7G+NRgaQ45KcS1+xbh3ndI90k2Df6MYnG+15TBsp\n",
              "RMbD3/MMiAEnmWt4bdELrW4iyLUsYRAe8anU1z2WdDro31pkBXlXCXJa2C5LjmJgZF/nRmHOZFEX\n",
              "x2ouLX0wK4g1dhiWDg8YsOWCvlQ87fI220mtSq7olf1oEh0SArJvdnH+6TGBp+7FevvOdcy23Bkl\n",
              "ZXlvzXq4eJzT2SHfxjmm8MvErg4jJuwntp9Z1kWiYAfh3wYDa7k61mgg8n1/otkUxZPW8ErscX1V\n",
              "6vVO0BQn8l6o36a28hHDF8t81V9SMJhfl/4DbTLfRDCzxF6HwjClSE96h2mbO0ZwBn+Gt4LiegFo\n",
              "kDl00HGocJcu+mhGgzecSSnWMbGObodrYJgBZT/CqbRD1uBF6LEYSjvx71TmJdU3rkEAAAN3QZsd\n",
              "SeEPJlMCGf/+nhAACG92E3AAXLtBVmNJfTnSD4Hb7Lb1V2cRHt0D0tqgZa4xwReh4VEdHhBYl5KC\n",
              "sIh/rv/7IsE+DsfvsdfvSzUpOtUc2wOz1Xza+uVe3yHiKw7qoVNchRpM2iN+31v2k8v6/FORO9ym\n",
              "11sWzQlc3XHvkD0t0VTDJ2WOmGkqew3Rp+GQlkprb06ji7UONr6g6T5tmjJbABGIx2x50JXr/klZ\n",
              "/k+AusvbnqVL7E/pVdfFIYTfwUJMXYv0IPYtye/nn9Ty57LEeZdMcdni2vpTXe6/HgDj4rMzCZA/\n",
              "u9lPm795ZAdnjhutobA74tIoJzKCzv5h4B3EFMFJlAIBotO7Q2s6YLea8nZ2t1ZvP1VzbOwzmz/w\n",
              "6cm7bjqIkfiB34h8oDxr0VfuT5yOFmAGtiqYusu73SR3aFk2/vEsBFigZOjyYrKUD8PlOyWffb2X\n",
              "kNqr/VNLdSUbWDF7yi0mQhnntO9/STbHZUw3FhMuSbfu1wpBVlu2QgFQIypAAA+bjDKGpgsIsAa8\n",
              "2Xopv47reudcLHtvtQqIbBnHS9Xopat2QlM5h/VgaxRzgErYhy21H9FoOGZzcqeRbj/DNE4BNdOb\n",
              "LzyzecXBlCCewO5S7HCkcYzIMDk0r767+tTWnLY3+oNx5abGMadqnqsu1QJghdLGJgUXtVKCu/Ct\n",
              "0BANvhwOLPDrRbuBmlwOzE0oBV/+mh2CJpnOzNd1dDocwwVuBqNZshv1QrDwDPot32+86owaWLYD\n",
              "awKMLVydHykuo+XjNAmsUYh9QNKXo08t1LRopz5JNCEPmz4Cztb90nUM+KR3Ua97dtG0ovDsSAQU\n",
              "sqA+4gIBMc/qJ55aeZ/0blnsvYdtuMu3hbb7PS71iJTsHKQ89dMTfBh7PF8DzGxKsNXjokuHWWzj\n",
              "hMRkkcKgIJVmxk3fGRuX76YZFlQIyaLe4H578LaOjwmikjHVcW1sbdDwwi/JD9aMTpAkqz2xtjZG\n",
              "iBBgVHQeupIt0hKVFyixiw1dffqIBkCZMOoxc5euXXkN5QwviW4w2lFcNI0PneIW8tQz8q7NhjET\n",
              "66ARwhrv6u7eKKX5keV7xxqV8Q5ATlZz3l66HqOUv+LGUw8genxMQOKLyO+cWODxPZTcj85Vu2B8\n",
              "8YuQw+ZInnGr1InZ8ouIgj0u7uy/j5spK9qdKvEAAAPWQZs+SeEPJlMCGf/+nhAAOj7HfwAYGABF\n",
              "Y2rMYJWhzMyPX7AIZ0TxPUZlRpWSAW85l/XZULvWtfVc1nn3Fm4j8VfqMY9p65Am3nn9azYV+Ysw\n",
              "uXXG14+SqiPBiHPCbK2d6/0W/1znXEKGa5nTDojN8bgS4biFePWa7uVtHiuOs8GM4na/GDDwRrhr\n",
              "j4Zjr2USxbJThxxAdmwjBw1ptREGwYeT+5GYviMvaHFppUrh2lnOK3aPdXJJ2tKfyoy5pF13U4u8\n",
              "dLZL7srtQnfq7lVP6nt16KIC0KDPXR0wSlaNyMGw7UyEkeEvlHQVVZtYVU30Pv+o/XLyTvaL1H+r\n",
              "RRSj30OfCquchD7DAVth1QldHVCC9+LAy/Z4z4L8MTXNNApJtnhUPJI/vE4YjV5hLyTf7CWFZYWT\n",
              "Ce+vJNq99AZc1rkXnnNjSxHtpaFglXcdccNpK96KgZpl4hsXIAatsakd6N1pIeIrLPCpdvRe6ll7\n",
              "Udh3UqqOZXrI9OBNRuWLgNNsw5+a1tERjv3j7ploei7ZpBFHJKxs1vOr77/qTwX/g9kHwts4Y8t3\n",
              "7/4OHHSzJ3J4Tqgmuq2GOPh+1GdSd7CAhwq0r90bFAfG236L6y2aZ2TmljAHhUJ2gZHnQDliJ7Bj\n",
              "c5NO6dFWaAkSPx+vOqd39C63bJHRMDxcV2QQ4Oeh2p7CQaN68/5ZZiv6hUSe0wlllwlznXEu3BeJ\n",
              "BCeje5EzcMZgQOF2AQl89LH1uXtps77NM+ka154ydmPdHqNjGgTBsznwyD6KFwLw85qwOcW85VwR\n",
              "SeY/rBtm8tSyaVNLlIF7CuCP4XKZ3zou5A0bVMo4a3yczg0aHefjlHMwMUrQggFm305v8Go4M8QH\n",
              "zw8NYZNu+Vy1CMWRrw3DMTheJOy69ZI1b+LJ3LC0/dAsQvlj+j7AnEq4YTiA+P6N8USex0MEfW+d\n",
              "Ex16DcHhOC7s5MNabZYRq3MY3kphOpB8/hx6G3jHwMyvmoV3o/YVd8iDSsSvkwwRk2TRLUQvyT1y\n",
              "IOW0Cf+5Z1PEtgG4A41Qbk+6mmr0rSNKDkPIVTKy5nu8P19HFlMaLk54dIokRGzNcPV9U2QJYGrk\n",
              "vbhJl0bzGc7+Tx+6hzRLFLc5N32P1CJ+3UhOyUm6Iffknvt783h0WsjIS3h/pKsz9jZF1rDu1ce/\n",
              "iV1yQFVK5bfXj9DWHJd+fdNcCqvUV/twOWI3fN3Cm+3VRYhHU69s60lOS4HYEgCUox4r56bTX/ng\n",
              "tywYRZY4su+LF1FrVXxn5LO9fzsdHQ6PkAF0g7VT95+GgrrdcI/Gcl3+7BKMIAAAA/VBm19J4Q8m\n",
              "UwIZ//6eEAAIZsEC7UtNXAAdaJdWWzTYXCqPgYtAPu8MN3K2uuNUJ4te33T9Lh+mv4phCsFpJS2Y\n",
              "JTMHOc2yrmvd/mpzNiCzrGBDcIAVxe/u22WwMuxxJsEadu9VxWN/8wfco2Fx1uCLppsxps93q3qs\n",
              "aJM8d5y6yc6IAB/wHyoubLLNqYgHXHuhkQ/ODTjt8PgEWuOPLCrGuv8A0wVMIHwkfqZjq0TrS49+\n",
              "b0EbBupbhkFAzU9WCwQjFXM9J94aSorT8Y6vWETW1F91dcrx4QZVLdLmViF1r8Tl5a/08cK1P5pB\n",
              "B4/QMsIN8tArfwsT+kN1MUXza51c9n5stzns/37Dc3NhxODpMIfFo7ZKWB9NHNJPRcdYgN6uRxBh\n",
              "lu7wnQtAjsimEUTja57Rnbj9KzqTTV6at33KE1PbOre7StjYTpT15TYlLf3qByfmMzO9PuA+MC/2\n",
              "3iMEM7po6ITWyr0If1cTO6DtEfYlzWV6p+7x2sqmGcJvORDqNLXsvA9PP7VEAolWg04/JtboVDIX\n",
              "O4bcWnMm8BwZYBTAeAMGhHC1GYpMNK7p09xDfkAHA3lTNvUtJsNy3mU0NxnIXocHnrq+I8wBUOnQ\n",
              "vxGezwSoeB17NRmvTfqyEaghNLG9cXmtl0GZj3Dclo3s4VTxVOOSdJ7BErxk7D6lqiBUZpFY8iI6\n",
              "PxyCOtTvJi45Bsr2mkyAuzObxSeV7H1T8c8+zSm8+Kx/sCnyPHNlILBMw/FxQHXAj/pFjps6yr43\n",
              "Gr/VHw39rGM5BLfqnzFPqfLH67L+kSdg1xHs9xq96xuAbWUFqOlL/h3txLoHnvrdvrPeXiF2lWx/\n",
              "jeqPJyRGPer7T28vCIfUzrZI5PAchsbu/O7PI1yZDqT3aI+lg6bfpUfEtnB87QGtRhydz0TAr11t\n",
              "Pa62nARNMkpj9QDizXSf2xSdksWulFWdR4L2XEJLODUjhJ6EYIoGt2QH97xCU25Lr932i/lS85HK\n",
              "O1tRZ0QVzVXgertrYM+5tP6ATNeF79KWlj3zBmKDdpKCk7fPrRlv1CKLsFgA7hW2y7SY6SQDz65G\n",
              "OjG2mT8hsqEHYniQ8jYRsYfSGusonLTi7pZpTWM1Bw3v3pw7tF4V/0IiZRkF6Ts8Pfb7n5AmmHZG\n",
              "V3pMv5cEj/avHr7jrcahDx7br/i9T/9C+CI6OBW39RLdrzFWKfXDb7XW63suz3Zjam9RbXvtzfzJ\n",
              "/thIBjiQx/KLUg4mJchbJKbPO/y5t9+HXO3WDFW4mF9VRigCpoOq83G59svFAr4/nTNjtTS4XHoz\n",
              "hh6GTJiuVANOClfciWXPER5n6oZzgjaOeXaCzbCvqae+FruYYAAAAxZBm2BJ4Q8mUwIZ//6eEAA6\n",
              "PsebuihcZJIAMu8onKq2HWXU9pB9vUSKok3jmT9HHDNPHSNEkMyelZlNcrh03J6FftP+XGhLbh2p\n",
              "X5Tov/ZwHJe0gQL8+5LF0i/Cv0+AGdAJ0dUhHmOeLi6RO2/xmcixbTSFFRYrIkuPpGRGZZTOLDg9\n",
              "8qG5Eo7TxIWa1aVxymYuSM0Ttqw+xYqlxm9nLMXyUMnb4LYRSfcNbtt+aoh63srCj/SpdiWqWbhh\n",
              "NFpLkb4cqm9lJNC3eRmniNew2LN1SbPZkZAQD8wvE2PtZHrhdI08bYZFJ//bZOrlY4eGNhio5Gja\n",
              "/VXR+v/NrCkFnyFDjXRpwdoVduUAqAxk6osYdy41YYQrdtWUvZHcaluuBrTNlihpqvuN5OXqoJcL\n",
              "34v34fiz8HDZe8bkRzrXU8TsycHgWE/p4bqeDB2BFX41egnfM04RqtjKV5S1j/QlmXN8bpCAJswH\n",
              "3vjqBqGiD3ay+U4ycEBkoXRP3OVZIfgI6IsijNL8CrXJC8jzy1+JPWnkrFSFDAgqjLKyrk5s0jyZ\n",
              "GGeUAucPo1Ji6qzZfaB3/SZ/Mo2THc8mb4CfuAKIbcbVdG5woYCmKCWE91NTdvgU2mLEoljSru8u\n",
              "aGBR2ivTn2yVwVYQ5iSNgp+wlUippJe1MuNZZaF0pBchWoWGWy0S5RydfLlGmFpi1nwVVV6CVxAl\n",
              "OIAbbQO9H5bZ/Xu30g20jD4F9LtKGxXkilwsLFjqWpLUUQAypGQeu5jYE8pLanvpn8A8AiPcuBQV\n",
              "1GGz73S+5y9U2/CgfnJGm3m24YJtfXXYLvU+nixJQiF6V55daY+D+/PsoaxzvCLlzXI7Vrf3YAAP\n",
              "HreCQ1daoxJ+cae1U3BIJ2iFpJ069Cabr80GLGqjIg+uciGg06YzvMT/P6fRBTeUJj60rWZ8pxi9\n",
              "7y5L65dN8lwkNh4ZnEEpn9Jpz4bRj4Yo9IxMINrANWi1Y17+4r8FKXgnNuaRkW9h39DpUJXqbuja\n",
              "d/gSt9/AKOwhkZi2Td4mtnQbg3Kw4w4Ou2d9Jg4IbiI/AAADy0GbgUnhDyZTAhn//p4QADo+x32v\n",
              "Jwp5Vi1ABoOWJfyZosZn9v+U3Llb5Nz4dea1BnO//8vY1kEWsNtjupRfRQwsqFBSY7yRj6MNligv\n",
              "/vqy+gFT1s+CrJSMQFqG+kWUA+MZ7+1e4CwBDPf7/3ZXcIn7V2HN+sgWw3Qs4TwCRKy9GoexKhti\n",
              "cTPNby2SR40LpowdjCMItSOHx6ZdpaCKXB9MjZG9IO1NGFIqtgGRSiqPu7c+BLxupBmmQQS9MziV\n",
              "+LYNKfjy2kjnF/XXCify4vThAHTS7Qz5Xe1WHRIPtvnvJYka40WqEnYSrDtk4kKtrXvvY4b383tG\n",
              "lNCy3xx8Db+6wOr5I6F+Z7VOWwP5WDcRdfZUS2Dbhb9wJE06d7fvIKc2/tMfh8eJ5ORkCWsE22i2\n",
              "rNPK+wreynjAjJ0HEHD5a+uKo8At379thOT6f7XKF0nKPaHypz777unGaBUoDdGluxc5ygtv70JV\n",
              "VcB/0G7gbg1zN1PsBKzddsePgZ+ldSYVUz8eCKgpf9PWYMXxHvfzffzGosK90CxbF/1j/FzEqM/3\n",
              "Wnp/vhhfZNrVHszRTcGoAPj/+Km16lhnWCP0p8WY1KSuwV2F24LWDgHveyx8TrVlCgQBXPKMbcQB\n",
              "5gkhk8MvOaPsy/7w3Zmg6xXggkR3/FvvXdYAN7hZk5jFS2zH0buOCdKeyFN6j90AnEGMfYX70CIJ\n",
              "odRm6I0mvVMO0DjRDR1JiUH92w9Qk+A52tU49H8NXEbGawn8q3a3RzvMiq17J6uM/dzqX29dAEJm\n",
              "2KlZf8S1xruSD9z5ETBArunmJJ0Yb+NaOfHxhenVyisl8H58iwQmaJuwiwlAr0bXNcYJnxQVXqiD\n",
              "2XY+iQ2Cgr8FAop1dUrzpnh8zNE0bXmCR5TQiTVNSmIHWuM1vS2poSj+hDg7lFDUi5y1j0VJnapl\n",
              "5G8Qur4CkdLGcMKVUIsNmDji4f+eXwvFE1OEWsdzwmRiXqEWcCDcRWRbKZ1Ve4BffF/aCkS0hU/O\n",
              "wn+Fi1dJT7vcagF1YjTdGdM0yByXtP+8LMr4UUIp9+dx3z5ArjnjqKlcwHaDtPQzHE3H1JFbRK/b\n",
              "8/W/35H6giiWo7AfhtYcZOWXupIpiEW8K7cuSwJ/nP4AFqCoNaZcVEauPTs8jaqsnQahv33Qyge1\n",
              "EFZK6DkFjaeNMj2xNJ/rKtY9HHBDb2/WudjVVp1pozGzrFzO3RtavQcmx7TugmxG/K8Xt19NUkA7\n",
              "GNpsVHlr5P0z18rpMFRF+BQy+vncqZnSupmqGiLfVIJXONkZT++wAAADdkGboknhDyZTAhn//p4Q\n",
              "AAhnQhwsidDvAAEtxtPisvrYiNMe/gFsp+G6iqjK/P2Df1tq4BkhxjxM2t8UIyXOX61LkyJ5Psi+\n",
              "Jp0g+oS1MKtzs1dIPoXdx55QlhdSDUsk8WefKJ46yCTGUWPCwCibImSn9z3wC613/HPl3RxZLjyL\n",
              "dByEnkc2d8dIcFy6MP+lvXC4tpkb1RQ1cYLlgnMlOaNk28MRKZ1uPsziT1/eHR130GKFY1xrVtBA\n",
              "P0dE52eysqrlhui3yMjNPZJ7OrSzTTuDku1t3xUMqX3w9nq7V8zMf3dCP0H9wwbVMLgVrIwjLB4F\n",
              "/yTG6l0lW6LgQfj8JU/rCtVMJKKbWP/zA5HZn7tywAg65iR24Tdh0gEZdbqTyQJ1wOdyRv+sepOS\n",
              "EVw1bv39RILcvuWIKpHCoXwTo10iV7UDdGN1TPD45uO2MHXiqu8R9KEvhIQxYTYDDUjY4lVs/k2h\n",
              "aIryWzNncQyKxiEulP3kXvWc0UvSLw7SQrwMTUQYHH/SQCO1KhgW3e2N4OUgPK6WAmfx4pRDtwsV\n",
              "1an7kIwL0O/gdlgxMVjWlNhN1sVqGGVzCE/tT/PIgbaYGf9UC8uPqjbK8wQedhi2N+bl/DCI9JOM\n",
              "rpi38kFrs13F28AQUuB78F/3Hc60gH3ElLiZVZm23WWL44sn7VmZPJBnApzUMG0nioBtYkoT+CzA\n",
              "TPFfEgKEhGyHpF8QE1jnesCiILokadEn5j8lEepl04Q8nVWQEqroXZWbbuy2PSypWGnhQcVviePI\n",
              "2aPraWiPB6EFqMRRb+T4sHCWOymPe3Aop318XQXGKJJyjTEH+yikCQ0xAiI1lkfhLd0bWwokSMwm\n",
              "IShWpVRBF5UNSKD6EcMpAo+aFFqKdc6Fp/fkyax0LgNRKfm3hiv1r3xNqA/GNlIslVzoIh5ijo3B\n",
              "RYrVYmMFaM7k/NO2johFQv5T2pVX3MVc77hLnHPg2SF/LSeIjKhCstsYsRMRUB//nQO23nIYnm5Y\n",
              "JjAkz7ZFyYNAec5CVFqjMt3Oyjoit6JQrx+agtbQ83/EjpnMlndTgNF2hfqGvsqC1G3f8SRQWTrT\n",
              "yp2F3gx50/62Rgv5RCpsNkfr/fH7b+V7t7ksEE+CAdVGhWcJ8jH9YDPLu4F5Bksppplu+I2TF2nf\n",
              "Y16eN2y8M8DCFwdtalXe4YEAAAPFQZvDSeEPJlMCGf/+nhAACG92E3AAaDlhYKHaYXhSi5iNKznO\n",
              "5Jxhl/T2Qkd+PrVtiYHQ2HR3m5d30EJKc2w7ygtiXsmZkhk8F8qhee3h0773VmnFq1yVVZxnSeiX\n",
              "JyvCq7sgThRFpKd/5sWIgkQWk3OlTGrQfEHpq/uH8DtyUIQZZETQ7GUWTfIeeW+X4KTyB/0wUi2Y\n",
              "fuHmOf98XXeYSblA9g4ZAxGBOXn+Xr1ylUVdLct/9WyDMTXWz4bANg+5R884fiqwZxg3YOCfTFPC\n",
              "nFUdaz1293wiJtQsQ66XDGUXy3RDScBbcfY6pfyb6tapTzYtzbSf0B2NLDgq3oTXCdjgs3AVNizt\n",
              "2/RZsZJ0qtvxaM2l9TGcukVQW46yZqq7H2xW39O6SfYnxB2l6PJCn5eI4TmQ6kXt3lp5x0LkqUtx\n",
              "Pa6Ad6Vgd1QY9unkO6httvZIHubq0sbM6B2Pl+WuOL8A3OJlG2coQg5w/lv8gkNkIvS1WZ+esIzs\n",
              "ieuEXUJ1y/qkcvxeD/eNv/QdG1XYwsAc7BTuUYiiqOm/u6m4lygwmL40i06uLBrP/mLKzKTMiGfN\n",
              "En859PJNEfM11a85cyiPWm6lqCEdkeuy+BBQSrdHS5uU1UKCoCt1qu+4sLpAyZxDQ0DLRCrW4/Dn\n",
              "nA/emodITtW236enm96Beii/+YfYoZ6PofVwNq6X9vjoNYewMNDVjaYQKujI167SUYSZupG9b+lk\n",
              "GBuV7uEAMPhTYGpI9uQCoiM5h3vBb0URx20SD8AI8wuGaYosE9aP4AEwfOxiwOKqFDWKCarcDraw\n",
              "K9admuo+2mAmRR2SMlfW0dwekSaHOC/xQ/m8y9On2Giy9UwF50j/JkpJkuq6SYTiC6XTJCbTJfa/\n",
              "22fpNh5tiUqrbzXmSq5HJN0v/0dWKCA4kouerLdTBw2Wt5kajq6LPHfFkRiK9rCjxKx0mwvnnM09\n",
              "jt9jTFq/XQedQjA0Ja0gWDo1ERuCOZ+KHvz+7PUACRYg7v0ZbgRTJSWt8opTArc0Op50KzM7kxIY\n",
              "eJ/fFMBykIdIJXvriQWBkyDSikCRffdK23V3F++9twVCb9TVsHjqRw7QRCPCUrVVclxFckNKQMna\n",
              "eoxozX6apbP3f2aEZ5B7psS84Yuij7boBA3sWrlhgTl1HrCiDMm1gjenKgtuD8ToWKGEo4ZuHRdd\n",
              "x52Y2fqSuITACh69dcn8O7XBwY+av2k61x29fagSo56AEiVyq5ZIjaXMGBVvd77WIxgrtV3VNKv/\n",
              "wIv92QN0k6Z1iFXutpf10pAAAAQpQZvkSeEPJlMCGf/+nhAAOj7HfwAYGABFMQaMYRJmlKtrPbSe\n",
              "ZbgI+lqApL6S+Ee2Gb62FfUDnI78FjlQ9hWXC3CAmvE45nTkt+9Qloz6jaVU0VeziBwOlZrd8NZ7\n",
              "9qF+RmUm4Rq4Op6X8d3MhBAiPnD5Jsw2FZd5u1pzQIn6XVEjZbEE50xh1aQwPlpBQz8mzJzxHKEP\n",
              "6MFEUIjFd1sgIgHGF5dhyWUhDj/ERcCOxleV96rfXwiLCKpaRINJHsQbEPHBEbc7yMBSDhPUQ7qz\n",
              "szbD2qEkif9vK1zoRphXXX26+LTkJuvEp7M7+yxNK1vIiwMcAXlFK9gCt99VMdy8rRf5xiHDdwNy\n",
              "4hz0Vue4uCEfS2zDKXpzwqKUHweRnEtecGej65f60cTp3zbrC1NWT5DmXur6nakOEJHqqoWpBOpT\n",
              "QJZOkcroSQsWZ2s3KeGK9dMQxfuD1kl5mJhA9QHlnL5yyMEdn/zSFsEOJgu/7PaQ4j1tDxtOq3J5\n",
              "GZ59BST5lqxQy5DFyEz6UXLLezHJ7jvDbPfOaREr3t0V9B38Cr70OGRmqDbV1fGXVTNmcS7yzAqk\n",
              "PWC1bAjXvYh+EvEXMOHVJVWZL0XP1fYpw0KA89VU9AgWDy2w7iGmS1UNJs+jaDDDc6HppwNgcagQ\n",
              "3bBHjWP69/s9rRANWTtoQDeFHsqTYrgm2McsQoYgodN4zzJdk1vVpZ/8x9ueTSoUby766Hzj1mdB\n",
              "2vidnuKjD8+R520ocJnP7N2CGrrr1UfGXn1l6sm85j4D11yvZU3prbbr7agFZAnx6QGUR+PE2X7w\n",
              "3yqdiy8aNwT7Lt4nAuCZnwfBBMZ2BVTCuqALAiR04588pLdjKXp1tDPOgtWZiwFSsx1LuG4FvDhW\n",
              "IL+aDCMxQyzTyTz27lj05tF8vleSpeIE4oQLv1xYMu/mlNxVyiicBtzOd+8M66rqrC17jmehn2cs\n",
              "cmfx5jjddgFKyqEl5uLZOx3QTLMQHguhmjMk0l+iDmbgNIGXsm2oRHo/LyZxyqTKEXdB8Nq+seW3\n",
              "4b12Juz0Gg2cvj4gMmy7LtiBKzCQqBFYxVyLh+oq3ACayuMOX6XexmRnoWnOG8Qa09uZVUKjvdwS\n",
              "0d0wYoy4fnsXYtIdZ80EKDuMPiAJNvMJcuEuGN1TzIVObHRmLb1xgFamt9TA1Fl9IFwOtyjPtR/O\n",
              "sL2AH/sFcyb3w1nA3vyyNtaMjH7mQXXxkvuti8cGvFm2qwcuJp/c6YaAAimwRVsuHkDqeHPkSHku\n",
              "F8jzoi5xXXNy03CXIEC2aJsrcULxZu9qYtqWKf5xfcfZQNWg7hyY0SMO5IFBL8l9B/U7zJjjAdTR\n",
              "63A8wLPH7/mMAaD3e/ZgWlrBCuZ2shXV5nBd4Es+zW2fQBygaIcU5mS7ZFGbwGa2aupn9MF83fIS\n",
              "YfuRAAAExEGaBknhDyZTBRE8M//+nhAAO57Hc6ZZlQZFcABmh2jMkpqf+CN8sUAeKH9CyOzdfcYu\n",
              "jPQFkcI+5SrSgQZ9Qlqv00eQo65I0QhCFxJRiJpStSVwupIrIcZ//6gLo8ceAmT4AUexaSoIkNBq\n",
              "1aAXjRp8u/r1uWEO97lU7F7++SzACxJHu0k8V6MQ10wrmobMCYboq3osjd7/1ocXNkhoZEnc27c+\n",
              "SxE8UIn79MnEyBW1JlBktIRod9OFZHrRQMYuOk77mk69ghELrLr62tupMUNGSd5O1K/v49ladKK0\n",
              "vnPkl7bdBv/vXGspaBDgFNdJzJax3c2XpwKPBtNrUSCu+20ymU9vaIEHUgZqI1NWCTiRqsvS0tVh\n",
              "0/didgEELzT4OXdSnA/O/i+euGH9aVq5DRLz5Krsg9C038oB9+I/PM8Ms0ivCtIJDbFo1gmAHLN5\n",
              "+eZ2VOPz1BxvJKczD2mOZ7llGrJJtULBZIBBmh6rEBDYIGIhNr7NAOuO1M1Q0cLra3qM4r7kLTOi\n",
              "skOqfL7DJ0T5vyxGgi+NzW+V4D9ZS3gBx5nco0ZWJMquUeud7n6IYUHEGAbiI72usbdjZF9KJKDF\n",
              "GJJxU4BmIv7CpUN5oLAhe8gZvrIy6Q+135UG7freyrXxMuoaaqXGVNu+LimXqM+4Y/Zc8p5lPUTB\n",
              "ACvygOOjjF35F6P3Y3rIrWSY63/larE/khcP74d996RCNM+rZtKAn4ttnUZwC142HDOOZup0i6K8\n",
              "cS6k4ZDqG9Rfp0rMVSRbPer5PyRfRPNhw4ObsoN9fk29zZXHozI0gU9I1zllh5eGBZq6byRkuGjr\n",
              "zef/Z13Y/ct2wla+USLQXX57tnfOuYYgnIJzhTue066og9biTbJCkNCKM6z7ZY67f0QMrze/qtVB\n",
              "KIIz0RlTYQ69payS2xiaCQSjklRsiItPB9V4chDACzyp38p7G6mLa/YCLxDCbCtPJagUTCeCUxRi\n",
              "ZY+2xmKkEBuSUFHPoiD3614tslPc2YSrI2l+aObIMQ/ZsTUtMxUmeMSjqQ8Ps6REplhouoPcTdTU\n",
              "YnfHZseZVsyAzHNkUVtTDoQFrrWm1RWXQeppgVYKIyuHALrDmEE4Lmcc0ckT9ECgA/CHp33EavY+\n",
              "vXrcJENXvCDfptJiB1k68qGVu1GcqOAQZy7wjpOzUK5noy+tEkqXKgKWPWpfxATiuJ2mTvM0jWwp\n",
              "6nqbzVN6ikPJYdcGUjqKtO9kf2r01/54Fp5+SZue2F6nOLV9qto1ADXRF6X8SEKQrttSNRKZ7WkN\n",
              "7UGfk5KMobDPKtwi/I9xhZil7U4010WBQLSMTkaQIwscy7A758rhz4197Olw2Dd48lXKmKHIfHRx\n",
              "2aEmsGjYgrMxn438vs4F8753gfs4KuUGkeIe6qQ13j3909TO9UeL1e48lLdcEYY4ZFJmbMeYELlW\n",
              "S+HCTn+OkBi2ymEv0aijJ0uXYNInr6AmzhI8hFNroO7TjdR1BTalWi9F0flhGKJSAh5LjoF+oRSq\n",
              "Pgt6D9xtDqbRsLAhOLvpV6D7XhIHE7nMDKEIvCP9541VSLkMrxOkIT35dJloMe1tXU4DDFgpDHBy\n",
              "sO1z98CHJgoGb7wPWIou/nCvyt1qnbS/sbY8C2WBAAACGQGeJWpCvwAMkOdywmm9ocopdh6jhJWn\n",
              "gAdoadWHrWuz3qgTDdGlKNRnHNjEzNRGD8nSvl0TkM7XwpNM+PnSw4dp/9vU9PW8Y/caOG7Qfsq4\n",
              "wnxM50+LQrXc57WEnYc4g94AkqofDRs7OT9w3CCBtklvt6+l3FKu0kK5anP2dKEjvqdzme93sFY+\n",
              "Ts+Iivbzk15KpS5kCYDIDVbnt5I1nnAxwSoxlLFIdC9w9nYV4Kkbg1haK2P8E2+R+HuF7I+1ZBVj\n",
              "6rBP48gNDInJRr6w1KnhHLPzruO5rUiWsOvsWrY98T0Esj8iLDQznFeID47wCpAnL8Ut30Ohknof\n",
              "3IPdAv/rCv9dXCz8YqbbYP4GKIAooJ//ok6n5H4WimyHIWE041ckXitrL/JZKJCHbk4F3oZAngsB\n",
              "/kC80dnnE40bcyMcUqaS6XAWFaR9wy+Rljr70lRih911omHOJYoMw1Ri5dslR7WLuWooBv3IZ+Gi\n",
              "eZBOtTAynqV6t2pww7ihbQfvqt4tHQ/Y2FMbTgyEYtsyfqpb/yj8jqjACF+06Mbx8YzWXuYAJx8k\n",
              "mNFFtBrBLL94LDOjMeC/xiZ87LFnaeNQSc7EBjC8NOI5P/6oeNq3maifoKgPcpEE4FmO0u0lSUwc\n",
              "W50aIZqLQt6r2mo4DoaGusYzSGGxGQ3XcK1JjZORHlQfK3djYMSpIEAAAAMDLP31Hvkyd5TIfjCX\n",
              "gQAAA/ZBmidJ4Q8mUwIZ//6eEAA6Psdzpk/hogABUnrvgiSDrQprjcStZdBs/nnLSOmC23fAzNKy\n",
              "RPwU/YKSebCj8ktFHd+/qICD0+xbha9zo2YFEGrP5G+T8GOGK9jHPiy0QL1WHFxAiGzKd5Q1JEgJ\n",
              "eyAEHEjTplnkg5g+Z3kPmA2/kngouauDr0UmlDs699GjffaAA31gEvGr74tTEYJ2/znIz0wjLxyt\n",
              "dvNQJNqcu/GD/D0tBP0jcx9M9ANH2haNbBZgwBkjKWIQ4jfFbJJAIeuJlVg8hOv94uPaDrNtKf68\n",
              "xZbbdjaC/zSOdtqkwl/K9hyso6lWDCmW1jFuNgOSddPssMbwd883W4F7j7rNTlJOG4s5+WTlUxY2\n",
              "cyCRSwuCQ/5oNhHvrEgWowsh+uUMIWQXf3qMwKBVgauXcWog2lp1lcEFnhexU7xAF5YFUgtk0ABS\n",
              "k5jkj8VohylJcGnTcbUOcRaqyTRbGCgiM7XljHWqfpqlfzmwexq20nq3QXCfpTvTmrVG4mWrXjuU\n",
              "6CHIF/ww1ejfX5bKXcbMpR+XIo8Koi8g8ETk/p4BIV1BpsYATeBhikRDCPIVstGli6BRjMd71iJs\n",
              "x4fZLaNsrHOyJUw8BBXd58IdJsOdcQmayOJqhheLniuwXeiCZfn+5mTtSwL+ueXVfwz87Ov9Rr0U\n",
              "N192NDmQZWBa0UZNcE5exHdVnpy2fHmSSWhpgFTo+12YGD03qe1mJKqMfAMr+OkJD5l8oWGeMGG2\n",
              "WwsB1mWDe9CUhd/q8XOdcPOX8GD0o+AkSMfXxKfe7aTuWr904PKjWCDOTiucxvbtAlXPpWYiVqbs\n",
              "GapLnKyDWkBnyd1o3dBq5cJBTnXguRCJ3x0cj8bE0Aw3+sj4rHoK2ig3w6IPsbi3y0Kw5YUdLfKn\n",
              "MdbmLz3l6jrF4/ZAZ2Jdzjyi0ZI22ZTzHLXu2kjWbdkXgnlTx8qpENLMr+7x0E86z1hzKe55slyb\n",
              "nRVfHIqWW77G1s8T/oPdGuQCoDfCqKX3oniRaMGjIg8dnqsOoo7ukq8NjFHRITO2YNCTLi7NgfFq\n",
              "BeT2U+nHRoM57MUCaPqvuEPdVe6R9DRbm0/HVsun1AUFy+bQhFCfNZGFkebuYmy4H/nX++oVHRc7\n",
              "PR5N10jHjL9EQD5bCTzw+Tr8nJb7KKXUchHmyTXTKCJNUXQ/+rmdeHmoCBDTNiC9MNXaEWXwybh/\n",
              "v7+GbwVxmuvsy0kChr8zFO0+FGlK3EvVD6tW9hQdxc2CLLosYPlrPPlZ7SVHkGLkOH785q3rUx2Y\n",
              "ONj8MCrsaAcJTGebQMPWWRKmKud7wcaJt0tqxibzvrJmLyy1pbqZ247phc+uOFDMT4EAAAOxQZpI\n",
              "SeEPJlMCGf/+nhAACGdA90mtauAAui1oUC5C0GLsqyVrma2LGiUKwAQj6XpsH247UQM2HE3sm0oA\n",
              "Z5bcCmT5jbilp84vxRgZGjsXUevk7vnceft1+w+0BODPzdruNfgQb/ZWrX6shYSzT15qUo8AYsEd\n",
              "Wy3iFWT4/T+nNFXe6gv8qZPhXZDMk+WWPmnr59KPQ9NFQ1AizPOkGFas8UK5K4VlQpmnnEwdX0tL\n",
              "b41FI9UG6HcFBGh5aX293CmgVREXyBwajOpO2163bRnGFZBydZTwnOfOEXIUyFYZbQElDOsmEteM\n",
              "l5tge2jfYd/PluSjEL7c3cpbBwQAU3oB742/v7qmnzi8TDF4zQKqMnn9qLxNxVLIqNKuwBwgsfkt\n",
              "uCRMSZSB1QFQOtgVKlHib6JZhRrVqyD3nsPrgUXMrprOXQDUooMogAq2RJjn/M+AUrz9+Frsc6Kv\n",
              "s2fzpXg4IDHf2DJKjq0QMG8irRmzm5FlOZfvr7zkYmo4+39PnhNgD6gd2Ul0JwEqgCUVFmUE59ib\n",
              "jJUwnSoeVkSHcWj2B/eXPoX7X7ROFFOEo4fnykY5j1R8gelLwJKi+/eCzihA+MabwoDeZfCH8JPm\n",
              "Y2ZnvoTQauA3iAf5VQ8vYoRBHvg3RcOKQqXcEmEI2TrhPcc1Ck38BQE6gUPpKH2iRWbgDOdZCHai\n",
              "UfAPEjO7WTQ10OmvdgzK2IITQS3oW/OsUut0kLIfY0LHsbc4TGrImtMQdROTRNNg1wuOBCYlyK4l\n",
              "XqDJTD+tSWclIAOcXXdHUyFOQRGvru3cBrjK7tjPpErBHh9S8XGRDGs+TAyXsb6SV0haH0tIvyQd\n",
              "sydwI4bZFIErSCqLCL54XHgRAHHcOTq2pq28G0OkyDdICrvtFNplb62Aam1M6MeDMQzp1+cu/2qN\n",
              "eyVLPrJy6kTXTnfSoTeR3/U2xDizFxkHdGdGMnL0nfe5eiTrthv7n6Rik6M7kOim5UjIw7m+EBy0\n",
              "1OFtFJF25DkCxUIB3FVweCoxf4Ialmu/n/EenfOgIGRdO4ZltDlH6T6/tmT4CwwCdQ9lo35g52Dc\n",
              "4mHvedjvVh4heSBZYboqNPI0u5h2CX9QgpzGmZi3u8D+9fmxij5WfiV83+MjMFUwz3m9SlWbkKCq\n",
              "xnjLQYpVdieWRNmtsYM92z4RqbbnaLBVLLJMvdcgGa3zPzptcQm/q/CbGGWjCFgMmaCwZbZ18TBz\n",
              "cNdFMI7+/T5VakaNd1huStdZUOphnej4EghDKiZOAAAD9UGaaUnhDyZTAhn//p4QADo+x34a5zWg\n",
              "Al+hgRZrUL3ub/5ZCi9JNwNW+rem0HGmw+PpNlUqkj1EnJP/MpSULEEfHWLO/pxR+tGn82ezsId1\n",
              "YWVidEPCQSUiE3Hif3yhfxX9Cese0hwC8lwsNh5q3cxV1JWU23wug4XH8xn5DQzFZpWYxAEu4Bvx\n",
              "ea/A6ouNS24WRokW28b0utntTV+zps6nQQHZNhUp9/4jxQdO1cfmsqa6XcskF6bteTydXP0rs4o3\n",
              "VHmy5TTDA9WFD9v6S1hYeXqMW0s4+JK+AL0UD6WnSBG0H03iRxMyaa1alYGJWcj/LE4CYj6Rd8fs\n",
              "aM995WBEWF0nJiLLJtWWgZpzKDm9+truOu1L7N1gMvbxq3M3rmZgDrcoMZrewrZ7XAXsDloROZvN\n",
              "9sBWxG4tn31wuPa6qqgwhExikgVtzoaicfD6aabtibewIY3v5X3yYN6PzJC0ArzYob99FFQHrfK3\n",
              "JRiqQX0lbDKoT4iTOp5+XGmJhAy5CXqbQfaJoYG8l8eBFe80KGtCXeHqZg9s79SSVCg8ks+UESti\n",
              "ZoA/H0btbavfXg25qX6FoRifFDEO51MXJVBieYDtt6eQSKdiwYK35imB8HTtVVUMXunT9lRXhnT0\n",
              "CfwCGVhXCNOYpqYNHs0VcLXcTVZBD/pWfsr26mhDwJSMLssPc0PaSwtPqPDKr21VoVOrlTCLXiBi\n",
              "Sh6kQL28S9BHm7QZFyf0HZMKnCpXUMNPz0W4GGqKjEbMvLVGj1UXqoR0DSYB78dR+DkquuU54aW8\n",
              "0+8f4xAmeuEMelzQPbI6GlkE5cYTPQGnZNj02p3/Rg8w0bmX95NrRu8FCmgWqkufDHGD7vpD5uVk\n",
              "+bb6S0JOlREQLs2XvT8gXWoh6DsCZYMcSnKVwDEvmqY5fpG7jK6Zn9ivoC+PJMglG4Mk77KNh3ex\n",
              "q4WavAtI7h3ofMDVSvai3Wqt38yfu+0Qvecptd6Freut1FFrA6fDURs2SVcrRNdMk74vOtMyi5C5\n",
              "6q0ZggzS6BW/Ux+VLn5p1XaEpuh+Jj0VNrCu804gPOACISlhVHq4f6Ol8KJIh9CFV+zMdeUkR1H6\n",
              "q+WCdpeUuZCYSn0SzYBuiKwREmK5Bqv+maF6fgYajRDFCZFoGVfYBy57o0H00pkEVBNjbl+h812P\n",
              "AnII5KlXB0GZnXKTujj+Qvm9W9vHnXoOfDQnH0ygXme0gfLtK/4hRD6bs7EqVUHh6B+1va3Nfh7p\n",
              "0w7XJ7+PpkjNr/V0UWGNgZk/vaemQQbpEfJQdqQqTu0kFEl2/HUmPvFdIexz/T9wUZwj/Jn7WBPl\n",
              "VZPQ+vCo1U0bGZ94qxcYGQpXScMCAAAEW0GaiknhDyZTAhn//p4QAAipNdQBVuYd718z63rzDUcr\n",
              "3v2RBEV9IGNfqMgFNcBlDNmIseu+EydXizj1UNlXZmzH2C4FAb0SUYqKc+bsQEt014146ixDwn2x\n",
              "4JAFOPd+xdjnpxszvyvK1ohQea30bttyuRYcVWqmontCOWYTtw90TZcA2aES3VcH3DS4sX2Yor/D\n",
              "ZCkUpA1onMkxdPjiVUVAerw0c4HanNAvx8Ilui25GeJp2qUwv5LxfTFX71bbXLz1QqgoVn7oUr2L\n",
              "c+ZEle6FkDI+kTNoVVXWpDiCZzwjYIc5GlyQOB/2ZzJPLxGm8khanTREYubEsR9jRc2/PYv4GRCF\n",
              "cvcXSw1mwxbYTcd769oIKH5zUUc5i69EzcA83VQ1Xofoy7Ul+N3RSw+mR/fAWRhf5WjAxIxj3vRK\n",
              "liXIdr8FV4Nvp+3T9+O/z9F0tp+zGrYd6f6a97G0vS/HguF8J8BCShzgytYZn7UJqsWP49aJVX0Z\n",
              "bR1eT23R3bl4Fv+hDgWWapAyJSeuXwOsG74oOgSqBrmVa0Bap4E8UHqMq9fpxbmEHl3fAbv9FwHb\n",
              "w13K13wuHzj5P/wg1h7CLpU6/C5wSMSvzFni/QF3wjBDVfAtxiGhxN+cg9WDHlFe9GblQ8jPtjwW\n",
              "GIex5x4oP9+CQ0zJvuhDZuKiFd4SOyjZ9zc8GLHMyW3FnaSRqzst+2s7+8lem+67ph1rSpoHFnxZ\n",
              "3eTi1K18vNqWxpHwZ6Ix5ViwkC2hT9EHLViff44BadhsxflItuRWfXEE9rPzAbeR5dxh5xLjOaOo\n",
              "l3p64/g85VyiW9hWv8c8hNo6DRu5+s3XrlzIod0lLXFS7rNEyW8y3UUXUvhjr/7Y+KMBzKuB44CJ\n",
              "O0MHxDbVv7uXXhBGcXQoqzdUwMz7VE+3C/n+doAcMdUo6/PCYovK7iUHPP4yuAyBp/xSWJeWx6Le\n",
              "WQNqMoKDFIShmI3R4rPkIcN5rPamqBlC05G+Qe5KGqnpHD2JBQExu8hwUiBZH6bZ3wvwNz3KGMgL\n",
              "0OBW3B+sFOC9tUTQb7mA9OlWh5W/b8h6vpWDKEVigsMeHaoULVs07JJq/fMdHlWUQvkrTlcwC88/\n",
              "F2lFocv6Dqmhk1CY+qXyvpBq7hSX94CAlIfwcZ2phR1nK9UhhzNf5JFak186R3/KUNaAHSz0X7/4\n",
              "AwUACq0d06/m6WyZTpnyzjBtOG+HguT4YsK8QzJaBsLi7MPflPZsLDoaT5BOCJPIk3xRPVJzRNhC\n",
              "fB277WqP9MYF8USNN738rHAETlbEOzkL8q1Wij8cYfzPU/HlHBY1rWc175CsHUgFagFK2r1BzYSC\n",
              "6fBWCfubvQnkKQs8Xyq4BRq7Uk2/gmX1+IrbBHUFjZ8W0H6ZDdU//ssbNmYp76HezdwCMx28qk3M\n",
              "6FWnRSxjqhcKPKna/uqlskyPiZTS/7XfZntUoPTHpAPLnu369Ky9Da+NPLpy0A+dURqBzgic5DeB\n",
              "AAAExkGaq0nhDyZTAhn//p4QADo+x32rbJAt9hbStQAdaM+J3PSAYn5/8YO5fpCndEl6xOUGJqIV\n",
              "f+WjG1wFGY5flPBlIi2HDgexcN9sWBijk3PVbKuVYx5aQi6wxyXFct5Bd7a/pVjinKqzW730EDvQ\n",
              "CWOltN8RQHYxx22y9tCjDafPWh+BTbjZiOQBRmXAgEV7gwt7iLY8CKbmHKj3/6BZx2+JOCNsxK3C\n",
              "PRuX25l0fKVql8ztYyox87sk11oPArdMPRpSQXyhbX7D2JGGx0z6YNbOEhQB/jAyUiY+kK32LiQr\n",
              "5tt4q7Xxj5jYTWZVv+E6lsHxSpzZ+YYZQMgXkaNzuvde2x8eaiGxfCAfqgECzTRQa5hDCDHojCU1\n",
              "4erX9gR2S5WT5wDJbvv06uOlDyp4BRp6nI++Wj3ZsQxdBlvJemMQivqAiB1S4WR35QqM37VT1Zi4\n",
              "Ur4mB8fwTRAt6lcbNAYuE6rTA7utSRCe25AM8GixaFzvFzS0BjSso6nybD0eoOM0NwBtNGXbI1ad\n",
              "u5TcUAe6DVwSvSAWpaL1owI9SQfIi5NO3YC2tf5hstGCY0/85Fc1yZcTUdUCq7ykHYgXLIQCao0V\n",
              "7j5i4FhgiQrna1Q05cwFVzomBKrILexvJCZDDc+ERctR3NDxS8BJoc/06TCbAE65yQnJCOQGnMPc\n",
              "upO9HponOOyQRVhXNEmW4MDESZmdYbrL40FglNkmjYFijNycgKukP+8iZLrfcnMQFqk51eDD2rWD\n",
              "TZOJ2NQqE9V0NZUzeLxPdCgrNqyTGwS74j02IAr10XfGDPeg068FBrx800PfaaR+wbbcW+Atlpvq\n",
              "aGLxjwrt4i7dbRiM4ww5Y2reD7P4WDqcVijKXDJhEKnyXldTBHpv9m2m3j1sQCv95uHxS+Ly3aLh\n",
              "hSGkHWsbyXk6Wr2sKJPQEffuixbb1qfQCoNpNzVNzNSftJivgfWlQp0hmvYImxw6Nx3jw0AtU/7v\n",
              "/muwzn9rF6/wsUSAXSc0cwKfCAlFypBlIh5f4eZIY53QvPuFDmtPBXrFUD2mbC9XCvYCHA2z260V\n",
              "l3ZLyScaYf0x8CeBrwo8U4WmDkLBDdnMim7OGAjZ1ZU26T3zaokw3mc8ZXVFMLqzqkZNZQn9Q7+I\n",
              "uzHQvNFLvsc0gUjHkSgQfbDcgzUrxV3YXvEEiQrx8ddaG9PhYijfRe0kNGItynExttGCBUiHLDJ5\n",
              "Xacby3w9abh6frilLVU9HmGD1lbD4x90pbYTKuksvjHUszQ4Ju2RIOoSeIy0F3IR46mMclgtzRXF\n",
              "y9eo44tem4WQUXP/5OhbWIAL1ptZCrDqTosFIU0yxIaD8N71rHMuIPfoB3hJVc39Mi3jbls2ax6B\n",
              "TYRF0Lhfvdmpu3w08gdv6/3lyIHX2sKwybTP8Z660g8cInFoJCgSHjhbKWA0aK7Bofnl2AYNhGp0\n",
              "N+f61zBHgX6UTwNeYrvBd9X/KK2ZyMXKuBA0Bb+N7WY1QTy/A47Qz5AYhfytsJoGazGsMPW/goCR\n",
              "Eopsw6E72UJ/GNAsZjT74y18jh91ecsWT4mawsKIwboeciD7HM9HbrxOTpKOUwSiNDqI8yhjpkWV\n",
              "08S4tyxTjHPXpn31ZNw4ivP5Ks34pUMAD2BC/oAAAARDQZrMSeEPJlMCGf/+nhAAN37HfxVcVAAC\n",
              "+vKJVNv+QfvD1GUUiluu+6bjY5SAimFj0vhv9TrApxE4ECFK6JBbIWLguP4/d8HFyow8qxvEnndj\n",
              "BbEupSGnuYYex51jRs/nPPdw7OKjm08ofjqGl5o+mt7MghoigrgXSYCcBVnPatggAR3p7PgbYxQP\n",
              "oEvT93ceaBDSL8CliQpDKfww6JkMH080mk+QnEBz28SaTcUNSz4A9JFIZ1oruLd4RtCnXIdlHvyY\n",
              "rdB+FwxaMVU+ymwAtSAh13kxHQn1k8uDbFszFx3N/iZWoIcKk8FnAJRgUH3fFfhPkB0OPxCl4SGa\n",
              "u6CunZYw/KNBKFGaUHnnaAqVoH5r8GNrnfH91TpsAJMg0FgTFfUfbcqvcUXHOfOcyCXM4ud+bmPi\n",
              "lAIzpR+gRiiU/AlO7S5ybULxeOZ2W3VRsho1QtQWWnPP0fW5KSdxXzUhr/g6FHNjsuHw9JynV99O\n",
              "7vgRSwGuLVEblad3exBVTssD1wpBqbQWOBSoa0tshBVRfJUECz6PnH+vVEkO1vurVtwCjoSXVQtD\n",
              "5EErxKqwI7D3FI9tE+TX/0GNy8ywA4mACZvlq+xcvHIP23QjShZhRbx3LzRGQ8aGCy7j7KSHZkzO\n",
              "hBFAWwsTLjfwPpfPeBb6RBTXecW4gpeOYmIxunjpvz3QcRqWqhcaFTDtq/ibgxSCQgd84v9GcMx+\n",
              "rJt5RTqYIkYCi+EdQ/rWLS06i4fseIpgLMH/6GRfOL/spmwtXVp9h8DYHXQ+NZXTMLUsMdAj6bnt\n",
              "Kx5nvPuRQHei0fl5CVfxPXJi2oZGuvNBVScsKLGLmFVaiTlDz2gwQTd06wtu9AAuOb/4286lbfQW\n",
              "Qix749icqGlo/2jHf03+O5uAPNVpDxNA/2FdOjdTBMz0vFGiE5p1QaQ8/Jr9BWZkbXAGRJNPfmig\n",
              "kVwmHDnDEgErglvR0qmNEnaU0fh86GWsBPd6+TRFLAk4zgI0b1D4OqZm8zK5yGTaRU3AsN1gJbk7\n",
              "0VIisECVCDJi6PLkBis72GzRJ44p2M88NwlisEKtulwkQwCWq7nHADB9pzxLoGmr5AfPrDjj4s9C\n",
              "gxcRuP8C+gNJMq5Vyf7qZm48yX6RFAI/GXHLHqM1l+DACsHe/eu07rPmoa9+MZTXrrxWunLz95XJ\n",
              "mA8FW5x/yJTnAEBIpSVWCRLTZSH4nGdRBRy7CneKs+rE8Alz8Nl+Bim30C68EtyFis2GaiVC0VOz\n",
              "amdNVblJM0tMJSK8/+ZLQS2Jd1HU4HTHbzZmhFGH973vffzN+MYprtoc3A6RvX9+8IzWk2gJkqr8\n",
              "Pm6NRItKKFdzS53rR/sdizZA/GH6WTqXXyu9gIChywHFtH8QJfP68Ny89Sxo8HFc5EvwfmHZKQGC\n",
              "WMtzG4gX5ooix0p6BwFL5A6e/Ct/ROXFftRZzDrn0uD5WhIakexRD6AAAAQdQZrtSeEPJlMCGf/+\n",
              "nhAACGz1aAACmhStJ3K8yGpw1oLxYD+XBodVWAIgu/zRc2oG2q6OYH/AkFh8BUN/8Olu/Hai0+NX\n",
              "yKIy3YRfRsSp0O3RNbsnnnXaAFAyMXnIX12p77LEen4LP0+aWBWjUsKqu+YRXpYcHbO0KbyQh9lp\n",
              "9joL5pCA/hTEq6MBqwQnfX1LBK6yS8w84Z2asBfKQgGhrGPUKQgjQD/YRnfwRrnqHtUHMn//ddov\n",
              "D9qk80hwHHk8+A69pcPfz8HbxsZzzw7kyoVl1QB43jc5EhgGFMGrWeGEGuAKE+Z8QDCzcPEg+z9L\n",
              "gKSULHgbf4JzuDp0WO4lrmXaoNGJAMpXbp2xEtgWraI2eVRMPU2eSrlXBX95z3jym9zX70XpLiWf\n",
              "LOmTkfP5yaK9vl6d0YsOI/2NGDgVXFiG70KFsL9ocG/i6eVDXaHuqiyvrMhusEJG2bE8e3MslI/y\n",
              "i47gewfmdkI5orz8EV33rg7EClK0O5IfAbpoCq723qT1MA2a2JKxsP2CMe67WLzkvaVPWDBcpkrC\n",
              "uUeuUYrmtDG1DBUPh3D8Iq3xHevLpZu6/2K4QkqHqQNIX2lfuzRVIqUtd/1pfK3TTrcm2ut2fJED\n",
              "ou8XSgKZRc/BQMOcqMJmOTosD6I51GrDilo20Ij+nhvZHRWxrbdAzTPnTdxd11S/j5ybSOZUeBBz\n",
              "EUEEupNadNv/0eEI7FfvwQ/yh0SvHaa77IEQBxlaUaTnX9tZp7NeNg0+air7wKKFFEeyqBI+eQrl\n",
              "tQ9/bPheZsRhh5jpP+oqrunadciTiEKehmsFLnhvdOnU+TE+uPddYu6mUQCTXMvoUyYLsMhCIr9T\n",
              "8lxlJlxTSv9fxY5RBn1UF7yMT5CMF09k1D9M9MWDwkzL/piHgiyf2iGFtyQri2+DfbTHh5dYqzBb\n",
              "frs4Ym1QF5hek+1T5IpulqEg+ZpQDQyAs3HqgdQlg3iyc6FT8Nixe4kWWrbl03a9jrB8IdePzvkB\n",
              "AFh1QlIKx4LkQKIuOGRhx6QmY2l8hCWvAw7YDJ3q/v6AfQmFpHw9f9YALM6mGhYKbGchuL5sPnGR\n",
              "+3yiujSWBMZi0aP4E+Zlle/jxB9gmbTgiIUwuINz/Hvu6BxPvrD8qSf8Z+3u4NIINms5pLglJ6ZB\n",
              "3xY9XFMgaHgFlkG83eoBL9TtdKC51X3u+ORyMCckbh2fbVmE3K3clQOMmf73XWOTArL5rxPeRd/y\n",
              "/+LLG26XfOkqjaF+pVB1c2qElW96Rl8mxN2KluHNl7vRd5RDw7AFkHeD/9lcwVGxgEF8RP2Y3VM2\n",
              "qW3Qdr3J032kkIljWEBN0WuNSvNQKDmJoxL9duo4AgraJR4v87zsuIYJVHgCuR5vA8v1zrT4Jycv\n",
              "rdvIzsVriqVTpkO0vWyFAAAD7UGbDknhDyZTAhn//p4QADo+x3OmTX8kF4n4QqgA0Hm9+k3P5vhM\n",
              "YN9O3Y1omlQ8o271lnoEZHb5iN38PONiJnPNYCw605WqC4ritq8i302yJECdSkQOdNElMcekiDKO\n",
              "cs97sRGe6Wd9zWr/3XW3h6uPql26a70GXZOLGi3A9379geKBnJ4eyqsraTMONELsYEOKWrhD6VDe\n",
              "isjEp13Vv1lhkQagBQ+PL+bP4wTquSEwmSoXqbWQk/MWXegyTXy1B/ZdgE9Iav7bPoW9hYvsVgb/\n",
              "7tCUa86B/PA9HdeGJ0DtByJqucLfo0oleVgNJcHNXgGt3j5Gz+otqOkzn+59e1woDDLh/u9D0aK0\n",
              "wn6VXfMBDKKpDDuOIttoB92PHmLQQF+4wQflfc8hxxmpJjmRRznUyYmERo+8wNmocZGqbuYdgofd\n",
              "Q3FecV6WIuDku/1ZKLyvhirZNdSELkbuET7a3QUUgugUkByFQqQ+b5S7OJvVrylHpA786Ai+aSGC\n",
              "8gldlFjr66r1Ny+Tu04Pp0qA/BufuDtRzvmK/TAKdxiUcKivwUd2xF4JfD5I+ysMoJoIjp+2612P\n",
              "glN4VpOu/KV9tCi4pzHs1g1DoFMIOr1cI0YjAbcII25jecxHqr/wCXQUmSR4LfZhtlxrYGOxWAEY\n",
              "kDi9gNFlLoQqUlsf9RqbQqSuZf+D76ZZjLQWYWvdXU3tLrufnjvauryNowah7BDyn8F2UiydGRwW\n",
              "eNq1S5rsAWG7IQX0ycProhwdf3RG1QNtJXXhtcbd7xnuanTYQrDLTTh8FQrPjZkl0AExURWp0lOq\n",
              "/By8xAanWyZHrlPZbLMKfc/T2+XTrMlR2BcRRSfLIHfw81mUcKA9GbiIpLYyaj9DWgt4yXYdlQ07\n",
              "nhW+PfLZEAEMhy1Q44yANj/h7VaY3o2V6hrvR/k2v+5z7avk68k3UiQR8vE5RVDn9rNR1481lm4q\n",
              "GvU2mWf1zYK/MZ+D8oxR0z7Ohue+gZWiSnbaDrlCv/O1y7E1wkir/KbR0rISNThBAggr3FgbzhiC\n",
              "VsbDkO4oCsIdF98LiYRRdktSvMuLnv8ABh7KrQgDYfe9GlWOcdWewUe9P+dif9bqBhGjnuQEFnxd\n",
              "S4RfhrqQYOR4iNJ/WtjrySs5C8Tb0n4C3LxZIeNMrGuTDOqh/SNS1JQAODL1skQX5eRZAMB8CUNg\n",
              "r/S2IomUXVpRju2JXV+Ln7efdCuPAiOi5TautEEMzy7KtkC8YEOiRTcw/wxwJKxruN1eb1/+P/kG\n",
              "bpct203ih9whvwXKdNh0cgz8UStZUP5StH68INnjK1tdE+5pjtcI09PoL9/D6PrD/tmLOgghMQAA\n",
              "BA9Bmy9J4Q8mUwIZ//6eEAAIb3YTcABdF276texLVmY/eQVjHRISIbDjAA5jKmifqr4RK78+nlRm\n",
              "pU94eE45aLPzRws1B5/nrA3fF+MoiQpkPwwi2fatmsdSA5h4h74q7Vd4fPbJ1/ZYHf6KnnhOf0/H\n",
              "HF1TpJKOO8wJ7U7aJs4NqqkZuE/chLtGnWNaDpAGUhbZHcpLswdz3jr42hYOIo6W7yiXa7JmftpP\n",
              "MP+Aqu/6eIU1kS48t47zCj7ON0mMs2SppnKwR8xft9RNA2f3Vz8ji+xRcA31ip6H7SlBYG4E2LUY\n",
              "kcQlNjsCp7uSx5Fy+y4s+wNRC6TNgI3yDK68ZGLQly9dZEHwQVFskEpt9XgbZ9Z9T4HoiMDUVAjb\n",
              "+uB3Rr3qSgBJasdR7qKZPfjf9gJKg0gTTix4NEOkuuKXkwxDDtTCsodj0rf8kRqE5SpzUBF2PM0c\n",
              "BUGVw7qop0RwDBIozeYGSbHP+yi24tqrOPSwYVzVnHtfDOuZexew5k3dYwtuo3JiIbHSb+MEofNr\n",
              "2yR+U3fFBtzl7KklfMd44U8sY2d4rNppTSXUuia8b1LdTqOkED6A3c7T2pDAKdhIS1lUhw+L98B6\n",
              "5gD706uMMZzUEy4mfs7lXb87Y76wR4wcwvfA/rbE49QNWjM6UYUn9/4UgTOx78Ku6Wuf5lcefelk\n",
              "ubq8fIYQRcdI1LG+ETsihpqiLuaYYnn2DM1REaFFVH07yG29ubThBdkJdRKUkjyvEYaamsAL4srK\n",
              "iDWdtqPLi4e5D3GW2x7wD3MJPS9YZqpjUBLAIr58PIn4J2LcTqvVm8Hvq+9IkQam8K1c6CMmh6Vn\n",
              "V9STWmPzp8caxyRkRWhUoVoABnM7eU+l6vyWNyParh/DY08/nXSlJ+N8s14cwIrbSiIdkdW9OgjO\n",
              "RCPKJjs6HXsXhBCjQMw5jiOGMeM2h45W5S+FgFhkZUOCcaqUrshFUAJT+5X01L2wCKF32jtEAI9z\n",
              "EwbafqqxLmgGgQF57p0msBWCNTICEfYcVBUeK/prbVN4NaEgZk8YVJEvWJXGUjFKVH46qQh9W7qY\n",
              "k+9EAHGFEcOaLYU7b6FcAyDl4eJwu0nXHIJJETZUCJAgGFdCwQoejnlywu2JSoJoSfXuZ3jQIiJu\n",
              "8E02qHqMC4dp5xkSwr1u3qjn+ZXqtAPJetdZQdtd0bACnHYHLp9FHZty2Y0bX4kgLFq1hUZUdh3i\n",
              "ocXCZAB7BlE5r884f7yZhQ22WJpMde6qTDvg7JNj6RT5T7ZmPt1VVnfSfbDXjQtVHhU21sGObq5l\n",
              "AOlciPF9BVfXVjYF79DiHW3AWjF11k45NggjBjHJYI+3lxTN/Zr1fwEKCEJUMPCt3iPGh80WN5R9\n",
              "vCEVlyAx2Wq9rWtfjqI1AAAEQ0GbUEnhDyZTAhn//p4QADo+x37/ayLoxgARkeRoZlJfqoB5QrBg\n",
              "fRl8vAR1Fk45fqAVCZcWhLLcztRI2UZ/038/cblVqaMGTR1KAb3zn7FJ9wLjOUYXKRyMLKg78Rkq\n",
              "nhpeJvC02jFUsYSSWCplT3yTGHpkgyd38WE4AhQHXgxHUCf7eh1gcFFg4Bye/johKfm4/cSJlnwP\n",
              "FHVSLiBx1Gl6tQiYniAJaWcGcV/TbWuWMV8THPtEl5Kz37822skdwd5CfSBKAZV/WsUkyyPedIK4\n",
              "5MvLzbBLNtmadn6nUSN5xXWE4DlTFG1Jb/cANqW31cNB+mIDpirRCAIg9SRTh7TS183QFnYHuO2h\n",
              "zkm2xEyge8XZ5wxx76Pw1WZkhzwa/7Rbviar3EZGchwwlqhlpa90LxuAVVJvA1knZsmulzgXYzpV\n",
              "r/bQ5jna1tu2BDJY3cjmG8sQfLVy3P95jUnYmDhb8IavjvcDNbLXRO8uB7CwdlEgzmce6g/WJqno\n",
              "3Z0dQlctiPlLAEH/GrOgRgAEUi0VdOskeUd2DmjHMGkfi++ilP2Sa3EgHl6mWCZLvqROSAtPiGhg\n",
              "p63MJLQ7unsQP3pQSwKLWzNmASXkr/VcIMNt7bJsxoehAybNWQ7rIiV8PFwQgInhYeVQtG/j/DeE\n",
              "ljkaFs2i5RPPB/VxbkSXFjfczRuaSsnj3+DXCcAwQMMlVaUjpRXE55Psq8McPo7/1Y1hj81GKRIR\n",
              "yN1zVtiy2UFeabJExoxlYrCuYTDyj+JlaSV44N5MWb8L0pumeW+LRyglOB00Ky/23K5s//QfzLKk\n",
              "SCH9r/BwS45CpcOR7hikM0MPhTbClCSCIbx/GL8Sdvrx/G2sgQdlUHxt1XXBqZswBcSSubg/rMTR\n",
              "bxfYMNPsJrBbJTvTlI+gKbvryIqiStmAmqj/nv7CJc1TK9mE7BwO4/zYIzFNrMGGOW/RcDXq5bWe\n",
              "hKnRXw3dxl8Zpn4ErhAEh5AJvQXWo05aVM1mZbWF1wEDPZduUufxvnjDFiQxISHQudDDiFzBarb6\n",
              "TvXg+vjSCSCQ3lcjSSubn8pelhJObbjpUFfd3sg739agkm4RU4NhumVIKt+xdv0+wxY9cPZ2BDwY\n",
              "j+xVy1BMWcRoPF/XwuEWIB/c7upmmd3f4HOQJ8g5wau8yHS8mLIAGeVfo6uTUSHDKlpO8IycoFxy\n",
              "yAIe/xrWhgUuWECixisBc8UL4Et8v+Syk4i60H0WYs23ng0WcBqNCrsMc6nc4QzzSn/ugIJHPZX8\n",
              "TAkiOwlq0FyX4ZDbD5TvW+TqIxcXTkcUhm4ctadKRf7TgqlWQh1lLyDLUmAMFZo9MCvrNuIl9x9M\n",
              "evm7JlB/zT8fwOtuIz+pro8MaHQUsEtsTUAbdQhmjuVudu+GIgmjuFBGeIFIY0CiROycfaW0fkBG\n",
              "NluVBgX0xc8l4BPxrSp2LoGNG8WQqY+fKZ9SAAAF6kGbcknhDyZTBRE8M//+nhAAOj7HfansFp/d\n",
              "QAZkOOFeLp4Rb0bu+Ve9wV7731zpdv4lImsYkzoLhVifY0Eiho2Eg8fHaYMnHkd/JaK0Zvl4WVmX\n",
              "EkmuotGo1poBpjOerp7MwcCpohCELiSjETSlakrhdSRwViDf3jIwEyNhHfkET/9gIvnUlRZfYFcQ\n",
              "Uwe6hhcLzCCErN52BTesbm6RqwIbHOXKK0JlCD6Fl5Iom/PC7K4idAz/9CE0GakRPjWTeCh+mNJs\n",
              "ryaem+D++vfecEczm2UvFByFeKRMIeVLir/ju/9kVaEkwy62vwE+P+RzVuG87NsTcViSziBdzIEm\n",
              "/tIi15DkariN59DGdsDqEWDxxKukC+sb0xAd9xEM3wD/qrHMkk/qSlY4XKFf9v8t+xQYP1VcedQA\n",
              "SDYmOMP4Xjo1uHnpPo7fii3NBEmTJbj+fUiqWxW0iLT+hlLgbPkIOvfXiiz+395X++mpF4zfOay0\n",
              "0QdELeMpiHvTwCcRu/PirKGBXZjtI88U5QmQAPh8IsPUPUcvyxd2EbOGnvWjyVniBm/+7Ze/Ad55\n",
              "Bi7qCbcfvzj6PL4eAiVLv+EyfdS+ErkkTWxfjKeDk+TeeDtcWeyrPl72nHG03e2R5FIQaKXHqnpm\n",
              "w67hI6pugVKXwBpNv1sXJwt5N/7vT9DbT+If3Ckv8lK6SC1E+lqtm/Rkzsts9v68aGnO9KbuceUA\n",
              "VClaxS60/mJsUknszgMc1O+94AES7+czCAL4U0nyxcg5BFVLGeoJ4yLRyvB5qcPJiqm/8xtDZcTK\n",
              "WsOivLij/tWCvBwO4OD5Avz/zO/t91wS0TLO9wcLcM68XyeSdClmLqkPj+fSv5do/vxCJg/cq02r\n",
              "5Ghn/huzRXhOmjkBrUWcB8m4vlioLylZfQar/nQHugA/UG7CDPoiD7jtaBoCas/nH0d19gy4vkrH\n",
              "4C6jrx3LUDwQ4MjlMy/DDXpk55pRRCbWFjzCQRe8h6Qawvq4y92YeNTbOSRG2QggjQg7hbED7qtK\n",
              "nYoG6AzdQjLxKSMlPAC1MvrRg0Uae1Lkuj3xPFx/yLEQAwAiOTqScDEZDs5iwjrrQfY0E+MaYzKn\n",
              "XL1bRDF39z7ahY8zWoUJk27myNIvl24zhqPoN/p3yrUrHRMTteJgy8F9YmwVnTXfP3jTCLN1IigY\n",
              "ofrkUnkrOs3Psit6bwAHD759mmthohdCrkzapcn29+ErwrrJgoZvnycQNV3YtRcGJOAGf+PmkA0b\n",
              "krOl6m2TU/U1wlLrGptYTvSrpO/d+YqzCfJkNwE7joL/i5UxruqgqHm1//GpkuQxr0HzBraosEff\n",
              "prTdTNO3nRytLoY/P/DNHOCbFYUHpG7JZxqwXsZcjt71bQDyCh2n/CAqjEOiSy9uvQrpLSTePZjH\n",
              "TQWhATlxGPviXmD11hPchB9dGvKEiVxWDM6wwHk807VbTqnWdedgxmJIQ0boYbPu3EL8Bhruo6Jw\n",
              "pkHpmHNF0aG8jfl/lFzcsavJh8vCtJ61SerCTRI4W46XGsTZmis1s6JxC8FJy/G5fWQxCBcLeTWW\n",
              "Ah6lqr+Wg5aGfJGA/vNiDoiftMXxyZ3araUo/bTkA2ySREQzqVCZPsaox/Tir8Pkg1TH0mVOiUnl\n",
              "Afb049L+Bb/qfqscQd8zaeigEQ5jdX+Pbb8CbHIWPaFqbdjvaeRrkv6wriZNWqVCUPf3udA5w3jp\n",
              "fpMrQXmyD1caNxov0msvNQ93D6n7rmruiHUnMtjuuVZz/HHWWrNsZXXcxfn9j+7/7m5TWG7OiNRb\n",
              "0IkhWvOqODgFCruiyBEnBXu3Ic0S0rN3nbPor1/GW4RaXHiC9idYjBehGgEWicvCQpgs1SpxILP3\n",
              "2T9H9yqtEMy1KttESv6JuC8wAc1R88g1VmlqQuMqfkDX9ufOo83kWVRCEFxy75NQX498J9Hck7mF\n",
              "zET0LoBY4wEPYcn62KLG5adF5FmMP3PwLyeDik2VNcQZOSvghodiSRdsVTH05D/ZmBXGSndxgrEB\n",
              "MHqDano4AAACSAGfkWpCvwAMHna+LzLjbzQtcrW2dOgAX15WqdkVvboVUzeKYNoWr2WYY2h/6Ndl\n",
              "q5SCtreBV1FVB07xrMHm1fRYZ0HKRi6I7OiF8HSQLSA9TlP0v9aHfUiwlpfJCq3etRpgnM/cH7N5\n",
              "TaixPDosWHQzh7IgCBbwYPpCsnNluEkRdDdg/uKx7aCff/h5GvYgRNeJghbdKhp0PbsUBMQlwAVG\n",
              "fpGljH6iOC5VCYz/SAATfYtNwOoeiAVbLDSNlmq1pyakNxydWFuT8r87mMXE8iuhSasMK/6dURld\n",
              "u17G+XJoJBFcux05V7qScvMpYoCOe13qptAn91JX0rhUA6fCjjQUFaY3ROSAaRY1zgbe5MCRbktE\n",
              "sd7ewOngpgOzUoi8NCEEnQEEXposaQBh1QjMrx7of6lxlfT/vYjFpdhlNwZePo55UgDvwdwbmZnW\n",
              "FxeCTnMgKqTgwgLLK3LecZfE6DMLdfmA2FhBPpwcM2ixQtAbwjUuoLlQZoxBhbrcQNnHiMkeIpDi\n",
              "mKMTtQV/lc8uIb7UjN8XBLvtbisZ0wfQRHU+aZZUS+D/ZFXiaXhZMI2f9xJX9RNpVK8G4CAMwgUO\n",
              "9+IDLyvv+v2SdZzebwIGqmrWaXVrAFGfEjCWvQvUnG0P1ye/ZvONUf8glvF7BNOdLm5NOM3il1Da\n",
              "OGcc4MMhMfApnzgqHd7hKJFAE71Dnk4DDHTNwNwZZ2LOfGT1Dlz5kOiQSqdlZ6tOzgCaczxxJdr3\n",
              "z0fn3uwAACWBEc3N/fMNTimCOF1zwHNBAAAEV0Gbk0nhDyZTAhn//p4QADjex38BQSoAAKcBpqYg\n",
              "2zBRQafRXwew5Pf2byR5j6uPvd9VYa5kBR5olPXJ4TiJ1UnkoJrmXfFvNvTE3s/gTLqCjYwZwOm5\n",
              "ReBUcy4zSEexxiy44Z+ohR4cr/NPsT4EQPSKVevizS2sOJQhpjoF1u6QCsFC2wvAy2+fH4OZwT+E\n",
              "DvjnxNGJTqkC0t24pWZ0UvzgMPC+o0QRZrE21254ZrKPy+fMQ+YWKd06knacWVquqlPSl2/wKuyN\n",
              "x044fC/9xHs4vaKrlkKDpBzpJy2s+B1L6FEAITfHfZpeTrq7CnqgfXYhfeiMYe7qwUEACzLoOE/G\n",
              "mTZ1BSm2CPo7N7GKHHmT/95y9Xr1vDTt1fsHL9ySnjiqEoj768ITEs5LJ1x5chbuZ6867MN7jaAS\n",
              "dmI+K9E7nMrqSkUwHfvLc+pLNTM1r+2PH1phpNE94In0YXWu1PUqLK+xLrfS5HGJam89hrVi5tqh\n",
              "+3Ain7/B7/l8Xg+KkTfUTkQb1+mFxt0PE0nF47pzSe9b7mX+0kphOSr/iltgyi6lpOCEA8JVo/Mb\n",
              "PAa3GnKvpZHWEO3/NSxWtbeJato5DUwNWmj10T/1y521CRL2j5iOvQSclR2gopQEoJlXwzR2Qm6c\n",
              "+In5YOiDx9M88O1eve8Ch2VkAmyOarD2sNaLqCAycNFXkrE1WcaDoAx09fKKX6lJa5+uV4HrvCla\n",
              "V7UHIa49WyBzGp2tczFbRf6JLa9yiHulo03SQBhAyG40BB0O9ZdK87qPQIv0W7RMgOLukjdvDGjx\n",
              "jLrAlMhmgzrVI2XjgZGrVPsLOjWE1r7mWcYirlqW/4xjrW9Dt+Q7URgHjhOVR2uUGZeViHLyxiqV\n",
              "BLJKuVDOqkDiGcsIjROz5rmUxdNz4bUC+mDx7oqCcqWy1Lr1j+ye4AlMeKpn/+BHu4fE13KFOs8J\n",
              "zN3G1mA0jf88pLZBmjPpErr37LwV3n1vhi+O3hC70h91uTH8UWxaJ7GXvef5IdGr3BRu5OmaVbUH\n",
              "rc7Y1RXfTPm1HVvfm9F8PTXqJAUE+7e/DVrYZFpQjGRrV5M1cADCzGlWA9ll+33tUdIhLx1vDs8Z\n",
              "b4qo3pVlH6gm/uRCmmCff17Y2CfAZNFh23hgL3nBGBy1gVD+t3rxWHtZ+fBRaTpiFDmFVglhN/V6\n",
              "/zKkyBVGXQbj6Wrp/aom7hEUxFUYalCwpQFMhMCW7cZt/xIdEWojgX9y2CmjsGqTFGj97wtrZRfB\n",
              "X4F8lHKt6aJmLffnR7BThWi7GtEKdJW6zmHf3nBlK6iuNmUuCUMIiqgdYlALX+HYQyweQpfQrfqL\n",
              "FlOqYj4kifICnqid/wTNs4ZuH7+uXlDWthqfHfHthm4qwRy4ZvoqPZxqoQXEAbHVTZP6wJOcIif0\n",
              "IKypJ3nvO5uxNWLMQQtS+COljXRBtPDk+EX0U0jwOctUoWUSmt3Oic1zgZQq853toYMHlT7SKNIA\n",
              "AAPUQZu0SeEPJlMCGf/+nhAACGdA9m+KFwAF0XUvVPfXUqMB+74BR2p0vY0LPtXx33prbEn7nogr\n",
              "gNcK2LjVUAsiGF0eNkWAVrmXPBYuxg/1Ue+42YyC3UraFJBo0WVkgMGMoIzBhzuGvrzo74J/inEg\n",
              "QQiwT+7x6kKqmBVLIadX6xeaiN9fxdSsEjOBbtyMGSi8eI4TE0npniXmhF9hQ/46zcY/fcpVe62C\n",
              "K6KG7uc3TwSgwb2DIiyz4cmRPa2mw64FH3gnNOalJ7+xuQeDiuw5qtYWeCeoBzZkwtk4G5aJKs5W\n",
              "VSVmtKTKF9a1PCR0KT5JwfQwzlfE/aufcv7YaC808gX9caYn/HtZhf3rxPhmbYUT1pWo1KY+Un7y\n",
              "/DtqhZ/r40NeNxHKhsIezKCv/zd4Bw5eOYVp8RbLPrnRdv28x1jfQPDrkgJYb+bk9SH6yUb6K5Ix\n",
              "rDIjY/R/3RhidwbH6MtYtmER7x25Lw/H0EBckdi8Dr8d7HbFIFXX+gdZUvTMFZxyqNoXJe8dr3K9\n",
              "Uw9v169m9ofgvE8syQbHCSU1FF9QdOT1IVU8IN0oajPlrl4tJoMZ7HIppm8r8xdfoDnEin/wkWqx\n",
              "ZIvSGc1C/y8f8gJ5rfFErspmNnpH/TAkK3/xmXQTp41hf7lprWQ+FvNqO+H1Y2ZI6BolDXY6k7vQ\n",
              "1C5orYnpBIyfLCDyGpORWxfcwGTtKBCpnMtUJlc2PV0ZCQhpIjj6jBEc1JT8XXnyTkROJUtlpNL/\n",
              "FExeXkmzmc03vPxT19kITFnpHbhfI+WXICT2em9AVSORtZYeIGEOm9OsRFbPZCYnsBK1lVx1of8v\n",
              "UC2KuzO1OMZB3dpy2G61AiMGJA3rk87w2VMMDjL5RvJVxZNzNGWUs7nP00NyzR+6aNPTY9H0oGuu\n",
              "QRECZiDsstYXsYiuuhk5OVWhOpDI/iVzdjfrsfP4ddwLARtDFUSul+yglMImJuLw5Ku5ui7yHBBD\n",
              "HszWakdoY5TVw9p4gpezb+lkN37WnCF6hLOi/cV80qhD9cZu/FTKO+4fC1R+qAQRIyAIWCCWY7E9\n",
              "WbSYN8rPISltV/fjLJhkwUNhOK5SXop42go5l3pNnTjzxZ9L5knuIGlei+Fs3Uo9JoSmWPHGQOTS\n",
              "p+F3uZrrma17C6iZcMKFcWR8wl/S+/hsDNYD+/p6p6yrqNx1Wu/gzRSZhQsPJKWLrBQYhbId0cCZ\n",
              "0GutILdBnrLurGbQrD7L9ABnsboFg7ZgVBzeEMClOPuvgYEfJD19wOTP98NaV9pmgT+wqVG4djIu\n",
              "G6zjRncIXJalk6gfK4AAAAQTQZvVSeEPJlMCGf/+nhAACG92E3AAaDzFtps+JihhwQr8gj5JbIwG\n",
              "aMPgYIrmMPP8Pw9MTaUnBAmAMqTFeBlKNThY+SZRoplN8jMLgAi3VuY967bD5ZD9x++Jpme1bbAi\n",
              "2At6+0G7QufyEqaDi0I+NTfD+SecX2gIb4OsOnH7KJG7/sptiBNu/V9iD6MducnSgYUUGCCeNDVE\n",
              "+Sne7KAVlfHZWYcv/30zsgu04gbi5DMCXCX4YTtr8GxaV3K2ZZK+C8p/Rn0MRonxvhfxYCw8xBBF\n",
              "XLGZM64oFKiJKbf8kcnPy51EwtB0J7vhgKIu9jbXG4t85X6UWCkaE8P2u7RukMfugkCbYsBaZMjV\n",
              "hKSGx+XOP/7lDy3KNyr7Z7XI0X61JPd9UpEuaxfyUmUp9b7iwpo4QBWh1Cg+fLF3gbB8Z8Fg9HRa\n",
              "V4IKwCGjEQdfoeUDUhmN56r+repj6G0m3sTBXnNw6LGtPoQbUMDSJ+BnM+tUK1LCrAX64XfJtMjE\n",
              "3NPkDpxFCRAsB1qvXwHdMBfN6OB8XPvc1Vmpf53vMjsvjMrw7+trwsaiZKX+Hmg0Hrynbjt3QPs5\n",
              "lFue8bSmJAZ3NDUtNi0w+yyl+cDfJZ/6jonR+Bh203cBnEbYKwZTgf23bVUPYT22nu7a1AFzArkJ\n",
              "OvhKuBYOQh7ysSqYK6Xnt5ek987W3EMUII5zYzNOanLo9YrGQ4WGp5uhPM5Gk/yKgPikkBN29vBo\n",
              "8Ke3ceuppHm33Apx8mTx+HDyigcITcXTUnGz4J9OLxKq7LfaUCY/KuHTishGW5ig9ohTCKp0uNZi\n",
              "ZCGdPDlIIgXs9t3NP9gmvQEYz/Qaf+vw3SMgi6aGGgOok/HgiD3U0vukJxzWi7Sq9H1k3kyPOh1M\n",
              "oREiuSENUqIy7XIWcPnL2xhZEXYiTIJyiIEei4j1LPaNTTC9Re5/kjxNREWUj71Q44nxAzA2B1kI\n",
              "vUsPurT+TKnXrwh4P70tquFZDp9tsd7nLlZBX5vKGC0oNeEZ2Y4NkK0Lez6OTwNyQsB9oiOzIJJR\n",
              "Wt/j5DsGf1IZUroI9CR2ZnW2MboOoh0oyJDyXsaTK+ETdtR0ChbtmlOaoqoC+A1wK1SfPPU4+COd\n",
              "TANV36iXFwTlPhsPSSP1oJAXeY+jTOWn6Vs+iux+9gm6wNdAoq6Y/ON8Zp5RrcWW8jmRdpDHJE6z\n",
              "BVOT7X9IUELUpQMdHKZjgf0rpAxWUsSqcUDBr7/JH4Ijqoffe12KyJeAbwPk+SWbXy3ZKpyXFfRT\n",
              "XgDSEHLveyDps76DpssouYk5neGfapZX6GpA+Bux2uoAf9iBefBQBUHWfdQN+PbD8Fub26DpohFY\n",
              "NuXWlncg7yzXWZDwxaeyMsdU/8hsJkLfd32nf982Xbvev+kAAARhQZv2SeEPJlMCGf/+nhAAOj7H\n",
              "fwAYGAA43rwWjrzQDMkSD3JMr6vi+N4c4KSOFRXFHnnkyHwXczEsamFl0BKgvNzOhmub1r8+13GS\n",
              "71UTOsEJqw3vwOvFPbbvTZQ9nSOItDB4OeMIdPmUP6wUdSmh+65E+5T3IU/jWhpXRADBVjsoH8zL\n",
              "RiROgt7niinR+xHi2C4kFO3R94NWXONvYtLSCEcYRkqIO6XHB8zgIWV5NXZy1sGeQEvqPABVG3xY\n",
              "kcUia430WUVsYj7z34QyrMtAd/weey53MSvSBG7IL+qGm+pMDfDDn5RgKaUabIVmLCfzHy6lWv9X\n",
              "YY7JdiprWb/ryjRdt/gxzydpI/xVwF6mEA5FBXAanxcIO/QtO0OyZEcxlcyr7N19wPetdNpVSAG9\n",
              "MBqIAQwaBgakMLuXTrsLM2h9LSBmTle+2jjqabpcJUYFp8EzwliuqUgs8FEm5G+m6nSYjd9lYnqP\n",
              "3QF3/tFLobJw5Gl0txFQTz2CiUkSCglBFMiPgf046lmoq4UXR4zX92gGRQ5rhTq6PR3N3hrRmPue\n",
              "npnHskLo2K5KrlHtqE4gcuB4nM4B1+m6L4tLahjx4HaSn25eFfmYqyMpW6JzvkZTOtQwtI5ejy+k\n",
              "ml/lcxYjpjTXKEWB2Vs5mNWp7VNwVYRGACMExOI5AkUjUA1X2MRdGzp+Zle5BQSehMsx83g0i+93\n",
              "2BKCavv4VsBNdOkE716PJdk0BFU2RHGgA9tL2CCv8HntAk8zvSrG3n0QFYp53gey3G4yBwarmEPs\n",
              "S1iDv2J08SS4fj+L+y73rt1fbJ6ftTVoiqd0RK2AUAmZJBSrdN/yKQA1C5BrD/eiaAFfSMXbQx1w\n",
              "Leqbmsd5y2JhUhBz3y1QqoTGSBt+H3QP0svk8UZW69HFz7mvqZc+tKLVUSHb6jKjIuv65DtLANRr\n",
              "vj64Uf/a6gFNGlnEjlAK98JkUpAyvcq47+LGfVxqh25uskOtMVXmcRPRcb1Aq/bEVGNxb2dQk/d2\n",
              "nn9C3BysvlY+8ADPolhVhTn29Jxk1/BaVS+zt87HEsQZS4xo72GFDDAzd+oHvWusMPzp7xhideoQ\n",
              "1xpcUNwWjZrpepfNHEZcdqqZHZkSa+BWWM+3jSGOsB2OE1s8fOt4wfopJcbkQkO0IiVj7LynChUO\n",
              "mSEow9dOrjwNQ27yEw83Jny0KB5VuOLcGrpQliIbWiwre1bnVJhiPq85EsJ09CLYDnKAhBnKnRdG\n",
              "FX9K2tAa7jzpSp6L88sk3aYNjdmlkU3tJUcgs1IdMUVLlfhok2ZnCtnmqfig+SR+UZimfdS+q9eN\n",
              "axBW5HoENzYU0K/5WtFWg1/h0/x3Ttx3L+Sbc59yMQMi0BIYLLI+t7z4WN9Bu9d5QxxELhRTusS6\n",
              "QrTubgiw/jbIMDHDjwK2B8zpprNVqhhfXtCsuWXH6eCmWu3lgUn3GvqTTCMi0kEZgapdsyOgrUdQ\n",
              "8e+KCCGsvrfVE/r+7qOq6uzzkMYAAAURQZoXSeEPJlMCGf/+nhAACGbfN7z6aCAAL15hZS974L2q\n",
              "Jfpauytv7IeLSTnu9FombINqFL71FWC6URLHUe+vllL6UVUZeVQA6Cz2e6/kbnGZuLwOioxxd9pc\n",
              "mWGGgdDX4ZGxhRxzbVCIIylsiwRzSfjoUf8y1OJR/SMHc+i22hoYClRkJAnOiAAgEV7B4UiqenhP\n",
              "oUJF85vLNxCb8EKKHJSf9Wrp3crSFpXPmE1FDQ5IxxYHuFHwKS+MXjERTu9wY96XX1iQ2hz3O9Rb\n",
              "Ne1IubMNmxChieZ66C2poAFU4U6mnRuAGJfsfI583L+0AYpjDbQz5GsC4ucD8GR2tfPOjdxTnvaz\n",
              "XY+24gvw67jyicvww8pDyNyk9C6pDW8o5bWiCGKQcP/uiaoO8iYvdpn+wrhFh3zyBKcXbl2UNGX7\n",
              "HUqFzIRiS8eOSR0Xzt0SkjFL5Wb6omi9vBZvyNfKXRgRz+4ETTZ/pnve5eBHgIiqQFhw1+0ssSbS\n",
              "AUWSgQtSulJB2ezIvVxQfIRk5RPLL0DZtVbjLNqGU29lcCkl83t0nfwGJir9GkVInzewD314+WC1\n",
              "xsgKry8FqhR6Tv323lzfO2U/X820ArLghR+qnhCbivjcN+hYYMvLMAlxzY3P9ktLyh7DAZMwjDnp\n",
              "yVLWRoK8VSJfiT+LEEP5K3mo2qPKbkLwcMFdeJYc4cx145Qpq3dWKAM/2DhBaBRYx5Jxh08S2Cvk\n",
              "tTuw9l4VlKpP9kDYf9or/Eb3XxT3XdwdpiAyayc+Bc/+PmyHT13oiTAY5V9oLdaj2QFqV93Fsauh\n",
              "CMPDZKVCPv29CnibhIdskv/NrV1Cue/HqiXvTmRskC7oEq7S8ugiiFH1wC5KZfBAy+XV5LWMh2Jz\n",
              "ttAtwvLSEZvTdZMbK/h27s7hoJqjXRgqhcF/94Wc4OOn6mK6VAfJ1MiA51d9GElvZsvxmJK3unQ2\n",
              "ObHfXev2bPV3EnR9KBWJ23T8GX5xyiWEk7ZS3oGLwrUhrC3B7Uo8l85KqvdrZC/2lyMCdaQSilhA\n",
              "dA2LPL1r8gP0Y33OFXjczJQME0maj2gvFB1YK847UP+a1wSsjngpxzC9D95i1SbR54hR/JIblhz7\n",
              "2ftaOyxdsunQJC3h7g8i7pmSAQXCq6ycyv9Ngy8iAyzfb18cclJSduzsbWoNDf0m6kB04rTz5TVp\n",
              "XJo/vOYe1Bc5/l76qDzsgKRKfPazB8LT3PRSv6n2tml8j+gjw0ivY3V/2xi7gNq3e1Sir71SWUzN\n",
              "Y3BdaeqaHWG7k3HFElvCWu9lmW4wa7pNgM2ADQkVX7e9EjJeCFegBrFcO1OKzVJZlPJ3h+m1blGC\n",
              "6PZZSLNyx3T+fcxbqcAEjSgtsJ37RLtE5HLMN9TtUGIkQ1m3mLMh6azIRF7ua6h67CPJL1c7D3UE\n",
              "rZHCrG/d6p2XiZUiwk8RV+hyIRg0AsvmYOgsdvmrlnTsWJCtRuzX+NCT0jBA6PWBsEXxV0CC9t7h\n",
              "jswSPSzNBIe/R0j91kdYipcEmgjPQGtqVCTtOPaabNVKHbph1yQFwmx4MYa8HoiAVW9oP4MWIbKd\n",
              "2IN83BAIHTOGytBCW5PFLgLdON6M+wxMAyQW0KofHivNiPmlOcf3myXeVnTGPtdj7o48JetKwatJ\n",
              "NPZIPWYnuBK5gq3laaIFX2JDLisPXJoFKwuTfNXUAmi4rT/FEkvHbL1fDRjYBo25hoRWxEAFgem3\n",
              "OMi4NNhNURBYzQAABLZBmjhJ4Q8mUwIZ//6eEAA3fsd/FUbaAACpPKJVO3Z6jIHSoZ+Fjpxwkxrm\n",
              "2KGZkmYZXuYsPEbq4VBqh8ozPZbb++qjBHucITUb/oAIJNK8/swbmN5CFqDW0ZwFXiWmHNqfxDNc\n",
              "tuvftJ2MNA4SunyJVvZPh0WPPCtunEbDdEGnNMn7OogdWlJZdZDHohe2bIlL7GaanwwoyEJxSLCG\n",
              "NUm9kGMKbM19pv78qPDwUSexrlPmK+VgaRBBFJPQqoBaM5MrkIKNdYLTtjkskwArstofU2oHnAZ8\n",
              "h0kHmKve+aHaAw0pq1IBUhePGmKGYP058u7zsml2XptOLH4oR86UdZecOiBFRLqYOp4pVdVqSkA1\n",
              "SPzactd83j5PWj2OWbYPVvKWcUq7FFptFaUToGFsjoIr+mtW4yIM3uRuIBjKFHmJwisH+xsN4OeQ\n",
              "X/9Nm/wOg+vOqfBnmFh3JHTiTTVEIQyblppamtMOSwGmLFJeyQzLJ7BMgvm0pph2UhO6YBwxB3gc\n",
              "ypHMnoVQuyMUu800MscTZtePtxMs+iUieU/Y2bTItk715e7fF0rIbzYGcYZ4A/AeCtXlG9l/PH5A\n",
              "QS1OSZmwuEbQOswbKnfSIjXztk3d9Q855oZlei+r3QO8qnqKZm+Vdn7JJiCkTPHhnpQbPbWExsCE\n",
              "e3PfMblObyXWkDoRksvRQJ5tsVcrQNHJ6wJea71H+2zAqCarBFbvudpxlzKWvIUMK+t+/yWR+Q6+\n",
              "nVf/EHnIbXxiVacz9ETRWo9dox5KzZfLY3MdLUeE9wm1RMijYz3B4bdPDTANfUtiqRZoizc9eGyh\n",
              "nN7FEKfOanp55if8cL1ZFxgoGEQJMMsy8U9RcuBcPQqvZoAcLifklvNJhlunAYEX8m3GINoh2p3J\n",
              "fgcrDBt8xQsdHs4iBj23BngwRoQ+OU3Ju67jcZ4AWxb/4qjAJmO0UXiLh8UKw0en6x1pdrwe0uGK\n",
              "EwG+CGkQBKatBvkL1fo1uf82TeHofpJ78Gm5JRPRQN4Q8Byjv5GqB3OfLMBWn3SEl7SssMAuL/cP\n",
              "tGYqqsb1MebBjrqvdRor+/IZ+ojsxBWLg8bD+7imxRPk1TIve/JEERsSTWfczSNXc/Wp/c45PGZq\n",
              "KOStsFNzHGpiDWSPRCGduNyp8sNL1uLz0GAEz+E9LvQrh0FxQpJ5tyQZyOqFXTejWW4u4qqW9vH4\n",
              "ncfePpd8xpg77d4xi/IrkPlkw++AvCkgdPlxmic69At5T4JPESVygkAUiI4nYDvXCQlcFN5+j4BK\n",
              "7psLItQf+TXYyv2OAl9z0VSqe1Neit81JJyU7YkbETrPnVHmQ2zEiUn54g5HpCIJ+/NhrJ89KKzv\n",
              "9mj7LYi4WxJGWeX4c97cCYdQuusTLTRxjwSTRoaekVaW+UUsCdcENMlWi8CkXYlTZzL6+ZbeWP3M\n",
              "de7EftPrLLumSauSpUXup+A8eTnIPhmvien1Q6UWGoS0qlofaMqK89jHL/FLh5Aef+q/mLSgvV1E\n",
              "BasOI7Gop0+juuoSaZva/vythJ5b6CRIWvfgz3bp8sSYaF2aLhvHbYFNVrNFiPJkq/SQqwAQHaAc\n",
              "yMyd+KpZ5kpOdN5Dkk2Uhipw9WcIw2cAAATAQZpZSeEPJlMCGf/+nhAACGz1aAACl8TuOC7Rkrsk\n",
              "bWhYfm5f8jbK7m3+sVrgA4JGKjVUd61ujKjHYnW48Y2Ure3HEmwX+GTWRTnPv6NiVOh26JraerhH\n",
              "zrkHxlGQT7MQNSVYOEEt/ExgU/czAkRUGZF9Ix07NKikL9y5s/OBctSzsH6505mScwmS+2k5EPNz\n",
              "Bz29R/1FHbr47F0mRtgHua2Sh/wYs0GejUfqQUg2NmpUw1NSPr2/7cqpv99zCzB0qdLubLGvD5Hq\n",
              "Q/6c845uqErEF7dsEVgpWH+621W/BV2CVYKLyZ8BNROYLCOVVguWyjazrYWkcwgJr88oukMn00e3\n",
              "QU9z+cqqUoLr0szf7EpcYAlPXlde4ycVbRTmQsM4goZ0soyAPSy5g32bHaWkSxpLzV2W6J51ZXJs\n",
              "5AA+1KlbTXe1UU9q8bSAuGGjjZfY4hIJwJQYFuXQjFj7QRU52bU4SLwNVXEaZR1pczNj2+hEqclk\n",
              "GqiBs0VUGbKmYGq9tNUD55zFGmCYT0xRq+hjDPrZ7xsn6r5UG877ETCwTBk7Q5WHELi1H4vUe02L\n",
              "OMu1ZOq4U0sQ1enWHdlVxfDf3D+psJ+sMGwKblVAa00FUgLKqSTX9p0RD2OaSNLsTFRB6yyG0S2A\n",
              "E0tYkAyGRBLOW8onEv+gXcdj7LD6B6Hf0F6af+Y1x8lZQijldvq/Z+A0MzMBambifdfuxm8nHo4U\n",
              "0VWm0GYWOBExh5ffaYq1x0aspgiWwDTI/bSBtoWoyR9IdjRgIUO3o0yy2wS28dacFBwk3MyxZ/g1\n",
              "utD6raQuaMHdkuHWGuGWhTI3WZ/To/XEiSo9Et7T3Q/y4/4YPFTEWwVbWD0z6v3Q0BpjZILsggRw\n",
              "1D058GV9/dzC61xpsrurfz1UejhL/LYynuKmkFrKZzd45/jyfbMQmdoPSUO8jsW7QFN79kZfHi1h\n",
              "S3aUsI/6qr2e+fKig7ikscGNgvRzXjFc2G06/V3rEfR3524XJKhQPBNXdfElgw3+dH7Gk3HI0McS\n",
              "QssCw3zu5HP9+bcLi3uVwmZ09ZQpct+RKhRCzPXrFGouqmP3zxjimA1q+lJewQ1JN1q3SnoUPpmj\n",
              "O6N8oFQTxnxcV7iJEUlq/tfrzpywkFTd4Ormex8U1gtupeZOejXB/tQpGiUs+5Dt8xwPp8Bzn36A\n",
              "1c/6F/oE1jIk8AD/wAqGkVfiS6dpv6FOUTF8h0cUtSGf2Sisp1IEyK4yRdyLMgk+nKkjBF8bibP/\n",
              "4XAkiDU5XTSQxqXhuCNKevYQTibJZnp3EklLTCUT1L8mmheeyWS4A5d06n23Yc3YZ5IbqvEdiaXV\n",
              "L8NlSsbX7FKUeMTP09cJugyJaFkOgk+3rUsSPsTvyR7tfLLROEjtO/fzWzGVSlpPJxDGiBK7P+W+\n",
              "DFN8dyJPdR6Ermu9nBctMwmukD0rblOfdG8D31QCHqBVP1dkEcSjSylWtC6gbsBiMun9eBgxnt81\n",
              "EqborO/4/hCzV1T+itACOXSSK64GIxG6a/T+8eb3I1BYGJnIJjLufGuHFAuXpfEQn6g9cC79/B8i\n",
              "+k5F5/siMlmAZ48NdS9QhPQH/bMIOmLt/PiSMfynm0g+No57vbXGhANHp5i2MAAABFpBmnpJ4Q8m\n",
              "UwIb//6nhAAO57KfgtpeDVQ7zGeTABIj+qgFqu+pylXlI7baf4OGGt0L14cTc903LJNEPtX/4BjA\n",
              "zSqLCME8LsGgt9dZ4OpB/Cf3iSVI4kmLE+E5Ks/UeD2mCGeXR42tsZR228lLYjOvTM5QoNNU11rN\n",
              "jcsf2B4TJg6YxIUEKRHcSa6ga8jTg7VqMlUylSRsuniDTC3r/oROnRAsm/ITN/xMxnVGsDMDgud7\n",
              "cnyqFR/2efJvPn/7PiNkvYSm8KiZdZyHsYe+Kdpp9Y+7ueceXHrOvFpbhbqSV6k26pAlO+4yL6Jk\n",
              "ki94jMSLMS9diehlx8icdESLWSPnl6UhiSivCeEiFfhUZEJoskFAuRZIIB4YCMjgBObLsVKeQLZw\n",
              "401Veok083JBJvmDoSDBMkGl0OMxAcHhqLBHNG+Jdx9jVgnlmuF/rX8+KjlvtTxByKpXovp06Pqa\n",
              "Dp0qRP/0808qsLaJcMdPcX4LrJspq5cXMbF3gh9bfB++QNyaCmyKJoCqnpH8bgZguAyNWhoMt9Qw\n",
              "eUiO5IMhKk/e96zXj5j8wa+FiR0ZSjVa9FQ6HbtdKOdXxu4Kqlk22B6BRZkQvikaIofYpYU74x81\n",
              "G0xTNBlbn+0LY6iOj3tsrWYhOFYN3i+NgDtx0UY624QYX4OfOJ4afdm7aV338tUX3nXnSC3x7hmM\n",
              "fDBPoCWD9jVJMKAQyqx8DgpkDbnQqxXOx0fzU9zQ2ZSJ8LUCObP7BjxL91CMfXwlRgWRjHNI9a/p\n",
              "2q0tgQYyByPzbp4bb3WLPG0At5Wq6ZRyMTpgdXeWY8vurayFxsMoEpak3GkpZEBtLOpf49I89esr\n",
              "ajHKPg4o4TAylLI0lPspPvqquHqp+uE7Vuvs3hWFLXv+DPR48b/d01TlkspnHe3smgCPeGIhtUnV\n",
              "9fssdiqFv7fOdpURH8LPOBU3iySzK7Q8heDwFU4/jhDrx6wzF5yF4PBLGl4yKkuVKVg4C9rz+7y6\n",
              "9DRu6rOvmtWGpC/gJXAvnYcDPtEIP7sE3Qv3r1IeXXZeSMjw1XoBLL2N1g2bgPoal0SlqgkcVzjV\n",
              "N0VxF6KfqutkOvKX/9ClAUWvSlynCA1o4fKFIdTQ+Z6Q74W825b92jWsrg1Wm/6fuiK0CL+hl8IM\n",
              "58EDBK3ErR+9K++Wbajt7dVuK1q3vyi7vC6kgO7zScBg1aHHlI7MG5vHajE5Co4IGiLl4bgKZM05\n",
              "Fqf4J0X5PyBd9P/KYIEjwPqNykX4/DI87HjVfvEOeN+hhVXkbTRxtZ11gRMiPyzn3Bik+l9DFofe\n",
              "Fwni4o3MGLFrYK0LiQ4taFwVsx/xO4v7a1Pg2+15wkC5lI6M1yulR6JUHY5nZ2mq3261WAezuINI\n",
              "RrCShJfyLFDrKBPQoT5OaI9AqnHbYdoNLDMks/M57SCwGgUEHCogkAUZsalYtOVftdF4LUjrl4yD\n",
              "HA8S7fRdIF1g2wx5pBkHqaz5Ye56r1bbAAAD8kGam0nhDyZTAhv//qeEAAIr3axggAtSaW0FO5aZ\n",
              "7J4YwtPmXJxtoNRlQ1zthhdq8S2hI93R0utH5B13Gt4HhYNa5TY/0OwjnGijyOz7IOFYShIJLosA\n",
              "rKl3HqftJ+feTq2u6LKAVpvG9P5ivjGlCqrI1nIB9gNHKJhykHd6XpLjff5vN+2oxgEdlqZtUEIo\n",
              "dOJEogMXl7BAMlCVgUskghm44HZfvRJwn7yLWa/EQpzov0280z8V3vfszIVFNcWTDK/3Ym3+t00S\n",
              "dCRNvasHM+emeZM5BGFdu1uZw3CqRnibe5vHVJM540aJYqk98ACcZDFbWZeuWg2ZLxAboxTRJV4D\n",
              "nIjTnkj6sTgAQKE7d5UGoq4pYqmdM3PiQb8LVOeagL/jnkcoS9B1nU3XiQjNgC4o6gDouelnSymz\n",
              "4B+wi4eYExlXHYxu6yapQ6q5H/p2Fs7EdOoEouvXMJmgcDqM9vUdm7SBTbY95tgMtRcFDvnzTIdL\n",
              "x6wzka40wjCCMHaRv6Z2oZKaiMod4VVq9kOlwqYxDTjMDfCZbg9AlxBThjFmax5WzvHlT2HVkxva\n",
              "SoPXjQahxWB8dW7JdLRNVGF6dP/+4Md5ycRpBrR6Lc6Xl7F9UdnDCuHcGKehZEflYkRwR4v8g7Sx\n",
              "VIOWLrVTHK2UY65+IIW2OfYbbIKHZHbrJnTtx1DEGwa16c5boXnYLBnReirrd0bENnri1eSte/kR\n",
              "NPT7rc1KeyYlnkyCSPZo58Qfzi9T1HHfMoMParlWPo1mAuYCmf93yXEzviaySDxHhShapFsm829u\n",
              "0ah7I30TqKhKhoE4lZp8Xp0dR1xEygCAOI1OAgoQlDN+heJCEPQS+7yFkb1DhiIDZxujOG0r+4FS\n",
              "5u7bHeRKx2iMuNZr0USfVAlhpYccG60SWNc8GTE9hbv7M8lr/rsF9dEdsDmkz5EwKg/s3T/Q2tqq\n",
              "JS9VuwQDKU1GIUl0RGVJazktAiVfoyAr65zW/lpK8DajSD4xHKjNOuycjuVKuyV5uZgDioxJS9lZ\n",
              "VX9rF+DQ9miKLskfD2bqBmuhFrQBpzWow/tfDHahKhcEGR9uIEBLBIjMhoLdKsm443eptkWnSBZ3\n",
              "51ZvZko1oil//wneQo1mzFsDLXfmsCrCEhDsvnmTlU6cm3RkUhwabRUFnGhemdSMco8IOQNJTVov\n",
              "m4FaLeV4TE1dvSlZ55OxfiS8l5pZkw+wRvAjhcrL16e93+XJmmhtBEVdUlW4Ll7Guv4Ev6ICGUKA\n",
              "IKAGv/89Y1y2UDhrKvU/gNtmpM8irrxi82zyUrvz4eHZ3PMoxw7Ag8SBIriTyLztRrZuDSubqhxg\n",
              "MlalukRsu/Byq4VQAAAFEEGavEnhDyZTAh3//qmWAAd/20GYbyoYWNBfSAQRHFcbrDMxG0u0yC9G\n",
              "1/FDtqrurABrxcaOri8CvzQjmnQ9EW5Dnj8YXctyoplbvfkOBUWOmVzhXTA1V/NcqKfW13muo8lh\n",
              "vPXmYrFAKdbAMVtMnOVn5me7GOXgBPBqaqud9nCWO7kgAd4y1gJL6avPixPxwJOR2QyV7lAmdbPh\n",
              "xI9ZzPcGGKmiMrR+/9zqLq+g2RhSOG4Pa3iHuoscG0479JrTxG3SKKJGMhkIME9Pfb/FOPJsjXBr\n",
              "g9SHPRPpwSZk4cIb3HFBkwScyvP2kkztOyjKtiGtChzCRAuUQp8Emt+dZhOrH+yhm9M+22hHUgj4\n",
              "N1hGkxVQ39ipVbO9M7laPhsdDVhAC97ANCET/AX9n7cyWMnSalQzftsWfbmxY2BaHEUbKeUt0S4r\n",
              "1k6NoI3mUHV0QTZvbNEy+7bcxAZ/l3rBBR4uneVHlURJVe+rU8rpn9lg6b2sAidFxq2z6b2VM2E+\n",
              "o+k4AhJZu/RD0yCQzdceg6TIc0xMXu8sJ9iAVh0+V7Vg3rL7xHjbEepL8wpy2VPmehbKS+SWbIXr\n",
              "3nDe22oDUAFa8K9Oc2pBNpnKl/Hme1R8yj3mcIUCgTYyjlpgcuR7kJoHk8FmbrtyP29lzbZLp16n\n",
              "H7O/7c68AuWfBl6KWaE6jO6fip7J1wy4wWF+d62goJ0MgoenZGnUJ7fhZ9BQKhANFQ+ONKUdBmJ8\n",
              "kRljhBCt1tg4LVltfeHsP4/PU48QHkQNYQ4CFIDDuJYuFmsL8MRFpmAMUyZW7ZtIcFNsh+Dp3wxg\n",
              "Rw3znojJm+OmJHvp6KOKwNCsTeyO1KDupIZuZiuCjXmuvK3YH0h3PRFxJPqK2THCVNKGW3oSk0S0\n",
              "VB1B98zUsMywd00Tmk//n7yb7SLYYNbJMSHLfBQgEJe1Er4s7JrIedQk3FiXXe1kXF1LsgIiFL0P\n",
              "VKC6IpJw8iGqmbcy6NEhBKPneiM/VC9B6A42y5Sm4+HNKbnzwxCM+3wytWg6iYyeVHbuqSm38TWr\n",
              "RCZVAdXjBbPE2eLkv04X77K7hXnx/L8ZLZwQYMo+hjgMXrrSMP2h8aIWhKXuGHzaj3Mou+sH3Z8/\n",
              "2VUfKB4A5BWLsYS23rKn4znLGiDD7MxURMypdq1cgJGvRxkTrswLiQRuyfYgZgWur8BevlqouZqZ\n",
              "WbS91URDgMB+GsNZW1LpYHEJZIR4iIf0EEGqr07RCBCSDRUQtZl40N4OFjDmDWL5F7J3QpgJctdj\n",
              "3DejRBe6EhLbOiCKP0iyByOlKSgMHuAaTd/DK+DOtrC/hqjWvNVhOgEQ0/Q389jjPDQzp5Qbx2uf\n",
              "kF8F3oYR1l/FwklGovnd8360fFDNXG4N2hd0ZtYoT8MSJ4xEDGse0xrjGawRlFDa/1J62qJVbnSV\n",
              "k297uVI0eHFjbt+uJGtHy3tnOCsWzu1/vEndt8fQ4/8Gk95QcLhH0cQEdQ0CkeBQx2Zq/vdt79r0\n",
              "2q0wFqnf/Du4VEHzfr5m9jsbnt8IDTY2LJJGqA+8K4/9PNFeCiXLs2RARuoud+oDLJNCrK6UfaW0\n",
              "h5S/IImR77AASa6pw7CbgGVcYQeIdnVFI/z4LdWSq+a0+JNIzN8e8mUIGQWKQuOFIuFF0oxUf/pI\n",
              "R6td/Usb8dkJCxtajEwCsjzno5hJdR+H3Ro9yz06RHEc2BoaOzlSPyvkSXxggiBUW7OarYGNWDNW\n",
              "YQAACQ5Bmt9J4Q8mUwId//6plgABF/y3M9tKgAVHmHCulMFEcmiNANWzLE7ZlT64xiUAmqZivGxl\n",
              "Axd9+7mZNhxuTKOdR7kRoDjY96mSac74mkFbxEla5iI04GdfbvOkRoALrw38IW4aMNQCQAKaLyNF\n",
              "Hjel8cQ6NquQ2QwMGTDtsYJptcXFLbLGblk76zOA8nvtldRBPHmnFLkAY9ivwVpTUuUNnNXbZoq8\n",
              "0yhMoGkTw1XH57TgODQdYyKChdh1IBRHqeHEUHPgcBSD4JQ1CyszUtcBJZUt00Lol3AqCvDdMs3X\n",
              "vQNo833NA7MyuGspG60Z9T+U7s6CX09LZUGPtjDNfSpNbuI+RMXPbv0pOZEQ1ScUJYAQP22+OwHH\n",
              "IjtRg+nvnWADTG7eFsBzkffl86iIAISdldtt466iwCsvn87EqXvv0/1F5LZKxGOMqJr61zMagdnW\n",
              "QRTbGrKyncKp56gs+ZXgrI2sIJa/AsH3ypIlDQOZe3xhkLEw2Ehqi66HeqvJ8tt9aGOCq2mgYAf0\n",
              "gFT8oiFxIgRnyIHq8H8CEwEArpJhUqPzFT1CGDn2Xatqj6TN+hHwnn0jidrs5O4C2hOxc+BZQF9S\n",
              "XWkbOQywfG/eSBpnKvHRKxgMi4PTebsqaatDBgAlTD9iZbh2hxScwECpPvB5KKwHIhzlfkuG/tdu\n",
              "b8txTBBMCRC5lpWZXdT9XVfsa0JmO/iHAYSHPzOolq2P9JuWTsc7upjs93dpXNAyv4q4RHQsl+Ur\n",
              "QqBc0mI0kfZwGeppkR1k+dssyqmaFiDPScsJmrPaxn0UGh7zl1SycFF4/OlvFm+3jCeywfTXJxqz\n",
              "CNr2dF+LxJ16zkIjFMcRr3Ca4ZueDQUtj35nT2Jdk02CoudOVVsdBK5A2hp1/3YrfKwOWCg3Tu5+\n",
              "OBD49uWBEWi4w0/ROOQm567LbDMQuWEvAFdAw5PoCp8Jf5Pn1sDw+tI8VSp0xvXwcmnBaZ8WvKSg\n",
              "idKJXvkF9xIT6lP7R6VVhbpxpCZEbOvXlas36t5QJhBJ2NG4S8NsCmiCbhKANDSl2luid8dmKhDX\n",
              "rx7m06GgXGr2+ItqR8jE0Y1TtpCKmttnnRkTRs6vnrvYN2QR/ld76vSpftqiaSmgpli59pJDkAET\n",
              "6T55OtrxXrCZkCWTaeUT7g83nR0g8wSeZzzRZRrf+IN8sNpJDZeLSWGWqm46MfWj+Piaq6BYKutK\n",
              "nmntaYpNH+Dfvl3S0pY2st8nlN6LcsZWFrPchfdG64hoROYkEIVUy52eVRGZCaw1o8FWEUZOh4oO\n",
              "TwstGikzHw053/IOS+AiBMSW3Ijv7UCkvNvTtNoJ0z5c1GamK5908zco/pkx8MerSIiKgVIC5qIQ\n",
              "uy1XEjhY88zqkAVbnNmS3jogjVmHTNJ7qfJDDKdy0Ttwl6nV+Uov4VHnhda+zfGUMgFHQUt9x72R\n",
              "h0BhGDf/+/jUj3/16PGwA16/GoweI3D7y9C9pe97x+h/8z2Ec4F82nLJ5F9M3MWdhZPq+vgum6YB\n",
              "Yfy/rcmCtkToWTv1wtfb+gim3v/eYs5iYpnp/2N8BckmaM+RV7n4yocdvsMNMXqlv7QBTw7J0z+b\n",
              "1mMk/L6hvzFD8B6B6zIjfpZrGIevHHcZ1sD3iO22sgxRQOwO/s9/JF2lEuJDSAxb/3xA8wTVKo4e\n",
              "bpLAH+j07sIl9hpd4WelKvYTbZZHk7m+UiUyU3MeNgIlMj7Dw7CbOi6Vh9ejnTrH/yIYM8/JYQDm\n",
              "1aq8fEgm5HobqsAEqVPDCWyi2BMq5PGgPTNQJ3v//njiK40vMkPIhVbwu9N27UGwDGC9INlxpTzp\n",
              "O6GF6KA+ndElorAhhgU1OFf8Qb6+MV8hJv6fi+DZxTBIr5VJZMoB4uzp2Q6o99QSvCByrs7Jdi0e\n",
              "Di14iil1+P8VcIP1cGj9QhSbscI0OVS7PiNJBBB2eLj0DILvCQgsjDHMwzQhkFURm8sxrI86NOJt\n",
              "SFMRPSLnhzmd6Y1lXOiIb348/pXMzwgYAk0oUIuqVQFMO8mCqQr7kRqIioZEke/UVzSNIr3PV9eF\n",
              "/L11hE54kMl6+S3+syHc1SKWVeKLS/aD8QbgmJjj/jMOvESjU2MztkyR0KSN1V6vmxZaLD75Qr9G\n",
              "pTIiMac2LGr/cqj38J+YSCmfPrGog6Uqg45QPDMy3+eors8wfznOkuquZ6adNNvkiLuFWdzj9Qc8\n",
              "M2oy6G2daWnbWKBJBytREToLa9dtBdK0oIjHXdQpK6xbAO6f1bfNiVOO+u0XfkMNarYgxTYYhjQG\n",
              "u942sptXv9whiEb5PRauD9Mq2MeXsz/mymYz6rwmdyL9X4w+ckTBBbiwlG7ce/pKee3zN71dJfW1\n",
              "ato3tVLaxmnKKqN092P/k1yIrSMkCtIkD/ZI7Nuz6MFa4T47Ar9TWtCb2CFUGEitD3WEJ0WId28U\n",
              "NDcuvp983oYqhbe5Dns0QxL0q+PqLDI418i1GLk9XWEDh4yjSvAsnxNnW4LoDHwoFqSWGdxhvOtj\n",
              "c+AeZovq47LdW9z7/vVZBSLrfpgMvvG9sHTDVdN9oPd50/UM40lZxW/mk898jlGapZSnmNlKku0W\n",
              "OB2ryIOuHw3SRu+znLBAUTnlbZMBW1gHDeFAVU627Lngrv9aCYiK0Wp9HlCncPAjWZoNOQ46A70p\n",
              "PrfFKxfBM6RsClWKm0L9gDTVBZNBoTgROjwJbIrIQRK6qanZa59x8xtc8CIr3rtVuPx+pM73uCUk\n",
              "96XExzEAutrw33MMQKzULl5lAWCwF/8jwtKNazic6/lvGSmIwXSIldjUVBVk8mYQqbvilX4SCT9p\n",
              "NKBz9FeqhOreKEXTHVaDvjiNEv99t+HwPl4vOkIXAAXPq0kHaz6jI+aXLadtI+MO+VujHM03t0YZ\n",
              "USsSRmI/20YVLDCk0h+8ZmZU2Dge/oViH7KUyP7x/bvUAK2+aBjqhCvwY/MJK+nvM+B6vCiZaZ+0\n",
              "VPOj0WmraY1AR7rTY/l+oD+QHslJ7deaqCb9SysCosor+pOkdpZ8ELgFOqpLpVaB5k1zjDmvOzSA\n",
              "rrDfqwmf6TIT3FlUI9i7fNqEQj1wFU3Qz2sdQqVP3lEfJAL+4gRdXpo76QAABKlBnv1FETwr/wAM\n",
              "5YU86IiknPUEuyTpoExFvYmACIM4AcKCFmxbTt6po0tYA1a6lsdXhy5mqm+A4gdg17mPknEQHtQc\n",
              "6GlnRLxrmL2Af3aOm8aG95AhnMYWO+HcDyHbS6aEqp58zteWHNOP+OjLSSuJU2dboA4sWjnkjSrh\n",
              "pmaW5K/gnEoVifbfSNiBptFXzjdCJu21REpyqghDw20bxxnSnwq3Fhk/nORPhSqm0jVu6TWEnC5M\n",
              "mwiOEiw8cXgMOJn9KBSFXT3nNhCUQCJRpWS/1fDpGU77/T+0ktvNWkAVtNYHh8SKdHrf3pX3Stsp\n",
              "2H2xB//6IOH8NMqaAa55BzUOEgF5fDIKANU3OojNss/Pu3Ni/ixZEK7TNUJGAQih69mxpt2BGjBu\n",
              "YMdsFJswHVSJnaaiVSWGx2EaLPlK0KjlsY3BOCUC1qsmUekdp+qOxGPBTSWmMYuT9CnexSivwvmx\n",
              "H3Nif97y8ad68Y/z2vhB0Mz7lbtqPSI6HSlsuvlXGkzboNAGUh2ZTh9tiAsFY7eIGiSMA9mzP9d1\n",
              "ptK+/0yYAZEDbZcQnfMu4O52ooXjrWNXoRB7UZnvpM1wxvgoILTaiaVQScJLsWS+DjIGS18/6IoR\n",
              "73BDjwrHqUKDQvh+jAVTLkxXQbhiSX6ctKvUZA/Em11/+2bLmIa9+kAniwWEooUxkPgncJdo/AVy\n",
              "1tBLZc13NM/+6EMLrOlZBp3Vaj8hdctPqPC3cJ0MnD/793MYQ1ehXfyg1wAVipeNvM5LHgxSlKun\n",
              "JHVlO2MtqlGZhGBBWlI2iP21VRprBtbpc1N2TZ9ZSn+i1QaDKleWWGzLlXhuWS+H4kafaziFJjzY\n",
              "ijxFecvChXIoRk20oVeatxhztmnYnM35Z9Vn0huokmNVnQkooFv0/jzGXjgEqOI9MDZ0DONAW8Bc\n",
              "66vV27NrG7Z596vzkJ6tveKAyJX/54t5ckDzIAKCK3TLWxPY61h7vac629pHKhnzDAVh7AWXRqX1\n",
              "QlaHAM+obBpYOzp/z5CxLwCILm/A+/kmWNItoPIS+U9uU1/qD0P5g2UnHNJ7cafRFs2yT3B/KTDa\n",
              "R+Cps4zn0Z49uzU1soLfcuhQhw5wBdFOdi4U9mZ08f2o57fTlJTGgwUIIdp5ibwSNShCPikwS50v\n",
              "PdNRJRt8E8bpF77fy59Fg/taQ0feIqxRSKxk97u96e7BbHDIY7Ot2+382J70mm4E7kI/pN5PpQVe\n",
              "hPHNb8Iw1IQq6qZjGzY7UZhip7BKCYSesaXj3GTtxc01EpEGZRBhIw0ZFkG6TO3BfYp+SDnwdp7F\n",
              "j903KWfZdtNp0qjRePCNMejEu8QJ7Se4KiRmeWrJEGPbJ3MCIh8MQQ/44FdHjimVPe+8kcmexQTS\n",
              "DQHJdVAG8tf16Fkp+CAH63+t4i7lTYVZv+R0mvo8Se+3JCULq9pxiRqz8ga4QLmBkVcFAHBD/l5b\n",
              "Qc7F3/Y78TPidC1327ipvoBCtqNyCyMqYwgd/RvmmzYQ5SAlvwy5OJ33Ov8hq1oQhNgsT64aPePe\n",
              "jgLVGob9TLAHRkADDbwn9O2Lgph5A31bDqJeRLsmnHC5TcQQMsLWQaCbgAAAAzEBnx5qQr8ADOOq\n",
              "N83+BfOPcAHOGoFBTmKcIK8HJu6nrifwvPYY4zZ4gnQXeXY5FieUYT12tvblwHk39ilZKWDn5Kq/\n",
              "qDrHcM8PiDx8nznM6QS0bhm+nXWJeGg3gLbPsxwZ/Nfk8Dl7Lyrr9xb+I6wwm2jJedRrtqOrVQAm\n",
              "uyFmtdDvmTh/izFgBtJiLR8GhTMuVQ3A6g3FDkEKjp+re3khTymBhmpLx+35v9lWozlTmMH6dY3w\n",
              "tPejJwIxiAK7UWLcriniIpfoIcO69PnFwiNDlj4bl3f5ZMj03H8El2U+rdMMpN8AL5JpyLhfZvnB\n",
              "Q6d7lqRp1uq3oU3Ub0PruUR4Re3pZViBWovtdAE6MJNNIpV0bwxdVUQkJtCmSZIKQNhGxdxc0Vgm\n",
              "kEFUjSLfhjZ7rbQIkP7M6x7D/XBtBr7FTJJkks/h/P+59Xy4bF56lxR0FzVooIJWeeWPV+A2k54H\n",
              "KvPnEsqIwIG/qd1w8GG0MnDYC4ElN2K/O1Hqaev6ISZ+NbxWpACfya9qnp1MkmMPJRb5uQpOAKEZ\n",
              "RY5WKO5fPAfo1eNIbUh6nfxFuKZkd5LYNenZSY6dUQzx29rHKbXTPGWdVeT4EsdHb7PcLqQ3WIBV\n",
              "dmpOeVG5gwm6dk5VjPPC+2MR0mAxQZ9dQS6aeh1F36jA3CkHwImsieL9YfCFXHIinu4vEXHM8a2j\n",
              "2Ldc1JrxfncPzkIAstHgN6CdthHaGUjkcw5wDzhJig4cuR31fUwu0SsIOxkMuUlgsNHO0lPNqpc9\n",
              "4IieQguWtETyr0U6hm5q5VkbMDb61ZzMk5rTBgALLA/Eto5Xs7AJ+Wy91L6D5b2XZcUfQS+A/LmO\n",
              "8b8wRlLl/Mi774SRouA7XM2q3r8KqAO7ghej5XAQlWCofK4vZECS/zhWYropwZ8SaurZ0dqGjYnS\n",
              "VW8B8MWYYvj373/XfJj/3NZz3bs0OWgqb60BYMD7nDQsMGIw8wEhJ8rDGFc8f4SVRRODLV3/1nxO\n",
              "+Hn7tIRiAUok73l59RelArENVs3OG25R31FNkx7IWKp0vH+hKpfysJqQgHGoAMsVBy82oWjFn+XH\n",
              "ENGdoEclBMLyAAAKSEGbA0moQWiZTAhv//6nhAACOmb3AFXRNRro/dMsUKaCBggxCECRzsbcUBSt\n",
              "jT7cSElOOvvNbPDRmSXgtzjUDkl6GjWUXUBv3BZuKgCnlcp6+Cu1Wufe1e6DN9s6Emf8Q4yrZ4U3\n",
              "GaatQcz9pKU33i0My+soB+y9+456yINV36jrZmXDH4FiiUNI+dy5uMYRNaF44jx80WaYNgKCeeTe\n",
              "I3HxsX3gAAS2i9ucqegyshxkJFIg09PHemNZ38FCLj/1sjmsRUZ+tpqYhOqy6EtgiA2sFBvCla0z\n",
              "BWIaHpODa30INJnEUB2aV1NSpnKJ/neO4UOGknE1lKGnWV52bl12LwKdEOj4yOW5x8Nwjib9MZyh\n",
              "pxvAQOn/JPK7rX1O4UldKDIAHOCbpQtjpBASYVA9cDW2aBZK/Q+Um4cGDUPvEBtbbORzzxGBbYla\n",
              "tkn9mAi29US9wTPT9Atr37zoniyfMhxa4Tcld11ds1OiJuVRdEz8hdL8s6Q7yiUUvxjznuFvICwB\n",
              "nfv/y5leTQpP6I7gcLl8oiNTU76WJTTILXvrH4Yr2LFtnztuC38hMM6xVzOpLiicFWNsrz8fdoHY\n",
              "Msr9VMsDmfz8HDOISpR/IPPtKOXGl+8Mriooyp3BRkqpOL2Dblb9NvNmGvGmg0MKDCT0DtZCH/0e\n",
              "ui7iPRwRiH7ZoJEUrT6CPCQ0r+AnlwuD3o43YS9CZwfJLIejQ2bRCkVXUJ1yXRaO+mSYDWw13kzk\n",
              "FzVkEM0YB+BpKB/Je0Wl79sQJyIXKEo2Zxzl0wMp9qCdZgfyCnSuKhzjRZ5Xbbw3z1Nz+jP/5ODu\n",
              "VdOMj8fShaeT4HAtBX/Bhjh6U7i0o1wbvNwKJNGiRBZqktsH/i3Ko82hgtC6u9l/mzJWzgKjJSX6\n",
              "09WqQ7Z+TiOB6SmnQZ5nL4CNLOPklPtsUyJpaTpbh8M4NhrN6nB9kTIq031VllHEOcGNjzL68qSC\n",
              "BBrXSUzMWB20Pn+UhIhRlaUeiifJB5fiXqEkzruLslGT/tyx48ZX5iqczSE2VXCDWAKlUgk5LkuC\n",
              "fGBePnjGSBH96FQAIPIeH/Rl898Hyk3eY/CDNfYBv2zoGmYxY+a8YJw7JywZfw/WdOhCNwPmCenJ\n",
              "0YBC2sVorXyfdvMim2WUPmZwkdPCYySGIufpk+FiZBgvXN/Ur9RoE7lQ0TTr453gKBWHcmXDVaR/\n",
              "xoTprsayG+w933WP2h237Xd2RbtETkH4R0pDDPjwgX+CSvVN9D/aGWcdJbjHwISK3d+4CxJysnqO\n",
              "yF2FyP+r7YS+i/NgD6AHXK0M0r6BOGjuBl7CJdKYWdnGn1XSwF4CgJ1EVXqHSBFLlA1gHrwE4rhK\n",
              "+xVkqi52X/nz7EyPDLuKJoRHbgXg9ZN9A9d9a208/MIl/LkzsSsE2aqo+ki8oqC/rWrhyYc8b4wp\n",
              "bIq7r4rz5/euzudu2shFdsKhwuVkvv7kaiasOGyjST+OTmup2oOqliNh63YZwr3sbZ9i6eNaHhIr\n",
              "Js+kt+CbyYtdz9RHfEJcgGV8h2KA1k5hx0cMZRTnPOOVe44JbJ0IDRyIr4sekhBi33kMA3E4tBym\n",
              "EVtQINhxJEliXdRScbCOrkCafAe4ObNpkqHOvtfbBa/fI3wef3V5BZkSc49HY2kydUJWL8Nm8N1j\n",
              "RgwHvgSqwv59/NYpxkiaSLNLK2JO8Lu5uKojr3UmtEVpq09w5W5ezKpbZMdnXQDIIptrEBTYP+yY\n",
              "xXmzVjE/xNcEhCrqC6ey9bXh05/QqyBfWz+lahqtnKGxfGxUO+gY/eb8KU3cqWAQLD+zFY6afv22\n",
              "SVPIxWeuY6ygSSh9geCRBokqtC4cnPbgZbCugLTsywSf0KcQ8rnpSgD9okfieFN3EI1HNzrPOmCf\n",
              "9miH/Kj1KxZove3y+Z2SWT/+MXJ1bm07IC1Qle0nbCW/gb7bfstgBYUVtSUEFwfOKzaGgFFnDArs\n",
              "B7Youu3cn1eTlJbrrhlmnOivV/eG3IMTJVGxCDY81cv92OVcrPawvtrnJ6IjAL8f4o7bJ3UFf320\n",
              "Wn11vwv9sxfXPOdjzcX1xmAyxPIRH6VZhrVbsKV+UORTS5fzwdY0RhDyCGfjll7osEcfUZ/oL/xu\n",
              "mE0dXlOzZfw0c6YxZt2GSO92VKvinl5vK80GWFdaL3/9zWMIwLjMjI4a5hpQhKPzwFWrPkTfHcsj\n",
              "gkcjv3iee4WmoqCM4xYDeowb+V+kuzTNAT+bWQ8HlnhG7NpsZcd1VUY+IdrGRPQ3U3Arv97xwHj8\n",
              "HUCd4huHJRTRYsGwr+tiSXvtqiwvp+OFa3HDfVgzotYU9U3VXeR8x+/A9hce9gsW9RafaBl08eIh\n",
              "gNk6KB58VwPJFC8ndI+mcNeAp+ZP7ZmIVl1r+t/M2tDm9FHu1NZhPWLiVXLcXuduu6o+haorIk61\n",
              "tLas8TdcNkryI4j2XrfAQCJ4LOKVZGhOyvQ9neX9XsLJ6K9K8W22JH8HpPYAp3k32fXSh/oxoPNW\n",
              "1KGu/NJUrCncBzR76HzB+U9n2urqOofOly0nsRYpN9ROJx2F4RHIL3xs2MjBl33hBcq0SuwYzpH/\n",
              "N2hH4V4UmaPPwg57QQ2ArZgsBzPaeP5PPLw22GEs3rI1cmqLUGtZsLWXHuf7gTj5m9taPV2qlTft\n",
              "EEqjW6j6qnWnganNZrjT11zOYpo+798kNiYcvJgV/JkcIWZN2j/3yRGsGdsJYTgfYZz6UHTOjxk6\n",
              "lUXdDWaxO9sYgiPrrWTjzx2D3nsH+naXVAaUF5/PN/IalJjTu892ZRP+BYkK10VwFEKBML4Zcg3M\n",
              "BIViH90t5S6Og4OFwJz9jVEi/05g0++o5u2Mf7+IO7MwPtvIdh+WTtAeML636Yj9azKJpzCvMP/B\n",
              "+o6mdshTgABQSgCn2Sn+RySBCYGyzbEtYQyv0NS5SMXPW+BG0wr1xcrRfeK4d/WSZeX5IT0VLZju\n",
              "PJKgCH6ezeCtr+4D5qXDi8pYKkwcGuIKtLiGCRjd5ZmXT9zZ9qi8r1j5Wy33wt6OjMYajIS0uN5G\n",
              "pglLX1UASkoeAzqU4kKUrfBlKwY248LJMm+ocSVNw81zKHMVXNn80C5nlxHVYtGaRw97qoDKu41B\n",
              "gFLNSZ52eZ4MjEavzIJMyUDz9WSboAjFVJVSo3OigktqFhz7pZDCZwfZ4148JddVMRdWE5MaYQjy\n",
              "RzdQJfIeMEyM1uUQUNOzythHXgLDLVUuJuws9cj3PGZ/k24c5ieBz1f9KNDBQViibAwe4n2WNG+3\n",
              "o38At+JmepaPwKM1LceXKOHsKSopWlhRBhwi8Hz5QZjQViCp53mKttkG/Ygl6vLAVotXzSJXGsW3\n",
              "Lx9mwlW1YG3FZw+o+jJ58mELR0c8H7gNdr4+ibIaxRYUsLSfa1Bae74fGp7sUCRGUB7xvgQqxyjS\n",
              "3hOsUdTlFYHCeXvVFAyjdDNqiSHDhS0DfxKVmTyllsjlp4IIKrwQ/no5Euz33F/4QTaQkUqklYPI\n",
              "O6ox3O3F6TwbP+8wHsMBiloiRBfgwEEAAAQyQZ8hRREsL/8ACW+cEOF3FRNxXJIeEAA7OEc7IwgW\n",
              "5D87ibVAYByB1nxyslsT5pCTJj71D6MtfEE97oA8tBUHOcBwmlP89e9Y41QD6zxExxYfDBVpgT80\n",
              "AZ6uMEgpFWUrz2ypsPDX9YDCs8wmPioEo/7vxqul/CsfIasSr8Yi7FhIsbbUYdvD/sBfCUsABUOp\n",
              "ytMiOxwHCOemh+HPzezreUKJGPlBZ4jYLxySAZc9wqDqBAzcoptSlzCh/jzKwA2eJ0MsAEQflZLh\n",
              "D/Q65lPfw8oNHk6UfHwYPxjb5L/nSuF7lXXyjBnXMXkk0sO1wtg2q1B3AanMM1KqfLnprNxvC+tk\n",
              "YJWGpZqilnlNlYm2AbyiNoTKa9zXQZ83bRwlJogCbvr3SpxCG2D5UV9gxaxO017uUzbP7/v0pFxX\n",
              "E9Hv1bYsmyI7wu6cjGPBMKOAAHfIpCxurVltuyaXHgmqrYUujHR0ohuwiQd/W67qsORxru1558/J\n",
              "ucLP+tqUCLBENHf2Ru1xv/F1SzMiet/tTl2piW2Z7JE4/mHTibyt+SrBbhqDSZ0MpLmE7nEApv1z\n",
              "lxf4z77LrhB3+FC8lFukQFRF7YLc3YU9vTmU9mVliA0fvKsOnR1OX/ffNaO0nkr+1xaCk7uiFYQb\n",
              "NRdTMamH4+aivLxWHSyxsRbMot8mCn0VmAg1AAVcYEjAAOsIHeFY/7gNmZQuR98zZjYc9iQkyzEW\n",
              "xgXABU0si7pseSxQ78dIY3e9i1eDrfAaQEsNOu64J4TdD3GJtg48A7u/Q7XjF/OftoP65i65jtMM\n",
              "yWhpkiYXrD3hYnrNaT2m3ssUUPZbAud1XaCk6iWSuobqu+y2Ejsug1FnFuaSG+fbDSBAXyaKNVry\n",
              "bk0bm90m1BVtHChJTDhlhac9HEaTcqb2ME5qlHcSVzSmlvdjlDBCxybilw8fns6WTXWK8GskO+x1\n",
              "bCxRoLrYIhWfOsyXWFKIR5/Ub+PvvKv+Z0SNX7EDDWoQkt8qod8xRsdPaupFEG+YUkxYmqVNp/Hf\n",
              "bEaI6seCqZj7ESuPrRhngugpGLMSIEg4shAMPKUV8g64HHkZxTQWDfZAvj1UeuSOGYruMk3ND1jr\n",
              "U8s/3PBxQRZGzC0mDqlswwdkQPiEKUbbmeTxMF34T/EUTWbNQbsDq+TIKe7cupejtwq5i7ewKqh2\n",
              "sqAPp3MPwnU6+JegU1UfL3+oxPW3jrkEG1EEcW4pF7Y4YRA3sFRzH1DIDS7wBvcs/NDwNKI7cD2/\n",
              "DuHzX44rsudYPaIPDkEWCahNiZoe67D2OnDs67cVqaBKn6XD9OHkattE7xAvA5238C5Gf0eTqpSC\n",
              "E3pmqC21NjhitpbokL67yFg5qhyrBudSOCt6a8p8GAriGdycG3D4ezPiHNVbXHxoZ4QQKUQCpAAA\n",
              "CecE7v4qGTkFe0vf6RrWOFbAAAADewGfQHRCvwAM3/tvUYEjKroVWdgSATuADj4CfC8X39J+vmfr\n",
              "jtHDZMp/qCMBr8TUVfiQgAp2XXmBertbls58xeWjqTIau+9g7xjDwvLd5vQ5P9laCleH+fmr/MuS\n",
              "cw3DjUEWaQybtEehSLbF0FoUq2SB45b4M6OzFZpH9zAfwrnnTIqIY1yjsEXPYQOIQ/YE9MNLLz/R\n",
              "odZHrb+nJJIJZeRG7E/1I1Roj4v/Mag3uxEW5uUByZLtUskb3aUxI7SPQ9N1S+UmQP5lVHxPfEcX\n",
              "e6n90qtw8878sWnIkZFOBa6sEPsYHO49K+yKI7X6ppnBGqbBtlyf3VhxpOBeHM3ip7b/QCcjU3ec\n",
              "c+1QjkPjzpQtunSS9Gqyfhycu0wyhXwJoNP7VJFDTPVNVXuZqeRsoMSwJX/1TB2aBbhfH8sBK6ZI\n",
              "21GF8d6TLT60CDDe4IrKOC5MgWZZ9U4guwuSs0M9WOuEQBIHvXwg3tBihcwhTRkRb8Lem8G1MHTC\n",
              "si78OM6XOMj/WQ+7SwtxqmHk5DfgjK9lJJqm+uFoQcvpJuIqTKNsfF6r1f38lEYGagUST/+Z8gWJ\n",
              "rvsuXDSMXqjaJ5L5w4E7qfAlbqaihLtdGXvBLChvpePHbWYwfzTpLDZzAokct0xVGhVHQwdJPDl6\n",
              "CAsER3O+TEE52QrQkhj1gPK9KMBIG/34B7139Q6k/SCOl8NYm/nfBBlv2m2N1su+0tytrBzR4fXh\n",
              "67oBbKQaKclX1bPtfdETe2OHmMmgMA8V5w5RSodDL8bN3mtovRNRH7Pf+ZE8kenoe3gi6j6UgWaY\n",
              "u9smOQNAsTw5O4M8Oj0eSWUhNQEMTU5YCBmsh/KnSjBvx91ZlMWaPyNFCMOK3lPTyrPJfC6M14uQ\n",
              "r/C9vkIQRsy0Xhtjs5m+4PHnwJmxKDLA1IYlqztBoUfbBZgS6YtQ7wgphz41327xlJFEsIMR5c2f\n",
              "/PdxiQGe78BTaJlwZWxS6Adp9AEJ3OvcYH0iaixBPSexIJevm3VX+3xDNh7X0kSs3cmlix1tDMB4\n",
              "xKmPqFcUKhmrpl77bljd2UH5YbU8uIltjiTXJXyGMk/c2C+U2d3RA7KE/NaACzGLhnlGVJMZkPNl\n",
              "KnrjKLfA6rZKAoKDRSGsLfyGIFn+b4eH/kprOqqe4u8V4grpON5+YuHQriZVyOAAADjAlKbsoZUW\n",
              "zQAAA84Bn0JqQr8ADOOqrDloLZoDtVs+ADn7dE6Xy68y+NChLYPa0iUhxRhc1iJZcqOdD+89Cbka\n",
              "9gH/+IUzPpDF2gedE3bT2F63rHdaw+WuUyFlgRzzC+V2LCHHsyAS413Bdv8mCihgATfLt6tvZsvA\n",
              "DY5+vWX1DuBncyaDty0h0AZOk8PEfITWaNYDzU8rtBBXYXVi5SgUn2WYtG9GnB8DYMCehx1KFuBW\n",
              "8u5u6dEvUUj/nkeqiLue/6qzIZEJDNnPH4cp4X92lp9vbP6fB0wWh7G55uwiioOvYY38w+Mu5KAj\n",
              "uMGhMSJ6AFiIxopVHDVvFLNDNgZ5Axxy1d0wvTxx9B4F/9KwkhhAOg1GD7oIrP+xFd5GTE8g5IR4\n",
              "Y8jTgrP7XmJ+s5WiuK7kokPslqHJJYn1qjFm5aK2P+8T8Ixtawr13YO6SZMEH2gXCQSSaJKslSrh\n",
              "Fuctd5YQGQiz3gdOIW/12pQokzWgixb5562fOGFd3o/a1vSABrawuj9EAo9QpBUTSIlynXb0Xgm/\n",
              "r+qRQ65L5sa2mGxMBwfwHbLHdoAvoERZpmTzAqMMXboTqyaDVVmfJThKyt3wsB6xh25SJv3Mhjpe\n",
              "e7k72eWEp8KYTP4mUcQR7N15zOSuiwmkeNOsK6LKJ9CUQSy2Sqb8p00BeOjpqF+yK+AD1xuzKPNS\n",
              "DaUMd+9TGghzjoPM+Z8T6VdBrXsKsAC3/xnPNFNDkZ2rekX1qxQfDsKUt6cjZwfEyVOB7peyjSdg\n",
              "JlBUpBHFJogPGUU0MWGh3z0EIIdOD2LIjI4EpRUL7kzf/ziuAm5iB0+pEJC7Xrl28SKI6HRMvUns\n",
              "7M800YUInXv2JW6qGCPksktaq81PqgMmDYim0wS4+ffIMEwDdeYvj3G/jeeFOvhQ9jA1NnWMDzw7\n",
              "ua3vn0IbhNOztjfkVshMJgriivQOv1Z47b8wOieoUu9pm9VTqbQE0q9nWMZKHzYAC8CaQOrdsdB5\n",
              "Buy5/m77/lQnv9/iH3woWMyzqVx05hVjZZ9XBgaPRmPKeI4+ZxakfNZdxQevD39YH5GP28ZJ5ADI\n",
              "DGCIe/2I/luFmgDOKCLAEyum7K5OCsn5ZZIBvVi/ixr+yS6HAq6WfwwAq+HPSWNjL1TsjFlJIfJH\n",
              "e2PQSfDkBykz0cdo5LbfjLMXyncS8N/RuD35GusyYZWdZ9dyzjZSOwM0Xjb7h+fLG6UdPZCR20E1\n",
              "pQVEPLmTgroll+8oeFSzvE7iaSG5PJzL2Ka4NgFwS5EcV0rRjTSZE2sQ+5ABbgAAAwMRy5ho0Sap\n",
              "doULGw9DIgpCwAAAB2lBm0ZJqEFsmUwIb//+p4QADo+yoZFM3E+U0IkGgAuFF2riXQhb+XL1DRYt\n",
              "QbsyKG52MlK4+fZOtc2LfoYTeQArU+EKTafnlOeW+CYGlYfAHoBwyh9jMc375i9zaVivsI9BE6PI\n",
              "1GMAhue+j2/WEwbT9WMOB/K6uhHa19aNcp0BQA6Od6kGi0NsAsjngint+WHKx33andKb6u82r6Vy\n",
              "hnQGNXCz+MoZcrZEhW5SOmiMZNOctVGZvUA0g3Ujxnw7604+zlOUgApPyRT1EOPlqxfCS7Df3s5b\n",
              "Y9mWUqFBF4kxEI1RqX/WKwmx1msOnW+PqehQcuCtaAHVIBeyh6lMhRMQsa5kA6pVvkwFSEJzMorz\n",
              "4iP3bcxlkymw/NVUagZN2U1/KTfZuq6dhZhZgsDPgTHfEkasyLvBRLtfzoAAJBVrqKDufs4vVg3b\n",
              "0a5tAOuey9zXUv3CxDqjCZscInh5cQESWM0npUsJM0gN4j9UXYLBQnpyrkkIO2Q1fpxeZBt+UUEg\n",
              "UsWjHgK7UYsHLjXhUUcK3fxpjFw+1J+reTOimUdthP6fCyXRyXAQSiU8Grl9fj0vyAQlewjaNWpA\n",
              "G60U0YF4t8dduy+UXjmAooUmcyMcJS8g27UrOwrwgRLyJfeIxHZFopQVzs+v4sGoDeKacmsC+xL4\n",
              "H1UJsWwrP1QDpBb0/8aZG+DkcUDGECgQbbuDYMRKAL5PEs90lxU+AzBAy/7/Ra1U5L0hFKXJnxBX\n",
              "v0LsYiFjWXymSYFZX1P+FqJ5GfbAKFXb/P6sPjVQxNOB5hyoL3eqrdAKf+mEWcwtEEBdS/k2he5q\n",
              "OM/5VOxRz5dVl1E1yjyJgoE2DSUBBW/eCz26HjARbYVHeIwNK0pMspc/PVymwqgj5Z/Eo8xyJa9I\n",
              "cc9OtxKpSUfNn9cjM2pXAa13DLI/1760tvNcvEv0XYVmRzgGUVsy7+TjUe9R0AbKTxoMwGZxmTyK\n",
              "iHgyl5sDDwTkV0sL3Me2AkcZm8OSM5BhIcsMghvFMYfX5sSt3SCU8HahceLZfzTGpzEoHi5cbAlb\n",
              "gXfs/VYwrg2HFYyuvlkn5LMlWCGbSyT6uOXTTdMbuaxlzVrzU8o0Lx4qztW7uNNdtliECBS6xS7P\n",
              "LO2In49i/LhqF0QHCyB/789zBL3yGgK9VUN1yH8K7W3AAbRK2alkuRJiaYs3CfN33oZ71Ic841pw\n",
              "JuRh7tbbnYxxL7IJVoP8vI8C4i029/aeI7DbF8Ih9RGI2aYhiA7IkIPLwxJh56TTXd2rEv/9rt9E\n",
              "DBwxyPk1z9qIbDdKsvBTvbrqxGkGg2Jnf5LqY31QOKgDrYHKpSGT0bwS096ViZxh0ES8lON/0YSk\n",
              "D5Lng35x5UYTEGZvQeb7bmVoHy4rX+2afJhF/KZI7a2nLRKRti2GCSfaoMs0HiojM1Q2z/IKxryE\n",
              "vUzLqhVbhQzfNlY+w973DZjhNIkwxPu8Hgbu1aBuh+frEctsT6yC8E98VFDTeXTIz5+7kDasGM3R\n",
              "kGm8eEitdcG2d64PvhI5SVcmcyF2VH6JsybOJpRVV6DzCXJs5UB7OQCSHoykBKADXDmDWJERtft8\n",
              "xeBQwAEJS+tJR565wfVh3zKqPc1Lf7HTmpPAZSaeSdl6/02H+Un8Xpqu/OxJCuYUiQYQ+ahJmWQN\n",
              "/RZtPLlxnb0VXK/t2b+4ob8ZLj7uTeBUbKNVNnTZfQGo/J+EMDAbvCWeIUAAizAnnNNodU1Lpn36\n",
              "C/1vinkTlUO3lHgX6BUTTdzujUVcaBlAluOkrd0esrAul6KrVK+Va8rRK4ZSfczfWPz2C3oRbgq6\n",
              "DQvfcWIh2zxah91/CFwwqIrc8C3qui7ru7IbbH9Cwu1xqz0f3fIDnJb7A8V8MSIXeUDrTXz7oK0I\n",
              "/yeTfIT4oyM7X7S00nU1WHizNqPFLMtGBmcBtk8OKSlNohcEcxjkJB2NCo2pQYyc0BVAmZ9pqvcb\n",
              "//+Pf0mELrTmH81LUAnoKR0TDUTM2LRPPMIo0OcNNZijl2W8Qe/HAyw9VDH4oIALL2cEr0DLLuzk\n",
              "eFITZQMoo02zEl58Z9y4NTw34Hnr/QkHNO3yM/iWipE39GrFYKZaSRklJjJh6jF4+6g+SR9nRjmn\n",
              "8Tkrz0a2suIVAyV532dhPX39nbpsfSdOLE+xsqPugI059xY75Frw9TyT0f+Q4/Rp+5b0KtGY9PYS\n",
              "UpltWv+FyXk1D2o5eQ55cfC2SSPbij4DphlZIoGue9s+PmLDozkeh8AN8glWWBvw+/LN6E37szHC\n",
              "/eC/dqAaVtNV5of6h2xztECSDTkJe2xMBy6dO1Shxx58tXfJWamGRBeqoF5bOGIXOj0Ucs9bM9t/\n",
              "s5KILiRqbKL3krlEtFuay7u2SI/TpJgxCQOU7OGt6/9+QS7hwUGqNsa4eiu5RsQP4e59IHGhqYjx\n",
              "4Yfwp9x08iQx0ZNoCoIa2ojsoBzkTrBV5uYyvDphagdh/Yj69Wx40uQo+ihzg2rpo1Y+YY/E0xYg\n",
              "Nf8dt90QIL8WDbKsyzQmrURdUCLQcsXsIrZybgX5AAADuUGfZEUVLCv/AAzlhT81L8Q52ITR1ZVA\n",
              "BtLeTkOB4A6lkLJO4W4WKFjWkacex50u+SI0qvdXeaKQa5M7y4qnKQ2gCfG0FRB90JXdERuoBTfk\n",
              "6Lfowz+AfjrEz51ZERCZXzxs8xHqzuUqRZx3fcPa/WugAvGYTIGiYagFkdF8BSMInuCL6QwqIOaK\n",
              "JXay2+8gd0YyqkQQ4SvO3Jk/2slOqsEr4fzqMOFE5xQsWArnpMxhxHp6RvjGBOTw9hj63Dvth7Nh\n",
              "V8zRrq0aITvB97GIkiHzeQ2TbIq6tZm+ulCPiD4YUaqSDSyaqpxqSk3c2K6qGTON6UsN+jnrsPfn\n",
              "cp0tF3qPVOXgrQDMNyFl0VUk2Xb+wLVxfBR2PJzRa+i6tTh3tlstERKfnpDByKo18qDF7Zw+uAuH\n",
              "80WhU4bfWrqRdGHwFrXCdQSeq+nUfkHAgXiYmR6f2RFGnd8FuyppPOMGRPpM4t/8hw9arEczq9hV\n",
              "qYK0VY7vtDXZ43VVF/wfYD/bJxAbzzmNkkq1ii7Ys/6HD1qsUoubIbxufzp+mvxIRcqVz0tPO7m0\n",
              "r+tvprWy7XJpblqDPe5aGnJizokBe6NJYrapJP/q2BIwJOOpkPV806h9GCq0uI8/P8qaFhQjOK5P\n",
              "Kfg7IuiLLEdNAOQhiBwXcEQ7ZKXKafwi9m8b3iHgxwHbncacYRr5DnD3GeB/nUhcSdcSYoF05fac\n",
              "j04Pd9Vl6vQk/pvdhvVZ0FJs+YrwvJqXLXpX1gTXd+BWG7X9bP5UbvIswSp+Q0V1fgrw8JEJgJcv\n",
              "ws5pVVabLdRL0b+Ugnm/6DFYt9Z5k4AZ8ajPBRBokhHoYiIArnWOyftRVIdJHamHsvneK96L6z35\n",
              "zCshHWFAdbBrJOhLM863XnAdU0wggHNbO4LmQfqmufejuIZkmd8me7q1fbUo+iir/fUIoeCVyCBR\n",
              "FUOGZUdisSoDH3J8zxt1wmLJTZqXgX0zWDkXB28cCaaYMbF2gfOjek/g9FxCS3kXsDE91Nqs62Jb\n",
              "vX9konzpdVfMO/R10V9uKYI05m70eKhtW1ujxVxV3wypbIqvZXrYKw6LJVD060xhtktgXHj8dxau\n",
              "IInt/m1UVtKxLXwHkmEthIAgkN3pUhZ1cHCmXHTbkU9x2TxWvgsO7GRtYl6FKGaAo8fPcfeeXAQ/\n",
              "WFPMQXnhNKseifQ/lWxANZPRDQ2T8cU/QLdtLt0NQlr2ZEtMxBGNj0bWnuckTL/rlK94z6K5aybM\n",
              "ORVAAAAgZaiCYlOGDFri8AJPAAADAQGfhWpCvwAM46sx+Wgo/8YeiRiL4AO0NK11yQpJOmm4f0/e\n",
              "jBZuf+euW2JG7o+NfIzPQ4Tp8BuyrzNduVex47sWsXiwIZC1D7thvRjtgxM+FcQnqRRcfPhy/oYG\n",
              "Uh+FSuH1byyaqsD/b4Yjb3chJw4mikuQYL0oi4sKO2Pxu3uqYTw/9iwJzadPs8gbSaiB1meL4yJ1\n",
              "QJRmO4UeKs29JB9arB4DjmTQziUO5JRIinxfLW3rcbBcK3oN4x0gAIIcWbJUT9umwtDPDVlQOjgx\n",
              "GehlCij13awtR48DLveN05ecjB3ZGFwmgxPo+DD4X7zzr9MrfVw1ajULe2+/tHZSQyae/OexMV7S\n",
              "XyBjXlv9YEei5eEGGobrWBUFafskjysbgiyGGHoWabXdu+Up/Xnzof1TkZjsbEZJ6RTyQOibAFLl\n",
              "d1tXrVWpV2XEGE15ov71i12rv9bD3b0etVHCEGAROhpamCxxw8jWNh2JbtidrlptZAkN1mIeJ3JI\n",
              "rLKnkYv3trAfrOF8bKly9SCXpR9IkhSYyE/Yx531xhxE/oG9ScrsmnBjBaTnxdIJBLEOQPJVOtQd\n",
              "SqF6bSCCnzweOd4xWwN0FUs8JuP9MOhKtdojQWQubtpAJ2q1mmRacjS2xpa+lWauBEUXVf11gydM\n",
              "XS4Q7telIakAW5IpcXeigkMcbpEkx2hMvtDWsze50wtfwjpcRl5GIIRvZZiCCfpMrFx6uRBB0gB4\n",
              "ax+h8rfl/KALMieIDZnswAz3HS4ei9WsyyGIYesd8rtKYelhnpyehWKL6wgeLV4YmygJQb81CkVU\n",
              "hEVy/KPQF3nh4BvdsHCHKdFY9qx14Ssk08tpMGyOqSczjm0uh1FwsIgGhLS5qzgVnZ7v2f3UBnoH\n",
              "AL5Xvc4AS7idgKZR0tXw9jGICFxppz73kcm0MGKHIf4NuIPXwYRWF3XasYTv2BCQ3shw4sB+2759\n",
              "duxuZnN2G1H7FB+tH/JuoV9Lgg9Bybl2xOKIqqrAsgAAAwHOmS8pVdg3AEsdetxoIeEAAAaFQZuI\n",
              "SahBbJlMFEw7//6plgAHJ9tBmc31dkeAG7EiT1NIQ152Sh2MXpym10bKGNCRHiZeo1qIjI6bcQcL\n",
              "0WzkLb3N6C4pmkgG9CvhZX14lbnT5ipRDtwUz99a7KDvNDVtgVrOjG6ejV4vMk3fqjXk+rGZCNlh\n",
              "wU5ELR7acJs5duS2QXfIfV9V2q+OPCDSsxXQhxlXYAo++o8o0/bPy6zkfT73nSHnDLpb0jvMz16C\n",
              "2x4N+SbYRU9f/5NLmg9TR1JnUS517iURq33k+eksINod/i3LSM3W04P3kGb3/b2FpIxcSE5Thdnl\n",
              "Z5837T4IPYJ7+NkI6yfd68h6eWYMI629f4NsxNWjpDUGWMaUBJaU7tOQYu7lFNyzZehmXyXlOwQm\n",
              "GnlzTKG56XmKUtWkluzFuJ1TII3UxDHSHuCPv0fI5/lgKY7kJv1eY1Q+RMTSW8+xa4d1U2lRsRCw\n",
              "WvEI1Sz3urXv+AXTTABQevkmhWVctDzwLey81WEmoarRWT3DUnSCDjlmKRqJ2zonhH/I+3d3Xay1\n",
              "vXZmv/hLCdet8vchvf0wAiAJtwynelUcMy/W6ELgkUnVXTS4ZjKY6QbjL1nGYWb5qIN+JOIRYUDM\n",
              "ouAAH6b1UGERQW437XZEZo9MhQ7dnNTW7IkOa6NFw4WH3lwnnuDsoK5+0x7nxljcXfqudMR4TJFP\n",
              "EHUnFc2F5Tq784Isaszf3HkVfXm7EjBSInACVtSz3SUW+YJTjU/4ymxwcRFdpGbMXrSdiHRWglkY\n",
              "jpMQF1KH0UmSbPIRu6fae+r3NFZauZCmmjr4l50RWvYfnFt7nnkjoJdRVj3/ul0Xg8UsIK7V3XTs\n",
              "QLAwsDo3/uxCwwgesd0Mzs7hh6XNGWE1zjXRjHPuYVB8chWTzjh4mdxAj5CLo84PPAEYbJTdY7k1\n",
              "fwdLa9m/wp7jGjHSdynDOIiIuV2Xz/8s1AP1FTOixIQvvG4L//Tr9AJpc7VFzOIGB40DyMjO0XcC\n",
              "3VXtUGOh2Tm+DYybwtGMyu7yfArnoByJWwwFaPzwYXhHIAVvpD4mJcPQdt6O/iG5YTZV/A/FWTUN\n",
              "7Mn1BzxElrPw30Ol7cAjlA2TND+Wuo/eY9Dfn3xPbVog5LuCTT6sgpsZsJgTW922SFOoTRitRSFr\n",
              "ICYP86NuKnEJeiWc3j9+4EYfX0X0uAMjOqevGwS/11YNfpz0tWTH7R2i7lmGxQlxPs/GkqgLHzbg\n",
              "UZHNmh6fEKA1/9zLJ56WTKXwIG2xdMDrWtQhjEXP2BZGmInjxFceD+b9h1WNusW0wVLs5miCK/hQ\n",
              "5Lf5ofjkuXeduBgYDMr0huSKNfGVDYkzVnDLIfpFf4RFG1tr3/nE9RMOf6cNacuYYV8EPJ+5P6mS\n",
              "wOEJ4MN1VGfUJRz7pWYD2dzK2m/iVA9Njr2nUZYhusFGM+062Ct7YiJgVsrIuDjToUj1j7FKNSwE\n",
              "nqjl6UqraPQR72M/fwplr5GptKw4l/wmNu8csm4v3amXmCR5tL9pwYuE4IZEJbacSeWGC+EWUeAF\n",
              "JPE59CfMhOtBFPjI3xnfxfBTN/93CQJgRPbhuSb0bGwcXOl6hfYSTZI+fpCKXbiut5ZzK6UrZ1xp\n",
              "pO5cFdhg7kkvmIroTB4o1a+CUF6ytMZh1mB7YTonOnI99H99S0TjEgww/0NnYHPg78TIZCpVW6eh\n",
              "6ExTK7Z6CuGYGUFbNvw02Qf/CpGlNSJS682o8gYWhonSRZSF1py+NCGPcIvOMfvysxgU7ja84nVs\n",
              "L08AqrmE/FqULTN1E/R85FyHvCBPAbpNywjFkIUeH/prIXyWt0bZCfoCoqiNdc9WabrT34GNG0ob\n",
              "cxraNbVpizJvWYpqERJvTEMUckyVgLB1AeSmBs82JYpgV/sRMQTbPx4WVqp/ff7vd/4g/Up3sBqL\n",
              "FFd4WAj7F5Gw5sPJlnh810lmLKUELS1lmnZRhaxgZytTCDjKCV96ry8NK3c7R8kqrjvT3TNjGvtp\n",
              "zUMXt1MJZvSLmB2qNF1xdD/xS3FM+rN/I1ub5IPqzi+QqkaEKj0lrVyb6y6MqW35pGBV5qh6Pf8z\n",
              "+yQVQCATLZGjuAppEDu/A2rM4rZe1YEP9scW0MRgLbkcVyjB+Cl85zM47QgABsp1AcgriNgMQBsM\n",
              "0xQ3bb+rNkZqY41blWOnfLaG/Vlb1dZud46GqEoyO1dwLEHdtlhkVWRqGOLKA+KJpymzcjcVymHp\n",
              "aAbFZH6dBaFYZF8dYQAAAxkBn6dqQr8ADOWFPOiIpNnMU9J2LQAXrqlD9y8ZWyPGNeSfqjlwAoZr\n",
              "3cIohLWosF0j/TKuzemEWH0wdU9mzJMXtajK8tSBc7RsY5ba0zdy0MIO/PUHq6DTbT9+t+0gqdmA\n",
              "vlzARrfcJPQ/8DvmUIgyLN70e+FbQD4ANlfTEfi7RdWXMy21QglAih1rCD7Ai+IocVo0oy5hOaHF\n",
              "S2+LIR1HhNV7moN3whVcbQvS7UjHj+BbzRs2do5LQZbGV7RempiVn0H3vchZJI7EEN3uv9C4W+dd\n",
              "X+Z3MIF/0jJZnrbUPzUw3e2cuT4tfYrqNh86iqSAnN9jE/7YQZre5jXkjdh9EWcW4jN7zDw0Vwmk\n",
              "nMYXJMiKj/Q+gybJl1kOQKsXp7lliZdqsMrRq1eH5IGnhhltWLMNLTqpbuDq1WPRArUsKB2yz8Yf\n",
              "oYOrbAsTc3MQI48uc4BJtVeACxvWkM62UQMyAyUHJCIyav2vrYNDxnEoEqRgG/E5F6Fwfxx+RjMt\n",
              "w+jgOa/qonKwM12PsGvQBmB+yY6if8WT9Ie/tgCgVo13hdCVAjPz9dxDfESFZdOUIov3woK2QQXq\n",
              "iinrvw/esJqOlojCZcCC3q6YIicJfDU1vMspSrDctxHBoBGyZJyv67hy/tDp6ES/anJ0muEUKAZz\n",
              "6AV56qTQRgXyfiTYSBFLcSaPbBL0DK/wwB43Wwwn1R1zgg+kNHPaVP5kprbxt/npoISk7cAEkp+A\n",
              "KhMag5C7WWfwbl4ymkNsX6f1j/Ma4IU9jNKSOO6pJpK2Z07rw4vmvdWRZU3J9o7YH9hLw4I+ZvME\n",
              "58rluHa3KHG1ARKXLobOXbswgAAOTeHFETbTLLMD7/2avHl2380U5W7QXlTIWktMefB8KRPBa6h0\n",
              "WCZVRHLftnbdew0broDN47BFQZ6DYDq4Beusc/TrUD+jOpI2cFlwlXXCJEWZzrYCOan3LVNL9Oie\n",
              "LTR768rePxt6FL31EsmJQn/n5Y5BabDF4Pr00LO07c8hGmDlcW3lcVbUT6+nKjjN3AAAQr5mvcd1\n",
              "SDP2aQJlUuVDgD/AAAAH1UGbrEnhClJlMCG//qeEAA7nsp+CwzfNG0tkAF05GcnyugepJsyFYzd7\n",
              "DwWI7RVyWUrTHrmOiBfxl2pcEhQI4ekWFAdKmdcsRxqsHK49XMaG1uYghO5JnkURsujPUuBla7P+\n",
              "SHu7QiScxYATnDvLfyCnT1VNZZekLeQKWimryXWUshNBVBDJI0btFTa5qroGitKV6G5yKTl9eIAP\n",
              "ODzL4DTV1MYlkGCI8iRr/D+td+D3zQ9g/tupuDjEMlHF1UnYoQjnpE321qdWB8wIlk2KEHgUfUd6\n",
              "HOyPcQdZcplXgevHdogF+kqUhI5U892vU7qeAoES8TJ9uaHHEnwpflfllVfyHUybcwYn/TuiujCZ\n",
              "pGm330ycFEnLjnPrUqlvaf5h6vX/tX7UCMCpw3tJx23MgkJNhcu3L+pbKdV6/kw15VwHeXa0ZiHb\n",
              "1MtJBPMyNaiUJzGaywWF20PEwjgpDV8fp9K0qm1ActHxPh7UXfqJ4ORo6I7c2Hqx3gtkyFO+cDcj\n",
              "LXVBxNGwv3PVlhIEo1zEKo7GpVJ2fA+Ib2R3oZBnDeNknZkVYt53RK5eNdn7yE3w0tpSCQ3O0a0d\n",
              "U4n/YxJoL7jmvkaccxpT6c8mjlvogdpXtknAcZzKHoFVnSdrlMRzlraIFfW9UBJMOcYOw0+YwRe0\n",
              "0i/FsTr+uGf9fDC73/5owzYhNwBUb/FWACoRQX8qBEJWuey7Qlud15wTVhEjNOC8Zk2542aHw5q9\n",
              "kM4MrGlzUbPH1/ZUb8N1SmCA/IsZeBXMbB/fPGgy8ZhvmjvpTbMdeAyURw+FK+KGmPud7fukdpFe\n",
              "AWJi1PMz/MqoKx5ORz/Y8/I8JAQVLdmFBzKJzn5NFzeR5a+n+FqSOdFCQDhtmRW1FaFtKgnNcQIY\n",
              "FlB0L5oSr1bgUcUUPWd7btIC2tuxMlaB5eKy35PZsfTOUSvGzj4H/4ajNz25eJbIbbWOzsELdhGZ\n",
              "sqdAXrc+nyxy9xgx+GmM8btesJ56mrs4NlyefYBHAGAqFGC89X7Ak8qNyMwN1lrZZEFFU09fpJOr\n",
              "BNytVKAF9A7qcrDpphz5xN8i1F9dXGoNIRoBBNkmw3sw+sizbyTsuI2kzwKqh+lslpfcWHUAYCiE\n",
              "9FxpX1CPTtkUpoUesgrEtHa0wWVdnZN6x+zDQhzo1yMBDjyU+6IXsJUDfz2riXXZ9Z7ZS5XsNayK\n",
              "LD8U5pY64vQB4uns6b29iGJe8RmN+xGd0qV3IiS+Uy6dUHkucOI5ADfRZq1j3Q5yVkv85hPkF4Us\n",
              "CzZOee8fQ8FhTYHPvURADgeNxsOlF0N67Nz3ye3AFD0Wjw4NzjnE9syhO9PK628DnHyMKyFx8Vdd\n",
              "8/BA/qed+6Z1+TxQCCmSLZlasG65GjmENPXCf9S5UhI6MpOjdoihO5o4CdJT5EbZ0nEucBiEPWXH\n",
              "PayfCQXllIlSzH6w0H2zzDtgjloM/wF0yWIECOeOetHdqserIitwUTeuj+HSXt7umVc3IkfHKHzU\n",
              "tA5r+3bN/hGZ5DEOcuTS/RJuVZDGYu/CYDphZBFkwYDe9uuZZKnySXbjdvamW9ZI1aWgJdmJSx7/\n",
              "KJSv+jN3D4c6FCFbUyAswcw1V15Kkrp5hllSmtoL3n2VJv8O0ECzWFCWbT4BcXTcgzgAu3Fl5blx\n",
              "HqroRfyF51r8RLBlbHpfsDuczq834II/U0hbWofuEGmpF9PG0yeRpKC+S40i6efCIoO9jLhSxLMc\n",
              "Kq6rbGza9QMsLVY/9IvMvOMG2OPggxiad9AVXZN1ksuxlrfB5Z5C/2hso18euf+txMB4b15p/qbr\n",
              "D+VAWiVexuqcvCP39JwM6YS6vlM094S0hbFqZFr4I3vuI08snDZtlMioRMEiU/5GL408OG9ycWAm\n",
              "RxfYQ7ofFvn8/Z0zfElGa0I5DCwzyQDW5NWz6TFVG/W4DmzCr9HWp1LHepdIgtw5xX2Zb73UC/5m\n",
              "6YLLJTCg60GhVI3lqvsFkelc6d11ET51e8TDn+lWDOfvjSK9f6jgYpQ/0j4b/jxqLyDP9XFwljbN\n",
              "slUTrtwVXbCy/OAZ5ume7gZu1nTZgTwjbce1buTiFTWT35GxryTof6otxZFk8wOnCDmJZv+mQwBx\n",
              "1RnENWwMwwlYdqlNdyXqwLDyxq4ErQsvATU9bjGbqeoKNheC8UtWVB1Sd/lVty9DenS1nQdri00E\n",
              "UFgk8ODS0K2xf1v+xQzS43Q3kluOXAe2vYDqBdVG8TXSuIdS0KcBWnjOVL17NcroMwZyaH2rI2Nl\n",
              "DrEqAC1c5vLDlDLhU1I6Ii6dvaSuL3tlw/qyPr6TdtQ/eVGyjgtSpqvvAM0vo3K1Tv2lo981EQ2L\n",
              "Tl+YDGJo86YMazHARze3oNddEIWRvjgM6gmLjoT967bZp32bJE7AUjVsyl1bqHsh2pPQCn8xOSgk\n",
              "UE2VUXcjW+icnOcQr5us06FB0ZI5Dv4EVibOSMMpZ55ahvKU+Ln3JHP7y7UORS1aE5HSA5YqzqWf\n",
              "MmxA0dayg96UFwy1F2Fqm8QcdGi80oNr+f9fNdNN1KGtgsKXLRHIUildJMlKImrjmVncAAQhJbcJ\n",
              "MCfQkAuVBgRFXCYYmBPFcU1BgSyEVAin/hyFS+ijNOLU8qvO9yrc7+H9WAZRWgsDYg9lnOY1/CIz\n",
              "nFQHduc1JpZUdwDVSEz5LL/xX3LUyYb7OhgAAAR3QZ/KRTRML/8ACW8WqRMilE+ofcq6JQAIb3kc\n",
              "gJBSQTMgBbW5sqzVmmOCmkgA8wTPegyl7eHx/7ET6TIkMSmDrmkSC8TBcpv5Uu2rJoF/DuGyLU/a\n",
              "Y6PNWbgZ1UresNIikndOCcN9kE5aRn+PBVDo19Of9svz44na+10JyLr0TusRV5rxonyNLzWdpX7l\n",
              "s48oNlPXOYniKhfemfY9tXnfV6MH0o4yeYR15TZvVMaqF3ueImBqPjo9kBahiWknqcf56CCE48yk\n",
              "Aq0TgamuVhRkeHEd0Vdu5wQc1UrZCrB1Rt82bKfGxIW5kAhUSM7+lXhU8irH1XrYqbSyBvWmcNP4\n",
              "/gD34tIOpX9fY69KwnTXWzw8U27xRqG6N72qu6qBa/stvH01ATyrAWXFWT0U0R58btjOFbb+T5A6\n",
              "xSA0hQImB6dy+RorLWE4NRnweUARHu4A8kiHSk9EhuzAyGmXtk9f7TQKZdBKaa+2wA3vC/PwNB9p\n",
              "Od1uoOrNqHzKxExH/G+5AFxja2AoLNeaBaDh/2ruWfYr4nA1QPUiTwGm3gMJTMIycYgnnpSxwZER\n",
              "jBuNViIcRXQiWToP61zYPnICJQjpnjj9nIxN46PapmLr0DOPg9H6DuH6EzZ4TpjsB+mqhOlA8nyx\n",
              "AOeONImY5px4drPIVkgiiWGBGG9qkFY2UCliZlwRC4bouRCgeYpxffP8DephA5NFXf0xuKnG6TBt\n",
              "aPDD/l0MQjU7Lw+MjaqjX74MmRo9NJj+uISJ91T7ykOZBjC4D0+XXniSgUuJytOIdy+A+Gt1POpJ\n",
              "fMPWv/HaoO6wEnkqdvang2X8zcTvc9YPgDKn+Oo6nxXCBYtnmdffKm+m6kCenWFyOzyxPNhfCJCo\n",
              "rgtjecIR8yEurtVASkkesMVxnkLEwbZGtGxsnjMYEOJ7UI1Bqi2KI/6/EjmztjGlwP7MZ9YUknN6\n",
              "MMZrNN3j8iLQ+LafStwVcGZowxMcHYnZT/tbH102qUNtjMZJI270O3rm/CJzjw4iW5qUFmRoiFnQ\n",
              "pbuxQg6e1cR0UTzPFtQ3LNYCUdM6Pcdbvs0lH5N0nDqgWquJ4ckONSC0sY1Q1uqXe/QEN30eAcoh\n",
              "tMTVfpl5ggdxrVzifct0VEc/Cp5hdheqsFl6vBwJnfeZUhm4s/HcjNSzNH5VMZ5oZ6nyLqejva9s\n",
              "4nPJ3ybFCypJ+TKNVEeGTZ3vi1T1XnxwlrV2ySFzcKMAzqMjKORw6ZEF3CKhPcPJKZE7Rqc9NDKv\n",
              "t7D6dnmUlpfvkbFLfGUSvza+i2Q2RF5G7DJx7gWmJ2ER5a5nBjgHfkLXt9qBBYgHBhUPgAACqsh3\n",
              "Ch64UikbFSS8n3nwiI3nkkCe73Ll9uCfILOGhl7RkTSA0Oph73Xnh/I7Lqv6MuhtVwurX0z6ddhw\n",
              "jwsa2JrwRc0/7UH1Jz/m6Nu2MHHZVfHBLmeH8qoq8fzIy7AbOu1Gjr4d+oi4fhuyLlcBfnCcpHyf\n",
              "gPcseKVDm5IMw3XgAAkYHG98n19HGq+Tbww9IyauEFxBAAADAgGf6XRCvwAM3/wYYGt3LhgnLLX0\n",
              "lKqHMfYOADnDRVKJXP0r6YPVqHSKnMBq/qyZTGLHGfDZ3uirEPGTMM0n+UEg5vnpz5YO1LvqR3oY\n",
              "Ibhp8R3qVYDel6JXQbsWiNIFYHS00cJKBnoG3wj3uT5O1b5jkxU13W+5Dflk0na7EEphpo+NgcWZ\n",
              "CLvLLLp1u8VrFOukE1fZHfqChF8JOAx6d8vX0LiHmsmo26X56OGok5aaun8pxwfTnGCRFjLrUtPw\n",
              "Ve9T3h41WcSlZ4MLQJuSHUYity3zD2XiYxROVPJr9SJQfGaWtYWvVeVXglviMm6rQp1Hblf00x7p\n",
              "S1r+rjZr2nCAcRsPG0sEfqIgD7hYQp9paMQsExWXuFHyvWKKT2u5pZtYe9hH6KPzw7qTgWgoTdHW\n",
              "IRfMz63/FnzNNi8Vicqzd5DBukmZSSckGYbzGu0t08psTF6RPIL385i5vXbZxgnX6GQwM/F6+VDS\n",
              "QwHR8A2s89jn64qw0Vuzk4ucT2WZI677eqM4yZOuCYyIqT+IXH9HDkPyQNVCszYt6llOSuCHI/lL\n",
              "a5xKtcGSUP4+WLyIG1scLeJ7lwyIMuCSYAufMdQcJWCRyC8JgMRj4TyxqvEwLGWjnZs8ov9xvEBv\n",
              "DipchJrZd1GpU4027Z4P0b22KADVACt9s2XLBhyVXuO3/5jUfI7/oFpAesLAp4QKitk4E4ZkNzxP\n",
              "aXVmqa1I+6818SdEBcWYAURCrpETPBbOITyqmIglavVo45KZoCeyXi6NklWCQvZW3GVnbz3g61Qj\n",
              "DuPy2gIA9169qyaZKLD2kWwoBc/750ZxFzxpIO9aDbYT3e30IUHcP6lhpTbBfCXTXBDAvfwFRt1g\n",
              "qEQdODixLw+dqYQAUoXzDW3JKcEs5wMoiIFFRX+YTLkYent5fDEzkvr4P5T+9lzCgTRiQIwWZE57\n",
              "iRzmuVei0AxvPAmHKi4xeKgK+mjvkGCA2yJpFJLwAKjTCxPh02nEPYWJJvbzGAp5R9BwAAA3xYk6\n",
              "G0NlpeliVgKSAAACkwGf62pCvwAM46sx+WgPpDMtzrfXOWAC+u60fPJgldL6LoLouCzqRoJ2Kqxv\n",
              "Xrs+kYnC/1jurbUss30Ekan9lvDb8DSbjyOWUDdB6JcUHdaNSPNi4GZzfdXStakdQKneb3IXClFc\n",
              "Wf67ger3dx0gOKTI3/HkRNPsxriynOucZSGL68jy/XXHC3FjNMQg4IzCECEOnSZPqffhwYjBTjMh\n",
              "UJlPMMTD0GqDtiYZ00bn3+g3lJLzk/z2CE7S2EPK0DHSJktTZXkI231+kfapqoHMYmXO5zJyUFxq\n",
              "gCZefaiTGL3DNnutLR20PQYxn/xGfFOcrXMRcs47gRSEtQlXeyrpUGLcLSN8vilGm57/FBD8V+8i\n",
              "2bzG2wbXcGwWXnoW7erZckvx0bkhXisAjsL3dW7uFcC+jNi7LUJFyMP+lf6MlTgYsLkLjBDSO18s\n",
              "yRhRmx3VfKFGDTwGtBYCBlei2ZDc5Z/FsoKkOMu/LJf+MBaHeOnVWzk1qqEfwBSor0mGnfJ4IjCS\n",
              "X1nP1iK7Q9OnmfdycGeOYKAzBJa6XIjvi+5iadvvNPckxGo2Wcm0WwpYytqrFcHOpJTrqVf+jKkt\n",
              "oEJq4weW3tYY69YrYhc6ARN0t9y5IOJEbRsHRBaI7BXUkPJsmyyOtI0pzOR9Xth+MbEBrHHTacdM\n",
              "ogRtCls2ZOYUByxOiLNX5gA4GAvSko+q897dDXezzaLZOYAhpNJv152AynWdGCu7XFmIQLtxDNAD\n",
              "mYPWKqLGqxMeuaBgPg007W3D4jAQbCiriXFAeyxmPXBPjkkmpBYADdVxvKhzGuLuaLcVLycW4M6M\n",
              "+jVfTB1odlf4Kdl2YIldAp1+xOmyxK7hIJ7scgAAurpGt1+h9dVCDh4qgCdgAAAHSkGb7kmoQWiZ\n",
              "TBTw3/6nhAAOj7KhlW++QA4IcskmGgd5n8p+pZ8/QIjT6D21gOu/4ty/BfCYFFC3lNl4oldBQ2/R\n",
              "uSupL+/7tjmXqfxI5+OC5jbwmYrikVHCeMa8RwsNW1zJ1jI6Uv0xsDQQYvVRL7s4I+s+A82/NstV\n",
              "Pnk9XsbQjtntxvTqqyhiifYvLY1ygNLeNsRZKai7uH9L5hxwpCCWKJF3iV2oOyVmn9ashQQ4Mp1B\n",
              "7Kd9psJa+czP5YoSWVOTmUglCWFx3URs1cD/zkNvkOSY0zptodpSYlY756lUVzgGUamu2prWgrcL\n",
              "XJBiyhVRB61lxnSL312GGGsXoQAgOZ6+Z/RVtsQ1FpuGHNyMGeLcjg6BCuiyKEUoKa+5YwRUIrLZ\n",
              "0x0qOkSAP01d0MHJyun7iXpwlGcav2G6rsrt/ItLipXxRGHI7BWs5CXyXl5Jg/vms4DUYdt6hOKC\n",
              "XcB4lIXWTbrIuPzDSjyrnnzKzui4IWM9RC2uc5o9W2UebPYhMqP15DWOvA92k+9rhBgzQUAY1frE\n",
              "/d9sE7YWPrl38V1dkWzEcFEDrmdF4c+SyWa0WNXWt5wfcPQ9LrwoPYEmrsxEmqUyxnbmYJjtmT0u\n",
              "wuHRIMWsYKuxeFELN7lSoSa9cLsXqXdhTA37B5ONcGNxdQrZ+McMbrQuWgiNpkz2Up+tfDrs7Qk+\n",
              "6PCl2ZSrbQIp+PFjzaDfACuIKWMUTHQStG+nPHT202ZnrE0yuv9hGlBdNhUOlviwriLhXsW/RJ8+\n",
              "/w4f7CBXFEu8tg5zuuW5qAscYj3SGXmyu6ssZm5MpQi/3aTF7PPVhJF2gnBBg8Ns6sgfB4gL7zxA\n",
              "+izZYGuLbKr8aeFY+oAgzu43gkI/lBauwCG7RuH8M11jV2hifwS107pRWZikb9noWDu8ltd1gvLN\n",
              "xjfz5TL/1UmsM33Jhgf3d7d0QdA3cOcPkZTACOO/N1iVdrNNu7yWvdJcZFxBNCVzs/mDLpxBhOsL\n",
              "8xI9ESLR/F4TthIKZnr3Uy8x96z9mOQynfxnch1aWBjaUkOBj5QPpbfMFLBeLlTU7sbbtwEnXFxV\n",
              "+Js6Sc42hFjFGQ+9eXdghT9KVZm53Y5UlOcjvha4ZamECGLMrqEi1TYr9YfjnK9uztL5Qi87w1oc\n",
              "wJNh6QzVgDVGl0gMcWs/VrwAZ3iMzIHX2YEqa608+zWqaoHx7uKpSajzWDYOWhU6rzjyFzVVV+Xp\n",
              "z/9ipc590DMAdPEVfaS3p3FUlC/LDWNnFvafij+cd2dIZPVvfD3/C2qrLbUyyMLgyx1kTZCrj7s6\n",
              "6wWgPaPIJF33qzd+UL1qbevEFRiGlUtVop9T4ywCVbOL/Hd24UBrnCPTroamEy+d20gyD7Qm8aX/\n",
              "+Vkbp6bLrhDg/HHBhG5IQZaExKyT7iLeaH8Eyg3Wkn/wMVNGdkhKfk1UhStpQH3pGQY0I3yLFDjs\n",
              "4kdhgOAkg0tKM2yuh2vnoChCeeHz3HkhRYyiLuhfcU3codBEP/JzVZ1UfiF687oTqX5LuqTG4ymE\n",
              "rwXjAkrm1pEWZGNsUzlB+9TrZjMdcfUaVyF00Db/Drvckoq9JgcgJsH6Lv9DUDBYmi3yXMR9UBdi\n",
              "BSmyOVG/28aFkXS/RA6yanB1MdH+BvDIzeBxFxFbQ4PRYNf6iJe/S3vQqz6lCxTQbSxjnFaIKocW\n",
              "/+4LElRlD5QqimiGhJtOQRvTXVkx0vEsl/fypr21BrI3+ZLtQfjWGPWSI/t7AwK10QbawZPHqL8p\n",
              "dD1yq7htv0k9iwNjrARoIVAH9E984BAg052l61q7pUXVRbWkxJR7Ly1VS30DYvQ6WwT3EC8DreNX\n",
              "IpF0kSnUr4oxcz64VdDycJtuBTNg6njxALnMccNeh6Ihmd0S2q4iwBdSKcE6Mep1QyNQf5qIOGgK\n",
              "uOt+5+Ic4c+MS1Jk51r8dtuXcYFcjxNrEnBXaPdEzyFyw/ZwkXf/yHQn3gbNV7I1/mHOLT2a8F1U\n",
              "IhIh+XA2c9ybKevTaIB3Wbau9RBojH4ikKmk+p4/eyDAPXvsJN4+wRbqNZEhARNYBIFz9wD1B22j\n",
              "BXDOWw74LkA/bgIUVN6ZLvFi3ukh/e04yayLOBd9Cj0FBX5SbHcBGIzuYMJAOq7nQuxxLzTAXul3\n",
              "UMHdYr63+gedZPLiDmkLoRtav7A8ebypqeJf3IjQ0V5zNKw4WO2Oo+N9lQdGYl0rkWTOLFTrOanA\n",
              "HJfVtl3TkHCSfmuz/xDlRo9vm9u+oFIWmBjBsWRk9bRdzDg/0g/u+IdUQ64oP8FGMBVoHeyuNO1r\n",
              "joy43g7P0agCNxd8baQn7QZFIt5V0nuUg/cJ1Cs7f9juzvpyc8ONog6gQwKhC6r/G0RtX/BNDbZS\n",
              "l3+BZMcFjgn7EQnFTbdNinsuN+EgkkfDz/muy5EjfpGAqEyf+BUCAt81HEmibmsSTPgjUDWHbNFZ\n",
              "u8zhNZNwyiFPNnKd6qW7I/F7nxSWBCzfC43kceHPna0tEQAAArABng1qQr8ADOWFPOiIpJz1BBM5\n",
              "HUYADsF3opr+JvWNchGFtlFpH8Kk+jUCs8Vl6UNfGfxLMsLz0Sku83FU/Qm9Y6eqWUhJtXHY3dy3\n",
              "1eHv5XygLn1QLovCOCECsXtpRBkn4mrb6+dNsvUK7Nz/y2hFk20KWxzLI75xYFGvRtBOGGKPecqI\n",
              "MLpfyGKWOM1yTZ5R86n65Hi1crNZzZqcCNvgQWOjRteu7nyiJT03cQ5CNlhxSo9h+CChd/iIs6Ri\n",
              "nh1YS/zfGGlBhoDYIINhVVX/Su/fywyv9TWiAzm9SDuYfDuJjPNAwjS2a11dfzYQxk6ukQJYeMnn\n",
              "BHEGJrZfJpbsD7gsd7TR7WDT7CU1vdJReGrCvoYTKAXswcTssiIf7voSqjZWu1JQ3SVayBj2N8qi\n",
              "ORoAN5TXPYWHLAXS4e1c9B1caPT0zEchbGiC/0rr+qDepld4+u1GlZGCmoapaVABWzsDZJ1+j7Tp\n",
              "J8JTSBuNlrFGgq7jiWdy9IgFKn2CMgRYa0uLdOzAvJU/xdPqdaiy2J2JNgvk+zrDJ0XiuYKqaoHM\n",
              "niFNQfeYln11ySnsWTb3e1aNJvwu6odEucsDmaBqgkizw72j9ANni+SLWzX4s89lZIDwuCQoZKOs\n",
              "Hxij3QW3RKUbhPCsLLWoXoFBjQpOoNx1+kw0Ul0HsoJYdKMhRsMSE+gXvs+B3M1C9GKosUSjf7D1\n",
              "LadTJlXnG5YqPsfFKhKp3ktY0HK2Hl981BP/h2UlPSQieArr7ykB4lmVfAheL1i/2DrTVMJZz2S0\n",
              "wD+NholXMECrllLD3vTExiMBLh/DsXucUaItAT6ZU83Wz+3i04LdLwHTfVCc56rcrohDE9uT6CYr\n",
              "rYDVEipSf3zfNGSLhp4aLhk7tY9gvK4AANiR953cIOhOk6b1brVgAAO7AAAHKEGaEknhClJlMCG/\n",
              "/qeEAA7nsp+C2l5wWsPUAFp7gj/KtSjTcInrarFYwqnN4RSgJ+BHgX9/7w5VibhBx8i3SLmgECnb\n",
              "8jhYZvWRixARZr1cOSRBcJohidkS579Tq36fzMYxEpvtzXjDhmiH8UeltQJPbeakQBGdvUvD936D\n",
              "uXTJyHMigKuKzxhOw3zu/S0BLXdoyZ37ARJ0xRxdWxMdaI+5LK5GNw/BzPuuyEi5xHGUQYtb5/YN\n",
              "SteQJmh745+kH9zEjaUVoDWwWpKHLQ07dHOUT2AkFc4VXAspdA0ls37Py9w7a9qTs3/vrtT1mJ52\n",
              "7mUcgkQ4uDLrc2gBlKUgmI7wryWr3msaVBcS3zRK+VUJqFa6PorMM8Anu6GfstEYOn2SmvZ1W2Eo\n",
              "dpZR3F+pm7Qd7SaEpzHwDyIgGMh93vTJsKj3kWhB6Q4c2+8dAG6tUiCTDdEDA9sjTDhR2cMx7a5t\n",
              "CJ1+X8RVJ8FsQBc/4Vw2iIfRzdcEl/P4avzTsv9rXN+k8NQktUFLoH0W1k7SgTF40ND03aVRKOt3\n",
              "PbKrnxyEu5qpQkCtqTU3YU0OstsdfTd93AlFabt5UDbzLpqUpxYmiMK0TxIJv41yvi0dVawpFJCh\n",
              "tx41rJDcPt+pa+zUvRbSoj36nVuzLpqoN9sS4UY6MFdi9j7iddi4yg8kvT0zJqavLDXV30jFdT+n\n",
              "Mh1csc2iCDuYRJT29j6RRylRqvVCHlyjiwV8wwdYMHG4tk8GhxX5hUShH7MG0nb4Vvf9RJOVlh9u\n",
              "0ewQGpHv7rjcHDrzcEAEfR5oi/XCs+f1TMWXeVDJX4hTfsZEkYvnajLwpF6jARpsuZ9FqKm0q7tp\n",
              "jYd6mKwwJ1a5eT6Qy4tc87PYWuGo9jGvKCvfZwQysHkP8DUxPNYlsbsyA5Ayo6XkcoxWMUw2220e\n",
              "9bIMhSoojqo37sHNAfPcVZF1DH5HFcIwCU7WZYcyzG/iV50ya1jhzSvvBC4niC1oFWkjV4PHotbG\n",
              "hO/ilXQUJMKiPDZm1sisg4UY4+gtviNm3BkP/S68Th/Zydxe38v+CdPQMi8L0cnwbrVCfF4dFjii\n",
              "Uezse0o7TQq/MQWfLQATT98oSNlhgJatcAAxd1dgnOib+3rt9EbGJ2el4nUR7cC8P2Z38uZhd4za\n",
              "xwo0njbYrxEXa/upNaKCuviL6BUu5hcLIWGKxo5RjpPxzjvnzBhdNI78oRS8EAtGnv4MNgae+0Ez\n",
              "Tmai+wnOc7Z5zJtXwraiO6hS+FktlywJSCArHp3tkr6Kd3jiiHljYrpRllfbmAsgpEfhvV88m5sV\n",
              "Bb1e7bbWWPtDb4yCXHbKGFLbXxtp+K68amrvhnvizTM883mJK444H7ft1ArBFr2CQ3XhVErLi/lE\n",
              "dJqon1BLki4tkHjrodWEI1HUO0STTYT1NzAAABQy6TLCyGjjJuA9R4uzsTyL+WmcgjatyTBqibbK\n",
              "LM+/7pBtOs27KV/SbaAlhdMgIq5YKU3H/P7LzshnG0Rx9vX+VUiezTrr5mabnMeWk/qqecSpkp8G\n",
              "8xR1PR6xYycfABr17P2Gwnvcue3TY7FKWZL8AyUyL7gZleFmUPNrK7KyFuuYnUnKTtfAO3z/UBL0\n",
              "+uZOHQwR8iQ+NrkOIfNy/MQuRiDWXE1HNNer6aCsAYJUUKx/jTQySQkm6y6KfsQP3FSe5gnzxOhk\n",
              "uLoEz2Oo4qqyrN30UUjschAWdGe93eAz9RWDUJNLGdHPRDVC3S/w+n/TtlXWuvRnUdSn1SyUJLyH\n",
              "B9u9Je7Z/pVETjMWM2D4EHsisQTBt/wHlGpxmArz1eB79Pd8QaGUJFmqzBBdES4NqMmCy5kIvOPC\n",
              "+UWds3jCdZJdYV7pativki1in8jyVCN6Ob4MOVGv9u98zwFhaWIW3ZmPFB3y2Rr9S7bS1Wswvdhz\n",
              "1R1j2hIimSKeTgl2sr9J3c1MOXh3pmUKtBsMv2puLNXRRbYRch7/5YTF4AfrV0rGrQneBLGPPGHe\n",
              "RyBTT+qUvD9gLgk5BG2q9dYlE6XEhJ1U6bP7YbF+2aQaodlr2/cAWPHDXVz/HD0vjbgUscIw8zso\n",
              "A9z9CtKJo2vvgSlre2LeTp/87za7H1fWwn5MGaIZ+lGkDZkHIird6zRWhHnHndEVaUnLwZ8vCJNG\n",
              "z05dZTXoSzHBgfy3pmlS1QzofaB8z8R08DN+NA7kUuobNaDndlt13MiEg9xrgAFnFtDFYhMqkHJm\n",
              "0DKlA5DXuUTYkxzwOF7KpONK/Plx2K89TUhIV1ftLmjmFdmBkEWNd1a4BYpKJ2PjiZxkTgRIFRCO\n",
              "h+kk+03ql4e5mz+/dRMZETZ3w60WAyeLwBugCq9WJ7lt8TkUSe5qdCF/g6YddlUbXku9eLc/nDfb\n",
              "pg+gymJ/ahWfztLBfi/7IDFXfWqD4kPNFr8eYloKjPOCY1/tHtQBpaQ2FrXVwQBZJPmkIQDBAAAE\n",
              "DEGeMEU0TC//AAlvFqkTIpRPqH3KuvpgBDe8jkBIKSCWUWShsVGqYT+QAezI7VIk3OcnHlxWfqFl\n",
              "t6G5Zw7GxvNCmY8YxhmzbTEbTXbJpYXXIKr8l39K7w/LWdtpQiL048gB0F3v9gITDP2ivX5khJ1F\n",
              "TclhtyodwCKwyrca0P2sk17PXyhv3wFi1ZpvGbjDFbqrZYyGhL1Iwi9Ef7YPtVLhyfN6yDmp7pIL\n",
              "xWsANyZJMaMKLkIuAq02nX7NdKb9nyObg+MX01AxBEnQv1aoGkLAzjCXpimGQfFYOfX8hgWjuI1b\n",
              "5VZXghVdBBOp/F1KgAML2qUNpasnsba13rbDDNi46dtI/N9GWHYbSBc2/QhE1aguH5mmoF7LX7ye\n",
              "2r6bGRTx84WNzoXjnop6Fu9dMi4VSOJL5R87n39eODmuNjEhvEps9CFrXu/fmnNGdlj2ckr2p3R0\n",
              "4Eq5wJaqqVOQqKeU/k91kyPQcQv+8SMrRnSgucVn3GDwoFEfnf8dcyhVXXRNbf4Imxfr+zrrLzA1\n",
              "7B9zAFL2EAO7YfMLJjULit5PQsjT4HiMXIkZFLiRLxoX1IlfefSQYnmBXfWNXCNbFjWdsO3qyyMm\n",
              "ZxeVbTiOKSVob9qNrjU9291fVjfFutyHXWODHahaVJ19qVfmTmklLGlLpzP/6MVZwdnQTa0VXTw3\n",
              "ZJ/4h9nycrfj2qWRajxBC64gxX9VLWGk4p9VBbHaKf1rsr/k/O9lyvmXGPabwtrwub/dnoOKhOox\n",
              "EDE3XpglqOv5pl9QP+0nPTgOm2JzmBqlLEAP5ZO5qce0fFs0aXamj+4H5op78drIUZKSDx1baJSN\n",
              "DnPzfbZbtC5oz2GiRuKTw3U+m7ETfw24A3vwuUQfe66RPaBJDad7fkcR9moMQ4rOq0GV4vG/ekOz\n",
              "ziucjzgVT0cqHxKMInXrmmsq7QCvu/MV5lUa27MKxlbldf0JLX0XHFJAS8avUzpmDpo8jpnhO/GV\n",
              "h5BpPM52dBJnIDTDyuZnoPkh65W+1fOGLObRDHxomlXdGMs+46Ct6neKj5AZIdygwZJAJGbZi0fe\n",
              "dDfFDWWAKTbRBHuysCjfB3+z+aw7j6zrRDJeQ9dndMKptEAajnEAr/5XHVQIuqKS53DcLJlJODEl\n",
              "1B0MJ/HbiTafOtDjHRsKyqNwZrisF4oBvaamipRcOkM7/vbchzbGVLboU972ZLYYuAVGaqkv124x\n",
              "19vfqEmAvWCEstTKdQVWhGwz8H+c118oN3i/e1NrAWYEaHiS6jcKxA4C/mMXwjhNW9OiLcWfweWA\n",
              "0j58LS0HjZKj+yX0l/bEYnwd2e1X3kVT1gM3GmPltyf4MamUGLlXOJjm8OKBkXWpB1e8AAA0zSO4\n",
              "Fs/JjUaAWS4ADugAAAKdAZ5PdEK/AAzf/Bhi9hC2wlmLaEfHO9rwAOzeTET9Qdz6bzBlEc0HYcuM\n",
              "TWa599b6opE9PFEm6doEjQ/ZBq5neb4Ji5L+c/HgucxWuqPn5rM9QhZW66IwQc6eD2aEWCqfJUu+\n",
              "5u8OcC/G8wW/bRbfV7Xfnw8UdlL0NFJ+nG22NOO2hqUDLVGh0PG1qQmwYgtoUIZ4fol+GqqR9ukg\n",
              "mQkqkz11H3eCVMU6yv2rklCJpfDgiOrBUxCMeMHCvtXJdvy2mULiQieVZOa4jzD7gGMmWkQuQZrb\n",
              "mY3U9CRWCyORS4g5wBP8Vv/SRKQyoo+8Osv0mNXS/2fWIJHeCCECHq0O6SDHKHIh5fLKqt7B6KE5\n",
              "J7kfgdlZVY/1qs3+FCbhY88tHosJ459BukLLwLEHlJ23eY580hxtesm8NFsPWct1e9a2cpgUDWlA\n",
              "htl8sihimUZIYjRFtd4cBuQj1A4VK5OEV3RhKQqILQHjgO2O9XGTPXgzUWcteWnOZtgAI6zcoCB5\n",
              "UJ683ELGPuZ9iib8QVKVK1ITdinTiQqUDxpo3Ubgif6uwrVuWbg3or7lShR9Osr4QtNRxhcKP70W\n",
              "LA75n/iNQUA9AH6yLaTvz66HG7tGBWYy+iqG8fs/zMmmdC9Xsy7IIHvFJAg1N0vWluKd7pqHQUi6\n",
              "wwexv/Re6X/tEEtcmLGT39upGVEfcB7lMp2gy1fZLPRr6T1VHKiL/o0UIRGBm/Pgay/QKxC9pPKF\n",
              "exiA58JRDTGLzHxxzYP1t1SWbV3WgU0NuEX4XCUK7CRcfaBZsQmWJoIhjzFCteKFz7fLbGoquWtl\n",
              "sis/Q5dYRTfO6w9h61FVmPcwIfit3/th96Jp911mvuBvx4bucvU1kPuag1SVLvAAAL+1HFbRAAto\n",
              "AAAC1AGeUWpCvwAM46sx+/vnoP0qnx3gAdodzD5GpCvpfRcK+JPybn/nrlqRhnjTjW8aF8tPKM3c\n",
              "eReburynDj3nCcesr5RkI1pTdHYgKuxWD9jvjt7jxuexSBBo9UemXNjM66Ww6J2DvUyPoFYc7EnX\n",
              "Dqc40RvrOh+68UYZvWdhlaIc4dSrGqM7QbW6HMyaRC7uOWMcOoTxm6a2pk4KntpNSXzcuyrBkHBl\n",
              "w1/H2lVlgPBxzO2mPDZsOFQsE5HlLOueQD4p3XYWt6qbWHHm0OmVO6Gvv/icEcr05rWO0DYeU9Ou\n",
              "smCjwIe2b7DfiJXWgTfjcSrdnISMUWjkVaG3QWiH6VQduqRdVBBC4eCJ4V4Mb3BSOYKVUlv/gMnt\n",
              "pYgvW+ZdBWcl1/lWI9UIDE056CNXjl0H9Zo3qsK9VDycpmZIUAd7OS2iQKaeoUNX1D0EY9rOwPPj\n",
              "5wwYW7QItfaKFRUVrNQKRQ8XGz457s6+SJg7ToVviqh1i6gwp+HFjCMZYHw/SHKzd9lTBChhpLXQ\n",
              "fEj3G940CI0laZTK+GBwiIxPzpcxPKxJaVNianXX84vDc/wbnvZ3P2ICjedhhBEqAGOgaWe992tR\n",
              "uDwmAlnLx57Y+tox300/Gv49Idv4awMLw5ZRFBss/LpEG8LkYuUZP87pP1qgH7XAPqRf5s+YBztU\n",
              "bGLR5WvWWpt3maJ/d2Tw/DoYvwCciFas1ykJzTUAxkjOJYNXeyFJQzQMaHBZPXRbHhIvIxkMo917\n",
              "H6Wi/+e4eAJiuEKxFUUyGdC8KhiYZBqAIOb8KFEVSIdF59qI8ZsGCHRZ/ZZjpjgeB4Eaes2owwKa\n",
              "KADLzcOHhs7Zq7ID3fy7/e9KAGnGX7e7rgXximE0DU6Hwgy8hDBqSBrOUZSbR+Thp/LbsVIcJ1a9\n",
              "WQ2oE4BAfTrIe6pzmjhJhygbPgiWq4oebbQ6ckTWNT788eAAAY6ntJeTA5cAAAaOQZpUSahBaJlM\n",
              "FPDf/qeEAA6PsqGVwoo2KqgBuyEZHi2tIlY77VgMEB2hsTOkZX2I72ZxbcQzA4HE1ov/It8Cbb9s\n",
              "4tkuTw6nlPmFu5KFlwbWWlEFdMb16GyLctqGnEF39nMN53jCOfZUIJD8BMxt2t7zF/R9XSxqNMoG\n",
              "N/wChQurUSKphGxTP+biAxITarQM64tRXBaDEzBSyMgQ+3wLvjY38ep5ekhDN4hc+JmXmNrJpbpr\n",
              "qhC2HAfOM+qfFmK4mOttydb5CgBWt9OUXk5b3IRF27utdrAAwV/8G066Rhg4wxgka7/wW0rrEx26\n",
              "1e/Wk9yEhokXYmBbYdE+kY54/knQ7AFq9ejFN+d4x1L/fKCvkrtOCgjyDW1AWfNqobcOaUx0G8fL\n",
              "G+AlSQvjR79wMXIagTsIqI5K4DjZ3TDJQjlqCFO7iujWEGeWg94IIeTKmI546yXPKCFKboJ1BwDF\n",
              "+3LMGmCZjBnV1I59l3lO15UnX2DifisB79w97fr/EzJ0p0mf0VgIGCdQ4m/G8vDcg/EOptiwLsZ+\n",
              "JoMOjOY//k/63S4DIASHIp99zJurVZ0DNoeN+j1VUu+r1/bqjzN2MIQwOYYiamDTDX5mYRJX6ldN\n",
              "iKHM3EzGaBUkDqoBggRxnpwzLq+o6tzlTnbe37Sl9rAr8BGeZrPKOcWAABkU93crmjBT+MQ9wwJD\n",
              "car9KSS60AlDuh3Jd4QuVYkTiIqGfiViXf/jYmOgrVfyiAsFLhwFYHdRP6ZIpmcuIF9qGRPlGKO3\n",
              "aCwayrK3/BoXvEa8nYxxwixpzW+pQ/uJP1iPitkB9vpGHUkj6HBs/75LDgc2ou3YAMFeBpefTmju\n",
              "nJIw9WEz7iujA1JcwPM1ZwUELDI1NtCUG/+Dx/+cabeEFQon/qvSzEmZ2oFSSd2oOpb2tcOtLHCp\n",
              "OIYzq3/Wwu2YA0wKZfF/CspTZhx/8trmhmaBxqhBfi9KBn1KMnHkvX4u6Oek3EjzFVPE8/5T91Dt\n",
              "yKFL5D3cJVeuJGgghwiESE1p3vgn0MJioAGdbeM1rv9iMZfkKS9q+mXhN7UhxK45AB+YTP9UYzwa\n",
              "9KlLAFS8seW9s7nUh37NnjSXM/eiX1aoN4szFpKPE+2sV1XtK9d1NVtsC6SGnY5ilG5kNbFzJqkr\n",
              "3EP9W5nwFYfWS196qPH7mz/6/IOwbYXbOzGgl4rttMWYQOgWHXRDZkd+GYSVHpyqhOn7zk3gIDXp\n",
              "9OHDoeheSeUiGMJORtmNCx1fIdIK/xuiUF0HcEOQ+d53wX0ebeBE/owBThg2AZi3IDHQk406LE13\n",
              "MBNCBEICfXx+S4pJ5B+Ap7u5FwS8v14NmG2NOdD0SMyIFCNHhjBpNOUs3PkxOZX+UiSBIgJQotjh\n",
              "ZsVwoAeU2MnHSdqI6dVgBLjjfsx7UVvPJ4uhezMYZ6F7k8UKyCinZDzx+pmhSduWKzm7hANsbAVn\n",
              "muiyIEhVqAqTMsxnQy8kShYHNDF5ksjEDm4JqX6qgAD0V6cUaoFrUh6V5394nhHkkKO/61gWutXV\n",
              "+rKiE1pBxUzZ3ZOlz1XKBzS0cEj1aZnOAz/gtj2esg58K8YNJ/2a0/88pszqyDbVTookEj7q8GWW\n",
              "VBUuWh+V6W35l5KhaVJJQXOjUa538+V39HEMnEmgBjUBH20rYlTFo8Cqe7UVFEtBqyD0vSriHMDX\n",
              "URPQX1xWXqvYwPjxlhkvYH3JGdfqv95mPgzk0IEPFBZpnmUhk1U5p3+nV5/ZvH6AiThAkvR75ELK\n",
              "Ow0TQadNeE5dlldyGhOTFx9TVAFjheOEQtbu77mmqhpyezcIfJEwJxD1V9VbFdNThDu3yfUS5lGZ\n",
              "+IfK3SlKGlwVIcI76T0cc+5XdXMaoIT1b7h4OxmdwF5H4p140kaEYF/tfZkt2E96y/S4EoF0fFc4\n",
              "qR8Nk/jV00hPsFJm8TjgsKII9S5hI3U0rVGK95ncMJNkN3iMUulbNkt2wRAoaW/upUjAslz325x/\n",
              "X437EsHVZ/0BDM5Y45yf1iyBtyhuHsv4A+2OuM4P4EqvzN4GWkf9RbR1XKzxNuW5afvw84W0zKRG\n",
              "cRWqYJ4r0qWOSPBG0FQ1R9i9u5EO9tUvIhhpuSR6xmdWlQVmghvQk4QR4l620+Jay0HRAWQZeeGR\n",
              "iDG0ciL4LLkhUTdjSahbfSW58lwnzq6pLrmxhzp8goy+OP/YdEF/YBMvm6cvaxx1jG73utielCAh\n",
              "5mIoH7qcEaMgtaToBF6t6AAAAxQBnnNqQr8ADOWFPz02dXvHowo8MpAA6eMcbjn72dz4wDjoHfv4\n",
              "KNxDEs6aoivBvLsUXzpl6l2AdElL+eJ6YWj5mgUUTKMTg+KOd3iuRXWXTowGKNjtFY5XkYQgcakC\n",
              "7l0GnEAWO5BZKyebI1In9WIPhPkEaP/39ySSkNBUKZT7v+rzF0+PpiWe7ybY4dxRPc76I/VQAq9+\n",
              "wCG1nv9LSCcL2MWNzuL8Wv+RJ9X+wKXQQxhDWHyHaLmCMqRWbLKJppg+7NMtUSNoPK/PxG4e8sEr\n",
              "/CU5dS3XUAmpa6wxs86YRXnKW0jS/f+sbGaxqGVfFTETioCrFCt9BFHnphqhzTNa81ANroPkiMXJ\n",
              "oDDFDiiLr/b+LlMjw7AV5TjheJhqycfK3NBBNtUPvS7kxi0r+G4mLQLUS/R6BbsbqYG9o44qoTVp\n",
              "el49HlBGEYnK7MwuhsxT3SFzH3X11hzHwJf+zr4KGojSG/KWG6+6f4bEoS39zP5GHrprvJveNYJV\n",
              "cy2tUigzuAbKBwQuJvI4KKaEUSwbf2MA51FZt9RVmVCLaln54PZhKxzdPnYz8QWWAySlF0DPhZgA\n",
              "R5jh8UGRvI7lOX1dMX94JQRTJRPMUeXBt2f7KETcuLklAmQM1+0qDg6bJeqJZUgIjUt0doPy51q1\n",
              "sLoKyXRP4GYXkFa5DYrfB1uq3MMc9gL7WksgndqtE+ulbz7GQLIl2VBT4nt/2LWnvEIcxi0Nwyha\n",
              "bBjI18Zgebrmm+puS0v3AGvSYJxHpPGMzDxcd92ruAeCv6+w9oSLiYAyjfZtNYx/6TSx1l3wDY4l\n",
              "Jz+V8xx0vWox91EuLhJG4g/tgRw3L+XviR92NgaS2t0jW7XLVHtdFnscC9nk8zvzBZYEJ9Y/akHS\n",
              "Qtvzsggak1jsp7tDSVvbsFQWKip/kO90PvCbGZHBz8q7SQUIhSh+jYl4LPJOD+GmzoJO/eALcV1w\n",
              "8M2E17RgbjsWBfTpPh9zV7jTLS35KP3vtycqnfHiDSztl4UMPbj4njoaEn3fe9rxRIAAb5KcbjTY\n",
              "1Rv7dIOihXEBUwAABfdBmndJ4QpSZTAhn/6eEAAIZuAqRBbmAC0Lp8rz935r3IN/T22UdyocC2ok\n",
              "nNH6pPqff1qtV9ikAF3J13GhWRyE+DB4u5URocdpPa2hfxM4u5VeosAGn4TT6LRdXYuIJgRFSqlo\n",
              "PCvpldqx3RhwSW8CVJxDXs5ojlRggZAzXucnQoVDUZAvx+VRvWivvphuNgP4auO0aiUav0n0q0J9\n",
              "g1AMxHn/7fJvP9S+cwe9zHNRL5eN6wmBuPIlOCkcBysZyOzHLNaNGlYgpw1VzN3sk4Ex8cQIptcl\n",
              "96/SDNZRQeq4/dWlIuFNQMOLX8um8+F71UGapSfcQxmkJa6RswJai8Podb8giAMj5egzbScbaE8z\n",
              "QxfCnEOyPIGMQurQrRm1vHO9at5pPqLqpfS4l/I3cPtP2mWqCa84rgRe2CDcRhnYkeFIpFwpavY3\n",
              "Wb63/hiTnybODBGBd4aLDtP7HzL5n4w1/t9KlJcZdGb3LUO2CP89zO3W0Ody+VrVNqX/Gyh2Y06b\n",
              "8olasKRddGJCo5oW2XRjNF3VXq6ygKTeqRR1tVhA/holk69kwe8yeYE6m7CeGy4/rb42i+UF3PFR\n",
              "5wx+F0LevVejS1RT2Q1ubsewloVQq+4N8VaUAc/YaQrg2Joc1RAAIlP+mhc6k91xk4/bvjxcwbfP\n",
              "OVdC3Tr+zxtjcx9dsdAkUR+feeYr6sEl+7kzNQ45JYiU1Pio1yx44BAP1L6sjfvNHMrOEBjI4CuZ\n",
              "lmuwIKrWDMfL4PvxldWKKp4zoeJUn5Uz49D1NO2gL0lIMdU9SMh6VhsDchXVH3ak4h0FVyw+wUGz\n",
              "12d/uilcUDxaexzDIvaTE0zWhe9GW7nilsj7a8oaaKavLIrMnximudQi4FFOUnkgywx58q3R75qC\n",
              "7FkQB/IA1nfbrA9SXojBpQp5oMqaY0hy3wFKoyA2sdWM9sLfMsAgoSZDyN+50J66C7q4SJLRu3LQ\n",
              "AeXtdyTWQ4QGqU0WE1ryLiR87s30hPO7vN3eNv9CsKqt7dC4+GDIIjj/W0GnteTB8qRxKR8Ugfpg\n",
              "mR/klNAjhqIO6KGBN/FZXFfENqXgMX+GV3RIdFAEfDIJULDNbj6J0u2dtvJE5GwM/elYP/JaHRPV\n",
              "e2ynML+jhe1GLuJz2CkOQ7rDxFLTNToYQExGiBx8quEvwQnoh1nV6iBkLZL6rzaE735pI8t7yvbq\n",
              "h9HKByQBmsiCo50QTH6vHxaaSfNTa5pRlTdZvwkUCkKvEBoDdkXbDap9M4kwJ/jSNaWMSubA/JJC\n",
              "wGFmwF1jm/qZFE6o29Ry9oWB6ZTc1iQhtzqVrE2NOumzR69RoldTMmmNelw56S/4LSDzGJw36lXf\n",
              "aGWmupsaeDoY+z/pcelKSr4+nMOQQfmfP9uRGnt2SG0DrbO+Zeuz0D6kYcUCj5YgRhLPJ1mQ9ixa\n",
              "cyeBACzWyM0hG977wCqWD1jhyJLKC8fxt89QgVzmii6v/zXEujANp9q5FFPrRzuLzMgx9YF/mRTW\n",
              "aUpwySs/+uFaKORCh9ozGwc5Kn+j117PU8QS3knwaiZXbh+8VJu6+p8q5ROYV4NrP4RrNOI5N/3y\n",
              "2FPHHD3W+MHTOpBjSow/rD+GGKPuMWz+ngPsZv38lpqhhirH6HW72Uruoasxy4YXiySJLKnTDR8b\n",
              "O4AfuWUjkKfdVvOdeDxh9MltM6q8IVxuPLTekw1mqc1xVD7482/wYweAQNZOFC/YwSKNM2Ld2Wbu\n",
              "KLWYkNUsHsi5ga32X7tdAt+XTPwE8NIqJpfTmgSk23TYfIPGKa+VcuqGzHcSn/vxV+p+FTTKMbig\n",
              "7Zm7LcoqeJUBCTTSJulFu/vP9QvTGWk34xWHvFF3J/SldGA2CZX07XH+StqtfiGu2iOYUr69+CvZ\n",
              "xjC0y7hw+InXmDcQDwtNPNoJITQUDLsbTpANJXUp8tRmcztd35zlQnYrjxpReLLJMfETZiQ/U36d\n",
              "TnfpzF/YCfntMRezWOyHYiXY+Zf7CXmfvfZUdJodGzRRVfVZ5ExEHcDyGOqbV2Wn3aTsq2wr9hST\n",
              "HsEAAAOFQZ6VRTRMK/8ADOSXE40oOqzWUodFwjmBSHF1oANqO5Kz2RLRZWonn8fWOGNO23Vr9zYX\n",
              "pFVDxx+sadT1JqvuKaf4gfb7v6/lN2fwQMTKwSkgzqH0SB+h2H2ZLKIA8Q/Hxl9p/vy+WT+nk8lW\n",
              "2MN7KqxfIfZ6+X+n4rG0kCKHv4yTNenehmNm7tESUmGGZv8+u2Lbs9B/YteNLgsQOtAIIw9rfA8C\n",
              "fpz8lpcoGAoa5qKI+qrDjbSLg4FMIQ13Eeghe4t8iIxgyWuREUnI+EfFjvOCYHB/01XOI2DlOD1Q\n",
              "7oeZFI7skhSEAGvawIzGkqJTAAZPz/GLmnNba8SohsVJly+v3JlmaM3B4PEZUbNLgF4kYj1GvDy6\n",
              "tHAGZ/qgBOX3B5Bf2Ak1o3oToCpsQvqhhMBt4jLgBz5eumG/6XnDZWe9SFONgnW+Df2NuDwrWuYq\n",
              "WXNDuurt7UyT8nUDtQKLjzeggYvayzqNnJvJlOxB9FLsul0Is4kxfYAAjPHDiXcNxaaidFLMFZd9\n",
              "eH4hwM+5R3ZAmjMCUiyQTaCT9xOvAoV0+GsVi661z8+39ICPdYe3XBqBBGL4Gc+8oUeX12iwHggc\n",
              "JP+SW+nVgoo2toFbLZePo9jr0JizTGvcu1mFVwHR0t8kM1nQsBpDwVv5JwzZKi91BQ2yeNIdwpJJ\n",
              "+UZJQ3SrADrMQP2i/E/NW4Clh+axLwqOBc2s2BOAUoXR0JZf1Os7uzzMIsa3QMPwd82pgC9VV1gF\n",
              "O97+iu8rxEkMu9ruKqKNRlkUrjHCk2uDzjAWX6TAoTq4vXyLp4cQbk/kSF6tflg4AwzU7WKAX9a/\n",
              "tH691qGv0WrNAWuVqFcGVYRWIe+5MOshqoU/lfdwpcDi0n0TS+IKghlJkv2okUS+fCss991Z398o\n",
              "HmvMM/4EGGQtBggQsxDK7lSLufga48TtuPtvOmiyNFnemtj3DO624iaI5HEGGY0WtzXYym26/L/n\n",
              "xVP7XAgOyl2PlWCOq8naFvy3detrJBZxtf+sAzCplMwG4C9OL58XewBnqBBBjCJRCTDrWf0lZ/t3\n",
              "AbiYH2ZFvITepA470iirs9MJX1nHtuoyTV8RmpPvO0LaYdhwqE8E/1tfRzgTS8qHN6dIjEDY8T1b\n",
              "TH8obmtkJcFy3tm8l4aRRu1/3Wf+VR+xpTV8ABGho7EBYJXYrFmmalsGQIWNdn7376IEzAAAAsUB\n",
              "nrZqQr8ADOOrMfloOmsvYOHF1++ADtDRpMwuT1up0Ulh7bXUMJg9Vk4JKm+oh4s95L05yPx4hvgU\n",
              "+3Ckd/ZT3CTxxPHwkmhdKA/fbHF9fAfL43i3xt6s7dbZL78JLOJznBjOrBlmxU9V11/ivVziam0Q\n",
              "tbQo/VRAqoadjv03iC1kX3k3AOLkjwxEJG04QtqyMl6wRNrip1rfnpDLj9Q/GTY/sgsZspQtWT2i\n",
              "xa6rXp1CGimrmz/H2JKYkycQrHJg3aus27XtMzqfi3CeKaAPrW9xQ0L0Tt+eseMh8c2o3+XD7/Xq\n",
              "X1gcCLP9JtVxwwe9Ki4rBHhn7scdc4gnVZogeEekN7jqlLjAjgQKs2F6WabGFb4MxCOpvH2NV8Kh\n",
              "/Eu2WjZgpA+G3T1wUObRwvJwgHXr2K7CvGR1cuBNlcZS/4Xitir+ft4J3CrWR2xcvXTr6DsbSI6f\n",
              "M61B1q6csSeF1utmD+n9agex53SWxPeGbvg8absnsu57J+3oCsmRqI9YuBoQlsNRfXzyprhY3rLF\n",
              "fdHfAWrHw7OZe4t8+ey01777sBWuHSDHWP3vTc+vBtrWOH+z8lUQEddqLNjVf/mUS85QDg0J3ky/\n",
              "0dtcOo41IRRU2PVbm64K51iLJd7RHxy8tr8UHK4vjZhtAQ0wSMiWMljX4hXi8qNfTIboMDFy9Glr\n",
              "wIevdz3i5wyxRXUg0aq02BvZNMolORrx5EOvyZvDzTLJB3O3LsqniflmVrcTmbwGyL8smhuGHU/F\n",
              "pXOjz5WRaCgHZclLGK+TFojfkf4nBADXgRqNuYvlhEg1a6WwnH0ZE6Py9zPGN3YGn8a4mkTkTHZS\n",
              "e7g824jorj9a9NTSClPWhQiZK8OhO4v5iLsljBslnNIX4nSKk1H3yHw3FAbC4LG9YGQGQMiNjWHo\n",
              "EsRAABDFcv9FW5gjTmahxxh0uXgMYA9JAAAEW0GauEmoQWiZTAhv//6nhAACKehCglRQLABYkE1D\n",
              "iGyRW4X78XPJkETM3Zu9olNKmpDcY1irGzqmLg5cA8O5yYpBpMTG09jwQ3tohplT/zAwACo8y6NH\n",
              "2WHiBP/U5SB2qfITE8J0s9UfNIVdnSgnLODVz3es7w5W3Q5N1K7qUFMroEoh/mVE4CokyOuLN2J0\n",
              "uJtXRD2RvOKM73EiSQDb0WaxrwTVvoka5fEx8rcVaVqySfVS7ghLTNoViShYldKXPJjmIhEjmYpW\n",
              "Fotv2qJAsDNucEbXzjZWTC2ineNbgoKlkaJl2vUJj+7yXLa7IMX0trscZ20Ak3sk9/eY3jVMdnsw\n",
              "vGmxqATfvL1JU4NM4F32lGaQgNmVBmIJ0ODj9PkQcUUDSPSVlrpgEyknw1913OryNB9eh5L+rXYJ\n",
              "Qi0jCXGfSRHqj0mDav4ewID9FkerQnBTULJTJ4e7g4cMNPveeUq5Z+WF55kWbQ5q18fAnfsAVWzu\n",
              "1v9M+YdFLEoN8EV3p7M1gIHvbTcGjKdIelayOxI1xl23db8+NY2P1yNAPargCwmT/krdVyLWBr9M\n",
              "kbqmbyMR7ZlRN55XKxZJWKEFHsU9Z6kuJ4zmbkdtAh0suAmbSPgQup1lvAwEr1iFevkB9vgm0GQ7\n",
              "cM8Th9cp5ggG1NVNH+XZeHXvlgRm2c2XoKkhAUXGMcrS9dYxxZWGMs5eV3QtAms+1AWcvPunl6jh\n",
              "ovzYe1PGRhLZL3cinUt0tlZyZ8ApYsPMDzjctP83mZ+4rm6gGxAG/B+dVRgZokj5EFn4SIOl/bkV\n",
              "G8t23o+1upN/6VB/8BR1DxhtIwlGk+jLURRqWjxy1NEn/VmQXGZL+BAQEyQIwZZAOji3NWrz14xh\n",
              "xPMLk+MuIYylAzFbDIuUXWgS2HilJnF/6ZO6r7PD0yickte8uEt58ReuABkrmL90ha6dUa9eWNmV\n",
              "UdJOFTnvdCRKnXWu2BU2q8Ya4A1THPEdkBXNAH9PnWtyUOwJ6EpRFEiL61GxqFcoYQEP26NqK1Al\n",
              "OGWYOtUi4cf/LyajOA3A/MWhm7cGHEGc9iXypZR79t7bxmZ8Y+RRULhfP5E+9L5XOKROLZHOcb/o\n",
              "/bytucAQolo+OFWzPgqtz8fRsP1r7AfiZyag2FRUqKdoOI2pq/tmLDuaxUjMmBgZim6FLNijH9gP\n",
              "eAADD2nqAvve3IcJKJhBZtEHetB2Cg8HEvyuT71/I91bHuJZs2rcObhoP0l/bdrUBnpLSgZ8FVdY\n",
              "R/lMIFC965SvYIj0Fr1zI13GmzuCcMznP0CBYyEPN6eC6ZWYCz+65wtIMVcS3zoAc5lDm0veQwnI\n",
              "nC45eZhjkxJV+aPv5kjP9dNTXpzRfTkBj/l6Hp5ibU4oE0/qNplpsrPbvmuWIde5/FTzPwdMET0W\n",
              "G3JVv5GDQCYGZ1ZCc+dbirpMTCle3xJVsYKmpjM9Hci8niv2EBvVb45z+aC5vF6dZILhzrFKsOR2\n",
              "xp2BAAAFxEGa2knhClJlMFESwz/+nhAAOj7HfwHnvH/GmAEVjasxzA3+JTRF+1Orp1XM5lgIqqGD\n",
              "NZo8kNGEH20YMtuoKHocyrJR6AJHcDByWV8el7K7vngkmOBSzXX8DuSCDeogFsmCtIT2EufDGsGk\n",
              "/yORGoHCVUc0c5x0MmEhm7viXEEgbnQZdZaEL4HxsLTsk80Cz3qxsSNdcAxPujypHKK/gBxp/lAA\n",
              "FRnm4FAvw2/R2qgwjodSUbM/fYgpDhhV9VCYFWrbbtYQ/5C0Gvnepxm4p6aiuNT03pmbxOEE9E7w\n",
              "zWhHlJ+4sU0TWpI0lBeywfl/6fmGW/uOswJri6Fnsugyt/xJEt3421u20o6xUTvJfIp+r4uNAxOx\n",
              "W0/iBSEFN2iL3DG6jakKvx253/UkptTyJ8+JeaKc5bpn7+2VLoc1GFLSK8Am3KJ1hms0YLFC84At\n",
              "KzvBbA6Y4zLn9zjGeC/rZXL7fBnPddq/kmqHAgMmHwrmhCIfdVReuGMIQYdRO78witcUEnF67Pr0\n",
              "SXrQ3SntyT0Y6qDuspQ6JL7O49q5WW2O7zB0hCx7WP63xzSmnHXaH723JApyvt+LU9xKuqPnf/5J\n",
              "BTkC67VGfkrefuz78d3qU60ij6dS9r6GQQ207zjtYor4EbJAFSUwmIH5cJ5ZE5Nj4/1dH8lwtm0E\n",
              "nJwunohOid+wWmDYMAAGtO3B7tNSWf4mp9bYwx/ZHip7xmyK235xZLIQpPDIoXxiIh6rLi30+OkO\n",
              "zj2WdDINHPVRtFD0cA3qt1Oo0dyBaYgB7cX90LFO33tUcAkvPI8d3card0q3r9AsHnZ9hnAerrZy\n",
              "OxHXtcot5bP4Td59vwYQLrgHGnZ+czutA2kMvab93te1nc9vhxpnHfPZ0wNF7pwJnm3aLh+SUegy\n",
              "JXAJr4EBHb24GDQGpWEueq6WQOgCDneDlDNsS2BLEfxKe5P/fDmov2ACGuwbCc2Lh6TvoqBKlDbo\n",
              "RKnXJ0YU3rO70xj1YG2Gld1+DV0Uwz69g85bYFY06s11DgiABoTbS0wlrl6PLjVbSBb3iu0+1pRE\n",
              "pEDD9fTKMYK6lXpHaJ98AEkGI92C0pdGjO4H1Yek/fYGlnfDTRnMMd3eiLW9eY/wTWpcs2VMqArO\n",
              "g3MuHqJ9PLqU/BMjaGL1oWRt90Ra4StcLxzNxOj5AO3oclteA8o/tNqwrKIDMFwu8ITdQ/LKlbp+\n",
              "1TDOPPhuZ/usHWBW8PUjU6feb+fVZxN1mvJ5azxns/sJUswGv/Afz/HXDPQziBHmOp5HM5JKsP5X\n",
              "YD7B9tY7XOki1Vu+0JnUA436CEfKu2WyDO3fOltMgraVmXS/6+okdcLlLjO9ISrlSozBCXZdjKOz\n",
              "UNJuPApU/QcjNCupTdN8tlc/XUPwtjSHbtMvpFEdO/CBVwexIzCoMCgScLMasjcJTpqkjKR08lOB\n",
              "Ewd3g3craDpRI/6lP+bNpfsXq35qcwE9I/6OctkV9m9l5+RCDhX9BLGH29a54EYzOEmeuI+ir7WF\n",
              "uN6mdzWwbzh6K+tkxwDtQIy8M6Qndm1t+BteDYQVDK1cyRlLzmkKMY0sdI5tlQcRpKUqdyPAVP5f\n",
              "awIRQsG1OpD3U2MJuJ7zigzm4WZ57HWID7iD1g+8G2YaTYt2FbN7SKklWFpGiJoEVev3lPMWATdM\n",
              "QbslvZzMDPswv36ZGu0XQLoAb0GgN9C55Kuk/mANGpJQ9i+BV29TljH5jpbts8I94hx0Sy66cnPA\n",
              "kfT3zw6UQ+ltFXoAgMj3XcOywIMEQR++dEOFA2EMO3KO6+LJtirweMg+15Dcz8TyHtSOejaZJg63\n",
              "VUt0n96UTuoLdUS1yLB5Iy58CEIbLDfLyL/3cd3e2XNnK5boHmk6liZ162/pjBcVRWPnYb2PcuE2\n",
              "tXz2MOHi7cTnYOE1XGMUDztrX7+hjOYFleWQmM4+Jsx6Q9Lxv2A+dYPZKSBTRlKBA11rHNZWa31S\n",
              "4QAAAt0BnvlqQr8ADB52vi+6+Ju1iY3AByn9UF/ZlyXNTFQX0/YC8pkARyzClmDS5AoANs6O140f\n",
              "MpS74jK4pahLyAuDytaIJyAACQjdnko1aGraHEuKx4BJB3NGXOk6XV25IVwmSXExCzlHIQEwHP2s\n",
              "hq8bs+45t5DCl4hwqkmkZhs4H4+6oL/SJTDQS9QE1o5ZeuyjWCG372SlXuTzdBh8zghKMIE9+tcu\n",
              "u3DOjC9h/Og/dH5UKqeWWMmEaklgkKcksp6an9AzdPHjDtWtbUI3GRat3VdkJO/6aXo84jC8UYLa\n",
              "7I73Nn9UKZsG+NNttR6+3UrQeVsemwlbvGFYbOyCURIvz2WrhxCruMt1q4a1SKCQNYA7BzjIqaKz\n",
              "+Jxtu+b85qaJeJnylzt0dKeuILsVwKzHfrAt6zCZedRD6QsbF85T5j2SGLlCT07lxCBaSdkXrdhC\n",
              "/1lf3nsUA4gsexR7vOAsblDbXsEVxOWY2bWQLaea7fjV+o1eUBhvsMZWdsxdJYlcgroP0/G9v+g0\n",
              "U1QpmK5KPSn4+tNXU3fe828QBgayzZB1olvZ+TgOWRkfg8GMURc1YQ+Zi3VBQn/EORr4nV+injxg\n",
              "o/voBbbo8kXz05cJSXtZnJPGE1815SVLWHE9pjVMm99yjTUhETBXeBIvf8Yv5X8qlXg1oQl7QaYp\n",
              "RdAv7OnbGG0Cc5/fnHMB1Y3fUplRbie3e94TIKWxayqVtxn0v3QMpo4YCwz5opKl9Oml2CUbkuhk\n",
              "EnW3QWCUSCZNLcoZycAcVQO0abdn1URCQaZVegnOev42WfLUyUhyq9wGpFc9SjE8O9eUvm2zPJAe\n",
              "BmyFRNqg4IPgqxR/cBsD2gyyA3JN8mN9v8vR7Q28DywV9HeFTqsHL1S7m5sSfCCgXQ7YZMjZrEPz\n",
              "myrQcTImZGB43xu0qo7oaD+i1FCrguAkiTcdtkLhlIyEmP+zxXuAAF6i/t8qSaEcmG1ZwAbNAAAE\n",
              "rkGa+0nhDomUwIZ//p4QADo+x339H6gAAvXmNTZZ7z632bnO7m0WOb2SjH01FaPp/lps7Sr1/nGt\n",
              "+raI6Qbwgimy5bCcnh/r+lkMG5XZGgQ83wHYyBA4dWPTXRZ0Da3B8X+ZjExQ5JqbZsTESiPxUxMe\n",
              "IAliwWNICsPOKZ/zlLng6ZXJS2Xz6tN+UCN9ep9MZBr2jalzlbHkvd0qEHFxN33QHW2lS2ovZ/QZ\n",
              "YK3Zwmmi4baHyCXq/sDk2dGBsJfO85TLRKBTM6RMIAA+V/4vDI4HYj7wHYqGa02FQ8uFV0O+CnIL\n",
              "YE93EuKLdBvus//bOz5CmMxecV2emR+f7fjK4xv1KxMp6NeTQfmboDaBFtPFpEOjR8Cr/7lv9ZeQ\n",
              "KWg/wk83kyAzn5WHVxuNPL+BDKpqzBuijUakBVxTT/+0Dv3cLzaiOrTiUQSvMrkZBGVKhTLHmK7U\n",
              "xOn0ZooI44jlhG8fnQlSqGaPtLXbFbqXCt9ZJx4H3x4cNR2VxiHguP7r9I4GLoiGyaw8AXuzrSOF\n",
              "ecEEyh30Vp844tlsDOXZ6wO+5mfHfP3sVJa0RY6UsydzUb+OdeqBpGda4c4yoTc21kAMfjGs21co\n",
              "G9ijgfsAjdoD2ch+/bdL4a7fudq8HlVxEZw5tzWbbWZkJS5Z053lnsPSzhV2999YWuUgithds25G\n",
              "0YL+0Nz8RLmvY1yb8ASK8EIeEYPmv98L2I5dHz5gVCOHhFItVWkT4r9RzFeSSQBkASWwwB+DShbB\n",
              "hIus/3bLZoWxPXSFUKsm6L8uMnk8a359qVqLxL5YfAhtiaiFwEF/zt2BgGjPVGfnyMEXKlVr/2xB\n",
              "NCLkin/SarmPdUbEZ8XmWv4sM0SHH/KyxN1+/lYI3nSys0+RU2UPu2b2420DgiGA8VNiojkG4Huo\n",
              "+WzJK2IeMm25Juw4ue3K0g9tWydKipvOHjpUzJT7ZZ2CyoqljvL8sQtEg8zq4r7fhemUMuy0gHjW\n",
              "TTult2s1huRTbB2GDA66JbvEly1Ee8eI9+/Tt14ajWs1nLYvUcanImStVDPaxTGLlFoqzk/vJFDh\n",
              "LRDpiLRv6Kfx8RMcID+Rtg6Px9VlTJMAzN55YsgJdsZuBVXOG5S+bSZXw8i8mZA49hrG6nLH/V8s\n",
              "szUR0s+1RAIokMd9sXGq/yMOEfbdCso4vYFXW4dzvEB2fPSan+kntG2rb3E61SuvtNuHZES1fU0e\n",
              "jgqW+Utr6N6xnRuWApY2zfev70klkBXEH2QHAYM+B5X0pyHf+YLczdJk/qKFU7qDq7vWktIYu3bA\n",
              "ipyguwjjWBCLgimzPB5gvCoQYMxdLvpZZmI4b1yQ1zBa3enkmSD6iqXVC6rJff5DmzeYP9EmvcQA\n",
              "KLSfjpDh6G5zTnSSeMCjOvsCJsWk6pOhbGa9L436cCTayE/0uto/Hak+JdVVFYZ3hBYvpnFKu8zw\n",
              "W5dCCH3wd2MAQUK6CepxpchUyuhQtP3L63tZrmpuzQzZ4bmVATDlDl/PWxXPaCeUG1Q2e0D2fXTF\n",
              "s95pqssvtcSeeiXEP+f6BJH2jY64lyjKfQtKyllxMzcTKBjuzMwgRFR+zHWbOoP9565WgThtcV5F\n",
              "McAAAAYlQZsdSeEPJlMFFTwz//6eEAA43sd+/4mh9wuAAFP8w6s6QT91waEgUvEQtCIdoaZYdqPK\n",
              "KoSUikJGfwZqP/EecYjovQDaHWh+VmsbEJta47zVMK2poIrLeyMgWPD6e6mhQAAM3K0HXCKrSzDc\n",
              "n6MoyVpafN29GKOwUEH5oYnGj4litUJ7/WnDWIlM/e7y5AzpzPqDUW5eZ07Iyl4WwZj2bwsPW9Kw\n",
              "ovuWNh5h08QjnbZ5P2trfsb0m/kRkwjG3K9TLafOOwiQztoMDh7Av6XcE6NLpyULju2IH3FJt3R6\n",
              "sTF+eIqSsqHgRdd3Y0MrZIC4PFvXp++it0Q6uUWP04tZMmE+aqeWu+2XdC7ULVWh4+/ktOPyGY+X\n",
              "0AACz9OkgHcJ/RtX1W/g4iv0ywkFEZwiEhVSzVqhZbMb/z3I5oqSBolsSA2wEYOOMMvu/4y1sq4J\n",
              "f4ZgqzHvJRXC/crOm2v2dzvSTab0ST1tmU0D7honxvwuDTtUb9GH7WqcrYAqVTqYqAB23z0mAgy6\n",
              "/mXE3QJi2+yZuTlcAZR/xJGVC9Uk8+jp5yZcoqo+I/Zss5AAAPlvwe1K63fqFl93ywtdKZjP1XfA\n",
              "5oLzCxFowHSh5UYLlL4XmhBW31y/W3H/nNm6LfCFU+633FtVORCbSTqP5vScoMbOy7xbxniIZWG4\n",
              "LxQy/lilkBgLp+K1rOr6CnW+7HfO+4hNd4j9LWG0tTBAtrudekmHkUo9lqllDk/2kG8geNxSH6ug\n",
              "sOdREmihw/ExxnfhV9K4I+z+dfENsYX+mpTulWNfRkLvK++oUstGDI7z1qEHoNbHcaQuTYBLlnUz\n",
              "wm5PJ7Uv6AnnIy8oyY8Sn6dyZfgWYESYfnWuH0n+JHIh+dJUeRoOr+Rd8LWxFFSGtr67ipoJH3XA\n",
              "kNiM0caDYdhc0qBdf/476i49nk28V5E908D9UYUrTx0rnfOqmpYe5gCvAQKgzao+sQZk80cJFNkd\n",
              "KCuFp0FJ28guHVmt2HOfXnfbJiAtu0h2MHJerj8suDXLRaAQ/W8NFJUVHDwGTFg359P6/ZQEPTCy\n",
              "+CYPtRJM2xuwTOXYtMgPg/VUbvxaO8RbN2m9a9+IhHNh2MYjYb16bQUx8Ei9l2dgI/GLBUqYDxjR\n",
              "24zcQwtTWTBBRC8Q3dt/C7IbsSmUdhiz9diRYgQ4KWKLoFAmyypT5pa5jF0w3TepEacj5cNahYnO\n",
              "NmKXih9CEHx4IV71evVl+httQHRNjOdkarcEDQn+IwxZ7DWo8TgJL9tNxxH4IVcoJZd4eSoG+7ML\n",
              "Tv8CA+nC6VSaflzBYrrmfgXW4bS58XKSOhvrLpofiLQgQSwkXe60xbp1JaTmDFzdnk5hmQd2Tuda\n",
              "yGIyRxaBzA+TX62DYYK0CxXkfpt6gFH6kPb1bCr7SumvUlssdqDDFoI95UI3+lTvrnANzwfyqfEn\n",
              "Ne71ifhknFoZnIhReziyzviPWVv8wIYhodq3Oj1TTE3ra0TbsOp9jJ7zrBA2KXKHEaPcxtDs6Wlh\n",
              "brBG6VofHWDj0Pv790V8Zj/01nfPpFTGr6dE/PROjlP4IJzK902/wHnS3RXf+CuPEqzlLibo7EvT\n",
              "4zduM46JFzMStjEq2iZuaPMkslR2r7n0zApkFr2Czie6273v3JQEU/zBQteM7xeCmQ6HkLvwqJ3w\n",
              "mhhoIC1NWT1BnQ62fDQnjDjivwCYyUdOes3FC1//mcR8iC73K7g4mEvtVvu2HY78CvWgzdiWppG0\n",
              "TAd8jZS3NGBpFYZOo1CK29910DCKfVKBIVCo6EYXjSmPXsHcSUaerF4S3UDBovVLwI9hZ862uHlg\n",
              "2CZemahraGrxMU/OsRkiR2/JO7JC+CdzhfcMl5hqHKCK7T0QcLn4JlxV3YXHP3rngs/VWWC5EtRL\n",
              "Dd8l7614lvyeQXxMcR+eI7+0SVIshLl5QpWTO/goZPz0Oy4Jv1CrryPBHdeH5QUhRxTCxx/aMe8P\n",
              "A8zxfRwlIVDeb8UvAH/Xp2KR7m5Oe5D02UONyI5JtpxDTuArgghNRPHVnAzqKL9Ljau9h9PiKx3q\n",
              "cg6CDz95ouLYZsjQYC6IrBA2/VbhAUo1gaIAiXxx4NU0/bhL6lTqkQAAAxsBnzxqQr8AC85311kF\n",
              "zjIdABfW0J7HhWT6/p0PZhx0Q+F0Ps2WZ5wxw/TG/F0XjU822JmsAACWwIJQ6rQg1P2S5ZsvRmFa\n",
              "Z2H7pteJKMPcsL7LbVlUDuKUqZdRUaYKueD87UbCVDyg8p3f/ITcR7KAmKcUGGlFU5YvHJpV82oE\n",
              "jj3pek801k/r41ZRcQ5zpW9KJ34ui+XCscXos5nOwGRLi8YIhf5zME5eoX2CK8crIYwVHhvQg6rw\n",
              "P40ihaa/3yQTj7xLboNfZ+UjddLqZAtwwHfvSp6jF9BKvEOfMYC7WL9isNqEQ8kxPH2U4vqlcO57\n",
              "YN31hddITkLeVwdIz44eLVt0pJAq257Aiemo48hadjZDtFUi0KJNr76N7FHDKegH8Pf9cBT4lLIQ\n",
              "+/bV5Ypw62S0i6mnIadk0QeKIsyT2lJaTFt3fe7uks77ZznKrzws9Rkou3MMXXo2s1FOd99BoeYk\n",
              "ZgKcZ6bri1fl2GwpHY9e6/NdG9kK6cE0J82f3sXMIoNeUkLd6SAbqkcGoUQhcuudUOvAEg4RLA4V\n",
              "GVIQwoJiHeNxpu7MflZ9afHVXQFz6DmVC7aaZegO7+r2VEJLpKNcQVD/8d0DYUFrYuJvUeNBHW0Y\n",
              "mf8DLrbX94OIqje+ftoBiTW/ifOjpeYCvRb3kazN8a9kngNEJAwx4sa+XO1djIOX1p4WXuh++wmT\n",
              "LlCqKZuXlQzA7CRe9Aj9f4dr8A5880C9KF7Mw1gd5PFDYJGaclRGwS8ML8qr/ffg2+S4MJrv6skn\n",
              "nKKi3ZvREFh/Vv+tlKqaa7TthUHoEXFwanXoMIljmteuMX+Cig0nCjAeDPdWtJnkrGj/AtOkvQg7\n",
              "StDURRISQeIJcG9DyY7PlAAARGp8SYMUULw6CH3BqhHafflDIW7lkwNK/jSyW3TpRepXh9RySjJm\n",
              "bd/jXBzu0l9doCYEA2+haWqKt/gcJXDFVW29tM/+TjnY5t6qsRaXsZ/wwNzdlo+Q4yl4yzLA7AcX\n",
              "XQ+VgaBphfQERjGhDoFEAAAdQyOSDYVoW3qvzXbdvVePrwUbA4+SAf8AAAV7QZs+SeEPJlMCGf/+\n",
              "nhAACGdA0uuzHQAAljtSzrxWeGCVvANu6vm8UCBX3H4m2erWXj+6xBukbTsQ8vbRHYL0sQ4zu6fC\n",
              "lZnZv4nTjAAAM7wnjDNrdnogUoDmhEoOe5MeKC7YP5JUSUdWcw8BUVpGrNBIWGy2HYeWiXTgigF3\n",
              "kMyxDo4Ru4YCoRfVwBM2SWeMy2LYi1sS8VZkUbL2wm7VXjptef2iyVjOSouMn8BWp3bLuSvV8QOT\n",
              "QMf6tTTPXkPI2zZnqZ+Qtv6AtYHAePCimA+qaSoltl0tQ5cN6heX48B1LxxGOQ5n0VG1PCRi1/WB\n",
              "RcibI5pE4jqjuDhXP4Iv5YfLX8jHC6G73Gpk/5AkSjV3upgNqA4347IPJVZ5XK0FH9CjDqCn/BO9\n",
              "kIm6eRHhTc15LqyVWX07U8ilf8mHbsnWFTlkttY+fVa/kowjeNRGGw5e4vRkd0vPWylDnQtEq0T/\n",
              "tTEMNi9V49HzvgUrT8QLgocAHh2jKoqGYYYfRq1D7lEEa7GaGxUVpf4t6YjDvMJdojZKFLaowPPj\n",
              "dztBM7I5ptGPiT1cgES/kNbwALuay1pAi/fCFROCmlAzcYS3IgpfNYKPMtupsBrg5E+7i1jL4rvz\n",
              "uHzhcIU4FUkFB/uaH8ra6tIJL+VAS2qEi4gLbi0chOJnhHH/V2+K+5tkEZrMAPScGlNqTCo70WN3\n",
              "SOjruDau9LSbWD7vL6zwxuETyS7DN2Mm6SXNGn82/nFLYXJCxgTfk4PZlx6QHfXsaWla5RIG9Ls9\n",
              "yLrDjoNHE0tzTqQjjuDESpvi0nCSZ32bMlWYabsv/e6KZg0yCZkn+VSlYQBqNORaDWNE3z3QkhVg\n",
              "3biPIdf1hCEJ7+CXeuRRCOVzgCqdvT/iMwhFar9zlbukNdnQ2u1mynUJq9NzkOoouNovaSQ3/SyN\n",
              "3+o7jd0jIVA4jzv1HAQGLToH5ZZgaEmsaIG7LmPEHWs2/ITUwz4zpOm9qw0xim8JvDj4HBNudmZS\n",
              "vLEh8sQElXY0jiGWkcJV4D+DWp/mU8mVGjdxQ/+KOiJ2s6Ef5s72TF5ck2IOjhPeZo3Ehq41RIi7\n",
              "i74kC+B6mZN9s6Am9vf/VPIqLuU/KBzPpEeKBs557Qu5XwAgb67DIQP+tGcVrHGnZzP+xxE+YSjP\n",
              "hK5kor1y2Ji7o/CKI+tRA6/34behTBIr/Ztt9bMnqWbHHBC6G86eaxrJd7KxxpxsRVdz9QcBSR/c\n",
              "Rn409lHv4aaX1CTWAduE5VacnDjkgV25Iz36MjVUNjshJeP+BiUaJHRX05+hq0kD0AwiDHbBsehE\n",
              "jRTpThMnei3kB6Zm5GwG8hI7U6mDQj2ZKm0bbEiT/clFjDBBLTfjx39Z51Mq6VXw0xngoYkGUpo2\n",
              "Uft5TeIEkztju1yLePJ+BugM0yyLxoWeWkFfG8GtwMIYFs/WJ/NRP3STnwU8Z0x7AijyowktQMzT\n",
              "LRQKITjuJgMrtdYpQLWzSL29jP353z2zl7bgQhLeadVghjVH7hkgtHNcQmzcGvaExLQN/4P0QP4P\n",
              "f+nND9/3YKIfwVZP+ebBRIK0smGqkOEYGAnAwajpeyK2ZdoxeGPoQenf5JTcWchmvI3indW+QbJj\n",
              "ALzu5AGz/lueR773cfVuPcZLwjLMjbnT+ihGDtbcs3igOEk2dahuXpG0z9mHGVCreZ2w3bZnx92+\n",
              "qvSf7xh9kd86OrEjLIah7YEtnSun8wX+U18r8FYpLPNfZ8BUKp0wSmc4xLeo5yEiBdSafq5BZIHg\n",
              "eCZKOrgg+hB4bdHR2IMRavGCuvH3AW8/kSppTub+KaFVXBVRyvPVMc8gjCTX4YO/BRP/d2yCyFvR\n",
              "Z2yYdf4K161MMNhRDCcsX9o1JGTLSdAAAAU+QZtfSeEPJlMCGf/+nhAAON7Hfv+Kb7DfVSADKeYd\n",
              "i2GYJ6ksvYQQQSZKIhKOEr0q6XKay8eqIkmdHWUErDvRJUlonOP2kClgq41VaNZC1GHf3CL08awA\n",
              "AAm1/7210N0TIugXZHNhm3oqlQcJwJM8o4dXrx/yRUzN/FS+faCAqkmxboJDLR10f4opZXscn8RQ\n",
              "ggAT8F5lwY5zriVTronp+aXz3HSvQ+N/zwazHs2T5HmWEjLAp1iolYRENHEWAVry5i1N/BpEsvuD\n",
              "lwiUZ44sSOrPHxv91RSEzt5+pkUutcIj2cM8GnymbCLfDB9tJF/YrZF4I2iwvwdrXz28rPgiaJGy\n",
              "9LYC6/wod1Y77E7AAwtxisn19C9e5sW1T6uWdF2c/LaKk1cUxYAnG02hfikXJqkcVQi66e62u61q\n",
              "ZXSXGKKjKAa8964IdfSuh2YdPDYl9RFE6pI/9B2gMkQUhdEh+ZheTTuP50WKtb/738EOnauj2WLK\n",
              "dhfE2zjQBu+7KsW/c39zZHiF3wR6uyXgPP1H4O+UIL7nw54cX3e5dddQg+lztHK8MkamwBtwYW3o\n",
              "/2DOFWDaTKV3sHYToG7jKDd9yvAYRLurslNLIYReZxYkK4qYTVmzfZFKH+/zdZvzMZqwVJzNaXFP\n",
              "t6cQZDMt3oSYfZ8opqExp2uPFTrrNnIVnIHwKO8I3FI1e/hBBCxRn7XoCUorUcRr0TiizPHSvHm3\n",
              "rbD1fJ2XSL1TRy/w5vAxh3BITQIpAHlApLTaLIcSD6EFRcGQzX6iQ95E/zfWo3cTb718SP2UDaLv\n",
              "i1MjFuiYbtSD3Ox+QziwzMnj/nQ6fphYF4kPQzzn/r7E07mTuUgTrGr/VKgzL278YyDZdVNXbvNP\n",
              "3MURS+xpS3Tnjo+MUuAJYRIzp1JHd9EbNjPtZ7iyCH2JEsRYnxk6lisVadK3rS50SbkUDQpikGmv\n",
              "C41u/uYDOUsggYk5qDowMPdiH4Lh+6JXnVdjXTAkCbB9mjOLMU92Nm61Z8YQr/XlkYfxM+1uiE+8\n",
              "K6riRtam4Y9ZU2W/FUBe8kV2tUVWOlZ3GSL3zLbtBvrCvy57URa5ddOoLAvolcaLuVFN8ECvdKbs\n",
              "038enENTUAMk7aoe4xYcjkO/Wz83QmMwWIPpEvBMfGizJJED66eh2pHGqVuiiF3jIsG+gLpMY+c7\n",
              "lPtWSS1ibPUg6kRs59dl6rYPyylDQI7NHfFOryX2ju+LGx3s8eEFcNincvKEgsi4MfGIUWhtRGR6\n",
              "IstamzW+AhhLPCIr1TXK02geshCsKb1W7goVzWsN88hGXNXTSERvGjXVDNCuVwL0xhV8YsbFSWzv\n",
              "4n0epTYqX5WE216emQS+tNnxydTrdJintKCIIkn2esbgocFbLvb+GtG0H0CGnUjiWpQw+w9L5ebx\n",
              "gbaxk27ivs1QgUbMBFvBLK5vjwHo+g9Fe7XNTk9mhLSWPVzgDHTNIRxYZoH/H9WcFDeCQPkR6aLP\n",
              "AyExb9ip+hhN+gMLBKuqDxOYO5jM5rLbLCZeWLWYhDr6vfi/b2Zv1tcRM8PLYCfZb2iszN85xeWq\n",
              "+FHYh7E+KvzItfFJQAARSCaFqgl9FhwE1Bmx5dz2WaQN9f0tLAJfsxv2dzg7kZnpsv1tB+rkhCD1\n",
              "fE4TbZN8JvJAzGP92KY287npkUG06X0l2G0Oj1s67RhYMcn4DRqQUatmjgfi9zZtoY7e2m/GdyJN\n",
              "9PLa0TZMfoechGOcM4rEyidVYho5H47NRXguOCcRDv3v+QtgRl95F5ikmX/ttamG8sVTFuevLSMm\n",
              "8AAABRxBm2BJ4Q8mUwIZ//6eEAAIqTXUALXGfLoZhlo9JhF+3rRh25x84sKHqSeqrd3Pro+n2hgo\n",
              "/4Fe6GsDe6AmatoeEE3eBiJaRAuxtfRXLRrG0RraV6nNW+EjqChYdg/0x8Nr51d/n91UwjTPg/gH\n",
              "dlJKlW/TcA6sAAAZHKAQSc4Rz2ZoQHBlcvSOmJDp6/H1dpZQ3mHjxtGlNeWfzprch9m3cwBPhPH5\n",
              "rIedfNDTGbZyEARDWX1tinugB8qk2omJhy4qd5Wj44IldnDg14YrLdvXeyZQH8dyIl+nUes/eCkj\n",
              "Ue2vI4EHCR8ce8C+Wvccm7dec9jM3uUgISVe29UWDvAvdejzZN1HFqh+FwBD6+lkcW6js1i3j+q7\n",
              "hIdXGOrgka8KiUcdwSk/q2mWW/T/k8i6vOT/xHonyJdQ8zMO5Ea5L29rnW/3H1YAXP/GaQi+c1eE\n",
              "Eyjf9C7IE3itDBp71KF9dCh3lS+foiYKri2F1oovj/nhM8cqc0jCfAniEjIn9Pa9NxUqReai3gzE\n",
              "h5aBVbWa8KhkT7OXPQmSkdEy1bd6cLnL/7ROO4UATgsfylGn1vQzl4L1C66uSJUJ9waJEwMtEjOu\n",
              "M1nzZSY1MEgFBIYw7j1EPG3GaubTs1Iuq4vgLn9FI9djEralwAdBDYIbX3vkOnhu1AEBYlLsV2OT\n",
              "Es2UAdGgduJnN5yuxdrwXc3FOS0wsIIczssMGVZkz7PBtCqR0PtXL2/4Ig+8r/A49embfFevVmKt\n",
              "YN2M3Tvx1UUc78YQZuJQ645Hacf3fQCr4p5PU65bDC/g6TDTVylxx8tE7BlGN9bl4P5D+FndNYF4\n",
              "Z3AtMlZDdpm5DhLQ38cVnsyHPvKv5y44L9qCUOhnTjFOUnB8RW4E1SeJyLASyDUW5vrOSeaIjJCp\n",
              "Btp2qVILTJANfFbgtuNWLdSMJdLkLSpxnKvW4RlGvBWo6Rims8kCZ8byAMF/xnBEM0SAVW6KGlsi\n",
              "hlplk0EMuuM9XkWrs/9N2f3Mq+wkhn7XwjOCxssHWKC8Y/ytsI5KVtlpfASUPTeEpO230R04Vfpb\n",
              "vxEoN4U8j74TKIC2sDlklHw0TatFnFerqT6Rqn7IahzFbdU692R9+49G4o14V6CivCBXhsU6zmCj\n",
              "odNpJ2r6a70qxMgEY9TXSdjtcwpDBDGnVit+zcozfYLqJhYEj7e59h7asLVIHlSemMY7aiO0tQCT\n",
              "H4+3QMA/zo6n/OAeCHZUDIKOzZ724kbRhasqW8kR66Uty6LI+p2BhiSbucFkW1OHimAv1U2lSMGw\n",
              "WstIJauuni52iRLXbisO4lcr6m7oyccWfX3UIPHpi97z9ASpAJmF9xq6bBtHzcBg5I43sLk6gSqO\n",
              "ZkutKmptWPxjQ9yHDgwsGnpacQOhbeYBN1oDmqErO5J0f/Mw0P+WxYPQToJnX5e2h1Wjtyjr+ZFv\n",
              "dF5Rd7gwFvAOaVDo2miPIFrI9DgvRKtOPz8/nkdc7ghvdbefVmCShaCRzrJCblCRlaW/5gqexJeJ\n",
              "kr6ZlklkIh6GakYYAl5GQ0fHbmkHmuKzLP9BuecNuJLnzrAbiJLd7s8pdpIVJ9Nzez0wo//Noje0\n",
              "aub6lR2bL8UheUO91n8rY+wYqLQpBfeGMSJtpZyf6V61i8WIZf4NuprKtfQPUBJrCVgndeTF3S/I\n",
              "Hs3p//52rofM8v+SVRa2G3wLiJkK/di8MU/ShvnmMPpEQY9CF1fWnWbNwHdSsnKXLfDI7jXYz9Df\n",
              "hVEAAAVWQZuBSeEPJlMCGf/+nhAACHUskJuYAOD73hyr87STFmGt1YhLu9xExoFBwYc/gHKvDFSP\n",
              "MZPfgwH0luiKkEoYrLCxS7Ggb7Ae1r7ps17HMEKNWqaapSNe0MGkxdEQo41IycdLYdPhyBoKo9AA\n",
              "Wy5hOIZvrLibWTWLjF0+rcrJttf+PBw7NtmPHhYTACebytDRs5AULljZqJp2Npw48OTi1NAAAeHj\n",
              "ndDxTVFCfWlu6PG4nY/nQaIwEIYoVcfNO2n35FL2s5mgaWEGgiUtaWR9t9OPAYn/sP1s+iqWfphF\n",
              "WfsJ8gtFZI5kOi9ZFsDcVDgV2DsQs9XRvKsWDND8Gvp05qTEZhOVS7lJ0g9TX/B7s/Qq+dRDphxy\n",
              "MmL39wCYubkmdBiDRD0DuRIB7K3gqpOvxKAfWqreljHIY+LOqG7q6+2blamZsxbw7gIDjxIPvHZR\n",
              "T0y35rI7AzF1ftRYlWMRZ5U+cGmz4cDJbg2Ru8TtNMXdf/HCl8JWDo5aPOzoMhp1BVmcd/iR+Qc9\n",
              "i0EQ3vC35l94+/gxGWguZzx8SBpj76PhLuwmensuPQlgdp1ng+MwAzdONZtiEZ44XH8YjKkAYw0A\n",
              "PVgYlGgikWGepASVkhhefmHQ5q4M2Ww+VAoRH7Mqxl8UFhNl/x70+nPVw2vhaYNd3s7kjrX5I59u\n",
              "HdsJgBd3i8zNoZTjT6OOacw/JlcFpH77VTZOSypzolCXO4HQXnVtFN7vLoVC2WoKIcfa/xPmUYn4\n",
              "t/E0QHEihmIdqBaGDyTRn+WV6IgfMcSUpkB1zQ117PZnbyW3RITDh6rhzQ190uGYgDWyDBiQjPDR\n",
              "PMMeecHKLfxGV57zvXhcz9IiIs/9Af7vCVytSbzzfV3QUqBwMglKGd0C+nXGET+kb1NvWeg/U2qg\n",
              "AUaR9WgZisRb2OVG0t7d/9NodgIsKi6ObKrtOrQMoQsy7pFwKSFxLG5puGRTEBadz3liXWW4FFUg\n",
              "g+7sJL22Ry9UTl+chGAF3wQSXLpLz8/eRofAp4Ughx/+RavCU8WthB5gdkrDG9fHNS07j1GILd2K\n",
              "LGVLvp+JEhLj6G4SBJgNW5cFc0YT3NeVlqC0AEpOvgluZSt83G302Og4qzfWLKr7aZn2yb6RrPM+\n",
              "9H/iIHC0qClSXKEfepSqkfNSOOWYCI8w5T4Hyu9pRufaKV25cPCMI/2F3+YIvUVkT8byp7okcpn4\n",
              "Lo8bhwMSZ8yuoUVVTpgXwwg1CVZUyBkqoPRzXyGgwQpwhs9FmMd9WTQF+VRfi/bnS1JtWa9VlpQe\n",
              "yrjtYCIZnxdr4WrzsabNZYpTEuNZ27p2qnff4XK6y2IQR6F6Lh7ZgmvF96noTtJMWpjzwUzmQp+w\n",
              "ypjFuoc3C9uplerMMVCX6xCtPKvO/CwJIhRH68x2DQVV2MApFLYpUUQii4iGmaRXZxHu4nszgF96\n",
              "LAho3CU+coJp5E4ZRTpDRbeQ6FhNt/6uZOLJQFQp2WyhHPsV0GZPxJa1LHlsfvxfbE0/0Lgj8eNx\n",
              "Qlu2vX5s1IRtFLMxgRhyk6crRgJyi1Mjxj6BrLSY9CvLVhZCbBFrQcVpxtO4UEGkRYAkPNJQiWEu\n",
              "F0nrYzqKtLbJl2NP6KZzWrSCeKRidEzonzgZz7KU1utFfnJLUc1V//ahdSOp3FO2dL8nwEafklfY\n",
              "3gM64R5WnEKG/JdY03cYLEIXejCnvYKyhT7G5uOa6ylRGPot/KG+a8bhfSNLdifzk5aJJu/F3dy4\n",
              "ahPIonpoCMYVOSdtNgESfylFiYxlhKQp60GrjTwqp3BqQnahmUCQJgE/TYLIx1dcQEggjL7IgLF/\n",
              "9LT/7AAABH1Bm6JJ4Q8mUwIZ//6eEAA6Psd9y98AB2h9Xjb1EJlTn5oN5NDOLaT7u/XDCEX7jSdL\n",
              "djVnOfT8AGCS0/zKOyIJs6VnN6f7n1Ivu76AAAPPIUuc3c0m8+H8WEOEuF17xMGiow2sI5dSMe5A\n",
              "kW3OO2JQbl9n37YoCVB471szhxRgh8lA9IqOureC95WZjr08Uy6Hg9YUNih+B2knlzIcBy+8mtZJ\n",
              "jBFC73TaVxnSg3fgZGIr7hvLAD0dkYVAbfq+aRSpH3K5eUMRs4iJhzgly3GHsXjVoYsqDiTk07dB\n",
              "9s21MVEGg1xXzBrza9h9r5KxzXWjlnoUaJHixq34d8gMXnchtq7OfLUhr44Avs/3SPLSOBZHtEAX\n",
              "z9xp+AeDecyTZ8WU8bqKfqyE+jG3BaheMQJuHNC0HAwRTpacIhtQzA+wZsWZXwqcoFqrEFeFPTpW\n",
              "zd/GvZbddIYEcP4/1rrX7z8gO9xxijeTQU3dyqHSvLz03WVPyT2h2L5PaTx5m3SlolNFbj1gSP5n\n",
              "aBB9w+eZIeB0lSGMwqCemFY2sgID+QZwuOwyBQAAAwFsUl7k39EChNtrGeG0/aHS28fpJ/jjbCuS\n",
              "tDCykaPd8XC6tFlxrVk/u5yxVUPI6pen7UYT2wmhJk3h8uMWVgnFWpRYiGJ13ZRRV9MA37plFIXB\n",
              "Ck8R/gKFmnRT9+FlGpKn9/RvZSa5T4km1laQ5vGQxZuRr6cNt0QRdSQPypLwlDY4wRelJet9If1w\n",
              "1vYKx6TDowYh/9OaA4gbMA8Dslv/UrVFD+idOiP9lqNz43PPhHkSldZtyp2MhMr1yZYISbkZBzZ4\n",
              "U+BaxX89xT0iF/O2w2eu/sar6JhZW7ngyOG+sGLmY3uOlfNDClo04/8ummiIDRnCHjXo+CgNBX4q\n",
              "rL+YQCHsNHKhbVKWIl6XHzXbPX3ezgmFPBmQmQAqX01BnIHVBhSITikNZ4x7yep0dF8ElxmLZBqr\n",
              "IracPfDihFgGREEjGpSntm+fPNXtn71Zd4WO31jTGmzRGZ0u642QO1acmPQkfuDiAzYXqMUTc6zh\n",
              "XHX8CNDCS/Qb93QVcJ6vNyqZ4Yflsy99pQIo6J6FXVqItwDJaR6Pc8EKAquQVRLTx/u3SVMa6S01\n",
              "HaLGmEXZvR5Q+Ujd86WObyo+qvcuG3IbDdeOeNAdZm9akHOV9/+nw3ylvCMKmV9Hn/Kzebot3TNB\n",
              "TAtaA7+tE7GVrHsEwVtmNqPga9qDbeB1fAMhzOKrKvCAafx7mtAVpyPFoBE6D3ZxS7L5S0tbsNBd\n",
              "fNSEUuKkcn+og8tJzbBs/AxZQXN61QsOv/zajR3ZLIXLWjfpue2gLjxxavC+hKFan0vH2IdHNaZo\n",
              "qF4LPxM3QO2Gi715lITqrrYRa/2WOMdWHz1GJ4e1k/s8MdBYhiY8L0LEhOOs8JooVscLEtjhHxzx\n",
              "IVr1yF71UWDhqaO9TV1JmPMQ4jvyXhclZbO5PN1gKLs0kVpy/wvIW7h5DVfyua7KOBlSHvQWBjk6\n",
              "H/98ELS10x78EuDbzqExoNEAAATTQZvESeEPJlMFETwr//44QAAglnWY1eyKAB1nujC6//fj7RoI\n",
              "dfOdWzqE3g3dur9P0qUEV/TrEUasJUJl6ooPnGlAUCpu+gN/+hXnWWdAAAC68Aqwi0dg4Y7mgZ2A\n",
              "pDOFBVT5bYmnrCDzoAEbZUy5GPHBNCj+md/Mny9hZNzx91v2xrK0ogIS0aXXBWpq4N5e7reKnLdw\n",
              "any16iXpXYNj3PU7Thwqua1vU1TRcSZlW+4NMK4N9KWbmrrv9NXKglETfBEI+LnhLFZ9sJaDuTFp\n",
              "uy0xWs/QEtTqRTIBXg1CAcQqIe+pAuZVWQ3uqJyRJY53W2CR76ySOLTzLHXQea/57k6K9L67qhM7\n",
              "Giz/9vkV6AFEdkYvnP7BIuUF2jW1Uml1mKv5CPgidj0+0o3+y40szZQPWwqq0SkuRAcRpoq8DhHW\n",
              "/p8YqGYsxvrljBexbygZ7J8OCl5/3XwzVTqF2uO+gRkKEQm1a/Wkl5KHLXI9yJoT4oCFT9f9uKWw\n",
              "WgL+h4xJgjGmtD8kemM9Ssl2nKegCrH+9/YkInDsW3b7GAYxnGUV3ZE6bvJZfW9OTWJ3pLWJwBwN\n",
              "jwzdOYwH/q5HpzKCpQwU5trQjBBDTBzDkgncjGWlELJ0h7a4SuSnbi3IMUdq2iRwibYo9wajjbFt\n",
              "lsaZsN2FDR4LX+H4WSfBmdzp3lPGFp4Z0C2st5k7EEO9kQD96bSyrTyuhupoinQaGB240AfyrKA/\n",
              "Pl5qaWBIGhBUi/U292SydxFhV3GSwInm3x0WhZ7pruy3noXEHUXYdyQTxSdTS0/f8xehQf1I/ZOj\n",
              "kePwLjByb3eb0MwmHM+u7A0YnMfUqnKGbFBpSkL2fD9onW90JWj3zFwOdWSPmIPOlL0dzW8myl7d\n",
              "yqASwMLdnKbIpbmOXejxE0xxzzyv7OQAygytcWqo0to1Y9FpbvU4FRSuw+hsBNUVAqC2kmknP63j\n",
              "ofJVQKjFVVDhyBhL+szLbODYAUPoq9RBe2c9p9T12xrwDlDgVslqOxgt0GxFdcy7QM/mK+QOXr1D\n",
              "RrNm8EHhX22sw38Js/0MQLyW2icLSoU1KsFQdWcg9JfimonlSYcUzXYOfAaTbKX+rmVJEogQxlsE\n",
              "P4wfb3CQtcnVAqjnLifn4a3cGCJoZAKnu0dJRUrNUGykEg2XzipxGHINxOLoTiXMo5KvnHXRM4dP\n",
              "TyhU7NLGuM22CmTDYr/GVc84h0J45epfe3HZ3OpO/eUHzQ8dZfBgmAvhwTtCFeA8stvG9Zy99fxm\n",
              "Xh434US+rFcBPjlw5ISowrzMF9l8C3BKCzKku9oOk39x9yYvgEs3qijIar/QussAbwCk9aJ2i99m\n",
              "Kq0jdpbxE5vh7iNhnT0vldkQm7Yv0dEdxWHjCDUg1zd6FMuv3LKzjRX1SQqnpKQrYGQKagv7FSD+\n",
              "3UhjUitP97nRr1rdGMI6RinfnE65iR7e/PzNWxv/74rcwPwsrgK6I+AFKfvd7xFyvUGp+c6F1kGZ\n",
              "CZ+7wuv+ouc1nAav9qq+OMBhQkYQqlzrKIOycdfeGr9RzGJkKqbLwUhr91zqQr7EJjbRgJ0Pv863\n",
              "YWfJtEW38yVzjScIVe8he9pgs1y7h5zON8Pte7XGUiI7qftzgLvxBckF+SR3AIqUrYDBAI5cRVOX\n",
              "KeAAAANJAZ/jakK/AAxDqqw8c3sEASADtDuQRkdbEJ6mUDZxXGFESfAnyZglkgg0nWZScSaVskSd\n",
              "3kPbxF4kTxiOS1V1wHrP3MAAAowm6YRSD0bcMgyIU7lr8qjEbWs2v7vV+342aQuU32KFVcDYr5HN\n",
              "w59QewykjUY/MfkfE2A6xGDOGKphGy/vlWrk8IEu9iW4kzgESZa7FGbOfnSDej/NOsDMw4XP/LQE\n",
              "JYW0VVB1YbYQCj6Nn9kqgu6ARNZOCroo/kQd/UTdzXWkEW+aV1MvAZVe2M+lsVTW9cCdymS4KQzl\n",
              "KQ3mrSRvKkbV0+WlHLiQLhVcZbcIH23lbmVy3KJ4iGwN2x2yFr8vpvNw2r7UjSAyypg0HnhX2ADS\n",
              "gzWqyQpYynFVfep7ebQzekDzcK0qfVl/UK50ruHXl8TAhvaiogkU7mjB1iGj18lSJLNarWPYmrBv\n",
              "2VsqdEbhlQIl1y51vefOtd7CDB/Pd3VhN2fhC9Tb35oSXxnQZhFoqpn1g5VKaDMJhANFHD1MslxQ\n",
              "kAuFrRQ3HQp4atdsUzfPG31NhvorooDim5HiH9gz+9V7e9AbVYEAPp82sAnrs4Fqv+oCH0/D9Z/m\n",
              "zP8cA5Be0DIx8IQAw2A7bvqW4ah8lJz5BPZbsysiqrKuIuif4Vk+0mHUfpNM2bawUS+/DJ8cvRlF\n",
              "/T0yNi/+Hkm8LwOMYdazN+cBZXl0uMo7pT8zI6gJ9DRZ7t7k5/eCSTlYWetpA04nLSRD6XUnT3+Q\n",
              "lc7diPJyBcoMtmlzH6qor9quk0ejI+K7/o0/ZDqgXOc/kOdCqcPKJ44vsObJsaig+BlXpjlWu81S\n",
              "l1vMJv/QfbDS5XrnsEk0fJ/soMGe5xp5j0/2A9APZbJfPwBjWvWUAhftF2rwkOXxJfm2Lt+VDFo8\n",
              "dQoHX2ArNmJFj6G+x/+Z7g/bAGC64PG5ND6X6tRlUczGhu/nBVVoo5+gtZwfOQQS4r2EnkyEfV3K\n",
              "eT0Xx6JSa2EBKLCQWbA2wHLSqv+N236JkDXKoVAY+u8f9nKiXAXYb9AignQ6JalIH+AnM0s0PeY6\n",
              "/BoeuHdOkOMhqKfYEttYIotU4tqZrQRf9th04hvdYAAAAwGCcCk52nBunM7N0mghYQAABmhtb292\n",
              "AAAAbG12aGQAAAAAAAAAAAAAAAAAAAPoAAAPyAABAAABAAAAAAAAAAAAAAAAAQAAAAAAAAAAAAAA\n",
              "AAAAAAEAAAAAAAAAAAAAAAAAAEAAAAAAAAAAAAAAAAAAAAAAAAAAAAAAAAAAAAAAAAACAAAFknRy\n",
              "YWsAAABcdGtoZAAAAAMAAAAAAAAAAAAAAAEAAAAAAAAPyAAAAAAAAAAAAAAAAAAAAAAAAQAAAAAA\n",
              "AAAAAAAAAAAAAAEAAAAAAAAAAAAAAAAAAEAAAAAEsAAAAlgAAAAAACRlZHRzAAAAHGVsc3QAAAAA\n",
              "AAAAAQAAD8gAAAQAAAEAAAAABQptZGlhAAAAIG1kaGQAAAAAAAAAAAAAAAAAADIAAADKAFXEAAAA\n",
              "AAAtaGRscgAAAAAAAAAAdmlkZQAAAAAAAAAAAAAAAFZpZGVvSGFuZGxlcgAAAAS1bWluZgAAABR2\n",
              "bWhkAAAAAQAAAAAAAAAAAAAAJGRpbmYAAAAcZHJlZgAAAAAAAAABAAAADHVybCAAAAABAAAEdXN0\n",
              "YmwAAAC5c3RzZAAAAAAAAAABAAAAqWF2YzEAAAAAAAAAAQAAAAAAAAAAAAAAAAAAAAAEsAJYAEgA\n",
              "AABIAAAAAAAAAAEAAAAAAAAAAAAAAAAAAAAAAAAAAAAAAAAAAAAAAAAAAAAY//8AAAA3YXZjQwFk\n",
              "AB//4QAaZ2QAH6zZQEsE35YQAAADABAAAAMDIPGDGWABAAZo6+PLIsD9+PgAAAAAHHV1aWRraEDy\n",
              "XyRPxbo5pRvPAyPzAAAAAAAAABhzdHRzAAAAAAAAAAEAAABlAAACAAAAABRzdHNzAAAAAAAAAAEA\n",
              "AAABAAABsGN0dHMAAAAAAAAANAAAAAUAAAQAAAAAAQAABgAAAAABAAACAAAAAAEAAAYAAAAAAQAA\n",
              "AgAAAAAEAAAEAAAAAAEAAAYAAAAAAQAAAgAAAAABAAAGAAAAAAEAAAIAAAAAAQAABgAAAAABAAAC\n",
              "AAAAABIAAAQAAAAAAQAABgAAAAABAAACAAAAAAoAAAQAAAAAAQAABgAAAAABAAACAAAAAAoAAAQA\n",
              "AAAAAQAACAAAAAACAAACAAAAAAEAAAoAAAAAAQAABAAAAAABAAAAAAAAAAEAAAIAAAAAAQAACAAA\n",
              "AAACAAACAAAAAAEAAAYAAAAAAQAAAgAAAAABAAAKAAAAAAEAAAQAAAAAAQAAAAAAAAABAAACAAAA\n",
              "AAEAAAYAAAAAAQAAAgAAAAABAAAKAAAAAAEAAAQAAAAAAQAAAAAAAAABAAACAAAAAAEAAAYAAAAA\n",
              "AQAAAgAAAAABAAAIAAAAAAIAAAIAAAAAAQAABAAAAAABAAAGAAAAAAEAAAIAAAAAAQAABAAAAAAB\n",
              "AAAGAAAAAAEAAAIAAAAABQAABAAAAAABAAAGAAAAAAEAAAIAAAAAHHN0c2MAAAAAAAAAAQAAAAEA\n",
              "AABlAAAAAQAAAahzdHN6AAAAAAAAAAAAAABlAAAedQAAA3cAAAMVAAADAQAAAmAAAAMvAAABVQAA\n",
              "A8EAAAGDAAACTgAAAo4AAAJTAAAC2wAABEMAAAGNAAAD4AAAAX4AAAQJAAABqgAAA8EAAAPSAAAD\n",
              "WQAAAysAAANAAAADsQAAA1wAAANDAAADtQAAA8oAAAN7AAAD2gAAA/kAAAMaAAADzwAAA3oAAAPJ\n",
              "AAAELQAABMgAAAIdAAAD+gAAA7UAAAP5AAAEXwAABMoAAARHAAAEIQAAA/EAAAQTAAAERwAABe4A\n",
              "AAJMAAAEWwAAA9gAAAQXAAAEZQAABRUAAAS6AAAExAAABF4AAAP2AAAFFAAACRIAAAStAAADNQAA\n",
              "CkwAAAQ2AAADfwAAA9IAAAdtAAADvQAAAwUAAAaJAAADHQAAB9kAAAR7AAADBgAAApcAAAdOAAAC\n",
              "tAAABywAAAQQAAACoQAAAtgAAAaSAAADGAAABfsAAAOJAAACyQAABF8AAAXIAAAC4QAABLIAAAYp\n",
              "AAADHwAABX8AAAVCAAAFIAAABVoAAASBAAAE1wAAA00AAAAUc3RjbwAAAAAAAAABAAAAMAAAAGJ1\n",
              "ZHRhAAAAWm1ldGEAAAAAAAAAIWhkbHIAAAAAAAAAAG1kaXJhcHBsAAAAAAAAAAAAAAAALWlsc3QA\n",
              "AAAlqXRvbwAAAB1kYXRhAAAAAQAAAABMYXZmNTguNzYuMTAw\n",
              "\">\n",
              "  Your browser does not support the video tag.\n",
              "</video>"
            ]
          },
          "metadata": {},
          "execution_count": 3
        },
        {
          "output_type": "display_data",
          "data": {
            "text/plain": [
              "<Figure size 1200x600 with 1 Axes>"
            ],
            "image/png": "[encoded data removed]"
          },
          "metadata": {}
        }
      ],
      "source": [
        "# create a figure and axes\n",
        "fig = plt.figure(figsize=(12,6))\n",
        "\n",
        "# Specify the axis limits and labels\n",
        "plt.xlim((0, Lx / (1*kilometer)))\n",
        "plt.ylim((-1, 1))\n",
        "plt.xlabel('x (km)')\n",
        "plt.ylabel('Height (m)')\n",
        "\n",
        "# Create objects that will change during the animation\n",
        "txt_title = plt.title('')\n",
        "height, = plt.plot([], [], 'b', lw=2)\n",
        "\n",
        "# Define an animation function\n",
        "def drawframe(n):\n",
        "    height.set_data(x/(1*kilometer), h_save[n,:])\n",
        "    txt_title.set_text('Time = {0:.2f} hours'.format(t_save[n]/(1*hour)))\n",
        "    return (height,)\n",
        "\n",
        "from matplotlib import animation\n",
        "# blit=True re-draws only the parts that have changed.\n",
        "anim = animation.FuncAnimation(fig, drawframe, frames=len(t_save), interval=40, blit=True)\n",
        "\n",
        "from IPython.display import HTML\n",
        "HTML(anim.to_html5_video())\n"
      ]
    },
    {
      "cell_type": "markdown",
      "metadata": {
        "id": "JlcTm8z5FPzQ"
      },
      "source": [
        "### 1.3 Student investigation\n",
        "<a id='section1pt3'></a>\n",
        "In the cells below, provide an expression for the expected wave speed and state any assumptions that are necessary to arrive at this. Then plot the wave speed from the output above and compare this with the expected value."
      ]
    },
    {
      "cell_type": "markdown",
      "metadata": {
        "id": "_HLOptYOFPzR"
      },
      "source": [
        "**My Answer**\n",
        "\n",
        "We are initially given the following equations:\n",
        "\n",
        "$$ \\partial_t u + g \\partial_x(h) = - u\\partial_x u$$\n",
        "$$ \\partial_t h + \\partial_x(Hu) = -\\partial_x(hu)$$\n",
        "\n",
        "However, we assume that $u, v, h$ are small. Therefore, multiples of these variables can be removed and we receive:\n",
        "\n",
        "$$ \\partial_t u + g \\partial_x(h) = 0 $$\n",
        "$$ \\partial_t h + \\partial_x(Hu) = 0 $$\n",
        "\n",
        "This produces the following governing equation:\n",
        "\n",
        "$$ \\partial_{tt} h - gH \\partial_{xx}u = 0 $$\n",
        "\n",
        "We look for solutions of the form: $$ h = h_0 cos(kx-wt)$$ and hence by inspection $$w = \\pm \\sqrt{gH} k$$\n",
        "\n",
        "Here, $H$ takes into account the varying bottom depth $h_b$ already, giving final phase velocity $$w/k = \\pm \\sqrt{gH}$$"
      ]
    },
    {
      "cell_type": "code",
      "execution_count": 4,
      "metadata": {
        "id": "0WFumU_pFPzR",
        "outputId": "521995f0-1333-493a-954b-c014913a1a34",
        "colab": {
          "base_uri": "https://localhost:8080/",
          "height": 467
        }
      },
      "outputs": [
        {
          "output_type": "execute_result",
          "data": {
            "text/plain": [
              "Text(0.5, 0, 'x (m)')"
            ]
          },
          "metadata": {},
          "execution_count": 4
        },
        {
          "output_type": "display_data",
          "data": {
            "text/plain": [
              "<Figure size 640x480 with 1 Axes>"
            ],
            "image/png": "[encoded data removed]"
          },
          "metadata": {}
        }
      ],
      "source": [
        "# Here is what our expected wave speed is as given by above\n",
        "\n",
        "plt.plot(x, (g*H['g'])**0.5)\n",
        "plt.ylabel('Expected velocity')\n",
        "plt.xlabel('x (m)')"
      ]
    },
    {
      "cell_type": "code",
      "source": [
        "# the colour value of h gives the peaks and troughs\n",
        "# This therefore shows wave propogation\n",
        "# wave speed can be derived from the gradient x with t along the peaks\n",
        "plt.pcolormesh(x/1000, t_save, h_save)\n",
        "plt.colorbar()\n",
        "plt.xlabel('x (km)')"
      ],
      "metadata": {
        "id": "vskXgoItULBS",
        "outputId": "59c103fb-2211-4a33-e36a-45f2d4d1e57a",
        "colab": {
          "base_uri": "https://localhost:8080/",
          "height": 471
        }
      },
      "execution_count": 5,
      "outputs": [
        {
          "output_type": "execute_result",
          "data": {
            "text/plain": [
              "Text(0.5, 0, 'x (km)')"
            ]
          },
          "metadata": {},
          "execution_count": 5
        },
        {
          "output_type": "display_data",
          "data": {
            "text/plain": [
              "<Figure size 640x480 with 2 Axes>"
            ],
            "image/png": "[encoded data removed]"
          },
          "metadata": {}
        }
      ]
    },
    {
      "cell_type": "code",
      "source": [
        "# This represents the greatest velocity points at each x value\n",
        "# this is displayed between 250km and 500km\n",
        "\n",
        "peak_x = x[np.argmax(h_save[:50,95:],axis=1)+95]\n",
        "peak_u = np.zeros(50)\n",
        "for i in range(1,50):\n",
        "  peak_u[i] = (peak_x[i]-peak_x[i-1])/timestep\n",
        "plt.plot(peak_x/1000,peak_u,'k--')\n",
        "\n",
        "plt.xlim(250,500)\n",
        "plt.xlabel('x (km)')\n",
        "plt.ylabel('wave velocity')"
      ],
      "metadata": {
        "id": "X7OIOzvVVOOH",
        "outputId": "7c18e3ab-2b9e-4102-a074-afa74af874d9",
        "colab": {
          "base_uri": "https://localhost:8080/",
          "height": 467
        }
      },
      "execution_count": 6,
      "outputs": [
        {
          "output_type": "execute_result",
          "data": {
            "text/plain": [
              "Text(0, 0.5, 'wave velocity')"
            ]
          },
          "metadata": {},
          "execution_count": 6
        },
        {
          "output_type": "display_data",
          "data": {
            "text/plain": [
              "<Figure size 640x480 with 1 Axes>"
            ],
            "image/png": "[encoded data removed]"
          },
          "metadata": {}
        }
      ]
    },
    {
      "cell_type": "code",
      "source": [
        "fig, axs = plt.subplots(figsize=(15,5), ncols = 3, sharey=True)\n",
        "\n",
        "axs[0].plot(x/1000, (g*H['g'])**0.5)\n",
        "# axs[0].ylabel('Expected velocity')\n",
        "# axs[0].xlabel('x (m)')\n",
        "\n",
        "axs[1].plot(peak_x/1000,peak_u,'k--')\n",
        "\n",
        "axs[2].plot(peak_x/1000,peak_u,'k--')\n",
        "axs[2].plot(x/1000, (g*H['g'])**0.5)\n",
        "\n",
        "axs[0].set_xlim(250,500)\n",
        "axs[1].set_xlim(250,500)\n",
        "axs[2].set_xlim(250,500)\n",
        "\n",
        "axs[0].set_ylabel('wave velocity')\n",
        "axs[0].set_xlabel('x (km)')\n",
        "axs[1].set_xlabel('x (km)')\n",
        "axs[2].set_xlabel('x (km)')\n",
        "\n",
        "axs[0].set_title('Dedalus prediction wave velocity')\n",
        "axs[1].set_title('Equation predicted wave velocity')\n",
        "axs[2].set_title('Both predictions overlaid')"
      ],
      "metadata": {
        "id": "eQyj3wI-Z2IU",
        "outputId": "27c72dad-3e98-462b-cfa6-a998a39e4c07",
        "colab": {
          "base_uri": "https://localhost:8080/",
          "height": 505
        }
      },
      "execution_count": 7,
      "outputs": [
        {
          "output_type": "execute_result",
          "data": {
            "text/plain": [
              "Text(0.5, 1.0, 'Both predictions overlaid')"
            ]
          },
          "metadata": {},
          "execution_count": 7
        },
        {
          "output_type": "display_data",
          "data": {
            "text/plain": [
              "<Figure size 1500x500 with 3 Axes>"
            ],
            "image/png": "[encoded data removed]"
          },
          "metadata": {}
        }
      ]
    },
    {
      "cell_type": "markdown",
      "metadata": {
        "id": "1Mzg4yCrFPzR"
      },
      "source": [
        "**My Answer**\n",
        "\n",
        "The equations above produced an expected wave velocity of $w/k = \\pm \\sqrt{gH}$. This given with the blue curve above - it depicts expected velocity between 250km and 500km.\n",
        "\n",
        "The velocity as given by the model is shown in the black (approximate) curve. Averaging over some jumps due to it being a discrete model, we see that the modek follows the expected curve fairly well.\n",
        "\n",
        "This does face some issues, however. It is noted that the above plots only run from 250km to 500km. This is because the model has waves propogating in both directions - at points, it could be difficult to discern which wave the 'top speed' is picked from.\n",
        "\n",
        "Nonetheless, the model matches our expected speed well."
      ]
    },
    {
      "cell_type": "markdown",
      "metadata": {
        "id": "3wgimS9kFPzS"
      },
      "source": [
        "## 2.  2D Shallow water equations\n",
        "\n",
        "Now, let's see how things change if we move to two dimensions. The script below solves the 2D shallow water equations:\n",
        "\n",
        "$$ \\partial_t u + g \\partial_x(h) = - u*\\partial_x u - v*\\partial_y u$$\n",
        "$$ \\partial_t u + g \\partial_y(h) = - u*\\partial_x v - v*\\partial_y v$$\n",
        "$$ \\partial_t h + H (\\partial_x(u) + \\partial_y(v)) = -\\partial_x(h*u) - \\partial_y(h*v)$$\n",
        "\n",
        "We will solve these equations in a square domain with periodic boundary conditions. We will again initialize with a Gaussian height disturbance and with no water motion, but this time in 2D:\n",
        "\n",
        "$$ h=e^{-(x^2+y^2)/w^2} $$\n",
        "$$ u=0 $$\n",
        "$$ v=0 $$"
      ]
    },
    {
      "cell_type": "markdown",
      "metadata": {
        "id": "mFW5qEQIFPzS"
      },
      "source": [
        "### 2.1  Dedalus script to solve the 2D shallow water equations"
      ]
    },
    {
      "cell_type": "code",
      "execution_count": 20,
      "metadata": {
        "id": "9vWPSsqqFPzS",
        "outputId": "d09a4191-8cbe-444b-a831-01a418e1274a",
        "colab": {
          "base_uri": "https://localhost:8080/"
        }
      },
      "outputs": [
        {
          "output_type": "stream",
          "name": "stderr",
          "text": [
            "INFO:subsystems:Building subproblem matrices 1/32 (~3%) Elapsed: 0s, Remaining: 1s, Rate: 4.3e+01/s\n"
          ]
        },
        {
          "output_type": "stream",
          "name": "stdout",
          "text": [
            "2024-11-22 19:19:25,680 subsystems 0/1 INFO :: Building subproblem matrices 1/32 (~3%) Elapsed: 0s, Remaining: 1s, Rate: 4.3e+01/s\n"
          ]
        },
        {
          "output_type": "stream",
          "name": "stderr",
          "text": [
            "INFO:subsystems:Building subproblem matrices 4/32 (~12%) Elapsed: 0s, Remaining: 0s, Rate: 6.0e+01/s\n"
          ]
        },
        {
          "output_type": "stream",
          "name": "stdout",
          "text": [
            "2024-11-22 19:19:25,723 subsystems 0/1 INFO :: Building subproblem matrices 4/32 (~12%) Elapsed: 0s, Remaining: 0s, Rate: 6.0e+01/s\n"
          ]
        },
        {
          "output_type": "stream",
          "name": "stderr",
          "text": [
            "INFO:subsystems:Building subproblem matrices 8/32 (~25%) Elapsed: 0s, Remaining: 0s, Rate: 6.3e+01/s\n"
          ]
        },
        {
          "output_type": "stream",
          "name": "stdout",
          "text": [
            "2024-11-22 19:19:25,783 subsystems 0/1 INFO :: Building subproblem matrices 8/32 (~25%) Elapsed: 0s, Remaining: 0s, Rate: 6.3e+01/s\n"
          ]
        },
        {
          "output_type": "stream",
          "name": "stderr",
          "text": [
            "INFO:subsystems:Building subproblem matrices 12/32 (~38%) Elapsed: 0s, Remaining: 0s, Rate: 5.5e+01/s\n"
          ]
        },
        {
          "output_type": "stream",
          "name": "stdout",
          "text": [
            "2024-11-22 19:19:25,873 subsystems 0/1 INFO :: Building subproblem matrices 12/32 (~38%) Elapsed: 0s, Remaining: 0s, Rate: 5.5e+01/s\n"
          ]
        },
        {
          "output_type": "stream",
          "name": "stderr",
          "text": [
            "INFO:subsystems:Building subproblem matrices 16/32 (~50%) Elapsed: 0s, Remaining: 0s, Rate: 5.2e+01/s\n"
          ]
        },
        {
          "output_type": "stream",
          "name": "stdout",
          "text": [
            "2024-11-22 19:19:25,962 subsystems 0/1 INFO :: Building subproblem matrices 16/32 (~50%) Elapsed: 0s, Remaining: 0s, Rate: 5.2e+01/s\n"
          ]
        },
        {
          "output_type": "stream",
          "name": "stderr",
          "text": [
            "INFO:subsystems:Building subproblem matrices 20/32 (~62%) Elapsed: 0s, Remaining: 0s, Rate: 5.1e+01/s\n"
          ]
        },
        {
          "output_type": "stream",
          "name": "stdout",
          "text": [
            "2024-11-22 19:19:26,049 subsystems 0/1 INFO :: Building subproblem matrices 20/32 (~62%) Elapsed: 0s, Remaining: 0s, Rate: 5.1e+01/s\n"
          ]
        },
        {
          "output_type": "stream",
          "name": "stderr",
          "text": [
            "INFO:subsystems:Building subproblem matrices 24/32 (~75%) Elapsed: 0s, Remaining: 0s, Rate: 5.0e+01/s\n"
          ]
        },
        {
          "output_type": "stream",
          "name": "stdout",
          "text": [
            "2024-11-22 19:19:26,135 subsystems 0/1 INFO :: Building subproblem matrices 24/32 (~75%) Elapsed: 0s, Remaining: 0s, Rate: 5.0e+01/s\n"
          ]
        },
        {
          "output_type": "stream",
          "name": "stderr",
          "text": [
            "INFO:subsystems:Building subproblem matrices 28/32 (~88%) Elapsed: 1s, Remaining: 0s, Rate: 4.9e+01/s\n"
          ]
        },
        {
          "output_type": "stream",
          "name": "stdout",
          "text": [
            "2024-11-22 19:19:26,227 subsystems 0/1 INFO :: Building subproblem matrices 28/32 (~88%) Elapsed: 1s, Remaining: 0s, Rate: 4.9e+01/s\n"
          ]
        },
        {
          "output_type": "stream",
          "name": "stderr",
          "text": [
            "INFO:subsystems:Building subproblem matrices 32/32 (~100%) Elapsed: 1s, Remaining: 0s, Rate: 4.9e+01/s\n"
          ]
        },
        {
          "output_type": "stream",
          "name": "stdout",
          "text": [
            "2024-11-22 19:19:26,307 subsystems 0/1 INFO :: Building subproblem matrices 32/32 (~100%) Elapsed: 1s, Remaining: 0s, Rate: 4.9e+01/s\n"
          ]
        },
        {
          "output_type": "stream",
          "name": "stderr",
          "text": [
            "INFO:__main__:Starting main loop\n"
          ]
        },
        {
          "output_type": "stream",
          "name": "stdout",
          "text": [
            "2024-11-22 19:19:26,319 __main__ 0/1 INFO :: Starting main loop\n"
          ]
        },
        {
          "output_type": "stream",
          "name": "stderr",
          "text": [
            "INFO:solvers:Simulation stop time reached.\n"
          ]
        },
        {
          "output_type": "stream",
          "name": "stdout",
          "text": [
            "2024-11-22 19:19:27,047 solvers 0/1 INFO :: Simulation stop time reached.\n"
          ]
        },
        {
          "output_type": "stream",
          "name": "stderr",
          "text": [
            "INFO:solvers:Final iteration: 30\n"
          ]
        },
        {
          "output_type": "stream",
          "name": "stdout",
          "text": [
            "2024-11-22 19:19:27,051 solvers 0/1 INFO :: Final iteration: 30\n"
          ]
        },
        {
          "output_type": "stream",
          "name": "stderr",
          "text": [
            "INFO:solvers:Final sim time: 1800.0\n"
          ]
        },
        {
          "output_type": "stream",
          "name": "stdout",
          "text": [
            "2024-11-22 19:19:27,054 solvers 0/1 INFO :: Final sim time: 1800.0\n"
          ]
        },
        {
          "output_type": "stream",
          "name": "stderr",
          "text": [
            "INFO:solvers:Setup time (init - iter 0): 0.7065 sec\n"
          ]
        },
        {
          "output_type": "stream",
          "name": "stdout",
          "text": [
            "2024-11-22 19:19:27,059 solvers 0/1 INFO :: Setup time (init - iter 0): 0.7065 sec\n"
          ]
        },
        {
          "output_type": "stream",
          "name": "stderr",
          "text": [
            "INFO:solvers:Warmup time (iter 0-10): 0.3246 sec\n"
          ]
        },
        {
          "output_type": "stream",
          "name": "stdout",
          "text": [
            "2024-11-22 19:19:27,061 solvers 0/1 INFO :: Warmup time (iter 0-10): 0.3246 sec\n"
          ]
        },
        {
          "output_type": "stream",
          "name": "stderr",
          "text": [
            "INFO:solvers:Run time (iter 10-end): 0.3966 sec\n"
          ]
        },
        {
          "output_type": "stream",
          "name": "stdout",
          "text": [
            "2024-11-22 19:19:27,063 solvers 0/1 INFO :: Run time (iter 10-end): 0.3966 sec\n"
          ]
        },
        {
          "output_type": "stream",
          "name": "stderr",
          "text": [
            "INFO:solvers:CPU time (iter 10-end): 0.0001102 cpu-hr\n"
          ]
        },
        {
          "output_type": "stream",
          "name": "stdout",
          "text": [
            "2024-11-22 19:19:27,065 solvers 0/1 INFO :: CPU time (iter 10-end): 0.0001102 cpu-hr\n"
          ]
        },
        {
          "output_type": "stream",
          "name": "stderr",
          "text": [
            "INFO:solvers:Speed: 1.201e+06 mode-stages/cpu-sec\n"
          ]
        },
        {
          "output_type": "stream",
          "name": "stdout",
          "text": [
            "2024-11-22 19:19:27,070 solvers 0/1 INFO :: Speed: 1.201e+06 mode-stages/cpu-sec\n"
          ]
        }
      ],
      "source": [
        "# Import the required packages\n",
        "import numpy as np\n",
        "import dedalus.public as dedalus\n",
        "import logging\n",
        "import matplotlib.pyplot as plt\n",
        "\n",
        "logger = logging.getLogger(__name__)\n",
        "\n",
        "# Define the simulation units. This is optional, but will help us keep track of units\n",
        "meter = 1\n",
        "kilometer = meter * 1e3\n",
        "second = 1\n",
        "minute = 60\n",
        "hour = 3600\n",
        "day = hour * 24\n",
        "\n",
        "# Specify the simulation parameters\n",
        "Lx = 1000 * kilometer # The domain size in x\n",
        "Ly = 1000 * kilometer # The domain size in y\n",
        "Nx = 64 # The number of gridpoints in x\n",
        "Ny = 64 # The number of gridpoints in y\n",
        "g = 9.81 * meter / second**2 # Gravitational acceleration\n",
        "H = 4 * kilometer # Reference ocean depth\n",
        "width = 100 * kilometer # Set the width of the initial Gaussian\n",
        "\n",
        "timestep = 60 * second # Specify the timestep\n",
        "stop_sim_time = 30 * minute # Specify the stopping time\n",
        "\n",
        "timestepper = dedalus.RK222\n",
        "max_timestep = 0.125\n",
        "\n",
        "# Bases\n",
        "coords = dedalus.CartesianCoordinates('x', 'y')\n",
        "dist = dedalus.Distributor(coords, dtype=np.float64)\n",
        "xbasis = dedalus.RealFourier(coords['x'], size=Nx, bounds=(-Lx/2, Lx/2), dealias=3/2)\n",
        "ybasis = dedalus.RealFourier(coords['y'], size=Ny, bounds=(-Ly/2, Ly/2), dealias=3/2)\n",
        "\n",
        "x, y = dist.local_grids(xbasis, ybasis)\n",
        "\n",
        "# Fields\n",
        "u = dist.Field(name='u', bases=(xbasis, ybasis))\n",
        "v = dist.Field(name='v', bases=(xbasis, ybasis))\n",
        "h = dist.Field(name='h', bases=(xbasis, ybasis))\n",
        "\n",
        "# Initial conditions\n",
        "h.change_scales(1) # Set values on regular grid\n",
        "u.change_scales(1)\n",
        "v.change_scales(1)\n",
        "h['g'] = np.exp(-(x**2+y**2)/width**2)  # Initialize the dependent variable c with a Gaussian function (note ** is the exponentiation operator)\n",
        "u['g'] = 0\n",
        "v['g'] = 0\n",
        "\n",
        "# Operators\n",
        "dx = lambda a: dedalus.Differentiate(a, coords['x'])\n",
        "dy = lambda a: dedalus.Differentiate(a, coords['y'])\n",
        "\n",
        "# Problem\n",
        "problem = dedalus.IVP([u, v, h], namespace=locals())\n",
        "problem.add_equation(\"dt(u) + g*dx(h) = - u*dx(u) - v*dy(u)\")\n",
        "problem.add_equation(\"dt(v) + g*dy(h) = - u*dx(v) - v*dy(v)\")\n",
        "problem.add_equation(\"dt(h) + H*(dx(u) + dy(v)) = - dx(h*u) - dy(h*v)\")\n",
        "\n",
        "# Solver\n",
        "solver = problem.build_solver(dedalus.RK222)\n",
        "solver.stop_sim_time = stop_sim_time\n",
        "\n",
        "# Analysis\n",
        "snapshots = solver.evaluator.add_file_handler('snapshots', sim_dt=1*hour, max_writes=10)\n",
        "snapshots.add_task(h, name='h')\n",
        "snapshots.add_task(u, name='u')\n",
        "snapshots.add_task(v, name='v')\n",
        "\n",
        "h.change_scales(1)\n",
        "h_save = [np.copy(h['g'])]; t_save = [solver.sim_time]; # Save the initial condition and the initial time\n",
        "# Main loop\n",
        "try:\n",
        "    logger.info('Starting main loop')\n",
        "    while solver.proceed:\n",
        "        solver.step(timestep)\n",
        "        if (solver.iteration-1) % 1 == 0:\n",
        "            h.change_scales(1)\n",
        "            h_save.append(np.copy(h['g']))\n",
        "            t_save.append(solver.sim_time)\n",
        "except:\n",
        "    logger.error('Exception raised, triggering end of main loop.')\n",
        "    raise\n",
        "finally:\n",
        "    solver.log_stats()\n",
        "\n",
        "h_save=np.array(h_save) # convert h_save to an np.array type to allow data slicing"
      ]
    },
    {
      "cell_type": "markdown",
      "metadata": {
        "id": "4lmSc9vmFPzS"
      },
      "source": [
        "### 2.2  Plotting\n",
        "The code below will make a movie of the height as a function of x and y"
      ]
    },
    {
      "cell_type": "code",
      "execution_count": 9,
      "metadata": {
        "id": "PumKdOvqFPzS",
        "outputId": "66aad414-c6af-4868-f297-05e31d34a6e6",
        "colab": {
          "base_uri": "https://localhost:8080/",
          "height": 1000
        }
      },
      "outputs": [
        {
          "output_type": "stream",
          "name": "stderr",
          "text": [
            "INFO:matplotlib.animation:Animation.save using <class 'matplotlib.animation.FFMpegWriter'>\n"
          ]
        },
        {
          "output_type": "stream",
          "name": "stdout",
          "text": [
            "2024-11-22 19:17:37,963 matplotlib.animation 0/1 INFO :: Animation.save using <class 'matplotlib.animation.FFMpegWriter'>\n"
          ]
        },
        {
          "output_type": "stream",
          "name": "stderr",
          "text": [
            "INFO:matplotlib.animation:MovieWriter._run: running command: ffmpeg -f rawvideo -vcodec rawvideo -s 600x600 -pix_fmt rgba -framerate 25.0 -i pipe: -vcodec h264 -pix_fmt yuv420p -y /tmp/tmp11rji22y/temp.m4v\n"
          ]
        },
        {
          "output_type": "stream",
          "name": "stdout",
          "text": [
            "2024-11-22 19:17:37,967 matplotlib.animation 0/1 INFO :: MovieWriter._run: running command: ffmpeg -f rawvideo -vcodec rawvideo -s 600x600 -pix_fmt rgba -framerate 25.0 -i pipe: -vcodec h264 -pix_fmt yuv420p -y /tmp/tmp11rji22y/temp.m4v\n"
          ]
        },
        {
          "output_type": "execute_result",
          "data": {
            "text/plain": [
              "<IPython.core.display.HTML object>"
            ],
            "text/html": [
              "<video width=\"600\" height=\"600\" controls autoplay loop>\n",
              "  <source type=\"video/mp4\" src=\"data:video/mp4;base64,AAAAIGZ0eXBNNFYgAAACAE00ViBpc29taXNvMmF2YzEAAAAIZnJlZQAAa0dtZGF0AAACrgYF//+q\n",
              "3EXpvebZSLeWLNgg2SPu73gyNjQgLSBjb3JlIDE2MyByMzA2MCA1ZGI2YWE2IC0gSC4yNjQvTVBF\n",
              "Ry00IEFWQyBjb2RlYyAtIENvcHlsZWZ0IDIwMDMtMjAyMSAtIGh0dHA6Ly93d3cudmlkZW9sYW4u\n",
              "b3JnL3gyNjQuaHRtbCAtIG9wdGlvbnM6IGNhYmFjPTEgcmVmPTMgZGVibG9jaz0xOjA6MCBhbmFs\n",
              "eXNlPTB4MzoweDExMyBtZT1oZXggc3VibWU9NyBwc3k9MSBwc3lfcmQ9MS4wMDowLjAwIG1peGVk\n",
              "X3JlZj0xIG1lX3JhbmdlPTE2IGNocm9tYV9tZT0xIHRyZWxsaXM9MSA4eDhkY3Q9MSBjcW09MCBk\n",
              "ZWFkem9uZT0yMSwxMSBmYXN0X3Bza2lwPTEgY2hyb21hX3FwX29mZnNldD0tMiB0aHJlYWRzPTMg\n",
              "bG9va2FoZWFkX3RocmVhZHM9MSBzbGljZWRfdGhyZWFkcz0wIG5yPTAgZGVjaW1hdGU9MSBpbnRl\n",
              "cmxhY2VkPTAgYmx1cmF5X2NvbXBhdD0wIGNvbnN0cmFpbmVkX2ludHJhPTAgYmZyYW1lcz0zIGJf\n",
              "cHlyYW1pZD0yIGJfYWRhcHQ9MSBiX2JpYXM9MCBkaXJlY3Q9MSB3ZWlnaHRiPTEgb3Blbl9nb3A9\n",
              "MCB3ZWlnaHRwPTIga2V5aW50PTI1MCBrZXlpbnRfbWluPTI1IHNjZW5lY3V0PTQwIGludHJhX3Jl\n",
              "ZnJlc2g9MCByY19sb29rYWhlYWQ9NDAgcmM9Y3JmIG1idHJlZT0xIGNyZj0yMy4wIHFjb21wPTAu\n",
              "NjAgcXBtaW49MCBxcG1heD02OSBxcHN0ZXA9NCBpcF9yYXRpbz0xLjQwIGFxPTE6MS4wMACAAAAX\n",
              "5GWIhAA7//73Tr8Cm0WXagOSVwr2yqQmWblSawHypgAAAwAAAwAAAwLa9HiTO+TU8TYAAAMBBwAp\n",
              "eA0TclFsAOXAAVGaNFw2GOqEtAZxMfKTYjFHyp/J/Hmm/qyp8AmxMboHt2hQFgJXgdlrEHzD/Pm7\n",
              "X4lqNYN7xeZh1KnA0q2G+f4UdhU2qEx0vqJRtN98YeYYSH6vQxvn/1a9X2KaT3yywXQXCv17QVwp\n",
              "zJ4mgDWiN1IFvggrVtXiTDjRw1LvNLpnQGQK71qIO9nwodNS8v09Bv1iv+6wMKel2e3AIm1VUee7\n",
              "cHEUSRpirxQUJpstlqn49uyF3MCmmrxQS5/gVD0vngsxIMHRkx5Ed4MgGbr33eDtRSD9wiSWZShj\n",
              "kAdrTqFcV4mnQO21UXko/kTWiR+MTNH7pp+slZ/9wI1GitXpqXH2kU4oJzhGUGtwpF+MTWko5Dol\n",
              "TlFe1R52pqTe9EQTAZWP6CdyBD6hSHoQE6iRShF/l9zUP17ossf+HnFzrevw7zjgojOW15BobtQq\n",
              "79jKaytjtcKd+HinOAx7EKFY9lgrpayP/sln83Pbx5Wmh5hAHeyxC0ujhIURrQhRyp/91VRrPLdJ\n",
              "SnFn3ryp4ZNaB8YCSfT69yM1rUqRrVDap79oiWI0YUmyyHAaA2oXyQFvQfDvA49unydDi8HEi/y/\n",
              "Kniq0taVaj/wAfDuwF7iElIYuBl5dIGYEVlBRtqr/TF9RAXvOxTc/1Ppp8WwjfAfSh3m2H16699C\n",
              "/iCRSpqSVPm+YTRAivzCnI5Lz99uXIIFAKcLl4PAh+c8T+odn8k1VcdxK52DhruaSapMBf3ES2BK\n",
              "2vO9eIYUNibW3quR7PYMTejPMN/eWMBh9xL0EvjO6qnPE44pzdxQ37uR+cZ/uPu2FOAMwQB4VSsj\n",
              "dvX68sTpmxAX7rUfAnBAGeaUJrkYRqMnbQcTKae2h2OLtz9Kmi9CcTZt556Ist6MryBaBh61faCl\n",
              "JQbfcImJcP1pk9s8E/ZLkU3W2EbVy0BevKfJbpl+0K94c1OlPWd9a+K9Ta8n/USFOjvTgIrr5kaK\n",
              "/WSLl/YunezdWPZC2foE0f4bH/BlU5wwecsyWXOwlR233CdNeqHWJ1xf5NOnQ2onkEBHKWf6AHA9\n",
              "pJb62l35bhffbvBe4gXq9Pdw2GwraxYpGLGwz9LdLhU3JA9el+Uf1HFg3MMhxjMBC8BZ8DnjUdsA\n",
              "7aMspR6x0auRAJmxbx3bXuPrQPhZ1sqoF7RDFX3DwRF8L1N4n7oPBcr9aB/MN7exEqNeCFzwD1Gm\n",
              "XlGlcAQM4+6mgcSQpSHKda9ZefSxd25HbU8l30b9A0/G4R3LbJg+ympdLzNtTUZ63vWGOpZf4D6e\n",
              "ceq+X33h/eSyuSc4kDyU6BkI9Qk2HQ391bpBLRMqyCDQ2NszQPCY4qKR+K9BeS58IAxkMWkiPg6c\n",
              "K4COaiPJShwNNa1TAnl7TmW0nUeRIdkI2PgFyRCFaE9L4yuzQJxKIKjWG1xK652Mvlq6igwD6v0n\n",
              "zyOkj7DfRglHeXEDiTUN0F8FCpLkdR/OwZMpMZGEQoabkV49Wau80vQgtamGOptANAmbPT4Z3nsv\n",
              "GvGu2fEaWf3vvUhlzD+YR2aQHh9PoMOWryr6wtw6DomE9jHZIXqlqijHIL1yT9OyG+M7YcLe5B0K\n",
              "9/K3Z+D+U0sc/nqPk+KS1BVrJ/7WwPjAwRCzX8801nxchYZHYavUhltAN8ZbRyWJhF4um4HsHP2Z\n",
              "HWMZUt8uE49OYedHvRyPly96qcpktb5sehbYKro3oNOUE7GUqTsYmR1t1DW6ad396AoE2V3WSKMF\n",
              "hf+sfEkGo8x6DtCEYIWkFzTMy6lCgTizMRF8j2tnWSCJdS/upReu50OtTxFJfn0iO4o4j4CmWs+t\n",
              "jXLJpTgoCWek6C+y5CE1tmeMhi5XXi+0ihqorxoot7Dzh4HD/jWDz2tqU4HG9qIlW2+qhbCnPDS1\n",
              "Dp8wScrHfTR+dhL8laa348ypHyb5tJxmuqFF8p4etF9MjXPiMTTeXSnk1V4x8YMNc0E2vEbxmPpz\n",
              "u2iUcLKAhxI7aFd/izbdgEt2VMibwsTtZfZ7ZYSz+9YEyJQg2fJDDr2Q4wmi+QzS6v7Aev1f/ft/\n",
              "JBTUMK2IGKmM5IGbMsGL4mrIFPY5pF1oYVsWStfWZeAuVBxzkPvXtGlm2OaIIXWq9NFxGo87u6US\n",
              "SPEWojiwD07BK0YzG5LFT7pl3b5dngs3WrcwkngqSbFwwptRRFY8hWb2GUjGxmDMC+FdIFperQWz\n",
              "1Pk3hqGLJawqEtXwhyZMdDiV1elU75k06ITqHWUZEtiRA1ggy9W3QK8FpJVDKNo+v+n2BwpXRGa7\n",
              "TWZ8YyNEntCA1MyJLdrvRQzGqkp/HXifgKGbkFqa+SU/LRjtP27CIoVV6ArH4Lsv/NHHecD8RstA\n",
              "ufnFcf+S7cM9K2YjMN52VjEvb7quUZhVQQ3wJKz+1W8rI0IBLhcLxMVK8fvRKJHBaLPbRK6n4/P5\n",
              "MAqN2Gt1AdW7kQOQaV24NlKKhnj06JTVs5Oqr2GR5/HrsKpmmmuz1DuB0KYCsDBFOC3EPEzsahNw\n",
              "d9sSHGftCDaPSTSqFJkkH6AHjkvrDygAhtwXxT+oCdU9RPX/r5UZ13RzEpY+yy6lkXCNpzyWv73i\n",
              "N2mNQgMwAAAPWnwbN+SZTBCeExgLYImMkgk1n6k7A0DallGsZbgUg0IDPnUDk8WYreGb2qF3AKHi\n",
              "Ul9jcoCUexXIqs7iqeOT/xKrrSpzFtiWbi+vzNm6egKZw3gwAR/xQchGQ5e1wrrUWnwd5gU+v46W\n",
              "g8jNQ1XZUdEkxhgGMfmZDr1WH4LOZ4qccts90Iz/oYdtDPNX597dgnJFpy5Oqp4YpvPqMicq9Dip\n",
              "V0dgOpTYHKqLxyFMQDYn6mqW7GcLGyFW1PgpcQy7HfKbysZDxQIl/2Hgmog4bnWyTbuOIRHOvbfz\n",
              "Tpl3T/dVoaRonmt+a3fxKQyo0bAFRtFJXd1E3/jqz5Oe+EJDqbzYcrlLZwsaFmqPTTUpDTBg8ES5\n",
              "Dw4j7ZsteUHMAQ3C/VqkRAq1uCCo7WMlSE7d9aZrIfKXj7OZAC2VBDNhNuv60/i0qG4LLvyDDh5A\n",
              "dA+zhFAq+yVuZUTDngmxT/xjn4XvRltaxxxScRMoKIDHs23BvvToLNeK49S2JBqWizIuDbMhGuM4\n",
              "JDJSE2jLDWSiTf+mUxESKxR4WbrKixQ83Fmvp7Sb+rYAkvlsIJKAU8QuOb5rbBBsaKN/v3oxvvGg\n",
              "Mnd9IV7UZBgiOXHesSVMZ2HUqLXVKV74l6G35FYhGvgIApC/j4RcRMVZAvg7e/Cx+hkeg/h83xBM\n",
              "p6X/mZISsx+Y5/51dacSI1KcV63/42SDzIPDXEihjR25dPHGlMTSyhLLLRNZkr8zYTzhj+ao91G8\n",
              "IwLZXWXohYoRlSK0s4ostpCA802SedOe8VZO0yvZSP8l2T0Pl1is/HEA/M+HXjICrzIgpir0E5nK\n",
              "kk/wT8m6cBS9unIdz0WS8YXwIBS+mEAVE1Zneyusmpl+jHciEsvAU+5sPNXES2jeG9FP4rUT89yU\n",
              "q2x9AA7owUI3s9D5COwCizidXgIr+ynlnWwdgyDKELf1ul5N/lV+FbsNfIw4rTL4RKMKTm+tQ4ZE\n",
              "jPl1Q+w6Bjy8E/foQsBqNGvJAZ1O09Ytn0LLYkls2+BQH/KyoFwriqIH82tLUbHs4vmcTkKPnH3U\n",
              "gsjDeYsI2le/ufz/wNQZe2WZCdWAl+4jIBxI2wzb3+ZHYUoCLmwosf1jsOZ0HOAjc+AryKpTd5Q+\n",
              "gBiUObHB+gF2w1MbN8APEms1xyZESXR9e6Jl87i596oa56ZNUaox6xWWccdk3THurNaZQriqHm1u\n",
              "CKHPkOeQUEDNLdl6QqUxaZN8IVnHRaXY6l4I8GIHu9H/kbDVxPQe/d518k1yzDZDd7hNjcEit5HH\n",
              "i9/7MxhSIA/5rPFhvW4CiP+X5iXhyA8iSd+O8oy/QAGn+LcH2c7rr9hxMbiDXkKFCs1W5gDEu+03\n",
              "3kforKO7shimgcaqSHyoqZZlGh0BO+Ejy6R0DG2BebZXcffFdM30Sc/1lD6qEA7T4waLojSN6v9u\n",
              "iy9z6EpipvNPt7t1OISV6vPousldyOmsgiiVJPDuKzmgpk+vW+XO3ZmRs5oosTU46QIBWwhn9oh/\n",
              "7t36PewPPTvkop0sFHf6YhYjk05nYDz6KLupskCfu3KYRoK2Myu1PiMJ6LIwiWcKoPrLBRJRldms\n",
              "jgNGnsLM42L3SY0QY74Ty3tBEJJr3NaqWAbwCp/hSN7GXOYSf3Bkgna10WAOsH+HWN55egzmJK65\n",
              "1jFUX8LWkBZHchBVqKAES3jn1kkroj5iPfqXAA9h0s/V5ZOLS4cFlcG9gn75QXrc88fdcHPF4+pw\n",
              "Rtby8z/PPobDOUPVuQMKRHMROX8Hzjit83BrC1U9B8xndRfh+NrAy8V3rwqLfwzAQLJS4jiLvIcp\n",
              "NR2442J7BZTazf6VLgZqOCtAnPDgf24Q/aVE2R0JCuAV2aLD9o0KVGUYYTna8Kzz/zKrmYfE5TW2\n",
              "GynNXaVu4K4B+0RuqGVC63hXyTCQED85rHZFVIa+1qQyaFhBaU2tW//ghGT7186sJpbLytxwMGYe\n",
              "gIsvN6JWW9ux9PRtu7+Y5C7vZL+ZQBh8CSdBRGjlb/Tlv9Ppairh9loJ+W3KlRhmsMQ9JWmlb6CP\n",
              "TCB/5kYExL9ZWt001eD/S+bBj7rxVCvyld7xNSD1lBc04jBpWbQ+rAdyu3x+t2Wt2K/ZRtUE0aWb\n",
              "r/AwCmyI04sNTROOy4U1ZHNzs9USbZpGWlFqjhUiYyubtp0pSUdGEdrNi6+2Ruwa8hA4S/Aeg5mv\n",
              "FvjWOllAzF0NaLWZCr6UQ9cOBt1G+/WS/jjIayRc49Woqns4bHCZkL7fy0+qDeNm7+NAriUBfpxR\n",
              "9CDyLoVUUpuvFUVPo0uZXEQP92WCsA6MslkTsPTA/lov4DDhSTR3XILfmmdq+eS+7K6k+RAgh/VX\n",
              "KE3wchyITpdplRLZ4FAhWEo/tQV3hdTKIy6xMn/T4CFFpyjHEKEi+fOas2cJt99XgAb9ETwoEsXQ\n",
              "1q8U6hvMIlfxvLwKk8olS2/mMTvfNAidfRjoeQc+Jvq7XWvtvAyfBVugvpa5SlB4WF7a+/d2HTC0\n",
              "cgwN0gL4/nA2CwH3m0i7/AdPTsTvefPUusBTABk123x+DXtY7CxW425+jyl+HDHbHRNPMQMo408b\n",
              "6zirKOjPLSJd6Kv+rF837Ku2xuO9BVrs9+6f0sJCLav78ppG24C8O+ARfokuMa44SUp8KS1JywQ4\n",
              "NCr/7Z8oSYAc2gzx4UDzLAhL5S4/SSTY3SHpBG2PmCgmLILbpJ/4rqxt+a6LERDKrsebZodbu6Oh\n",
              "ewLeW63z0h6L0zjQOcfGPbPpI3maTlTQS0p1N9nY6HhMTkqHsLip2DMiEOvF92oM8WQryqaZck+n\n",
              "Wo/ZfQEtzHqo1tEp+G9YS6bKtTFAOZgVFei/r1PIoePY2e8ICsT+W+gY3Y3yFXcaZ4ZBrbdr/8yX\n",
              "mf0GgYTpWLRaNt4hmskQoDMf1eBGAYPHsCikwE6ycbMLPoYJhpNQOpwehGOYk8ulPgUnyfbuGaVD\n",
              "Ji3zwvqEs+WX8D6r3i3SZmgvugjoPYf/ElBQv/QHPSyR1G/OOzjtydAL3H4Nqt4l89blTJNyrZlM\n",
              "5S/7HfbLp+6iEVDTKioya1B814WOMwAFzgtgiXTuQQHVzrGiCjUHVGgjBCiHwKL4MfmvQe24Ceip\n",
              "ZGT4AiOUqRm3PkDsWyv6hcI4HqwQx3LMgC2RaLTJ9nO8MFO/h2ZXdR+xBKSCLNdrXabYvMPwWQ+n\n",
              "8qrghM2Wq1ruFMuN6mhf81bj9Zd1jRFktL0Y0zc/6DCmX7ZpPoXHQhRt1fMS2rnjiKF8ugSO2mPD\n",
              "SsqxYLg7yRTi+oUedNJD+QxUwyMbbd4atgnEfXqPHXWFm+0le3EmmJ//p1ko1vqd27QSgcWYKaOV\n",
              "6+PkQlrKs+s/Zp7IxmUCaNStKTwtKjq8+ZyFhi5jPhLM2Tu5/wQ3OIW+ACUj6KuJASWnn9+maaQ9\n",
              "T95Vw+noaW8Ydj9FGmRbdslxTz5/xwIytJZAyQnuORkGhQPi7a4ZhRJkG7ZxWqkseW3mAe6aIOTC\n",
              "5kdl1PAebAU+IKz6IzVRYktn/qgd90zJRvWubbpgYB6U/8f94FbK/o6nqZefX1wh6Ve+Qkgjs1wM\n",
              "aGdXKXcWcDwDC7ORKJhYiNHmrm9P8f4o8arSYjJtGd+E1c6/msOjp/fYKi91i+pFalf9ihDum4Nz\n",
              "jqmRdm6Ttmvgw6HJLJPcpY93WTYEnrGf2yzRP/XBhoUXL6wBGMGG5JBtXJHd6hnM2ldC78WLZPiQ\n",
              "EGoBOHFV5WUURTZ5h786V9n+1jYY4CerDpxch3swQTKsZKa/0ir/c8h26XusEWVJvD9qkWpnEjrI\n",
              "lCfX3mcXXuL8mnVx3Y1oldYoDruEV0v1UaskTgvhzupEWq3c/uqySK54KQSScHcnZajIE2aH91du\n",
              "YK0yrAGZ9zaPnXOjjt3KqHo6XxWNlIlnsZyAT3kKt305QIRsZaqRcos5dNQ0/cIl7/kPM4qdriu+\n",
              "KX3/ooKU4ENDIzriCZSg0CUMnWOL8Pd3zSaqBoZ2fEgbVbENPNXcNCO+3Vxq3fqoZr6S68FoFdQ5\n",
              "3/lSjKOeNW47XhGb6SfEN5fH8TLEgryVPI70rDd/RWCHiocJsrRFS3kB0qBJQKh6h1W/QWsdSufE\n",
              "Do3Nn6VuhR6q/58MLFkFKMIXFTLHeAu4Ua/+6YKxOGJ84u2md6DtZiIMZjHmJXnHyhGh/ydgETNa\n",
              "NE5JahPl4kf23L3g6aibOZs/beWDxBatlPW0si2rnwWqBl2Mv0QYIrs3K+fMXlJVhIZlrvdUySM8\n",
              "91vDPM82EvMvMSwmV4aZPIfDHVbS0Vn7lPTWDXlpPOXh5fhmQE9tx7xI3xdHBVAIxdQvIIEgfZhL\n",
              "lsNyMc95WhQdgboq67FJWZr/Q/ccgaVMxD+NhdDCIyZitY5sbMT+X4q2OCcCiCT7O59DwgJDQU/D\n",
              "CNakSMOgqV2W06KbrKzwHJvwjIS0+nEquH8oIX78EUwkvN0TbUHmD37gmN9BHJvFleUY6CbVHHza\n",
              "Uy4uXeXSIYZwgu2Ikl3gvL5a3CFAZeKf0/UbHBIqCdVE9VbCimRFb4EJBKFl4SZSpWg8UBq/us0z\n",
              "shkeAX44kT2soqVzl9czsVHU/jkAalKzUDV6NjhwgMQya/NgauzSRH9+I3Ji2JmVmCrSNPM274Y+\n",
              "OnefWDdtGEsYBSxlBF2E6cwLoybK7cKXuwr10RrdtAQ4TxyiBZmj/a2uxxtr3xazT5q9j1sGhcFo\n",
              "FgO1bQ13gOjZKHxaHjMAz792y0tux7YekSIKecU44QPK4YeOueMOjE7ttXUX5ne3fuwqhBELU3vt\n",
              "dD9eSHppbPYb/hzG+8qCX/tre7ScYJUGBf98RMqJkIeam7fwxjJnHaSnLPgjnfj5YAz1srH9MKB4\n",
              "lDBqjFER72Lcnyrr1tGzYml1FxecG0c+19kiFmd1T6xBXhQ+VWxtUhbXCVDrLgYUWKtgLwb+9Slu\n",
              "EiUfisgu2aoZZgXS5V014UIlACKQYMkpxhdnF4ujV4hNPlXsKn6W9lIh1AS3dAAABN0zxtuAg4xc\n",
              "0teUHoimunDZ4sxREf2xdwOoNNOFdHmH8pU4cTavNVoOqARbVJCOp2IOH1sGQmLiXpVtxLR7tYnk\n",
              "hewEIoYR/sGGAI31gPuOY5nkJNBXo9lHCoF+Tved1d31wf+YA38gKvOkYrjiMn625ZwR9WWwGmvq\n",
              "7qOwnzo+vymV+UBP8OL/IaYVHM6eywAlhGYGGvRGPYMFysvvwGBWi7fkmDVlA3+rEsQgkiZ6bPil\n",
              "o4Vv/ozmRMj2Yx8o3unsAIhLICYK0k0qfoKlrzqJaU8CLxBiTQb9EKBNYuIjzQ77CC+ZDMd2QUNw\n",
              "Y22utCaC/OgYUO16s/v3EoJ69fTgoqgsyQ2J0yBNb4Xl+OjXSUdJVt9msnInf7/pWfUJBmDbAjx6\n",
              "lc0qKrj+9Gz/HdfPiwZ0hJd7xvmdiqefr6sr34MGs/B5vWYAAAMBWPjM11iTF+d+fEf4nZbXrIta\n",
              "MxlqpypAH5b7XfxNUK8AAAlpAAAC10GaJGxDv/6plgAlDF+6AEV17yu7NwHwgugHLl/IvXUoSxJ1\n",
              "NawdGeGpo6U6j5mBwLRL8+CYE3wHUXDG84zaPuBEZNB+u12iofTNuNnkmZZC762ZBKeittZbMw1y\n",
              "0Y3mTTvN2pNYd5URBQLqJcu2/t4iK90n7IohEIq131uTArZ5lVyZFBzi0Kj1yESY1wjJcpOhMCCX\n",
              "ERyUS3bvwKLe4Cxmn7TOczn+Ido9lkFFSGu1pby2A/yYK6/xjzVRTRkonwosWzJZsFfU8bySWpea\n",
              "1l9rH+9k4DpgwMjY3MlyMd6FJ5vDjL/AC27Gf5SmkOKOi0fT9MLVCr/hfml2sm0ckTvUC8eqR26e\n",
              "xrnxVyAAG3So6S44+0tq9ekiKt46pmlWql9Z4YnziQNetva3714BDVr7jxy+8Y2R7t5kX0s+CYvI\n",
              "EGPXh3tciinkEp/bOlkt1VbFKmxUM67Zx6pBPB9OUCkj5Zuqrs9tXze7TX5sxYSq1+PuKQiLsQWP\n",
              "wz0xjfN84Hb4gzqYr13ObTmbmlgxV+QxjfoksHGX8mef4z4Zz9VfqcQO0qD0AM/oLgopXDRyUyds\n",
              "ErZu+d43TayjocuYLW777Mdx4bDBlo2R+NyK3F5cx3HQ4NrSoxqsNbk44nS9bR0MtwN2YQ/UJUnu\n",
              "6UrEgjUoncvioUHWBCle543oqtfGgv0xWrALEnYCi7U/7eSSPeVnydNXmGES3DwezJ3qV8/8MbCl\n",
              "pt/hjqiXwMh00dPn8hKl+HzVij6CAma7xi/RVnls7Zy5OUPuOLwMaiU8xW50iPQm8GVgomK63gAh\n",
              "bRScRjRcSk6Tl2Jeq6tjkjzW6sa/gYPzoZmHPZdnCq0mYh7ePkJ5qoYcmgusp71IuKNeVcxSF+ry\n",
              "rM7k9Pa1mrVoJ2OhYWP3R+ymQkTRBUGOExWXQQrxaSJOWAxvTTZRMQidWfo3sfhSEu2B22l5wJ5D\n",
              "8JAVaiUVcBkAAAH0QZ5CeIX/ACxMRhWZOztAmugAhNwZDSC9iB53xH2XMvS1sRQweLPCjX16OiX1\n",
              "Ho8tVoxNE6Oeq1o087UdwJ/GRS1g+6YORc0Be6d3PPDf/wzFd1qwHiDTpBijDocIyIdyqHshefRZ\n",
              "FdHaGvdh/n6Ss3E9ugGDLswqLd6Nx6spC04Bt7whqg22IGwEm/4QImc/t8RoT3kLTXWzYOE2CHYY\n",
              "vJYZ+7cAtXaYYVFeeETUzTJP5CFJC9rUntNGdKs6X4VCz5jT41Ce5A2z7xilm7KuYnlwfHPH5iI0\n",
              "HCe8CFk+ChVOHVyzwQ5G8WpMS9Ax6Zkg+i/E1boO0MtM++sh2A1y1IU3A5iG+TyhxTdY5NudoYLR\n",
              "9G6S3Sb8o9n4a2XBVcOJKuHXPk4EeLprSC6l47Va/iw5sPIdStQQpIlz+wj2JEIW34OhjHys7yEP\n",
              "Lw2QMZosoKw2wLJM0z/cCkX01SlT2szFlrGqHXZIysMJYv7NaGwXEgTeRsAKa+r7qWqTssOU3R3O\n",
              "CmfAtm6IxVLUuAn410yIjnaZsOkeW/S5YPbk/eRg0Fi9oTFpRfMU7KNX9dKlShi0gLG08ZC6/3HV\n",
              "BXNyoKAS9X8U/xyH986YUXKv6a20QMkBJmFll1MkutjrmaPMM5NCRsRI2Q0mZBqgQOf7utrjpgUA\n",
              "AADUAZ5hdEK/AHFh+ttUcAHOHcXYfxLUsSmxA6he02s9fn1Tz3rP8oINtMdExybHRlEqJt87p27+\n",
              "Da8J5sJAO1SuWji2ck7LHazDnJFFczZEVUi6JBd/wiB1KuzRTVDh4SCv4SGC3a6wua9usU9zBlDc\n",
              "Td2dDcFCG+4rnWDf3DfACkUxPsrczWzMT7sGSFWh6A9+yNGRtanmwF8XLaSibopJlkfD4Dh9mVUM\n",
              "Nn6lwCWbxUxRKZ4T8o9pQ0Dt8YcRAOFAay6cd7dnqKiRiKupxdA529aHUZUAAADUAZ5jakK/AHFA\n",
              "2fYwOaZtWAB2hpLm/40yVAaHXhut6E617qpmJZ9DDhXvCV225EFGQpUXhMOYrIcsx6sc2aELz6WC\n",
              "rP0FN2SxKCWtX83yePh0Zzc6q5EPO/LDeDDfhuoznHsBFiaFKCHkEy/hIQOqfI74uAFzsr8YSWQh\n",
              "nv9A1W7uZQjQqC2bP9ac3lsa9Iuwxzvui+/Hf6ko+TBvnu6mFWVsk8aGRY8eRhj31nLQZsWzW/e8\n",
              "aB9SHjjoViOZsyISh/ScCJu8ytK9Z/JdkHkHYbeEAvMAAAPFQZpoSahBaJlMCHf//qmWABvR1hIx\n",
              "cAFdGodp3rGnsAJHtBCm2OnDy7whCE1b8R/PtXhz+IzAJ7wybO814ivl0KbTCeEYoDcCIrOj5dIS\n",
              "SqRvt6d/iqilGMMSGzIx/yCISHUav7uKX0SFbZAEqceKfjDIHjN1hWLSTPPA52Tsgh9Nbxi/wvJH\n",
              "HW8CCo7nml2L6ty0V7FgQeuf85+XrsqRxSEGUe976ofea+ikil2sqCEIwbDnWyJJUtk+47zMnIfb\n",
              "C9at3y18LXb1nkXyOEHmtj3kDDXj5XmVgrfVT06FLGh2ORcnpJMfdu3p6xRbvkO4wZIWp3vxju4U\n",
              "osb6C+GKEdNxaQ/koLveZGf0PMEfXdsiDfFwa9ahPfEP9UcPQhsC+eWLb12qVxA0giN7ga8KwMBt\n",
              "lw/7ZglMgk2dbmLmum109rr9VWVR1x4syApVC2SVUVSA6bjgNraHtnczKz9De+jl9OxzeTraCMw0\n",
              "6znYdQZUaM5Iz0zl6lLeP16Jt9QO7YCmGTT5PSLDwgJlEJhihaG/RCxP3s5VUiIGuhwhtIfW7Pe8\n",
              "2kHpTjkafppCDsUny0CS1sY2YUvAq8RowTAwCBnb1izxkCvWfxoMlvjOfW1NwgWGXNNaXKgYR5m8\n",
              "UDecdQITONxXZdykLjdRH8ezOwKpdWYeLgcmQkBoHt4hcaCimGSC/n1+3Sdzwc12WN2kWsx4giWq\n",
              "1vOs3OWSHANIK0XMNDaAtUNIo+uvrOAB3Uszb/LdXvqmdg4bma0k8BcKMaDgoMdDIBYtY9b3WtLJ\n",
              "KZkWQm9KofafvVZ254y3EZhNnocMKUBXrCykqeUdwHtIN1WSSqFIEwOYWLdW17oxEif+pjNMfIJu\n",
              "s+Wf9vsPEGwpTbo2cbmDMg8JGFgYd5wkCXSFusJ0b3t41RVUWlETTUIqPLcuHsZCSyBd84TjzGQV\n",
              "ew+xd2aZla98Q1la3lv9OmKMaoseS6+8NnxAqbmnxVApLI9gtSS5FvjYl27HNfFPAJ1Fcn9gCCFU\n",
              "7stjd6RylW9W77SXf3yaBTAfsHJqY4PY9a9DO5TSOS9nsQqo+0gZ0xxgxMpllVw5Ij2a867wG9rH\n",
              "5VwCySs0O2bnGaStCeVzyUUYpX3lGV1NvRhxVCuJDBu/QzzjyTy4yGPgShxbIosnoU+oBi37IKwL\n",
              "U8oKf5BB69CRQypEOVHEPAKp5/UVkiYNdNeWz+NfBy9ixddGwziQVdY9GOrUSqtnkXmhqXq/4dsP\n",
              "VUhpFg5HjqCrhGEUFppK2fAshYv8vptP5YIr/80oJuEAAAJKQZ6GRREsL/8AYiI4SMypgLxYbKAC\n",
              "+WQzQZetCLBacVuZByYgJKkfPRmsVkfhCOJCMUOzNn+cLgK+7zSR/I5o1HSFnizd6dUbH3JPFY27\n",
              "j6Jk7vfC0ifUm3F/AKffYO8xXQm7elPORyemSj+azPpQ5miFDPsGnL8JgAo17NYHKMeFyYmpnKu6\n",
              "cxMQ7pbVvpmHWpv0MWPLt9bIOvp0kZoyK0O3ZW8f34YbxpshOGwU3XFGcEgIgsFaFpC5s+54xh18\n",
              "vjw3SQ7QaLwjRnKKOU6aQ56yAZ9FLfKvxE7kLdcLJeT3KQJ70UFdGn3YDcqgNopuUy0ASS85apg2\n",
              "BBXhrB/L4X0HjZ/Bn+Fb58fWlm3FsU/SmxC0dLDeMTjddmLpFVzDm5aKxJWiUDlAMjmUOdnzyKrt\n",
              "wfbWttbjOPFNqRcykFcCQRWJxH9ryQBqJNIcj1uXyKsAWLzJDS/JEZNMoRRF+VoVXuSkqq1EeoPW\n",
              "GAcwSHkjNvTqKYdrvVdH9QJBRsB/6LlowwjixAC3OQvMmYwNk097jVRmYbDF/8e7B6Hc5myY3gxj\n",
              "nVRmYnuOV5z7mcFFWPbsnePEiQlQgdntpl5dRjIm7E7Rf5U1/cVx49nlEZihAAk6VaCKT1KFyins\n",
              "fROvndEe+y6Ezvho5U5Jbd7LkHu8Is/2Y8AViHT8OA1Rs2PJtpV/57SFmZRT/twwVEa3uMjrLi0+\n",
              "GhZKg8kevjJZD4LB8oDED2TzRXj+QC+L6hujWKVKutmc5cdxrCf77BgVnjer/Ly2+ABnwQAAAQIB\n",
              "nqV0Qr8AdrgGl+SypxO4AOTHwQwMacWMiq+WYURahVnukxNzeP/IpqebjhP3zvQBYGrtwxnSKoAF\n",
              "bbLAGqUuADft+SegXMsP60xL5FgKHHCPIXmDLaREzuzrgAMZpnZGDynTjWT/Zewp6iMe/Y/N74B8\n",
              "VoF8gPkC+cZ4Z93D87C9ZUCD43xwuUAyqBe1LXCx5dWQJw16AtfvtW6djaTtstYfX5s9fVqXckm3\n",
              "crO5eW5I82epZ7JNYADxR4JHllLGaZEZQTGERH6l2UvFxDENHN/UhLfFq/C7molsvwqpQ9I8+uMz\n",
              "7tzW5vxvoo6asbaNQAG76/cZbgAPpkD35xy0E7EAAAFRAZ6nakK/AHbZJVzyryj2pv9GACIPISPv\n",
              "YMVkT57Ei6thIF3Qi11HqIPgF6R2m7OKPDLCZe4AJM8GSINqbvhlZ2v2oZd+a7GCVYcPxsfZZNMM\n",
              "Jsh4l6pnSFgOYLJHzDRgUO+Y+z2cQd+KGvsbgiNigFmqYtHj47EYORqtl462K1SjQtcgafhVmowP\n",
              "0EFcrefd49MVtWRGR69NWqB0/mJTRhWr/YEfOUsuu+9Ft2fUS0ZegPnccOm2LYM8ZD//vqwgS7Bt\n",
              "/MUI6PWQRxsTBOXOCSKvj/4JhsxV2tNc8lWZNgbSSlIUWbaVQ0Yk40TQOnsliCVBDBm8u9UsZoLA\n",
              "BzHdKp0op9TAdcy967vzuhQ8J7B5ixKgLPpZizG+ekmmPMwoER5PAAVLc4bmE8crrvnNlJoBgxeg\n",
              "ZX5bcL/S3KrpMmOSaO/wk6vatq6iMTEYzQAPCAAABBNBmqxJqEFsmUwId//+qZYAG9aLJwASqPY9\n",
              "ySlYDBUpsqFxAFuQaIZ8gneTNjTmSfw32V16qy3AIpJKODG15ymOallfk+Gc4oIy20MjoUx/rDMp\n",
              "4sBpO6cngYy7RPnHhSmI8vAZUPJS9wgyvpNDmd/A/FyxRWvX5k755dQTQbBj0oQzsGuSgvgoELKY\n",
              "4ue1aoqAyXtH03Ju236djk2uomH2plXiUpVr1AHJRUcYS16kKsWspwGjL2zpFKJQdYg0hpSN/dj3\n",
              "9pSL1nQeCq6hd5og53+S8ksckKPTTfJAqSxFvrd4JKD4r1ay/hvhFDtBiNflKIWgxBOT10C1k0uj\n",
              "HsdZWRNZtnR8GkIvhllzlZQQVscr+YqmTOioPzC5Vywcx5J8MmO6fygxLV1urYGL9KQfonBHjMXB\n",
              "0O69lisIvZ2LdRhBonyTLi4z8qMZYx39AmxweJOArqgPZRpM4Luh4+lGeNAItGM3737oOd597B6K\n",
              "XfLH486IxS8kxvRqJZ5v25n7bo8lhPSnkSeOH318MGdmsNI/ZsYYVHRe5CaSlifhbRL87pCfDKxR\n",
              "D9G0vTwSfEonD7SuVsanRXgOUcSdmEOVBLYXf7olFF/C9xD4G1yL+iPi/g4JfGWJ3g12gkc/Ro5M\n",
              "2w+auwywjyJGiJ9jICR9T77aZaOXVkZBXNGBNz6boy1I7sOkxh6dlQy8ce9R4pTD4jiS8+8FIIQj\n",
              "TRNdoK550Fq3iaQ6yRVLRihcp38V/aaRaApbSBIVZA9pxVdkPRc4enKmNfZ+hzh1G9xfAeNJmlw8\n",
              "e4AnM+RgmV57vil/4qoH75Hby40+jXj92z4TGffLcwsw7QUDc/VO8k07zGomUvzWCCTpnPANLx8D\n",
              "W6CaqUedBr/pBCIdiLYBiCJyDU2j/TVKEA4+6XwMnFU7OoClYCqp408seN5XbO951QHcmhuwYBK0\n",
              "b+iaP0jCRYuJ2UF07VXPlWJvw9oi9ollh+eUOZU3d8E3jfNgQi0wJ+NZ6tb0myos3X3YDrY0TmMt\n",
              "NIQybZIQ/bf6NHY8XVLS8XtaK4+TDEV2+jqxy6TlhfhtxgUdYwGrdU+PJdlwrzYulZNKkjGXBG58\n",
              "VvmUVgKsVPkF/k85eB8o3t3Cr8Ug0lbxq0N3v9vy7nFtDjIXrl13CHL3iLXXIkVv7Ub6xP0AZcKd\n",
              "ClO1+6FJbLSBWF6tTx9H3mZtnAMwKrHQgNSDBLctF/dpGMmr/dpkoC4d9F1v4825gpWW31Ju7ip6\n",
              "VcfioulUMhX/5hAjtMPzIHUGnmOKRt+OoPWJrjB2MotcNasoZxSSvhIB/lWyuRNiOTJHgL2+rUHa\n",
              "rVEt89XJAdNpWC92/dCjfqUd6UbtD8bmd5kYY0as06U+T2co9Wu++WJFuuggxNW0RgAAAeFBnspF\n",
              "FSwv/wBiIjjPHk5NzF1/pgAvTEWX2ccil37x+yB4QaWpN9qLNlM5qkvzoLcYx0tHZIIo6YoI/o1z\n",
              "gKS61phsMjcgBIetg9xERH6gvI1bh56NLeoqmE6t7GOYrYGbuKxqFVXWqVDJ4aeKQQdc8HjuE17v\n",
              "qi6o/rXF9YQ6/nJzCn4YiaBd6PjV/+bfvgKh7ZRcaukajDJKpGwHe1Jx9FBv1p93D9gNw0HMMCyC\n",
              "m3vrsIy5UoHLr4w6ycGUzzJ9B6wWah3bg8oVpfUa/F2XnzclroH9sS3uAuABb6dYvxwkaR2M92RJ\n",
              "r8K+kIk5ywo2h6WhGeXtV8k19MaV5qlnv+nk/6dCSsyvL2Iu/fV7ZC7gbP5FHq8XZZsfXSiP5cb4\n",
              "6Ql2/1H3IydQhz2w8LuXzKb38DbBSKZR9xKFdVVB+JsvpMJdSO7c30vDQGBTvEi3M0beEwDYaWka\n",
              "Z++EB5l4g95r71baw1Ll33Xwdd4yny93beTutSiwyJmSqRqFV+k8KUR2uBKY43pUTcKtiUfM0Y+X\n",
              "Jk3gPBxqP+2YwVpb2MCkVx/DkWoEvg5uDEH6JpeTfTVK9itSdDj/l2PlDjlJXmrgkr7QYEVXgJSa\n",
              "zbzcKeNHGQK7GImrJwxZ/REkhaSBAAABIAGe6XRCvwB2t3ROvEzbq/hhpm+ADtDSW+uNMXE6a94X\n",
              "vqCg1ajYMbsXXnImn1/PUGFHsXA1cwVDqWzuJFzEEOU+OF7y13P3lhrpCu5nHVRERBqgQSZvcEyB\n",
              "LfvhcGc7mjj4Zbzvk7D46z01GAw3topqXujvCZ+QK1F3LBRXLE7SHCtbWG6beB0Rw4unJ23zNMv3\n",
              "EWwTGOZdlRaNSMMownljYgRzCoPQyIxnUSGfGcT1IU+Dpen5Ip1iJWfe/VNcigXv+DoDGVYF93cb\n",
              "Kt+HWlMQ/mbXoV9172ZfU/pGIdlu9l/vtc0TUx0qNOMFyEDsQMoWMlo7Fo7dWaGrlqT8kYsYl+6g\n",
              "R19KakVDFLm4nJ/dxsgPTXksNYOsCLsV0qA8PAAAAUkBnutqQr8AdtisGzdkg9QMAF6RdVrIf6U4\n",
              "EePvKlhdMDF8WMk+qgEAolcdScbblctIRJuk8aD1WvDqwotYQsbeUtl4EzqPlwUdhkS+4rXBMs8W\n",
              "n5YEU+tsrMP3t01gAUHHPsyYhIh90GSLiMgeVA3q5J44vHTy/RYPuy4E1TORrAqZEaU1fPsFlhKS\n",
              "2dWkKKO9/gkSl6LK1BgrVxSAaFaHomsXyHJ0gdocG5oOf0pYMzkLfmwHtM3AL86uBvSbBtN0t2/r\n",
              "zuPBKPSWvFttEXn5R0wphREh6cf6Y/uI373KFEuP7c7qLIDJcO5i5Z8YT1i1NJXRDy8Cvwon9gwN\n",
              "h1nLGviCCDOoI9Xz4olZaf7GdyjSrxvoNH1xPEVElbnTRl4eySPhgsiilWMERFftbf5DJv0KeZfO\n",
              "mxKuYnQOkVTpDt1fkHpALwBZQAAABDFBmvBJqEFsmUwId//+qZYAGyvjjoAEvS3kppAxcBZsHO3D\n",
              "+dZfF8s+a+3ZVa+9mWz1jmhNvZDKPXTJ//rZFy6JVgIHtIeJpDoOIHAPLKmGPnDmsaNOjHyOWB/T\n",
              "aHtC4p750k2arwHSTDSGm7AJymScEIx+n+Q+A2cxeRqwU2Bi845vkB2G3L5ht1wrqDdLc/qVd0HD\n",
              "Nar5c1EKVGi9zHVhYenJj9PSuyZlog2vsDr7sJFd+GkZtzROupMOoTEk31ZZnf6l82hJkCJK8U6K\n",
              "spUx/DLSrLkCkN7sEmWfaxRg+ckSv/4yN+wuIZ9UdHfrLJL5Y3xw3j47zXA3DPfdzctpB1G6XmF4\n",
              "bd8X2TuZasrFYkoj//69lb/yOcnoCLoAKEzOEfccc+D68wKb9nQ43kf88DfLW3hcy4kjTb8tlD61\n",
              "6GkZhSbqd3ctDMJ4dP0k70yp3RY/gPbyP0icfIntM4eJGAkOAUoyr6uQWACUs6FN6J++xOshHx2q\n",
              "KqiTn4u8kgQm+fOo29cxhkzlCd2yU08ilPlrda4HZ1CeISofvZ9U1ecTsI+CH+G6DIyQ/PEcGeD3\n",
              "+q2F2imb+5D2ch+tNOAL1RBfLnPw60cML4lgx7uEbpd0kq0vQGxFSNJEpiTrcxnr1xsZRRuxDWf1\n",
              "YCyC/7OygisTWaT1laJ919FSc63MzBmpv6BtxBAihXxxUPqzbOLRsNLDqEEHEs90vUw95m7xzY3T\n",
              "IfoIaIBuzqBhoVLy+3HYtJYLx930sXdSNeLKbuA4LaO4UIZM2EQQimdIPqNiQu3QLxwXqdizjZY1\n",
              "ekTOI3pr+oh6S2SQFuN74t+UognnKarAuEC7YDov4/K32wILXlYM5yT5BSZclmWfryp/c/duCX6/\n",
              "I2sNPJ7m0vUJGupiw2hdxrYEhPcYTqYwcwmWnnrgLErjsrkDfUQX9/5PsAHEYxwQbZFU9WEJHVI8\n",
              "yIa1JMjkpx/Ph6xKSb7qWoHHYM825orwBV7g4HJ4HQREhNfW9ZUGgu4wPOO4DGETlyJOmpTd0M/N\n",
              "2Il3vmyj2YwFgYmdN5l373VZZ+5Wd8RYChgA4IOu7F6V8kX2FP16+No3iufBZdqbwAIy7vC8NLWw\n",
              "Y6P1thSuWtgKW4XKHP7JmEnjrbH0d+Nq46GKSR4oIU2fKaNhJZNq3HkAN0ShuURjd6a8pdZAudYV\n",
              "rFsNuS2GxPtcmLeikYC9Spm0Nq0cdjQuNy+damI+8ZJqdqdqCM9XjDscqYjZyZDZVcgsFFgnBkJX\n",
              "zG9ZU9SXUaBX77PXfLRh4ld9vrRC95Z5GH7I/HbpOUcPd9PlDN3Sah271CqEBuN6q5ytzXlFWkc4\n",
              "KE57ILyLRVXL/2fgOZxv6nAcR3TKAq/+S3yUIF3K3hmeIxGGVTbmE3ETMHcxbq2W1n/c9vPKr0US\n",
              "QeY1xqIlyMfwwoEEXQAAAoNBnw5FFSwv/wBiIjjO/0d7LDyu+KNDpgBDthQxgCsGV83anw4jr1mn\n",
              "oDRtvARScMW/5rQfL2JHN2qcz7CYpeDu9uwaZALfdrc0LthxF+495OIAExJO92DcRsHSNUmlCwX4\n",
              "5gRe40dgXr4GMYBzDCAqbxWmPv7IQyHWlp6pDrq7HAtzbpf4Gpn3Uct1EetuSBqUhpNyWpxmB5yN\n",
              "6uEvH/wyzHGsSTZd0ILBY7YND+JlbSTH147SozNOiAlStWVsUo2kl89FOGL9O4pszNz8ZcLMLzmR\n",
              "YY7kkeoNN1xKB9OoIwytpNEHuRSi5N9Y291fzQEW3LXOxYCuX83YK24DQCYoBTu0ET5F8nW7HlT+\n",
              "xFYja2JOApqxZWzujFnTHcO/XhxpZJLfDCn6SRDmOzjAWBnPywwyYuajgZJZ0VyJ6v+RlMtMvJ7n\n",
              "AG0VA1M5HKv4HBKk93VdarSdraWcNAd4pBrUkd3I06auKgrAkMalWizq5nXIgGdNp9dsVBPXvGa9\n",
              "8UHcpFvF5R55R4k0XBp+4yqwqzzldNFXwszy/px4E1z6alqIT8zDgh3Gw4IE4uv8tIKvEA4f7WpW\n",
              "vxZ/6hsy5zj6EyAT5T5ly2dMurVqOG7u1mkejBOslc+K39b84SvUI7PLUkcroo7xJ6I0giMiOaYR\n",
              "z82mP6wd2enNDuGAIwO7pHbYohqJeccyO/y7jB8Zly5cBCmcM1Pbw3D18UBgWTEsyY/mOD1XmEjR\n",
              "/mVKpNNJwu/CllKVMZJVf1IpcHGTQOYOIYHKVUThJzCCzLMrLgRZ6XXYf6ncpzM97D2C35XevUCQ\n",
              "kfl7SAlHwUGiky0qkv1Rj7vTpw/TQqCbIPx54Gu1eBtxAAABlAGfLXRCvwB2t3ROvEyrqPmGwV3w\n",
              "AdoBfVgy/zuIfI57frsIQ2o47PYff7QP9D9eM5lJm21b+SzIYpjOAKgxBJhsWS9Qa85yax/MsVaK\n",
              "8cU5ileJd23m3FSkkYwFdwzmNnYM+2g2J/dCNufsvS2FCjuC34Zb+lSttc9Rfs0WoPTGG8XjxxxJ\n",
              "Vz4hfOfNwD7HJmqDRUbzhbXCyNcnjwZeYJbBC67LwR3ZHcQ8jWgN712oKdpUWUuxXp4UL7+E/b1V\n",
              "Ohs7QjljEe6SkW87Aq52xAwWdVlxpGLf31V9/GHaPaEWojlmbyhyFhyG77uxHtMXY7CZ7M/C0+3j\n",
              "7bmdpgWwV2zfv7Vg/f11ZxUUWn1C4ki+q24UApvLpbfLSjbpaAKuA4QaAHHffz7I0MEjcMXiH/xM\n",
              "PRmfxFgeTd1/DvIkwVgw7I3OPlrsU9U+U3/RePyyKrnykczx0g15tueQ/uTL4EMAN47htIcnTvtZ\n",
              "7uTFkV1j5QngoVcQnj1kFGHAUDynGV30DyqvGtd8/kC5LbK99VkDWMu7AAABgwGfL2pCvwB22Kwb\n",
              "N3UafidXkzfAB2hpLm/4M9hACM3he+oKAPDiDGo8iiliP7Zn5ymeDUBPBIf1xBcnx1ZmHExkTIJv\n",
              "HuFv0S9f9kI6q4CNw6fV+emFWITa+wRrsaR4PYYrhQXnOkhr8DYbn+AqOsyhtzPMs+fCB/AoJexL\n",
              "nmXg0RrOC0SbMoK7lWBRV+sXvYAE9ob2m0O/U7ylml99Myh32AqyYqEhUx6i+wxmHUTvv0RbKK7l\n",
              "4YTzPTc876BY8Ddo4T/Y4jTFFt1iRYGEN/YJqg+zH644taH7N62sPek9fqlyVevJMDYd2MJL9lud\n",
              "SoI1rZ3U48zv28z7zaxvZivEYNSj42e+2hQHHzUwaMH+NDIE2kYJCS6To7WAi7/ZFLUneMdd/wDa\n",
              "g7aNwtr/YWsro1OnbVs8tllehf6CvYKSdB1IBr9LcR4uNbhGcpxm/qAZb6u3hlIm4671unnQFCiY\n",
              "K6me556ocFK5agAflZj2l2kpFAs6JVCicyQLip/SsloMCAAABK9BmzRJqEFsmUwIb//+p4QANygn\n",
              "08yB93ACutD0f7m7zXiWOqzmWKp6VC9ydmAK+SkHcEKXj9YPIulctY3O1XsUNMEAWO5zA8JZN0Uu\n",
              "kX7tOXxUxURdaSEz3RjHOE9+hqF1KbpbBfR+itKPr1AU2Njit/uNiwDjk4mciBW6HTqzlf4wv3sd\n",
              "Mj3qHaaJOPy6m+COWutSQduufyDz3GpSw5wGp3K2VK9sJuJjHqOYRFwgrQ0/EXFCW7k4ZGwp4+0Z\n",
              "ysJQSGjxrd/hc2DGpvSKn1hKgbsv514F+IwhGGks5Qe4+OPzye7eGp9kCdj9bwY6fquPfJBqTWnH\n",
              "TaTXa0jOCq+vrFJNetfy7thj1hHLDTDf16u7qxta5DPyf3AmA7M1EEVUQ2xEOfyVMActh03eXNwf\n",
              "SDrfIT6yNeYaj+CNumy1I1nSX3zMi7fqsqK7l/mlnZaiPNA6xosOpyQwwu/Xeo4lW3/az27iaNl5\n",
              "XPjenplj/P6gTU8yxiUmvb3mFRZup/e3f1ETPUieaAt9cYIUx41kTZmrpZYxdutpK25UeEk1lhSF\n",
              "mKjQKXFdsL8MKFUdT+rhWwM/RZAhyS8M/cPoZmGWFTqJHjrXfcW1B0TKVY+LY9Pe6K86Gn0fWiw0\n",
              "lR1wpvZuL4hkQC9nAmHhTtxPQantHyTaAxjuLi+u90QXKRwm9swec/hWOj8iDX9faC6/DcMUGU6I\n",
              "2m/sx9ahevk53r5O9ybTGXnOXYmcHrbUOGrhwQ3/3HFzdiaMVY+VKTTHGBMcSrU+BT12VLlZClHm\n",
              "N+/3fWLHpXidgORFd602EZpAgt8NRm9Evuhv66hdR1SYYSY8yKNUxQI5h6suUrjpSohhSptUXpcx\n",
              "29vARkbKVjgq1t4kjKsyEjcnl9tlr5VoDUulNoAXPwWy782zkE1FAlk7EyntfWfRYkEhAfc/rR6b\n",
              "LD2s8mILf0JmwxwAnOBGu6cK0tMgTGIcQ/kcQoXulgm2Tcc2Fwz2kNm3xAJ8B+pgMOLtl6brRckF\n",
              "KWcc/dOM8DybSIdVqRL6zttQP6qHN+Ij4ncGB2fcbo9Gb+jQDUIKtnry7o54MXm63OzwcA07YZNm\n",
              "CgThFax8N6MT56u7QPXCz7wKGKnOHp5Svjthjqkeve1McczmKwgv3Y7SvuAkccQi38RTUGU2pk0N\n",
              "P/D7ewjn+4Jwk8nH+i6IaPMCGdW+W6q2uVPVuACnhPG6gSNgA3+fyjLQYUuGBLszKEvhGiXN0FhV\n",
              "YeHykYMlVh5unoSaTGbc2ot0KM16b1DAMQpeJGPjHRgApdQ9JmrqbhbQfaKsDIeY0dN0sYDiVFDA\n",
              "B9Fuj6RPWvm7SOj9ELEq7XN4lt3mdtP0CBmR8vgQkyM6eMDRL1D5zwKzhUye0+DnUxhYmb3MPKEa\n",
              "YkxG9obqRGhQV1AGgdNr0s68+YSm3g4JPuVzeGJb5phUxlpHk+DPN5Fdh4KkVrOFi2nUCwnANIEt\n",
              "DPTRPv1M1x/ywdRx10bvPXjrQaQZleeWwd0r4wCieIAj3kao4kSYDtITfbbgfgbpwzvf5Zt25mCm\n",
              "Fowcd6gE/0x2Mqwrz/EmoT6W4PZUPbQ6zGSF09Y7SsQHJGCLIgDjgAAAAq5Bn1JFFSwv/wBiIjjO\n",
              "/0dQSpmhsGQAOtwokJQWkMrveTaFTB+SEFtjxHoAZIu45FTR8Nho5/WVNe2BHMVx5xvf+WipuVVg\n",
              "JSzGGXKCTDBO17S2MMh3PA9+k3EW78iAofGeSA52IEWHoOb9KbLsim8FFGsFrrqjrGj72tyMfltz\n",
              "5MKOjUeGLHGL62w92b0szd2HHUV/wRI86cJOaNvwhu7hh3ZcRWHA5Fdy5H3pHIiXuWsfg+ymTYMN\n",
              "sRdN3J3MifjBAzW0Dms62gKlqQLa+xdjzNRZwSConzHij3TsYhgH6V1PSLIDwFuVm3WIQZzJrFu5\n",
              "kPoJIJeY0/cEBh8XiEhr5M2TAZy83QvJAbpIbjIv04WRlrjUt/5jSLf9cpagEyDQANm8tvB9eOVU\n",
              "CJzuBN2E01h0QYWytp23bNaVfaiRyi1gypTMFN4gNXsdg3tW580tbmXilh23wnfjjBMSM2hheylX\n",
              "4IV5w2T1OhXsW/gPFo5+p7SLpHeMp9hc9Yk8fcboMKmA/om1k29UvuiYwMd8V2qiJaIWWL4/I1kB\n",
              "z9CgHdGLheoh7dNIKbeYLKj4apptS8DFbIWH94WMyqu4fKGN0Ve1SX1mJ77Y3zihPcVk5RsUjglh\n",
              "6Won+yyKwXmJ1UDfbY9J3e6DNewYOpSYYn2FLlbosyQPlRo4dni2uyGXc/beHVtIZMlzcPtKq49R\n",
              "7NCqW2B/4ixIxf5y+dBO+pudSMJjIJq4AQ2fCVWSX+VS4X8ijQJkbw6ns1IV5KubLuX/yAGb+8pH\n",
              "kRq2jbyee8oWSrr8Dy8j2hhQABX8ykuQy5nhUV9Sn0hFSxGWTzGHWdFWlQS3d7e6Jpn/NwRSRA+K\n",
              "XupxoyvWfbMxcgUz7BwbVVyGmZT4JXmvuEbBzVmloQJapc26YqyJSxX0G10CRwAAAecBn3F0Qr8A\n",
              "drgGl6wuh8evQAcrhMlg+wVONPrRAP2UbPg/XxkW+dlw6yu/kxKIPlPsNIPKDQJZUH2y1mfwo1Hj\n",
              "UBVSop5AfLJRa9nTgChLYs/v14DNRaFOenD2U+VPxUy0chqDSFALadCurUyYlPIVw8D5/GunvgVL\n",
              "SA0AkKzEB/Lv+MVh+U9uQ2tF0vYU7oTpNsn87w8kKMjOVEn+D917sScVBKI7bKqwujq6/2hWzzJh\n",
              "O2gtDWa4+2/h1LaGOFJkKNC4qTjDifnhdVDEz0oW6zDoBvta2vSCQwTss4uiSTycLKEsNK1bpzfu\n",
              "/2VhLvS8yLWUiKQLdVuxlGQTK4TSgXv189avcESGl0rQgnkBVZUhRXcZBarca9/HW8HB83j4Qawa\n",
              "6j1+HXgA2XpA9G15M5nLOrsXsaTOlwtJ02DbKdKuOTluxt9MVDP/+yd3mKn2+IfmVMDuEedT87HE\n",
              "9NvKdCsM3QeuEkM32JMuZUhuqqemQ7v/79QjJ0Dc8dsclb3J3LcHZ1LwxmJm1u/X7e11tU9rEQYl\n",
              "WT+f23jhz1XMgwYfypt2r2UGQqseQNh/umIMVWasv4yIY6wD7gs+OyoSwzgjyJQETuvP7tfd9Q7P\n",
              "7HJW7QQuIn7vXqK+MT1Uvhcwk1UjpDFgAAAB2wGfc2pCvwB22YOBr3vTUpMNgrugA5v8s4fzJ0Tk\n",
              "jdtM7r9TDOJm83TTrkWUlDG/DhoZ65ctEGPZ2DO2ikESr42H0rddWwGKU9NMw2npfcJKG2iYf6Da\n",
              "qaf1aBL404nAUB5SHYuXw3t1vA1C94unCsTlJwIPLGmfvsr1CXh3VcvTTV2n9ExqAHUYSfVan25V\n",
              "6v5dbLPWYN5h3ErSjAuJ5NEQhi0G+XqS+LRjfPiOufp4VMMxDY5nAfeaOfJj5oEPr0xbcdcs46c1\n",
              "GsD+41Rj5EHDS4bLTKH4XJFLxB1P5dWfiPO1GBPdcje3UtglOqDfvxDCWQSvF5Y1gbaosHVYbM+2\n",
              "YRHQiYuLXdb2KzhV80vIKXn4ZRhTjRxeVTBQuDvy1vHFYuJntUW6EFtht+4M4HCkvXb4mWBTymEI\n",
              "Vkqa8Q/27G+9O5XhpFNIqw5LGfa0V3/wsQ/a7gO/+HCTG3BgyeSzVvOw0iHDs7zvP4U1Ml6wRWe+\n",
              "uRmTAqvjnrBu4kDVdRC5+qA7RNT4QZmmEWHLblnygXdzptI7I4gTiAB4Hzjcnr2QUILJmV+NXiqr\n",
              "YK/C/gN23/ykEPrmWoTb5Csiv3LKn3pc75Kbla87684H0tMzhHSqryuNhzkLBA4AAAYNQZt4SahB\n",
              "bJlMCG///qeEADcoKJrqFXk+KABcoLNd8lVv0EQEmapA3j7k/zVh1c1IUuPWRVLR9Oiu+7x+7hEj\n",
              "YU4XNgkvPYOEt9RB2fgjSCsSANxWLbZYCpkY17SsKA5vYDhCEyhwSoba97TE3BisAwwg8Re0hTQA\n",
              "fwjxkI4iHtmblPXwtEFUWX37jJG/zQ1lkX/hhXcjeVHolMkMb/uBKqDxMZlrfNKBEPqv/p/f1KS6\n",
              "ubK2DPKaqitYpj1+vjkSnf16Bom/BV/tz4IFx2knUOHk4fcli6eT/pj1NbA5DCCX6GWwqvgtd1Xd\n",
              "2I2xXMvST6VyQcvNd6jIhK7uun9IGHYsyHLvp31stZzIUx8VfvpQBhqIzyAv7r7JKiboyMhOv2Id\n",
              "pGKi+l4bYon+GbyMDIQw/vHS6Ggw4BRKfNocfChRuuTqFIQnGiJ2xPfCuB+ENB7jtR/Osx+DR8vs\n",
              "wOjZjs8oxC50teFTRGB2QXTUfvxjl0Udn9NoPS/moUNp9ngzX95Nb1yREUAptM/XWQ1nF30+e3wi\n",
              "IhA8kKDLTC7yERDPTiNWRkeSvpq3i6qGYt8Bnq63YD3+5KPtnwgUxyQttmYH6TZSaxFiGuAqcDBF\n",
              "dWT/n6u/tCh2THRIKj12qMt+SIpPdhcbszC101cPu7sIgrs6V5atxfyodYkvsvpH2i03Ny+fNMaj\n",
              "0S554E2tOD8+rdmUC68xPgkLd9k4N5wF+IOxnqdivG6eh2Mn+/ywISoCjvCjX9N4f6ZiQlPYs47d\n",
              "cUmYBw9UkCEicCeUbkUOAa6JyOPXmliAYHXcW9N7uXjhWsQrJgbpC+KxiQJ7vHDfTND5Az6wZraR\n",
              "eK1w/h94W6foLm92daSvouohAkx4H34XWxp4liH1IikiTZERgXuPNHEVKz1J5fPLI/dH1AeQ+W+3\n",
              "um9enyzD4bqW3kyREnY9pakx5ix5z140oGeTMNjtWVh8ibEA/+X6ujCpT4lgiy5S+DotB7SvcPej\n",
              "dF1N8LzOxonprbMWsdssY50kZaY7LINI0Ob9ANhOb3OBP+wvrXb6cl5FwfN40yKiTg0VPjvI1p5Q\n",
              "P6qVnRPFDjCjyAVvP0ZulxvwlWKCET5qBCE3HitST7SRvfSRv/9291gSZDG61uF0cyXMajcH17XT\n",
              "XikoMhGzEb71TTkEnd/bhhNvYkS0MBBPVByFq4xdGjOEsiR2hvTM8TVCgmS0H5X2J7oSHwcVNrRN\n",
              "iI1A7ZnFQMRbr7m9DbuG7d8G7a5U+A7T5OJD1S1+jWXClelZTa2wnjk9duc62z+/1xF5MdKaxVW3\n",
              "LGVURvokDemOWXZAqVYYsrywIkL85AHAG34gWDSqDIzQ8vYGFr7Ktl/hU5Ze+xlnG9DG3W/icdZy\n",
              "hZtpsoxlwG4HKE7VC3kX3Z0uuxp3WhR4hLRMMfxAROmZ3FT/SbFKTRXGeJx2REU1Ll8y2hKsrKhA\n",
              "4rxHOuWEZ7TpaSxCuwgFwycRgs4HCXZQ+3K941/f2GwjB98sjomOROWY5VzszD/YTIj0vuI36HV9\n",
              "YbZB9hDQKrXGIVZo8iztU6v/qYldPqytqYmf/tvHQBrTs2ML4CkKFcKSG6n0WlIrj59vQ5w4NN59\n",
              "DyXf+izMO7CtZD6D2RWcm2x2XZs09BWJ58iHe+nP7FPCGmNQl0oOs8U1ySE2tZI4xmKDWvQdJ0VB\n",
              "tUC0TaEL3Pr90X762GYPK7dZT9aGo8I9novnNi2TYglBH7diWUVmcnY7Dbza3d62aR525vKoba0h\n",
              "PwRhSds3wX5OMDVyplN4b9EtR8ePzyRrO2CB9V+gmW5+OWCUjQgDhHBuF5nrb6myYOIPHll5GdUL\n",
              "lsCGWpRWyIcLXHqn1ynoiuos8TE1APceRg+Deo3//xSiLl0TomNjxJPGS44ca8wQcnQzzY6S27hD\n",
              "AbKgXRpBBDAW7r30jFNHOfqaniQHeG4J0bSvBKhBMXxr0gEGUP0ToIfWfUAZegL7l3cQezHHSZh3\n",
              "ViHdwAHrfg2SKjnXbfSqSpQQaEXgSICHQCjGm4as3BISPgDRPZplmHqbm3uZiOk7ykNboDJ9Qy/Q\n",
              "WI6gWQAAA3dBn5ZFFSwv/wBiIjjO/0dbXXDZl4bOoTAA6t5IzNEr8wgnDxFPyxLrejSm6kPggXg5\n",
              "Jhp3R+LbIfungaomuOZkKcHacmpUS5ZhzPGzB5ECqVNM2ONDKp+edHLF1tOIW9H9AVwyMOdDheOs\n",
              "RdBN3gefQ9dIhenoqBrOZyXA9RflPyzZT2FczNvfW5kogFEtqOCp0SnxqhmpBr8dy2XLSfMffYvm\n",
              "3uUWKAQGxFzKf0yT4Muvj8kN637Suvu55o45gdAYvNkMdNEXcKxi77L5CyO1hO15FN7aBqgKmvIR\n",
              "kE8EBo1K9GiIeXkUKZc2uwW2uE3xUZLRffgnQLgSLTtibXRIi3S5z+vH53XCmFEzj/q/mjzEml5n\n",
              "NfI5JMb/cdk9rwnbbXLhE3RtCbQNDb8RTK2pJm6Q6O8uk08ixA0+xJIkenHQtm9jJ/8q0WiV7cIY\n",
              "s9cf8HL2Fw0+e9ijw1ldAQ815tEdqmghYnfBaEqN5Siy9Llh9EZ1/3ihX9rG4Cm9c8Yb0OOPBoHB\n",
              "n0NBZ7jiSsZeRSnrvcNm9aPPHhQrPd2mkwa1vLOr6Xr+5wJ++xaw/6JAElPj1F4egO7UXuLcTGC6\n",
              "GyeT07+xl+9xxmaV/RFaBNa6HntCINamRhMoySzyJj1QIbpRGfZH0mm+HL09411Tx2mCFseluqZx\n",
              "Skxsekei1Umwh30EHrgrXAkzy4Zc1ity+xX2vopLPL/n8CWa2FvbK+/KwUvs7pGfSsFbguzycDXN\n",
              "09PN43QaAGneHqE2JvQQetGXh4cH8sGpM0Of+pXV5cNUmA8HQDZAmRuhO1SSWumldTB3x7pfFEqx\n",
              "jYSD1wMNngmkDeZF/09xHw3NABHB5GPnrCd1n+jO9JCF7jv84QFocTVW+K00EoPNSH6roCj7++Fg\n",
              "tqkioG4NvGMJFVva3bdNEIXVRyObWpUpJLjbHb0Si9jMdylD0FeelYr7RgmcZdGSnISELBxulMRu\n",
              "9yGGgtjHjFw//AaPjuXAD9xRFB0UQskm9MJxUaimXm7vEh7O60FL6pUczRCHOGOqhfQe9UrkUfuJ\n",
              "UW4Al8nv9XtrlvLmYXJ5g0fW4egOaQdPyzk2CUy3Y04p2zn3Km2Vzfk7qkXlp0VjcKOhh3QaocU0\n",
              "AnZcleOvpzmu29+Mg7qnAn6+fcZ6gYN2OHUqnCjD/dl3ZfvPigB6QAAAAj4Bn7V0Qr8Adrd0Swmp\n",
              "NU5fgbSvcAHOGkt9m1jeIN/sOF6XlIBHPhQ1HkUy64/tmffaZ39wE8Ah/UJAPvMm1Wgnl9bOnSoF\n",
              "jmKKeusUuUDdGb0Lz1NQxl/gz/wmfAU7v3VD5DB/uxwlAeD4Wi/gT/zOO+wlRamlx7/NE/NDVPLa\n",
              "MgZwBdHXXydPp5y96moDAnYvL/o4g8HSY9eIHThpREqFKTzD+CHOW+/ZLQYG9S8RXPr2LDJ6lNxe\n",
              "O5zsu7vjECJkDn1DrLI/eh0F9nSCqBAqWPrTcKqsPfVFoUiaCPttqUjoSBp83WFe5UVz2RsvOo+5\n",
              "eWbkmYz3CaW3xNEl7z3E1CJMdUIw54kJbgj67sYsYFrx8Diq0u6+xV1Wjd+4PRD53miEuwo2An2L\n",
              "gwYogJwVCj6YO0Qr0fZndeUD0PlLn4A/SvUmvZii+/WEc9FS/VfqJ+XvKOoJHczaREXGfPpp0ecw\n",
              "ejhrUzrG0AhB3kws/2YXkcxR5PZjFRMe3je9IDb/GkDtR50V7gh2/y8rtcHoMOLT9Nh6lR+wMIcW\n",
              "PEE6V75cIry0u/tSAIj0ulea69d79I22LJmISAizApmbnktg34hHpF//M1sMUQJk0NearPuldrAX\n",
              "F4VR2IL0I1OCHHyZfSVES2WctxW/5qaPh8zBxbJGX5AeYWpAnOc+eO44Wzt9TTyGHxLlF7ZAhBTO\n",
              "2RunOcr+Tr2mvewXtS/uj/aJhDutnOVbxb8FN2CTvvEyw3n+wifVWI5eBCh8gIHpAAACngGft2pC\n",
              "vwB22KwYNtUZQNxkATAwAXpF4ccbKceGFiTobjaMNz8W8N9ezi40KSREXUngW0l3gMZsexS8GN4S\n",
              "AFyLn3F4LG9CHYhGSJ7DBzWYSkuXdM1QML0Ss573+HORS8vMSnL3ACdaX6d2vuqx3QbFJbeN3g6y\n",
              "rGK06BSZzjTf0IjFQdaBstqeuxH/vXNj+1S05cwmYx447jKNZff0UZvz+E8n4jRUyR1jCLJB/cn4\n",
              "Kbbk9PiiARPEZOwulVUaCl8SaSc0KOLnw+aP9fXvS/JlHJynIdgjYv1bErJD38oWCnw9PDg6O87o\n",
              "354woILB0i8ObwE6j6kLNPn/nCE0d/UuvDUWSjdjXxCjqGpa08RMOJY1+BEuPVBKpyBTqhGcu0up\n",
              "RN79zFVr3QN4arfpif64li4JK9smc2HnjkPyxyrCrsYB+3JS3DpaHSlSaBNqFv02Hq8Y7/9MYRp5\n",
              "oEoh/ZFMr0xN3hT4V5VnYrVCZ+tzGz9zv1LdfbU077BIMg0wKEvHyOSng/T6dCeiTb0lJf6yVyM1\n",
              "EWwHd7ZEzGjMekHXb7gGbCFfY2Dz/mP0RpB2rVcT5emeCRkmV9bSU1jT8i87W0H8D/t6dOFmv6mM\n",
              "tGkcSoIdqK0OGT+yBrgJ617V/N/PVfzUaJAInqCb0cV+4K3XVEUdtbukKrvJL82yQOPiG62VRK7O\n",
              "n2SEWYppYLbgWw6GGESl0u4iqYtTyzrdVDRo7cc0FT1fHrNmU8LWYivJ2jCGvIPVULuQ+Qq6sH7a\n",
              "V343iWzZJmvo18JlKigBEwUESiOxHc06kqBzC5aezsxgYwjRVb/7Ji53h5Tfhi5lBNWYk7CGy2HN\n",
              "XMVGsWoR+pWk4VrYkLcNmPHOmb1bOzk6wwInpZhpuh7U8M44HpEAAAVDQZu8SahBbJlMCGf//p4Q\n",
              "Ai3xYtZAYVDLOuEgADN6p+lfT25nVkkR7F/KWpTD5rrwiDTdS6Syzqdyd61Usxzurvub+z9lPjey\n",
              "to9xUWxpDttqBCH6Q4Dndi+uwEzhXnsxMc+/rNmVZFj2HkE2nd0ZFmJ1trvL2wrFXpWdf5zQl5/3\n",
              "hLjKpNDWheP7T1qC4ZdP5qDIwq/EiYDrLyQgfo86S31FEmO0rv1gkebXPlZiS1dAF63yToFCxnNb\n",
              "PDomSnydub0v0Tf0DNGDCDQq17OwLD3KvXVx1ssucEruBhN7meyuDzmyTAl3EJWDJLPGnAdiWNYc\n",
              "pE0+NaANdorWQ45NYP0SjyCKP/2yiTbWTn8Jvq957DwsJhNvtvvrFJP169TerVKCOC0yuUx/GgwC\n",
              "ak/Ppx7gptVfbo2ov/stPQVEMFHDwPM3ZRVsxgSqSxmATT7WtYlE7et/O/xLJeZuo/uMR9aHiHzf\n",
              "gXw+SSaWb+0SN1hd0xdV/qqJqO47nSa8nnlioVX3vS5C/Mn/xWukQ5qaZyYVOgiFxoa0T3LS0q1v\n",
              "reLp20WYug3kNVvC0mgdgJSgldgZSZYBQD03NCEVNfSwirZE91R2EDc803mIDuMNEDlVYqURnARU\n",
              "SZwhuzYj7BBbrfC1kLoj/NCVL90ZvxSDufDsekGWDFRe5M616FQZb0NEkrC9LUA7kalKrmd4GEtT\n",
              "pP9Q+yWz2DYYuheblqtfth2dYKW6u43bG5uQogLaFLxgoPY7z2HKZlcRXGcoRHn4AXjW20L08GTH\n",
              "eeIyttB5kLLZTGh+j7XBb6ek5s/2EahmSrYcUrpZBSjT5fJ+O8KT19HnNVdg29BiLvNd9uHgjiMh\n",
              "TPdvmmntocTz74+4Nz1WrsCD/UyCj6Z+WMorVwyK5/qi2GEVz/mR4qEZY/sGjxcg2QKGrYU06egn\n",
              "h0PhOp2a7B0BFyltu9Y+11oijULDgd7He1tnVGqdbqlfMsOHOh+beBxV02FoHu0Bzk5Pt3hIiyau\n",
              "V+xKn6g7Q01RpvnAxBf91aECiZs+JA9xjkTfwBdcG8S1usEKms2uBJ4v6bpoutZeAyrUebdb0z1z\n",
              "JZa8rqLA0Ze3Ywu9kACDBXZ6+VtYwYgZvCx/OXVhK2cbZz5BpAp19ms+2hmV6UuaVcOZCIwKREoV\n",
              "NpRNlv0rE/vAuXWUi/mVKT1zHViZJyDheiHX66B/HFdDEORMTMKpCL3U8PmRrhjn9/lH/FlAA81J\n",
              "7L7rqWfcz9KtHNESVtCMaf6gnFIvOejlhUM8a8jUhvXWGNQhLtqn0RW8RK7Xtn9OsxID1JDOrbZD\n",
              "DGySQB0f6h+iGTJ1ZaRO3SQZa8RQwlUSIPr9MbgClQzjHxOKVLhNVoY5mlEeAhddXh2j88QF1WMh\n",
              "akFqkKgr/R4KXqGVDu0Oam5hLmNeVpAEYa62TMtzWPGoFypmUkQ3PaLtHRvDlujXh+33qLKvsb42\n",
              "XyVOknTAdgdEyXp2YlcMxcL0LqKfsZf3FeokPDrc03DvJHZPmHbFbH6XZNaeiISlVvNAykuZhprC\n",
              "XkI09yD3EiH6cWk5MZoj5Ro3wamwSdO49afS0eEoxZWfY8o3l3uLgFnvaWw/ww4d1tClf2TaN5of\n",
              "8YU1oC40lMHpPkhPSMSk9m09eWuoLJXLBxHWxCJUfsDZjzak4A0gi4v8uVfxtuFvWnE1NqCJJ0aV\n",
              "dOAaCpmb8ZB3Qw3uU3LQXZXRbUZc0A5J6bGZvZsvtFnGmcdFkki0VafT2b3lubvU39O3z+R3UWBb\n",
              "9RlqztVqyAyc2xhq0YOIBP+M/Uf8AAADcUGf2kUVLC//AGIiOM7/R8HqImT+emQBHLwAENw72MHC\n",
              "glTD+kNWdqjzwejbOl3cam7/tFgwzMLVihPcmrDtfC7eUTQ9cvfq7VRBlHiXIFA0dDN6sguYZPsv\n",
              "/txLf7ga5x49ezT2DAV4N/28vRhHQ4QY/xMQ0FpcFBKJrMPLqFJ2ME5JUSo528gKvWhhtAPNT1xi\n",
              "UsCHJBKBmjSl8FjjhG5/MImoydElQcD6k3Pk1brCaVw+F8vsF8ikXsw5x7H21y1GkYweguA+e8te\n",
              "a47J/09bDy1+bwDyERgA8DabRbr0dH7N7mcF6ofLlD4bVqffKhAo5bnwuHpm8BMUa/YOvfrCLRlg\n",
              "AYCzU1SLSVa1ZDIugE7Bs124gWxdfza6ap/4Fpn+eXkS/trsRa9zD5QArudxOuHtC6wvFyBUYw97\n",
              "52/34LRcaEJEOBXMfH3MCtLlohWIe2A6aGLvD8LlJ68OMhtjI7ENFgcn2XtY238qQ8qLBp5Kt1Bo\n",
              "bkcS4uuZCNr4YuQ0dDlsxJ5G4ko8QMCob0reCelLaEMaHn6xb+UptiGe8DElnpYES8w66vDhQidF\n",
              "Le67UJqyeKkeOMA2CwoaJSWZPK5ICjUo5361oUAxF5S14p9o2WNM/4ANTsMjFZrm1yuvZYsN6pKG\n",
              "47priKrVGK8Eeaol30LLxaciHim87gauYWB7HSY89KGghEQdsvOeItXxysBknp47wpip23vJfoKb\n",
              "WlloOVQe2rekuF7Yyx3nFUB+QhhDF9vwPVfDxsOI0IWXky4HtpWmM391rDMhVn7hZFMQQL1Tg4u+\n",
              "3soSUKxWRAlmRE9cagzNBuA93EEkoBgheYq52rLyMlQ+MFDenV/qcOzuiQtlASnhz7h2mLcyeogC\n",
              "Yuh9kPBj5iYxf+NiCQrPfDiOkGMSKLAOcZHmHEIZQQ7yYhOwWltlJDjyi7Mxqwm/y5oB6fLHAt4g\n",
              "3CfojLAmMjFN5MNmFl3XMovvp9AY1/nvQ42buKTaVaeTEpk4+h3rl0T3VDVHf57TebFBmSpZAqjn\n",
              "Q7G33MEZRs4kEdOzhpaJRnpimf+FvjWexPWeZ7WW72Kz2Ctz1wYph7B7f0BRxYKYQQXnAaZVMFyj\n",
              "N/BSGDYmzb/55/8pNCYCkvWLnJULSZAYWwyUWdBuJF/NNojErFBzgGVdWXI54DAaxaPhAAACXwGf\n",
              "+XRCvwB2t9YAb/ip2TpnrqUgA5vmmPEQ7QSQ2Wn1Tdt849ljsSUG1Nz9EzRBPchGLUIE0SD6NXjm\n",
              "zyHqKYC6TYPWAKBt/UeocvqN7FHZQgHw4W0K8f8q2f9qLkAicLF0cx5ZDp5elras05+GQIIagObk\n",
              "0LHFRG0Ev4SbRw2UixNqBax2NlEjUiwfPp0zj+U6OLYwzPbHMNhSzet/MxCL7E5EqD50vi7cmNSx\n",
              "2drspn8oW+gTOpCI0PcUyEC8iMvpW83VK/N8oDc+HS34rUSP29BO6bi1w8xwnBjZo3fgA0zUSL9E\n",
              "F+6h0VlA9xjDfJDbMPirzlL4aizjLyHxHLbrBK4m0rTuOHQcHaG11jlKlE5ddcwBoTuUt6m17+/t\n",
              "0kIllPoA2SM+9WQzPRtAOPqkcQpJPedkcaVpdJz1AiheLt+0ET9i+j2lKh87MiOV8KREPElOupOW\n",
              "JCITR681zz7MOlSGQ1lo4OOugUrPihK3MD21/OKX9AeY+Rd5MJuOHb7LJjtoakEtu7evvY1+A6gp\n",
              "cBh3OR3sq5FjDqkATvok5C10JdEQJ7+N4xLR08Hw3aPyD7KYcXW8FMeuf7lJ+tPtCTzH4IudQiv5\n",
              "U4wUwh24eCffVko5W5SzXvG1ty6D3WkmfXVLcU+eFsV9WTWSjII64X0T4xrsafZmrc0eDsyG1Nw+\n",
              "pkkKu+2b4ex6m8IOsoxP9ZEVKKWYLLjmEVPTfDUrwD/62SShfcwYXrUo/Sq6i/zMu0+b4sWCkjcL\n",
              "4ngrcN5aw7pjcjxdrjmMVy6KIX6dJX/r0fpnrXNBseBATcAAAAKkAZ/7akK/AHbZeVFUIC6r9b6M\n",
              "H+gA5w0m8L3OxKdsKoC+UXEH17gbpqStLu3kfdxZ1oQv3V5BIJ7gc19KFL80O+GMV7CgKk6iQ4Uj\n",
              "e3oAS6A4z8iIQc/1YbTgb9C3uoq3fwOKbT+3IN34HT5tqMwe6gdQoj6fibELygST5y7+20HP/MZP\n",
              "X1MbxCi5AID09qw6f75eriSUUq24fI92s8yBcheLtu2zPtHIYVWEP5s18+8hipiUXc08IZhtqrJ8\n",
              "YL5/jDM+vJn9c7WOOi1gaThnveaWdLsOtu2InpY2Yh0j783I+eY2h9+7uGBnsIVmw5P2HNmM5xyL\n",
              "E+VA2nCHmdmxCZAVHKlqePbOC2qYUvIehrQ7nyGPXw5XDdikdY8i8kmMgmJ96mHUii8O3OqjIOUg\n",
              "1jvQ3yqQo3qVivDqCmRV8ebFjhltlApQX9kjapiuhYKS9MGY/kOCKA/Df7JIlfIWv6n9nKC+/eW5\n",
              "Ycn4LdqB3oH4/HiZ+XcuuT3NzzmGHn6QuBnd3knO1MNkbK5kUOXve+SVujuoLZZsF0uyNJAYlYXD\n",
              "ZbCdOVgzYbZ793j4EOxJkX67g2+6dTznfCBjiLK97kdPL/5wxpRZTZByeQ2rQ1Rfyipb2Ks7TMog\n",
              "+ZI6KUIBwjuEzO+8EQyksgxT+rkPlD8KsXW1V6M6j1vo0zdLkcXnXqvHaGeR9GFz4zG4Vowu2EIK\n",
              "fL+sbZiCXhrkM51RTM2A7QE7jE9Q5pU/QWEjtWQwVYK7wxK7mOE22eb1Ul0uoE2a8d+2lCh9GONl\n",
              "VFsrd2cacrRKQS7Dp//b+Jpi4Rjcie6OxuBombtliAS/l73zvbnDV5SZ4KYVe8Eh9NJiwWJiEaTu\n",
              "bO4uBgTsCUlt3gF+ec9QAM5f3mprafVD5KVQA2oMKQAABRtBm/5JqEFsmUwUTCv//jhAA0zVx8iD\n",
              "yABdbruwlGgX7CqHe/BvOHfhz638nPmsDmV2oknbi19g65uP0q22OvBwv5Cz6NqqkT+VUWlMz6vw\n",
              "joapk4PwFeV8zFA+4wQodnp4cml2V+dxFGSDWMpKQO+Ll2zJfXilG1b8GdEPIPq/xjgoNNrdGaNB\n",
              "BVUs3FwQOYZki528OzNmI0bsjIprgJcnqBUSaLDOtTN2xtb02wSKw5YS+7FwHmPSFknPBtbsfuhI\n",
              "OlUw6s4mVDxEhhRLQISPBYoSqM8lFnmYxGrgw5n/B4KNewCRG7h6TKOOR7i5Mvs0udebTHgrWOUk\n",
              "lIa45bZErMLqkPQ3aThjwmWn42VfRBTF82ntLcc1gODySnGFRnP+jdVDQXRyT05qjte/d5qvO7Lf\n",
              "00IiGcTKxKl2L6iz+0jDAnfpPJaBfW5ARIYLDGJP16+HBPxP7buJy6oSZ43p3W8CLM9N8UFN4XdI\n",
              "SrTMZJ2vWTxRFyP691fQKzgqS+2/P+sJmCfzJatdx+DlMhFmEsQFOWG5GF6ToGp69e0ZxbsYbU8C\n",
              "iUu+h46jg0U6k8dp0UjkNw9+idrFGZ0tjlDh1YoMTZinzFRF/Lv3s/g+W/R883ct9+I2xIXlQbuS\n",
              "2QizQ+sGKNyjNpdHxYxeMeTr7pkcqwxXVhqr6CabWfggUXPai/lHau2uWAmwvVFB0FXVeEtKPQBT\n",
              "55RomFpBq6dMAo+pgIoBNAmmS7uaHISxxxtzpPFWKrYdSwwnDqyTcuzXk/4FPNjDH7y+j+N+DWVQ\n",
              "OLfSfHUX6yKoH0KMv+D3I0AYl3RP8CIkvis65ZMqnEe28oVRTNGPWIScuTwShIZJDMxtDZ8mlEQK\n",
              "Jj6MzskpugvvX3lPlu13PAio+hINgBWCQOpK+AOllXGubFfu3740QIrOHQNZLIgWAuZaXsmFqhSc\n",
              "YQTPE3AaDZtML2V7DC7f1wfPX8gRsY4j1ceO/TL6tvdo9aQLzAhWVqbjNh00wCUAmUWqDFKg6BGh\n",
              "CzrdfbCW7tSWhuee7bqv9Qw1N1wVMBNuwo/hEDjjHv3M8cT7SqNHADC5h9V0lyndCf8e7aGnZIVG\n",
              "vHsPpOSieJUOM8XZt3KwJQMjKwBt9MOmpAMXB1sDbYywzeTrqH0NJ1+pBUresgcuTi2xUuUHpPY7\n",
              "zyWc8OsUKVyH+6xupXdCNd3kakO1So3KCxWF3KzMGwdKo2Jh5WoSUAtOTLYHg1JFHq1bXOvf5RcH\n",
              "SDwIFRZqIFqMk9xqal2hjL8ubMdRGzfi2DcIr74RQAVKtymZPnUqnrGbIux3n/bRNFJ+eORrOEGy\n",
              "hf1/WuJv3DZKOKVLzc5b8zD6QOYlrwEbNCUYZbyPYdLW83xXZe/V/OjNAKUS3DMpINtx/62HRWwD\n",
              "ZrWHVU0kNmsTRlga2WNYgptqhqrFaNgowLHiv1WOG+8hYJ4zNbL/WTq1/6WABUE2ixnQ5/DfVUbS\n",
              "+o/QCqT91eArTLR1rPfYbVAUgqyAs23eB0SQ33veI9W2VTDmrsIRUm1E1gmjyG0yCQBSjwSFUmSq\n",
              "hPXoE6GbcyDCF60slMsB2viW4MPLslUNv+l5RmSWFiStNUudNElTCZVFFYM/U+uhvH9M2Pz24BGr\n",
              "T2Z4N6dAPtyYL1R8RaisSxje6m+XaUtC5SIyrlL3p5PkrvqBLr9fJ6MxGkIWE1AKBarBrgrAqIKP\n",
              "28hDA4uUcDFJ5TUQ/QnP+4ojet0NHHl+hB2Kp/DPcQAAAt8Bnh1qQr8AduvFpbabGeUgYBQjQAXp\n",
              "F1WOLHX4StrrxB/WIu9eJe/RMOhc1pZXCYThseRa0Rh4z8TPkRAEMjvSrIYuj7ceTX132+HEIWhW\n",
              "eLpnBYf18ERcl338BMJgMvRUrlQUVtM2rmGXJ5SGX+9cDVtmybEW3lj+EJ4d3QYgL9LjQnlGHZYX\n",
              "DtUp70rf1+q2ryn33/jH6bRhEeCrz1qFmNOmFsyFHXBxqUHoskO584bVTKCrgtqJgize5ske65PE\n",
              "5I6kYzpUhnZuSIhTrHO5DxIwXx+LJJmWfMwX0G9I9dvRashIPSC57836Q7wM7acds62xAc1uK6kA\n",
              "BChk1FnrxojMCwgJi1TiaZwc8H5SzHsWJA0ACq+SNvsZ4OPgnacFOEm0zzmq1tZnuSEy6o+ck7HN\n",
              "Ta5wZHvr8PoPNpMFHcf+zReyEDy1N4slFCXEMMU4zR/islOxYPFGDCJ6hXNmFsOzB/3mblF4PqOf\n",
              "qKZTbrXOHi/lZ9R1tAA5TnKz6Fu41WC8VO93Mui89S0DyNoU8l8Pf5qTRmebsQxx63pMNUquh9sV\n",
              "lJw1e1gs68Ruu5xmBimeufuUQd7hto6BNQv/L7dNZzyJ1tlrhLTbU0zX1R/JPIwdjkz5qCmVK6oU\n",
              "qAJn5v3S5h7UkdEFB2ERIJsNaVV1LmZ+VIRmjynmD6SCBnGg0J6EyeoDQOZfTUX0/EdCcDAil11n\n",
              "+VK4lWt9EwwD5gHnLw+SDIfq5XnoNNnk8m+Gjo6lsWIikDNlSpsLxPDp0kT0Jc0EDukV6nWmH9a2\n",
              "qSM8w+hj8TYx6BgK6N9Sf+WjeMgWwJISJWLTFYTXFu5ZR5ViI9SvztCD03IodOgOTPC8XAZZ6+ax\n",
              "rZBLueBEuzXDrqWoReBb0KYPwYRGku8e9yq9RRMifDPxZJ6m5JScMNDutYCKRHDWbKmAjlwNDB7c\n",
              "Pq295CedooKgNNj9j6AP2T1jtRWgCicFM0iQo+AAAASobW9vdgAAAGxtdmhkAAAAAAAAAAAAAAAA\n",
              "AAAD6AAABNgAAQAAAQAAAAAAAAAAAAAAAAEAAAAAAAAAAAAAAAAAAAABAAAAAAAAAAAAAAAAAABA\n",
              "AAAAAAAAAAAAAAAAAAAAAAAAAAAAAAAAAAAAAAAAAgAAA9J0cmFrAAAAXHRraGQAAAADAAAAAAAA\n",
              "AAAAAAABAAAAAAAABNgAAAAAAAAAAAAAAAAAAAAAAAEAAAAAAAAAAAAAAAAAAAABAAAAAAAAAAAA\n",
              "AAAAAABAAAAAAlgAAAJYAAAAAAAkZWR0cwAAABxlbHN0AAAAAAAAAAEAAATYAAAEAAABAAAAAANK\n",
              "bWRpYQAAACBtZGhkAAAAAAAAAAAAAAAAAAAyAAAAPgBVxAAAAAAALWhkbHIAAAAAAAAAAHZpZGUA\n",
              "AAAAAAAAAAAAAABWaWRlb0hhbmRsZXIAAAAC9W1pbmYAAAAUdm1oZAAAAAEAAAAAAAAAAAAAACRk\n",
              "aW5mAAAAHGRyZWYAAAAAAAAAAQAAAAx1cmwgAAAAAQAAArVzdGJsAAAAuXN0c2QAAAAAAAAAAQAA\n",
              "AKlhdmMxAAAAAAAAAAEAAAAAAAAAAAAAAAAAAAAAAlgCWABIAAAASAAAAAAAAAABAAAAAAAAAAAA\n",
              "AAAAAAAAAAAAAAAAAAAAAAAAAAAAAAAAGP//AAAAN2F2Y0MBZAAe/+EAGmdkAB6s2UCYE3llhAAA\n",
              "AwAEAAADAMg8WLZYAQAGaOvjyyLA/fj4AAAAABx1dWlka2hA8l8kT8W6OaUbzwMj8wAAAAAAAAAY\n",
              "c3R0cwAAAAAAAAABAAAAHwAAAgAAAAAUc3RzcwAAAAAAAAABAAAAAQAAAQhjdHRzAAAAAAAAAB8A\n",
              "AAABAAAEAAAAAAEAAAoAAAAAAQAABAAAAAABAAAAAAAAAAEAAAIAAAAAAQAACgAAAAABAAAEAAAA\n",
              "AAEAAAAAAAAAAQAAAgAAAAABAAAKAAAAAAEAAAQAAAAAAQAAAAAAAAABAAACAAAAAAEAAAoAAAAA\n",
              "AQAABAAAAAABAAAAAAAAAAEAAAIAAAAAAQAACgAAAAABAAAEAAAAAAEAAAAAAAAAAQAAAgAAAAAB\n",
              "AAAKAAAAAAEAAAQAAAAAAQAAAAAAAAABAAACAAAAAAEAAAoAAAAAAQAABAAAAAABAAAAAAAAAAEA\n",
              "AAIAAAAAAQAABgAAAAABAAACAAAAABxzdHNjAAAAAAAAAAEAAAABAAAAHwAAAAEAAACQc3RzegAA\n",
              "AAAAAAAAAAAAHwAAGpoAAALbAAAB+AAAANgAAADYAAADyQAAAk4AAAEGAAABVQAABBcAAAHlAAAB\n",
              "JAAAAU0AAAQ1AAAChwAAAZgAAAGHAAAEswAAArIAAAHrAAAB3wAABhEAAAN7AAACQgAAAqIAAAVH\n",
              "AAADdQAAAmMAAAKoAAAFHwAAAuMAAAAUc3RjbwAAAAAAAAABAAAAMAAAAGJ1ZHRhAAAAWm1ldGEA\n",
              "AAAAAAAAIWhkbHIAAAAAAAAAAG1kaXJhcHBsAAAAAAAAAAAAAAAALWlsc3QAAAAlqXRvbwAAAB1k\n",
              "YXRhAAAAAQAAAABMYXZmNTguNzYuMTAw\n",
              "\">\n",
              "  Your browser does not support the video tag.\n",
              "</video>"
            ]
          },
          "metadata": {},
          "execution_count": 9
        },
        {
          "output_type": "display_data",
          "data": {
            "text/plain": [
              "<Figure size 600x600 with 1 Axes>"
            ],
            "image/png": "[encoded data removed]"
          },
          "metadata": {}
        }
      ],
      "source": [
        "# create a figure and axes\n",
        "fig = plt.figure(figsize=(6,6))\n",
        "\n",
        "# Create arrays with the x and y coordinates for plotting using pcolor\n",
        "from dedalus.extras import plot_tools\n",
        "(X, Y) = plot_tools.quad_mesh(np.squeeze(x), np.squeeze(y))\n",
        "\n",
        "# Define an animation function\n",
        "def drawframe(n):\n",
        "    plt.clf # clear the figure before plotting the next frame\n",
        "    height = plt.pcolor(X/(1*kilometer), Y/(1*kilometer), h_save[n,:,:], vmin=-1, vmax=1)\n",
        "    # Specify the axis limits and labels\n",
        "    plt.xlim((-Lx/2 / (1*kilometer),Lx/2 / (1*kilometer)))\n",
        "    plt.ylim((-Ly/2 / (1*kilometer),Ly/2 / (1*kilometer)))\n",
        "    plt.xlabel('x (km)')\n",
        "    plt.ylabel('y (m)')\n",
        "    plt.title('Surface height (m), time = {0:.2f} hours'.format(t_save[n]/(1*hour)))\n",
        "    return (height,)\n",
        "\n",
        "from matplotlib import animation\n",
        "# blit=True re-draws only the parts that have changed.\n",
        "anim = animation.FuncAnimation(fig, drawframe, frames=len(t_save), interval=40, blit=True)\n",
        "\n",
        "from IPython.display import HTML\n",
        "HTML(anim.to_html5_video())"
      ]
    },
    {
      "cell_type": "markdown",
      "metadata": {
        "id": "arCN3T-pFPzT"
      },
      "source": [
        "### 2.3 Student investigation\n",
        "<a id='section2pt3'></a>\n",
        "Notice how the amplitude of the Tsunami wave decreases with distance from the source location. In the cell below, make a prediction for how the wave amplitude will vary as a function of distance from the origin (x=0, y=0) using conservation of energy. Then, make a plot or plots comparing your prediction for the wave amplitude compared with the results from the simulation.\n",
        "\n",
        "Try out several different possible initial conditions for the surface height, $h$. How does the shape of the resulting waves change?"
      ]
    },
    {
      "cell_type": "markdown",
      "metadata": {
        "id": "BFvMbDjqFPzT"
      },
      "source": [
        "** PREDICTION OF WAVE AMPLITUDE **\n",
        "\n",
        "Amplitude decays with $\\sqrt{r}$, such that $A = A_0/\\sqrt{r}$, where $r$ is radius. In the plot above, this is equivalent to distance away from (x,y) = (0,0).\n",
        "\n",
        "This is derived the following way:\n",
        "\n",
        "- Intensity = Energy / Area\n",
        "- 'Area' at a given time is defined as a ring of thickness $w$ and circumference $2\\pi r$\n",
        "- Hence, intensity = energy / $2\\pi rw$\n",
        "- Furthermore, energy is proportional to amplitude squared.\n",
        "- This can be simplified by allowing $r$ to scale with $w$, producing $A^2 = A_0^2 /r^2$\n",
        "- We then receive $A = A_0/\\sqrt{r}$ as needed."
      ]
    },
    {
      "cell_type": "code",
      "execution_count": 21,
      "metadata": {
        "id": "0MugZyNGFPzT",
        "outputId": "5695cafd-353b-44a4-a326-1832b064d72d",
        "colab": {
          "base_uri": "https://localhost:8080/",
          "height": 448
        }
      },
      "outputs": [
        {
          "output_type": "execute_result",
          "data": {
            "text/plain": [
              "[<matplotlib.lines.Line2D at 0x7f39a09628f0>]"
            ]
          },
          "metadata": {},
          "execution_count": 21
        },
        {
          "output_type": "display_data",
          "data": {
            "text/plain": [
              "<Figure size 640x480 with 1 Axes>"
            ],
            "image/png": "[encoded data removed]"
          },
          "metadata": {}
        }
      ],
      "source": [
        "# ADD CODE TO MAKE PLOTS HERE\n",
        "\n",
        "# This takes a portion of the height data at x=32 and y data after y=32\n",
        "# This is the RHS portion of the centre line\n",
        "h_slice = h_save[:,32,32:]\n",
        "\n",
        "y_max = np.argmax(h_slice,axis=1)\n",
        "\n",
        "h_max = np.max(h_slice,axis=1)\n",
        "h_max\n",
        "\n",
        "plt.plot(y_max,h_max, 'rx')\n"
      ]
    },
    {
      "cell_type": "code",
      "source": [
        "from math import sqrt\n",
        "r = np.linspace(0,30,31)\n",
        "\n",
        "plt.plot(y_max,h_max, 'rx', label = 'Maximum intensity by index')\n",
        "plt.plot(r, h_max, label = 'Maximum intensity')\n",
        "plt.plot(r, 0.75/abs(np.sqrt(r)), label = 'Best fit')\n",
        "plt.legend()"
      ],
      "metadata": {
        "id": "HlevcLvMXAc3",
        "outputId": "b4266d37-f324-457e-fb53-496fc4054f60",
        "colab": {
          "base_uri": "https://localhost:8080/",
          "height": 484
        }
      },
      "execution_count": 11,
      "outputs": [
        {
          "output_type": "stream",
          "name": "stderr",
          "text": [
            "<ipython-input-11-76bc4d191b48>:6: RuntimeWarning: divide by zero encountered in divide\n",
            "  plt.plot(r, 0.75/abs(np.sqrt(r)), label = 'Best fit')\n"
          ]
        },
        {
          "output_type": "execute_result",
          "data": {
            "text/plain": [
              "<matplotlib.legend.Legend at 0x7f39a231da20>"
            ]
          },
          "metadata": {},
          "execution_count": 11
        },
        {
          "output_type": "display_data",
          "data": {
            "text/plain": [
              "<Figure size 640x480 with 1 Axes>"
            ],
            "image/png": "[encoded data removed]"
          },
          "metadata": {}
        }
      ]
    },
    {
      "cell_type": "markdown",
      "source": [
        "The plots above show how intensity of the wave varies with time. We predicted a $1/\\sqrt{r}$ relationship, whereby intensity decays as area covered increases.\n",
        "\n",
        "This is tested through a few representations. First, the red crosses on the above plot show the maximum height values along a cross section at their respective y indices. Visually it is clear that this follows the expected trend of exponential decay. However, this is affected by the fact that the maximum H value remains at the centre (y=0 here) for multiple timesteps, and we therefore see a deformed shape at the start.\n",
        "\n",
        "This is partially rectified on the blue line above, where I have spaced out points evenly. This produces a smoother curve, however we notice that the centre points still do not follow the expected trend. The centered maximum effect is difficult to work around, clearly. However, after approximately 6 points we see the expected trend.\n",
        "\n",
        "Finally, I plot a $1/r^2$ relationship. Because I started with a radius of 0, there is no point plotted at $r=0$. Expected initial amplitude has a magnitude of 1, therefore the second point plotted should have amplitude $1/ \\sqrt{2}$. However, due to the complex effects at the centre, we see that an quasi-$A_0$ of 0.75 fits the data best. It is clear that the far points follow the expected $1/r^2$ relationship well, therefore supporting my hypothesis.\n"
      ],
      "metadata": {
        "id": "ETcqyJLzsn56"
      }
    },
    {
      "cell_type": "code",
      "source": [
        "# trying out different initial conditions"
      ],
      "metadata": {
        "id": "jgW_yDmkLDiU"
      },
      "execution_count": 12,
      "outputs": []
    },
    {
      "cell_type": "code",
      "source": [
        "# Import the required packages\n",
        "# import numpy as np\n",
        "# import dedalus.public as dedalus\n",
        "# import logging\n",
        "# import matplotlib.pyplot as plt\n",
        "\n",
        "# logger = logging.getLogger(__name__)\n",
        "\n",
        "# # Define the simulation units. This is optional, but will help us keep track of units\n",
        "meter = 1\n",
        "kilometer = meter * 1e3\n",
        "# second = 1\n",
        "# minute = 60\n",
        "# hour = 3600\n",
        "# day = hour * 24\n",
        "\n",
        "# # Specify the simulation parameters\n",
        "# Lx = 1000 * kilometer # The domain size in x\n",
        "# Ly = 1000 * kilometer # The domain size in y\n",
        "# Nx = 64 # The number of gridpoints in x\n",
        "# Ny = 64 # The number of gridpoints in y\n",
        "# g = 9.81 * meter / second**2 # Gravitational acceleration\n",
        "# H = 4 * kilometer # Reference ocean depth\n",
        "# width = 100 * kilometer # Set the width of the initial Gaussian\n",
        "\n",
        "# timestep = 60 * second # Specify the timestep\n",
        "# stop_sim_time = 30 * minute # Specify the stopping time\n",
        "\n",
        "# timestepper = dedalus.RK222\n",
        "# max_timestep = 0.125\n",
        "\n",
        "# # Bases\n",
        "# coords = dedalus.CartesianCoordinates('x', 'y')\n",
        "# dist = dedalus.Distributor(coords, dtype=np.float64)\n",
        "# xbasis = dedalus.RealFourier(coords['x'], size=Nx, bounds=(-Lx/2, Lx/2), dealias=3/2)\n",
        "# ybasis = dedalus.RealFourier(coords['y'], size=Ny, bounds=(-Ly/2, Ly/2), dealias=3/2)\n",
        "\n",
        "# x, y = dist.local_grids(xbasis, ybasis)\n",
        "\n",
        "# # Fields\n",
        "# u = dist.Field(name='u', bases=(xbasis, ybasis))\n",
        "# v = dist.Field(name='v', bases=(xbasis, ybasis))\n",
        "# h = dist.Field(name='h', bases=(xbasis, ybasis))\n",
        "\n",
        "# HERE\n",
        "h_factors = [0.5,2,1]\n",
        "h_data = []\n",
        "\n",
        "widths = [10*kilometer,50*kilometer,100*kilometer,200*kilometer,500*kilometer]\n",
        "\n",
        "for i in range(len(h_factors)):\n",
        "  for j in range(len(widths)):\n",
        "    factor = h_factors[i]\n",
        "    current_width = widths[j]\n",
        "\n",
        "    # Initial conditions\n",
        "    h.change_scales(1) # Set values on regular grid\n",
        "    u.change_scales(1)\n",
        "    v.change_scales(1)\n",
        "    h['g'] = factor*np.exp(-(x**2+y**2)/current_width**2)  # Initialize the dependent variable c with a Gaussian function (note ** is the exponentiation operator)\n",
        "    u['g'] = 0\n",
        "    v['g'] = 0\n",
        "\n",
        "    # Operators\n",
        "    dx = lambda a: dedalus.Differentiate(a, coords['x'])\n",
        "    dy = lambda a: dedalus.Differentiate(a, coords['y'])\n",
        "\n",
        "    # Problem\n",
        "    problem = dedalus.IVP([u, v, h], namespace=locals())\n",
        "    problem.add_equation(\"dt(u) + g*dx(h) = - u*dx(u) - v*dy(u)\")\n",
        "    problem.add_equation(\"dt(v) + g*dy(h) = - u*dx(v) - v*dy(v)\")\n",
        "    problem.add_equation(\"dt(h) + H*(dx(u) + dy(v)) = - dx(h*u) - dy(h*v)\")\n",
        "\n",
        "    # Solver\n",
        "    solver = problem.build_solver(dedalus.RK222)\n",
        "    solver.stop_sim_time = stop_sim_time\n",
        "\n",
        "    # Analysis\n",
        "    snapshots = solver.evaluator.add_file_handler('snapshots', sim_dt=1*hour, max_writes=10)\n",
        "    snapshots.add_task(h, name='h')\n",
        "    snapshots.add_task(u, name='u')\n",
        "    snapshots.add_task(v, name='v')\n",
        "\n",
        "    h.change_scales(1)\n",
        "    h_save = [np.copy(h['g'])]; t_save = [solver.sim_time]; # Save the initial condition and the initial time\n",
        "    # Main loop\n",
        "    try:\n",
        "        logger.info('Starting main loop')\n",
        "        while solver.proceed:\n",
        "            solver.step(timestep)\n",
        "            if (solver.iteration-1) % 1 == 0:\n",
        "                h.change_scales(1)\n",
        "                h_save.append(np.copy(h['g']))\n",
        "                t_save.append(solver.sim_time)\n",
        "    except:\n",
        "        logger.error('Exception raised, triggering end of main loop.')\n",
        "        raise\n",
        "    finally:\n",
        "        solver.log_stats()\n",
        "\n",
        "    h_save=np.array(h_save) # convert h_save to an np.array type to allow data slicing\n",
        "\n",
        "    #now to save the bit I want\n",
        "    h_slice = h_save[:,32,32:]\n",
        "    h_max = np.max(h_slice,axis=1)\n",
        "    h_data.append(h_max)\n"
      ],
      "metadata": {
        "id": "hT63kIgD8lNV",
        "outputId": "c032fb13-dab7-4534-b015-a32852d6d843",
        "colab": {
          "base_uri": "https://localhost:8080/"
        }
      },
      "execution_count": 40,
      "outputs": [
        {
          "output_type": "stream",
          "name": "stderr",
          "text": [
            "INFO:subsystems:Building subproblem matrices 1/32 (~3%) Elapsed: 0s, Remaining: 1s, Rate: 4.3e+01/s\n"
          ]
        },
        {
          "output_type": "stream",
          "name": "stdout",
          "text": [
            "2024-11-22 19:28:49,837 subsystems 0/1 INFO :: Building subproblem matrices 1/32 (~3%) Elapsed: 0s, Remaining: 1s, Rate: 4.3e+01/s\n"
          ]
        },
        {
          "output_type": "stream",
          "name": "stderr",
          "text": [
            "INFO:subsystems:Building subproblem matrices 4/32 (~12%) Elapsed: 0s, Remaining: 1s, Rate: 4.2e+01/s\n"
          ]
        },
        {
          "output_type": "stream",
          "name": "stdout",
          "text": [
            "2024-11-22 19:28:49,908 subsystems 0/1 INFO :: Building subproblem matrices 4/32 (~12%) Elapsed: 0s, Remaining: 1s, Rate: 4.2e+01/s\n"
          ]
        },
        {
          "output_type": "stream",
          "name": "stderr",
          "text": [
            "INFO:subsystems:Building subproblem matrices 8/32 (~25%) Elapsed: 0s, Remaining: 1s, Rate: 3.9e+01/s\n"
          ]
        },
        {
          "output_type": "stream",
          "name": "stdout",
          "text": [
            "2024-11-22 19:28:50,017 subsystems 0/1 INFO :: Building subproblem matrices 8/32 (~25%) Elapsed: 0s, Remaining: 1s, Rate: 3.9e+01/s\n"
          ]
        },
        {
          "output_type": "stream",
          "name": "stderr",
          "text": [
            "INFO:subsystems:Building subproblem matrices 12/32 (~38%) Elapsed: 0s, Remaining: 1s, Rate: 2.8e+01/s\n"
          ]
        },
        {
          "output_type": "stream",
          "name": "stdout",
          "text": [
            "2024-11-22 19:28:50,246 subsystems 0/1 INFO :: Building subproblem matrices 12/32 (~38%) Elapsed: 0s, Remaining: 1s, Rate: 2.8e+01/s\n"
          ]
        },
        {
          "output_type": "stream",
          "name": "stderr",
          "text": [
            "INFO:subsystems:Building subproblem matrices 16/32 (~50%) Elapsed: 1s, Remaining: 1s, Rate: 2.8e+01/s\n"
          ]
        },
        {
          "output_type": "stream",
          "name": "stdout",
          "text": [
            "2024-11-22 19:28:50,384 subsystems 0/1 INFO :: Building subproblem matrices 16/32 (~50%) Elapsed: 1s, Remaining: 1s, Rate: 2.8e+01/s\n"
          ]
        },
        {
          "output_type": "stream",
          "name": "stderr",
          "text": [
            "INFO:subsystems:Building subproblem matrices 20/32 (~62%) Elapsed: 1s, Remaining: 0s, Rate: 3.2e+01/s\n"
          ]
        },
        {
          "output_type": "stream",
          "name": "stdout",
          "text": [
            "2024-11-22 19:28:50,439 subsystems 0/1 INFO :: Building subproblem matrices 20/32 (~62%) Elapsed: 1s, Remaining: 0s, Rate: 3.2e+01/s\n"
          ]
        },
        {
          "output_type": "stream",
          "name": "stderr",
          "text": [
            "INFO:subsystems:Building subproblem matrices 24/32 (~75%) Elapsed: 1s, Remaining: 0s, Rate: 3.5e+01/s\n"
          ]
        },
        {
          "output_type": "stream",
          "name": "stdout",
          "text": [
            "2024-11-22 19:28:50,509 subsystems 0/1 INFO :: Building subproblem matrices 24/32 (~75%) Elapsed: 1s, Remaining: 0s, Rate: 3.5e+01/s\n"
          ]
        },
        {
          "output_type": "stream",
          "name": "stderr",
          "text": [
            "INFO:subsystems:Building subproblem matrices 28/32 (~88%) Elapsed: 1s, Remaining: 0s, Rate: 3.7e+01/s\n"
          ]
        },
        {
          "output_type": "stream",
          "name": "stdout",
          "text": [
            "2024-11-22 19:28:50,569 subsystems 0/1 INFO :: Building subproblem matrices 28/32 (~88%) Elapsed: 1s, Remaining: 0s, Rate: 3.7e+01/s\n"
          ]
        },
        {
          "output_type": "stream",
          "name": "stderr",
          "text": [
            "INFO:subsystems:Building subproblem matrices 32/32 (~100%) Elapsed: 1s, Remaining: 0s, Rate: 3.9e+01/s\n"
          ]
        },
        {
          "output_type": "stream",
          "name": "stdout",
          "text": [
            "2024-11-22 19:28:50,624 subsystems 0/1 INFO :: Building subproblem matrices 32/32 (~100%) Elapsed: 1s, Remaining: 0s, Rate: 3.9e+01/s\n"
          ]
        },
        {
          "output_type": "stream",
          "name": "stderr",
          "text": [
            "INFO:__main__:Starting main loop\n"
          ]
        },
        {
          "output_type": "stream",
          "name": "stdout",
          "text": [
            "2024-11-22 19:28:50,632 __main__ 0/1 INFO :: Starting main loop\n"
          ]
        },
        {
          "output_type": "stream",
          "name": "stderr",
          "text": [
            "INFO:solvers:Simulation stop time reached.\n"
          ]
        },
        {
          "output_type": "stream",
          "name": "stdout",
          "text": [
            "2024-11-22 19:28:51,097 solvers 0/1 INFO :: Simulation stop time reached.\n"
          ]
        },
        {
          "output_type": "stream",
          "name": "stderr",
          "text": [
            "INFO:solvers:Final iteration: 30\n"
          ]
        },
        {
          "output_type": "stream",
          "name": "stdout",
          "text": [
            "2024-11-22 19:28:51,101 solvers 0/1 INFO :: Final iteration: 30\n"
          ]
        },
        {
          "output_type": "stream",
          "name": "stderr",
          "text": [
            "INFO:solvers:Final sim time: 1800.0\n"
          ]
        },
        {
          "output_type": "stream",
          "name": "stdout",
          "text": [
            "2024-11-22 19:28:51,106 solvers 0/1 INFO :: Final sim time: 1800.0\n"
          ]
        },
        {
          "output_type": "stream",
          "name": "stderr",
          "text": [
            "INFO:solvers:Setup time (init - iter 0): 0.8385 sec\n"
          ]
        },
        {
          "output_type": "stream",
          "name": "stdout",
          "text": [
            "2024-11-22 19:28:51,111 solvers 0/1 INFO :: Setup time (init - iter 0): 0.8385 sec\n"
          ]
        },
        {
          "output_type": "stream",
          "name": "stderr",
          "text": [
            "INFO:solvers:Warmup time (iter 0-10): 0.1746 sec\n"
          ]
        },
        {
          "output_type": "stream",
          "name": "stdout",
          "text": [
            "2024-11-22 19:28:51,114 solvers 0/1 INFO :: Warmup time (iter 0-10): 0.1746 sec\n"
          ]
        },
        {
          "output_type": "stream",
          "name": "stderr",
          "text": [
            "INFO:solvers:Run time (iter 10-end): 0.2878 sec\n"
          ]
        },
        {
          "output_type": "stream",
          "name": "stdout",
          "text": [
            "2024-11-22 19:28:51,116 solvers 0/1 INFO :: Run time (iter 10-end): 0.2878 sec\n"
          ]
        },
        {
          "output_type": "stream",
          "name": "stderr",
          "text": [
            "INFO:solvers:CPU time (iter 10-end): 7.994e-05 cpu-hr\n"
          ]
        },
        {
          "output_type": "stream",
          "name": "stdout",
          "text": [
            "2024-11-22 19:28:51,118 solvers 0/1 INFO :: CPU time (iter 10-end): 7.994e-05 cpu-hr\n"
          ]
        },
        {
          "output_type": "stream",
          "name": "stderr",
          "text": [
            "INFO:solvers:Speed: 1.655e+06 mode-stages/cpu-sec\n"
          ]
        },
        {
          "output_type": "stream",
          "name": "stdout",
          "text": [
            "2024-11-22 19:28:51,120 solvers 0/1 INFO :: Speed: 1.655e+06 mode-stages/cpu-sec\n"
          ]
        },
        {
          "output_type": "stream",
          "name": "stderr",
          "text": [
            "INFO:subsystems:Building subproblem matrices 1/32 (~3%) Elapsed: 0s, Remaining: 0s, Rate: 8.1e+01/s\n"
          ]
        },
        {
          "output_type": "stream",
          "name": "stdout",
          "text": [
            "2024-11-22 19:28:51,170 subsystems 0/1 INFO :: Building subproblem matrices 1/32 (~3%) Elapsed: 0s, Remaining: 0s, Rate: 8.1e+01/s\n"
          ]
        },
        {
          "output_type": "stream",
          "name": "stderr",
          "text": [
            "INFO:subsystems:Building subproblem matrices 4/32 (~12%) Elapsed: 0s, Remaining: 0s, Rate: 7.7e+01/s\n"
          ]
        },
        {
          "output_type": "stream",
          "name": "stdout",
          "text": [
            "2024-11-22 19:28:51,209 subsystems 0/1 INFO :: Building subproblem matrices 4/32 (~12%) Elapsed: 0s, Remaining: 0s, Rate: 7.7e+01/s\n"
          ]
        },
        {
          "output_type": "stream",
          "name": "stderr",
          "text": [
            "INFO:subsystems:Building subproblem matrices 8/32 (~25%) Elapsed: 0s, Remaining: 0s, Rate: 7.9e+01/s\n"
          ]
        },
        {
          "output_type": "stream",
          "name": "stdout",
          "text": [
            "2024-11-22 19:28:51,258 subsystems 0/1 INFO :: Building subproblem matrices 8/32 (~25%) Elapsed: 0s, Remaining: 0s, Rate: 7.9e+01/s\n"
          ]
        },
        {
          "output_type": "stream",
          "name": "stderr",
          "text": [
            "INFO:subsystems:Building subproblem matrices 12/32 (~38%) Elapsed: 0s, Remaining: 0s, Rate: 7.8e+01/s\n"
          ]
        },
        {
          "output_type": "stream",
          "name": "stdout",
          "text": [
            "2024-11-22 19:28:51,310 subsystems 0/1 INFO :: Building subproblem matrices 12/32 (~38%) Elapsed: 0s, Remaining: 0s, Rate: 7.8e+01/s\n"
          ]
        },
        {
          "output_type": "stream",
          "name": "stderr",
          "text": [
            "INFO:subsystems:Building subproblem matrices 16/32 (~50%) Elapsed: 0s, Remaining: 0s, Rate: 7.8e+01/s\n"
          ]
        },
        {
          "output_type": "stream",
          "name": "stdout",
          "text": [
            "2024-11-22 19:28:51,362 subsystems 0/1 INFO :: Building subproblem matrices 16/32 (~50%) Elapsed: 0s, Remaining: 0s, Rate: 7.8e+01/s\n"
          ]
        },
        {
          "output_type": "stream",
          "name": "stderr",
          "text": [
            "INFO:subsystems:Building subproblem matrices 20/32 (~62%) Elapsed: 0s, Remaining: 0s, Rate: 7.5e+01/s\n"
          ]
        },
        {
          "output_type": "stream",
          "name": "stdout",
          "text": [
            "2024-11-22 19:28:51,423 subsystems 0/1 INFO :: Building subproblem matrices 20/32 (~62%) Elapsed: 0s, Remaining: 0s, Rate: 7.5e+01/s\n"
          ]
        },
        {
          "output_type": "stream",
          "name": "stderr",
          "text": [
            "INFO:subsystems:Building subproblem matrices 24/32 (~75%) Elapsed: 0s, Remaining: 0s, Rate: 7.4e+01/s\n"
          ]
        },
        {
          "output_type": "stream",
          "name": "stdout",
          "text": [
            "2024-11-22 19:28:51,482 subsystems 0/1 INFO :: Building subproblem matrices 24/32 (~75%) Elapsed: 0s, Remaining: 0s, Rate: 7.4e+01/s\n"
          ]
        },
        {
          "output_type": "stream",
          "name": "stderr",
          "text": [
            "INFO:subsystems:Building subproblem matrices 28/32 (~88%) Elapsed: 0s, Remaining: 0s, Rate: 7.3e+01/s\n"
          ]
        },
        {
          "output_type": "stream",
          "name": "stdout",
          "text": [
            "2024-11-22 19:28:51,542 subsystems 0/1 INFO :: Building subproblem matrices 28/32 (~88%) Elapsed: 0s, Remaining: 0s, Rate: 7.3e+01/s\n"
          ]
        },
        {
          "output_type": "stream",
          "name": "stderr",
          "text": [
            "INFO:subsystems:Building subproblem matrices 32/32 (~100%) Elapsed: 0s, Remaining: 0s, Rate: 7.3e+01/s\n"
          ]
        },
        {
          "output_type": "stream",
          "name": "stdout",
          "text": [
            "2024-11-22 19:28:51,598 subsystems 0/1 INFO :: Building subproblem matrices 32/32 (~100%) Elapsed: 0s, Remaining: 0s, Rate: 7.3e+01/s\n"
          ]
        },
        {
          "output_type": "stream",
          "name": "stderr",
          "text": [
            "INFO:__main__:Starting main loop\n"
          ]
        },
        {
          "output_type": "stream",
          "name": "stdout",
          "text": [
            "2024-11-22 19:28:51,606 __main__ 0/1 INFO :: Starting main loop\n"
          ]
        },
        {
          "output_type": "stream",
          "name": "stderr",
          "text": [
            "INFO:solvers:Simulation stop time reached.\n"
          ]
        },
        {
          "output_type": "stream",
          "name": "stdout",
          "text": [
            "2024-11-22 19:28:52,061 solvers 0/1 INFO :: Simulation stop time reached.\n"
          ]
        },
        {
          "output_type": "stream",
          "name": "stderr",
          "text": [
            "INFO:solvers:Final iteration: 30\n"
          ]
        },
        {
          "output_type": "stream",
          "name": "stdout",
          "text": [
            "2024-11-22 19:28:52,066 solvers 0/1 INFO :: Final iteration: 30\n"
          ]
        },
        {
          "output_type": "stream",
          "name": "stderr",
          "text": [
            "INFO:solvers:Final sim time: 1800.0\n"
          ]
        },
        {
          "output_type": "stream",
          "name": "stdout",
          "text": [
            "2024-11-22 19:28:52,070 solvers 0/1 INFO :: Final sim time: 1800.0\n"
          ]
        },
        {
          "output_type": "stream",
          "name": "stderr",
          "text": [
            "INFO:solvers:Setup time (init - iter 0): 0.4653 sec\n"
          ]
        },
        {
          "output_type": "stream",
          "name": "stdout",
          "text": [
            "2024-11-22 19:28:52,073 solvers 0/1 INFO :: Setup time (init - iter 0): 0.4653 sec\n"
          ]
        },
        {
          "output_type": "stream",
          "name": "stderr",
          "text": [
            "INFO:solvers:Warmup time (iter 0-10): 0.1844 sec\n"
          ]
        },
        {
          "output_type": "stream",
          "name": "stdout",
          "text": [
            "2024-11-22 19:28:52,078 solvers 0/1 INFO :: Warmup time (iter 0-10): 0.1844 sec\n"
          ]
        },
        {
          "output_type": "stream",
          "name": "stderr",
          "text": [
            "INFO:solvers:Run time (iter 10-end): 0.2694 sec\n"
          ]
        },
        {
          "output_type": "stream",
          "name": "stdout",
          "text": [
            "2024-11-22 19:28:52,080 solvers 0/1 INFO :: Run time (iter 10-end): 0.2694 sec\n"
          ]
        },
        {
          "output_type": "stream",
          "name": "stderr",
          "text": [
            "INFO:solvers:CPU time (iter 10-end): 7.484e-05 cpu-hr\n"
          ]
        },
        {
          "output_type": "stream",
          "name": "stdout",
          "text": [
            "2024-11-22 19:28:52,082 solvers 0/1 INFO :: CPU time (iter 10-end): 7.484e-05 cpu-hr\n"
          ]
        },
        {
          "output_type": "stream",
          "name": "stderr",
          "text": [
            "INFO:solvers:Speed: 1.768e+06 mode-stages/cpu-sec\n"
          ]
        },
        {
          "output_type": "stream",
          "name": "stdout",
          "text": [
            "2024-11-22 19:28:52,086 solvers 0/1 INFO :: Speed: 1.768e+06 mode-stages/cpu-sec\n"
          ]
        },
        {
          "output_type": "stream",
          "name": "stderr",
          "text": [
            "INFO:subsystems:Building subproblem matrices 1/32 (~3%) Elapsed: 0s, Remaining: 1s, Rate: 5.7e+01/s\n"
          ]
        },
        {
          "output_type": "stream",
          "name": "stdout",
          "text": [
            "2024-11-22 19:28:52,151 subsystems 0/1 INFO :: Building subproblem matrices 1/32 (~3%) Elapsed: 0s, Remaining: 1s, Rate: 5.7e+01/s\n"
          ]
        },
        {
          "output_type": "stream",
          "name": "stderr",
          "text": [
            "INFO:subsystems:Building subproblem matrices 4/32 (~12%) Elapsed: 0s, Remaining: 1s, Rate: 5.4e+01/s\n"
          ]
        },
        {
          "output_type": "stream",
          "name": "stdout",
          "text": [
            "2024-11-22 19:28:52,208 subsystems 0/1 INFO :: Building subproblem matrices 4/32 (~12%) Elapsed: 0s, Remaining: 1s, Rate: 5.4e+01/s\n"
          ]
        },
        {
          "output_type": "stream",
          "name": "stderr",
          "text": [
            "INFO:subsystems:Building subproblem matrices 8/32 (~25%) Elapsed: 0s, Remaining: 0s, Rate: 5.8e+01/s\n"
          ]
        },
        {
          "output_type": "stream",
          "name": "stdout",
          "text": [
            "2024-11-22 19:28:52,271 subsystems 0/1 INFO :: Building subproblem matrices 8/32 (~25%) Elapsed: 0s, Remaining: 0s, Rate: 5.8e+01/s\n"
          ]
        },
        {
          "output_type": "stream",
          "name": "stderr",
          "text": [
            "INFO:subsystems:Building subproblem matrices 12/32 (~38%) Elapsed: 0s, Remaining: 0s, Rate: 6.1e+01/s\n"
          ]
        },
        {
          "output_type": "stream",
          "name": "stdout",
          "text": [
            "2024-11-22 19:28:52,329 subsystems 0/1 INFO :: Building subproblem matrices 12/32 (~38%) Elapsed: 0s, Remaining: 0s, Rate: 6.1e+01/s\n"
          ]
        },
        {
          "output_type": "stream",
          "name": "stderr",
          "text": [
            "INFO:subsystems:Building subproblem matrices 16/32 (~50%) Elapsed: 0s, Remaining: 0s, Rate: 6.4e+01/s\n"
          ]
        },
        {
          "output_type": "stream",
          "name": "stdout",
          "text": [
            "2024-11-22 19:28:52,384 subsystems 0/1 INFO :: Building subproblem matrices 16/32 (~50%) Elapsed: 0s, Remaining: 0s, Rate: 6.4e+01/s\n"
          ]
        },
        {
          "output_type": "stream",
          "name": "stderr",
          "text": [
            "INFO:subsystems:Building subproblem matrices 20/32 (~62%) Elapsed: 0s, Remaining: 0s, Rate: 6.6e+01/s\n"
          ]
        },
        {
          "output_type": "stream",
          "name": "stdout",
          "text": [
            "2024-11-22 19:28:52,438 subsystems 0/1 INFO :: Building subproblem matrices 20/32 (~62%) Elapsed: 0s, Remaining: 0s, Rate: 6.6e+01/s\n"
          ]
        },
        {
          "output_type": "stream",
          "name": "stderr",
          "text": [
            "INFO:subsystems:Building subproblem matrices 24/32 (~75%) Elapsed: 0s, Remaining: 0s, Rate: 6.7e+01/s\n"
          ]
        },
        {
          "output_type": "stream",
          "name": "stdout",
          "text": [
            "2024-11-22 19:28:52,489 subsystems 0/1 INFO :: Building subproblem matrices 24/32 (~75%) Elapsed: 0s, Remaining: 0s, Rate: 6.7e+01/s\n"
          ]
        },
        {
          "output_type": "stream",
          "name": "stderr",
          "text": [
            "INFO:subsystems:Building subproblem matrices 28/32 (~88%) Elapsed: 0s, Remaining: 0s, Rate: 6.7e+01/s\n"
          ]
        },
        {
          "output_type": "stream",
          "name": "stdout",
          "text": [
            "2024-11-22 19:28:52,554 subsystems 0/1 INFO :: Building subproblem matrices 28/32 (~88%) Elapsed: 0s, Remaining: 0s, Rate: 6.7e+01/s\n"
          ]
        },
        {
          "output_type": "stream",
          "name": "stderr",
          "text": [
            "INFO:subsystems:Building subproblem matrices 32/32 (~100%) Elapsed: 0s, Remaining: 0s, Rate: 6.6e+01/s\n"
          ]
        },
        {
          "output_type": "stream",
          "name": "stdout",
          "text": [
            "2024-11-22 19:28:52,616 subsystems 0/1 INFO :: Building subproblem matrices 32/32 (~100%) Elapsed: 0s, Remaining: 0s, Rate: 6.6e+01/s\n"
          ]
        },
        {
          "output_type": "stream",
          "name": "stderr",
          "text": [
            "INFO:__main__:Starting main loop\n"
          ]
        },
        {
          "output_type": "stream",
          "name": "stdout",
          "text": [
            "2024-11-22 19:28:52,625 __main__ 0/1 INFO :: Starting main loop\n"
          ]
        },
        {
          "output_type": "stream",
          "name": "stderr",
          "text": [
            "INFO:solvers:Simulation stop time reached.\n"
          ]
        },
        {
          "output_type": "stream",
          "name": "stdout",
          "text": [
            "2024-11-22 19:28:53,086 solvers 0/1 INFO :: Simulation stop time reached.\n"
          ]
        },
        {
          "output_type": "stream",
          "name": "stderr",
          "text": [
            "INFO:solvers:Final iteration: 30\n"
          ]
        },
        {
          "output_type": "stream",
          "name": "stdout",
          "text": [
            "2024-11-22 19:28:53,090 solvers 0/1 INFO :: Final iteration: 30\n"
          ]
        },
        {
          "output_type": "stream",
          "name": "stderr",
          "text": [
            "INFO:solvers:Final sim time: 1800.0\n"
          ]
        },
        {
          "output_type": "stream",
          "name": "stdout",
          "text": [
            "2024-11-22 19:28:53,094 solvers 0/1 INFO :: Final sim time: 1800.0\n"
          ]
        },
        {
          "output_type": "stream",
          "name": "stderr",
          "text": [
            "INFO:solvers:Setup time (init - iter 0): 0.5191 sec\n"
          ]
        },
        {
          "output_type": "stream",
          "name": "stdout",
          "text": [
            "2024-11-22 19:28:53,097 solvers 0/1 INFO :: Setup time (init - iter 0): 0.5191 sec\n"
          ]
        },
        {
          "output_type": "stream",
          "name": "stderr",
          "text": [
            "INFO:solvers:Warmup time (iter 0-10): 0.1798 sec\n"
          ]
        },
        {
          "output_type": "stream",
          "name": "stdout",
          "text": [
            "2024-11-22 19:28:53,099 solvers 0/1 INFO :: Warmup time (iter 0-10): 0.1798 sec\n"
          ]
        },
        {
          "output_type": "stream",
          "name": "stderr",
          "text": [
            "INFO:solvers:Run time (iter 10-end): 0.2742 sec\n"
          ]
        },
        {
          "output_type": "stream",
          "name": "stdout",
          "text": [
            "2024-11-22 19:28:53,101 solvers 0/1 INFO :: Run time (iter 10-end): 0.2742 sec\n"
          ]
        },
        {
          "output_type": "stream",
          "name": "stderr",
          "text": [
            "INFO:solvers:CPU time (iter 10-end): 7.617e-05 cpu-hr\n"
          ]
        },
        {
          "output_type": "stream",
          "name": "stdout",
          "text": [
            "2024-11-22 19:28:53,104 solvers 0/1 INFO :: CPU time (iter 10-end): 7.617e-05 cpu-hr\n"
          ]
        },
        {
          "output_type": "stream",
          "name": "stderr",
          "text": [
            "INFO:solvers:Speed: 1.737e+06 mode-stages/cpu-sec\n"
          ]
        },
        {
          "output_type": "stream",
          "name": "stdout",
          "text": [
            "2024-11-22 19:28:53,106 solvers 0/1 INFO :: Speed: 1.737e+06 mode-stages/cpu-sec\n"
          ]
        },
        {
          "output_type": "stream",
          "name": "stderr",
          "text": [
            "INFO:subsystems:Building subproblem matrices 1/32 (~3%) Elapsed: 0s, Remaining: 0s, Rate: 8.9e+01/s\n"
          ]
        },
        {
          "output_type": "stream",
          "name": "stdout",
          "text": [
            "2024-11-22 19:28:53,152 subsystems 0/1 INFO :: Building subproblem matrices 1/32 (~3%) Elapsed: 0s, Remaining: 0s, Rate: 8.9e+01/s\n"
          ]
        },
        {
          "output_type": "stream",
          "name": "stderr",
          "text": [
            "INFO:subsystems:Building subproblem matrices 4/32 (~12%) Elapsed: 0s, Remaining: 0s, Rate: 7.8e+01/s\n"
          ]
        },
        {
          "output_type": "stream",
          "name": "stdout",
          "text": [
            "2024-11-22 19:28:53,193 subsystems 0/1 INFO :: Building subproblem matrices 4/32 (~12%) Elapsed: 0s, Remaining: 0s, Rate: 7.8e+01/s\n"
          ]
        },
        {
          "output_type": "stream",
          "name": "stderr",
          "text": [
            "INFO:subsystems:Building subproblem matrices 8/32 (~25%) Elapsed: 0s, Remaining: 0s, Rate: 7.4e+01/s\n"
          ]
        },
        {
          "output_type": "stream",
          "name": "stdout",
          "text": [
            "2024-11-22 19:28:53,249 subsystems 0/1 INFO :: Building subproblem matrices 8/32 (~25%) Elapsed: 0s, Remaining: 0s, Rate: 7.4e+01/s\n"
          ]
        },
        {
          "output_type": "stream",
          "name": "stderr",
          "text": [
            "INFO:subsystems:Building subproblem matrices 12/32 (~38%) Elapsed: 0s, Remaining: 0s, Rate: 7.2e+01/s\n"
          ]
        },
        {
          "output_type": "stream",
          "name": "stdout",
          "text": [
            "2024-11-22 19:28:53,308 subsystems 0/1 INFO :: Building subproblem matrices 12/32 (~38%) Elapsed: 0s, Remaining: 0s, Rate: 7.2e+01/s\n"
          ]
        },
        {
          "output_type": "stream",
          "name": "stderr",
          "text": [
            "INFO:subsystems:Building subproblem matrices 16/32 (~50%) Elapsed: 0s, Remaining: 0s, Rate: 7.3e+01/s\n"
          ]
        },
        {
          "output_type": "stream",
          "name": "stdout",
          "text": [
            "2024-11-22 19:28:53,360 subsystems 0/1 INFO :: Building subproblem matrices 16/32 (~50%) Elapsed: 0s, Remaining: 0s, Rate: 7.3e+01/s\n"
          ]
        },
        {
          "output_type": "stream",
          "name": "stderr",
          "text": [
            "INFO:subsystems:Building subproblem matrices 20/32 (~62%) Elapsed: 0s, Remaining: 0s, Rate: 7.0e+01/s\n"
          ]
        },
        {
          "output_type": "stream",
          "name": "stdout",
          "text": [
            "2024-11-22 19:28:53,426 subsystems 0/1 INFO :: Building subproblem matrices 20/32 (~62%) Elapsed: 0s, Remaining: 0s, Rate: 7.0e+01/s\n"
          ]
        },
        {
          "output_type": "stream",
          "name": "stderr",
          "text": [
            "INFO:subsystems:Building subproblem matrices 24/32 (~75%) Elapsed: 0s, Remaining: 0s, Rate: 7.1e+01/s\n"
          ]
        },
        {
          "output_type": "stream",
          "name": "stdout",
          "text": [
            "2024-11-22 19:28:53,477 subsystems 0/1 INFO :: Building subproblem matrices 24/32 (~75%) Elapsed: 0s, Remaining: 0s, Rate: 7.1e+01/s\n"
          ]
        },
        {
          "output_type": "stream",
          "name": "stderr",
          "text": [
            "INFO:subsystems:Building subproblem matrices 28/32 (~88%) Elapsed: 0s, Remaining: 0s, Rate: 7.2e+01/s\n"
          ]
        },
        {
          "output_type": "stream",
          "name": "stdout",
          "text": [
            "2024-11-22 19:28:53,531 subsystems 0/1 INFO :: Building subproblem matrices 28/32 (~88%) Elapsed: 0s, Remaining: 0s, Rate: 7.2e+01/s\n"
          ]
        },
        {
          "output_type": "stream",
          "name": "stderr",
          "text": [
            "INFO:subsystems:Building subproblem matrices 32/32 (~100%) Elapsed: 0s, Remaining: 0s, Rate: 7.0e+01/s\n"
          ]
        },
        {
          "output_type": "stream",
          "name": "stdout",
          "text": [
            "2024-11-22 19:28:53,600 subsystems 0/1 INFO :: Building subproblem matrices 32/32 (~100%) Elapsed: 0s, Remaining: 0s, Rate: 7.0e+01/s\n"
          ]
        },
        {
          "output_type": "stream",
          "name": "stderr",
          "text": [
            "INFO:__main__:Starting main loop\n"
          ]
        },
        {
          "output_type": "stream",
          "name": "stdout",
          "text": [
            "2024-11-22 19:28:53,614 __main__ 0/1 INFO :: Starting main loop\n"
          ]
        },
        {
          "output_type": "stream",
          "name": "stderr",
          "text": [
            "INFO:solvers:Simulation stop time reached.\n"
          ]
        },
        {
          "output_type": "stream",
          "name": "stdout",
          "text": [
            "2024-11-22 19:28:54,123 solvers 0/1 INFO :: Simulation stop time reached.\n"
          ]
        },
        {
          "output_type": "stream",
          "name": "stderr",
          "text": [
            "INFO:solvers:Final iteration: 30\n"
          ]
        },
        {
          "output_type": "stream",
          "name": "stdout",
          "text": [
            "2024-11-22 19:28:54,131 solvers 0/1 INFO :: Final iteration: 30\n"
          ]
        },
        {
          "output_type": "stream",
          "name": "stderr",
          "text": [
            "INFO:solvers:Final sim time: 1800.0\n"
          ]
        },
        {
          "output_type": "stream",
          "name": "stdout",
          "text": [
            "2024-11-22 19:28:54,136 solvers 0/1 INFO :: Final sim time: 1800.0\n"
          ]
        },
        {
          "output_type": "stream",
          "name": "stderr",
          "text": [
            "INFO:solvers:Setup time (init - iter 0): 0.4874 sec\n"
          ]
        },
        {
          "output_type": "stream",
          "name": "stdout",
          "text": [
            "2024-11-22 19:28:54,139 solvers 0/1 INFO :: Setup time (init - iter 0): 0.4874 sec\n"
          ]
        },
        {
          "output_type": "stream",
          "name": "stderr",
          "text": [
            "INFO:solvers:Warmup time (iter 0-10): 0.198 sec\n"
          ]
        },
        {
          "output_type": "stream",
          "name": "stdout",
          "text": [
            "2024-11-22 19:28:54,141 solvers 0/1 INFO :: Warmup time (iter 0-10): 0.198 sec\n"
          ]
        },
        {
          "output_type": "stream",
          "name": "stderr",
          "text": [
            "INFO:solvers:Run time (iter 10-end): 0.3122 sec\n"
          ]
        },
        {
          "output_type": "stream",
          "name": "stdout",
          "text": [
            "2024-11-22 19:28:54,144 solvers 0/1 INFO :: Run time (iter 10-end): 0.3122 sec\n"
          ]
        },
        {
          "output_type": "stream",
          "name": "stderr",
          "text": [
            "INFO:solvers:CPU time (iter 10-end): 8.671e-05 cpu-hr\n"
          ]
        },
        {
          "output_type": "stream",
          "name": "stdout",
          "text": [
            "2024-11-22 19:28:54,148 solvers 0/1 INFO :: CPU time (iter 10-end): 8.671e-05 cpu-hr\n"
          ]
        },
        {
          "output_type": "stream",
          "name": "stderr",
          "text": [
            "INFO:solvers:Speed: 1.526e+06 mode-stages/cpu-sec\n"
          ]
        },
        {
          "output_type": "stream",
          "name": "stdout",
          "text": [
            "2024-11-22 19:28:54,151 solvers 0/1 INFO :: Speed: 1.526e+06 mode-stages/cpu-sec\n"
          ]
        },
        {
          "output_type": "stream",
          "name": "stderr",
          "text": [
            "INFO:subsystems:Building subproblem matrices 1/32 (~3%) Elapsed: 0s, Remaining: 1s, Rate: 6.2e+01/s\n"
          ]
        },
        {
          "output_type": "stream",
          "name": "stdout",
          "text": [
            "2024-11-22 19:28:54,214 subsystems 0/1 INFO :: Building subproblem matrices 1/32 (~3%) Elapsed: 0s, Remaining: 1s, Rate: 6.2e+01/s\n"
          ]
        },
        {
          "output_type": "stream",
          "name": "stderr",
          "text": [
            "INFO:subsystems:Building subproblem matrices 4/32 (~12%) Elapsed: 0s, Remaining: 1s, Rate: 5.5e+01/s\n"
          ]
        },
        {
          "output_type": "stream",
          "name": "stdout",
          "text": [
            "2024-11-22 19:28:54,271 subsystems 0/1 INFO :: Building subproblem matrices 4/32 (~12%) Elapsed: 0s, Remaining: 1s, Rate: 5.5e+01/s\n"
          ]
        },
        {
          "output_type": "stream",
          "name": "stderr",
          "text": [
            "INFO:subsystems:Building subproblem matrices 8/32 (~25%) Elapsed: 0s, Remaining: 0s, Rate: 6.2e+01/s\n"
          ]
        },
        {
          "output_type": "stream",
          "name": "stdout",
          "text": [
            "2024-11-22 19:28:54,327 subsystems 0/1 INFO :: Building subproblem matrices 8/32 (~25%) Elapsed: 0s, Remaining: 0s, Rate: 6.2e+01/s\n"
          ]
        },
        {
          "output_type": "stream",
          "name": "stderr",
          "text": [
            "INFO:subsystems:Building subproblem matrices 12/32 (~38%) Elapsed: 0s, Remaining: 0s, Rate: 6.4e+01/s\n"
          ]
        },
        {
          "output_type": "stream",
          "name": "stdout",
          "text": [
            "2024-11-22 19:28:54,387 subsystems 0/1 INFO :: Building subproblem matrices 12/32 (~38%) Elapsed: 0s, Remaining: 0s, Rate: 6.4e+01/s\n"
          ]
        },
        {
          "output_type": "stream",
          "name": "stderr",
          "text": [
            "INFO:subsystems:Building subproblem matrices 16/32 (~50%) Elapsed: 0s, Remaining: 0s, Rate: 6.4e+01/s\n"
          ]
        },
        {
          "output_type": "stream",
          "name": "stdout",
          "text": [
            "2024-11-22 19:28:54,446 subsystems 0/1 INFO :: Building subproblem matrices 16/32 (~50%) Elapsed: 0s, Remaining: 0s, Rate: 6.4e+01/s\n"
          ]
        },
        {
          "output_type": "stream",
          "name": "stderr",
          "text": [
            "INFO:subsystems:Building subproblem matrices 20/32 (~62%) Elapsed: 0s, Remaining: 0s, Rate: 6.4e+01/s\n"
          ]
        },
        {
          "output_type": "stream",
          "name": "stdout",
          "text": [
            "2024-11-22 19:28:54,509 subsystems 0/1 INFO :: Building subproblem matrices 20/32 (~62%) Elapsed: 0s, Remaining: 0s, Rate: 6.4e+01/s\n"
          ]
        },
        {
          "output_type": "stream",
          "name": "stderr",
          "text": [
            "INFO:subsystems:Building subproblem matrices 24/32 (~75%) Elapsed: 0s, Remaining: 0s, Rate: 6.6e+01/s\n"
          ]
        },
        {
          "output_type": "stream",
          "name": "stdout",
          "text": [
            "2024-11-22 19:28:54,562 subsystems 0/1 INFO :: Building subproblem matrices 24/32 (~75%) Elapsed: 0s, Remaining: 0s, Rate: 6.6e+01/s\n"
          ]
        },
        {
          "output_type": "stream",
          "name": "stderr",
          "text": [
            "INFO:subsystems:Building subproblem matrices 28/32 (~88%) Elapsed: 0s, Remaining: 0s, Rate: 6.6e+01/s\n"
          ]
        },
        {
          "output_type": "stream",
          "name": "stdout",
          "text": [
            "2024-11-22 19:28:54,620 subsystems 0/1 INFO :: Building subproblem matrices 28/32 (~88%) Elapsed: 0s, Remaining: 0s, Rate: 6.6e+01/s\n"
          ]
        },
        {
          "output_type": "stream",
          "name": "stderr",
          "text": [
            "INFO:subsystems:Building subproblem matrices 32/32 (~100%) Elapsed: 0s, Remaining: 0s, Rate: 6.4e+01/s\n"
          ]
        },
        {
          "output_type": "stream",
          "name": "stdout",
          "text": [
            "2024-11-22 19:28:54,695 subsystems 0/1 INFO :: Building subproblem matrices 32/32 (~100%) Elapsed: 0s, Remaining: 0s, Rate: 6.4e+01/s\n"
          ]
        },
        {
          "output_type": "stream",
          "name": "stderr",
          "text": [
            "INFO:__main__:Starting main loop\n"
          ]
        },
        {
          "output_type": "stream",
          "name": "stdout",
          "text": [
            "2024-11-22 19:28:54,703 __main__ 0/1 INFO :: Starting main loop\n"
          ]
        },
        {
          "output_type": "stream",
          "name": "stderr",
          "text": [
            "INFO:solvers:Simulation stop time reached.\n"
          ]
        },
        {
          "output_type": "stream",
          "name": "stdout",
          "text": [
            "2024-11-22 19:28:55,172 solvers 0/1 INFO :: Simulation stop time reached.\n"
          ]
        },
        {
          "output_type": "stream",
          "name": "stderr",
          "text": [
            "INFO:solvers:Final iteration: 30\n"
          ]
        },
        {
          "output_type": "stream",
          "name": "stdout",
          "text": [
            "2024-11-22 19:28:55,175 solvers 0/1 INFO :: Final iteration: 30\n"
          ]
        },
        {
          "output_type": "stream",
          "name": "stderr",
          "text": [
            "INFO:solvers:Final sim time: 1800.0\n"
          ]
        },
        {
          "output_type": "stream",
          "name": "stdout",
          "text": [
            "2024-11-22 19:28:55,179 solvers 0/1 INFO :: Final sim time: 1800.0\n"
          ]
        },
        {
          "output_type": "stream",
          "name": "stderr",
          "text": [
            "INFO:solvers:Setup time (init - iter 0): 0.5221 sec\n"
          ]
        },
        {
          "output_type": "stream",
          "name": "stdout",
          "text": [
            "2024-11-22 19:28:55,182 solvers 0/1 INFO :: Setup time (init - iter 0): 0.5221 sec\n"
          ]
        },
        {
          "output_type": "stream",
          "name": "stderr",
          "text": [
            "INFO:solvers:Warmup time (iter 0-10): 0.1832 sec\n"
          ]
        },
        {
          "output_type": "stream",
          "name": "stdout",
          "text": [
            "2024-11-22 19:28:55,184 solvers 0/1 INFO :: Warmup time (iter 0-10): 0.1832 sec\n"
          ]
        },
        {
          "output_type": "stream",
          "name": "stderr",
          "text": [
            "INFO:solvers:Run time (iter 10-end): 0.2832 sec\n"
          ]
        },
        {
          "output_type": "stream",
          "name": "stdout",
          "text": [
            "2024-11-22 19:28:55,186 solvers 0/1 INFO :: Run time (iter 10-end): 0.2832 sec\n"
          ]
        },
        {
          "output_type": "stream",
          "name": "stderr",
          "text": [
            "INFO:solvers:CPU time (iter 10-end): 7.867e-05 cpu-hr\n"
          ]
        },
        {
          "output_type": "stream",
          "name": "stdout",
          "text": [
            "2024-11-22 19:28:55,192 solvers 0/1 INFO :: CPU time (iter 10-end): 7.867e-05 cpu-hr\n"
          ]
        },
        {
          "output_type": "stream",
          "name": "stderr",
          "text": [
            "INFO:solvers:Speed: 1.682e+06 mode-stages/cpu-sec\n"
          ]
        },
        {
          "output_type": "stream",
          "name": "stdout",
          "text": [
            "2024-11-22 19:28:55,194 solvers 0/1 INFO :: Speed: 1.682e+06 mode-stages/cpu-sec\n"
          ]
        },
        {
          "output_type": "stream",
          "name": "stderr",
          "text": [
            "INFO:subsystems:Building subproblem matrices 1/32 (~3%) Elapsed: 0s, Remaining: 0s, Rate: 8.3e+01/s\n"
          ]
        },
        {
          "output_type": "stream",
          "name": "stdout",
          "text": [
            "2024-11-22 19:28:55,246 subsystems 0/1 INFO :: Building subproblem matrices 1/32 (~3%) Elapsed: 0s, Remaining: 0s, Rate: 8.3e+01/s\n"
          ]
        },
        {
          "output_type": "stream",
          "name": "stderr",
          "text": [
            "INFO:subsystems:Building subproblem matrices 4/32 (~12%) Elapsed: 0s, Remaining: 0s, Rate: 7.7e+01/s\n"
          ]
        },
        {
          "output_type": "stream",
          "name": "stdout",
          "text": [
            "2024-11-22 19:28:55,286 subsystems 0/1 INFO :: Building subproblem matrices 4/32 (~12%) Elapsed: 0s, Remaining: 0s, Rate: 7.7e+01/s\n"
          ]
        },
        {
          "output_type": "stream",
          "name": "stderr",
          "text": [
            "INFO:subsystems:Building subproblem matrices 8/32 (~25%) Elapsed: 0s, Remaining: 0s, Rate: 7.7e+01/s\n"
          ]
        },
        {
          "output_type": "stream",
          "name": "stdout",
          "text": [
            "2024-11-22 19:28:55,338 subsystems 0/1 INFO :: Building subproblem matrices 8/32 (~25%) Elapsed: 0s, Remaining: 0s, Rate: 7.7e+01/s\n"
          ]
        },
        {
          "output_type": "stream",
          "name": "stderr",
          "text": [
            "INFO:subsystems:Building subproblem matrices 12/32 (~38%) Elapsed: 0s, Remaining: 0s, Rate: 7.3e+01/s\n"
          ]
        },
        {
          "output_type": "stream",
          "name": "stdout",
          "text": [
            "2024-11-22 19:28:55,399 subsystems 0/1 INFO :: Building subproblem matrices 12/32 (~38%) Elapsed: 0s, Remaining: 0s, Rate: 7.3e+01/s\n"
          ]
        },
        {
          "output_type": "stream",
          "name": "stderr",
          "text": [
            "INFO:subsystems:Building subproblem matrices 16/32 (~50%) Elapsed: 0s, Remaining: 0s, Rate: 7.3e+01/s\n"
          ]
        },
        {
          "output_type": "stream",
          "name": "stdout",
          "text": [
            "2024-11-22 19:28:55,454 subsystems 0/1 INFO :: Building subproblem matrices 16/32 (~50%) Elapsed: 0s, Remaining: 0s, Rate: 7.3e+01/s\n"
          ]
        },
        {
          "output_type": "stream",
          "name": "stderr",
          "text": [
            "INFO:subsystems:Building subproblem matrices 20/32 (~62%) Elapsed: 0s, Remaining: 0s, Rate: 7.1e+01/s\n"
          ]
        },
        {
          "output_type": "stream",
          "name": "stdout",
          "text": [
            "2024-11-22 19:28:55,514 subsystems 0/1 INFO :: Building subproblem matrices 20/32 (~62%) Elapsed: 0s, Remaining: 0s, Rate: 7.1e+01/s\n"
          ]
        },
        {
          "output_type": "stream",
          "name": "stderr",
          "text": [
            "INFO:subsystems:Building subproblem matrices 24/32 (~75%) Elapsed: 0s, Remaining: 0s, Rate: 7.2e+01/s\n"
          ]
        },
        {
          "output_type": "stream",
          "name": "stdout",
          "text": [
            "2024-11-22 19:28:55,566 subsystems 0/1 INFO :: Building subproblem matrices 24/32 (~75%) Elapsed: 0s, Remaining: 0s, Rate: 7.2e+01/s\n"
          ]
        },
        {
          "output_type": "stream",
          "name": "stderr",
          "text": [
            "INFO:subsystems:Building subproblem matrices 28/32 (~88%) Elapsed: 0s, Remaining: 0s, Rate: 7.3e+01/s\n"
          ]
        },
        {
          "output_type": "stream",
          "name": "stdout",
          "text": [
            "2024-11-22 19:28:55,618 subsystems 0/1 INFO :: Building subproblem matrices 28/32 (~88%) Elapsed: 0s, Remaining: 0s, Rate: 7.3e+01/s\n"
          ]
        },
        {
          "output_type": "stream",
          "name": "stderr",
          "text": [
            "INFO:subsystems:Building subproblem matrices 32/32 (~100%) Elapsed: 0s, Remaining: 0s, Rate: 7.1e+01/s\n"
          ]
        },
        {
          "output_type": "stream",
          "name": "stdout",
          "text": [
            "2024-11-22 19:28:55,682 subsystems 0/1 INFO :: Building subproblem matrices 32/32 (~100%) Elapsed: 0s, Remaining: 0s, Rate: 7.1e+01/s\n"
          ]
        },
        {
          "output_type": "stream",
          "name": "stderr",
          "text": [
            "INFO:__main__:Starting main loop\n"
          ]
        },
        {
          "output_type": "stream",
          "name": "stdout",
          "text": [
            "2024-11-22 19:28:55,691 __main__ 0/1 INFO :: Starting main loop\n"
          ]
        },
        {
          "output_type": "stream",
          "name": "stderr",
          "text": [
            "INFO:solvers:Simulation stop time reached.\n"
          ]
        },
        {
          "output_type": "stream",
          "name": "stdout",
          "text": [
            "2024-11-22 19:28:56,171 solvers 0/1 INFO :: Simulation stop time reached.\n"
          ]
        },
        {
          "output_type": "stream",
          "name": "stderr",
          "text": [
            "INFO:solvers:Final iteration: 30\n"
          ]
        },
        {
          "output_type": "stream",
          "name": "stdout",
          "text": [
            "2024-11-22 19:28:56,176 solvers 0/1 INFO :: Final iteration: 30\n"
          ]
        },
        {
          "output_type": "stream",
          "name": "stderr",
          "text": [
            "INFO:solvers:Final sim time: 1800.0\n"
          ]
        },
        {
          "output_type": "stream",
          "name": "stdout",
          "text": [
            "2024-11-22 19:28:56,183 solvers 0/1 INFO :: Final sim time: 1800.0\n"
          ]
        },
        {
          "output_type": "stream",
          "name": "stderr",
          "text": [
            "INFO:solvers:Setup time (init - iter 0): 0.4773 sec\n"
          ]
        },
        {
          "output_type": "stream",
          "name": "stdout",
          "text": [
            "2024-11-22 19:28:56,187 solvers 0/1 INFO :: Setup time (init - iter 0): 0.4773 sec\n"
          ]
        },
        {
          "output_type": "stream",
          "name": "stderr",
          "text": [
            "INFO:solvers:Warmup time (iter 0-10): 0.1812 sec\n"
          ]
        },
        {
          "output_type": "stream",
          "name": "stdout",
          "text": [
            "2024-11-22 19:28:56,190 solvers 0/1 INFO :: Warmup time (iter 0-10): 0.1812 sec\n"
          ]
        },
        {
          "output_type": "stream",
          "name": "stderr",
          "text": [
            "INFO:solvers:Run time (iter 10-end): 0.2966 sec\n"
          ]
        },
        {
          "output_type": "stream",
          "name": "stdout",
          "text": [
            "2024-11-22 19:28:56,192 solvers 0/1 INFO :: Run time (iter 10-end): 0.2966 sec\n"
          ]
        },
        {
          "output_type": "stream",
          "name": "stderr",
          "text": [
            "INFO:solvers:CPU time (iter 10-end): 8.24e-05 cpu-hr\n"
          ]
        },
        {
          "output_type": "stream",
          "name": "stdout",
          "text": [
            "2024-11-22 19:28:56,203 solvers 0/1 INFO :: CPU time (iter 10-end): 8.24e-05 cpu-hr\n"
          ]
        },
        {
          "output_type": "stream",
          "name": "stderr",
          "text": [
            "INFO:solvers:Speed: 1.606e+06 mode-stages/cpu-sec\n"
          ]
        },
        {
          "output_type": "stream",
          "name": "stdout",
          "text": [
            "2024-11-22 19:28:56,208 solvers 0/1 INFO :: Speed: 1.606e+06 mode-stages/cpu-sec\n"
          ]
        },
        {
          "output_type": "stream",
          "name": "stderr",
          "text": [
            "INFO:subsystems:Building subproblem matrices 1/32 (~3%) Elapsed: 0s, Remaining: 0s, Rate: 7.3e+01/s\n"
          ]
        },
        {
          "output_type": "stream",
          "name": "stdout",
          "text": [
            "2024-11-22 19:28:56,250 subsystems 0/1 INFO :: Building subproblem matrices 1/32 (~3%) Elapsed: 0s, Remaining: 0s, Rate: 7.3e+01/s\n"
          ]
        },
        {
          "output_type": "stream",
          "name": "stderr",
          "text": [
            "INFO:subsystems:Building subproblem matrices 4/32 (~12%) Elapsed: 0s, Remaining: 0s, Rate: 7.0e+01/s\n"
          ]
        },
        {
          "output_type": "stream",
          "name": "stdout",
          "text": [
            "2024-11-22 19:28:56,293 subsystems 0/1 INFO :: Building subproblem matrices 4/32 (~12%) Elapsed: 0s, Remaining: 0s, Rate: 7.0e+01/s\n"
          ]
        },
        {
          "output_type": "stream",
          "name": "stderr",
          "text": [
            "INFO:subsystems:Building subproblem matrices 8/32 (~25%) Elapsed: 0s, Remaining: 0s, Rate: 7.0e+01/s\n"
          ]
        },
        {
          "output_type": "stream",
          "name": "stdout",
          "text": [
            "2024-11-22 19:28:56,351 subsystems 0/1 INFO :: Building subproblem matrices 8/32 (~25%) Elapsed: 0s, Remaining: 0s, Rate: 7.0e+01/s\n"
          ]
        },
        {
          "output_type": "stream",
          "name": "stderr",
          "text": [
            "INFO:subsystems:Building subproblem matrices 12/32 (~38%) Elapsed: 0s, Remaining: 0s, Rate: 6.7e+01/s\n"
          ]
        },
        {
          "output_type": "stream",
          "name": "stdout",
          "text": [
            "2024-11-22 19:28:56,415 subsystems 0/1 INFO :: Building subproblem matrices 12/32 (~38%) Elapsed: 0s, Remaining: 0s, Rate: 6.7e+01/s\n"
          ]
        },
        {
          "output_type": "stream",
          "name": "stderr",
          "text": [
            "INFO:subsystems:Building subproblem matrices 16/32 (~50%) Elapsed: 0s, Remaining: 0s, Rate: 6.6e+01/s\n"
          ]
        },
        {
          "output_type": "stream",
          "name": "stdout",
          "text": [
            "2024-11-22 19:28:56,479 subsystems 0/1 INFO :: Building subproblem matrices 16/32 (~50%) Elapsed: 0s, Remaining: 0s, Rate: 6.6e+01/s\n"
          ]
        },
        {
          "output_type": "stream",
          "name": "stderr",
          "text": [
            "INFO:subsystems:Building subproblem matrices 20/32 (~62%) Elapsed: 0s, Remaining: 0s, Rate: 6.7e+01/s\n"
          ]
        },
        {
          "output_type": "stream",
          "name": "stdout",
          "text": [
            "2024-11-22 19:28:56,535 subsystems 0/1 INFO :: Building subproblem matrices 20/32 (~62%) Elapsed: 0s, Remaining: 0s, Rate: 6.7e+01/s\n"
          ]
        },
        {
          "output_type": "stream",
          "name": "stderr",
          "text": [
            "INFO:subsystems:Building subproblem matrices 24/32 (~75%) Elapsed: 0s, Remaining: 0s, Rate: 6.7e+01/s\n"
          ]
        },
        {
          "output_type": "stream",
          "name": "stdout",
          "text": [
            "2024-11-22 19:28:56,592 subsystems 0/1 INFO :: Building subproblem matrices 24/32 (~75%) Elapsed: 0s, Remaining: 0s, Rate: 6.7e+01/s\n"
          ]
        },
        {
          "output_type": "stream",
          "name": "stderr",
          "text": [
            "INFO:subsystems:Building subproblem matrices 28/32 (~88%) Elapsed: 0s, Remaining: 0s, Rate: 6.6e+01/s\n"
          ]
        },
        {
          "output_type": "stream",
          "name": "stdout",
          "text": [
            "2024-11-22 19:28:56,657 subsystems 0/1 INFO :: Building subproblem matrices 28/32 (~88%) Elapsed: 0s, Remaining: 0s, Rate: 6.6e+01/s\n"
          ]
        },
        {
          "output_type": "stream",
          "name": "stderr",
          "text": [
            "INFO:subsystems:Building subproblem matrices 32/32 (~100%) Elapsed: 0s, Remaining: 0s, Rate: 6.5e+01/s\n"
          ]
        },
        {
          "output_type": "stream",
          "name": "stdout",
          "text": [
            "2024-11-22 19:28:56,730 subsystems 0/1 INFO :: Building subproblem matrices 32/32 (~100%) Elapsed: 0s, Remaining: 0s, Rate: 6.5e+01/s\n"
          ]
        },
        {
          "output_type": "stream",
          "name": "stderr",
          "text": [
            "INFO:__main__:Starting main loop\n"
          ]
        },
        {
          "output_type": "stream",
          "name": "stdout",
          "text": [
            "2024-11-22 19:28:56,737 __main__ 0/1 INFO :: Starting main loop\n"
          ]
        },
        {
          "output_type": "stream",
          "name": "stderr",
          "text": [
            "INFO:solvers:Simulation stop time reached.\n"
          ]
        },
        {
          "output_type": "stream",
          "name": "stdout",
          "text": [
            "2024-11-22 19:28:57,205 solvers 0/1 INFO :: Simulation stop time reached.\n"
          ]
        },
        {
          "output_type": "stream",
          "name": "stderr",
          "text": [
            "INFO:solvers:Final iteration: 30\n"
          ]
        },
        {
          "output_type": "stream",
          "name": "stdout",
          "text": [
            "2024-11-22 19:28:57,210 solvers 0/1 INFO :: Final iteration: 30\n"
          ]
        },
        {
          "output_type": "stream",
          "name": "stderr",
          "text": [
            "INFO:solvers:Final sim time: 1800.0\n"
          ]
        },
        {
          "output_type": "stream",
          "name": "stdout",
          "text": [
            "2024-11-22 19:28:57,215 solvers 0/1 INFO :: Final sim time: 1800.0\n"
          ]
        },
        {
          "output_type": "stream",
          "name": "stderr",
          "text": [
            "INFO:solvers:Setup time (init - iter 0): 0.5172 sec\n"
          ]
        },
        {
          "output_type": "stream",
          "name": "stdout",
          "text": [
            "2024-11-22 19:28:57,217 solvers 0/1 INFO :: Setup time (init - iter 0): 0.5172 sec\n"
          ]
        },
        {
          "output_type": "stream",
          "name": "stderr",
          "text": [
            "INFO:solvers:Warmup time (iter 0-10): 0.1757 sec\n"
          ]
        },
        {
          "output_type": "stream",
          "name": "stdout",
          "text": [
            "2024-11-22 19:28:57,220 solvers 0/1 INFO :: Warmup time (iter 0-10): 0.1757 sec\n"
          ]
        },
        {
          "output_type": "stream",
          "name": "stderr",
          "text": [
            "INFO:solvers:Run time (iter 10-end): 0.2887 sec\n"
          ]
        },
        {
          "output_type": "stream",
          "name": "stdout",
          "text": [
            "2024-11-22 19:28:57,222 solvers 0/1 INFO :: Run time (iter 10-end): 0.2887 sec\n"
          ]
        },
        {
          "output_type": "stream",
          "name": "stderr",
          "text": [
            "INFO:solvers:CPU time (iter 10-end): 8.021e-05 cpu-hr\n"
          ]
        },
        {
          "output_type": "stream",
          "name": "stdout",
          "text": [
            "2024-11-22 19:28:57,224 solvers 0/1 INFO :: CPU time (iter 10-end): 8.021e-05 cpu-hr\n"
          ]
        },
        {
          "output_type": "stream",
          "name": "stderr",
          "text": [
            "INFO:solvers:Speed: 1.649e+06 mode-stages/cpu-sec\n"
          ]
        },
        {
          "output_type": "stream",
          "name": "stdout",
          "text": [
            "2024-11-22 19:28:57,226 solvers 0/1 INFO :: Speed: 1.649e+06 mode-stages/cpu-sec\n"
          ]
        },
        {
          "output_type": "stream",
          "name": "stderr",
          "text": [
            "INFO:subsystems:Building subproblem matrices 1/32 (~3%) Elapsed: 0s, Remaining: 0s, Rate: 9.1e+01/s\n"
          ]
        },
        {
          "output_type": "stream",
          "name": "stdout",
          "text": [
            "2024-11-22 19:28:57,279 subsystems 0/1 INFO :: Building subproblem matrices 1/32 (~3%) Elapsed: 0s, Remaining: 0s, Rate: 9.1e+01/s\n"
          ]
        },
        {
          "output_type": "stream",
          "name": "stderr",
          "text": [
            "INFO:subsystems:Building subproblem matrices 4/32 (~12%) Elapsed: 0s, Remaining: 0s, Rate: 7.7e+01/s\n"
          ]
        },
        {
          "output_type": "stream",
          "name": "stdout",
          "text": [
            "2024-11-22 19:28:57,319 subsystems 0/1 INFO :: Building subproblem matrices 4/32 (~12%) Elapsed: 0s, Remaining: 0s, Rate: 7.7e+01/s\n"
          ]
        },
        {
          "output_type": "stream",
          "name": "stderr",
          "text": [
            "INFO:subsystems:Building subproblem matrices 8/32 (~25%) Elapsed: 0s, Remaining: 0s, Rate: 7.5e+01/s\n"
          ]
        },
        {
          "output_type": "stream",
          "name": "stdout",
          "text": [
            "2024-11-22 19:28:57,375 subsystems 0/1 INFO :: Building subproblem matrices 8/32 (~25%) Elapsed: 0s, Remaining: 0s, Rate: 7.5e+01/s\n"
          ]
        },
        {
          "output_type": "stream",
          "name": "stderr",
          "text": [
            "INFO:subsystems:Building subproblem matrices 12/32 (~38%) Elapsed: 0s, Remaining: 0s, Rate: 7.2e+01/s\n"
          ]
        },
        {
          "output_type": "stream",
          "name": "stdout",
          "text": [
            "2024-11-22 19:28:57,434 subsystems 0/1 INFO :: Building subproblem matrices 12/32 (~38%) Elapsed: 0s, Remaining: 0s, Rate: 7.2e+01/s\n"
          ]
        },
        {
          "output_type": "stream",
          "name": "stderr",
          "text": [
            "INFO:subsystems:Building subproblem matrices 16/32 (~50%) Elapsed: 0s, Remaining: 0s, Rate: 7.3e+01/s\n"
          ]
        },
        {
          "output_type": "stream",
          "name": "stdout",
          "text": [
            "2024-11-22 19:28:57,487 subsystems 0/1 INFO :: Building subproblem matrices 16/32 (~50%) Elapsed: 0s, Remaining: 0s, Rate: 7.3e+01/s\n"
          ]
        },
        {
          "output_type": "stream",
          "name": "stderr",
          "text": [
            "INFO:subsystems:Building subproblem matrices 20/32 (~62%) Elapsed: 0s, Remaining: 0s, Rate: 7.1e+01/s\n"
          ]
        },
        {
          "output_type": "stream",
          "name": "stdout",
          "text": [
            "2024-11-22 19:28:57,549 subsystems 0/1 INFO :: Building subproblem matrices 20/32 (~62%) Elapsed: 0s, Remaining: 0s, Rate: 7.1e+01/s\n"
          ]
        },
        {
          "output_type": "stream",
          "name": "stderr",
          "text": [
            "INFO:subsystems:Building subproblem matrices 24/32 (~75%) Elapsed: 0s, Remaining: 0s, Rate: 7.1e+01/s\n"
          ]
        },
        {
          "output_type": "stream",
          "name": "stdout",
          "text": [
            "2024-11-22 19:28:57,605 subsystems 0/1 INFO :: Building subproblem matrices 24/32 (~75%) Elapsed: 0s, Remaining: 0s, Rate: 7.1e+01/s\n"
          ]
        },
        {
          "output_type": "stream",
          "name": "stderr",
          "text": [
            "INFO:subsystems:Building subproblem matrices 28/32 (~88%) Elapsed: 0s, Remaining: 0s, Rate: 7.1e+01/s\n"
          ]
        },
        {
          "output_type": "stream",
          "name": "stdout",
          "text": [
            "2024-11-22 19:28:57,663 subsystems 0/1 INFO :: Building subproblem matrices 28/32 (~88%) Elapsed: 0s, Remaining: 0s, Rate: 7.1e+01/s\n"
          ]
        },
        {
          "output_type": "stream",
          "name": "stderr",
          "text": [
            "INFO:subsystems:Building subproblem matrices 32/32 (~100%) Elapsed: 0s, Remaining: 0s, Rate: 7.0e+01/s\n"
          ]
        },
        {
          "output_type": "stream",
          "name": "stdout",
          "text": [
            "2024-11-22 19:28:57,725 subsystems 0/1 INFO :: Building subproblem matrices 32/32 (~100%) Elapsed: 0s, Remaining: 0s, Rate: 7.0e+01/s\n"
          ]
        },
        {
          "output_type": "stream",
          "name": "stderr",
          "text": [
            "INFO:__main__:Starting main loop\n"
          ]
        },
        {
          "output_type": "stream",
          "name": "stdout",
          "text": [
            "2024-11-22 19:28:57,734 __main__ 0/1 INFO :: Starting main loop\n"
          ]
        },
        {
          "output_type": "stream",
          "name": "stderr",
          "text": [
            "INFO:solvers:Simulation stop time reached.\n"
          ]
        },
        {
          "output_type": "stream",
          "name": "stdout",
          "text": [
            "2024-11-22 19:28:58,209 solvers 0/1 INFO :: Simulation stop time reached.\n"
          ]
        },
        {
          "output_type": "stream",
          "name": "stderr",
          "text": [
            "INFO:solvers:Final iteration: 30\n"
          ]
        },
        {
          "output_type": "stream",
          "name": "stdout",
          "text": [
            "2024-11-22 19:28:58,213 solvers 0/1 INFO :: Final iteration: 30\n"
          ]
        },
        {
          "output_type": "stream",
          "name": "stderr",
          "text": [
            "INFO:solvers:Final sim time: 1800.0\n"
          ]
        },
        {
          "output_type": "stream",
          "name": "stdout",
          "text": [
            "2024-11-22 19:28:58,217 solvers 0/1 INFO :: Final sim time: 1800.0\n"
          ]
        },
        {
          "output_type": "stream",
          "name": "stderr",
          "text": [
            "INFO:solvers:Setup time (init - iter 0): 0.482 sec\n"
          ]
        },
        {
          "output_type": "stream",
          "name": "stdout",
          "text": [
            "2024-11-22 19:28:58,221 solvers 0/1 INFO :: Setup time (init - iter 0): 0.482 sec\n"
          ]
        },
        {
          "output_type": "stream",
          "name": "stderr",
          "text": [
            "INFO:solvers:Warmup time (iter 0-10): 0.1876 sec\n"
          ]
        },
        {
          "output_type": "stream",
          "name": "stdout",
          "text": [
            "2024-11-22 19:28:58,223 solvers 0/1 INFO :: Warmup time (iter 0-10): 0.1876 sec\n"
          ]
        },
        {
          "output_type": "stream",
          "name": "stderr",
          "text": [
            "INFO:solvers:Run time (iter 10-end): 0.2861 sec\n"
          ]
        },
        {
          "output_type": "stream",
          "name": "stdout",
          "text": [
            "2024-11-22 19:28:58,225 solvers 0/1 INFO :: Run time (iter 10-end): 0.2861 sec\n"
          ]
        },
        {
          "output_type": "stream",
          "name": "stderr",
          "text": [
            "INFO:solvers:CPU time (iter 10-end): 7.947e-05 cpu-hr\n"
          ]
        },
        {
          "output_type": "stream",
          "name": "stdout",
          "text": [
            "2024-11-22 19:28:58,227 solvers 0/1 INFO :: CPU time (iter 10-end): 7.947e-05 cpu-hr\n"
          ]
        },
        {
          "output_type": "stream",
          "name": "stderr",
          "text": [
            "INFO:solvers:Speed: 1.665e+06 mode-stages/cpu-sec\n"
          ]
        },
        {
          "output_type": "stream",
          "name": "stdout",
          "text": [
            "2024-11-22 19:28:58,229 solvers 0/1 INFO :: Speed: 1.665e+06 mode-stages/cpu-sec\n"
          ]
        },
        {
          "output_type": "stream",
          "name": "stderr",
          "text": [
            "INFO:subsystems:Building subproblem matrices 1/32 (~3%) Elapsed: 0s, Remaining: 0s, Rate: 6.4e+01/s\n"
          ]
        },
        {
          "output_type": "stream",
          "name": "stdout",
          "text": [
            "2024-11-22 19:28:58,284 subsystems 0/1 INFO :: Building subproblem matrices 1/32 (~3%) Elapsed: 0s, Remaining: 0s, Rate: 6.4e+01/s\n"
          ]
        },
        {
          "output_type": "stream",
          "name": "stderr",
          "text": [
            "INFO:subsystems:Building subproblem matrices 4/32 (~12%) Elapsed: 0s, Remaining: 0s, Rate: 7.0e+01/s\n"
          ]
        },
        {
          "output_type": "stream",
          "name": "stdout",
          "text": [
            "2024-11-22 19:28:58,326 subsystems 0/1 INFO :: Building subproblem matrices 4/32 (~12%) Elapsed: 0s, Remaining: 0s, Rate: 7.0e+01/s\n"
          ]
        },
        {
          "output_type": "stream",
          "name": "stderr",
          "text": [
            "INFO:subsystems:Building subproblem matrices 8/32 (~25%) Elapsed: 0s, Remaining: 0s, Rate: 7.4e+01/s\n"
          ]
        },
        {
          "output_type": "stream",
          "name": "stdout",
          "text": [
            "2024-11-22 19:28:58,376 subsystems 0/1 INFO :: Building subproblem matrices 8/32 (~25%) Elapsed: 0s, Remaining: 0s, Rate: 7.4e+01/s\n"
          ]
        },
        {
          "output_type": "stream",
          "name": "stderr",
          "text": [
            "INFO:subsystems:Building subproblem matrices 12/32 (~38%) Elapsed: 0s, Remaining: 0s, Rate: 7.2e+01/s\n"
          ]
        },
        {
          "output_type": "stream",
          "name": "stdout",
          "text": [
            "2024-11-22 19:28:58,435 subsystems 0/1 INFO :: Building subproblem matrices 12/32 (~38%) Elapsed: 0s, Remaining: 0s, Rate: 7.2e+01/s\n"
          ]
        },
        {
          "output_type": "stream",
          "name": "stderr",
          "text": [
            "INFO:subsystems:Building subproblem matrices 16/32 (~50%) Elapsed: 0s, Remaining: 0s, Rate: 3.2e+01/s\n"
          ]
        },
        {
          "output_type": "stream",
          "name": "stdout",
          "text": [
            "2024-11-22 19:28:58,766 subsystems 0/1 INFO :: Building subproblem matrices 16/32 (~50%) Elapsed: 0s, Remaining: 0s, Rate: 3.2e+01/s\n"
          ]
        },
        {
          "output_type": "stream",
          "name": "stderr",
          "text": [
            "INFO:subsystems:Building subproblem matrices 20/32 (~62%) Elapsed: 1s, Remaining: 0s, Rate: 3.6e+01/s\n"
          ]
        },
        {
          "output_type": "stream",
          "name": "stdout",
          "text": [
            "2024-11-22 19:28:58,830 subsystems 0/1 INFO :: Building subproblem matrices 20/32 (~62%) Elapsed: 1s, Remaining: 0s, Rate: 3.6e+01/s\n"
          ]
        },
        {
          "output_type": "stream",
          "name": "stderr",
          "text": [
            "INFO:subsystems:Building subproblem matrices 24/32 (~75%) Elapsed: 1s, Remaining: 0s, Rate: 3.9e+01/s\n"
          ]
        },
        {
          "output_type": "stream",
          "name": "stdout",
          "text": [
            "2024-11-22 19:28:58,890 subsystems 0/1 INFO :: Building subproblem matrices 24/32 (~75%) Elapsed: 1s, Remaining: 0s, Rate: 3.9e+01/s\n"
          ]
        },
        {
          "output_type": "stream",
          "name": "stderr",
          "text": [
            "INFO:subsystems:Building subproblem matrices 28/32 (~88%) Elapsed: 1s, Remaining: 0s, Rate: 4.1e+01/s\n"
          ]
        },
        {
          "output_type": "stream",
          "name": "stdout",
          "text": [
            "2024-11-22 19:28:58,944 subsystems 0/1 INFO :: Building subproblem matrices 28/32 (~88%) Elapsed: 1s, Remaining: 0s, Rate: 4.1e+01/s\n"
          ]
        },
        {
          "output_type": "stream",
          "name": "stderr",
          "text": [
            "INFO:subsystems:Building subproblem matrices 32/32 (~100%) Elapsed: 1s, Remaining: 0s, Rate: 4.3e+01/s\n"
          ]
        },
        {
          "output_type": "stream",
          "name": "stdout",
          "text": [
            "2024-11-22 19:28:59,006 subsystems 0/1 INFO :: Building subproblem matrices 32/32 (~100%) Elapsed: 1s, Remaining: 0s, Rate: 4.3e+01/s\n"
          ]
        },
        {
          "output_type": "stream",
          "name": "stderr",
          "text": [
            "INFO:__main__:Starting main loop\n"
          ]
        },
        {
          "output_type": "stream",
          "name": "stdout",
          "text": [
            "2024-11-22 19:28:59,015 __main__ 0/1 INFO :: Starting main loop\n"
          ]
        },
        {
          "output_type": "stream",
          "name": "stderr",
          "text": [
            "INFO:solvers:Simulation stop time reached.\n"
          ]
        },
        {
          "output_type": "stream",
          "name": "stdout",
          "text": [
            "2024-11-22 19:28:59,691 solvers 0/1 INFO :: Simulation stop time reached.\n"
          ]
        },
        {
          "output_type": "stream",
          "name": "stderr",
          "text": [
            "INFO:solvers:Final iteration: 30\n"
          ]
        },
        {
          "output_type": "stream",
          "name": "stdout",
          "text": [
            "2024-11-22 19:28:59,697 solvers 0/1 INFO :: Final iteration: 30\n"
          ]
        },
        {
          "output_type": "stream",
          "name": "stderr",
          "text": [
            "INFO:solvers:Final sim time: 1800.0\n"
          ]
        },
        {
          "output_type": "stream",
          "name": "stdout",
          "text": [
            "2024-11-22 19:28:59,704 solvers 0/1 INFO :: Final sim time: 1800.0\n"
          ]
        },
        {
          "output_type": "stream",
          "name": "stderr",
          "text": [
            "INFO:solvers:Setup time (init - iter 0): 0.7677 sec\n"
          ]
        },
        {
          "output_type": "stream",
          "name": "stdout",
          "text": [
            "2024-11-22 19:28:59,706 solvers 0/1 INFO :: Setup time (init - iter 0): 0.7677 sec\n"
          ]
        },
        {
          "output_type": "stream",
          "name": "stderr",
          "text": [
            "INFO:solvers:Warmup time (iter 0-10): 0.2523 sec\n"
          ]
        },
        {
          "output_type": "stream",
          "name": "stdout",
          "text": [
            "2024-11-22 19:28:59,708 solvers 0/1 INFO :: Warmup time (iter 0-10): 0.2523 sec\n"
          ]
        },
        {
          "output_type": "stream",
          "name": "stderr",
          "text": [
            "INFO:solvers:Run time (iter 10-end): 0.4224 sec\n"
          ]
        },
        {
          "output_type": "stream",
          "name": "stdout",
          "text": [
            "2024-11-22 19:28:59,710 solvers 0/1 INFO :: Run time (iter 10-end): 0.4224 sec\n"
          ]
        },
        {
          "output_type": "stream",
          "name": "stderr",
          "text": [
            "INFO:solvers:CPU time (iter 10-end): 0.0001173 cpu-hr\n"
          ]
        },
        {
          "output_type": "stream",
          "name": "stdout",
          "text": [
            "2024-11-22 19:28:59,712 solvers 0/1 INFO :: CPU time (iter 10-end): 0.0001173 cpu-hr\n"
          ]
        },
        {
          "output_type": "stream",
          "name": "stderr",
          "text": [
            "INFO:solvers:Speed: 1.128e+06 mode-stages/cpu-sec\n"
          ]
        },
        {
          "output_type": "stream",
          "name": "stdout",
          "text": [
            "2024-11-22 19:28:59,717 solvers 0/1 INFO :: Speed: 1.128e+06 mode-stages/cpu-sec\n"
          ]
        }
      ]
    },
    {
      "cell_type": "code",
      "source": [
        "fig, axs = plt.subplots(5, 3, figsize=(15, 9), sharey = True)\n",
        "\n",
        "for i, ax in enumerate(axs.flatten()):\n",
        "    #ax.plot(h_data[i])\n",
        "    #ax.set_title(f'Dataset {i+1}')\n",
        "    ax.plot(y_max,h_data[i], 'rx', label = '0.5')\n",
        "    ax.plot(r, h_data[i])\n",
        "\n",
        "axs[0][0].set_title(f'{widths[0]/1000}km width')\n",
        "axs[0][1].set_title(f'{widths[1]/1000}km width')\n",
        "axs[0][2].set_title(f'{widths[2]/1000}km width')\n",
        "axs[0][3].set_title(f'{widths[3]/1000}km width')\n",
        "axs[0][4].set_title(f'{widths[4]/1000}km width')\n",
        "\n",
        "\n",
        "plt.tight_layout()\n",
        "plt.show()"
      ],
      "metadata": {
        "id": "OecMLGYt1DkR",
        "outputId": "6e7ffe71-cd2d-4100-a212-61428fb1c9c8",
        "colab": {
          "base_uri": "https://localhost:8080/",
          "height": 1000
        }
      },
      "execution_count": 41,
      "outputs": [
        {
          "output_type": "display_data",
          "data": {
            "text/plain": [
              "<Figure size 1000x1000 with 9 Axes>"
            ],
            "image/png": "[encoded data removed]"
          },
          "metadata": {}
        }
      ]
    },
    {
      "cell_type": "code",
      "source": [
        "r = np.linspace(0,30,31)\n",
        "\n",
        "fig, axs = plt.subplots(figsize = (15,5), ncols = 3, sharey = True)\n",
        "\n",
        "axs[0].plot(y_max,h_data[2], 'rx', label = '0.5')\n",
        "axs[0].plot(r, h_data[2])\n",
        "\n",
        "axs[1].plot(y_max,h_data[5], 'bx', label = '2')\n",
        "axs[1].plot(r, h_data[5])\n",
        "\n",
        "axs[2].plot(y_max,h_data[8], 'gx', label = '1')\n",
        "axs[2].plot(r, h_data[8])\n",
        "\n",
        "plt.legend()\n",
        "plt.show()"
      ],
      "metadata": {
        "id": "0-0Fz18zvzWu",
        "outputId": "8c2d8e0a-bc44-4a18-8274-be16ab9b091a",
        "colab": {
          "base_uri": "https://localhost:8080/",
          "height": 445
        }
      },
      "execution_count": 39,
      "outputs": [
        {
          "output_type": "display_data",
          "data": {
            "text/plain": [
              "<Figure size 1500x500 with 3 Axes>"
            ],
            "image/png": "[encoded data removed]"
          },
          "metadata": {}
        }
      ]
    },
    {
      "cell_type": "markdown",
      "metadata": {
        "id": "wOV33_NBFPzT"
      },
      "source": [
        "ADD DISCUSSION HERE (~1 paragraph)"
      ]
    },
    {
      "cell_type": "markdown",
      "metadata": {
        "id": "4dxDuQuOFPzT"
      },
      "source": [
        "## 3. Shallow water equations on a sphere\n",
        "\n",
        "Of course the Earth isn't a flat plane. A great strength of Dedalus is its flexibility to solve equations in various geometries. The script below solves the 2D shallow water equations on a spherical shell, where the azimuth and colatitude are the independent variables. The colatitude is the complementary angle to the latitude such that the colatitude is $0^\\circ$ at the North Pole, $90^\\circ$ at the Equator, and $180^\\circ$ at the South Pole. The spherical geometry also allows us to take into account the Earth's rotation in a realistic way.\n",
        "\n",
        "Specifically, we will solve the following equations:\n",
        "$$ \\partial_t \\mathbf{u} + g \\nabla h + 2 \\Omega \\hat{\\mathbf{z}} \\times \\mathbf{u} = -\\mathbf{u} \\cdot \\nabla \\mathbf{u} $$\n",
        "$$ \\partial_t + H \\nabla \\cdot \\mathbf{u} = -\\nabla \\cdot (h \\mathbf{u}) $$\n",
        "\n",
        "where $\\mathbf{u}$ is the velocity vector, $\\Omega$ is the Earth's angular velocity (in radians per second), and $\\hat{\\mathbf{z}}$ is a unit vector aligned with the North Pole. Note that we have written the equations above in vector form. Dedalus includes vector calculus operators that make it very natural to solve equations like this without worrying about the particular form of the vector operators in a curvilinear coordinate system."
      ]
    },
    {
      "cell_type": "markdown",
      "metadata": {
        "id": "3KvvNO4VFPzU"
      },
      "source": [
        "### 3.1  Dedalus script for 2D shallow water equations on a sphere"
      ]
    },
    {
      "cell_type": "code",
      "execution_count": 17,
      "metadata": {
        "id": "c873l-TKFPzU",
        "outputId": "d75abad3-ee39-4e7b-b929-21cd72aafe83",
        "colab": {
          "base_uri": "https://localhost:8080/",
          "height": 1000
        }
      },
      "outputs": [
        {
          "output_type": "stream",
          "name": "stderr",
          "text": [
            "INFO:subsystems:Building subproblem matrices 1/63 (~2%) Elapsed: 0s, Remaining: 4s, Rate: 1.7e+01/s\n"
          ]
        },
        {
          "output_type": "stream",
          "name": "stdout",
          "text": [
            "2024-11-22 19:18:09,500 subsystems 0/1 INFO :: Building subproblem matrices 1/63 (~2%) Elapsed: 0s, Remaining: 4s, Rate: 1.7e+01/s\n"
          ]
        },
        {
          "output_type": "stream",
          "name": "stderr",
          "text": [
            "INFO:subsystems:Building subproblem matrices 7/63 (~11%) Elapsed: 0s, Remaining: 2s, Rate: 2.3e+01/s\n"
          ]
        },
        {
          "output_type": "stream",
          "name": "stdout",
          "text": [
            "2024-11-22 19:18:09,753 subsystems 0/1 INFO :: Building subproblem matrices 7/63 (~11%) Elapsed: 0s, Remaining: 2s, Rate: 2.3e+01/s\n"
          ]
        },
        {
          "output_type": "stream",
          "name": "stderr",
          "text": [
            "INFO:subsystems:Building subproblem matrices 14/63 (~22%) Elapsed: 1s, Remaining: 2s, Rate: 2.3e+01/s\n"
          ]
        },
        {
          "output_type": "stream",
          "name": "stdout",
          "text": [
            "2024-11-22 19:18:10,046 subsystems 0/1 INFO :: Building subproblem matrices 14/63 (~22%) Elapsed: 1s, Remaining: 2s, Rate: 2.3e+01/s\n"
          ]
        },
        {
          "output_type": "stream",
          "name": "stderr",
          "text": [
            "INFO:subsystems:Building subproblem matrices 21/63 (~33%) Elapsed: 1s, Remaining: 2s, Rate: 2.3e+01/s\n"
          ]
        },
        {
          "output_type": "stream",
          "name": "stdout",
          "text": [
            "2024-11-22 19:18:10,337 subsystems 0/1 INFO :: Building subproblem matrices 21/63 (~33%) Elapsed: 1s, Remaining: 2s, Rate: 2.3e+01/s\n"
          ]
        },
        {
          "output_type": "stream",
          "name": "stderr",
          "text": [
            "INFO:subsystems:Building subproblem matrices 28/63 (~44%) Elapsed: 1s, Remaining: 1s, Rate: 2.3e+01/s\n"
          ]
        },
        {
          "output_type": "stream",
          "name": "stdout",
          "text": [
            "2024-11-22 19:18:10,636 subsystems 0/1 INFO :: Building subproblem matrices 28/63 (~44%) Elapsed: 1s, Remaining: 1s, Rate: 2.3e+01/s\n"
          ]
        },
        {
          "output_type": "stream",
          "name": "stderr",
          "text": [
            "INFO:subsystems:Building subproblem matrices 35/63 (~56%) Elapsed: 1s, Remaining: 1s, Rate: 2.5e+01/s\n"
          ]
        },
        {
          "output_type": "stream",
          "name": "stdout",
          "text": [
            "2024-11-22 19:18:10,861 subsystems 0/1 INFO :: Building subproblem matrices 35/63 (~56%) Elapsed: 1s, Remaining: 1s, Rate: 2.5e+01/s\n"
          ]
        },
        {
          "output_type": "stream",
          "name": "stderr",
          "text": [
            "INFO:subsystems:Building subproblem matrices 42/63 (~67%) Elapsed: 2s, Remaining: 1s, Rate: 2.6e+01/s\n"
          ]
        },
        {
          "output_type": "stream",
          "name": "stdout",
          "text": [
            "2024-11-22 19:18:11,047 subsystems 0/1 INFO :: Building subproblem matrices 42/63 (~67%) Elapsed: 2s, Remaining: 1s, Rate: 2.6e+01/s\n"
          ]
        },
        {
          "output_type": "stream",
          "name": "stderr",
          "text": [
            "INFO:subsystems:Building subproblem matrices 49/63 (~78%) Elapsed: 2s, Remaining: 1s, Rate: 2.7e+01/s\n"
          ]
        },
        {
          "output_type": "stream",
          "name": "stdout",
          "text": [
            "2024-11-22 19:18:11,249 subsystems 0/1 INFO :: Building subproblem matrices 49/63 (~78%) Elapsed: 2s, Remaining: 1s, Rate: 2.7e+01/s\n"
          ]
        },
        {
          "output_type": "stream",
          "name": "stderr",
          "text": [
            "INFO:subsystems:Building subproblem matrices 56/63 (~89%) Elapsed: 2s, Remaining: 0s, Rate: 2.8e+01/s\n"
          ]
        },
        {
          "output_type": "stream",
          "name": "stdout",
          "text": [
            "2024-11-22 19:18:11,425 subsystems 0/1 INFO :: Building subproblem matrices 56/63 (~89%) Elapsed: 2s, Remaining: 0s, Rate: 2.8e+01/s\n"
          ]
        },
        {
          "output_type": "stream",
          "name": "stderr",
          "text": [
            "INFO:subsystems:Building subproblem matrices 63/63 (~100%) Elapsed: 2s, Remaining: 0s, Rate: 2.9e+01/s\n"
          ]
        },
        {
          "output_type": "stream",
          "name": "stdout",
          "text": [
            "2024-11-22 19:18:11,611 subsystems 0/1 INFO :: Building subproblem matrices 63/63 (~100%) Elapsed: 2s, Remaining: 0s, Rate: 2.9e+01/s\n"
          ]
        },
        {
          "output_type": "stream",
          "name": "stderr",
          "text": [
            "INFO:__main__:Starting main loop\n"
          ]
        },
        {
          "output_type": "stream",
          "name": "stdout",
          "text": [
            "2024-11-22 19:18:11,618 __main__ 0/1 INFO :: Starting main loop\n"
          ]
        },
        {
          "output_type": "stream",
          "name": "stderr",
          "text": [
            "INFO:__main__:Iteration=1, Time=6.000000e+02, dt=6.000000e+02\n"
          ]
        },
        {
          "output_type": "stream",
          "name": "stdout",
          "text": [
            "2024-11-22 19:18:15,728 __main__ 0/1 INFO :: Iteration=1, Time=6.000000e+02, dt=6.000000e+02\n"
          ]
        },
        {
          "output_type": "stream",
          "name": "stderr",
          "text": [
            "INFO:__main__:Iteration=11, Time=6.600000e+03, dt=6.000000e+02\n"
          ]
        },
        {
          "output_type": "stream",
          "name": "stdout",
          "text": [
            "2024-11-22 19:18:16,508 __main__ 0/1 INFO :: Iteration=11, Time=6.600000e+03, dt=6.000000e+02\n"
          ]
        },
        {
          "output_type": "stream",
          "name": "stderr",
          "text": [
            "INFO:__main__:Iteration=21, Time=1.260000e+04, dt=6.000000e+02\n"
          ]
        },
        {
          "output_type": "stream",
          "name": "stdout",
          "text": [
            "2024-11-22 19:18:17,021 __main__ 0/1 INFO :: Iteration=21, Time=1.260000e+04, dt=6.000000e+02\n"
          ]
        },
        {
          "output_type": "stream",
          "name": "stderr",
          "text": [
            "INFO:__main__:Iteration=31, Time=1.860000e+04, dt=6.000000e+02\n"
          ]
        },
        {
          "output_type": "stream",
          "name": "stdout",
          "text": [
            "2024-11-22 19:18:17,497 __main__ 0/1 INFO :: Iteration=31, Time=1.860000e+04, dt=6.000000e+02\n"
          ]
        },
        {
          "output_type": "stream",
          "name": "stderr",
          "text": [
            "INFO:__main__:Iteration=41, Time=2.460000e+04, dt=6.000000e+02\n"
          ]
        },
        {
          "output_type": "stream",
          "name": "stdout",
          "text": [
            "2024-11-22 19:18:18,002 __main__ 0/1 INFO :: Iteration=41, Time=2.460000e+04, dt=6.000000e+02\n"
          ]
        },
        {
          "output_type": "stream",
          "name": "stderr",
          "text": [
            "INFO:__main__:Iteration=51, Time=3.060000e+04, dt=6.000000e+02\n"
          ]
        },
        {
          "output_type": "stream",
          "name": "stdout",
          "text": [
            "2024-11-22 19:18:18,514 __main__ 0/1 INFO :: Iteration=51, Time=3.060000e+04, dt=6.000000e+02\n"
          ]
        },
        {
          "output_type": "stream",
          "name": "stderr",
          "text": [
            "INFO:__main__:Iteration=61, Time=3.660000e+04, dt=6.000000e+02\n"
          ]
        },
        {
          "output_type": "stream",
          "name": "stdout",
          "text": [
            "2024-11-22 19:18:18,992 __main__ 0/1 INFO :: Iteration=61, Time=3.660000e+04, dt=6.000000e+02\n"
          ]
        },
        {
          "output_type": "stream",
          "name": "stderr",
          "text": [
            "INFO:__main__:Iteration=71, Time=4.260000e+04, dt=6.000000e+02\n"
          ]
        },
        {
          "output_type": "stream",
          "name": "stdout",
          "text": [
            "2024-11-22 19:18:19,459 __main__ 0/1 INFO :: Iteration=71, Time=4.260000e+04, dt=6.000000e+02\n"
          ]
        },
        {
          "output_type": "stream",
          "name": "stderr",
          "text": [
            "INFO:__main__:Iteration=81, Time=4.860000e+04, dt=6.000000e+02\n"
          ]
        },
        {
          "output_type": "stream",
          "name": "stdout",
          "text": [
            "2024-11-22 19:18:19,943 __main__ 0/1 INFO :: Iteration=81, Time=4.860000e+04, dt=6.000000e+02\n"
          ]
        },
        {
          "output_type": "stream",
          "name": "stderr",
          "text": [
            "INFO:__main__:Iteration=91, Time=5.460000e+04, dt=6.000000e+02\n"
          ]
        },
        {
          "output_type": "stream",
          "name": "stdout",
          "text": [
            "2024-11-22 19:18:20,411 __main__ 0/1 INFO :: Iteration=91, Time=5.460000e+04, dt=6.000000e+02\n"
          ]
        },
        {
          "output_type": "stream",
          "name": "stderr",
          "text": [
            "INFO:__main__:Iteration=101, Time=6.060000e+04, dt=6.000000e+02\n"
          ]
        },
        {
          "output_type": "stream",
          "name": "stdout",
          "text": [
            "2024-11-22 19:18:21,405 __main__ 0/1 INFO :: Iteration=101, Time=6.060000e+04, dt=6.000000e+02\n"
          ]
        },
        {
          "output_type": "stream",
          "name": "stderr",
          "text": [
            "INFO:__main__:Iteration=111, Time=6.660000e+04, dt=6.000000e+02\n"
          ]
        },
        {
          "output_type": "stream",
          "name": "stdout",
          "text": [
            "2024-11-22 19:18:22,754 __main__ 0/1 INFO :: Iteration=111, Time=6.660000e+04, dt=6.000000e+02\n"
          ]
        },
        {
          "output_type": "stream",
          "name": "stderr",
          "text": [
            "INFO:__main__:Iteration=121, Time=7.260000e+04, dt=6.000000e+02\n"
          ]
        },
        {
          "output_type": "stream",
          "name": "stdout",
          "text": [
            "2024-11-22 19:18:24,860 __main__ 0/1 INFO :: Iteration=121, Time=7.260000e+04, dt=6.000000e+02\n"
          ]
        },
        {
          "output_type": "stream",
          "name": "stderr",
          "text": [
            "INFO:__main__:Iteration=131, Time=7.860000e+04, dt=6.000000e+02\n"
          ]
        },
        {
          "output_type": "stream",
          "name": "stdout",
          "text": [
            "2024-11-22 19:18:25,687 __main__ 0/1 INFO :: Iteration=131, Time=7.860000e+04, dt=6.000000e+02\n"
          ]
        },
        {
          "output_type": "stream",
          "name": "stderr",
          "text": [
            "INFO:__main__:Iteration=141, Time=8.460000e+04, dt=6.000000e+02\n"
          ]
        },
        {
          "output_type": "stream",
          "name": "stdout",
          "text": [
            "2024-11-22 19:18:27,030 __main__ 0/1 INFO :: Iteration=141, Time=8.460000e+04, dt=6.000000e+02\n"
          ]
        },
        {
          "output_type": "stream",
          "name": "stderr",
          "text": [
            "INFO:__main__:Iteration=151, Time=9.060000e+04, dt=6.000000e+02\n"
          ]
        },
        {
          "output_type": "stream",
          "name": "stdout",
          "text": [
            "2024-11-22 19:18:28,042 __main__ 0/1 INFO :: Iteration=151, Time=9.060000e+04, dt=6.000000e+02\n"
          ]
        },
        {
          "output_type": "stream",
          "name": "stderr",
          "text": [
            "INFO:__main__:Iteration=161, Time=9.660000e+04, dt=6.000000e+02\n"
          ]
        },
        {
          "output_type": "stream",
          "name": "stdout",
          "text": [
            "2024-11-22 19:18:28,549 __main__ 0/1 INFO :: Iteration=161, Time=9.660000e+04, dt=6.000000e+02\n"
          ]
        },
        {
          "output_type": "stream",
          "name": "stderr",
          "text": [
            "INFO:__main__:Iteration=171, Time=1.026000e+05, dt=6.000000e+02\n"
          ]
        },
        {
          "output_type": "stream",
          "name": "stdout",
          "text": [
            "2024-11-22 19:18:29,048 __main__ 0/1 INFO :: Iteration=171, Time=1.026000e+05, dt=6.000000e+02\n"
          ]
        },
        {
          "output_type": "stream",
          "name": "stderr",
          "text": [
            "INFO:__main__:Iteration=181, Time=1.086000e+05, dt=6.000000e+02\n"
          ]
        },
        {
          "output_type": "stream",
          "name": "stdout",
          "text": [
            "2024-11-22 19:18:29,576 __main__ 0/1 INFO :: Iteration=181, Time=1.086000e+05, dt=6.000000e+02\n"
          ]
        },
        {
          "output_type": "stream",
          "name": "stderr",
          "text": [
            "INFO:__main__:Iteration=191, Time=1.146000e+05, dt=6.000000e+02\n"
          ]
        },
        {
          "output_type": "stream",
          "name": "stdout",
          "text": [
            "2024-11-22 19:18:30,082 __main__ 0/1 INFO :: Iteration=191, Time=1.146000e+05, dt=6.000000e+02\n"
          ]
        },
        {
          "output_type": "stream",
          "name": "stderr",
          "text": [
            "INFO:__main__:Iteration=201, Time=1.206000e+05, dt=6.000000e+02\n"
          ]
        },
        {
          "output_type": "stream",
          "name": "stdout",
          "text": [
            "2024-11-22 19:18:30,623 __main__ 0/1 INFO :: Iteration=201, Time=1.206000e+05, dt=6.000000e+02\n"
          ]
        },
        {
          "output_type": "stream",
          "name": "stderr",
          "text": [
            "INFO:__main__:Iteration=211, Time=1.266000e+05, dt=6.000000e+02\n"
          ]
        },
        {
          "output_type": "stream",
          "name": "stdout",
          "text": [
            "2024-11-22 19:18:31,157 __main__ 0/1 INFO :: Iteration=211, Time=1.266000e+05, dt=6.000000e+02\n"
          ]
        },
        {
          "output_type": "stream",
          "name": "stderr",
          "text": [
            "INFO:__main__:Iteration=221, Time=1.326000e+05, dt=6.000000e+02\n"
          ]
        },
        {
          "output_type": "stream",
          "name": "stdout",
          "text": [
            "2024-11-22 19:18:31,686 __main__ 0/1 INFO :: Iteration=221, Time=1.326000e+05, dt=6.000000e+02\n"
          ]
        },
        {
          "output_type": "stream",
          "name": "stderr",
          "text": [
            "INFO:__main__:Iteration=231, Time=1.386000e+05, dt=6.000000e+02\n"
          ]
        },
        {
          "output_type": "stream",
          "name": "stdout",
          "text": [
            "2024-11-22 19:18:32,204 __main__ 0/1 INFO :: Iteration=231, Time=1.386000e+05, dt=6.000000e+02\n"
          ]
        },
        {
          "output_type": "stream",
          "name": "stderr",
          "text": [
            "INFO:__main__:Iteration=241, Time=1.446000e+05, dt=6.000000e+02\n"
          ]
        },
        {
          "output_type": "stream",
          "name": "stdout",
          "text": [
            "2024-11-22 19:18:32,711 __main__ 0/1 INFO :: Iteration=241, Time=1.446000e+05, dt=6.000000e+02\n"
          ]
        },
        {
          "output_type": "stream",
          "name": "stderr",
          "text": [
            "INFO:__main__:Iteration=251, Time=1.506000e+05, dt=6.000000e+02\n"
          ]
        },
        {
          "output_type": "stream",
          "name": "stdout",
          "text": [
            "2024-11-22 19:18:33,216 __main__ 0/1 INFO :: Iteration=251, Time=1.506000e+05, dt=6.000000e+02\n"
          ]
        },
        {
          "output_type": "stream",
          "name": "stderr",
          "text": [
            "INFO:__main__:Iteration=261, Time=1.566000e+05, dt=6.000000e+02\n"
          ]
        },
        {
          "output_type": "stream",
          "name": "stdout",
          "text": [
            "2024-11-22 19:18:33,754 __main__ 0/1 INFO :: Iteration=261, Time=1.566000e+05, dt=6.000000e+02\n"
          ]
        },
        {
          "output_type": "stream",
          "name": "stderr",
          "text": [
            "INFO:__main__:Iteration=271, Time=1.626000e+05, dt=6.000000e+02\n"
          ]
        },
        {
          "output_type": "stream",
          "name": "stdout",
          "text": [
            "2024-11-22 19:18:34,270 __main__ 0/1 INFO :: Iteration=271, Time=1.626000e+05, dt=6.000000e+02\n"
          ]
        },
        {
          "output_type": "stream",
          "name": "stderr",
          "text": [
            "INFO:__main__:Iteration=281, Time=1.686000e+05, dt=6.000000e+02\n"
          ]
        },
        {
          "output_type": "stream",
          "name": "stdout",
          "text": [
            "2024-11-22 19:18:34,842 __main__ 0/1 INFO :: Iteration=281, Time=1.686000e+05, dt=6.000000e+02\n"
          ]
        },
        {
          "output_type": "stream",
          "name": "stderr",
          "text": [
            "INFO:__main__:Iteration=291, Time=1.746000e+05, dt=6.000000e+02\n"
          ]
        },
        {
          "output_type": "stream",
          "name": "stdout",
          "text": [
            "2024-11-22 19:18:35,622 __main__ 0/1 INFO :: Iteration=291, Time=1.746000e+05, dt=6.000000e+02\n"
          ]
        },
        {
          "output_type": "stream",
          "name": "stderr",
          "text": [
            "INFO:__main__:Iteration=301, Time=1.806000e+05, dt=6.000000e+02\n"
          ]
        },
        {
          "output_type": "stream",
          "name": "stdout",
          "text": [
            "2024-11-22 19:18:36,395 __main__ 0/1 INFO :: Iteration=301, Time=1.806000e+05, dt=6.000000e+02\n"
          ]
        },
        {
          "output_type": "stream",
          "name": "stderr",
          "text": [
            "INFO:__main__:Iteration=311, Time=1.866000e+05, dt=6.000000e+02\n"
          ]
        },
        {
          "output_type": "stream",
          "name": "stdout",
          "text": [
            "2024-11-22 19:18:37,176 __main__ 0/1 INFO :: Iteration=311, Time=1.866000e+05, dt=6.000000e+02\n"
          ]
        },
        {
          "output_type": "stream",
          "name": "stderr",
          "text": [
            "INFO:__main__:Iteration=321, Time=1.926000e+05, dt=6.000000e+02\n"
          ]
        },
        {
          "output_type": "stream",
          "name": "stdout",
          "text": [
            "2024-11-22 19:18:37,979 __main__ 0/1 INFO :: Iteration=321, Time=1.926000e+05, dt=6.000000e+02\n"
          ]
        },
        {
          "output_type": "stream",
          "name": "stderr",
          "text": [
            "INFO:__main__:Iteration=331, Time=1.986000e+05, dt=6.000000e+02\n"
          ]
        },
        {
          "output_type": "stream",
          "name": "stdout",
          "text": [
            "2024-11-22 19:18:38,572 __main__ 0/1 INFO :: Iteration=331, Time=1.986000e+05, dt=6.000000e+02\n"
          ]
        },
        {
          "output_type": "stream",
          "name": "stderr",
          "text": [
            "INFO:__main__:Iteration=341, Time=2.046000e+05, dt=6.000000e+02\n"
          ]
        },
        {
          "output_type": "stream",
          "name": "stdout",
          "text": [
            "2024-11-22 19:18:39,051 __main__ 0/1 INFO :: Iteration=341, Time=2.046000e+05, dt=6.000000e+02\n"
          ]
        },
        {
          "output_type": "stream",
          "name": "stderr",
          "text": [
            "INFO:__main__:Iteration=351, Time=2.106000e+05, dt=6.000000e+02\n"
          ]
        },
        {
          "output_type": "stream",
          "name": "stdout",
          "text": [
            "2024-11-22 19:18:39,535 __main__ 0/1 INFO :: Iteration=351, Time=2.106000e+05, dt=6.000000e+02\n"
          ]
        },
        {
          "output_type": "stream",
          "name": "stderr",
          "text": [
            "INFO:__main__:Iteration=361, Time=2.166000e+05, dt=6.000000e+02\n"
          ]
        },
        {
          "output_type": "stream",
          "name": "stdout",
          "text": [
            "2024-11-22 19:18:40,036 __main__ 0/1 INFO :: Iteration=361, Time=2.166000e+05, dt=6.000000e+02\n"
          ]
        },
        {
          "output_type": "stream",
          "name": "stderr",
          "text": [
            "INFO:__main__:Iteration=371, Time=2.226000e+05, dt=6.000000e+02\n"
          ]
        },
        {
          "output_type": "stream",
          "name": "stdout",
          "text": [
            "2024-11-22 19:18:40,512 __main__ 0/1 INFO :: Iteration=371, Time=2.226000e+05, dt=6.000000e+02\n"
          ]
        },
        {
          "output_type": "stream",
          "name": "stderr",
          "text": [
            "INFO:__main__:Iteration=381, Time=2.286000e+05, dt=6.000000e+02\n"
          ]
        },
        {
          "output_type": "stream",
          "name": "stdout",
          "text": [
            "2024-11-22 19:18:41,036 __main__ 0/1 INFO :: Iteration=381, Time=2.286000e+05, dt=6.000000e+02\n"
          ]
        },
        {
          "output_type": "stream",
          "name": "stderr",
          "text": [
            "INFO:__main__:Iteration=391, Time=2.346000e+05, dt=6.000000e+02\n"
          ]
        },
        {
          "output_type": "stream",
          "name": "stdout",
          "text": [
            "2024-11-22 19:18:41,497 __main__ 0/1 INFO :: Iteration=391, Time=2.346000e+05, dt=6.000000e+02\n"
          ]
        },
        {
          "output_type": "stream",
          "name": "stderr",
          "text": [
            "INFO:__main__:Iteration=401, Time=2.406000e+05, dt=6.000000e+02\n"
          ]
        },
        {
          "output_type": "stream",
          "name": "stdout",
          "text": [
            "2024-11-22 19:18:41,998 __main__ 0/1 INFO :: Iteration=401, Time=2.406000e+05, dt=6.000000e+02\n"
          ]
        },
        {
          "output_type": "stream",
          "name": "stderr",
          "text": [
            "INFO:__main__:Iteration=411, Time=2.466000e+05, dt=6.000000e+02\n"
          ]
        },
        {
          "output_type": "stream",
          "name": "stdout",
          "text": [
            "2024-11-22 19:18:42,483 __main__ 0/1 INFO :: Iteration=411, Time=2.466000e+05, dt=6.000000e+02\n"
          ]
        },
        {
          "output_type": "stream",
          "name": "stderr",
          "text": [
            "INFO:__main__:Iteration=421, Time=2.526000e+05, dt=6.000000e+02\n"
          ]
        },
        {
          "output_type": "stream",
          "name": "stdout",
          "text": [
            "2024-11-22 19:18:42,960 __main__ 0/1 INFO :: Iteration=421, Time=2.526000e+05, dt=6.000000e+02\n"
          ]
        },
        {
          "output_type": "stream",
          "name": "stderr",
          "text": [
            "INFO:__main__:Iteration=431, Time=2.586000e+05, dt=6.000000e+02\n"
          ]
        },
        {
          "output_type": "stream",
          "name": "stdout",
          "text": [
            "2024-11-22 19:18:43,438 __main__ 0/1 INFO :: Iteration=431, Time=2.586000e+05, dt=6.000000e+02\n"
          ]
        },
        {
          "output_type": "stream",
          "name": "stderr",
          "text": [
            "INFO:__main__:Iteration=441, Time=2.646000e+05, dt=6.000000e+02\n"
          ]
        },
        {
          "output_type": "stream",
          "name": "stdout",
          "text": [
            "2024-11-22 19:18:43,922 __main__ 0/1 INFO :: Iteration=441, Time=2.646000e+05, dt=6.000000e+02\n"
          ]
        },
        {
          "output_type": "stream",
          "name": "stderr",
          "text": [
            "INFO:__main__:Iteration=451, Time=2.706000e+05, dt=6.000000e+02\n"
          ]
        },
        {
          "output_type": "stream",
          "name": "stdout",
          "text": [
            "2024-11-22 19:18:44,398 __main__ 0/1 INFO :: Iteration=451, Time=2.706000e+05, dt=6.000000e+02\n"
          ]
        },
        {
          "output_type": "stream",
          "name": "stderr",
          "text": [
            "INFO:__main__:Iteration=461, Time=2.766000e+05, dt=6.000000e+02\n"
          ]
        },
        {
          "output_type": "stream",
          "name": "stdout",
          "text": [
            "2024-11-22 19:18:44,877 __main__ 0/1 INFO :: Iteration=461, Time=2.766000e+05, dt=6.000000e+02\n"
          ]
        },
        {
          "output_type": "stream",
          "name": "stderr",
          "text": [
            "ERROR:__main__:Exception raised, triggering end of main loop.\n"
          ]
        },
        {
          "output_type": "stream",
          "name": "stdout",
          "text": [
            "2024-11-22 19:18:45,335 __main__ 0/1 ERROR :: Exception raised, triggering end of main loop.\n"
          ]
        },
        {
          "output_type": "stream",
          "name": "stderr",
          "text": [
            "INFO:solvers:Final iteration: 470\n"
          ]
        },
        {
          "output_type": "stream",
          "name": "stdout",
          "text": [
            "2024-11-22 19:18:45,340 solvers 0/1 INFO :: Final iteration: 470\n"
          ]
        },
        {
          "output_type": "stream",
          "name": "stderr",
          "text": [
            "INFO:solvers:Final sim time: 282175.73593128804\n"
          ]
        },
        {
          "output_type": "stream",
          "name": "stdout",
          "text": [
            "2024-11-22 19:18:45,345 solvers 0/1 INFO :: Final sim time: 282175.73593128804\n"
          ]
        },
        {
          "output_type": "stream",
          "name": "stderr",
          "text": [
            "INFO:solvers:Setup time (init - iter 0): 5.522 sec\n"
          ]
        },
        {
          "output_type": "stream",
          "name": "stdout",
          "text": [
            "2024-11-22 19:18:45,347 solvers 0/1 INFO :: Setup time (init - iter 0): 5.522 sec\n"
          ]
        },
        {
          "output_type": "stream",
          "name": "stderr",
          "text": [
            "INFO:solvers:Warmup time (iter 0-10): 1.575 sec\n"
          ]
        },
        {
          "output_type": "stream",
          "name": "stdout",
          "text": [
            "2024-11-22 19:18:45,349 solvers 0/1 INFO :: Warmup time (iter 0-10): 1.575 sec\n"
          ]
        },
        {
          "output_type": "stream",
          "name": "stderr",
          "text": [
            "INFO:solvers:Run time (iter 10-end): 28.88 sec\n"
          ]
        },
        {
          "output_type": "stream",
          "name": "stdout",
          "text": [
            "2024-11-22 19:18:45,353 solvers 0/1 INFO :: Run time (iter 10-end): 28.88 sec\n"
          ]
        },
        {
          "output_type": "stream",
          "name": "stderr",
          "text": [
            "INFO:solvers:CPU time (iter 10-end): 0.008021 cpu-hr\n"
          ]
        },
        {
          "output_type": "stream",
          "name": "stdout",
          "text": [
            "2024-11-22 19:18:45,357 solvers 0/1 INFO :: CPU time (iter 10-end): 0.008021 cpu-hr\n"
          ]
        },
        {
          "output_type": "stream",
          "name": "stderr",
          "text": [
            "INFO:solvers:Speed: 3.852e+05 mode-stages/cpu-sec\n"
          ]
        },
        {
          "output_type": "stream",
          "name": "stdout",
          "text": [
            "2024-11-22 19:18:45,360 solvers 0/1 INFO :: Speed: 3.852e+05 mode-stages/cpu-sec\n"
          ]
        },
        {
          "output_type": "error",
          "ename": "KeyboardInterrupt",
          "evalue": "",
          "traceback": [
            "\u001b[0;31m---------------------------------------------------------------------------\u001b[0m",
            "\u001b[0;31mKeyboardInterrupt\u001b[0m                         Traceback (most recent call last)",
            "\u001b[0;32m<ipython-input-17-03bae2cd5a66>\u001b[0m in \u001b[0;36m<cell line: 70>\u001b[0;34m()\u001b[0m\n\u001b[1;32m     71\u001b[0m     \u001b[0mlogger\u001b[0m\u001b[0;34m.\u001b[0m\u001b[0minfo\u001b[0m\u001b[0;34m(\u001b[0m\u001b[0;34m'Starting main loop'\u001b[0m\u001b[0;34m)\u001b[0m\u001b[0;34m\u001b[0m\u001b[0;34m\u001b[0m\u001b[0m\n\u001b[1;32m     72\u001b[0m     \u001b[0;32mwhile\u001b[0m \u001b[0msolver\u001b[0m\u001b[0;34m.\u001b[0m\u001b[0mproceed\u001b[0m\u001b[0;34m:\u001b[0m\u001b[0;34m\u001b[0m\u001b[0;34m\u001b[0m\u001b[0m\n\u001b[0;32m---> 73\u001b[0;31m         \u001b[0msolver\u001b[0m\u001b[0;34m.\u001b[0m\u001b[0mstep\u001b[0m\u001b[0;34m(\u001b[0m\u001b[0mtimestep\u001b[0m\u001b[0;34m)\u001b[0m\u001b[0;34m\u001b[0m\u001b[0;34m\u001b[0m\u001b[0m\n\u001b[0m\u001b[1;32m     74\u001b[0m         \u001b[0;32mif\u001b[0m \u001b[0;34m(\u001b[0m\u001b[0msolver\u001b[0m\u001b[0;34m.\u001b[0m\u001b[0miteration\u001b[0m\u001b[0;34m-\u001b[0m\u001b[0;36m1\u001b[0m\u001b[0;34m)\u001b[0m \u001b[0;34m%\u001b[0m \u001b[0;36m10\u001b[0m \u001b[0;34m==\u001b[0m \u001b[0;36m0\u001b[0m\u001b[0;34m:\u001b[0m\u001b[0;34m\u001b[0m\u001b[0;34m\u001b[0m\u001b[0m\n\u001b[1;32m     75\u001b[0m             \u001b[0mlogger\u001b[0m\u001b[0;34m.\u001b[0m\u001b[0minfo\u001b[0m\u001b[0;34m(\u001b[0m\u001b[0;34m'Iteration=%i, Time=%e, dt=%e'\u001b[0m \u001b[0;34m%\u001b[0m\u001b[0;34m(\u001b[0m\u001b[0msolver\u001b[0m\u001b[0;34m.\u001b[0m\u001b[0miteration\u001b[0m\u001b[0;34m,\u001b[0m \u001b[0msolver\u001b[0m\u001b[0;34m.\u001b[0m\u001b[0msim_time\u001b[0m\u001b[0;34m,\u001b[0m \u001b[0mtimestep\u001b[0m\u001b[0;34m)\u001b[0m\u001b[0;34m)\u001b[0m\u001b[0;34m\u001b[0m\u001b[0;34m\u001b[0m\u001b[0m\n",
            "\u001b[0;32m/usr/local/lib/python3.10/dist-packages/dedalus/core/solvers.py\u001b[0m in \u001b[0;36mstep\u001b[0;34m(self, dt)\u001b[0m\n\u001b[1;32m    706\u001b[0m             \u001b[0mself\u001b[0m\u001b[0;34m.\u001b[0m\u001b[0mrun_time_start\u001b[0m \u001b[0;34m=\u001b[0m \u001b[0mself\u001b[0m\u001b[0;34m.\u001b[0m\u001b[0mwall_time\u001b[0m\u001b[0;34m\u001b[0m\u001b[0;34m\u001b[0m\u001b[0m\n\u001b[1;32m    707\u001b[0m         \u001b[0;31m# Advance using timestepper\u001b[0m\u001b[0;34m\u001b[0m\u001b[0;34m\u001b[0m\u001b[0m\n\u001b[0;32m--> 708\u001b[0;31m         \u001b[0mself\u001b[0m\u001b[0;34m.\u001b[0m\u001b[0mtimestepper\u001b[0m\u001b[0;34m.\u001b[0m\u001b[0mstep\u001b[0m\u001b[0;34m(\u001b[0m\u001b[0mdt\u001b[0m\u001b[0;34m,\u001b[0m \u001b[0mwall_time\u001b[0m\u001b[0;34m)\u001b[0m\u001b[0;34m\u001b[0m\u001b[0;34m\u001b[0m\u001b[0m\n\u001b[0m\u001b[1;32m    709\u001b[0m         \u001b[0;31m# Update iteration\u001b[0m\u001b[0;34m\u001b[0m\u001b[0;34m\u001b[0m\u001b[0m\n\u001b[1;32m    710\u001b[0m         \u001b[0mself\u001b[0m\u001b[0;34m.\u001b[0m\u001b[0miteration\u001b[0m \u001b[0;34m+=\u001b[0m \u001b[0;36m1\u001b[0m\u001b[0;34m\u001b[0m\u001b[0;34m\u001b[0m\u001b[0m\n",
            "\u001b[0;32m/usr/local/lib/python3.10/dist-packages/dedalus/core/timesteppers.py\u001b[0m in \u001b[0;36mstep\u001b[0;34m(self, dt, wall_time)\u001b[0m\n\u001b[1;32m    596\u001b[0m                 \u001b[0mevaluator\u001b[0m\u001b[0;34m.\u001b[0m\u001b[0mevaluate_scheduled\u001b[0m\u001b[0;34m(\u001b[0m\u001b[0miteration\u001b[0m\u001b[0;34m=\u001b[0m\u001b[0miteration\u001b[0m\u001b[0;34m,\u001b[0m \u001b[0mwall_time\u001b[0m\u001b[0;34m=\u001b[0m\u001b[0mwall_time\u001b[0m\u001b[0;34m,\u001b[0m \u001b[0msim_time\u001b[0m\u001b[0;34m=\u001b[0m\u001b[0msolver\u001b[0m\u001b[0;34m.\u001b[0m\u001b[0msim_time\u001b[0m\u001b[0;34m,\u001b[0m \u001b[0mtimestep\u001b[0m\u001b[0;34m=\u001b[0m\u001b[0mdt\u001b[0m\u001b[0;34m)\u001b[0m\u001b[0;34m\u001b[0m\u001b[0;34m\u001b[0m\u001b[0m\n\u001b[1;32m    597\u001b[0m             \u001b[0;32melse\u001b[0m\u001b[0;34m:\u001b[0m\u001b[0;34m\u001b[0m\u001b[0;34m\u001b[0m\u001b[0m\n\u001b[0;32m--> 598\u001b[0;31m                 \u001b[0mevaluator\u001b[0m\u001b[0;34m.\u001b[0m\u001b[0mevaluate_group\u001b[0m\u001b[0;34m(\u001b[0m\u001b[0;34m'F'\u001b[0m\u001b[0;34m)\u001b[0m\u001b[0;34m\u001b[0m\u001b[0;34m\u001b[0m\u001b[0m\n\u001b[0m\u001b[1;32m    599\u001b[0m             \u001b[0mFi\u001b[0m \u001b[0;34m=\u001b[0m \u001b[0mF\u001b[0m\u001b[0;34m[\u001b[0m\u001b[0mi\u001b[0m\u001b[0;34m-\u001b[0m\u001b[0;36m1\u001b[0m\u001b[0;34m]\u001b[0m\u001b[0;34m\u001b[0m\u001b[0;34m\u001b[0m\u001b[0m\n\u001b[1;32m    600\u001b[0m             \u001b[0;32mfor\u001b[0m \u001b[0msp\u001b[0m \u001b[0;32min\u001b[0m \u001b[0msubproblems\u001b[0m\u001b[0;34m:\u001b[0m\u001b[0;34m\u001b[0m\u001b[0;34m\u001b[0m\u001b[0m\n",
            "\u001b[0;32m/usr/local/lib/python3.10/dist-packages/dedalus/core/evaluator.py\u001b[0m in \u001b[0;36mevaluate_group\u001b[0;34m(self, group, **kw)\u001b[0m\n\u001b[1;32m     85\u001b[0m         \u001b[0;34m\"\"\"Evaluate all handlers in a group.\"\"\"\u001b[0m\u001b[0;34m\u001b[0m\u001b[0;34m\u001b[0m\u001b[0m\n\u001b[1;32m     86\u001b[0m         \u001b[0mhandlers\u001b[0m \u001b[0;34m=\u001b[0m \u001b[0mself\u001b[0m\u001b[0;34m.\u001b[0m\u001b[0mgroups\u001b[0m\u001b[0;34m[\u001b[0m\u001b[0mgroup\u001b[0m\u001b[0;34m]\u001b[0m\u001b[0;34m\u001b[0m\u001b[0;34m\u001b[0m\u001b[0m\n\u001b[0;32m---> 87\u001b[0;31m         \u001b[0mself\u001b[0m\u001b[0;34m.\u001b[0m\u001b[0mevaluate_handlers\u001b[0m\u001b[0;34m(\u001b[0m\u001b[0mhandlers\u001b[0m\u001b[0;34m,\u001b[0m \u001b[0;34m**\u001b[0m\u001b[0mkw\u001b[0m\u001b[0;34m)\u001b[0m\u001b[0;34m\u001b[0m\u001b[0;34m\u001b[0m\u001b[0m\n\u001b[0m\u001b[1;32m     88\u001b[0m \u001b[0;34m\u001b[0m\u001b[0m\n\u001b[1;32m     89\u001b[0m     \u001b[0;32mdef\u001b[0m \u001b[0mevaluate_scheduled\u001b[0m\u001b[0;34m(\u001b[0m\u001b[0mself\u001b[0m\u001b[0;34m,\u001b[0m \u001b[0;34m**\u001b[0m\u001b[0mkw\u001b[0m\u001b[0;34m)\u001b[0m\u001b[0;34m:\u001b[0m\u001b[0;34m\u001b[0m\u001b[0;34m\u001b[0m\u001b[0m\n",
            "\u001b[0;32m/usr/local/lib/python3.10/dist-packages/dedalus/core/evaluator.py\u001b[0m in \u001b[0;36mevaluate_handlers\u001b[0;34m(self, handlers, id, **kw)\u001b[0m\n\u001b[1;32m    121\u001b[0m             \u001b[0mfields\u001b[0m \u001b[0;34m=\u001b[0m \u001b[0mself\u001b[0m\u001b[0;34m.\u001b[0m\u001b[0mget_fields\u001b[0m\u001b[0;34m(\u001b[0m\u001b[0mtasks\u001b[0m\u001b[0;34m)\u001b[0m\u001b[0;34m\u001b[0m\u001b[0;34m\u001b[0m\u001b[0m\n\u001b[1;32m    122\u001b[0m             \u001b[0;32mif\u001b[0m \u001b[0mcurrent_index\u001b[0m \u001b[0;34m<\u001b[0m \u001b[0mnext_index\u001b[0m\u001b[0;34m:\u001b[0m\u001b[0;34m\u001b[0m\u001b[0;34m\u001b[0m\u001b[0m\n\u001b[0;32m--> 123\u001b[0;31m                 \u001b[0mself\u001b[0m\u001b[0;34m.\u001b[0m\u001b[0mdist\u001b[0m\u001b[0;34m.\u001b[0m\u001b[0mpaths\u001b[0m\u001b[0;34m[\u001b[0m\u001b[0mcurrent_index\u001b[0m\u001b[0;34m]\u001b[0m\u001b[0;34m.\u001b[0m\u001b[0mincrement\u001b[0m\u001b[0;34m(\u001b[0m\u001b[0mfields\u001b[0m\u001b[0;34m)\u001b[0m\u001b[0;34m\u001b[0m\u001b[0;34m\u001b[0m\u001b[0m\n\u001b[0m\u001b[1;32m    124\u001b[0m             \u001b[0;32melse\u001b[0m\u001b[0;34m:\u001b[0m\u001b[0;34m\u001b[0m\u001b[0;34m\u001b[0m\u001b[0m\n\u001b[1;32m    125\u001b[0m                 \u001b[0mself\u001b[0m\u001b[0;34m.\u001b[0m\u001b[0mdist\u001b[0m\u001b[0;34m.\u001b[0m\u001b[0mpaths\u001b[0m\u001b[0;34m[\u001b[0m\u001b[0mnext_index\u001b[0m\u001b[0;34m]\u001b[0m\u001b[0;34m.\u001b[0m\u001b[0mdecrement\u001b[0m\u001b[0;34m(\u001b[0m\u001b[0mfields\u001b[0m\u001b[0;34m)\u001b[0m\u001b[0;34m\u001b[0m\u001b[0;34m\u001b[0m\u001b[0m\n",
            "\u001b[0;32m/usr/local/lib/python3.10/dist-packages/dedalus/core/distributor.py\u001b[0m in \u001b[0;36mincrement\u001b[0;34m(self, fields)\u001b[0m\n\u001b[1;32m    604\u001b[0m         \u001b[0;32melse\u001b[0m\u001b[0;34m:\u001b[0m\u001b[0;34m\u001b[0m\u001b[0;34m\u001b[0m\u001b[0m\n\u001b[1;32m    605\u001b[0m             \u001b[0;32mfor\u001b[0m \u001b[0mfield\u001b[0m \u001b[0;32min\u001b[0m \u001b[0mfields\u001b[0m\u001b[0;34m:\u001b[0m\u001b[0;34m\u001b[0m\u001b[0;34m\u001b[0m\u001b[0m\n\u001b[0;32m--> 606\u001b[0;31m                 \u001b[0mself\u001b[0m\u001b[0;34m.\u001b[0m\u001b[0mincrement_single\u001b[0m\u001b[0;34m(\u001b[0m\u001b[0mfield\u001b[0m\u001b[0;34m)\u001b[0m\u001b[0;34m\u001b[0m\u001b[0;34m\u001b[0m\u001b[0m\n\u001b[0m\u001b[1;32m    607\u001b[0m \u001b[0;34m\u001b[0m\u001b[0m\n\u001b[1;32m    608\u001b[0m     \u001b[0;32mdef\u001b[0m \u001b[0mdecrement\u001b[0m\u001b[0;34m(\u001b[0m\u001b[0mself\u001b[0m\u001b[0;34m,\u001b[0m \u001b[0mfields\u001b[0m\u001b[0;34m)\u001b[0m\u001b[0;34m:\u001b[0m\u001b[0;34m\u001b[0m\u001b[0;34m\u001b[0m\u001b[0m\n",
            "\u001b[0;32m/usr/local/lib/python3.10/dist-packages/dedalus/core/distributor.py\u001b[0m in \u001b[0;36mincrement_single\u001b[0;34m(self, field)\u001b[0m\n\u001b[1;32m    626\u001b[0m         \u001b[0;31m# Transform non-constant bases with local data\u001b[0m\u001b[0;34m\u001b[0m\u001b[0;34m\u001b[0m\u001b[0m\n\u001b[1;32m    627\u001b[0m         \u001b[0;32mif\u001b[0m \u001b[0;34m(\u001b[0m\u001b[0mbasis\u001b[0m \u001b[0;32mis\u001b[0m \u001b[0;32mnot\u001b[0m \u001b[0;32mNone\u001b[0m\u001b[0;34m)\u001b[0m \u001b[0;32mand\u001b[0m \u001b[0mprod\u001b[0m\u001b[0;34m(\u001b[0m\u001b[0mcdata\u001b[0m\u001b[0;34m.\u001b[0m\u001b[0mshape\u001b[0m\u001b[0;34m)\u001b[0m\u001b[0;34m:\u001b[0m\u001b[0;34m\u001b[0m\u001b[0;34m\u001b[0m\u001b[0m\n\u001b[0;32m--> 628\u001b[0;31m             \u001b[0mbasis\u001b[0m\u001b[0;34m.\u001b[0m\u001b[0mbackward_transform\u001b[0m\u001b[0;34m(\u001b[0m\u001b[0mfield\u001b[0m\u001b[0;34m,\u001b[0m \u001b[0maxis\u001b[0m\u001b[0;34m,\u001b[0m \u001b[0mcdata\u001b[0m\u001b[0;34m,\u001b[0m \u001b[0mgdata\u001b[0m\u001b[0;34m)\u001b[0m\u001b[0;34m\u001b[0m\u001b[0;34m\u001b[0m\u001b[0m\n\u001b[0m\u001b[1;32m    629\u001b[0m             \u001b[0;31m#basis.backward_transform(cdata, gdata, axis, field.scales[axis], field.tensorsig)\u001b[0m\u001b[0;34m\u001b[0m\u001b[0;34m\u001b[0m\u001b[0m\n\u001b[1;32m    630\u001b[0m             \u001b[0;31m#plan = basis.transform_plan(cdata.shape, self.axis, field.scales[self.axis], field.dtype)\u001b[0m\u001b[0;34m\u001b[0m\u001b[0;34m\u001b[0m\u001b[0m\n",
            "\u001b[0;32m/usr/local/lib/python3.10/dist-packages/dedalus/core/basis.py\u001b[0m in \u001b[0;36mbackward_transform\u001b[0;34m(self, field, axis, cdata, gdata)\u001b[0m\n\u001b[1;32m   1546\u001b[0m     \u001b[0;32mdef\u001b[0m \u001b[0mbackward_transform\u001b[0m\u001b[0;34m(\u001b[0m\u001b[0mself\u001b[0m\u001b[0;34m,\u001b[0m \u001b[0mfield\u001b[0m\u001b[0;34m,\u001b[0m \u001b[0maxis\u001b[0m\u001b[0;34m,\u001b[0m \u001b[0mcdata\u001b[0m\u001b[0;34m,\u001b[0m \u001b[0mgdata\u001b[0m\u001b[0;34m)\u001b[0m\u001b[0;34m:\u001b[0m\u001b[0;34m\u001b[0m\u001b[0;34m\u001b[0m\u001b[0m\n\u001b[1;32m   1547\u001b[0m         \u001b[0msubaxis\u001b[0m \u001b[0;34m=\u001b[0m \u001b[0maxis\u001b[0m \u001b[0;34m-\u001b[0m \u001b[0mfield\u001b[0m\u001b[0;34m.\u001b[0m\u001b[0mdist\u001b[0m\u001b[0;34m.\u001b[0m\u001b[0mget_basis_axis\u001b[0m\u001b[0;34m(\u001b[0m\u001b[0mself\u001b[0m\u001b[0;34m)\u001b[0m\u001b[0;34m\u001b[0m\u001b[0;34m\u001b[0m\u001b[0m\n\u001b[0;32m-> 1548\u001b[0;31m         \u001b[0;32mreturn\u001b[0m \u001b[0mself\u001b[0m\u001b[0;34m.\u001b[0m\u001b[0mbackward_transforms\u001b[0m\u001b[0;34m[\u001b[0m\u001b[0msubaxis\u001b[0m\u001b[0;34m]\u001b[0m\u001b[0;34m(\u001b[0m\u001b[0mfield\u001b[0m\u001b[0;34m,\u001b[0m \u001b[0maxis\u001b[0m\u001b[0;34m,\u001b[0m \u001b[0mcdata\u001b[0m\u001b[0;34m,\u001b[0m \u001b[0mgdata\u001b[0m\u001b[0;34m)\u001b[0m\u001b[0;34m\u001b[0m\u001b[0;34m\u001b[0m\u001b[0m\n\u001b[0m\u001b[1;32m   1549\u001b[0m \u001b[0;34m\u001b[0m\u001b[0m\n\u001b[1;32m   1550\u001b[0m \u001b[0;34m\u001b[0m\u001b[0m\n",
            "\u001b[0;32m/usr/local/lib/python3.10/dist-packages/dedalus/core/basis.py\u001b[0m in \u001b[0;36mbackward_transform_azimuth\u001b[0;34m(self, field, axis, cdata, gdata)\u001b[0m\n\u001b[1;32m   3091\u001b[0m         \u001b[0;31m#permute_axis(cdata, axis+len(field.tensorsig), self.backward_m_perm, out=cdata)\u001b[0m\u001b[0;34m\u001b[0m\u001b[0;34m\u001b[0m\u001b[0m\n\u001b[1;32m   3092\u001b[0m         \u001b[0;31m# Call Fourier transform\u001b[0m\u001b[0;34m\u001b[0m\u001b[0;34m\u001b[0m\u001b[0m\n\u001b[0;32m-> 3093\u001b[0;31m         \u001b[0mself\u001b[0m\u001b[0;34m.\u001b[0m\u001b[0mazimuth_basis\u001b[0m\u001b[0;34m.\u001b[0m\u001b[0mbackward_transform\u001b[0m\u001b[0;34m(\u001b[0m\u001b[0mfield\u001b[0m\u001b[0;34m,\u001b[0m \u001b[0maxis\u001b[0m\u001b[0;34m,\u001b[0m \u001b[0mcdata\u001b[0m\u001b[0;34m,\u001b[0m \u001b[0mgdata\u001b[0m\u001b[0;34m)\u001b[0m\u001b[0;34m\u001b[0m\u001b[0;34m\u001b[0m\u001b[0m\n\u001b[0m\u001b[1;32m   3094\u001b[0m \u001b[0;34m\u001b[0m\u001b[0m\n\u001b[1;32m   3095\u001b[0m     \u001b[0;32mdef\u001b[0m \u001b[0mbackward_transform_radius\u001b[0m\u001b[0;34m(\u001b[0m\u001b[0mself\u001b[0m\u001b[0;34m,\u001b[0m \u001b[0mfield\u001b[0m\u001b[0;34m,\u001b[0m \u001b[0maxis\u001b[0m\u001b[0;34m,\u001b[0m \u001b[0mcdata\u001b[0m\u001b[0;34m,\u001b[0m \u001b[0mgdata\u001b[0m\u001b[0;34m)\u001b[0m\u001b[0;34m:\u001b[0m\u001b[0;34m\u001b[0m\u001b[0;34m\u001b[0m\u001b[0m\n",
            "\u001b[0;32m/usr/local/lib/python3.10/dist-packages/dedalus/core/basis.py\u001b[0m in \u001b[0;36mbackward_transform\u001b[0;34m(self, field, axis, cdata, gdata)\u001b[0m\n\u001b[1;32m    932\u001b[0m         \u001b[0;31m# Permute coefficients\u001b[0m\u001b[0;34m\u001b[0m\u001b[0;34m\u001b[0m\u001b[0m\n\u001b[1;32m    933\u001b[0m         \u001b[0;32mif\u001b[0m \u001b[0mself\u001b[0m\u001b[0;34m.\u001b[0m\u001b[0mbackward_coeff_permutation\u001b[0m \u001b[0;32mis\u001b[0m \u001b[0;32mnot\u001b[0m \u001b[0;32mNone\u001b[0m\u001b[0;34m:\u001b[0m\u001b[0;34m\u001b[0m\u001b[0;34m\u001b[0m\u001b[0m\n\u001b[0;32m--> 934\u001b[0;31m             \u001b[0mpermute_axis\u001b[0m\u001b[0;34m(\u001b[0m\u001b[0mcdata\u001b[0m\u001b[0;34m,\u001b[0m \u001b[0maxis\u001b[0m\u001b[0;34m+\u001b[0m\u001b[0mlen\u001b[0m\u001b[0;34m(\u001b[0m\u001b[0mfield\u001b[0m\u001b[0;34m.\u001b[0m\u001b[0mtensorsig\u001b[0m\u001b[0;34m)\u001b[0m\u001b[0;34m,\u001b[0m \u001b[0mself\u001b[0m\u001b[0;34m.\u001b[0m\u001b[0mbackward_coeff_permutation\u001b[0m\u001b[0;34m,\u001b[0m \u001b[0mout\u001b[0m\u001b[0;34m=\u001b[0m\u001b[0mcdata\u001b[0m\u001b[0;34m)\u001b[0m\u001b[0;34m\u001b[0m\u001b[0;34m\u001b[0m\u001b[0m\n\u001b[0m\u001b[1;32m    935\u001b[0m         \u001b[0;31m# Transform\u001b[0m\u001b[0;34m\u001b[0m\u001b[0;34m\u001b[0m\u001b[0m\n\u001b[1;32m    936\u001b[0m         \u001b[0msuper\u001b[0m\u001b[0;34m(\u001b[0m\u001b[0;34m)\u001b[0m\u001b[0;34m.\u001b[0m\u001b[0mbackward_transform\u001b[0m\u001b[0;34m(\u001b[0m\u001b[0mfield\u001b[0m\u001b[0;34m,\u001b[0m \u001b[0maxis\u001b[0m\u001b[0;34m,\u001b[0m \u001b[0mcdata\u001b[0m\u001b[0;34m,\u001b[0m \u001b[0mgdata\u001b[0m\u001b[0;34m)\u001b[0m\u001b[0;34m\u001b[0m\u001b[0;34m\u001b[0m\u001b[0m\n",
            "\u001b[0;32m/usr/local/lib/python3.10/dist-packages/dedalus/tools/array.py\u001b[0m in \u001b[0;36mpermute_axis\u001b[0;34m(array, axis, permutation, out)\u001b[0m\n\u001b[1;32m    345\u001b[0m         \u001b[0;32mreturn\u001b[0m \u001b[0mperm\u001b[0m\u001b[0;34m\u001b[0m\u001b[0;34m\u001b[0m\u001b[0m\n\u001b[1;32m    346\u001b[0m     \u001b[0;32melse\u001b[0m\u001b[0;34m:\u001b[0m\u001b[0;34m\u001b[0m\u001b[0;34m\u001b[0m\u001b[0m\n\u001b[0;32m--> 347\u001b[0;31m         \u001b[0mnp\u001b[0m\u001b[0;34m.\u001b[0m\u001b[0mcopyto\u001b[0m\u001b[0;34m(\u001b[0m\u001b[0mout\u001b[0m\u001b[0;34m,\u001b[0m \u001b[0mperm\u001b[0m\u001b[0;34m)\u001b[0m\u001b[0;34m\u001b[0m\u001b[0;34m\u001b[0m\u001b[0m\n\u001b[0m\u001b[1;32m    348\u001b[0m         \u001b[0;32mreturn\u001b[0m \u001b[0mout\u001b[0m\u001b[0;34m\u001b[0m\u001b[0;34m\u001b[0m\u001b[0m\n\u001b[1;32m    349\u001b[0m \u001b[0;34m\u001b[0m\u001b[0m\n",
            "\u001b[0;31mKeyboardInterrupt\u001b[0m: "
          ]
        }
      ],
      "source": [
        "# Import the required packages\n",
        "import numpy as np\n",
        "import dedalus.public as dedalus\n",
        "import logging\n",
        "import matplotlib.pyplot as plt\n",
        "\n",
        "logger = logging.getLogger(__name__)\n",
        "\n",
        "# Define the simulation units. This is optional, but will help us keep track of units\n",
        "meter = 1\n",
        "kilometer = meter * 1e3\n",
        "second = 1\n",
        "minute = 60\n",
        "hour = 3600\n",
        "day = hour * 24\n",
        "\n",
        "# Parameters\n",
        "Nphi = 128 # Number of gridpoints in phi (longitude)\n",
        "Ntheta = 64 # Number of gridpoints in theta (colatitude)\n",
        "R = 6.37122e3 * kilometer\n",
        "Omega = 2 * np.pi / (1 * day) # Earth's angular velocity in radians per second\n",
        "g = 9.80616 * meter / second**2 # Gravitational acceleration\n",
        "H = 4 * kilometer # Depth of the ocean\n",
        "width = 2*np.pi*10/360 # Width of the initial Gaussian in radians\n",
        "phi0 = np.pi # Longitude of the initial Gaussian height perturbation in radians\n",
        "theta0 = np.pi/4 # Colatitude of the initial Gaussian height perturbation in radians\n",
        "\n",
        "timestep = 600 * second\n",
        "stop_sim_time = 10 * day\n",
        "\n",
        "# Bases\n",
        "coords = dedalus.S2Coordinates('phi', 'theta')\n",
        "dist = dedalus.Distributor(coords, dtype=np.float64)\n",
        "basis = dedalus.SphereBasis(coords, (Nphi, Ntheta), radius=R, dealias=3/2, dtype=np.float64)\n",
        "\n",
        "# Define the coordinates\n",
        "phi, theta = dist.local_grids(basis) # Longitude and colatitude\n",
        "lat = 360*(np.pi / 2 - theta)/(2*np.pi)  # latitude in degrees\n",
        "\n",
        "# Fields\n",
        "u = dist.VectorField(coords, name='u', bases=basis)\n",
        "h = dist.Field(name='h', bases=basis)\n",
        "\n",
        "# Operators\n",
        "# First, create an operator to perform the cross product: \"z x \", where z is the local vertical unit vector\n",
        "# The \"skew\" operator performs a 90 degree rotation of a vector field,\n",
        "# so that skew([u,v]) = [-v, u].  MulCosine multiplies by the cosine of the latitude\n",
        "zcross = lambda A: dedalus.MulCosine(dedalus.skew(A))\n",
        "\n",
        "# Set the initial conditions\n",
        "h.change_scales(1) # Set values on regular grid\n",
        "u.change_scales(1)\n",
        "h['g'] = np.exp(-((phi-phi0)**2+(theta-theta0)**2)/width**2)  # Initialize the dependent variable c with a Gaussian function (note ** is the exponentiation operator)\n",
        "# Set the initial velocity to zero\n",
        "u['g'][0] = 0 # the x-component of the velocity\n",
        "u['g'][1] = 0 # the y-component of the velocity\n",
        "\n",
        "# Problem\n",
        "problem = dedalus.IVP([u, h], namespace=locals())\n",
        "problem.add_equation(\"dt(u) + g*grad(h) + 2*Omega*zcross(u) = - u@grad(u)\")\n",
        "problem.add_equation(\"dt(h) + H*div(u) = - div(h*u)\")\n",
        "\n",
        "# Solver\n",
        "solver = problem.build_solver(dedalus.RK222)\n",
        "solver.stop_sim_time = stop_sim_time\n",
        "\n",
        "h.change_scales(1)\n",
        "h_save = [np.copy(h['g'])]; t_save = [solver.sim_time]; # Save the initial condition and the initial time\n",
        "# Main loop\n",
        "try:\n",
        "    logger.info('Starting main loop')\n",
        "    while solver.proceed:\n",
        "        solver.step(timestep)\n",
        "        if (solver.iteration-1) % 10 == 0:\n",
        "            logger.info('Iteration=%i, Time=%e, dt=%e' %(solver.iteration, solver.sim_time, timestep))\n",
        "            h.change_scales(1)\n",
        "            h_save.append(np.copy(h['g']))\n",
        "            t_save.append(solver.sim_time)\n",
        "except:\n",
        "    logger.error('Exception raised, triggering end of main loop.')\n",
        "    raise\n",
        "finally:\n",
        "    solver.log_stats()\n",
        "\n",
        "h_save = np.array(h_save)"
      ]
    },
    {
      "cell_type": "markdown",
      "metadata": {
        "id": "Wqp__7bZFPzV"
      },
      "source": [
        "### 3.2  Plotting\n",
        "The code below will make a movie of the height as a function of x and y"
      ]
    },
    {
      "cell_type": "code",
      "execution_count": null,
      "metadata": {
        "id": "GMPNU6PfFPzV"
      },
      "outputs": [],
      "source": [
        "# create a figure and axes\n",
        "fig = plt.figure(figsize=(12,6))\n",
        "\n",
        "# Create arrays with the latitude and longitude coordinates for plotting using pcolor\n",
        "from dedalus.extras import plot_tools\n",
        "(X, Y) = plot_tools.quad_mesh(np.squeeze(np.pi/2 - theta)*360/2/np.pi, np.squeeze(phi)*360/2/np.pi)\n",
        "\n",
        "# Define an animation function\n",
        "def drawframe(n):\n",
        "    plt.clf()\n",
        "    height = plt.pcolor(Y, X, h_save[n,:,:], vmin=-0.1, vmax=0.1)\n",
        "    # Specify the axis limits and labels\n",
        "    plt.xlabel('Longitude')\n",
        "    plt.ylabel('Latitude')\n",
        "    plt.title('Surface height (m), time = {0:.2f} hours'.format(t_save[n]/(1*hour)))\n",
        "    return (height,)\n",
        "\n",
        "from matplotlib import animation\n",
        "# blit=True re-draws only the parts that have changed.\n",
        "anim = animation.FuncAnimation(fig, drawframe, frames=len(t_save), interval=40, blit=True)\n",
        "\n",
        "from IPython.display import HTML\n",
        "HTML(anim.to_html5_video())"
      ]
    },
    {
      "cell_type": "markdown",
      "metadata": {
        "id": "JJ4kCoBYFPzV"
      },
      "source": [
        "### 3.3 Student investigation\n",
        "<a id='section3pt3'></a>\n",
        "Create a virtual tide gauge by sampling the height at a point at a latitude of 45ºN and longitude of 90ºW and plot the timeseries of the height at this point in the cells below. Notice that as the gravity waves propagate around the Earth, their shape changes. Discuss physical mechanisms that might cause the shape of the wave to change as the wave propagates."
      ]
    },
    {
      "cell_type": "markdown",
      "metadata": {
        "id": "oZMbcr0CFPzV"
      },
      "source": [
        "ADD PLOTS AND DISCUSSION HERE"
      ]
    },
    {
      "cell_type": "markdown",
      "metadata": {
        "id": "z0in07RPFPzW"
      },
      "source": [
        "In the simulation above, the Tsunami wave travels around the planet many times. In reality, the waves will partially dissipate when they reach shorelines. In the spherical shallow water equation code above (or in a new code block below), add a forcing term to the shallow water equations that damps the waves for longitudes larger than $\\pm 90^\\circ$. Specifically, add a forcing function to the right hand side of the height equation of the following form:\n",
        "\n",
        "$$ - (1/\\tau) f(\\phi) h$$\n",
        "\n",
        "where\n",
        "\n",
        "$$ f(\\phi) = \\frac{1}{2}\\left(1+tanh\\left(\\frac{\\phi-3\\pi/2}{\\pi/10}\\right)\\right) + \\frac{1}{2}\\left(1-tanh\\left(\\frac{\\phi-\\pi/2}{\\pi/10}\\right)\\right) $$\n",
        "\n",
        "and $\\phi$ is the co-latitude in radians and $\\tau$ is a damping timescale. A timescale of $\\tau=0.1$ days should be sufficient to damp the waves.\n",
        "\n",
        "With this damping term active, much more slowly propagating waves should be visible. These are shallow water Rossby waves. Estimate the east/west phase speed of these Rossby waves and compare them with the phase speed that you can infer from the simulation by plotting the height, $h$, as a function of longitude and time. Discuss the spatial structure of the Rossby waves and any discrepancies that you see between your estimated and measured phase speeds."
      ]
    },
    {
      "cell_type": "code",
      "execution_count": null,
      "metadata": {
        "id": "8gxD5eIoFPzW"
      },
      "outputs": [],
      "source": [
        "# ADD CODE HERE TO SOLVE THE SHALLOW WATER EQUATIONS WITH DAMPING.\n",
        "# YOU CAN START BY COPYING THE CODE ABOVE AND PASTING IT HERE"
      ]
    },
    {
      "cell_type": "markdown",
      "metadata": {
        "id": "3zq2IM5CFPzW"
      },
      "source": [
        "## 4. Optional further investigations\n",
        "\n",
        "* In the example of the shallow water equations on a sphere, introduce bathymetry by making $H$ a function of latitude and longitude. Make sure that you modify the equations in Dedalus appropriately. How do the waves behave when they encounter shallow water (e.g. a localized seamount)?\n",
        "\n",
        "* It is quite difficult to simulate changing sea level (sometimes called wetting and drying), which is why the examples above do not include land. However, we can estimate the distance that a Tsunami will propagate using physical and dimensional arguments. Consider, for example, a flat, sloping beach. In the absence of energy dissipation, estimate the distance that a wave will propagate onshore. How could you modify this estimate to include energy dissipation (or drag)?"
      ]
    }
  ],
  "metadata": {
    "kernelspec": {
      "display_name": "dedalus3",
      "language": "python",
      "name": "python3"
    },
    "language_info": {
      "codemirror_mode": {
        "name": "ipython",
        "version": 3
      },
      "file_extension": ".py",
      "mimetype": "text/x-python",
      "name": "python",
      "nbconvert_exporter": "python",
      "pygments_lexer": "ipython3",
      "version": "3.12.2"
    },
    "colab": {
      "provenance": [],
      "include_colab_link": true
    }
  },
  "nbformat": 4,
  "nbformat_minor": 0
}